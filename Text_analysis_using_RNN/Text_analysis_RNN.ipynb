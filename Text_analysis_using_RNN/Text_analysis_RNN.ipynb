{
 "cells": [
  {
   "cell_type": "markdown",
   "metadata": {
    "colab_type": "text",
    "id": "RGCW4dqx-bOy"
   },
   "source": [
    "# Assignment 1 for FIT5212, Semester 1, 2020\n",
    "\n",
    "**Student Name:**  Manoj Renu kumar\n",
    "\n",
    "**Student ID:**    30287804"
   ]
  },
  {
   "cell_type": "markdown",
   "metadata": {
    "colab_type": "text",
    "id": "9JHbCyPfMfbb"
   },
   "source": [
    "# Part 1:  Text Classification"
   ]
  },
  {
   "cell_type": "markdown",
   "metadata": {},
   "source": [
    "### Part 1: Neural Network Method"
   ]
  },
  {
   "cell_type": "markdown",
   "metadata": {},
   "source": [
    "### Pre-processing for Neural Network "
   ]
  },
  {
   "cell_type": "code",
   "execution_count": 5,
   "metadata": {},
   "outputs": [],
   "source": [
    "import pandas as pd\n",
    "import numpy as np\n",
    "from sklearn import preprocessing\n",
    "import pandas as pd\n",
    "from functools import reduce\n",
    "from nltk.corpus import stopwords\n",
    "import re\n",
    "from nltk.tokenize import word_tokenize\n",
    "import nltk"
   ]
  },
  {
   "cell_type": "code",
   "execution_count": 6,
   "metadata": {},
   "outputs": [
    {
     "data": {
      "text/html": [
       "<div>\n",
       "<style scoped>\n",
       "    .dataframe tbody tr th:only-of-type {\n",
       "        vertical-align: middle;\n",
       "    }\n",
       "\n",
       "    .dataframe tbody tr th {\n",
       "        vertical-align: top;\n",
       "    }\n",
       "\n",
       "    .dataframe thead th {\n",
       "        text-align: right;\n",
       "    }\n",
       "</style>\n",
       "<table border=\"1\" class=\"dataframe\">\n",
       "  <thead>\n",
       "    <tr style=\"text-align: right;\">\n",
       "      <th></th>\n",
       "      <th>ID</th>\n",
       "      <th>URL</th>\n",
       "      <th>Date</th>\n",
       "      <th>Title</th>\n",
       "      <th>InfoTheory</th>\n",
       "      <th>CompVis</th>\n",
       "      <th>Math</th>\n",
       "      <th>Abstract</th>\n",
       "    </tr>\n",
       "  </thead>\n",
       "  <tbody>\n",
       "    <tr>\n",
       "      <th>0</th>\n",
       "      <td>cs-9301111</td>\n",
       "      <td>arxiv.org/abs/cs/9301111</td>\n",
       "      <td>1989-12-31</td>\n",
       "      <td>Nested satisfiability</td>\n",
       "      <td>0</td>\n",
       "      <td>0</td>\n",
       "      <td>0</td>\n",
       "      <td>Nested satisfiability A special case of the s...</td>\n",
       "    </tr>\n",
       "    <tr>\n",
       "      <th>1</th>\n",
       "      <td>cs-9301112</td>\n",
       "      <td>arxiv.org/abs/cs/9301112</td>\n",
       "      <td>1990-03-31</td>\n",
       "      <td>A note on digitized angles</td>\n",
       "      <td>0</td>\n",
       "      <td>0</td>\n",
       "      <td>0</td>\n",
       "      <td>A note on digitized angles We study the confi...</td>\n",
       "    </tr>\n",
       "    <tr>\n",
       "      <th>2</th>\n",
       "      <td>cs-9301113</td>\n",
       "      <td>arxiv.org/abs/cs/9301113</td>\n",
       "      <td>1991-07-31</td>\n",
       "      <td>Textbook examples of recursion</td>\n",
       "      <td>0</td>\n",
       "      <td>0</td>\n",
       "      <td>0</td>\n",
       "      <td>Textbook examples of recursion We discuss pro...</td>\n",
       "    </tr>\n",
       "    <tr>\n",
       "      <th>3</th>\n",
       "      <td>cs-9301114</td>\n",
       "      <td>arxiv.org/abs/cs/9301114</td>\n",
       "      <td>1991-10-31</td>\n",
       "      <td>Theory and practice</td>\n",
       "      <td>0</td>\n",
       "      <td>0</td>\n",
       "      <td>0</td>\n",
       "      <td>Theory and practice The author argues to Sili...</td>\n",
       "    </tr>\n",
       "    <tr>\n",
       "      <th>4</th>\n",
       "      <td>cs-9301115</td>\n",
       "      <td>arxiv.org/abs/cs/9301115</td>\n",
       "      <td>1991-11-30</td>\n",
       "      <td>Context-free multilanguages</td>\n",
       "      <td>0</td>\n",
       "      <td>0</td>\n",
       "      <td>0</td>\n",
       "      <td>Context-free multilanguages This article is a...</td>\n",
       "    </tr>\n",
       "  </tbody>\n",
       "</table>\n",
       "</div>"
      ],
      "text/plain": [
       "           ID                       URL        Date  \\\n",
       "0  cs-9301111  arxiv.org/abs/cs/9301111  1989-12-31   \n",
       "1  cs-9301112  arxiv.org/abs/cs/9301112  1990-03-31   \n",
       "2  cs-9301113  arxiv.org/abs/cs/9301113  1991-07-31   \n",
       "3  cs-9301114  arxiv.org/abs/cs/9301114  1991-10-31   \n",
       "4  cs-9301115  arxiv.org/abs/cs/9301115  1991-11-30   \n",
       "\n",
       "                            Title  InfoTheory  CompVis  Math  \\\n",
       "0           Nested satisfiability           0        0     0   \n",
       "1      A note on digitized angles           0        0     0   \n",
       "2  Textbook examples of recursion           0        0     0   \n",
       "3             Theory and practice           0        0     0   \n",
       "4     Context-free multilanguages           0        0     0   \n",
       "\n",
       "                                            Abstract  \n",
       "0   Nested satisfiability A special case of the s...  \n",
       "1   A note on digitized angles We study the confi...  \n",
       "2   Textbook examples of recursion We discuss pro...  \n",
       "3   Theory and practice The author argues to Sili...  \n",
       "4   Context-free multilanguages This article is a...  "
      ]
     },
     "execution_count": 6,
     "metadata": {},
     "output_type": "execute_result"
    }
   ],
   "source": [
    "data = pd.read_csv('axcs_train.csv')\n",
    "data.head()"
   ]
  },
  {
   "cell_type": "code",
   "execution_count": 7,
   "metadata": {},
   "outputs": [],
   "source": [
    "puncts = [',', '.', '\"', ':', ')', '(', '-', '!', '?', '|', ';', \"'\", '$', '&', '/', '[', ']', '>', '%', '=', '#', '*', '+', '\\\\', '•',  '~', '@', '£', \n",
    " '·', '_', '{', '}', '©', '^', '®', '`',  '<', '→', '°', '€', '™', '›',  '♥', '←', '×', '§', '″', '′', 'Â', '█', '½', 'à', '…', \n",
    " '“', '★', '”', '–', '●', 'â', '►', '−', '¢', '²', '¬', '░', '¶', '↑', '±', '¿', '▾', '═', '¦', '║', '―', '¥', '▓', '—', '‹', '─', \n",
    " '▒', '：', '¼', '⊕', '▼', '▪', '†', '■', '’', '▀', '¨', '▄', '♫', '☆', 'é', '¯', '♦', '¤', '▲', 'è', '¸', '¾', 'Ã', '⋅', '‘', '∞', \n",
    " '∙', '）', '↓', '、', '│', '（', '»', '，', '♪', '╩', '╚', '³', '・', '╦', '╣', '╔', '╗', '▬', '❤', 'ï', 'Ø', '¹', '≤', '‡', '√', ]"
   ]
  },
  {
   "cell_type": "code",
   "execution_count": 8,
   "metadata": {},
   "outputs": [],
   "source": [
    "contraction_dict = {\"ain't\": \"is not\", \"aren't\": \"are not\",\"can't\": \"cannot\", \"'cause\": \"because\", \"could've\": \"could have\", \"couldn't\": \"could not\", \"didn't\": \"did not\",  \"doesn't\": \"does not\", \"don't\": \"do not\", \"hadn't\": \"had not\", \"hasn't\": \"has not\", \"haven't\": \"have not\", \"he'd\": \"he would\",\"he'll\": \"he will\", \"he's\": \"he is\", \"how'd\": \"how did\", \"how'd'y\": \"how do you\", \"how'll\": \"how will\", \"how's\": \"how is\",  \"I'd\": \"I would\", \"I'd've\": \"I would have\", \"I'll\": \"I will\", \"I'll've\": \"I will have\",\"I'm\": \"I am\", \"I've\": \"I have\", \"i'd\": \"i would\", \"i'd've\": \"i would have\", \"i'll\": \"i will\",  \"i'll've\": \"i will have\",\"i'm\": \"i am\", \"i've\": \"i have\", \"isn't\": \"is not\", \"it'd\": \"it would\", \"it'd've\": \"it would have\", \"it'll\": \"it will\", \"it'll've\": \"it will have\",\"it's\": \"it is\", \"let's\": \"let us\", \"ma'am\": \"madam\", \"mayn't\": \"may not\", \"might've\": \"might have\",\"mightn't\": \"might not\",\"mightn't've\": \"might not have\", \"must've\": \"must have\", \"mustn't\": \"must not\", \"mustn't've\": \"must not have\", \"needn't\": \"need not\", \"needn't've\": \"need not have\",\"o'clock\": \"of the clock\", \"oughtn't\": \"ought not\", \"oughtn't've\": \"ought not have\", \"shan't\": \"shall not\", \"sha'n't\": \"shall not\", \"shan't've\": \"shall not have\", \"she'd\": \"she would\", \"she'd've\": \"she would have\", \"she'll\": \"she will\", \"she'll've\": \"she will have\", \"she's\": \"she is\", \"should've\": \"should have\", \"shouldn't\": \"should not\", \"shouldn't've\": \"should not have\", \"so've\": \"so have\",\"so's\": \"so as\", \"this's\": \"this is\",\"that'd\": \"that would\", \"that'd've\": \"that would have\", \"that's\": \"that is\", \"there'd\": \"there would\", \"there'd've\": \"there would have\", \"there's\": \"there is\", \"here's\": \"here is\",\"they'd\": \"they would\", \"they'd've\": \"they would have\", \"they'll\": \"they will\", \"they'll've\": \"they will have\", \"they're\": \"they are\", \"they've\": \"they have\", \"to've\": \"to have\", \"wasn't\": \"was not\", \"we'd\": \"we would\", \"we'd've\": \"we would have\", \"we'll\": \"we will\", \"we'll've\": \"we will have\", \"we're\": \"we are\", \"we've\": \"we have\", \"weren't\": \"were not\", \"what'll\": \"what will\", \"what'll've\": \"what will have\", \"what're\": \"what are\",  \"what's\": \"what is\", \"what've\": \"what have\", \"when's\": \"when is\", \"when've\": \"when have\", \"where'd\": \"where did\", \"where's\": \"where is\", \"where've\": \"where have\", \"who'll\": \"who will\", \"who'll've\": \"who will have\", \"who's\": \"who is\", \"who've\": \"who have\", \"why's\": \"why is\", \"why've\": \"why have\", \"will've\": \"will have\", \"won't\": \"will not\", \"won't've\": \"will not have\", \"would've\": \"would have\", \"wouldn't\": \"would not\", \"wouldn't've\": \"would not have\", \"y'all\": \"you all\", \"y'all'd\": \"you all would\",\"y'all'd've\": \"you all would have\",\"y'all're\": \"you all are\",\"y'all've\": \"you all have\",\"you'd\": \"you would\", \"you'd've\": \"you would have\", \"you'll\": \"you will\", \"you'll've\": \"you will have\", \"you're\": \"you are\", \"you've\": \"you have\"}\n"
   ]
  },
  {
   "cell_type": "code",
   "execution_count": 9,
   "metadata": {},
   "outputs": [],
   "source": [
    "def clean_text(x):\n",
    "    x = str(x)\n",
    "    for punct in puncts:\n",
    "        if punct in x:\n",
    "            x = x.replace(punct, '')\n",
    "    return x\n",
    "\n",
    "def clean_numbers(x):\n",
    "    if bool(re.search(r'\\d', x)):\n",
    "        x = re.sub('[0-9]{5,}', '#####', x)\n",
    "        x = re.sub('[0-9]{4}', '####', x)\n",
    "        x = re.sub('[0-9]{3}', '###', x)\n",
    "        x = re.sub('[0-9]{2}', '##', x)\n",
    "    return x\n",
    "\n",
    "def _get_contractions(contraction_dict):\n",
    "    contraction_re = re.compile('(%s)' % '|'.join(contraction_dict.keys()))\n",
    "    return contraction_dict, contraction_re\n",
    "\n",
    "contractions, contractions_re = _get_contractions(contraction_dict)\n",
    "\n",
    "def replace_contractions(text):\n",
    "    def replace(match):\n",
    "        return contractions[match.group(0)]\n",
    "    return contractions_re.sub(replace, text)\n",
    "\n",
    "stop_words= set(stopwords.words('english'))\n",
    "\n",
    "def stop_words_removal(s):\n",
    "    stops_no = ' '.join(word for word in s.split() if word not in stop_words)\n",
    "    return stops_no\n",
    "W_tokenizer = nltk.tokenize.WhitespaceTokenizer()\n",
    "lemmatizer = nltk.stem.WordNetLemmatizer()\n",
    "\n",
    "from nltk.stem.wordnet import WordNetLemmatizer\n",
    "def lem_text(text):\n",
    "    return [lemmatizer.lemmatize(w) for w in W_tokenizer.tokenize(text)]\n",
    "    "
   ]
  },
  {
   "cell_type": "code",
   "execution_count": 10,
   "metadata": {},
   "outputs": [],
   "source": [
    "Abstract=data.Abstract"
   ]
  },
  {
   "cell_type": "code",
   "execution_count": 11,
   "metadata": {},
   "outputs": [],
   "source": [
    "cleaning_data= []\n",
    "for i in Abstract:\n",
    "    Clean_data= clean_text(i)\n",
    "    cleaning_data.append(Clean_data)"
   ]
  },
  {
   "cell_type": "code",
   "execution_count": 12,
   "metadata": {},
   "outputs": [],
   "source": [
    "list_b = []\n",
    "for i in cleaning_data:\n",
    "    b= clean_numbers(i)\n",
    "    list_b.append(b)"
   ]
  },
  {
   "cell_type": "code",
   "execution_count": 13,
   "metadata": {},
   "outputs": [],
   "source": [
    "list_c =[]\n",
    "for i in list_b:\n",
    "    d=replace_contractions(i)\n",
    "    list_c.append(d)"
   ]
  },
  {
   "cell_type": "code",
   "execution_count": 14,
   "metadata": {},
   "outputs": [],
   "source": [
    "data['Abstract_clean'] = pd.DataFrame(list_c)\n",
    "data['Abstract_clean']=data['Abstract_clean'].str.lower()"
   ]
  },
  {
   "cell_type": "code",
   "execution_count": 15,
   "metadata": {},
   "outputs": [],
   "source": [
    "data.loc[:,\"Abstract_data\"] =  data.Abstract_clean.apply(lambda x:stop_words_removal(x))\n",
    "data.loc[:,\"Abstract_data\"] = data.Abstract_data.apply(lem_text)\n",
    "data.loc[:,\"Abstract_data\"] = data.Abstract_data.apply(lambda x :\" \".join(x))\n",
    "data=data.drop(['Abstract'], axis=1)\n",
    "data=data.drop(['Abstract_clean'], axis=1)\n",
    "data=data.rename(columns={'Abstract_data':'Abstract'})\n",
    "data.to_csv(\"data_train_axcs.csv\", index=False)"
   ]
  },
  {
   "cell_type": "markdown",
   "metadata": {},
   "source": [
    "# Test_data"
   ]
  },
  {
   "cell_type": "code",
   "execution_count": 16,
   "metadata": {},
   "outputs": [
    {
     "data": {
      "text/html": [
       "<div>\n",
       "<style scoped>\n",
       "    .dataframe tbody tr th:only-of-type {\n",
       "        vertical-align: middle;\n",
       "    }\n",
       "\n",
       "    .dataframe tbody tr th {\n",
       "        vertical-align: top;\n",
       "    }\n",
       "\n",
       "    .dataframe thead th {\n",
       "        text-align: right;\n",
       "    }\n",
       "</style>\n",
       "<table border=\"1\" class=\"dataframe\">\n",
       "  <thead>\n",
       "    <tr style=\"text-align: right;\">\n",
       "      <th></th>\n",
       "      <th>ID</th>\n",
       "      <th>URL</th>\n",
       "      <th>Date</th>\n",
       "      <th>Title</th>\n",
       "      <th>InfoTheory</th>\n",
       "      <th>CompVis</th>\n",
       "      <th>Math</th>\n",
       "      <th>Abstract</th>\n",
       "    </tr>\n",
       "  </thead>\n",
       "  <tbody>\n",
       "    <tr>\n",
       "      <th>0</th>\n",
       "      <td>no-150100335</td>\n",
       "      <td>arxiv.org/abs/1501.00335</td>\n",
       "      <td>1/1/15</td>\n",
       "      <td>A Data Transparency Framework for Mobile Appli...</td>\n",
       "      <td>0</td>\n",
       "      <td>0</td>\n",
       "      <td>0</td>\n",
       "      <td>A Data Transparency Framework for Mobile Appl...</td>\n",
       "    </tr>\n",
       "    <tr>\n",
       "      <th>1</th>\n",
       "      <td>no-14024178</td>\n",
       "      <td>arxiv.org/abs/1402.4178</td>\n",
       "      <td>1/1/15</td>\n",
       "      <td>A reclaimer scheduling problem arising in coal...</td>\n",
       "      <td>0</td>\n",
       "      <td>0</td>\n",
       "      <td>0</td>\n",
       "      <td>A reclaimer scheduling problem arising in coa...</td>\n",
       "    </tr>\n",
       "    <tr>\n",
       "      <th>2</th>\n",
       "      <td>no-150100263</td>\n",
       "      <td>arxiv.org/abs/1501.00263</td>\n",
       "      <td>1/1/15</td>\n",
       "      <td>Communication-Efficient Distributed Optimizati...</td>\n",
       "      <td>0</td>\n",
       "      <td>0</td>\n",
       "      <td>1</td>\n",
       "      <td>Communication-Efficient Distributed Optimizat...</td>\n",
       "    </tr>\n",
       "    <tr>\n",
       "      <th>3</th>\n",
       "      <td>no-150100287</td>\n",
       "      <td>arxiv.org/abs/1501.00287</td>\n",
       "      <td>1/1/15</td>\n",
       "      <td>Consistent Classification Algorithms for Multi...</td>\n",
       "      <td>0</td>\n",
       "      <td>0</td>\n",
       "      <td>0</td>\n",
       "      <td>Consistent Classification Algorithms for Mult...</td>\n",
       "    </tr>\n",
       "    <tr>\n",
       "      <th>4</th>\n",
       "      <td>no-11070586</td>\n",
       "      <td>arxiv.org/abs/1107.0586</td>\n",
       "      <td>1/1/15</td>\n",
       "      <td>Managing key multicasting through orthogonal s...</td>\n",
       "      <td>0</td>\n",
       "      <td>0</td>\n",
       "      <td>0</td>\n",
       "      <td>Managing key multicasting through orthogonal ...</td>\n",
       "    </tr>\n",
       "  </tbody>\n",
       "</table>\n",
       "</div>"
      ],
      "text/plain": [
       "             ID                       URL    Date  \\\n",
       "0  no-150100335  arxiv.org/abs/1501.00335  1/1/15   \n",
       "1   no-14024178   arxiv.org/abs/1402.4178  1/1/15   \n",
       "2  no-150100263  arxiv.org/abs/1501.00263  1/1/15   \n",
       "3  no-150100287  arxiv.org/abs/1501.00287  1/1/15   \n",
       "4   no-11070586   arxiv.org/abs/1107.0586  1/1/15   \n",
       "\n",
       "                                               Title  InfoTheory  CompVis  \\\n",
       "0  A Data Transparency Framework for Mobile Appli...           0        0   \n",
       "1  A reclaimer scheduling problem arising in coal...           0        0   \n",
       "2  Communication-Efficient Distributed Optimizati...           0        0   \n",
       "3  Consistent Classification Algorithms for Multi...           0        0   \n",
       "4  Managing key multicasting through orthogonal s...           0        0   \n",
       "\n",
       "   Math                                           Abstract  \n",
       "0     0   A Data Transparency Framework for Mobile Appl...  \n",
       "1     0   A reclaimer scheduling problem arising in coa...  \n",
       "2     1   Communication-Efficient Distributed Optimizat...  \n",
       "3     0   Consistent Classification Algorithms for Mult...  \n",
       "4     0   Managing key multicasting through orthogonal ...  "
      ]
     },
     "execution_count": 16,
     "metadata": {},
     "output_type": "execute_result"
    }
   ],
   "source": [
    "data_test= pd.read_csv(\"axcs_test.csv\")\n",
    "data_test.head()"
   ]
  },
  {
   "cell_type": "code",
   "execution_count": 17,
   "metadata": {},
   "outputs": [],
   "source": [
    "Abstract_test=data.Abstract"
   ]
  },
  {
   "cell_type": "code",
   "execution_count": 18,
   "metadata": {},
   "outputs": [],
   "source": [
    "cleaning_data_test= []\n",
    "for i in Abstract_test:\n",
    "    Clean_data_test= clean_text(i)\n",
    "    cleaning_data_test.append(Clean_data_test)"
   ]
  },
  {
   "cell_type": "code",
   "execution_count": 19,
   "metadata": {},
   "outputs": [],
   "source": [
    "list_b_test = []\n",
    "for i in cleaning_data_test:\n",
    "    b_test= clean_numbers(i)\n",
    "    list_b_test.append(b_test)"
   ]
  },
  {
   "cell_type": "code",
   "execution_count": 20,
   "metadata": {},
   "outputs": [],
   "source": [
    "list_c_test =[]\n",
    "for i in list_b_test:\n",
    "    d_test=replace_contractions(i)\n",
    "    list_c_test.append(d_test)"
   ]
  },
  {
   "cell_type": "code",
   "execution_count": 21,
   "metadata": {},
   "outputs": [],
   "source": [
    "data_test['Abstract_clean_test'] = pd.DataFrame(list_c)\n",
    "data_test['Abstract_clean_test']=data_test['Abstract_clean_test'].str.lower()\n",
    "data_test.loc[:,\"Abstract_data\"] =  data_test.Abstract_clean_test.apply(lambda x:stop_words_removal(x))\n",
    "data_test.loc[:,\"Abstract_data\"] = data_test.Abstract_data.apply(lem_text)\n",
    "data_test.loc[:,\"Abstract_data\"] = data_test.Abstract_data.apply(lambda x :\" \".join(x))\n",
    "data_test=data_test.drop(['Abstract'], axis=1)\n",
    "data_test=data_test.drop(['Abstract_clean_test'], axis=1)\n",
    "data_test=data_test.rename(columns={'Abstract_data':'Abstract'})\n",
    "data_test.to_csv(\"data_test_axcs.csv\", index=False)"
   ]
  },
  {
   "cell_type": "markdown",
   "metadata": {},
   "source": [
    "# RNN "
   ]
  },
  {
   "cell_type": "markdown",
   "metadata": {
    "colab_type": "text",
    "id": "V6ZB7yH2MZuF"
   },
   "source": [
    "In the below code block we have set the seed so that when we run the code each time the output and the random values that we have assigned should not change.\n",
    "\n",
    "<b>Field</b>- This defines a datatype and also the Instruction together for the convertion to Tensor, And then this takes many parameter and in that we have taken 3 i,e. <b>sequential</b>, <b>Tokenize</b> and <b>lower</b>. These are used to taken in a sequence of words and then tokenize them as we need and then convert them into lowercase.\n",
    "So, here we are using Spacy as a Tokeniser.\n",
    "\n",
    "<b>Spacy</b> - Spacy is used for tokenizing large amount of text data and also used in building natural language understanding system and also they help in pre-processing text for deep learning and neural networks."
   ]
  },
  {
   "cell_type": "code",
   "execution_count": 0,
   "metadata": {
    "colab": {},
    "colab_type": "code",
    "id": "HFIxF6NiON-7"
   },
   "outputs": [],
   "source": [
    "import torch\n",
    "from torchtext import data\n",
    "\n",
    "SEED = 1234\n",
    "\n",
    "torch.manual_seed(SEED)\n",
    "torch.backends.cudnn.deterministic = True\n",
    "\n",
    "TEXT = data.Field(sequential=True, tokenize = 'spacy', lower=True)\n",
    "# tokenize = lambda x: x.split()\n",
    "# TEXT = data.Field(sequential=True, tokenize = tokenize, lower=True) #in case you want to use your own tokenizer\n",
    "\n",
    "LABEL = data.LabelField(dtype = torch.float, use_vocab=False, preprocessing=int)"
   ]
  },
  {
   "cell_type": "markdown",
   "metadata": {
    "colab_type": "text",
    "id": "3PBqrHf6Mpid"
   },
   "source": [
    "## Preparing the data for COMPVIS"
   ]
  },
  {
   "cell_type": "markdown",
   "metadata": {
    "colab_type": "text",
    "id": "jzOdb2C6Msys"
   },
   "source": [
    "Here we will be using TabularDataset to read our data and the dataset we are using here is a csv format and then we are usding the specified datafields which we have previously defined.\n",
    "\n",
    "Then for the train and test data we need to process the labels and the order is same as that of the columns and then the fields which we are not using will pass them to a tuple where the second element is None."
   ]
  },
  {
   "cell_type": "code",
   "execution_count": 0,
   "metadata": {
    "colab": {},
    "colab_type": "code",
    "id": "W176vrlbOSc_"
   },
   "outputs": [],
   "source": [
    "from torchtext.data import TabularDataset\n",
    "\n",
    "## Applying NN model on CompVis column\n",
    "compvis_data = [(\"ID\", None), # we won't be needing the source and notes, so we pass in None as the field\n",
    "                 (\"URL\", None),\n",
    "                 (\"Date\", None),\n",
    "                 (\"Title\", None),\n",
    "                 (\"InfoTheory\", None),\n",
    "                 (\"CompVis\", LABEL),\n",
    "                 ('Math',None),\n",
    "                 (\"Abstract\", TEXT)]\n",
    "\n",
    "train_compvis, test_compvis = TabularDataset.splits(path='',\n",
    "                                              train='axcs_train.csv', \n",
    "                                              test='axcs_test.csv', \n",
    "                                              format='csv',\n",
    "                                              skip_header=True,\n",
    "                                              fields=compvis_data)"
   ]
  },
  {
   "cell_type": "markdown",
   "metadata": {
    "colab_type": "text",
    "id": "Ip302POPMzaz"
   },
   "source": [
    "Here Below we have printed the Training examples length and Testing examples length to check how they are splitting."
   ]
  },
  {
   "cell_type": "code",
   "execution_count": 8,
   "metadata": {
    "colab": {
     "base_uri": "https://localhost:8080/",
     "height": 51
    },
    "colab_type": "code",
    "id": "4x5OYtjdOlyz",
    "outputId": "01d24573-fa46-415a-921d-98db25f10561"
   },
   "outputs": [
    {
     "name": "stdout",
     "output_type": "stream",
     "text": [
      "Number of training examples: 54731\n",
      "Number of testing examples: 19679\n"
     ]
    }
   ],
   "source": [
    "print(f'Number of training examples: {len(train_compvis)}')\n",
    "print(f'Number of testing examples: {len(test_compvis)}')"
   ]
  },
  {
   "cell_type": "markdown",
   "metadata": {
    "colab_type": "text",
    "id": "gMBg8f6PM5d5"
   },
   "source": [
    "We are also checking with an example."
   ]
  },
  {
   "cell_type": "code",
   "execution_count": 9,
   "metadata": {
    "colab": {
     "base_uri": "https://localhost:8080/",
     "height": 54
    },
    "colab_type": "code",
    "id": "dAGNPU13OvSL",
    "outputId": "6425ac1c-12fc-4a81-d185-657f04553a49"
   },
   "outputs": [
    {
     "name": "stdout",
     "output_type": "stream",
     "text": [
      "{'CompVis': 0, 'Abstract': [' ', 'nested', 'satisfiability', 'a', 'special', 'case', 'of', 'the', 'satisfiability', 'problem', ',', 'in', 'which', 'the', 'clauses', 'have', 'a', 'hierarchical', 'structure', ',', 'is', 'shown', 'to', 'be', 'solvable', 'in', 'linear', 'time', ',', 'assuming', 'that', 'the', 'clauses', 'have', 'been', 'represented', 'in', 'a', 'convenient', 'way', '.']}\n"
     ]
    }
   ],
   "source": [
    "print(vars(train_compvis.examples[0]))"
   ]
  },
  {
   "cell_type": "markdown",
   "metadata": {
    "colab_type": "text",
    "id": "OLSapi3PM4UM"
   },
   "source": [
    "Next we are building the Vocabulary, that is effectively used as a lookup table i,e every word in our data set has a corresonding index we do this operation since machine leaning cannot operate on strings.\n",
    "\n",
    "So, each index is used to construct a one-hot encoding. in which it trasforms the srings into an inter value of vectors form and then in this we will have more zero's and only one 1's in the vetor which indicate according the index value.\n",
    "\n",
    "The Dimentionality is the total number of unique words in the vocabulary.\n",
    "\n",
    "The number of unique words in our Training set is \" \" and since it would take more memory space we would cut down the training dataset as the top 5000 words.\n",
    "\n",
    "then we are replacing a special unknown token when there is need for those missing words.\n",
    "\n",
    "Then we are only keeping the most common max_size tokens."
   ]
  },
  {
   "cell_type": "code",
   "execution_count": 0,
   "metadata": {
    "colab": {},
    "colab_type": "code",
    "id": "P5b732YKOyJb"
   },
   "outputs": [],
   "source": [
    "MAX_VOCAB_SIZE = 5000\n",
    "\n",
    "TEXT.build_vocab(train_compvis, max_size = MAX_VOCAB_SIZE)\n",
    "#LABEL.build_vocab(train_data)"
   ]
  },
  {
   "cell_type": "code",
   "execution_count": 11,
   "metadata": {
    "colab": {
     "base_uri": "https://localhost:8080/",
     "height": 34
    },
    "colab_type": "code",
    "id": "CbnruG0jO3l4",
    "outputId": "d340ef2d-22d9-48da-e277-1decfa9378bb"
   },
   "outputs": [
    {
     "name": "stdout",
     "output_type": "stream",
     "text": [
      "Unique tokens in TEXT vocabulary: 5002\n"
     ]
    }
   ],
   "source": [
    "print(f\"Unique tokens in TEXT vocabulary: {len(TEXT.vocab)}\")\n",
    "#print(f\"Unique tokens in LABEL vocabulary: {len(LABEL.vocab)}\")"
   ]
  },
  {
   "cell_type": "markdown",
   "metadata": {
    "colab_type": "text",
    "id": "gDAl6uKhNDFX"
   },
   "source": [
    "Printing the frequencies of most common words in the training set.\n",
    "\n",
    "The vocab size 5002 because of the addition tokens is the `<unk>` token and the other is a `<pad>` token."
   ]
  },
  {
   "cell_type": "code",
   "execution_count": 12,
   "metadata": {
    "colab": {
     "base_uri": "https://localhost:8080/",
     "height": 54
    },
    "colab_type": "code",
    "id": "HgPDV4pUO548",
    "outputId": "0c78e80d-e889-4bbb-e300-370bfc5c1c74"
   },
   "outputs": [
    {
     "name": "stdout",
     "output_type": "stream",
     "text": [
      "[('the', 512010), ('of', 344238), ('.', 332875), (',', 307484), ('a', 218648), ('and', 213963), ('-', 184859), ('to', 176340), ('in', 174585), ('is', 130627), ('for', 120901), ('we', 110661), ('that', 89421), ('this', 74411), ('on', 68779), ('with', 66354), ('are', 57723), (' ', 54731), ('an', 49791), ('by', 49768)]\n"
     ]
    }
   ],
   "source": [
    "print(TEXT.vocab.freqs.most_common(20))"
   ]
  },
  {
   "cell_type": "markdown",
   "metadata": {
    "colab_type": "text",
    "id": "YVO2NfqtNF8i"
   },
   "source": [
    "When we feed the sentence into our model we feed more than one at time and then it should follow a same size as that of the batch size and to ensure each sentence in the batch is the same size, any shorter than the longest within the batch are padded."
   ]
  },
  {
   "cell_type": "code",
   "execution_count": 13,
   "metadata": {
    "colab": {
     "base_uri": "https://localhost:8080/",
     "height": 51
    },
    "colab_type": "code",
    "id": "M0RAm1q6O83s",
    "outputId": "e47a39ff-5a37-49be-8ceb-4edb2e566fce"
   },
   "outputs": [
    {
     "name": "stdout",
     "output_type": "stream",
     "text": [
      "['<unk>', '<pad>', 'the', 'of', '.', ',', 'a', 'and', '-', 'to']\n",
      "<torchtext.data.field.LabelField object at 0x7ff74c4e7c18>\n"
     ]
    }
   ],
   "source": [
    "print(TEXT.vocab.itos[:10])\n",
    "print(LABEL)"
   ]
  },
  {
   "cell_type": "markdown",
   "metadata": {
    "colab_type": "text",
    "id": "DnaPLQ99NOoH"
   },
   "source": [
    "Here we are initializing the batch size as 16, then we are preparing the data by creating an iterators.\n",
    "\n",
    "After creating we are iterating over the training and testing and then returning the batch of examples which are converted into tensors by using the indexes at every iterations.\n",
    "\n",
    "Here below we are using `BucketIterator` which is a special iterator which would return a examples of batches with similar length and minimizing the amount of padding per examples.\n",
    "\n",
    "Then we are replacing the tensors returned by the iterators on the GPU and this is handled by `torch.device` by passing this device to the iterator.\n",
    "\n",
    "We also want to place the tensors returned by the iterator on the GPU (if you're using one). PyTorch handles this using `torch.device`, we then pass this device to the iterator."
   ]
  },
  {
   "cell_type": "code",
   "execution_count": 0,
   "metadata": {
    "colab": {},
    "colab_type": "code",
    "id": "OYdLtt7pPEhp"
   },
   "outputs": [],
   "source": [
    "BATCH_SIZE = 16\n",
    "\n",
    "device = torch.device('cuda' if torch.cuda.is_available() else 'cpu')\n",
    "\n",
    "train_iterator, test_iterator = data.BucketIterator.splits(\n",
    "    (train_compvis, test_compvis), \n",
    "    batch_size = BATCH_SIZE,\n",
    "    device = device,\n",
    "    sort_key = lambda x: len(x.Abstract),\n",
    "    sort_within_batch = False)"
   ]
  },
  {
   "cell_type": "code",
   "execution_count": 15,
   "metadata": {
    "colab": {
     "base_uri": "https://localhost:8080/",
     "height": 85
    },
    "colab_type": "code",
    "id": "TCq8rpyKPJGk",
    "outputId": "0f454fab-4608-46a6-89c7-d027f9a23514"
   },
   "outputs": [
    {
     "data": {
      "text/plain": [
       "\n",
       "[torchtext.data.batch.Batch of size 16]\n",
       "\t[.CompVis]:[torch.cuda.FloatTensor of size 16 (GPU 0)]\n",
       "\t[.Abstract]:[torch.cuda.LongTensor of size 345x16 (GPU 0)]"
      ]
     },
     "execution_count": 15,
     "metadata": {
      "tags": []
     },
     "output_type": "execute_result"
    }
   ],
   "source": [
    "batch_compvis = next(train_iterator.__iter__())\n",
    "batch_compvis"
   ]
  },
  {
   "cell_type": "markdown",
   "metadata": {
    "colab_type": "text",
    "id": "mxwrWBaJNVjX"
   },
   "source": [
    "# Building a Model"
   ]
  },
  {
   "cell_type": "markdown",
   "metadata": {
    "colab_type": "text",
    "id": "fIFhb1iG-h_o"
   },
   "source": [
    "\n",
    "Here in the Rnn class is a sub-class of nn module and then here we have used super function and defined init function, Forward function.\n",
    "\n",
    "<b> Super</b> - Super function is used to make class inheritence more easy to use and manage and also helps in allowing new capabilities and functionalities for a method or a function.\n",
    "\n",
    "<b>__init__</b> - In this Init function we are defining the three layers of the module and those three layers are as follows: -\n",
    "- Embedding layer\n",
    "- RNN layer\n",
    "- Linear Layer\n",
    "\n",
    "And these layer's parameters are already initialized to Random values.\n",
    "<b>Embedding Layer</b> - \n",
    "- In embedding layer we are converting the sparse one hot encoded vectors into dense embedding vectors i,e. The sparse vectors contains more number of elements as zero's and the size of it would be very large so, we are transforming them into dense vector where the dimentionality is lot smaller than sparse and contains only real numbers.\n",
    "- Embedding layer is a simple layer which is fully connected as well as it helps in reducing the dimentionality of the Input data so the RNN would learn easily from it.\n",
    "- the words which have similar impact on the sentiment of the review are mapped close together in this dense vector space.\n",
    "\n",
    "<b>RNN Layer</b> - \n",
    "- The RNN layer will take the dense vectors which is passed from the embedding layer in a sequence and then produces a hidden layer and then by applying Rnn again and again for the current word and the previous hidden state, we can produce the next hidden state ℎ𝑡=RNN(𝑥𝑡,ℎ𝑡−1).\n",
    "\n",
    "<b>Linear Layer</b> - \n",
    "- Once we have our final hidden state,  ℎ𝑇 , (from feeding in the last word in the sequence,  𝑥𝑇 ) we feed it through a linear layer,  𝑓 , (also known as a fully connected layer), to receive our predicted sentiment,  𝑦̂ =𝑓(ℎ𝑇) .\n",
    "- After we have the final hidden state ℎ𝑇 which we got from the last word in sequence 𝑥𝑇 then we feed it through a linear layer to receive the predicted sentiments 𝑦̂ =𝑓(ℎ𝑇) .\n"
   ]
  },
  {
   "cell_type": "code",
   "execution_count": 0,
   "metadata": {
    "colab": {},
    "colab_type": "code",
    "id": "TndoPiFrPRKG"
   },
   "outputs": [],
   "source": [
    "import torch.nn as nn\n",
    "\n",
    "class RNN(nn.Module):\n",
    "    def __init__(self, input_dim, embedding_dim, hidden_dim, output_dim):\n",
    "        \n",
    "        super().__init__()\n",
    "        \n",
    "        self.embedding = nn.Embedding(input_dim, embedding_dim)\n",
    "        \n",
    "        self.rnn = nn.RNN(embedding_dim, hidden_dim)\n",
    "        \n",
    "        self.fc = nn.Linear(hidden_dim, output_dim)\n",
    "        \n",
    "    def forward(self, text):\n",
    "\n",
    "        #text = [sent len, batch size]\n",
    "        \n",
    "        embedded = self.embedding(text)\n",
    "        \n",
    "        #embedded = [sent len, batch size, emb dim]\n",
    "        \n",
    "        output, hidden = self.rnn(embedded)\n",
    "        \n",
    "        #output = [sent len, batch size, hid dim]\n",
    "        #hidden = [1, batch size, hid dim]\n",
    "        \n",
    "        assert torch.equal(output[-1,:,:], hidden.squeeze(0))\n",
    "        \n",
    "        return self.fc(hidden.squeeze(0))"
   ]
  },
  {
   "cell_type": "markdown",
   "metadata": {
    "colab_type": "text",
    "id": "HFCZ8JLCNciW"
   },
   "source": [
    "Here below we are creating some instances for our RNN class and the input dimension here is the one-hot vector which is equal to Vocab size.\n",
    "\n",
    "Then the embedding dimension is the size of the dense vector which is transformed from sparse vector to dense vector to reduce the size of the dataset so Rnn could learn easily and this depends on the size of the Vocabulary.\n",
    "\n",
    "The hidden dimentions are nothing but the size hidden states and then this also is depending upon the size of the Vocabulary and also as mentioned above that is from the embedding the dense vector and also dependent in the complecxity of the task\n",
    "\n",
    "The output dimentions are usually the number of classes. here we are providing with one dimention. which is a single scalar value."
   ]
  },
  {
   "cell_type": "code",
   "execution_count": 0,
   "metadata": {
    "colab": {},
    "colab_type": "code",
    "id": "_tXITDJCPWXc"
   },
   "outputs": [],
   "source": [
    "INPUT_DIM = len(TEXT.vocab)\n",
    "EMBEDDING_DIM = 150\n",
    "HIDDEN_DIM = 200\n",
    "OUTPUT_DIM = 1\n",
    "\n",
    "model = RNN(INPUT_DIM, EMBEDDING_DIM, HIDDEN_DIM, OUTPUT_DIM)"
   ]
  },
  {
   "cell_type": "markdown",
   "metadata": {
    "colab_type": "text",
    "id": "ositJ3EtNhlx"
   },
   "source": [
    "Here we are defining a function by passing the above created model and returing the sum of all parameters of the training set."
   ]
  },
  {
   "cell_type": "code",
   "execution_count": 18,
   "metadata": {
    "colab": {
     "base_uri": "https://localhost:8080/",
     "height": 34
    },
    "colab_type": "code",
    "id": "ZfHLCWS8PZfU",
    "outputId": "f454d56a-2c3d-4393-dac6-3dd9a2873e99"
   },
   "outputs": [
    {
     "name": "stdout",
     "output_type": "stream",
     "text": [
      "The model has 820,901 trainable parameters\n"
     ]
    }
   ],
   "source": [
    "def count_parameters(model):\n",
    "    return sum(p.numel() for p in model.parameters() if p.requires_grad)\n",
    "\n",
    "print(f'The model has {count_parameters(model):,} trainable parameters')"
   ]
  },
  {
   "cell_type": "markdown",
   "metadata": {
    "colab_type": "text",
    "id": "SkJ3HK_dNkav"
   },
   "source": [
    "#  Train the Model for compvis"
   ]
  },
  {
   "cell_type": "markdown",
   "metadata": {
    "colab_type": "text",
    "id": "t2h-A_WFNtfp"
   },
   "source": [
    "Here we are creating a Optimizer which is an algorithm where we update the parameters of the module.\n",
    "\n",
    "So, here we are using <b>stochastic gradient descent (SGD)</b> as an optimizer. In this the first argument we are passing is the parameters that has to be updated and then followed by the learning rate."
   ]
  },
  {
   "cell_type": "code",
   "execution_count": 0,
   "metadata": {
    "colab": {},
    "colab_type": "code",
    "id": "xF7naHk-PbpK"
   },
   "outputs": [],
   "source": [
    "import torch.optim as optim\n",
    "\n",
    "optimizer = optim.SGD(model.parameters(), lr=1e-3)"
   ]
  },
  {
   "cell_type": "markdown",
   "metadata": {
    "colab_type": "text",
    "id": "lgurJwIqNyKz"
   },
   "source": [
    "Here in the below cell have defined a loss function and in PyTorch it is commonly called as Criterion.\n",
    "This is bacause it is used as criteria for the function to carry out or to terminate.\n",
    "\n",
    "Here we are using `Binary cross entropy with logits`.\n",
    "\n",
    "Here we are restricting the predictions to 0 and 1 by suing some sigmoid or logit function.\n",
    "Then after this we use some bond scalar to calculate the loss by using binary cross entropy and the `BCEWithLogitsLoss` criterion is used to carry out the sigmoid and the binary cross entropy steps."
   ]
  },
  {
   "cell_type": "code",
   "execution_count": 0,
   "metadata": {
    "colab": {},
    "colab_type": "code",
    "id": "FrJ699TkPd38"
   },
   "outputs": [],
   "source": [
    "criterion = nn.BCEWithLogitsLoss()"
   ]
  },
  {
   "cell_type": "markdown",
   "metadata": {
    "colab_type": "text",
    "id": "VmIyhfH7N3qk"
   },
   "source": [
    "Using `.to`, we are placing the model and the criterion on the GPU (if we have one). "
   ]
  },
  {
   "cell_type": "code",
   "execution_count": 0,
   "metadata": {
    "colab": {},
    "colab_type": "code",
    "id": "rINy_zo7Pfpg"
   },
   "outputs": [],
   "source": [
    "model = model.to(device)\n",
    "criterion = criterion.to(device)"
   ]
  },
  {
   "cell_type": "markdown",
   "metadata": {
    "colab_type": "text",
    "id": "s0uAqmI1N-Sp"
   },
   "source": [
    "After Calculating the loss we are writing a function to calculate the accuracy as mentioned at the begining."
   ]
  },
  {
   "cell_type": "markdown",
   "metadata": {
    "colab_type": "text",
    "id": "JqXERfOWN8Vr"
   },
   "source": [
    "- The Train function is made to iterate over all examples i,e. one batch at a time and before that we are training our model and which turns on the dropout and batch normalization.\n",
    "- First we are putting zeros for all batches and then storing the gradient calculated by the Criterion by making all paramaters in the model to have a grad attribute.\n",
    "- This is done because PyTorch does not have the capability to remove the gradients calculated i,e. zeros from the gradient calculations, so we are remoiving it manually.\n",
    "\n",
    "- After the above process we are providing the batch of sentences as batch.text into the model which is done by the forward function as mention and explained above and then it squeeze is needed as the prediction re initially size [batch size, 1], and we need to remove the dimension of size 1 as PyTorch expects the predictions input to our criterion function to be of size [batch size].\n",
    "\n",
    "- Loss and accuracy are then measured using our forecasts and the package.label labels, with the loss being summed over all the examples in the sample.\n",
    "\n",
    "- We calculate the gradient of each parameter with loss.backward(), and then update the parameters using the gradients and optimizer algorithm with optimizer.step().\n",
    "\n",
    "- `.item()` is used to extract a scalar from the tensor in turn which only contains a single value.\n",
    "\n",
    "- then we are returning the loss and accuracy as an average acorss the number of iterations or steps or epoch and then we are specifying the len of an iterator as the number of batches in the iteartor.\n",
    "\n"
   ]
  },
  {
   "cell_type": "code",
   "execution_count": 0,
   "metadata": {
    "colab": {},
    "colab_type": "code",
    "id": "9fFLo-BEPhlv"
   },
   "outputs": [],
   "source": [
    "def binary_accuracy(preds, y):\n",
    "    \"\"\"\n",
    "    Returns accuracy per batch, i.e. if you get 8/10 right, this returns 0.8, NOT 8\n",
    "    \"\"\"\n",
    "\n",
    "    #round predictions to the closest integer\n",
    "    rounded_preds = torch.round(torch.sigmoid(preds))\n",
    "    correct = (rounded_preds == y).float() #convert into float for division \n",
    "    acc = correct.sum() / len(correct)\n",
    "    return acc"
   ]
  },
  {
   "cell_type": "code",
   "execution_count": 0,
   "metadata": {
    "colab": {},
    "colab_type": "code",
    "id": "NLuYRAVPPkcy"
   },
   "outputs": [],
   "source": [
    "def train(model, iterator, optimizer, criterion):\n",
    "    \n",
    "    epoch_loss = 0\n",
    "    epoch_acc = 0\n",
    "    \n",
    "    model.train()\n",
    "    \n",
    "    for batch_compvis in iterator:\n",
    "        \n",
    "        optimizer.zero_grad()\n",
    "                \n",
    "        predictions = model(batch_compvis.Abstract).squeeze(1)\n",
    "        \n",
    "        loss = criterion(predictions, batch_compvis.CompVis)\n",
    "        \n",
    "        acc = binary_accuracy(predictions, batch_compvis.CompVis)\n",
    "        \n",
    "        loss.backward()\n",
    "        \n",
    "        optimizer.step()\n",
    "        \n",
    "        epoch_loss += loss.item()\n",
    "        epoch_acc += acc.item()\n",
    "        \n",
    "    return epoch_loss / len(iterator), epoch_acc / len(iterator)"
   ]
  },
  {
   "cell_type": "markdown",
   "metadata": {
    "colab_type": "text",
    "id": "QorxPVT6OIY2"
   },
   "source": [
    "Evaluate function is same as the train function but here we are not updating the paramters when evaluating.\n",
    "\n",
    "model.eval() puts the model in \"evaluation mode\", this turns off dropout and batch normalization. Again, we are not using them in this model, but it is good practice to include them.\n",
    "\n",
    "No gradients are calculated on PyTorch operations inside the with no_grad() block. This causes less memory to be used and speeds up computation."
   ]
  },
  {
   "cell_type": "code",
   "execution_count": 0,
   "metadata": {
    "colab": {},
    "colab_type": "code",
    "id": "XEOAxSnXPn27"
   },
   "outputs": [],
   "source": [
    "def evaluate(model, iterator, criterion):\n",
    "    \n",
    "    epoch_loss = 0\n",
    "    epoch_acc = 0\n",
    "    \n",
    "    model.eval()\n",
    "    \n",
    "    with torch.no_grad():\n",
    "    \n",
    "        for batch in iterator:\n",
    "\n",
    "            predictions = model(batch_compvis.Abstract).squeeze(1)\n",
    "            \n",
    "            loss = criterion(predictions, batch_compvis.CompVis)\n",
    "            \n",
    "            acc = binary_accuracy(predictions, batch_compvis.CompVis)\n",
    "\n",
    "            epoch_loss += loss.item()\n",
    "            epoch_acc += acc.item()\n",
    "        \n",
    "    return epoch_loss / len(iterator), epoch_acc / len(iterator)"
   ]
  },
  {
   "cell_type": "markdown",
   "metadata": {
    "colab_type": "text",
    "id": "EHZDrUKOOMbW"
   },
   "source": [
    "We'll also create a function to tell us how long an epoch takes to compare training times between models."
   ]
  },
  {
   "cell_type": "code",
   "execution_count": 0,
   "metadata": {
    "colab": {},
    "colab_type": "code",
    "id": "B4EN0z5OPqMO"
   },
   "outputs": [],
   "source": [
    "import time\n",
    "\n",
    "def epoch_time(start_time, end_time):\n",
    "    elapsed_time = end_time - start_time\n",
    "    elapsed_mins = int(elapsed_time / 60)\n",
    "    elapsed_secs = int(elapsed_time - (elapsed_mins * 60))\n",
    "    return elapsed_mins, elapsed_secs"
   ]
  },
  {
   "cell_type": "markdown",
   "metadata": {
    "colab_type": "text",
    "id": "BSIIncBeOPb9"
   },
   "source": [
    "Here we are training the model through multiple epochs and then as we train model one by one we are passing through all the examples in the training set so the RNN learns it well."
   ]
  },
  {
   "cell_type": "code",
   "execution_count": 26,
   "metadata": {
    "colab": {
     "base_uri": "https://localhost:8080/",
     "height": 187
    },
    "colab_type": "code",
    "id": "9PEHtucqPsaM",
    "outputId": "1d1dcb52-9cee-4e7e-ced4-fd72bfca60ab"
   },
   "outputs": [
    {
     "name": "stdout",
     "output_type": "stream",
     "text": [
      "Epoch: 01 | Epoch Time: 0m 38s\n",
      "\tTrain Loss: 0.183 | Train Acc: 95.86%\n",
      "Epoch: 02 | Epoch Time: 0m 38s\n",
      "\tTrain Loss: 0.172 | Train Acc: 95.89%\n",
      "Epoch: 03 | Epoch Time: 0m 38s\n",
      "\tTrain Loss: 0.171 | Train Acc: 95.90%\n",
      "Epoch: 04 | Epoch Time: 0m 38s\n",
      "\tTrain Loss: 0.171 | Train Acc: 95.90%\n",
      "Epoch: 05 | Epoch Time: 0m 38s\n",
      "\tTrain Loss: 0.171 | Train Acc: 95.89%\n"
     ]
    }
   ],
   "source": [
    "N_EPOCHS = 5\n",
    "\n",
    "for epoch in range(N_EPOCHS):\n",
    "\n",
    "    start_time = time.time()\n",
    "    \n",
    "    train_compvis_loss, train_compvis_acc = train(model, train_iterator, optimizer, criterion)    \n",
    "    end_time = time.time()\n",
    "\n",
    "    epoch_compvis_mins, epoch_compvis_secs = epoch_time(start_time, end_time)\n",
    "    \n",
    "    print(f'Epoch: {epoch+1:02} | Epoch Time: {epoch_compvis_mins}m {epoch_compvis_secs}s')\n",
    "    print(f'\\tTrain Loss: {train_compvis_loss:.3f} | Train Acc: {train_compvis_acc*100:.2f}%')"
   ]
  },
  {
   "cell_type": "markdown",
   "metadata": {
    "colab_type": "text",
    "id": "bkHocMdHOTjf"
   },
   "source": []
  },
  {
   "cell_type": "code",
   "execution_count": 0,
   "metadata": {
    "colab": {},
    "colab_type": "code",
    "id": "rGZD0pLsPulS"
   },
   "outputs": [],
   "source": [
    "torch.save(model.state_dict(), 'RNN_model.pt')"
   ]
  },
  {
   "cell_type": "code",
   "execution_count": 28,
   "metadata": {
    "colab": {
     "base_uri": "https://localhost:8080/",
     "height": 34
    },
    "colab_type": "code",
    "id": "udmuJFguQBxY",
    "outputId": "42c3d6df-3be8-40f8-812c-4794763fabb2"
   },
   "outputs": [
    {
     "data": {
      "text/plain": [
       "<All keys matched successfully>"
      ]
     },
     "execution_count": 28,
     "metadata": {
      "tags": []
     },
     "output_type": "execute_result"
    }
   ],
   "source": [
    "model.load_state_dict(torch.load('RNN_model.pt'))"
   ]
  },
  {
   "cell_type": "code",
   "execution_count": 0,
   "metadata": {
    "colab": {},
    "colab_type": "code",
    "id": "9lc7wlaCQDsQ"
   },
   "outputs": [],
   "source": [
    "y_compvis_predict = []\n",
    "y_compvis_test = []\n",
    "\n",
    "model.eval()\n",
    "with torch.no_grad():\n",
    "    for batch in test_iterator:\n",
    "        predictions = model(batch.Abstract).squeeze(1)\n",
    "        rounded_preds = torch.round(torch.sigmoid(predictions))\n",
    "        y_compvis_predict += rounded_preds.tolist()\n",
    "        y_compvis_test += batch.CompVis.tolist()\n",
    "        #acc = binary_accuracy(predictions, batch.CompVis)"
   ]
  },
  {
   "cell_type": "code",
   "execution_count": 30,
   "metadata": {
    "colab": {
     "base_uri": "https://localhost:8080/",
     "height": 136
    },
    "colab_type": "code",
    "id": "UQq9NG6EQJwh",
    "outputId": "ff0e13d2-4c94-4dc8-c5ef-a3feb55eabcc"
   },
   "outputs": [
    {
     "name": "stdout",
     "output_type": "stream",
     "text": [
      "[[17464    63]\n",
      " [ 2141    11]]\n",
      "Accuracy_compvis: 0.8880024391483307\n",
      "Macro Precision_compivs: 0.5197209068287875\n",
      "Macro Recall_compvis: 0.5007585349465073\n",
      "Macro F1 score_compvis:0.47526369343181973\n",
      "MCC_compvis:0.007735372520170296\n"
     ]
    }
   ],
   "source": [
    "from sklearn.metrics import precision_score, recall_score, f1_score, accuracy_score, confusion_matrix, matthews_corrcoef\n",
    "import numpy as np\n",
    "\n",
    "y_compvis_predict = np.asarray(y_compvis_predict)\n",
    "y_compvis_test = np.asarray(y_compvis_test)\n",
    "print(confusion_matrix(y_compvis_test,y_compvis_predict))\n",
    "recall_compvis=recall_score(y_compvis_test,y_compvis_predict,average='macro')\n",
    "precision_compvis=precision_score(y_compvis_test,y_compvis_predict,average='macro')\n",
    "f1score_compvis=f1_score(y_compvis_test,y_compvis_predict,average='macro')\n",
    "accuracy_compvis=accuracy_score(y_compvis_test,y_compvis_predict)\n",
    "matthews_compvis = matthews_corrcoef(y_compvis_test,y_compvis_predict) \n",
    "print('Accuracy_compvis: '+ str(accuracy_compvis))\n",
    "print('Macro Precision_compivs: '+ str(precision_compvis))\n",
    "print('Macro Recall_compvis: '+ str(recall_compvis))\n",
    "print('Macro F1 score_compvis:'+ str(f1score_compvis))\n",
    "print('MCC_compvis:'+ str(matthews_compvis))"
   ]
  },
  {
   "cell_type": "code",
   "execution_count": 31,
   "metadata": {
    "colab": {
     "base_uri": "https://localhost:8080/",
     "height": 85
    },
    "colab_type": "code",
    "id": "cj3Z4bFJPxXE",
    "outputId": "cd17de8b-5f0f-49fa-a4c0-969b438cbbc5"
   },
   "outputs": [
    {
     "name": "stdout",
     "output_type": "stream",
     "text": [
      "The number of true negatives for Compvis classifier of NN model is: 17464\n",
      "The number of false positives for Compvis classifier of NN model is: 63\n",
      "The number of false negatives for compvis classifier of NN model is: 2141\n",
      "The number of true positives for compvis classifier of NN model is: 11\n"
     ]
    }
   ],
   "source": [
    "print(\"The number of true negatives for Compvis classifier of NN model is: \" + str(confusion_matrix(y_compvis_test,y_compvis_predict)[0][0]))\n",
    "print(\"The number of false positives for Compvis classifier of NN model is: \" + str(confusion_matrix(y_compvis_test,y_compvis_predict)[0][1]))\n",
    "print(\"The number of false negatives for compvis classifier of NN model is: \" + str(confusion_matrix(y_compvis_test,y_compvis_predict)[1][0]))\n",
    "print(\"The number of true positives for compvis classifier of NN model is: \" + str(confusion_matrix(y_compvis_test,y_compvis_predict)[1][1]))"
   ]
  },
  {
   "cell_type": "markdown",
   "metadata": {
    "colab_type": "text",
    "id": "pX2YHNmqPpiu"
   },
   "source": [
    "\n"
   ]
  },
  {
   "cell_type": "markdown",
   "metadata": {
    "colab_type": "text",
    "id": "GC5pe6J2Qmd9"
   },
   "source": [
    "## Preparing the data for MATH"
   ]
  },
  {
   "cell_type": "markdown",
   "metadata": {
    "colab_type": "text",
    "id": "ILUDgaQOQ06D"
   },
   "source": [
    "Here we will be using TabularDataset to read our data and the dataset we are using here is a csv format and then we are usding the specified datafields which we have previously defined.\n",
    "\n",
    "Then for the train and test data we need to process the labels and the order is same as that of the columns and then the fields which we are not using will pass them to a tuple where the second element is None."
   ]
  },
  {
   "cell_type": "code",
   "execution_count": 0,
   "metadata": {
    "colab": {},
    "colab_type": "code",
    "id": "mNBXlut5QMnd"
   },
   "outputs": [],
   "source": [
    "## Applying NN model on Math column\n",
    "math_data = [(\"ID\", None), # we won't be needing the source and notes, so we pass in None as the field\n",
    "                 (\"URL\", None),\n",
    "                 (\"Date\", None),\n",
    "                 (\"Title\", None),\n",
    "                 (\"InfoTheory\", None),\n",
    "                 (\"CompVis\", None),\n",
    "                 ('Math',LABEL),\n",
    "                 (\"Abstract\", TEXT)]\n",
    "\n",
    "train_math, test_math = TabularDataset.splits(path='',\n",
    "                                              train='axcs_train.csv', \n",
    "                                              test='axcs_test.csv', \n",
    "                                              format='csv',\n",
    "                                              skip_header=True,\n",
    "                                              fields=math_data)"
   ]
  },
  {
   "cell_type": "markdown",
   "metadata": {
    "colab_type": "text",
    "id": "V9GoF2NBRCms"
   },
   "source": [
    "Here Below we have printed the Training examples length and Testing examples length to check how they are splitting."
   ]
  },
  {
   "cell_type": "code",
   "execution_count": 33,
   "metadata": {
    "colab": {
     "base_uri": "https://localhost:8080/",
     "height": 51
    },
    "colab_type": "code",
    "id": "XK4YnGLYQYJ6",
    "outputId": "293fca7d-7219-4835-b6ce-0412c55eef52"
   },
   "outputs": [
    {
     "name": "stdout",
     "output_type": "stream",
     "text": [
      "Number of training examples: 54731\n",
      "Number of testing examples: 19679\n"
     ]
    }
   ],
   "source": [
    "print(f'Number of training examples: {len(train_math)}')\n",
    "print(f'Number of testing examples: {len(test_math)}')"
   ]
  },
  {
   "cell_type": "code",
   "execution_count": 34,
   "metadata": {
    "colab": {
     "base_uri": "https://localhost:8080/",
     "height": 54
    },
    "colab_type": "code",
    "id": "QOccXsjUQmgZ",
    "outputId": "76bc3737-5a0d-4c35-a3c0-b4c88c6b45f3"
   },
   "outputs": [
    {
     "name": "stdout",
     "output_type": "stream",
     "text": [
      "{'Math': 0, 'Abstract': [' ', 'nested', 'satisfiability', 'a', 'special', 'case', 'of', 'the', 'satisfiability', 'problem', ',', 'in', 'which', 'the', 'clauses', 'have', 'a', 'hierarchical', 'structure', ',', 'is', 'shown', 'to', 'be', 'solvable', 'in', 'linear', 'time', ',', 'assuming', 'that', 'the', 'clauses', 'have', 'been', 'represented', 'in', 'a', 'convenient', 'way', '.']}\n"
     ]
    }
   ],
   "source": [
    "print(vars(train_math.examples[0]))"
   ]
  },
  {
   "cell_type": "markdown",
   "metadata": {
    "colab_type": "text",
    "id": "wigszXnlRHSs"
   },
   "source": [
    "Next we are building the Vocabulary, that is effectively used as a lookup table i,e every word in our data set has a corresonding index we do this operation since machine leaning cannot operate on strings.\n",
    "\n",
    "So, each index is used to construct a one-hot encoding. in which it trasforms the srings into an inter value of vectors form and then in this we will have more zero's and only one 1's in the vetor which indicate according the index value.\n",
    "\n",
    "The Dimentionality is the total number of unique words in the vocabulary.\n",
    "\n",
    "The number of unique words in our Training set is \"5400 \" and since it would take more memory space we would cut down the training dataset as the top 5000 words.\n",
    "\n",
    "then we are replacing a special unknown token when there is need for those missing words.\n",
    "\n",
    "Then we are only keeping the most common max_size tokens."
   ]
  },
  {
   "cell_type": "code",
   "execution_count": 0,
   "metadata": {
    "colab": {},
    "colab_type": "code",
    "id": "tSgb4AOxQoVN"
   },
   "outputs": [],
   "source": [
    "MAX_VOCAB_SIZE = 5400\n",
    "\n",
    "TEXT.build_vocab(train_math, max_size = MAX_VOCAB_SIZE)\n",
    "#LABEL.build_vocab(train_data)"
   ]
  },
  {
   "cell_type": "code",
   "execution_count": 36,
   "metadata": {
    "colab": {
     "base_uri": "https://localhost:8080/",
     "height": 34
    },
    "colab_type": "code",
    "id": "s_cn5kHnQqZK",
    "outputId": "949a6a93-66f3-4a0d-a9d6-be1c339521e0"
   },
   "outputs": [
    {
     "name": "stdout",
     "output_type": "stream",
     "text": [
      "Unique tokens in TEXT vocabulary: 5402\n"
     ]
    }
   ],
   "source": [
    "print(f\"Unique tokens in TEXT vocabulary: {len(TEXT.vocab)}\")\n",
    "#print(f\"Unique tokens in LABEL vocabulary: {len(LABEL.vocab)}\")"
   ]
  },
  {
   "cell_type": "code",
   "execution_count": 37,
   "metadata": {
    "colab": {
     "base_uri": "https://localhost:8080/",
     "height": 54
    },
    "colab_type": "code",
    "id": "Xzoj1BxDQwYF",
    "outputId": "58028fe6-ee0b-48f6-a328-a837ff29c5d5"
   },
   "outputs": [
    {
     "name": "stdout",
     "output_type": "stream",
     "text": [
      "[('the', 512010), ('of', 344238), ('.', 332875), (',', 307484), ('a', 218648), ('and', 213963), ('-', 184859), ('to', 176340), ('in', 174585), ('is', 130627), ('for', 120901), ('we', 110661), ('that', 89421), ('this', 74411), ('on', 68779), ('with', 66354), ('are', 57723), (' ', 54731), ('an', 49791), ('by', 49768)]\n"
     ]
    }
   ],
   "source": [
    "print(TEXT.vocab.freqs.most_common(20))"
   ]
  },
  {
   "cell_type": "markdown",
   "metadata": {
    "colab_type": "text",
    "id": "wvkDpusPRPEI"
   },
   "source": [
    "When we feed the sentence into our model we feed more than one at time and then it should follow a same size as that of the batch size and to ensure each sentence in the batch is the same size, any shorter than the longest within the batch are padded."
   ]
  },
  {
   "cell_type": "code",
   "execution_count": 38,
   "metadata": {
    "colab": {
     "base_uri": "https://localhost:8080/",
     "height": 51
    },
    "colab_type": "code",
    "id": "ywnTrqNaQye6",
    "outputId": "eb644c13-e524-4273-abe8-adba637f801c"
   },
   "outputs": [
    {
     "name": "stdout",
     "output_type": "stream",
     "text": [
      "['<unk>', '<pad>', 'the', 'of', '.', ',', 'a', 'and', '-', 'to']\n",
      "<torchtext.data.field.LabelField object at 0x7ff74c4e7c18>\n"
     ]
    }
   ],
   "source": [
    "print(TEXT.vocab.itos[:10])\n",
    "print(LABEL)"
   ]
  },
  {
   "cell_type": "markdown",
   "metadata": {
    "colab_type": "text",
    "id": "SB9YMf2gRY1_"
   },
   "source": [
    "Here we are initializing the batch size as 16, then we are preparing the data by creating an iterators.\n",
    "\n",
    "After creating we are iterating over the training and testing and then returning the batch of examples which are converted into tensors by using the indexes at every iterations.\n",
    "\n",
    "Here below we are using `BucketIterator` which is a special iterator which would return a examples of batches with similar length and minimizing the amount of padding per examples.\n",
    "\n",
    "Then we are replacing the tensors returned by the iterators on the GPU and this is handled by `torch.device` by passing this device to the iterator.\n",
    "\n",
    "We also want to place the tensors returned by the iterator on the GPU (if you're using one). PyTorch handles this using `torch.device`, we then pass this device to the iterator."
   ]
  },
  {
   "cell_type": "code",
   "execution_count": 0,
   "metadata": {
    "colab": {},
    "colab_type": "code",
    "id": "lmC5Fx0mQ0Kn"
   },
   "outputs": [],
   "source": [
    "BATCH_SIZE = 16\n",
    "\n",
    "device = torch.device('cuda' if torch.cuda.is_available() else 'cpu')\n",
    "\n",
    "train_iterator, test_iterator = data.BucketIterator.splits(\n",
    "    (train_math, test_math), \n",
    "    batch_size = BATCH_SIZE,\n",
    "    device = device,\n",
    "    sort_key = lambda x: len(x.Abstract),\n",
    "    sort_within_batch = False)"
   ]
  },
  {
   "cell_type": "code",
   "execution_count": 40,
   "metadata": {
    "colab": {
     "base_uri": "https://localhost:8080/",
     "height": 85
    },
    "colab_type": "code",
    "id": "PE7FGbrNQ2NO",
    "outputId": "cb75b8e6-e746-45c4-f47d-6637dee37d27"
   },
   "outputs": [
    {
     "data": {
      "text/plain": [
       "\n",
       "[torchtext.data.batch.Batch of size 16]\n",
       "\t[.Math]:[torch.cuda.FloatTensor of size 16 (GPU 0)]\n",
       "\t[.Abstract]:[torch.cuda.LongTensor of size 345x16 (GPU 0)]"
      ]
     },
     "execution_count": 40,
     "metadata": {
      "tags": []
     },
     "output_type": "execute_result"
    }
   ],
   "source": [
    "batch_math = next(train_iterator.__iter__())\n",
    "batch_math"
   ]
  },
  {
   "cell_type": "markdown",
   "metadata": {
    "colab_type": "text",
    "id": "wrwji5bNRhpT"
   },
   "source": [
    "### Building the model"
   ]
  },
  {
   "cell_type": "markdown",
   "metadata": {
    "colab_type": "text",
    "id": "xNTspSOHRkjz"
   },
   "source": [
    "Here below we are creating some instances for our RNN class and the input dimension here is the one-hot vector which is equal to Vocab size.\n",
    "\n",
    "Then the embedding dimension is the size of the dense vector which is transformed from sparse vector to dense vector to reduce the size of the dataset so Rnn could learn easily and this depends on the size of the Vocabulary.\n",
    "\n",
    "The hidden dimentions are nothing but the size hidden states and then this also is depending upon the size of the Vocabulary and also as mentioned above that is from the embedding the dense vector and also dependent in the complecxity of the task\n",
    "\n",
    "The output dimentions are usually the number of classes. here we are providing with one dimention. which is a single scalar value."
   ]
  },
  {
   "cell_type": "code",
   "execution_count": 0,
   "metadata": {
    "colab": {},
    "colab_type": "code",
    "id": "03FwdiZiQ4ia"
   },
   "outputs": [],
   "source": [
    "INPUT_DIM = len(TEXT.vocab)\n",
    "EMBEDDING_DIM = 260\n",
    "HIDDEN_DIM = 280\n",
    "OUTPUT_DIM = 1\n",
    "\n",
    "model_math = RNN(INPUT_DIM, EMBEDDING_DIM, HIDDEN_DIM, OUTPUT_DIM)"
   ]
  },
  {
   "cell_type": "markdown",
   "metadata": {
    "colab_type": "text",
    "id": "nTUjA1NIRpOi"
   },
   "source": [
    "Here we are defining a function by passing the above created model and returing the sum of all parameters of the training set."
   ]
  },
  {
   "cell_type": "code",
   "execution_count": 42,
   "metadata": {
    "colab": {
     "base_uri": "https://localhost:8080/",
     "height": 34
    },
    "colab_type": "code",
    "id": "k04ef_sDRAsG",
    "outputId": "9daaa0f1-2ade-419c-91ea-3e46044a7470"
   },
   "outputs": [
    {
     "name": "stdout",
     "output_type": "stream",
     "text": [
      "The model has 1,556,561 trainable parameters\n"
     ]
    }
   ],
   "source": [
    "def count_parameters(model):\n",
    "    return sum(p.numel() for p in model.parameters() if p.requires_grad)\n",
    "\n",
    "print(f'The model has {count_parameters(model_math):,} trainable parameters')"
   ]
  },
  {
   "cell_type": "markdown",
   "metadata": {
    "colab_type": "text",
    "id": "vj3pM75CRuZb"
   },
   "source": [
    " # Train the Model for Math"
   ]
  },
  {
   "cell_type": "markdown",
   "metadata": {
    "colab_type": "text",
    "id": "gQYnD39QRy_K"
   },
   "source": [
    "Here we are creating a Optimizer which is an algorithm where we update the parameters of the module.\n",
    "\n",
    "So, here we are using <b>stochastic gradient descent (SGD)</b> as an optimizer. In this the first argument we are passing is the parameters that has to be updated and then followed by the learning rate."
   ]
  },
  {
   "cell_type": "code",
   "execution_count": 0,
   "metadata": {
    "colab": {},
    "colab_type": "code",
    "id": "MrPleXFxRCvU"
   },
   "outputs": [],
   "source": [
    "import torch.optim as optim\n",
    "\n",
    "optimizer = optim.SGD(model.parameters(), lr=1e-3)"
   ]
  },
  {
   "cell_type": "markdown",
   "metadata": {
    "colab_type": "text",
    "id": "F9VgA-wpR1_J"
   },
   "source": [
    "Here in the below cell have defined a loss function and in PyTorch it is commonly called as Criterion.\n",
    "This is bacause it is used as criteria for the function to carry out or to terminate.\n",
    "\n",
    "Here we are using `Binary cross entropy with logits`.\n",
    "\n",
    "Here we are restricting the predictions to 0 and 1 by suing some sigmoid or logit function.\n",
    "Then after this we use some bond scalar to calculate the loss by using binary cross entropy and the `BCEWithLogitsLoss` criterion is used to carry out the sigmoid and the binary cross entropy steps."
   ]
  },
  {
   "cell_type": "code",
   "execution_count": 0,
   "metadata": {
    "colab": {},
    "colab_type": "code",
    "id": "f5Vy_YTfREeu"
   },
   "outputs": [],
   "source": [
    "criterion = nn.BCEWithLogitsLoss()"
   ]
  },
  {
   "cell_type": "code",
   "execution_count": 0,
   "metadata": {
    "colab": {},
    "colab_type": "code",
    "id": "ASlI71lVRGAV"
   },
   "outputs": [],
   "source": [
    "model = model.to(device)\n",
    "criterion = criterion.to(device)"
   ]
  },
  {
   "cell_type": "markdown",
   "metadata": {
    "colab_type": "text",
    "id": "LKsKYbkyR5qE"
   },
   "source": [
    "- The Train function is made to iterate over all examples i,e. one batch at a time and before that we are training our model and which turns on the dropout and batch normalization.\n",
    "- First we are putting zeros for all batches and then storing the gradient calculated by the Criterion by making all paramaters in the model to have a grad attribute.\n",
    "- This is done because PyTorch does not have the capability to remove the gradients calculated i,e. zeros from the gradient calculations, so we are remoiving it manually.\n",
    "\n",
    "- After the above process we are providing the batch of sentences as batch.text into the model which is done by the forward function as mention and explained above and then it squeeze is needed as the prediction re initially size [batch size, 1], and we need to remove the dimension of size 1 as PyTorch expects the predictions input to our criterion function to be of size [batch size].\n",
    "\n",
    "- Loss and accuracy are then measured using our forecasts and the package.label labels, with the loss being summed over all the examples in the sample.\n",
    "\n",
    "- We calculate the gradient of each parameter with loss.backward(), and then update the parameters using the gradients and optimizer algorithm with optimizer.step().\n",
    "\n",
    "- `.item()` is used to extract a scalar from the tensor in turn which only contains a single value.\n",
    "\n",
    "- then we are returning the loss and accuracy as an average acorss the number of iterations or steps or epoch and then we are specifying the len of an iterator as the number of batches in the iteartor.\n",
    "\n"
   ]
  },
  {
   "cell_type": "code",
   "execution_count": 0,
   "metadata": {
    "colab": {},
    "colab_type": "code",
    "id": "UPkkVLyfRHaf"
   },
   "outputs": [],
   "source": [
    "def binary_accuracy(preds, y):\n",
    "    \"\"\"\n",
    "    Returns accuracy per batch, i.e. if you get 8/10 right, this returns 0.8, NOT 8\n",
    "    \"\"\"\n",
    "\n",
    "    #round predictions to the closest integer\n",
    "    rounded_preds = torch.round(torch.sigmoid(preds))\n",
    "    correct = (rounded_preds == y).float() #convert into float for division \n",
    "    acc = correct.sum() / len(correct)\n",
    "    return acc"
   ]
  },
  {
   "cell_type": "code",
   "execution_count": 0,
   "metadata": {
    "colab": {},
    "colab_type": "code",
    "id": "0NIMllQZRJLE"
   },
   "outputs": [],
   "source": [
    "def train(model, iterator, optimizer, criterion):\n",
    "    \n",
    "    epoch_loss = 0\n",
    "    epoch_acc = 0\n",
    "    \n",
    "    model.train()\n",
    "    \n",
    "    for batch in iterator:\n",
    "        \n",
    "        optimizer.zero_grad()\n",
    "                \n",
    "        predictions = model(batch.Abstract).squeeze(1)\n",
    "        \n",
    "        loss = criterion(predictions, batch.Math)\n",
    "        \n",
    "        acc = binary_accuracy(predictions, batch.Math)\n",
    "        \n",
    "        loss.backward()\n",
    "        \n",
    "        optimizer.step()\n",
    "        \n",
    "        epoch_loss += loss.item()\n",
    "        epoch_acc += acc.item()\n",
    "        \n",
    "    return epoch_loss / len(iterator), epoch_acc / len(iterator)"
   ]
  },
  {
   "cell_type": "markdown",
   "metadata": {
    "colab_type": "text",
    "id": "m-pfTNraR9rX"
   },
   "source": [
    "Evaluate function is same as the train function but here we are not updating the paramters when evaluating.\n",
    "\n",
    "model.eval() puts the model in \"evaluation mode\", this turns off dropout and batch normalization. Again, we are not using them in this model, but it is good practice to include them.\n",
    "\n",
    "No gradients are calculated on PyTorch operations inside the with no_grad() block. This causes less memory to be used and speeds up computation."
   ]
  },
  {
   "cell_type": "code",
   "execution_count": 0,
   "metadata": {
    "colab": {},
    "colab_type": "code",
    "id": "V8DO9hwzRL40"
   },
   "outputs": [],
   "source": [
    "def evaluate(model, iterator, criterion):\n",
    "    \n",
    "    epoch_loss = 0\n",
    "    epoch_acc = 0\n",
    "    \n",
    "    model.eval()\n",
    "    \n",
    "    with torch.no_grad():\n",
    "    \n",
    "        for batch in iterator:\n",
    "\n",
    "            predictions = model(batch.Abstract).squeeze(1)\n",
    "            \n",
    "            loss = criterion(predictions, batch.Math)\n",
    "            \n",
    "            acc = binary_accuracy(predictions, batch.Math)\n",
    "\n",
    "            epoch_loss += loss.item()\n",
    "            epoch_acc += acc.item()\n",
    "        \n",
    "    return epoch_loss / len(iterator), epoch_acc / len(iterator)"
   ]
  },
  {
   "cell_type": "code",
   "execution_count": 0,
   "metadata": {
    "colab": {},
    "colab_type": "code",
    "id": "hq3hh4WXRN3r"
   },
   "outputs": [],
   "source": [
    "import time\n",
    "\n",
    "def epoch_time(start_time, end_time):\n",
    "    elapsed_time = end_time - start_time\n",
    "    elapsed_mins = int(elapsed_time / 60)\n",
    "    elapsed_secs = int(elapsed_time - (elapsed_mins * 60))\n",
    "    return elapsed_mins, elapsed_secs"
   ]
  },
  {
   "cell_type": "markdown",
   "metadata": {
    "colab_type": "text",
    "id": "pxa7OvEZSC00"
   },
   "source": [
    "Here we are training the model through multiple epochs and then as we train model one by one we are passing through all the examples in the training set so the RNN learns it well."
   ]
  },
  {
   "cell_type": "code",
   "execution_count": 50,
   "metadata": {
    "colab": {
     "base_uri": "https://localhost:8080/",
     "height": 187
    },
    "colab_type": "code",
    "id": "tVJwVJTTRP3P",
    "outputId": "580630e9-cf3c-4ea3-e78b-8276f1a2f462"
   },
   "outputs": [
    {
     "name": "stdout",
     "output_type": "stream",
     "text": [
      "Epoch: 01 | Epoch Time: 0m 38s\n",
      "\tTrain Loss: 0.626 | Train Acc: 69.41%\n",
      "Epoch: 02 | Epoch Time: 0m 38s\n",
      "\tTrain Loss: 0.616 | Train Acc: 69.41%\n",
      "Epoch: 03 | Epoch Time: 0m 38s\n",
      "\tTrain Loss: 0.616 | Train Acc: 69.41%\n",
      "Epoch: 04 | Epoch Time: 0m 38s\n",
      "\tTrain Loss: 0.616 | Train Acc: 69.41%\n",
      "Epoch: 05 | Epoch Time: 0m 38s\n",
      "\tTrain Loss: 0.616 | Train Acc: 69.41%\n"
     ]
    }
   ],
   "source": [
    "N_EPOCHS = 5\n",
    "\n",
    "for epoch in range(N_EPOCHS):\n",
    "\n",
    "    start_time = time.time()\n",
    "    \n",
    "    train_math_loss, train_math_acc = train(model, train_iterator, optimizer, criterion)    \n",
    "    end_time = time.time()\n",
    "\n",
    "    epoch_math_mins, epoch_math_secs = epoch_time(start_time, end_time)\n",
    "    \n",
    "    print(f'Epoch: {epoch+1:02} | Epoch Time: {epoch_math_mins}m {epoch_math_secs}s')\n",
    "    print(f'\\tTrain Loss: {train_math_loss:.3f} | Train Acc: {train_math_acc*100:.2f}%')"
   ]
  },
  {
   "cell_type": "code",
   "execution_count": 0,
   "metadata": {
    "colab": {},
    "colab_type": "code",
    "id": "8FOJoE71RRZu"
   },
   "outputs": [],
   "source": [
    "torch.save(model.state_dict(), 'RNN_model.pt')"
   ]
  },
  {
   "cell_type": "code",
   "execution_count": 52,
   "metadata": {
    "colab": {
     "base_uri": "https://localhost:8080/",
     "height": 34
    },
    "colab_type": "code",
    "id": "66o3IReBRbQK",
    "outputId": "64d77545-8b9f-4afe-fcb7-075c2cdd715c"
   },
   "outputs": [
    {
     "data": {
      "text/plain": [
       "<All keys matched successfully>"
      ]
     },
     "execution_count": 52,
     "metadata": {
      "tags": []
     },
     "output_type": "execute_result"
    }
   ],
   "source": [
    "model.load_state_dict(torch.load('RNN_model.pt'))\n"
   ]
  },
  {
   "cell_type": "code",
   "execution_count": 0,
   "metadata": {
    "colab": {},
    "colab_type": "code",
    "id": "LZ06EMbLRhuF"
   },
   "outputs": [],
   "source": [
    "y_math_predict = []\n",
    "y_math_test = []\n",
    "\n",
    "model.eval()\n",
    "with torch.no_grad():\n",
    "    for batch in test_iterator:\n",
    "        predictions = model(batch.Abstract).squeeze(1)\n",
    "        rounded_preds = torch.round(torch.sigmoid(predictions))\n",
    "        y_math_predict += rounded_preds.tolist()\n",
    "        y_math_test += batch.Math.tolist()\n",
    "        #acc = binary_accuracy(predictions, batch.Math)"
   ]
  },
  {
   "cell_type": "code",
   "execution_count": 54,
   "metadata": {
    "colab": {
     "base_uri": "https://localhost:8080/",
     "height": 136
    },
    "colab_type": "code",
    "id": "21yNqQVSRjjV",
    "outputId": "79ef526d-c913-4306-e082-c15fe97d4451"
   },
   "outputs": [
    {
     "name": "stdout",
     "output_type": "stream",
     "text": [
      "[[13690    59]\n",
      " [ 5912    18]]\n",
      "Accuracy_Math: 0.6965801107779866\n",
      "Macro Precision_Math: 0.4660821782033903\n",
      "Macro Recall_Math: 0.49937209598686744\n",
      "Macro F1 score_Math:0.4134789483830936\n",
      "MCC_Math:-0.009229764118937596\n"
     ]
    }
   ],
   "source": [
    "from sklearn.metrics import precision_score, recall_score, f1_score, accuracy_score, confusion_matrix, matthews_corrcoef\n",
    "import numpy as np\n",
    "\n",
    "y_math_predict = np.asarray(y_math_predict)\n",
    "y_math_test = np.asarray(y_math_test)\n",
    "print(confusion_matrix(y_math_test,y_math_predict))\n",
    "recall_math=recall_score(y_math_test,y_math_predict,average='macro')\n",
    "precision_math=precision_score(y_math_test,y_math_predict,average='macro')\n",
    "f1score_math=f1_score(y_math_test,y_math_predict,average='macro')\n",
    "accuracy_math=accuracy_score(y_math_test,y_math_predict)\n",
    "matthews_math = matthews_corrcoef(y_math_test,y_math_predict) \n",
    "print('Accuracy_Math: '+ str(accuracy_math))\n",
    "print('Macro Precision_Math: '+ str(precision_math))\n",
    "print('Macro Recall_Math: '+ str(recall_math))\n",
    "print('Macro F1 score_Math:'+ str(f1score_math))\n",
    "print('MCC_Math:'+ str(matthews_math))"
   ]
  },
  {
   "cell_type": "code",
   "execution_count": 55,
   "metadata": {
    "colab": {
     "base_uri": "https://localhost:8080/",
     "height": 85
    },
    "colab_type": "code",
    "id": "uTobhOeySBRW",
    "outputId": "5fde1c4c-4f2c-4c1f-8f2a-127d10d9b9ff"
   },
   "outputs": [
    {
     "name": "stdout",
     "output_type": "stream",
     "text": [
      "The number of true negatives for Math classifier of NN model is: 13690\n",
      "The number of false positives for Math classifier of NN model is: 59\n",
      "The number of false negatives for Math classifier of NN model is: 5912\n",
      "The number of true positives for Math classifier of NN model is: 18\n"
     ]
    }
   ],
   "source": [
    "print(\"The number of true negatives for Math classifier of NN model is: \" + str(confusion_matrix(y_math_test,y_math_predict)[0][0]))\n",
    "print(\"The number of false positives for Math classifier of NN model is: \" + str(confusion_matrix(y_math_test,y_math_predict)[0][1]))\n",
    "print(\"The number of false negatives for Math classifier of NN model is: \" + str(confusion_matrix(y_math_test,y_math_predict)[1][0]))\n",
    "print(\"The number of true positives for Math classifier of NN model is: \" + str(confusion_matrix(y_math_test,y_math_predict)[1][1]))"
   ]
  },
  {
   "cell_type": "markdown",
   "metadata": {
    "colab_type": "text",
    "id": "0K-OoGdbSF5H"
   },
   "source": [
    "# Preparing the data for INFOTHEORY"
   ]
  },
  {
   "cell_type": "markdown",
   "metadata": {
    "colab_type": "text",
    "id": "LjIRaAsYSSA8"
   },
   "source": [
    "Here we will be using TabularDataset to read our data and the dataset we are using here is a csv format and then we are usding the specified datafields which we have previously defined.\n",
    "\n",
    "Then for the train and test data we need to process the labels and the order is same as that of the columns and then the fields which we are not using will pass them to a tuple where the second element is None."
   ]
  },
  {
   "cell_type": "code",
   "execution_count": 0,
   "metadata": {
    "colab": {},
    "colab_type": "code",
    "id": "Br2DWy6GRlYg"
   },
   "outputs": [],
   "source": [
    "## Applying NN model on InfoTheory column\n",
    "infotheory_data = [(\"ID\", None), # we won't be needing the source and notes, so we pass in None as the field\n",
    "                 (\"URL\", None),\n",
    "                 (\"Date\", None),\n",
    "                 (\"Title\", None),\n",
    "                 (\"InfoTheory\", LABEL),\n",
    "                 (\"CompVis\", None),\n",
    "                 ('Math',None),\n",
    "                 (\"Abstract\", TEXT)]\n",
    "\n",
    "train_infotheory, test_infotheory = TabularDataset.splits(path='',\n",
    "                                              train='axcs_train.csv', \n",
    "                                              test='axcs_test.csv', \n",
    "                                              format='csv',\n",
    "                                              skip_header=True,\n",
    "                                              fields=infotheory_data)"
   ]
  },
  {
   "cell_type": "code",
   "execution_count": 57,
   "metadata": {
    "colab": {
     "base_uri": "https://localhost:8080/",
     "height": 51
    },
    "colab_type": "code",
    "id": "HyBnTAyRRo68",
    "outputId": "0ed3367c-289d-4d2d-8034-958ce49e651d"
   },
   "outputs": [
    {
     "name": "stdout",
     "output_type": "stream",
     "text": [
      "Number of training examples: 54731\n",
      "Number of testing examples: 19679\n"
     ]
    }
   ],
   "source": [
    "print(f'Number of training examples: {len(train_infotheory)}')\n",
    "print(f'Number of testing examples: {len(test_infotheory)}')"
   ]
  },
  {
   "cell_type": "code",
   "execution_count": 58,
   "metadata": {
    "colab": {
     "base_uri": "https://localhost:8080/",
     "height": 54
    },
    "colab_type": "code",
    "id": "4lVwbf4iRxXq",
    "outputId": "fc11d171-718d-4830-a2a6-82912ddf8bac"
   },
   "outputs": [
    {
     "name": "stdout",
     "output_type": "stream",
     "text": [
      "{'InfoTheory': 0, 'Abstract': [' ', 'nested', 'satisfiability', 'a', 'special', 'case', 'of', 'the', 'satisfiability', 'problem', ',', 'in', 'which', 'the', 'clauses', 'have', 'a', 'hierarchical', 'structure', ',', 'is', 'shown', 'to', 'be', 'solvable', 'in', 'linear', 'time', ',', 'assuming', 'that', 'the', 'clauses', 'have', 'been', 'represented', 'in', 'a', 'convenient', 'way', '.']}\n"
     ]
    }
   ],
   "source": [
    "print(vars(train_infotheory.examples[0]))"
   ]
  },
  {
   "cell_type": "markdown",
   "metadata": {
    "colab_type": "text",
    "id": "t8NQn45lSYOF"
   },
   "source": [
    "Next we are building the Vocabulary, that is effectively used as a lookup table i,e every word in our data set has a corresonding index we do this operation since machine leaning cannot operate on strings.\n",
    "\n",
    "So, each index is used to construct a one-hot encoding. in which it trasforms the srings into an inter value of vectors form and then in this we will have more zero's and only one 1's in the vetor which indicate according the index value.\n",
    "\n",
    "The Dimentionality is the total number of unique words in the vocabulary.\n",
    "\n",
    "The number of unique words in our Training set is \" \" and since it would take more memory space we would cut down the training dataset as the top 5000 words.\n",
    "\n",
    "then we are replacing a special unknown token when there is need for those missing words.\n",
    "\n",
    "Then we are only keeping the most common max_size tokens."
   ]
  },
  {
   "cell_type": "code",
   "execution_count": 0,
   "metadata": {
    "colab": {},
    "colab_type": "code",
    "id": "seDtTwdlRzmj"
   },
   "outputs": [],
   "source": [
    "MAX_VOCAB_SIZE = 5400\n",
    "\n",
    "TEXT.build_vocab(train_infotheory, max_size = MAX_VOCAB_SIZE)\n",
    "#LABEL.build_vocab(train_data)"
   ]
  },
  {
   "cell_type": "code",
   "execution_count": 60,
   "metadata": {
    "colab": {
     "base_uri": "https://localhost:8080/",
     "height": 34
    },
    "colab_type": "code",
    "id": "PiRjL1ObR1OI",
    "outputId": "0a77f072-c2e7-4899-cf9e-e859e3b78b9f"
   },
   "outputs": [
    {
     "name": "stdout",
     "output_type": "stream",
     "text": [
      "Unique tokens in TEXT vocabulary: 5402\n"
     ]
    }
   ],
   "source": [
    "print(f\"Unique tokens in TEXT vocabulary: {len(TEXT.vocab)}\")\n",
    "#print(f\"Unique tokens in LABEL vocabulary: {len(LABEL.vocab)}\")"
   ]
  },
  {
   "cell_type": "markdown",
   "metadata": {
    "colab_type": "text",
    "id": "qhTVM82SSetN"
   },
   "source": [
    "Printing the frequencies of most common words in the training set.\n",
    "\n",
    "The vocab size 5002 because of the addition tokens is the `<unk>` token and the other is a `<pad>` token."
   ]
  },
  {
   "cell_type": "code",
   "execution_count": 61,
   "metadata": {
    "colab": {
     "base_uri": "https://localhost:8080/",
     "height": 54
    },
    "colab_type": "code",
    "id": "HjgDh3wER2_d",
    "outputId": "9a710f68-da84-4db2-b098-7b76ce164217"
   },
   "outputs": [
    {
     "name": "stdout",
     "output_type": "stream",
     "text": [
      "[('the', 512010), ('of', 344238), ('.', 332875), (',', 307484), ('a', 218648), ('and', 213963), ('-', 184859), ('to', 176340), ('in', 174585), ('is', 130627), ('for', 120901), ('we', 110661), ('that', 89421), ('this', 74411), ('on', 68779), ('with', 66354), ('are', 57723), (' ', 54731), ('an', 49791), ('by', 49768)]\n"
     ]
    }
   ],
   "source": [
    "print(TEXT.vocab.freqs.most_common(20))"
   ]
  },
  {
   "cell_type": "markdown",
   "metadata": {
    "colab_type": "text",
    "id": "uYPrv_WcSj8y"
   },
   "source": [
    "When we feed the sentence into our model we feed more than one at time and then it should follow a same size as that of the batch size and to ensure each sentence in the batch is the same size, any shorter than the longest within the batch are padded."
   ]
  },
  {
   "cell_type": "code",
   "execution_count": 62,
   "metadata": {
    "colab": {
     "base_uri": "https://localhost:8080/",
     "height": 51
    },
    "colab_type": "code",
    "id": "SmhN5tHnR4x5",
    "outputId": "571d27c3-062c-4ef8-921c-10035b90b605"
   },
   "outputs": [
    {
     "name": "stdout",
     "output_type": "stream",
     "text": [
      "['<unk>', '<pad>', 'the', 'of', '.', ',', 'a', 'and', '-', 'to']\n",
      "<torchtext.data.field.LabelField object at 0x7ff74c4e7c18>\n"
     ]
    }
   ],
   "source": [
    "print(TEXT.vocab.itos[:10])\n",
    "print(LABEL)"
   ]
  },
  {
   "cell_type": "markdown",
   "metadata": {
    "colab_type": "text",
    "id": "fzHFIXNxSm7w"
   },
   "source": [
    "Here we are initializing the batch size as 16, then we are preparing the data by creating an iterators.\n",
    "\n",
    "After creating we are iterating over the training and testing and then returning the batch of examples which are converted into tensors by using the indexes at every iterations.\n",
    "\n",
    "Here below we are using `BucketIterator` which is a special iterator which would return a examples of batches with similar length and minimizing the amount of padding per examples.\n",
    "\n",
    "Then we are replacing the tensors returned by the iterators on the GPU and this is handled by `torch.device` by passing this device to the iterator.\n",
    "\n",
    "We also want to place the tensors returned by the iterator on the GPU (if you're using one). PyTorch handles this using `torch.device`, we then pass this device to the iterator."
   ]
  },
  {
   "cell_type": "code",
   "execution_count": 0,
   "metadata": {
    "colab": {},
    "colab_type": "code",
    "id": "Erx80JrUR6UY"
   },
   "outputs": [],
   "source": [
    "BATCH_SIZE = 16\n",
    "\n",
    "device = torch.device('cuda' if torch.cuda.is_available() else 'cpu')\n",
    "\n",
    "train_iterator, test_iterator = data.BucketIterator.splits(\n",
    "    (train_infotheory, test_infotheory), \n",
    "    batch_size = BATCH_SIZE,\n",
    "    device = device,\n",
    "    sort_key = lambda x: len(x.Abstract),\n",
    "    sort_within_batch = False)"
   ]
  },
  {
   "cell_type": "code",
   "execution_count": 64,
   "metadata": {
    "colab": {
     "base_uri": "https://localhost:8080/",
     "height": 85
    },
    "colab_type": "code",
    "id": "W__WO45XR8XF",
    "outputId": "2eb53e82-1008-4316-d4c0-f383ad3030b1"
   },
   "outputs": [
    {
     "data": {
      "text/plain": [
       "\n",
       "[torchtext.data.batch.Batch of size 16]\n",
       "\t[.InfoTheory]:[torch.cuda.FloatTensor of size 16 (GPU 0)]\n",
       "\t[.Abstract]:[torch.cuda.LongTensor of size 345x16 (GPU 0)]"
      ]
     },
     "execution_count": 64,
     "metadata": {
      "tags": []
     },
     "output_type": "execute_result"
    }
   ],
   "source": [
    "batch_infotheory = next(train_iterator.__iter__())\n",
    "batch_infotheory"
   ]
  },
  {
   "cell_type": "markdown",
   "metadata": {
    "colab_type": "text",
    "id": "9TIpkF3hSru6"
   },
   "source": [
    "### Building the model"
   ]
  },
  {
   "cell_type": "markdown",
   "metadata": {
    "colab_type": "text",
    "id": "IWU7xfXRSuX7"
   },
   "source": [
    "Here below we are creating some instances for our RNN class and the input dimension here is the one-hot vector which is equal to Vocab size.\n",
    "\n",
    "Then the embedding dimension is the size of the dense vector which is transformed from sparse vector to dense vector to reduce the size of the dataset so Rnn could learn easily and this depends on the size of the Vocabulary.\n",
    "\n",
    "The hidden dimentions are nothing but the size hidden states and then this also is depending upon the size of the Vocabulary and also as mentioned above that is from the embedding the dense vector and also dependent in the complecxity of the task\n",
    "\n",
    "The output dimentions are usually the number of classes. here we are providing with one dimention. which is a single scalar value."
   ]
  },
  {
   "cell_type": "code",
   "execution_count": 0,
   "metadata": {
    "colab": {},
    "colab_type": "code",
    "id": "ikfn31ekR-Gu"
   },
   "outputs": [],
   "source": [
    "INPUT_DIM = len(TEXT.vocab)\n",
    "EMBEDDING_DIM = 255\n",
    "HIDDEN_DIM = 236\n",
    "OUTPUT_DIM = 1\n",
    "\n",
    "model_infotheory = RNN(INPUT_DIM, EMBEDDING_DIM, HIDDEN_DIM, OUTPUT_DIM)"
   ]
  },
  {
   "cell_type": "markdown",
   "metadata": {
    "colab_type": "text",
    "id": "08Otbc32SxMk"
   },
   "source": [
    "Here we are defining a function by passing the above created model and returing the sum of all parameters of the training set."
   ]
  },
  {
   "cell_type": "code",
   "execution_count": 66,
   "metadata": {
    "colab": {
     "base_uri": "https://localhost:8080/",
     "height": 34
    },
    "colab_type": "code",
    "id": "AhrKRs8NSBAI",
    "outputId": "69bec702-c064-4ce9-e5c6-8f087a3e5561"
   },
   "outputs": [
    {
     "name": "stdout",
     "output_type": "stream",
     "text": [
      "The model has 1,494,095 trainable parameters\n"
     ]
    }
   ],
   "source": [
    "def count_parameters(model):\n",
    "    return sum(p.numel() for p in model.parameters() if p.requires_grad)\n",
    "\n",
    "print(f'The model has {count_parameters(model_infotheory):,} trainable parameters')"
   ]
  },
  {
   "cell_type": "markdown",
   "metadata": {
    "colab_type": "text",
    "id": "Qo8bEW9FS0lr"
   },
   "source": [
    " # Train the Model for InfoTheory"
   ]
  },
  {
   "cell_type": "markdown",
   "metadata": {
    "colab_type": "text",
    "id": "GfiVJfkhS5Kn"
   },
   "source": [
    "Here we are creating a Optimizer which is an algorithm where we update the parameters of the module.\n",
    "\n",
    "So, here we are using <b>stochastic gradient descent (SGD)</b> as an optimizer. In this the first argument we are passing is the parameters that has to be updated and then followed by the learning rate.\n"
   ]
  },
  {
   "cell_type": "code",
   "execution_count": 0,
   "metadata": {
    "colab": {},
    "colab_type": "code",
    "id": "lt8DLCP1SCsM"
   },
   "outputs": [],
   "source": [
    "import torch.optim as optim\n",
    "\n",
    "optimizer = optim.SGD(model.parameters(), lr=1e-3)"
   ]
  },
  {
   "cell_type": "markdown",
   "metadata": {
    "colab_type": "text",
    "id": "4NzfVyOwS7kx"
   },
   "source": [
    "Here in the below cell have defined a loss function and in PyTorch it is commonly called as Criterion.\n",
    "This is bacause it is used as criteria for the function to carry out or to terminate.\n",
    "\n",
    "Here we are using `Binary cross entropy with logits`.\n",
    "\n",
    "Here we are restricting the predictions to 0 and 1 by suing some sigmoid or logit function.\n",
    "Then after this we use some bond scalar to calculate the loss by using binary cross entropy and the `BCEWithLogitsLoss` criterion is used to carry out the sigmoid and the binary cross entropy steps."
   ]
  },
  {
   "cell_type": "code",
   "execution_count": 0,
   "metadata": {
    "colab": {},
    "colab_type": "code",
    "id": "a4g_3C_kSEXN"
   },
   "outputs": [],
   "source": [
    "criterion = nn.BCEWithLogitsLoss()"
   ]
  },
  {
   "cell_type": "code",
   "execution_count": 0,
   "metadata": {
    "colab": {},
    "colab_type": "code",
    "id": "GWJzSXWHSG77"
   },
   "outputs": [],
   "source": [
    "model = model.to(device)\n",
    "criterion = criterion.to(device)"
   ]
  },
  {
   "cell_type": "markdown",
   "metadata": {
    "colab_type": "text",
    "id": "DIFpul6pS-05"
   },
   "source": [
    "- The Train function is made to iterate over all examples i,e. one batch at a time and before that we are training our model and which turns on the dropout and batch normalization.\n",
    "- First we are putting zeros for all batches and then storing the gradient calculated by the Criterion by making all paramaters in the model to have a grad attribute.\n",
    "- This is done because PyTorch does not have the capability to remove the gradients calculated i,e. zeros from the gradient calculations, so we are remoiving it manually.\n",
    "\n",
    "- After the above process we are providing the batch of sentences as batch.text into the model which is done by the forward function as mention and explained above and then it squeeze is needed as the prediction re initially size [batch size, 1], and we need to remove the dimension of size 1 as PyTorch expects the predictions input to our criterion function to be of size [batch size].\n",
    "\n",
    "- Loss and accuracy are then measured using our forecasts and the package.label labels, with the loss being summed over all the examples in the sample.\n",
    "\n",
    "- We calculate the gradient of each parameter with loss.backward(), and then update the parameters using the gradients and optimizer algorithm with optimizer.step().\n",
    "\n",
    "- `.item()` is used to extract a scalar from the tensor in turn which only contains a single value.\n",
    "\n",
    "- then we are returning the loss and accuracy as an average acorss the number of iterations or steps or epoch and then we are specifying the len of an iterator as the number of batches in the iteartor.\n",
    "\n"
   ]
  },
  {
   "cell_type": "code",
   "execution_count": 0,
   "metadata": {
    "colab": {},
    "colab_type": "code",
    "id": "BVdCNHAxSJbq"
   },
   "outputs": [],
   "source": [
    "def binary_accuracy(preds, y):\n",
    "    \"\"\"\n",
    "    Returns accuracy per batch, i.e. if you get 8/10 right, this returns 0.8, NOT 8\n",
    "    \"\"\"\n",
    "\n",
    "    #round predictions to the closest integer\n",
    "    rounded_preds = torch.round(torch.sigmoid(preds))\n",
    "    correct = (rounded_preds == y).float() #convert into float for division \n",
    "    acc = correct.sum() / len(correct)\n",
    "    return acc"
   ]
  },
  {
   "cell_type": "code",
   "execution_count": 0,
   "metadata": {
    "colab": {},
    "colab_type": "code",
    "id": "bCU6bjb_SLtI"
   },
   "outputs": [],
   "source": [
    "def train(model, iterator, optimizer, criterion):\n",
    "    \n",
    "    epoch_loss = 0\n",
    "    epoch_acc = 0\n",
    "    \n",
    "    model.train()\n",
    "    \n",
    "    for batch in iterator:\n",
    "        \n",
    "        optimizer.zero_grad()\n",
    "                \n",
    "        predictions = model(batch.Abstract).squeeze(1)\n",
    "        \n",
    "        loss = criterion(predictions, batch.InfoTheory)\n",
    "        \n",
    "        acc = binary_accuracy(predictions, batch.InfoTheory)\n",
    "        \n",
    "        loss.backward()\n",
    "        \n",
    "        optimizer.step()\n",
    "        \n",
    "        epoch_loss += loss.item()\n",
    "        epoch_acc += acc.item()\n",
    "        \n",
    "    return epoch_loss / len(iterator), epoch_acc / len(iterator)"
   ]
  },
  {
   "cell_type": "markdown",
   "metadata": {
    "colab_type": "text",
    "id": "Ijjfio9vTB4s"
   },
   "source": [
    "Evaluate function is same as the train function but here we are not updating the paramters when evaluating.\n",
    "\n",
    "model.eval() puts the model in \"evaluation mode\", this turns off dropout and batch normalization. Again, we are not using them in this model, but it is good practice to include them.\n",
    "\n",
    "No gradients are calculated on PyTorch operations inside the with no_grad() block. This causes less memory to be used and speeds up computation."
   ]
  },
  {
   "cell_type": "code",
   "execution_count": 0,
   "metadata": {
    "colab": {},
    "colab_type": "code",
    "id": "2SwTq5XKSPaj"
   },
   "outputs": [],
   "source": [
    "def evaluate(model, iterator, criterion):\n",
    "    \n",
    "    epoch_loss = 0\n",
    "    epoch_acc = 0\n",
    "    \n",
    "    model.eval()\n",
    "    \n",
    "    with torch.no_grad():\n",
    "    \n",
    "        for batch in iterator:\n",
    "\n",
    "            predictions = model(batch.Abstract).squeeze(1)\n",
    "            \n",
    "            loss = criterion(predictions, batch.InfoTheory)\n",
    "            \n",
    "            acc = binary_accuracy(predictions, batch.InfoTheory)\n",
    "\n",
    "            epoch_loss += loss.item()\n",
    "            epoch_acc += acc.item()\n",
    "        \n",
    "    return epoch_loss / len(iterator), epoch_acc / len(iterator)"
   ]
  },
  {
   "cell_type": "code",
   "execution_count": 0,
   "metadata": {
    "colab": {},
    "colab_type": "code",
    "id": "HL1KFLuGSRI-"
   },
   "outputs": [],
   "source": [
    "import time\n",
    "\n",
    "def epoch_time(start_time, end_time):\n",
    "    elapsed_time = end_time - start_time\n",
    "    elapsed_mins = int(elapsed_time / 60)\n",
    "    elapsed_secs = int(elapsed_time - (elapsed_mins * 60))\n",
    "    return elapsed_mins, elapsed_secs"
   ]
  },
  {
   "cell_type": "markdown",
   "metadata": {
    "colab_type": "text",
    "id": "cE-Mf700TFVB"
   },
   "source": [
    "Here we are training the model through multiple epochs and then as we train model one by one we are passing through all the examples in the training set so the RNN learns it well."
   ]
  },
  {
   "cell_type": "code",
   "execution_count": 74,
   "metadata": {
    "colab": {
     "base_uri": "https://localhost:8080/",
     "height": 187
    },
    "colab_type": "code",
    "id": "_J9q5_qqSTRH",
    "outputId": "18c4cd5f-ca13-420c-b996-d839da063d70"
   },
   "outputs": [
    {
     "name": "stdout",
     "output_type": "stream",
     "text": [
      "Epoch: 01 | Epoch Time: 0m 38s\n",
      "\tTrain Loss: 0.490 | Train Acc: 80.72%\n",
      "Epoch: 02 | Epoch Time: 0m 38s\n",
      "\tTrain Loss: 0.490 | Train Acc: 80.73%\n",
      "Epoch: 03 | Epoch Time: 0m 38s\n",
      "\tTrain Loss: 0.490 | Train Acc: 80.72%\n",
      "Epoch: 04 | Epoch Time: 0m 38s\n",
      "\tTrain Loss: 0.490 | Train Acc: 80.72%\n",
      "Epoch: 05 | Epoch Time: 0m 38s\n",
      "\tTrain Loss: 0.490 | Train Acc: 80.72%\n"
     ]
    }
   ],
   "source": [
    "N_EPOCHS = 5\n",
    "\n",
    "for epoch in range(N_EPOCHS):\n",
    "\n",
    "    start_time = time.time()\n",
    "    \n",
    "    train_infotheory_loss, train_infotheory_acc = train(model, train_iterator, optimizer, criterion)    \n",
    "    end_time = time.time()\n",
    "\n",
    "    epoch_infotheory_mins, epoch_infotheory_secs = epoch_time(start_time, end_time)\n",
    "    \n",
    "    print(f'Epoch: {epoch+1:02} | Epoch Time: {epoch_infotheory_mins}m {epoch_infotheory_secs}s')\n",
    "    print(f'\\tTrain Loss: {train_infotheory_loss:.3f} | Train Acc: {train_infotheory_acc*100:.2f}%')"
   ]
  },
  {
   "cell_type": "markdown",
   "metadata": {
    "colab_type": "text",
    "id": "in0aZpJITL-a"
   },
   "source": []
  },
  {
   "cell_type": "code",
   "execution_count": 0,
   "metadata": {
    "colab": {},
    "colab_type": "code",
    "id": "kZHP-5GrSVAF"
   },
   "outputs": [],
   "source": [
    "torch.save(model.state_dict(), 'RNN_model.pt')"
   ]
  },
  {
   "cell_type": "code",
   "execution_count": 0,
   "metadata": {
    "colab": {},
    "colab_type": "code",
    "id": "3PQWVD99h2_M"
   },
   "outputs": [],
   "source": []
  },
  {
   "cell_type": "code",
   "execution_count": 76,
   "metadata": {
    "colab": {
     "base_uri": "https://localhost:8080/",
     "height": 34
    },
    "colab_type": "code",
    "id": "Vc52PHLESXH-",
    "outputId": "44273752-bad0-4a7d-83e8-e85bddd247c5"
   },
   "outputs": [
    {
     "data": {
      "text/plain": [
       "<All keys matched successfully>"
      ]
     },
     "execution_count": 76,
     "metadata": {
      "tags": []
     },
     "output_type": "execute_result"
    }
   ],
   "source": [
    "model.load_state_dict(torch.load('RNN_model.pt'))"
   ]
  },
  {
   "cell_type": "code",
   "execution_count": 0,
   "metadata": {
    "colab": {},
    "colab_type": "code",
    "id": "qrM66JgSSaOn"
   },
   "outputs": [],
   "source": [
    "y_infotheory_predict = []\n",
    "y_infotheory_test = []\n",
    "\n",
    "model.eval()\n",
    "with torch.no_grad():\n",
    "    for batch in test_iterator:\n",
    "        predictions = model(batch.Abstract).squeeze(1)\n",
    "        rounded_preds = torch.round(torch.sigmoid(predictions))\n",
    "        y_infotheory_predict += rounded_preds.tolist()\n",
    "        y_infotheory_test += batch.InfoTheory.tolist()\n",
    "        #acc = binary_accuracy(predictions, batch.InfoTheory)"
   ]
  },
  {
   "cell_type": "code",
   "execution_count": 78,
   "metadata": {
    "colab": {
     "base_uri": "https://localhost:8080/",
     "height": 136
    },
    "colab_type": "code",
    "id": "9My75pTMSatO",
    "outputId": "0127961e-c22f-4110-db21-4eecbdbf2d88"
   },
   "outputs": [
    {
     "name": "stdout",
     "output_type": "stream",
     "text": [
      "[[16008    55]\n",
      " [ 3609     7]]\n",
      "Accuracy_Infotheory: 0.8138116774226333\n",
      "Macro Precision_Infotheory: 0.4644650706184728\n",
      "Macro Recall_Infotheory: 0.4992559113892808\n",
      "Macro F1 score_Infotheory:0.450557916785541\n",
      "MCC_Infotheory:-0.010284189075567409\n"
     ]
    }
   ],
   "source": [
    "from sklearn.metrics import precision_score, recall_score, f1_score, accuracy_score, confusion_matrix, matthews_corrcoef\n",
    "import numpy as np\n",
    "\n",
    "y_infotheory_predict = np.asarray(y_infotheory_predict)\n",
    "y_infotheory_test = np.asarray(y_infotheory_test)\n",
    "print(confusion_matrix(y_infotheory_test,y_infotheory_predict))\n",
    "recall_Infotheory=recall_score(y_infotheory_test,y_infotheory_predict,average='macro')\n",
    "precision_Infotheory=precision_score(y_infotheory_test,y_infotheory_predict,average='macro')\n",
    "f1score_Infotheory=f1_score(y_infotheory_test,y_infotheory_predict,average='macro')\n",
    "accuracy_Infotheory=accuracy_score(y_infotheory_test,y_infotheory_predict)\n",
    "matthews_Infotheory = matthews_corrcoef(y_infotheory_test,y_infotheory_predict) \n",
    "print('Accuracy_Infotheory: '+ str(accuracy_Infotheory))\n",
    "print('Macro Precision_Infotheory: '+ str(precision_Infotheory))\n",
    "print('Macro Recall_Infotheory: '+ str(recall_Infotheory))\n",
    "print('Macro F1 score_Infotheory:'+ str(f1score_Infotheory))\n",
    "print('MCC_Infotheory:'+ str(matthews_Infotheory))"
   ]
  },
  {
   "cell_type": "code",
   "execution_count": 79,
   "metadata": {
    "colab": {
     "base_uri": "https://localhost:8080/",
     "height": 85
    },
    "colab_type": "code",
    "id": "A8FZqDHZSWZ4",
    "outputId": "6c42101b-1db2-40c4-d992-fd0b3e0835e5"
   },
   "outputs": [
    {
     "name": "stdout",
     "output_type": "stream",
     "text": [
      "The number of true negatives for Infotheory classifier of NN model is: 16008\n",
      "The number of false positives for Infotheory classifier of NN model is: 55\n",
      "The number of false negatives for Infotheory classifier of NN model is: 3609\n",
      "The number of true positives for Infotheory classifier of NN model is: 7\n"
     ]
    }
   ],
   "source": [
    "print(\"The number of true negatives for Infotheory classifier of NN model is: \" + str(confusion_matrix(y_infotheory_test,y_infotheory_predict)[0][0]))\n",
    "print(\"The number of false positives for Infotheory classifier of NN model is: \" + str(confusion_matrix(y_infotheory_test,y_infotheory_predict)[0][1]))\n",
    "print(\"The number of false negatives for Infotheory classifier of NN model is: \" + str(confusion_matrix(y_infotheory_test,y_infotheory_predict)[1][0]))\n",
    "print(\"The number of true positives for Infotheory classifier of NN model is: \" + str(confusion_matrix(y_infotheory_test,y_infotheory_predict)[1][1]))"
   ]
  },
  {
   "cell_type": "markdown",
   "metadata": {
    "colab": {},
    "colab_type": "code",
    "id": "VcBYPoFsScw_"
   },
   "source": [
    "### Part 1: Machine Learning Method"
   ]
  },
  {
   "cell_type": "code",
   "execution_count": 22,
   "metadata": {},
   "outputs": [],
   "source": [
    "from nltk.corpus import stopwords\n",
    "from nltk import word_tokenize    \n",
    "from nltk.tokenize import wordpunct_tokenize\n",
    "from nltk.stem import WordNetLemmatizer\n",
    "from sklearn.feature_extraction.text import TfidfVectorizer\n",
    "from sklearn.metrics import precision_score, recall_score, f1_score, accuracy_score, confusion_matrix, matthews_corrcoef\n",
    "from sklearn.linear_model import LogisticRegression\n",
    "from sklearn.naive_bayes import MultinomialNB, GaussianNB,BernoulliNB\n",
    "from sklearn.svm import LinearSVC, SVC\n",
    "from sklearn.ensemble import RandomForestClassifier\n",
    "from sklearn.feature_extraction import text\n",
    "#from sklearn import cross_validation\n",
    "from sklearn.model_selection import cross_val_score\n",
    "import pandas as pd\n",
    "import numpy as np\n",
    "import re"
   ]
  },
  {
   "cell_type": "markdown",
   "metadata": {},
   "source": [
    "# Math"
   ]
  },
  {
   "cell_type": "code",
   "execution_count": 23,
   "metadata": {},
   "outputs": [],
   "source": [
    "data_training = pd.read_csv(\"axcs_train.csv\")\n",
    "data_testing = pd.read_csv(\"axcs_test.csv\")"
   ]
  },
  {
   "cell_type": "code",
   "execution_count": 24,
   "metadata": {},
   "outputs": [
    {
     "data": {
      "text/html": [
       "<div>\n",
       "<style scoped>\n",
       "    .dataframe tbody tr th:only-of-type {\n",
       "        vertical-align: middle;\n",
       "    }\n",
       "\n",
       "    .dataframe tbody tr th {\n",
       "        vertical-align: top;\n",
       "    }\n",
       "\n",
       "    .dataframe thead th {\n",
       "        text-align: right;\n",
       "    }\n",
       "</style>\n",
       "<table border=\"1\" class=\"dataframe\">\n",
       "  <thead>\n",
       "    <tr style=\"text-align: right;\">\n",
       "      <th></th>\n",
       "      <th>ID</th>\n",
       "      <th>URL</th>\n",
       "      <th>Date</th>\n",
       "      <th>Title</th>\n",
       "      <th>InfoTheory</th>\n",
       "      <th>CompVis</th>\n",
       "      <th>Math</th>\n",
       "      <th>Abstract</th>\n",
       "    </tr>\n",
       "  </thead>\n",
       "  <tbody>\n",
       "    <tr>\n",
       "      <th>0</th>\n",
       "      <td>cs-9301111</td>\n",
       "      <td>arxiv.org/abs/cs/9301111</td>\n",
       "      <td>1989-12-31</td>\n",
       "      <td>Nested satisfiability</td>\n",
       "      <td>0</td>\n",
       "      <td>0</td>\n",
       "      <td>0</td>\n",
       "      <td>Nested satisfiability A special case of the s...</td>\n",
       "    </tr>\n",
       "    <tr>\n",
       "      <th>1</th>\n",
       "      <td>cs-9301112</td>\n",
       "      <td>arxiv.org/abs/cs/9301112</td>\n",
       "      <td>1990-03-31</td>\n",
       "      <td>A note on digitized angles</td>\n",
       "      <td>0</td>\n",
       "      <td>0</td>\n",
       "      <td>0</td>\n",
       "      <td>A note on digitized angles We study the confi...</td>\n",
       "    </tr>\n",
       "    <tr>\n",
       "      <th>2</th>\n",
       "      <td>cs-9301113</td>\n",
       "      <td>arxiv.org/abs/cs/9301113</td>\n",
       "      <td>1991-07-31</td>\n",
       "      <td>Textbook examples of recursion</td>\n",
       "      <td>0</td>\n",
       "      <td>0</td>\n",
       "      <td>0</td>\n",
       "      <td>Textbook examples of recursion We discuss pro...</td>\n",
       "    </tr>\n",
       "    <tr>\n",
       "      <th>3</th>\n",
       "      <td>cs-9301114</td>\n",
       "      <td>arxiv.org/abs/cs/9301114</td>\n",
       "      <td>1991-10-31</td>\n",
       "      <td>Theory and practice</td>\n",
       "      <td>0</td>\n",
       "      <td>0</td>\n",
       "      <td>0</td>\n",
       "      <td>Theory and practice The author argues to Sili...</td>\n",
       "    </tr>\n",
       "    <tr>\n",
       "      <th>4</th>\n",
       "      <td>cs-9301115</td>\n",
       "      <td>arxiv.org/abs/cs/9301115</td>\n",
       "      <td>1991-11-30</td>\n",
       "      <td>Context-free multilanguages</td>\n",
       "      <td>0</td>\n",
       "      <td>0</td>\n",
       "      <td>0</td>\n",
       "      <td>Context-free multilanguages This article is a...</td>\n",
       "    </tr>\n",
       "  </tbody>\n",
       "</table>\n",
       "</div>"
      ],
      "text/plain": [
       "           ID                       URL        Date  \\\n",
       "0  cs-9301111  arxiv.org/abs/cs/9301111  1989-12-31   \n",
       "1  cs-9301112  arxiv.org/abs/cs/9301112  1990-03-31   \n",
       "2  cs-9301113  arxiv.org/abs/cs/9301113  1991-07-31   \n",
       "3  cs-9301114  arxiv.org/abs/cs/9301114  1991-10-31   \n",
       "4  cs-9301115  arxiv.org/abs/cs/9301115  1991-11-30   \n",
       "\n",
       "                            Title  InfoTheory  CompVis  Math  \\\n",
       "0           Nested satisfiability           0        0     0   \n",
       "1      A note on digitized angles           0        0     0   \n",
       "2  Textbook examples of recursion           0        0     0   \n",
       "3             Theory and practice           0        0     0   \n",
       "4     Context-free multilanguages           0        0     0   \n",
       "\n",
       "                                            Abstract  \n",
       "0   Nested satisfiability A special case of the s...  \n",
       "1   A note on digitized angles We study the confi...  \n",
       "2   Textbook examples of recursion We discuss pro...  \n",
       "3   Theory and practice The author argues to Sili...  \n",
       "4   Context-free multilanguages This article is a...  "
      ]
     },
     "execution_count": 24,
     "metadata": {},
     "output_type": "execute_result"
    }
   ],
   "source": [
    "data_training.head()"
   ]
  },
  {
   "cell_type": "code",
   "execution_count": 25,
   "metadata": {},
   "outputs": [
    {
     "data": {
      "text/html": [
       "<div>\n",
       "<style scoped>\n",
       "    .dataframe tbody tr th:only-of-type {\n",
       "        vertical-align: middle;\n",
       "    }\n",
       "\n",
       "    .dataframe tbody tr th {\n",
       "        vertical-align: top;\n",
       "    }\n",
       "\n",
       "    .dataframe thead th {\n",
       "        text-align: right;\n",
       "    }\n",
       "</style>\n",
       "<table border=\"1\" class=\"dataframe\">\n",
       "  <thead>\n",
       "    <tr style=\"text-align: right;\">\n",
       "      <th></th>\n",
       "      <th>ID</th>\n",
       "      <th>URL</th>\n",
       "      <th>Date</th>\n",
       "      <th>Title</th>\n",
       "      <th>InfoTheory</th>\n",
       "      <th>CompVis</th>\n",
       "      <th>Math</th>\n",
       "      <th>Abstract</th>\n",
       "    </tr>\n",
       "  </thead>\n",
       "  <tbody>\n",
       "    <tr>\n",
       "      <th>0</th>\n",
       "      <td>no-150100335</td>\n",
       "      <td>arxiv.org/abs/1501.00335</td>\n",
       "      <td>1/1/15</td>\n",
       "      <td>A Data Transparency Framework for Mobile Appli...</td>\n",
       "      <td>0</td>\n",
       "      <td>0</td>\n",
       "      <td>0</td>\n",
       "      <td>A Data Transparency Framework for Mobile Appl...</td>\n",
       "    </tr>\n",
       "    <tr>\n",
       "      <th>1</th>\n",
       "      <td>no-14024178</td>\n",
       "      <td>arxiv.org/abs/1402.4178</td>\n",
       "      <td>1/1/15</td>\n",
       "      <td>A reclaimer scheduling problem arising in coal...</td>\n",
       "      <td>0</td>\n",
       "      <td>0</td>\n",
       "      <td>0</td>\n",
       "      <td>A reclaimer scheduling problem arising in coa...</td>\n",
       "    </tr>\n",
       "    <tr>\n",
       "      <th>2</th>\n",
       "      <td>no-150100263</td>\n",
       "      <td>arxiv.org/abs/1501.00263</td>\n",
       "      <td>1/1/15</td>\n",
       "      <td>Communication-Efficient Distributed Optimizati...</td>\n",
       "      <td>0</td>\n",
       "      <td>0</td>\n",
       "      <td>1</td>\n",
       "      <td>Communication-Efficient Distributed Optimizat...</td>\n",
       "    </tr>\n",
       "    <tr>\n",
       "      <th>3</th>\n",
       "      <td>no-150100287</td>\n",
       "      <td>arxiv.org/abs/1501.00287</td>\n",
       "      <td>1/1/15</td>\n",
       "      <td>Consistent Classification Algorithms for Multi...</td>\n",
       "      <td>0</td>\n",
       "      <td>0</td>\n",
       "      <td>0</td>\n",
       "      <td>Consistent Classification Algorithms for Mult...</td>\n",
       "    </tr>\n",
       "    <tr>\n",
       "      <th>4</th>\n",
       "      <td>no-11070586</td>\n",
       "      <td>arxiv.org/abs/1107.0586</td>\n",
       "      <td>1/1/15</td>\n",
       "      <td>Managing key multicasting through orthogonal s...</td>\n",
       "      <td>0</td>\n",
       "      <td>0</td>\n",
       "      <td>0</td>\n",
       "      <td>Managing key multicasting through orthogonal ...</td>\n",
       "    </tr>\n",
       "  </tbody>\n",
       "</table>\n",
       "</div>"
      ],
      "text/plain": [
       "             ID                       URL    Date  \\\n",
       "0  no-150100335  arxiv.org/abs/1501.00335  1/1/15   \n",
       "1   no-14024178   arxiv.org/abs/1402.4178  1/1/15   \n",
       "2  no-150100263  arxiv.org/abs/1501.00263  1/1/15   \n",
       "3  no-150100287  arxiv.org/abs/1501.00287  1/1/15   \n",
       "4   no-11070586   arxiv.org/abs/1107.0586  1/1/15   \n",
       "\n",
       "                                               Title  InfoTheory  CompVis  \\\n",
       "0  A Data Transparency Framework for Mobile Appli...           0        0   \n",
       "1  A reclaimer scheduling problem arising in coal...           0        0   \n",
       "2  Communication-Efficient Distributed Optimizati...           0        0   \n",
       "3  Consistent Classification Algorithms for Multi...           0        0   \n",
       "4  Managing key multicasting through orthogonal s...           0        0   \n",
       "\n",
       "   Math                                           Abstract  \n",
       "0     0   A Data Transparency Framework for Mobile Appl...  \n",
       "1     0   A reclaimer scheduling problem arising in coa...  \n",
       "2     1   Communication-Efficient Distributed Optimizat...  \n",
       "3     0   Consistent Classification Algorithms for Mult...  \n",
       "4     0   Managing key multicasting through orthogonal ...  "
      ]
     },
     "execution_count": 25,
     "metadata": {},
     "output_type": "execute_result"
    }
   ],
   "source": [
    "data_testing.head() "
   ]
  },
  {
   "cell_type": "code",
   "execution_count": 26,
   "metadata": {},
   "outputs": [],
   "source": [
    "Abstract_training_data = data_training.Abstract.tolist()   # convert into a list\n",
    "Math_training_data = data_training.Math.tolist() "
   ]
  },
  {
   "cell_type": "code",
   "execution_count": 27,
   "metadata": {},
   "outputs": [
    {
     "data": {
      "text/plain": [
       "[' Nested satisfiability A special case of the satisfiability problem, in which the clauses have a hierarchical structure, is shown to be solvable in linear time, assuming that the clauses have been represented in a convenient way. ',\n",
       " ' A note on digitized angles We study the configurations of pixels that occur when two digitized straight lines meet each other. ',\n",
       " \" Textbook examples of recursion We discuss properties of recursive schemas related to McCarthy's ``91 function'' and to Takeuchi's triple recursion. Several theorems are proposed as interesting candidates for machine verification, and some intriguing open questions are raised. \",\n",
       " ' Theory and practice The author argues to Silicon Valley that the most important and powerful part of computer science is work that is simultaneously theoretical and practical. He particularly considers the intersection of the theory of algorithms and practical software development. He combines examples from the development of the TeX typesetting system with clever jokes, criticisms, and encouragements. ',\n",
       " \" Context-free multilanguages This article is a sketch of ideas that were once intended to appear in the author's famous series, The Art of Computer Programming . He generalizes the notion of a context-free language from a set to a multiset of words over an alphabet. The idea is to keep track of the number of ways to parse a string. For example, fruit flies like a banana can famously be parsed in two ways; analogous examples in the setting of programming languages may yet be important in the future. The treatment is informal but essentially rigorous. \"]"
      ]
     },
     "execution_count": 27,
     "metadata": {},
     "output_type": "execute_result"
    }
   ],
   "source": [
    "Abstract_training_data[0:5]"
   ]
  },
  {
   "cell_type": "code",
   "execution_count": 28,
   "metadata": {},
   "outputs": [
    {
     "data": {
      "text/plain": [
       "[0, 0, 0, 0, 0]"
      ]
     },
     "execution_count": 28,
     "metadata": {},
     "output_type": "execute_result"
    }
   ],
   "source": [
    "Math_training_data[0:5]"
   ]
  },
  {
   "cell_type": "code",
   "execution_count": 29,
   "metadata": {},
   "outputs": [
    {
     "name": "stdout",
     "output_type": "stream",
     "text": [
      "54731\n"
     ]
    }
   ],
   "source": [
    "print(len(Abstract_training_data)) "
   ]
  },
  {
   "cell_type": "code",
   "execution_count": 30,
   "metadata": {},
   "outputs": [],
   "source": [
    "class LemmaTokenizer(object):                            # creating a class for lemmatokenizer\n",
    "    def __init__(self):\n",
    "        self.wnl=WordNetLemmatizer()\n",
    "    def __call__(self,doc):\n",
    "        return [self.wnl.lemmatize(t) for t in word_tokenize(doc)]"
   ]
  },
  {
   "cell_type": "code",
   "execution_count": 31,
   "metadata": {},
   "outputs": [],
   "source": [
    "# Tokenizing the data and removing stop words\n",
    "stop_words_for_vec = text.ENGLISH_STOP_WORDS                           \n",
    "vectorizer = TfidfVectorizer(analyzer='word',input='content',\n",
    "                           lowercase=True,\n",
    "                           token_pattern=r\"[A-Za-z]\\w+(?:[-'?]\\w+)?\", stop_words = set(stop_words_for_vec),\n",
    "                           min_df=3,\n",
    "                           ngram_range=(1,2),\n",
    "                           tokenizer=LemmaTokenizer())"
   ]
  },
  {
   "cell_type": "code",
   "execution_count": 32,
   "metadata": {},
   "outputs": [
    {
     "name": "stderr",
     "output_type": "stream",
     "text": [
      "/Users/manojmanu/anaconda3/lib/python3.7/site-packages/sklearn/feature_extraction/text.py:300: UserWarning: Your stop_words may be inconsistent with your preprocessing. Tokenizing the stop words generated tokens ['ha', 'le', 'u', 'wa'] not in stop_words.\n",
      "  'stop_words.' % sorted(inconsistent))\n"
     ]
    }
   ],
   "source": [
    "# Training the data as x_train and y_train\n",
    "x_train = vectorizer.fit_transform(Abstract_training_data)\n",
    "y_train = np.asarray(Math_training_data)"
   ]
  },
  {
   "cell_type": "code",
   "execution_count": 33,
   "metadata": {},
   "outputs": [
    {
     "name": "stderr",
     "output_type": "stream",
     "text": [
      "/Users/manojmanu/anaconda3/lib/python3.7/site-packages/sklearn/linear_model/logistic.py:432: FutureWarning: Default solver will be changed to 'lbfgs' in 0.22. Specify a solver to silence this warning.\n",
      "  FutureWarning)\n",
      "/Users/manojmanu/anaconda3/lib/python3.7/site-packages/sklearn/ensemble/forest.py:245: FutureWarning: The default value of n_estimators will change from 10 in version 0.20 to 100 in 0.22.\n",
      "  \"10 in version 0.20 to 100 in 0.22.\", FutureWarning)\n",
      "/Users/manojmanu/anaconda3/lib/python3.7/site-packages/sklearn/ensemble/forest.py:245: FutureWarning: The default value of n_estimators will change from 10 in version 0.20 to 100 in 0.22.\n",
      "  \"10 in version 0.20 to 100 in 0.22.\", FutureWarning)\n",
      "/Users/manojmanu/anaconda3/lib/python3.7/site-packages/sklearn/ensemble/forest.py:245: FutureWarning: The default value of n_estimators will change from 10 in version 0.20 to 100 in 0.22.\n",
      "  \"10 in version 0.20 to 100 in 0.22.\", FutureWarning)\n",
      "/Users/manojmanu/anaconda3/lib/python3.7/site-packages/sklearn/ensemble/forest.py:245: FutureWarning: The default value of n_estimators will change from 10 in version 0.20 to 100 in 0.22.\n",
      "  \"10 in version 0.20 to 100 in 0.22.\", FutureWarning)\n",
      "/Users/manojmanu/anaconda3/lib/python3.7/site-packages/sklearn/ensemble/forest.py:245: FutureWarning: The default value of n_estimators will change from 10 in version 0.20 to 100 in 0.22.\n",
      "  \"10 in version 0.20 to 100 in 0.22.\", FutureWarning)\n",
      "/Users/manojmanu/anaconda3/lib/python3.7/site-packages/sklearn/ensemble/forest.py:245: FutureWarning: The default value of n_estimators will change from 10 in version 0.20 to 100 in 0.22.\n",
      "  \"10 in version 0.20 to 100 in 0.22.\", FutureWarning)\n",
      "/Users/manojmanu/anaconda3/lib/python3.7/site-packages/sklearn/ensemble/forest.py:245: FutureWarning: The default value of n_estimators will change from 10 in version 0.20 to 100 in 0.22.\n",
      "  \"10 in version 0.20 to 100 in 0.22.\", FutureWarning)\n",
      "/Users/manojmanu/anaconda3/lib/python3.7/site-packages/sklearn/ensemble/forest.py:245: FutureWarning: The default value of n_estimators will change from 10 in version 0.20 to 100 in 0.22.\n",
      "  \"10 in version 0.20 to 100 in 0.22.\", FutureWarning)\n",
      "/Users/manojmanu/anaconda3/lib/python3.7/site-packages/sklearn/ensemble/forest.py:245: FutureWarning: The default value of n_estimators will change from 10 in version 0.20 to 100 in 0.22.\n",
      "  \"10 in version 0.20 to 100 in 0.22.\", FutureWarning)\n",
      "/Users/manojmanu/anaconda3/lib/python3.7/site-packages/sklearn/ensemble/forest.py:245: FutureWarning: The default value of n_estimators will change from 10 in version 0.20 to 100 in 0.22.\n",
      "  \"10 in version 0.20 to 100 in 0.22.\", FutureWarning)\n"
     ]
    }
   ],
   "source": [
    "# building models like  LogisticRegression, BernoulliNB,LinearSVC,RandomForestClassifier and doing some cross validation.\n",
    "models = [\n",
    "    LogisticRegression(),\n",
    "    BernoulliNB(),\n",
    "    LinearSVC(),\n",
    "    RandomForestClassifier()\n",
    "]\n",
    "CV = 10\n",
    "cv_df = pd.DataFrame(index=range(CV * len(models)))\n",
    "entries = []\n",
    "for model in models:\n",
    "     model_name = model.__class__.__name__\n",
    "     accuracies = cross_val_score(model, x_train, y_train, scoring='accuracy', cv=CV)\n",
    "     for fold_idx, accuracy in enumerate(accuracies):\n",
    "          entries.append((model_name, fold_idx, accuracy))\n",
    "cv_df = pd.DataFrame(entries, columns=['model_name', 'fold_idx', 'accuracy'])"
   ]
  },
  {
   "cell_type": "code",
   "execution_count": 34,
   "metadata": {},
   "outputs": [],
   "source": [
    "# converting to a list\n",
    "Abstract_testing_data = data_testing.Abstract.tolist()    \n",
    "Math_testing_data = data_testing.Math.tolist()"
   ]
  },
  {
   "cell_type": "code",
   "execution_count": 35,
   "metadata": {},
   "outputs": [],
   "source": [
    "x_test=vectorizer.transform(Abstract_testing_data)\n",
    "y_test=np.asarray(Math_testing_data)"
   ]
  },
  {
   "cell_type": "code",
   "execution_count": 36,
   "metadata": {},
   "outputs": [
    {
     "name": "stderr",
     "output_type": "stream",
     "text": [
      "/Users/manojmanu/anaconda3/lib/python3.7/site-packages/sklearn/linear_model/logistic.py:432: FutureWarning: Default solver will be changed to 'lbfgs' in 0.22. Specify a solver to silence this warning.\n",
      "  FutureWarning)\n"
     ]
    },
    {
     "name": "stdout",
     "output_type": "stream",
     "text": [
      "LogisticRegression\n",
      "[[13020   729]\n",
      " [ 1702  4228]]\n",
      "Accuracy: 0.8764673001676915\n",
      "Macro Precision: 0.8686629754374238\n",
      "Macro Recall: 0.8299813924839176\n",
      "Macro F1 score:0.8456605172932836\n",
      "MCC:0.697572711599602\n",
      "BernoulliNB\n",
      "[[12519  1230]\n",
      " [ 1306  4624]]\n",
      "Accuracy: 0.871131663194268\n",
      "Macro Precision: 0.847710355232292\n",
      "Macro Recall: 0.8451514302987174\n",
      "Macro F1 score:0.8464111212728265\n",
      "MCC:0.6928570601158675\n",
      "LinearSVC\n",
      "[[12814   935]\n",
      " [ 1377  4553]]\n",
      "Accuracy: 0.8825143554042381\n",
      "Macro Precision: 0.8662974744494776\n",
      "Macro Recall: 0.8498929739731493\n",
      "Macro F1 score:0.8573819759655634\n",
      "MCC:0.7160025494199902\n"
     ]
    },
    {
     "name": "stderr",
     "output_type": "stream",
     "text": [
      "/Users/manojmanu/anaconda3/lib/python3.7/site-packages/sklearn/ensemble/forest.py:245: FutureWarning: The default value of n_estimators will change from 10 in version 0.20 to 100 in 0.22.\n",
      "  \"10 in version 0.20 to 100 in 0.22.\", FutureWarning)\n"
     ]
    },
    {
     "name": "stdout",
     "output_type": "stream",
     "text": [
      "RandomForestClassifier\n",
      "[[13382   367]\n",
      " [ 3277  2653]]\n",
      "Accuracy: 0.8148279892270949\n",
      "Macro Precision: 0.840883167184057\n",
      "Macro Recall: 0.7103466608088131\n",
      "Macro F1 score:0.736506138490459\n",
      "MCC:0.5355506920660219\n"
     ]
    }
   ],
   "source": [
    "# Finding the Accuracy, Macro precision, Macro Recall, Macro F1 score, MCC\n",
    "models = [\n",
    "    LogisticRegression(),\n",
    "    BernoulliNB(),\n",
    "    LinearSVC(),\n",
    "    RandomForestClassifier()\n",
    "]\n",
    "\n",
    "for clf in models:\n",
    "    model_name = clf.__class__.__name__\n",
    "    clf.fit(x_train, y_train)\n",
    "    print(model_name)\n",
    "    # Do the prediction\n",
    "    y_predict=clf.predict(x_test)\n",
    "    print(confusion_matrix(y_test,y_predict))\n",
    "    recall=recall_score(y_test,y_predict,average='macro')\n",
    "    precision=precision_score(y_test,y_predict,average='macro')\n",
    "    f1score=f1_score(y_test,y_predict,average='macro')\n",
    "    accuracy=accuracy_score(y_test,y_predict)\n",
    "    matthews = matthews_corrcoef(y_test,y_predict) \n",
    "    print('Accuracy: '+ str(accuracy))\n",
    "    print('Macro Precision: '+ str(precision))\n",
    "    print('Macro Recall: '+ str(recall))\n",
    "    print('Macro F1 score:'+ str(f1score))\n",
    "    print('MCC:'+ str(matthews))"
   ]
  },
  {
   "cell_type": "markdown",
   "metadata": {},
   "source": [
    "# INFOTHEORY"
   ]
  },
  {
   "cell_type": "code",
   "execution_count": 37,
   "metadata": {},
   "outputs": [],
   "source": [
    "Abstract_training_data = data_training.Abstract.tolist()\n",
    "InfoTheory_training_data = data_training.InfoTheory.tolist()"
   ]
  },
  {
   "cell_type": "code",
   "execution_count": 38,
   "metadata": {},
   "outputs": [
    {
     "data": {
      "text/plain": [
       "[' Nested satisfiability A special case of the satisfiability problem, in which the clauses have a hierarchical structure, is shown to be solvable in linear time, assuming that the clauses have been represented in a convenient way. ',\n",
       " ' A note on digitized angles We study the configurations of pixels that occur when two digitized straight lines meet each other. ',\n",
       " \" Textbook examples of recursion We discuss properties of recursive schemas related to McCarthy's ``91 function'' and to Takeuchi's triple recursion. Several theorems are proposed as interesting candidates for machine verification, and some intriguing open questions are raised. \",\n",
       " ' Theory and practice The author argues to Silicon Valley that the most important and powerful part of computer science is work that is simultaneously theoretical and practical. He particularly considers the intersection of the theory of algorithms and practical software development. He combines examples from the development of the TeX typesetting system with clever jokes, criticisms, and encouragements. ',\n",
       " \" Context-free multilanguages This article is a sketch of ideas that were once intended to appear in the author's famous series, The Art of Computer Programming . He generalizes the notion of a context-free language from a set to a multiset of words over an alphabet. The idea is to keep track of the number of ways to parse a string. For example, fruit flies like a banana can famously be parsed in two ways; analogous examples in the setting of programming languages may yet be important in the future. The treatment is informal but essentially rigorous. \"]"
      ]
     },
     "execution_count": 38,
     "metadata": {},
     "output_type": "execute_result"
    }
   ],
   "source": [
    "Abstract_training_data[0:5]"
   ]
  },
  {
   "cell_type": "code",
   "execution_count": 39,
   "metadata": {},
   "outputs": [
    {
     "data": {
      "text/plain": [
       "[0, 0, 0, 0, 0]"
      ]
     },
     "execution_count": 39,
     "metadata": {},
     "output_type": "execute_result"
    }
   ],
   "source": [
    "InfoTheory_training_data[0:5]"
   ]
  },
  {
   "cell_type": "code",
   "execution_count": 40,
   "metadata": {},
   "outputs": [],
   "source": [
    "x_train = vectorizer.fit_transform(Abstract_training_data)\n",
    "y_train = np.asarray(InfoTheory_training_data)"
   ]
  },
  {
   "cell_type": "code",
   "execution_count": 41,
   "metadata": {},
   "outputs": [
    {
     "data": {
      "text/plain": [
       "286170"
      ]
     },
     "execution_count": 41,
     "metadata": {},
     "output_type": "execute_result"
    }
   ],
   "source": [
    "len(vectorizer.get_feature_names())"
   ]
  },
  {
   "cell_type": "code",
   "execution_count": 42,
   "metadata": {},
   "outputs": [
    {
     "name": "stderr",
     "output_type": "stream",
     "text": [
      "/Users/manojmanu/anaconda3/lib/python3.7/site-packages/sklearn/linear_model/logistic.py:432: FutureWarning: Default solver will be changed to 'lbfgs' in 0.22. Specify a solver to silence this warning.\n",
      "  FutureWarning)\n",
      "/Users/manojmanu/anaconda3/lib/python3.7/site-packages/sklearn/ensemble/forest.py:245: FutureWarning: The default value of n_estimators will change from 10 in version 0.20 to 100 in 0.22.\n",
      "  \"10 in version 0.20 to 100 in 0.22.\", FutureWarning)\n",
      "/Users/manojmanu/anaconda3/lib/python3.7/site-packages/sklearn/ensemble/forest.py:245: FutureWarning: The default value of n_estimators will change from 10 in version 0.20 to 100 in 0.22.\n",
      "  \"10 in version 0.20 to 100 in 0.22.\", FutureWarning)\n",
      "/Users/manojmanu/anaconda3/lib/python3.7/site-packages/sklearn/ensemble/forest.py:245: FutureWarning: The default value of n_estimators will change from 10 in version 0.20 to 100 in 0.22.\n",
      "  \"10 in version 0.20 to 100 in 0.22.\", FutureWarning)\n",
      "/Users/manojmanu/anaconda3/lib/python3.7/site-packages/sklearn/ensemble/forest.py:245: FutureWarning: The default value of n_estimators will change from 10 in version 0.20 to 100 in 0.22.\n",
      "  \"10 in version 0.20 to 100 in 0.22.\", FutureWarning)\n",
      "/Users/manojmanu/anaconda3/lib/python3.7/site-packages/sklearn/ensemble/forest.py:245: FutureWarning: The default value of n_estimators will change from 10 in version 0.20 to 100 in 0.22.\n",
      "  \"10 in version 0.20 to 100 in 0.22.\", FutureWarning)\n",
      "/Users/manojmanu/anaconda3/lib/python3.7/site-packages/sklearn/ensemble/forest.py:245: FutureWarning: The default value of n_estimators will change from 10 in version 0.20 to 100 in 0.22.\n",
      "  \"10 in version 0.20 to 100 in 0.22.\", FutureWarning)\n",
      "/Users/manojmanu/anaconda3/lib/python3.7/site-packages/sklearn/ensemble/forest.py:245: FutureWarning: The default value of n_estimators will change from 10 in version 0.20 to 100 in 0.22.\n",
      "  \"10 in version 0.20 to 100 in 0.22.\", FutureWarning)\n",
      "/Users/manojmanu/anaconda3/lib/python3.7/site-packages/sklearn/ensemble/forest.py:245: FutureWarning: The default value of n_estimators will change from 10 in version 0.20 to 100 in 0.22.\n",
      "  \"10 in version 0.20 to 100 in 0.22.\", FutureWarning)\n",
      "/Users/manojmanu/anaconda3/lib/python3.7/site-packages/sklearn/ensemble/forest.py:245: FutureWarning: The default value of n_estimators will change from 10 in version 0.20 to 100 in 0.22.\n",
      "  \"10 in version 0.20 to 100 in 0.22.\", FutureWarning)\n",
      "/Users/manojmanu/anaconda3/lib/python3.7/site-packages/sklearn/ensemble/forest.py:245: FutureWarning: The default value of n_estimators will change from 10 in version 0.20 to 100 in 0.22.\n",
      "  \"10 in version 0.20 to 100 in 0.22.\", FutureWarning)\n"
     ]
    }
   ],
   "source": [
    "models = [\n",
    "    LogisticRegression(),\n",
    "    BernoulliNB(),\n",
    "    LinearSVC(),\n",
    "    RandomForestClassifier()\n",
    "]\n",
    "CV = 10\n",
    "cv_df = pd.DataFrame(index=range(CV * len(models)))\n",
    "entries = []\n",
    "for model in models:\n",
    "     model_name = model.__class__.__name__\n",
    "     accuracies = cross_val_score(model, x_train, y_train, scoring='accuracy', cv=CV)\n",
    "     for fold_idx, accuracy in enumerate(accuracies):\n",
    "          entries.append((model_name, fold_idx, accuracy))\n",
    "cv_df = pd.DataFrame(entries, columns=['model_name', 'fold_idx', 'accuracy'])"
   ]
  },
  {
   "cell_type": "code",
   "execution_count": 43,
   "metadata": {},
   "outputs": [],
   "source": [
    "Abstract_testing_data = data_testing.Abstract.tolist()\n",
    "InfoTheory_testing_data = data_testing.InfoTheory.tolist()"
   ]
  },
  {
   "cell_type": "code",
   "execution_count": 44,
   "metadata": {},
   "outputs": [],
   "source": [
    "x_test=vectorizer.transform(Abstract_testing_data)\n",
    "y_test=np.asarray(InfoTheory_testing_data)"
   ]
  },
  {
   "cell_type": "code",
   "execution_count": 45,
   "metadata": {},
   "outputs": [
    {
     "name": "stderr",
     "output_type": "stream",
     "text": [
      "/Users/manojmanu/anaconda3/lib/python3.7/site-packages/sklearn/linear_model/logistic.py:432: FutureWarning: Default solver will be changed to 'lbfgs' in 0.22. Specify a solver to silence this warning.\n",
      "  FutureWarning)\n"
     ]
    },
    {
     "name": "stdout",
     "output_type": "stream",
     "text": [
      "LogisticRegression\n",
      "[[15881   182]\n",
      " [  851  2765]]\n",
      "Accuracy: 0.9475074952995579\n",
      "Macro Precision: 0.9436908269701535\n",
      "Macro Recall: 0.876663346521633\n",
      "Macro F1 score:0.9055518821563093\n",
      "MCC:0.8176113299301296\n",
      "BernoulliNB\n",
      "[[15658   405]\n",
      " [  594  3022]]\n",
      "Accuracy: 0.9492352253671427\n",
      "Macro Precision: 0.9226357433882932\n",
      "Macro Recall: 0.9052584327804403\n",
      "Macro F1 score:0.9136212996669142\n",
      "MCC:0.8277117831770574\n",
      "LinearSVC\n",
      "[[15818   245]\n",
      " [  598  3018]]\n",
      "Accuracy: 0.9571624574419432\n",
      "Macro Precision: 0.9442439232424029\n",
      "Macro Recall: 0.9096857251508028\n",
      "Macro F1 score:0.9257489427869707\n",
      "MCC:0.8532300834766704\n"
     ]
    },
    {
     "name": "stderr",
     "output_type": "stream",
     "text": [
      "/Users/manojmanu/anaconda3/lib/python3.7/site-packages/sklearn/ensemble/forest.py:245: FutureWarning: The default value of n_estimators will change from 10 in version 0.20 to 100 in 0.22.\n",
      "  \"10 in version 0.20 to 100 in 0.22.\", FutureWarning)\n"
     ]
    },
    {
     "name": "stdout",
     "output_type": "stream",
     "text": [
      "RandomForestClassifier\n",
      "[[15888   175]\n",
      " [ 1388  2228]]\n",
      "Accuracy: 0.9205752324813252\n",
      "Macro Precision: 0.9234158467309088\n",
      "Macro Recall: 0.8026279199876152\n",
      "Macro F1 score:0.8467201413108167\n",
      "MCC:0.7159258536635474\n"
     ]
    }
   ],
   "source": [
    "models = [\n",
    "    LogisticRegression(),\n",
    "    BernoulliNB(),\n",
    "    LinearSVC(),\n",
    "    RandomForestClassifier()\n",
    "]\n",
    "\n",
    "for clf in models:\n",
    "    model_name = clf.__class__.__name__\n",
    "    clf.fit(x_train, y_train)\n",
    "    print(model_name)\n",
    "    # Do the prediction\n",
    "    y_predict=clf.predict(x_test)\n",
    "    print(confusion_matrix(y_test,y_predict))\n",
    "    recall=recall_score(y_test,y_predict,average='macro')\n",
    "    precision=precision_score(y_test,y_predict,average='macro')\n",
    "    f1score=f1_score(y_test,y_predict,average='macro')\n",
    "    accuracy=accuracy_score(y_test,y_predict)\n",
    "    matthews = matthews_corrcoef(y_test,y_predict) \n",
    "    print('Accuracy: '+ str(accuracy))\n",
    "    print('Macro Precision: '+ str(precision))\n",
    "    print('Macro Recall: '+ str(recall))\n",
    "    print('Macro F1 score:'+ str(f1score))\n",
    "    print('MCC:'+ str(matthews))"
   ]
  },
  {
   "cell_type": "markdown",
   "metadata": {},
   "source": [
    "# Compvis"
   ]
  },
  {
   "cell_type": "code",
   "execution_count": 46,
   "metadata": {},
   "outputs": [],
   "source": [
    "Abstract_training_data = data_training.Abstract.tolist()\n",
    "Compvis_training_data = data_training.CompVis.tolist()"
   ]
  },
  {
   "cell_type": "code",
   "execution_count": 47,
   "metadata": {},
   "outputs": [],
   "source": [
    "x_train = vectorizer.fit_transform(Abstract_training_data)\n",
    "y_train = np.asarray(Compvis_training_data)"
   ]
  },
  {
   "cell_type": "code",
   "execution_count": 48,
   "metadata": {},
   "outputs": [
    {
     "name": "stderr",
     "output_type": "stream",
     "text": [
      "/Users/manojmanu/anaconda3/lib/python3.7/site-packages/sklearn/linear_model/logistic.py:432: FutureWarning: Default solver will be changed to 'lbfgs' in 0.22. Specify a solver to silence this warning.\n",
      "  FutureWarning)\n",
      "/Users/manojmanu/anaconda3/lib/python3.7/site-packages/sklearn/ensemble/forest.py:245: FutureWarning: The default value of n_estimators will change from 10 in version 0.20 to 100 in 0.22.\n",
      "  \"10 in version 0.20 to 100 in 0.22.\", FutureWarning)\n",
      "/Users/manojmanu/anaconda3/lib/python3.7/site-packages/sklearn/ensemble/forest.py:245: FutureWarning: The default value of n_estimators will change from 10 in version 0.20 to 100 in 0.22.\n",
      "  \"10 in version 0.20 to 100 in 0.22.\", FutureWarning)\n",
      "/Users/manojmanu/anaconda3/lib/python3.7/site-packages/sklearn/ensemble/forest.py:245: FutureWarning: The default value of n_estimators will change from 10 in version 0.20 to 100 in 0.22.\n",
      "  \"10 in version 0.20 to 100 in 0.22.\", FutureWarning)\n",
      "/Users/manojmanu/anaconda3/lib/python3.7/site-packages/sklearn/ensemble/forest.py:245: FutureWarning: The default value of n_estimators will change from 10 in version 0.20 to 100 in 0.22.\n",
      "  \"10 in version 0.20 to 100 in 0.22.\", FutureWarning)\n",
      "/Users/manojmanu/anaconda3/lib/python3.7/site-packages/sklearn/ensemble/forest.py:245: FutureWarning: The default value of n_estimators will change from 10 in version 0.20 to 100 in 0.22.\n",
      "  \"10 in version 0.20 to 100 in 0.22.\", FutureWarning)\n",
      "/Users/manojmanu/anaconda3/lib/python3.7/site-packages/sklearn/ensemble/forest.py:245: FutureWarning: The default value of n_estimators will change from 10 in version 0.20 to 100 in 0.22.\n",
      "  \"10 in version 0.20 to 100 in 0.22.\", FutureWarning)\n",
      "/Users/manojmanu/anaconda3/lib/python3.7/site-packages/sklearn/ensemble/forest.py:245: FutureWarning: The default value of n_estimators will change from 10 in version 0.20 to 100 in 0.22.\n",
      "  \"10 in version 0.20 to 100 in 0.22.\", FutureWarning)\n",
      "/Users/manojmanu/anaconda3/lib/python3.7/site-packages/sklearn/ensemble/forest.py:245: FutureWarning: The default value of n_estimators will change from 10 in version 0.20 to 100 in 0.22.\n",
      "  \"10 in version 0.20 to 100 in 0.22.\", FutureWarning)\n",
      "/Users/manojmanu/anaconda3/lib/python3.7/site-packages/sklearn/ensemble/forest.py:245: FutureWarning: The default value of n_estimators will change from 10 in version 0.20 to 100 in 0.22.\n",
      "  \"10 in version 0.20 to 100 in 0.22.\", FutureWarning)\n",
      "/Users/manojmanu/anaconda3/lib/python3.7/site-packages/sklearn/ensemble/forest.py:245: FutureWarning: The default value of n_estimators will change from 10 in version 0.20 to 100 in 0.22.\n",
      "  \"10 in version 0.20 to 100 in 0.22.\", FutureWarning)\n"
     ]
    }
   ],
   "source": [
    "models = [\n",
    "    LogisticRegression(),\n",
    "    BernoulliNB(),\n",
    "    LinearSVC(),\n",
    "    RandomForestClassifier()\n",
    "]\n",
    "CV = 10\n",
    "cv_df = pd.DataFrame(index=range(CV * len(models)))\n",
    "entries = []\n",
    "for model in models:\n",
    "     model_name = model.__class__.__name__\n",
    "     accuracies = cross_val_score(model, x_train, y_train, scoring='accuracy', cv=CV)\n",
    "     for fold_idx, accuracy in enumerate(accuracies):\n",
    "          entries.append((model_name, fold_idx, accuracy))\n",
    "cv_df = pd.DataFrame(entries, columns=['model_name', 'fold_idx', 'accuracy'])"
   ]
  },
  {
   "cell_type": "code",
   "execution_count": 49,
   "metadata": {},
   "outputs": [],
   "source": [
    "Abstract_testing_data = data_testing.Abstract.tolist()\n",
    "Compvis_testing_data = data_testing.CompVis.tolist()"
   ]
  },
  {
   "cell_type": "code",
   "execution_count": 50,
   "metadata": {},
   "outputs": [],
   "source": [
    "x_test=vectorizer.transform(Abstract_testing_data)\n",
    "y_test=np.asarray(Compvis_testing_data)"
   ]
  },
  {
   "cell_type": "code",
   "execution_count": 51,
   "metadata": {},
   "outputs": [
    {
     "name": "stderr",
     "output_type": "stream",
     "text": [
      "/Users/manojmanu/anaconda3/lib/python3.7/site-packages/sklearn/linear_model/logistic.py:432: FutureWarning: Default solver will be changed to 'lbfgs' in 0.22. Specify a solver to silence this warning.\n",
      "  FutureWarning)\n"
     ]
    },
    {
     "name": "stdout",
     "output_type": "stream",
     "text": [
      "LogisticRegression\n",
      "[[17462    65]\n",
      " [  833  1319]]\n",
      "Accuracy: 0.9543675999796738\n",
      "Macro Precision: 0.9537515580396425\n",
      "Macro Recall: 0.8046048258417231\n",
      "Macro F1 score:0.8604861651286868\n",
      "MCC:0.7435453296526738\n",
      "BernoulliNB\n",
      "[[17477    50]\n",
      " [ 1299   853]]\n",
      "Accuracy: 0.9314497687890645\n",
      "Macro Precision: 0.9377224748164642\n",
      "Macro Recall: 0.6967613615997241\n",
      "Macro F1 score:0.7606346709160439\n",
      "MCC:0.5869475961197504\n",
      "LinearSVC\n",
      "[[17436    91]\n",
      " [  472  1680]]\n",
      "Accuracy: 0.9713908227044057\n",
      "Macro Precision: 0.9611298326713347\n",
      "Macro Recall: 0.8877385777397506\n",
      "Macro F1 score:0.9202995680105757\n",
      "MCC:0.8456898378799464\n"
     ]
    },
    {
     "name": "stderr",
     "output_type": "stream",
     "text": [
      "/Users/manojmanu/anaconda3/lib/python3.7/site-packages/sklearn/ensemble/forest.py:245: FutureWarning: The default value of n_estimators will change from 10 in version 0.20 to 100 in 0.22.\n",
      "  \"10 in version 0.20 to 100 in 0.22.\", FutureWarning)\n"
     ]
    },
    {
     "name": "stdout",
     "output_type": "stream",
     "text": [
      "RandomForestClassifier\n",
      "[[17494    33]\n",
      " [ 1486   666]]\n",
      "Accuracy: 0.9228111184511408\n",
      "Macro Precision: 0.9372483798170199\n",
      "Macro Recall: 0.6537983722617658\n",
      "Macro F1 score:0.712798015500494\n",
      "MCC:0.5186447303885465\n"
     ]
    }
   ],
   "source": [
    "models = [\n",
    "    LogisticRegression(),\n",
    "    BernoulliNB(),\n",
    "    LinearSVC(),\n",
    "    RandomForestClassifier()\n",
    "]\n",
    "\n",
    "for clf in models:\n",
    "    model_name = clf.__class__.__name__\n",
    "    clf.fit(x_train, y_train)\n",
    "    print(model_name)\n",
    "    # Do the prediction\n",
    "    y_predict=clf.predict(x_test)\n",
    "    print(confusion_matrix(y_test,y_predict))\n",
    "    recall=recall_score(y_test,y_predict,average='macro')\n",
    "    precision=precision_score(y_test,y_predict,average='macro')\n",
    "    f1score=f1_score(y_test,y_predict,average='macro')\n",
    "    accuracy=accuracy_score(y_test,y_predict)\n",
    "    matthews = matthews_corrcoef(y_test,y_predict) \n",
    "    print('Accuracy: '+ str(accuracy))\n",
    "    print('Macro Precision: '+ str(precision))\n",
    "    print('Macro Recall: '+ str(recall))\n",
    "    print('Macro F1 score:'+ str(f1score))\n",
    "    print('MCC:'+ str(matthews))"
   ]
  },
  {
   "cell_type": "markdown",
   "metadata": {},
   "source": [
    "## Part 2: Topic Modelling"
   ]
  },
  {
   "cell_type": "code",
   "execution_count": 52,
   "metadata": {},
   "outputs": [],
   "source": [
    "import pandas as pd\n",
    "from functools import reduce\n",
    "from nltk.corpus import stopwords\n",
    "import nltk"
   ]
  },
  {
   "cell_type": "code",
   "execution_count": 53,
   "metadata": {},
   "outputs": [
    {
     "name": "stderr",
     "output_type": "stream",
     "text": [
      "[nltk_data] Downloading package wordnet to\n",
      "[nltk_data]     /Users/manojmanu/nltk_data...\n",
      "[nltk_data]   Package wordnet is already up-to-date!\n"
     ]
    },
    {
     "data": {
      "text/plain": [
       "True"
      ]
     },
     "execution_count": 53,
     "metadata": {},
     "output_type": "execute_result"
    }
   ],
   "source": [
    "nltk.download('wordnet')"
   ]
  },
  {
   "cell_type": "code",
   "execution_count": 54,
   "metadata": {},
   "outputs": [
    {
     "name": "stdout",
     "output_type": "stream",
     "text": [
      "366\n",
      " Canberra\n",
      " has experienced its worst air quality on record, as bushfire smoke \n",
      "became trapped by atmospheric conditions and residents were told to stay\n",
      " indoors and brace for more smog in the coming days.   The ACTas \n",
      "acting chief health officer, Dr Paul Dugdale, said the smoke was the \n",
      "worst since the 2003 bushfires and was acertainly the worsta since air \n",
      "quality monitoring started in the city 15 years ago.   Air quality \n",
      "index readings in Canberra city were at 3,463 on Wednesday afternoon, \n",
      "a\n"
     ]
    }
   ],
   "source": [
    "data = pd.read_csv('Monash_crawled.csv')\n",
    "docs = data['body'].tolist()\n",
    "print(len(docs))\n",
    "print(docs[0][0:500])"
   ]
  },
  {
   "cell_type": "code",
   "execution_count": 55,
   "metadata": {},
   "outputs": [],
   "source": [
    "# Tokenize the documents.\n",
    "from nltk.tokenize import RegexpTokenizer\n",
    "\n",
    "# Split the documents into tokens.\n",
    "tokenizer = RegexpTokenizer(r'\\w+')\n",
    "for idx in range(len(docs)):\n",
    "    docs[idx] = docs[idx].lower()  # Convert to lowercase.\n",
    "    docs[idx] = tokenizer.tokenize(docs[idx])  # Split into words.\n",
    "\n",
    "# Remove numbers, but not words that contain numbers.\n",
    "docs = [[token for token in doc if not token.isnumeric()] for doc in docs]\n",
    "\n",
    "# Remove words that are only one character.\n",
    "docs = [[token for token in doc if len(token) > 1] for doc in docs]"
   ]
  },
  {
   "cell_type": "code",
   "execution_count": 56,
   "metadata": {},
   "outputs": [],
   "source": [
    "# Lemmatize the documents.\n",
    "from nltk.stem.wordnet import WordNetLemmatizer\n",
    "\n",
    "lemmatizer = WordNetLemmatizer()\n",
    "docs = [[lemmatizer.lemmatize(token) for token in doc] for doc in docs]"
   ]
  },
  {
   "cell_type": "code",
   "execution_count": 57,
   "metadata": {},
   "outputs": [],
   "source": [
    "# !pip install gensim\n",
    "from gensim.models import Phrases\n",
    "\n",
    "# Add bigrams and trigrams to docs (only ones that appear 20 times or more).\n",
    "bigram = Phrases(docs, min_count=20)\n",
    "for idx in range(len(docs)):\n",
    "    for token in bigram[docs[idx]]:\n",
    "        if '_' in token:\n",
    "            # Token is a bigram, add to document.\n",
    "            docs[idx].append(token)"
   ]
  },
  {
   "cell_type": "code",
   "execution_count": 58,
   "metadata": {},
   "outputs": [],
   "source": [
    "# Remove rare and common tokens.\n",
    "from gensim.corpora import Dictionary\n",
    "\n",
    "# Create a dictionary representation of the documents.\n",
    "dictionary = Dictionary(docs)\n",
    "\n",
    "# Filter out words that occur less than 20 documents, or more than 50% of the documents.\n",
    "dictionary.filter_extremes(no_below=20, no_above=0.6)"
   ]
  },
  {
   "cell_type": "code",
   "execution_count": 59,
   "metadata": {},
   "outputs": [],
   "source": [
    "# Bag-of-words representation of the documents.\n",
    "corpus = [dictionary.doc2bow(doc) for doc in docs]"
   ]
  },
  {
   "cell_type": "code",
   "execution_count": 60,
   "metadata": {},
   "outputs": [
    {
     "name": "stdout",
     "output_type": "stream",
     "text": [
      "Number of unique tokens: 1441\n",
      "Number of documents: 366\n"
     ]
    }
   ],
   "source": [
    "print('Number of unique tokens: %d' % len(dictionary))\n",
    "print('Number of documents: %d' % len(corpus))"
   ]
  },
  {
   "cell_type": "code",
   "execution_count": 61,
   "metadata": {},
   "outputs": [
    {
     "name": "stdout",
     "output_type": "stream",
     "text": [
      "LdaModel(num_terms=1441, num_topics=10, decay=0.5, chunksize=2000)\n",
      "Saving model in model10.gensim\n",
      "\n"
     ]
    }
   ],
   "source": [
    "# Train LDA model.\n",
    "import numpy as np\n",
    "seed_value= 1234\n",
    "np.random.seed(seed_value)\n",
    "from gensim.models import LdaModel\n",
    "\n",
    "# Set training parameters.\n",
    "NUM_TOPICS = 10\n",
    "chunksize = 2000\n",
    "passes = 20\n",
    "iterations = 400\n",
    "eval_every = None  # Don't evaluate model perplexity, takes too much time.\n",
    "\n",
    "# Make a index to word dictionary.\n",
    "temp = dictionary[0]  # This is only to \"load\" the dictionary.\n",
    "id2word = dictionary.id2token\n",
    "\n",
    "model = LdaModel(\n",
    "    corpus=corpus,\n",
    "    id2word=id2word,\n",
    "    chunksize=chunksize,\n",
    "    alpha='auto',\n",
    "    eta='auto',\n",
    "    iterations=iterations,\n",
    "    num_topics=NUM_TOPICS,\n",
    "    passes=passes,\n",
    "    eval_every=eval_every\n",
    ")\n",
    "print(model)\n",
    "outputfile = f'model{NUM_TOPICS}.gensim'\n",
    "print(\"Saving model in \" + outputfile)\n",
    "print(\"\")\n",
    "model.save(outputfile)"
   ]
  },
  {
   "cell_type": "code",
   "execution_count": 62,
   "metadata": {},
   "outputs": [
    {
     "name": "stdout",
     "output_type": "stream",
     "text": [
      "Average topic coherence: -0.9243.\n",
      "[([(0.023180436, 'student'),\n",
      "   (0.016972676, 'china'),\n",
      "   (0.014348613, 'chinese'),\n",
      "   (0.009738987, 'flight'),\n",
      "   (0.009387481, 'sydney'),\n",
      "   (0.00938562, 'travel'),\n",
      "   (0.009093791, 'virus'),\n",
      "   (0.008612675, 'week'),\n",
      "   (0.008259719, 'ban'),\n",
      "   (0.008217118, 'melbourne'),\n",
      "   (0.0074494113, 'february'),\n",
      "   (0.0070628272, 'she'),\n",
      "   (0.006682953, 'country'),\n",
      "   (0.006502782, 'wuhan'),\n",
      "   (0.0062591773, 'two'),\n",
      "   (0.006152358, 'confirmed'),\n",
      "   (0.0058028502, 'case'),\n",
      "   (0.0055985427, 'travel_ban'),\n",
      "   (0.0054341424, 'queensland'),\n",
      "   (0.0053102737, 'infected')],\n",
      "  -0.5773085022167089),\n",
      " ([(0.03931186, 'february'),\n",
      "   (0.0122434925, 'ship'),\n",
      "   (0.0112485085, 'passenger'),\n",
      "   (0.009737816, 'japan'),\n",
      "   (0.009051105, 'cruise'),\n",
      "   (0.008047696, 'february_february'),\n",
      "   (0.008007615, 'case'),\n",
      "   (0.007935638, 'flight'),\n",
      "   (0.0077038086, 'virus'),\n",
      "   (0.0075195804, 'january_january'),\n",
      "   (0.00691677, 'quarantine'),\n",
      "   (0.006861771, 'wuhan'),\n",
      "   (0.006829641, 'princess'),\n",
      "   (0.006779999, 'island'),\n",
      "   (0.006350075, 'diamond_princess'),\n",
      "   (0.006349388, 'diamond'),\n",
      "   (0.006348768, 'pictured'),\n",
      "   (0.006245042, 'cruise_ship'),\n",
      "   (0.006015034, 'two'),\n",
      "   (0.0059996275, 'china')],\n",
      "  -0.5781094928146425),\n",
      " ([(0.016952794, 'virus'),\n",
      "   (0.014539862, 'wuhan'),\n",
      "   (0.014512691, 'china'),\n",
      "   (0.0130408155, 'mask'),\n",
      "   (0.011325363, 'case'),\n",
      "   (0.007814192, 'confirmed'),\n",
      "   (0.007780125, 'hospital'),\n",
      "   (0.007335855, 'face'),\n",
      "   (0.007191612, 'patient'),\n",
      "   (0.0071474393, 'symptom'),\n",
      "   (0.006815992, 'outbreak'),\n",
      "   (0.0067231916, 'chinese'),\n",
      "   (0.006630344, 'out'),\n",
      "   (0.0064006303, 'spread'),\n",
      "   (0.0063903052, 'city'),\n",
      "   (0.0063452534, 'his'),\n",
      "   (0.0062576877, 'face_mask'),\n",
      "   (0.005859479, 'february'),\n",
      "   (0.005420475, 'deadly'),\n",
      "   (0.0052703, 'man')],\n",
      "  -0.6605077088905577),\n",
      " ([(0.021155361, 'you'),\n",
      "   (0.016573356, 'virus'),\n",
      "   (0.013438094, 'if'),\n",
      "   (0.012679726, 'your'),\n",
      "   (0.008542844, 'so'),\n",
      "   (0.0083178105, 'case'),\n",
      "   (0.0066742655, 'what'),\n",
      "   (0.006260875, 'them'),\n",
      "   (0.005945706, 'time'),\n",
      "   (0.0058624223, 'do'),\n",
      "   (0.005851732, 'say'),\n",
      "   (0.0057545877, 'specie'),\n",
      "   (0.0055490355, 'animal'),\n",
      "   (0.00553817, 'even'),\n",
      "   (0.005469789, 'get'),\n",
      "   (0.0054355348, 'could'),\n",
      "   (0.0053354185, 'may'),\n",
      "   (0.0051867743, 'would'),\n",
      "   (0.005181231, 'around'),\n",
      "   (0.00517084, 'disease')],\n",
      "  -0.7639391628192791),\n",
      " ([(0.011383292, 'february'),\n",
      "   (0.009390653, 'school'),\n",
      "   (0.008321007, 'per'),\n",
      "   (0.008291025, 'cent'),\n",
      "   (0.008233773, 'business'),\n",
      "   (0.008160098, 'per_cent'),\n",
      "   (0.00750286, 'told'),\n",
      "   (0.0068814615, 'would'),\n",
      "   (0.0064882846, 'social'),\n",
      "   (0.005700875, 'home'),\n",
      "   (0.0054822895, 'aedt'),\n",
      "   (0.005462464, 'could'),\n",
      "   (0.0050410572, 'government'),\n",
      "   (0.0049253, 'week'),\n",
      "   (0.004806101, 'down'),\n",
      "   (0.004660639, 'economy'),\n",
      "   (0.0045946403, 'mr'),\n",
      "   (0.0045840144, 'country'),\n",
      "   (0.004424229, 'daily'),\n",
      "   (0.0044140024, 'minister')],\n",
      "  -0.8341808334293166),\n",
      " ([(0.015262879, 'she'),\n",
      "   (0.013600784, 'her'),\n",
      "   (0.01163828, 'fire'),\n",
      "   (0.008668189, 'say'),\n",
      "   (0.008303304, 'his'),\n",
      "   (0.007924026, 'woman'),\n",
      "   (0.007797043, 'climate'),\n",
      "   (0.0077314544, 'smoke'),\n",
      "   (0.0069322297, 'when'),\n",
      "   (0.0066293315, 'first'),\n",
      "   (0.006285942, 'some'),\n",
      "   (0.0060582855, 'air'),\n",
      "   (0.0059605404, 'change'),\n",
      "   (0.0058575594, 'time'),\n",
      "   (0.0051591373, 'my'),\n",
      "   (0.0048305015, 'now'),\n",
      "   (0.004768165, 'climate_change'),\n",
      "   (0.004711492, 'over'),\n",
      "   (0.004687273, 'bushfires'),\n",
      "   (0.0046015787, 'so')],\n",
      "  -0.9518551945344795),\n",
      " ([(0.018433988, 'february'),\n",
      "   (0.014498595, 'pandemic'),\n",
      "   (0.010724458, 'virus'),\n",
      "   (0.009718057, 'ship'),\n",
      "   (0.0092320945, 'thursday'),\n",
      "   (0.008591175, 'cruise'),\n",
      "   (0.0084043285, 'on_thursday'),\n",
      "   (0.007836103, 'food'),\n",
      "   (0.0075437888, 'would'),\n",
      "   (0.0073124412, 'minister'),\n",
      "   (0.0071676807, 'should'),\n",
      "   (0.0070436783, 'cruise_ship'),\n",
      "   (0.006785945, 'princess'),\n",
      "   (0.006571077, 'supply'),\n",
      "   (0.006565012, 'government'),\n",
      "   (0.0062512737, 'diamond_princess'),\n",
      "   (0.00625086, 'diamond'),\n",
      "   (0.006152396, 'u'),\n",
      "   (0.005973052, 'shelf'),\n",
      "   (0.005878642, 'need')],\n",
      "  -0.9841452483327912),\n",
      " ([(0.03650319, 'area'),\n",
      "   (0.01996913, 'case'),\n",
      "   (0.019136362, 'china'),\n",
      "   (0.010407975, 'number'),\n",
      "   (0.0103014335, 'death'),\n",
      "   (0.009087941, 'data'),\n",
      "   (0.009050464, 'chinese'),\n",
      "   (0.0081523955, 'wuhan'),\n",
      "   (0.0076903687, 'number_of'),\n",
      "   (0.00740239, 'reported'),\n",
      "   (0.006953172, 'reuters'),\n",
      "   (0.0068448256, 'saturday'),\n",
      "   (0.006749749, 'sars'),\n",
      "   (0.0060407696, 'outbreak'),\n",
      "   (0.0059206504, 'on_saturday'),\n",
      "   (0.005804645, 'based'),\n",
      "   (0.0056769103, 'network'),\n",
      "   (0.005650476, 'result'),\n",
      "   (0.0056474097, 'mainland'),\n",
      "   (0.0056421407, 'infection')],\n",
      "  -1.1712434565194298),\n",
      " ([(0.018711878, 'study'),\n",
      "   (0.013728586, 'patient'),\n",
      "   (0.01117398, 'cell'),\n",
      "   (0.010383711, 'research'),\n",
      "   (0.010361878, 'researcher'),\n",
      "   (0.009577889, 'used'),\n",
      "   (0.008546053, 'level'),\n",
      "   (0.008530564, 'woman'),\n",
      "   (0.0082950685, 'could'),\n",
      "   (0.008208758, 'analysis'),\n",
      "   (0.007905811, 'using'),\n",
      "   (0.007792424, 'between'),\n",
      "   (0.0072294157, 'technology'),\n",
      "   (0.0070734755, 'mass'),\n",
      "   (0.007034992, 'such'),\n",
      "   (0.006941648, 'material'),\n",
      "   (0.00683156, 'group'),\n",
      "   (0.0067981356, 'those'),\n",
      "   (0.006395492, 'normal'),\n",
      "   (0.006278138, 'dr')],\n",
      "  -1.2909250797186975),\n",
      " ([(0.016928133, 'council'),\n",
      "   (0.015394925, 'professor'),\n",
      "   (0.01474374, 'fire'),\n",
      "   (0.013741567, 'research'),\n",
      "   (0.0133236665, 'fine'),\n",
      "   (0.011874924, 'risk'),\n",
      "   (0.011376922, 'weather'),\n",
      "   (0.010546889, 'national'),\n",
      "   (0.0101852575, 'aedt'),\n",
      "   (0.009654129, 'victorian'),\n",
      "   (0.008703713, 'water'),\n",
      "   (0.008503677, 'prof'),\n",
      "   (0.007635476, 'institute'),\n",
      "   (0.007571496, 'area'),\n",
      "   (0.007538109, 'dr'),\n",
      "   (0.007387981, 'expert'),\n",
      "   (0.0072512953, 'service'),\n",
      "   (0.007205368, 'based'),\n",
      "   (0.0071295053, 'monash'),\n",
      "   (0.006733955, 'director')],\n",
      "  -1.4310728480780133)]\n"
     ]
    }
   ],
   "source": [
    "top_topics = model.top_topics(corpus) #, num_words=20)\n",
    "\n",
    "# Average topic coherence is the sum of topic coherences of all topics, divided by the number of topics.\n",
    "avg_topic_coherence = sum([t[1] for t in top_topics]) / NUM_TOPICS\n",
    "print('Average topic coherence: %.4f.' % avg_topic_coherence)\n",
    "\n",
    "from pprint import pprint\n",
    "pprint(top_topics)"
   ]
  },
  {
   "cell_type": "code",
   "execution_count": 63,
   "metadata": {},
   "outputs": [
    {
     "name": "stderr",
     "output_type": "stream",
     "text": [
      "/Users/manojmanu/anaconda3/lib/python3.7/site-packages/pyLDAvis/_prepare.py:257: FutureWarning: Sorting because non-concatenation axis is not aligned. A future version\n",
      "of pandas will change to not sort by default.\n",
      "\n",
      "To accept the future behavior, pass 'sort=False'.\n",
      "\n",
      "To retain the current behavior and silence the warning, pass 'sort=True'.\n",
      "\n",
      "  return pd.concat([default_term_info] + list(topic_dfs))\n"
     ]
    },
    {
     "data": {
      "text/html": [
       "\n",
       "<link rel=\"stylesheet\" type=\"text/css\" href=\"https://cdn.rawgit.com/bmabey/pyLDAvis/files/ldavis.v1.0.0.css\">\n",
       "\n",
       "\n",
       "<div id=\"ldavis_el86251125163630323984336522\"></div>\n",
       "<script type=\"text/javascript\">\n",
       "\n",
       "var ldavis_el86251125163630323984336522_data = {\"mdsDat\": {\"x\": [0.15449959755371906, -0.08500824298792181, 0.10630986154915423, 0.1019580315672358, -0.054137987937199226, 0.0030381867565810695, -0.19106881479787433, 0.12675110061485553, 0.01597235982103868, -0.17831409213958915], \"y\": [-0.035276808989066204, -0.04644735779090236, 0.0029106990028114764, 0.04536792999415281, 0.09557467193725344, -0.06890103419728784, 0.09971063646448039, -0.07586310243606247, 0.14191847514791792, -0.15899410913329687], \"topics\": [1, 2, 3, 4, 5, 6, 7, 8, 9, 10], \"cluster\": [1, 1, 1, 1, 1, 1, 1, 1, 1, 1], \"Freq\": [16.87621307373047, 14.895397186279297, 13.536709785461426, 12.88132095336914, 11.404223442077637, 10.51235294342041, 7.422022342681885, 6.305673122406006, 4.225335121154785, 1.9407458305358887]}, \"tinfo\": {\"Category\": [\"Default\", \"Default\", \"Default\", \"Default\", \"Default\", \"Default\", \"Default\", \"Default\", \"Default\", \"Default\", \"Default\", \"Default\", \"Default\", \"Default\", \"Default\", \"Default\", \"Default\", \"Default\", \"Default\", \"Default\", \"Default\", \"Default\", \"Default\", \"Default\", \"Default\", \"Default\", \"Default\", \"Default\", \"Default\", \"Default\", \"Topic1\", \"Topic1\", \"Topic1\", \"Topic1\", \"Topic1\", \"Topic1\", \"Topic1\", \"Topic1\", \"Topic1\", \"Topic1\", \"Topic1\", \"Topic1\", \"Topic1\", \"Topic1\", \"Topic1\", \"Topic1\", \"Topic1\", \"Topic1\", \"Topic1\", \"Topic1\", \"Topic1\", \"Topic1\", \"Topic1\", \"Topic1\", \"Topic1\", \"Topic1\", \"Topic1\", \"Topic1\", \"Topic1\", \"Topic1\", \"Topic1\", \"Topic1\", \"Topic1\", \"Topic1\", \"Topic1\", \"Topic1\", \"Topic1\", \"Topic1\", \"Topic1\", \"Topic1\", \"Topic1\", \"Topic1\", \"Topic1\", \"Topic1\", \"Topic1\", \"Topic1\", \"Topic1\", \"Topic1\", \"Topic1\", \"Topic1\", \"Topic1\", \"Topic1\", \"Topic1\", \"Topic1\", \"Topic1\", \"Topic1\", \"Topic1\", \"Topic1\", \"Topic2\", \"Topic2\", \"Topic2\", \"Topic2\", \"Topic2\", \"Topic2\", \"Topic2\", \"Topic2\", \"Topic2\", \"Topic2\", \"Topic2\", \"Topic2\", \"Topic2\", \"Topic2\", \"Topic2\", \"Topic2\", \"Topic2\", \"Topic2\", \"Topic2\", \"Topic2\", \"Topic2\", \"Topic2\", \"Topic2\", \"Topic2\", \"Topic2\", \"Topic2\", \"Topic2\", \"Topic2\", \"Topic2\", \"Topic2\", \"Topic2\", \"Topic2\", \"Topic2\", \"Topic2\", \"Topic2\", \"Topic2\", \"Topic2\", \"Topic2\", \"Topic2\", \"Topic2\", \"Topic2\", \"Topic2\", \"Topic2\", \"Topic2\", \"Topic2\", \"Topic2\", \"Topic2\", \"Topic2\", \"Topic2\", \"Topic2\", \"Topic2\", \"Topic2\", \"Topic2\", \"Topic2\", \"Topic2\", \"Topic2\", \"Topic2\", \"Topic2\", \"Topic2\", \"Topic3\", \"Topic3\", \"Topic3\", \"Topic3\", \"Topic3\", \"Topic3\", \"Topic3\", \"Topic3\", \"Topic3\", \"Topic3\", \"Topic3\", \"Topic3\", \"Topic3\", \"Topic3\", \"Topic3\", \"Topic3\", \"Topic3\", \"Topic3\", \"Topic3\", \"Topic3\", \"Topic3\", \"Topic3\", \"Topic3\", \"Topic3\", \"Topic3\", \"Topic3\", \"Topic3\", \"Topic3\", \"Topic3\", \"Topic3\", \"Topic3\", \"Topic3\", \"Topic3\", \"Topic3\", \"Topic3\", \"Topic3\", \"Topic3\", \"Topic3\", \"Topic3\", \"Topic3\", \"Topic3\", \"Topic3\", \"Topic3\", \"Topic3\", \"Topic3\", \"Topic3\", \"Topic3\", \"Topic3\", \"Topic3\", \"Topic3\", \"Topic3\", \"Topic3\", \"Topic3\", \"Topic3\", \"Topic3\", \"Topic3\", \"Topic3\", \"Topic3\", \"Topic3\", \"Topic4\", \"Topic4\", \"Topic4\", \"Topic4\", \"Topic4\", \"Topic4\", \"Topic4\", \"Topic4\", \"Topic4\", \"Topic4\", \"Topic4\", \"Topic4\", \"Topic4\", \"Topic4\", \"Topic4\", \"Topic4\", \"Topic4\", \"Topic4\", \"Topic4\", \"Topic4\", \"Topic4\", \"Topic4\", \"Topic4\", \"Topic4\", \"Topic4\", \"Topic4\", \"Topic4\", \"Topic4\", \"Topic4\", \"Topic4\", \"Topic4\", \"Topic4\", \"Topic4\", \"Topic4\", \"Topic4\", \"Topic4\", \"Topic4\", \"Topic4\", \"Topic4\", \"Topic4\", \"Topic4\", \"Topic4\", \"Topic4\", \"Topic4\", \"Topic4\", \"Topic4\", \"Topic4\", \"Topic4\", \"Topic4\", \"Topic4\", \"Topic4\", \"Topic4\", \"Topic4\", \"Topic4\", \"Topic4\", \"Topic4\", \"Topic4\", \"Topic4\", \"Topic4\", \"Topic4\", \"Topic4\", \"Topic4\", \"Topic4\", \"Topic4\", \"Topic4\", \"Topic4\", \"Topic4\", \"Topic5\", \"Topic5\", \"Topic5\", \"Topic5\", \"Topic5\", \"Topic5\", \"Topic5\", \"Topic5\", \"Topic5\", \"Topic5\", \"Topic5\", \"Topic5\", \"Topic5\", \"Topic5\", \"Topic5\", \"Topic5\", \"Topic5\", \"Topic5\", \"Topic5\", \"Topic5\", \"Topic5\", \"Topic5\", \"Topic5\", \"Topic5\", \"Topic5\", \"Topic5\", \"Topic5\", \"Topic5\", \"Topic5\", \"Topic5\", \"Topic5\", \"Topic5\", \"Topic5\", \"Topic5\", \"Topic5\", \"Topic5\", \"Topic5\", \"Topic5\", \"Topic5\", \"Topic5\", \"Topic5\", \"Topic5\", \"Topic5\", \"Topic5\", \"Topic5\", \"Topic5\", \"Topic5\", \"Topic5\", \"Topic5\", \"Topic5\", \"Topic5\", \"Topic5\", \"Topic5\", \"Topic5\", \"Topic5\", \"Topic5\", \"Topic5\", \"Topic5\", \"Topic5\", \"Topic5\", \"Topic5\", \"Topic5\", \"Topic5\", \"Topic5\", \"Topic5\", \"Topic5\", \"Topic5\", \"Topic5\", \"Topic6\", \"Topic6\", \"Topic6\", \"Topic6\", \"Topic6\", \"Topic6\", \"Topic6\", \"Topic6\", \"Topic6\", \"Topic6\", \"Topic6\", \"Topic6\", \"Topic6\", \"Topic6\", \"Topic6\", \"Topic6\", \"Topic6\", \"Topic6\", \"Topic6\", \"Topic6\", \"Topic6\", \"Topic6\", \"Topic6\", \"Topic6\", \"Topic6\", \"Topic6\", \"Topic6\", \"Topic6\", \"Topic6\", \"Topic6\", \"Topic6\", \"Topic6\", \"Topic6\", \"Topic6\", \"Topic6\", \"Topic6\", \"Topic6\", \"Topic6\", \"Topic6\", \"Topic6\", \"Topic6\", \"Topic6\", \"Topic6\", \"Topic6\", \"Topic6\", \"Topic6\", \"Topic6\", \"Topic6\", \"Topic6\", \"Topic6\", \"Topic6\", \"Topic6\", \"Topic6\", \"Topic6\", \"Topic6\", \"Topic6\", \"Topic6\", \"Topic6\", \"Topic6\", \"Topic6\", \"Topic7\", \"Topic7\", \"Topic7\", \"Topic7\", \"Topic7\", \"Topic7\", \"Topic7\", \"Topic7\", \"Topic7\", \"Topic7\", \"Topic7\", \"Topic7\", \"Topic7\", \"Topic7\", \"Topic7\", \"Topic7\", \"Topic7\", \"Topic7\", \"Topic7\", \"Topic7\", \"Topic7\", \"Topic7\", \"Topic7\", \"Topic7\", \"Topic7\", \"Topic7\", \"Topic7\", \"Topic7\", \"Topic7\", \"Topic7\", \"Topic7\", \"Topic7\", \"Topic7\", \"Topic7\", \"Topic7\", \"Topic7\", \"Topic7\", \"Topic7\", \"Topic7\", \"Topic7\", \"Topic7\", \"Topic7\", \"Topic7\", \"Topic7\", \"Topic7\", \"Topic7\", \"Topic7\", \"Topic7\", \"Topic7\", \"Topic7\", \"Topic7\", \"Topic7\", \"Topic7\", \"Topic8\", \"Topic8\", \"Topic8\", \"Topic8\", \"Topic8\", \"Topic8\", \"Topic8\", \"Topic8\", \"Topic8\", \"Topic8\", \"Topic8\", \"Topic8\", \"Topic8\", \"Topic8\", \"Topic8\", \"Topic8\", \"Topic8\", \"Topic8\", \"Topic8\", \"Topic8\", \"Topic8\", \"Topic8\", \"Topic8\", \"Topic8\", \"Topic8\", \"Topic8\", \"Topic8\", \"Topic8\", \"Topic8\", \"Topic8\", \"Topic8\", \"Topic8\", \"Topic8\", \"Topic8\", \"Topic8\", \"Topic8\", \"Topic8\", \"Topic8\", \"Topic8\", \"Topic8\", \"Topic8\", \"Topic8\", \"Topic8\", \"Topic8\", \"Topic8\", \"Topic8\", \"Topic8\", \"Topic8\", \"Topic8\", \"Topic8\", \"Topic8\", \"Topic8\", \"Topic8\", \"Topic8\", \"Topic8\", \"Topic8\", \"Topic8\", \"Topic8\", \"Topic9\", \"Topic9\", \"Topic9\", \"Topic9\", \"Topic9\", \"Topic9\", \"Topic9\", \"Topic9\", \"Topic9\", \"Topic9\", \"Topic9\", \"Topic9\", \"Topic9\", \"Topic9\", \"Topic9\", \"Topic9\", \"Topic9\", \"Topic9\", \"Topic9\", \"Topic9\", \"Topic9\", \"Topic9\", \"Topic9\", \"Topic9\", \"Topic9\", \"Topic9\", \"Topic9\", \"Topic9\", \"Topic9\", \"Topic9\", \"Topic9\", \"Topic9\", \"Topic9\", \"Topic9\", \"Topic9\", \"Topic9\", \"Topic9\", \"Topic9\", \"Topic9\", \"Topic9\", \"Topic9\", \"Topic9\", \"Topic9\", \"Topic9\", \"Topic9\", \"Topic9\", \"Topic9\", \"Topic9\", \"Topic9\", \"Topic9\", \"Topic9\", \"Topic9\", \"Topic9\", \"Topic9\", \"Topic10\", \"Topic10\", \"Topic10\", \"Topic10\", \"Topic10\", \"Topic10\", \"Topic10\", \"Topic10\", \"Topic10\", \"Topic10\", \"Topic10\", \"Topic10\", \"Topic10\", \"Topic10\", \"Topic10\", \"Topic10\", \"Topic10\", \"Topic10\", \"Topic10\", \"Topic10\", \"Topic10\", \"Topic10\", \"Topic10\", \"Topic10\", \"Topic10\", \"Topic10\", \"Topic10\", \"Topic10\", \"Topic10\", \"Topic10\", \"Topic10\", \"Topic10\", \"Topic10\", \"Topic10\", \"Topic10\", \"Topic10\", \"Topic10\", \"Topic10\", \"Topic10\", \"Topic10\", \"Topic10\", \"Topic10\", \"Topic10\", \"Topic10\", \"Topic10\", \"Topic10\", \"Topic10\", \"Topic10\", \"Topic10\", \"Topic10\", \"Topic10\", \"Topic10\"], \"Freq\": [1622.0, 420.0, 516.0, 304.0, 1044.0, 1116.0, 422.0, 307.0, 931.0, 668.0, 583.0, 200.0, 332.0, 602.0, 310.0, 445.0, 189.0, 215.0, 216.0, 234.0, 505.0, 709.0, 290.0, 216.0, 217.0, 289.0, 234.0, 161.0, 479.0, 248.0, 28.702890396118164, 106.00328063964844, 50.89241027832031, 73.76343536376953, 18.55490493774414, 77.3937759399414, 30.17064666748047, 46.30000686645508, 30.567249298095703, 24.65276527404785, 39.6296501159668, 132.84971618652344, 127.26568603515625, 128.41087341308594, 148.48048400878906, 41.49135971069336, 29.856271743774414, 157.72372436523438, 157.7066650390625, 169.63522338867188, 90.21444702148438, 304.1049499511719, 49.03116989135742, 74.10076904296875, 67.75988006591797, 168.40220642089844, 73.00394439697266, 171.79933166503906, 26.323457717895508, 59.945587158203125, 224.81214904785156, 279.3914489746094, 976.4314575195312, 241.8687286376953, 199.88938903808594, 155.1149139404297, 86.92041778564453, 101.5248794555664, 100.34622192382812, 100.32127380371094, 100.30792999267578, 186.77200317382812, 100.30020141601562, 100.61253356933594, 197.10606384277344, 145.19068908691406, 157.69125366210938, 198.8938446044922, 170.4332733154297, 191.34786987304688, 133.2286376953125, 149.40194702148438, 116.36033630371094, 133.42672729492188, 119.44570922851562, 149.01927185058594, 120.32848358154297, 117.90545654296875, 62.1374626159668, 169.4948272705078, 104.53134155273438, 170.93270874023438, 71.87348937988281, 33.00825500488281, 30.07335090637207, 80.28626251220703, 255.1432342529297, 55.84485626220703, 41.3887825012207, 79.09567260742188, 35.215423583984375, 81.4868392944336, 102.75796508789062, 67.24237060546875, 54.08816146850586, 46.15238571166992, 40.23198699951172, 33.2371826171875, 26.004470825195312, 21.11081886291504, 38.17072296142578, 20.977243423461914, 32.002689361572266, 42.09159469604492, 50.52912139892578, 16.204242706298828, 130.6715087890625, 19.704164505004883, 39.857521057128906, 298.166748046875, 132.81434631347656, 334.6044616699219, 113.1025390625, 63.56252670288086, 75.16704559326172, 190.0306396484375, 182.03135681152344, 173.71653747558594, 151.97361755371094, 145.333251953125, 74.2445297241211, 137.80520629882812, 103.2889175415039, 128.41387939453125, 80.18443298339844, 105.89793395996094, 92.76045989990234, 100.87931060791016, 90.63983154296875, 89.74471282958984, 95.13104248046875, 98.06736755371094, 86.99456787109375, 84.39942932128906, 86.94457244873047, 82.96644592285156, 82.06587982177734, 59.835697174072266, 90.87438201904297, 461.8254699707031, 111.5401611328125, 29.0582275390625, 76.64464569091797, 86.76252746582031, 41.45884704589844, 26.060606002807617, 29.863605499267578, 75.30158996582031, 24.674108505249023, 164.5589599609375, 28.26360511779785, 74.60372161865234, 37.70036697387695, 16.16765785217285, 16.619346618652344, 56.20389938354492, 18.07866859436035, 25.29383087158203, 19.276430130004883, 27.162471771240234, 36.88572692871094, 17.642581939697266, 25.327436447143555, 84.80896759033203, 14.917454719543457, 19.459381103515625, 19.91111946105957, 186.99037170410156, 99.40194702148438, 285.8684387207031, 56.777503967285156, 42.69407272338867, 194.03053283691406, 187.02745056152344, 70.2067642211914, 338.1478271484375, 163.71022033691406, 99.12934112548828, 171.59092712402344, 75.29244232177734, 133.1449432373047, 122.57386016845703, 108.26480102539062, 105.79695892333984, 77.373046875, 181.17623901367188, 140.7132110595703, 129.55538940429688, 124.70203399658203, 95.45377349853516, 148.41514587402344, 115.610595703125, 95.09091186523438, 88.88665771484375, 82.69001007080078, 78.04972076416016, 33.19527816772461, 22.13389015197754, 118.63626098632812, 24.44938087463379, 17.016002655029297, 24.151487350463867, 25.522518157958984, 21.84808921813965, 50.639198303222656, 22.060802459716797, 23.85621452331543, 39.76671600341797, 28.434473037719727, 43.42197036743164, 19.05196189880371, 24.150794982910156, 12.178658485412598, 24.186817169189453, 18.365524291992188, 17.538131713867188, 20.1181583404541, 45.60971450805664, 20.08344078063965, 32.96751403808594, 23.601778030395508, 40.07603454589844, 11.996321678161621, 42.71347427368164, 247.23406982421875, 17.021333694458008, 28.45541763305664, 53.121612548828125, 275.6537170410156, 135.50460815429688, 139.07667541503906, 81.22644805908203, 102.76397705078125, 147.49935913085938, 321.3992614746094, 99.9168930053711, 275.1385803222656, 148.14523315429688, 121.1504898071289, 136.342041015625, 121.34623718261719, 214.71170043945312, 62.623775482177734, 129.22085571289062, 120.29637908935547, 68.08786010742188, 42.180870056152344, 125.70125579833984, 127.46150970458984, 73.28132629394531, 93.02973937988281, 91.59754180908203, 91.10980987548828, 63.49204635620117, 88.15303802490234, 79.3756103515625, 76.84876251220703, 90.82720947265625, 111.08683013916016, 81.9068374633789, 81.77732849121094, 83.49102020263672, 82.61002349853516, 96.58798217773438, 84.4731216430664, 50.60100555419922, 212.82308959960938, 67.35340881347656, 18.796207427978516, 23.282136917114258, 24.99439239501953, 18.008241653442383, 59.74189376831055, 15.420228958129883, 355.08251953125, 24.67758560180664, 22.139339447021484, 12.765851974487305, 62.51604461669922, 27.32065773010254, 19.436681747436523, 14.098893165588379, 23.968358993530273, 52.48719024658203, 16.643558502197266, 13.695960998535156, 24.60686492919922, 48.54771041870117, 17.102710723876953, 30.27381706237793, 13.887924194335938, 22.434589385986328, 19.21346092224121, 30.042299270629883, 93.13788604736328, 36.30941390991211, 51.59073257446289, 65.0958480834961, 225.5519256591797, 50.3384895324707, 56.80058288574219, 92.95551300048828, 50.003196716308594, 143.38751220703125, 278.17578125, 112.02433013916016, 44.40741729736328, 98.3979263305664, 81.92871856689453, 91.80776977539062, 105.08576965332031, 70.92418670654297, 55.50114059448242, 81.76667785644531, 77.6415023803711, 89.55242919921875, 86.96446228027344, 82.64808654785156, 139.61044311523438, 99.79580688476562, 98.21849822998047, 86.79005432128906, 85.98939514160156, 91.23282623291016, 77.73405456542969, 87.05750274658203, 73.98428344726562, 77.07054138183594, 78.87189483642578, 82.22931671142578, 78.52716827392578, 44.100154876708984, 52.71108627319336, 72.10884857177734, 39.65677261352539, 51.449501037597656, 26.72413444519043, 21.798444747924805, 23.052593231201172, 127.39193725585938, 62.550472259521484, 32.596500396728516, 16.524967193603516, 19.395553588867188, 16.733232498168945, 23.31987190246582, 17.54344940185547, 100.38595581054688, 47.05378341674805, 36.737709045410156, 17.704973220825195, 24.543107986450195, 28.025312423706055, 13.9710054397583, 13.969544410705566, 21.475915908813477, 64.34416198730469, 145.2910614013672, 32.37334442138672, 16.224794387817383, 57.88401794433594, 128.27774047851562, 126.25205993652344, 35.6539306640625, 128.7416229248047, 46.11741638183594, 64.81634521484375, 54.6784553527832, 68.45113372802734, 56.31119155883789, 54.3285026550293, 38.06657028198242, 116.0833511352539, 74.35941314697266, 64.07616424560547, 84.82132720947266, 106.46914672851562, 88.20325469970703, 176.1209259033203, 71.08772277832031, 56.54938507080078, 84.51458740234375, 68.29291534423828, 77.99462890625, 76.20365142822266, 70.9233169555664, 63.40646743774414, 65.30591583251953, 58.514259338378906, 59.808860778808594, 57.69673538208008, 75.82772827148438, 78.97118377685547, 113.18892669677734, 122.05999755859375, 89.66912078857422, 30.207902908325195, 54.02125930786133, 77.26776123046875, 22.251115798950195, 33.62955856323242, 104.62494659423828, 204.40090942382812, 38.465763092041016, 21.482881546020508, 86.35985565185547, 69.86174011230469, 22.396867752075195, 26.561498641967773, 21.616012573242188, 15.511923789978027, 20.245311737060547, 13.61410903930664, 113.42742156982422, 30.541406631469727, 38.846038818359375, 18.842130661010742, 20.34456443786621, 50.78007125854492, 93.35359954833984, 29.530223846435547, 43.2999382019043, 38.73908615112305, 52.6109733581543, 67.41946411132812, 149.96546936035156, 65.19799041748047, 85.12126159667969, 60.18397521972656, 57.07514953613281, 53.12733840942383, 46.295654296875, 74.62516784667969, 76.84738159179688, 68.29390716552734, 93.18439483642578, 65.70181274414062, 60.07914352416992, 90.61194610595703, 67.17807006835938, 68.57981872558594, 74.26005554199219, 60.89027786254883, 61.421356201171875, 55.43332290649414, 45.35051345825195, 21.30626678466797, 34.30476379394531, 134.5552215576172, 44.132843017578125, 24.280025482177734, 25.397422790527344, 60.983333587646484, 14.309439659118652, 26.11118507385254, 25.51695442199707, 14.384142875671387, 14.2014799118042, 21.479169845581055, 23.326854705810547, 21.279052734375, 13.84692096710205, 25.54402732849121, 26.370994567871094, 24.147985458374023, 21.182178497314453, 72.72350311279297, 22.61801528930664, 14.374184608459473, 10.300202369689941, 14.815464973449707, 18.95023536682129, 32.46428298950195, 32.2018928527832, 51.01485824584961, 50.76359176635742, 77.99695587158203, 85.67909240722656, 65.36934661865234, 62.97743225097656, 79.73099517822266, 58.015377044677734, 90.18910217285156, 58.011539459228516, 66.52015686035156, 57.097740173339844, 67.86361694335938, 171.07791137695312, 36.92247009277344, 47.20486831665039, 99.5290756225586, 54.55714797973633, 70.01065826416016, 60.92704772949219, 42.75249481201172, 53.16565704345703, 49.92427444458008, 46.52384948730469, 49.386287689208984, 49.027503967285156, 47.1788330078125, 46.34556198120117, 43.24016189575195, 35.30338668823242, 227.0048370361328, 24.02790069580078, 31.397550582885742, 13.125873565673828, 12.839632034301758, 29.980697631835938, 16.24439811706543, 18.39162254333496, 11.212234497070312, 9.459761619567871, 56.51578903198242, 18.59107780456543, 25.319643020629883, 19.980716705322266, 13.09592056274414, 41.975120544433594, 32.59380340576172, 11.648432731628418, 24.212696075439453, 15.781813621520996, 7.690615653991699, 10.041060447692871, 20.29692268371582, 64.06221771240234, 8.28099250793457, 36.819149017333984, 11.66132640838623, 9.729265213012695, 42.56637954711914, 29.27286148071289, 46.03374099731445, 47.824615478515625, 64.72477722167969, 35.119930267333984, 124.18338012695312, 119.00458526611328, 32.85717010498047, 36.09773635864258, 35.13899612426758, 31.844623565673828, 33.9178352355957, 56.28273391723633, 32.725093841552734, 27.699302673339844, 35.087162017822266, 33.47854232788086, 50.697853088378906, 33.18373107910156, 33.97762680053711, 37.56614303588867, 34.3316764831543, 31.712324142456055, 48.352718353271484, 38.057090759277344, 27.575597763061523, 24.28950309753418, 15.430932998657227, 32.49650192260742, 11.569657325744629, 18.54054069519043, 14.664880752563477, 17.228239059448242, 14.511433601379395, 15.665120124816895, 24.860876083374023, 17.511926651000977, 5.198601722717285, 9.518043518066406, 14.848477363586426, 10.841164588928223, 7.814986228942871, 7.303009986877441, 8.624848365783691, 21.809614181518555, 43.97333908081055, 10.647407531738281, 12.681869506835938, 10.223834991455078, 6.464249610900879, 19.23455047607422, 10.640542984008789, 14.964855194091797, 39.250762939453125, 14.763586044311523, 12.415975570678711, 42.11332321166992, 33.91897201538086, 30.12563705444336, 29.092689514160156, 20.712257385253906, 16.146764755249023, 20.581073760986328, 21.102680206298828, 20.364381790161133, 21.531497955322266, 18.518342971801758, 21.626863479614258, 17.41899299621582, 16.62969207763672, 16.289541244506836, 16.752399444580078, 17.575441360473633, 17.00422477722168, 16.9184627532959], \"Term\": [\"february\", \"area\", \"student\", \"fire\", \"china\", \"virus\", \"ship\", \"study\", \"case\", \"wuhan\", \"chinese\", \"research\", \"cruise\", \"you\", \"aedt\", \"patient\", \"climate\", \"professor\", \"pandemic\", \"princess\", \"her\", \"she\", \"risk\", \"diamond_princess\", \"diamond\", \"your\", \"cruise_ship\", \"cell\", \"flight\", \"national\", \"qantas_flight\", \"evacuee\", \"cabin\", \"japan_advertisement\", \"foreign_traveller\", \"yokohama\", \"docked\", \"aboard\", \"detention\", \"base\", \"vessel\", \"on_board\", \"christmas_island\", \"christmas\", \"board\", \"evacuated_from\", \"spring\", \"diamond_princess\", \"diamond\", \"princess\", \"qantas\", \"ship\", \"japanese\", \"february_updated\", \"evacuated\", \"island\", \"aedt_february\", \"quarantine\", \"landed\", \"darwin\", \"cruise\", \"passenger\", \"february\", \"japan\", \"february_february\", \"cruise_ship\", \"quarantined\", \"australia_february\", \"wale_january\", \"january_february\", \"january_victoria\", \"january_january\", \"february_western\", \"february_queensland\", \"flight\", \"aedt\", \"pictured\", \"case\", \"wuhan\", \"virus\", \"queensland\", \"two\", \"western\", \"confirmed\", \"mr\", \"china\", \"week\", \"she\", \"air_quality\", \"smoke\", \"climate_change\", \"climate\", \"season\", \"blaze\", \"disaster\", \"quality\", \"fire\", \"sport\", \"heat\", \"bushfire\", \"story\", \"me\", \"bushfires\", \"canberra\", \"play\", \"ai\", \"australiaas\", \"policy\", \"position\", \"heavy\", \"summer\", \"destroyed\", \"female\", \"athe\", \"extreme\", \"awe\", \"change\", \"threat\", \"mother\", \"her\", \"air\", \"she\", \"my\", \"event\", \"open\", \"say\", \"his\", \"woman\", \"when\", \"first\", \"right\", \"some\", \"over\", \"time\", \"month\", \"now\", \"what\", \"so\", \"last\", \"like\", \"into\", \"out\", \"just\", \"many\", \"country\", \"would\", \"world\", \"semester\", \"chinese_student\", \"student\", \"travel_ban\", \"accommodation\", \"gold_coast\", \"airline\", \"campus\", \"chief_executive\", \"at_brisbane\", \"gold\", \"date\", \"ban\", \"isolate\", \"brisbane\", \"hotel\", \"home_affair\", \"test_result\", \"class\", \"day_later\", \"executive\", \"returned_from\", \"visitor\", \"isolated\", \"arrival\", \"direct\", \"coast\", \"planning\", \"officer_dr\", \"visited\", \"travel\", \"isolation\", \"chinese\", \"diagnosed\", \"tourist\", \"flight\", \"sydney\", \"from_wuhan\", \"china\", \"melbourne\", \"international\", \"week\", \"airport\", \"country\", \"confirmed\", \"queensland\", \"infected\", \"nsw\", \"virus\", \"she\", \"wuhan\", \"two\", \"those\", \"february\", \"case\", \"outbreak\", \"could\", \"hospital\", \"government\", \"fever_cough\", \"sore_throat\", \"face_mask\", \"sore\", \"breath\", \"gp\", \"chinese_authority\", \"breathing\", \"pneumonia\", \"evacuate\", \"murphy_said\", \"cough\", \"novel_coronavirus\", \"murphy\", \"moved\", \"throat\", \"untreated\", \"precaution\", \"deadly_disease\", \"sydney_airport\", \"common_cold\", \"identified\", \"posted\", \"thailand\", \"mild\", \"deadly_virus\", \"alert_level\", \"fever\", \"mask\", \"desperate\", \"being_treated\", \"hubei_province\", \"wuhan\", \"symptom\", \"face\", \"wearing\", \"deadly\", \"hospital\", \"virus\", \"man\", \"china\", \"confirmed\", \"city\", \"patient\", \"spread\", \"case\", \"province\", \"outbreak\", \"his\", \"contact\", \"contact_with\", \"out\", \"chinese\", \"authority\", \"medical\", \"infected\", \"disease\", \"airport\", \"melbourne\", \"travel\", \"may\", \"two\", \"february\", \"sydney\", \"country\", \"if\", \"she\", \"specie\", \"if_you\", \"bed\", \"your\", \"uk\", \"circumstance\", \"expert_say\", \"fatality\", \"disease_control\", \"flu\", \"talking\", \"you\", \"known_a\", \"seem\", \"surge\", \"known\", \"named\", \"meaning\", \"faster\", \"baby\", \"car\", \"eye\", \"recover\", \"question\", \"body\", \"catch\", \"donat\", \"not_yet\", \"infectious_disease\", \"actually\", \"light\", \"animal\", \"live\", \"whether\", \"cause\", \"if\", \"control\", \"illness\", \"even\", \"rate\", \"so\", \"virus\", \"what\", \"might\", \"do\", \"expert\", \"get\", \"them\", \"help\", \"sars\", \"should\", \"work\", \"may\", \"around\", \"symptom\", \"case\", \"time\", \"say\", \"disease\", \"spread\", \"could\", \"because\", \"would\", \"how\", \"like\", \"no\", \"two\", \"patient\", \"distancing\", \"economic\", \"economy\", \"shut\", \"trade\", \"financial\", \"busy\", \"limit\", \"business\", \"restaurant\", \"rule\", \"worth\", \"growth\", \"shut_down\", \"price\", \"user\", \"social\", \"restriction\", \"indonesia\", \"closing\", \"share\", \"shop\", \"scroll\", \"scroll_down\", \"essential\", \"online\", \"school\", \"industry\", \"struggling\", \"crisis\", \"cent\", \"per_cent\", \"police\", \"per\", \"closed\", \"march\", \"worker\", \"daily\", \"mail\", \"close\", \"forced\", \"told\", \"down\", \"morrison\", \"aedt\", \"would\", \"home\", \"february\", \"mr\", \"covid\", \"could\", \"minister\", \"government\", \"week\", \"country\", \"our\", \"case\", \"will_be\", \"some\", \"just\", \"material\", \"technology\", \"researcher\", \"cell\", \"analysis\", \"journal\", \"author\", \"mass\", \"existing\", \"sample\", \"used\", \"study\", \"immune\", \"shown\", \"using\", \"normal\", \"associated\", \"heart\", \"standard\", \"causing\", \"created\", \"simple\", \"research\", \"finding\", \"compared\", \"significantly\", \"larger\", \"higher\", \"level\", \"exposure\", \"treatment\", \"range\", \"amp\", \"found\", \"patient\", \"data\", \"between\", \"use\", \"scientist\", \"team\", \"stage\", \"group\", \"such\", \"test\", \"woman\", \"monash\", \"high\", \"could\", \"these\", \"dr\", \"those\", \"well\", \"risk\", \"shelf\", \"toilet\", \"prepare_for\", \"supermarket\", \"pandemic\", \"paper\", \"panic\", \"intensive_care\", \"supply\", \"organ\", \"prepare\", \"upon\", \"item\", \"chain\", \"survival\", \"we_need\", \"greg_hunt\", \"failure\", \"game\", \"shortage\", \"intensive\", \"greg\", \"food\", \"party\", \"trigger\", \"ready\", \"flown\", \"tokyo\", \"stock\", \"customer\", \"plan\", \"care\", \"on_thursday\", \"thursday\", \"cruise_ship\", \"princess\", \"cruise\", \"diamond_princess\", \"ship\", \"diamond\", \"should\", \"u\", \"minister\", \"february\", \"warned\", \"covid\", \"virus\", \"need\", \"would\", \"government\", \"morrison\", \"infected\", \"queensland\", \"state\", \"sydney\", \"told\", \"pictured\", \"china\", \"reuters\", \"network\", \"area\", \"location\", \"resource\", \"pas\", \"taiwan\", \"beijing\", \"ministry\", \"access\", \"total_number\", \"holding\", \"data\", \"death_toll\", \"site\", \"region\", \"reporting\", \"sars\", \"based_on\", \"present\", \"toll\", \"view\", \"detail\", \"specific\", \"epidemic\", \"death\", \"additional\", \"on_saturday\", \"infectious_disease\", \"previous\", \"saturday\", \"analysis\", \"reported\", \"number_of\", \"number\", \"mainland\", \"case\", \"china\", \"image\", \"based\", \"result\", \"on_friday\", \"each\", \"chinese\", \"official\", \"mainland_china\", \"infection\", \"friday\", \"wuhan\", \"human\", \"between\", \"outbreak\", \"virus\", \"two\", \"council\", \"fine\", \"victorian\", \"prof\", \"andrew\", \"weather\", \"bureau\", \"peak\", \"senior\", \"history\", \"london\", \"agency\", \"water\", \"average\", \"unclear\", \"premier\", \"former\", \"college\", \"spokeswoman\", \"rather_than\", \"fellow\", \"institute\", \"professor\", \"act\", \"west\", \"leading\", \"destroyed\", \"director\", \"eastern\", \"east\", \"research\", \"range\", \"park\", \"fire\", \"risk\", \"national\", \"aedt\", \"service\", \"issue\", \"based\", \"expert\", \"monash\", \"dr\", \"centre\", \"area\", \"wednesday\", \"found\", \"tuesday\", \"climate\", \"government\", \"state\", \"three\"], \"Total\": [1622.0, 420.0, 516.0, 304.0, 1044.0, 1116.0, 422.0, 307.0, 931.0, 668.0, 583.0, 200.0, 332.0, 602.0, 310.0, 445.0, 189.0, 215.0, 216.0, 234.0, 505.0, 709.0, 290.0, 216.0, 217.0, 289.0, 234.0, 161.0, 479.0, 248.0, 29.830528259277344, 111.3901596069336, 53.702667236328125, 84.6187515258789, 21.837018966674805, 91.4725112915039, 35.78721618652344, 55.52872085571289, 36.75251007080078, 29.872756958007812, 48.71120071411133, 164.85459899902344, 159.6730499267578, 162.6253662109375, 191.74647521972656, 54.5623779296875, 39.88218688964844, 216.67630004882812, 217.6842041015625, 234.5855712890625, 124.92034912109375, 422.568115234375, 68.13973236083984, 103.73503112792969, 95.114501953125, 236.42449951171875, 102.7433090209961, 244.57574462890625, 37.667179107666016, 86.3175048828125, 332.12652587890625, 419.5672607421875, 1622.0543212890625, 373.1969909667969, 307.1678466796875, 234.17832946777344, 126.49060821533203, 155.06777954101562, 154.07212829589844, 154.06979370117188, 154.0741729736328, 339.01904296875, 154.07225036621094, 156.0235595703125, 479.9479675292969, 310.57470703125, 397.0465087890625, 931.4663696289062, 668.7652587890625, 1116.4801025390625, 392.70318603515625, 623.712890625, 262.6786193847656, 470.75164794921875, 321.7657775878906, 1044.9920654296875, 582.1679077148438, 709.5180053710938, 63.94972229003906, 180.60015869140625, 111.6052017211914, 189.58883666992188, 83.90303039550781, 38.54138946533203, 35.36820602416992, 95.11727905273438, 304.826171875, 67.83843231201172, 50.56299591064453, 99.2406234741211, 44.564937591552734, 104.89049530029297, 138.7715606689453, 91.929931640625, 76.61194610595703, 67.27354431152344, 58.74939727783203, 49.54764938354492, 39.108604431152344, 32.25240707397461, 58.68296813964844, 32.284507751464844, 49.34666442871094, 66.02761840820312, 79.85433197021484, 26.009939193725586, 213.01394653320312, 32.16522216796875, 65.3799057006836, 505.30718994140625, 243.8872833251953, 709.5180053710938, 213.18869018554688, 112.03700256347656, 139.39862060546875, 461.2279357910156, 461.2753601074219, 482.54498291015625, 504.5866394042969, 470.5892333984375, 160.3067626953125, 487.2790832519531, 305.37554931640625, 474.7168273925781, 204.5637664794922, 419.01593017578125, 346.1246032714844, 466.73419189453125, 334.0158996582031, 331.7456970214844, 436.9547424316406, 565.9443969726562, 348.5643615722656, 306.1383056640625, 470.2303771972656, 567.9937744140625, 374.55633544921875, 60.74613571166992, 93.07289123535156, 516.4517211914062, 131.54763793945312, 34.3605842590332, 91.23307037353516, 104.19866943359375, 52.25862121582031, 33.41935729980469, 39.19660568237305, 103.2665786743164, 35.32487106323242, 241.53900146484375, 43.15262222290039, 119.18511199951172, 62.00020980834961, 26.59743881225586, 27.499732971191406, 94.08201599121094, 30.39002227783203, 45.604557037353516, 35.284019470214844, 50.489688873291016, 68.89237213134766, 33.49001693725586, 48.182491302490234, 162.1312255859375, 28.537906646728516, 37.288787841796875, 38.4435920715332, 364.9444580078125, 194.3072967529297, 583.5476684570312, 114.85477447509766, 86.0052261352539, 479.9479675292969, 468.8804626464844, 152.1719207763672, 1044.9920654296875, 452.46954345703125, 246.8292236328125, 582.1679077148438, 189.33677673339844, 470.2303771972656, 470.75164794921875, 392.70318603515625, 377.5098876953125, 226.60484313964844, 1116.4801025390625, 709.5180053710938, 668.7652587890625, 623.712890625, 404.00274658203125, 1622.0543212890625, 931.4663696289062, 457.77532958984375, 524.6776123046875, 409.65753173828125, 491.69573974609375, 34.21714782714844, 29.317522048950195, 160.09556579589844, 33.21281433105469, 23.59801483154297, 35.197303771972656, 37.20850372314453, 32.47770690917969, 78.92679595947266, 34.455413818359375, 37.31972122192383, 63.46110153198242, 45.86961364746094, 71.64764404296875, 31.652301788330078, 40.156795501708984, 20.485872268676758, 41.329376220703125, 31.482418060302734, 30.368806838989258, 35.0588264465332, 80.53970336914062, 35.62666702270508, 58.531837463378906, 41.92732238769531, 71.58997344970703, 21.52913475036621, 77.17134857177734, 449.4090270996094, 31.454286575317383, 52.82984924316406, 105.73509979248047, 668.7652587890625, 306.3794860839844, 326.3883361816406, 176.24261474609375, 236.94805908203125, 409.65753173828125, 1116.4801025390625, 255.51124572753906, 1044.9920654296875, 470.75164794921875, 359.4082946777344, 445.7273254394531, 378.90753173828125, 931.4663696289062, 152.693359375, 457.77532958984375, 461.2753601074219, 187.87078857421875, 86.51498413085938, 565.9443969726562, 583.5476684570312, 224.13230895996094, 356.9176025390625, 377.5098876953125, 380.555419921875, 189.33677673339844, 452.46954345703125, 364.9444580078125, 341.418701171875, 623.712890625, 1622.0543212890625, 468.8804626464844, 470.2303771972656, 608.2774658203125, 709.5180053710938, 113.03630828857422, 106.09846496582031, 67.18888092041016, 289.61181640625, 94.3065414428711, 27.248655319213867, 35.9731559753418, 38.73561477661133, 29.254854202270508, 98.54417419433594, 25.581628799438477, 602.677001953125, 42.231483459472656, 38.95137023925781, 22.55283546447754, 110.88350677490234, 49.18792724609375, 35.02167892456055, 25.501537322998047, 44.91850662231445, 98.50611877441406, 31.473634719848633, 26.262414932250977, 47.327552795410156, 94.0755386352539, 33.1656608581543, 59.318153381347656, 27.3808536529541, 44.639583587646484, 38.30224609375, 60.136531829833984, 190.17491149902344, 75.83061981201172, 112.93180084228516, 148.02976989746094, 608.2774658203125, 115.12838745117188, 134.20370483398438, 246.31991577148438, 117.51513671875, 466.73419189453125, 1116.4801025390625, 346.1246032714844, 102.57879638671875, 317.41790771484375, 248.0808563232422, 302.61126708984375, 383.945556640625, 209.82861328125, 147.3189697265625, 276.49615478515625, 264.0624084472656, 341.418701171875, 329.45135498046875, 306.3794860839844, 931.4663696289062, 474.7168273925781, 461.2279357910156, 380.555419921875, 378.90753173828125, 524.6776123046875, 296.9286804199219, 567.9937744140625, 263.7980041503906, 331.7456970214844, 418.870361328125, 623.712890625, 445.7273254394531, 52.450469970703125, 62.74150085449219, 96.23764038085938, 53.41929244995117, 76.31067657470703, 40.20131301879883, 34.18173599243164, 36.15990447998047, 202.6820526123047, 102.0749282836914, 53.2099609375, 27.03533363342285, 32.037940979003906, 28.11598014831543, 40.0359992980957, 30.850858688354492, 180.53485107421875, 87.8398208618164, 69.77791595458984, 34.00474166870117, 47.18733596801758, 54.10978698730469, 27.05107307434082, 27.051063537597656, 41.909751892089844, 127.54931640625, 289.0790100097656, 65.4176254272461, 33.02200698852539, 117.96376037597656, 264.9646301269531, 260.943603515625, 74.50773620605469, 301.4952087402344, 101.59947967529297, 151.5791015625, 129.79141235351562, 174.411376953125, 136.70709228515625, 133.42564392089844, 85.15911865234375, 467.6592712402344, 238.16542053222656, 194.08932495117188, 310.57470703125, 567.9937744140625, 415.2896423339844, 1622.0543212890625, 321.7657775878906, 191.12078857421875, 524.6776123046875, 307.8124694824219, 491.69573974609375, 582.1679077148438, 470.2303771972656, 347.94415283203125, 931.4663696289062, 308.6601257324219, 487.2790832519531, 348.5643615722656, 85.32905578613281, 98.09039306640625, 147.88253784179688, 161.6687469482422, 121.0866470336914, 41.47885513305664, 74.19436645507812, 109.20235443115234, 32.53657913208008, 49.38814163208008, 155.87789916992188, 307.4839782714844, 60.286598205566406, 34.64433288574219, 140.15145874023438, 113.86750030517578, 36.50960922241211, 43.75286865234375, 35.67131805419922, 25.816028594970703, 33.88090133666992, 23.725217819213867, 200.63121032714844, 54.693145751953125, 70.3696517944336, 34.679298400878906, 37.7050666809082, 95.51710510253906, 176.29637145996094, 57.463783264160156, 85.34650421142578, 77.08584594726562, 110.81684875488281, 157.3248291015625, 445.7273254394531, 167.1934051513672, 262.8544006347656, 158.94619750976562, 148.19146728515625, 136.04510498046875, 109.3797607421875, 260.2710876464844, 288.84246826171875, 241.418701171875, 482.54498291015625, 239.04798889160156, 195.4498291015625, 524.6776123046875, 265.560791015625, 293.8094177246094, 404.00274658203125, 224.0865478515625, 290.0685119628906, 62.33771514892578, 60.27948760986328, 32.866539001464844, 54.82074737548828, 216.17929077148438, 73.43177795410156, 41.33814239501953, 44.6539192199707, 108.91639709472656, 25.676719665527344, 47.6732292175293, 47.383270263671875, 26.72429656982422, 26.75736427307129, 40.63392639160156, 45.878292083740234, 42.55024337768555, 27.79340362548828, 53.9323844909668, 56.10845184326172, 51.49652099609375, 46.61516189575195, 161.3724365234375, 51.8393669128418, 33.65258026123047, 27.8780460357666, 40.66238784790039, 52.53693389892578, 91.28146362304688, 90.72996520996094, 144.6219024658203, 145.32061767578125, 233.05767822265625, 259.889404296875, 234.17832946777344, 234.5855712890625, 332.12652587890625, 216.67630004882812, 422.568115234375, 217.6842041015625, 276.49615478515625, 228.8968963623047, 307.8124694824219, 1622.0543212890625, 113.80817413330078, 191.12078857421875, 1116.4801025390625, 289.4646301269531, 567.9937744140625, 491.69573974609375, 194.08932495117188, 377.5098876953125, 392.70318603515625, 337.1279602050781, 468.8804626464844, 467.6592712402344, 397.0465087890625, 1044.9920654296875, 70.3805160522461, 61.460731506347656, 420.2689514160156, 46.08800506591797, 69.22132110595703, 29.33645248413086, 31.086305618286133, 72.9050521850586, 43.00360107421875, 49.297183990478516, 32.2959098815918, 27.481042861938477, 167.1934051513672, 60.67522430419922, 82.87517547607422, 67.2283935546875, 44.28602981567383, 147.3189697265625, 114.5025863647461, 41.15924072265625, 86.353271484375, 56.42338943481445, 27.568315505981445, 36.13883972167969, 74.11359405517578, 236.28067016601562, 30.56233024597168, 140.88803100585938, 44.639583587646484, 37.47734832763672, 178.57321166992188, 121.0866470336914, 208.7902374267578, 220.23960876464844, 321.0159912109375, 165.7398681640625, 931.4663696289062, 1044.9920654296875, 165.21438598632812, 191.03277587890625, 201.44943237304688, 169.7309112548828, 199.28921508789062, 583.5476684570312, 193.81292724609375, 135.21331787109375, 231.36561584472656, 211.60621643066406, 668.7652587890625, 232.1483612060547, 262.8544006347656, 457.77532958984375, 1116.4801025390625, 623.712890625, 72.587890625, 65.76341247558594, 51.6761474609375, 52.294193267822266, 34.03596878051758, 84.28107452392578, 32.15184783935547, 54.5546875, 46.682647705078125, 56.2728271484375, 49.48868942260742, 55.36389923095703, 91.07117462158203, 65.17643737792969, 20.650699615478516, 39.09758377075195, 61.01729202270508, 45.810550689697266, 33.80180740356445, 31.63616180419922, 39.762725830078125, 105.355224609375, 215.0067138671875, 52.18392562866211, 62.677978515625, 50.61110305786133, 32.284507751464844, 96.18279266357422, 53.30109405517578, 75.36141204833984, 200.63121032714844, 77.08584594726562, 63.52717590332031, 304.826171875, 290.0685119628906, 248.23538208007812, 310.57470703125, 179.79470825195312, 114.08160400390625, 191.03277587890625, 248.0808563232422, 239.04798889160156, 293.8094177246094, 207.40969848632812, 420.2689514160156, 203.84034729003906, 157.3248291015625, 133.2047882080078, 189.58883666992188, 491.69573974609375, 337.1279602050781, 318.8700256347656], \"loglift\": [30.0, 29.0, 28.0, 27.0, 26.0, 25.0, 24.0, 23.0, 22.0, 21.0, 20.0, 19.0, 18.0, 17.0, 16.0, 15.0, 14.0, 13.0, 12.0, 11.0, 10.0, 9.0, 8.0, 7.0, 6.0, 5.0, 4.0, 3.0, 2.0, 1.0, 1.7407000064849854, 1.729699969291687, 1.7254999876022339, 1.6419999599456787, 1.6164000034332275, 1.6121000051498413, 1.6085000038146973, 1.597499966621399, 1.5950000286102295, 1.5872000455856323, 1.5729000568389893, 1.5634000301361084, 1.55239999294281, 1.5430999994277954, 1.5234999656677246, 1.5053999423980713, 1.4896999597549438, 1.4616999626159668, 1.4570000171661377, 1.4551000595092773, 1.4537999629974365, 1.4502999782562256, 1.4501999616622925, 1.4428999423980713, 1.4401999711990356, 1.440000057220459, 1.4375, 1.4261000156402588, 1.4208999872207642, 1.4147000312805176, 1.3890000581741333, 1.3726999759674072, 1.2717000246047974, 1.3456000089645386, 1.3495999574661255, 1.367300033569336, 1.404099941253662, 1.3557000160217285, 1.3504999876022339, 1.3502000570297241, 1.350100040435791, 1.1830999851226807, 1.350000023841858, 1.340499997138977, 0.8892999887466431, 1.0189000368118286, 0.85589998960495, 0.2353000044822693, 0.412200003862381, 0.015399999916553497, 0.6983000040054321, 0.35019999742507935, 0.9649999737739563, 0.5184999704360962, 0.7882999777793884, -0.16840000450611115, 0.20270000398159027, -0.015399999916553497, 1.8753999471664429, 1.8407000303268433, 1.8386000394821167, 1.8005000352859497, 1.749400019645691, 1.7490999698638916, 1.7418999671936035, 1.7345999479293823, 1.726199984550476, 1.7095999717712402, 1.7038999795913696, 1.6771999597549438, 1.6686999797821045, 1.6516000032424927, 1.603700041770935, 1.5914000272750854, 1.555999994277954, 1.5273000001907349, 1.5255000591278076, 1.5048999786376953, 1.496000051498413, 1.480299949645996, 1.4739999771118164, 1.4730000495910645, 1.4710999727249146, 1.4538999795913696, 1.4464999437332153, 1.430899977684021, 1.4154000282287598, 1.4141000509262085, 1.4091999530792236, 1.3766000270843506, 1.2963999509811401, 1.152500033378601, 1.2702000141143799, 1.3372999429702759, 1.2864999771118164, 1.0174000263214111, 0.9743000268936157, 0.8824999928474426, 0.7041000127792358, 0.729200005531311, 1.1344000101089478, 0.6410999894142151, 0.8201000094413757, 0.5967000126838684, 0.9675999879837036, 0.5286999940872192, 0.5873000025749207, 0.37229999899864197, 0.5997999906539917, 0.5967000126838684, 0.37950000166893005, 0.15129999816417694, 0.5160999894142151, 0.6155999898910522, 0.21619999408721924, -0.019600000232458115, 0.38589999079704285, 1.9846999645233154, 1.9759000539779663, 1.8880000114440918, 1.8348000049591064, 1.832200050354004, 1.8255000114440918, 1.81659996509552, 1.7683000564575195, 1.751099944114685, 1.7278000116348267, 1.684000015258789, 1.6409000158309937, 1.6160000562667847, 1.5765999555587769, 1.5312999486923218, 1.5023000240325928, 1.5019999742507935, 1.4961999654769897, 1.4845999479293823, 1.4803999662399292, 1.4103000164031982, 1.3952000141143799, 1.3797999620437622, 1.375, 1.3588000535964966, 1.3566999435424805, 1.3517999649047852, 1.351099967956543, 1.3494000434875488, 1.3418999910354614, 1.3310999870300293, 1.3294999599456787, 1.2862000465393066, 1.295199990272522, 1.299399971961975, 1.094099998474121, 1.0807000398635864, 1.226199984550476, 0.8715000152587891, 0.9830999970436096, 1.087499976158142, 0.7781000137329102, 1.0776000022888184, 0.7379999756813049, 0.6541000008583069, 0.7113000154495239, 0.7276999950408936, 0.9251999855041504, 0.18129999935626984, 0.38190001249313354, 0.35839998722076416, 0.38999998569488525, 0.5569999814033508, -0.39169999957084656, -0.0868000015616417, 0.42820000648498535, 0.22429999709129333, 0.3995000123977661, 0.15929999947547913, 2.0190999507904053, 1.7683000564575195, 1.7496999502182007, 1.7431000471115112, 1.7223999500274658, 1.6727999448776245, 1.6723999977111816, 1.652999997138977, 1.6055999994277954, 1.6035000085830688, 1.6018999814987183, 1.5820000171661377, 1.5712000131607056, 1.5485999584197998, 1.5418000221252441, 1.5408999919891357, 1.5292999744415283, 1.5135999917984009, 1.5104000568389893, 1.5003999471664429, 1.49399995803833, 1.4808000326156616, 1.476199984550476, 1.4752999544143677, 1.4747999906539917, 1.4692000150680542, 1.4645999670028687, 1.457900047302246, 1.451799988746643, 1.4352999925613403, 1.4306999444961548, 1.3609999418258667, 1.163100004196167, 1.2336000204086304, 1.1963000297546387, 1.2747999429702759, 1.2139999866485596, 1.027899980545044, 0.804099977016449, 1.1104999780654907, 0.714900016784668, 0.8932999968528748, 0.9620000123977661, 0.8648999929428101, 0.9107000231742859, 0.5819000005722046, 1.1581000089645386, 0.784500002861023, 0.7053999900817871, 1.0343999862670898, 1.3309999704360962, 0.5447999835014343, 0.5281000137329102, 0.9315000176429749, 0.704800009727478, 0.6331999897956848, 0.6197999715805054, 0.9567999839782715, 0.41370001435279846, 0.5238000154495239, 0.5580999851226807, 0.12269999831914902, -0.6316999793052673, 0.3046000003814697, 0.3001999855041504, 0.06350000202655792, -0.10109999775886536, 2.0139000415802, 1.9433000087738037, 1.8876999616622925, 1.8631000518798828, 1.8345999717712402, 1.7998000383377075, 1.7360999584197998, 1.7331000566482544, 1.6859999895095825, 1.670699954032898, 1.6649999618530273, 1.642199993133545, 1.6339000463485718, 1.6061999797821045, 1.6021000146865845, 1.598099946975708, 1.5831999778747559, 1.5823999643325806, 1.5785000324249268, 1.5430999994277954, 1.541599988937378, 1.53410005569458, 1.5200999975204468, 1.5170999765396118, 1.509600043296814, 1.5089000463485718, 1.4986000061035156, 1.492400050163269, 1.483199954032898, 1.4812999963760376, 1.4772000312805176, 1.4572999477386475, 1.4348000288009644, 1.3876999616622925, 1.3495999574661255, 1.1791000366210938, 1.3438999652862549, 1.311400055885315, 1.1966999769210815, 1.3166999816894531, 0.9909999966621399, 0.781499981880188, 1.0430999994277954, 1.3339999914169312, 1.0, 1.0633000135421753, 0.9783999919891357, 0.8755000233650208, 1.0865000486373901, 1.1950000524520874, 0.9528999924659729, 0.9470999836921692, 0.8328999876976013, 0.8392999768257141, 0.8610000014305115, 0.2732999920845032, 0.6115999817848206, 0.6244999766349792, 0.6930000185966492, 0.6880999803543091, 0.42179998755455017, 0.8309999704360962, 0.2955999970436096, 0.8999000191688538, 0.7114999890327454, 0.5013999938964844, 0.14499999582767487, 0.4348999857902527, 2.079200029373169, 2.078399896621704, 1.9639999866485596, 1.954699993133545, 1.8583999872207642, 1.8443000316619873, 1.8028000593185425, 1.80239999294281, 1.7882000207901, 1.7628999948501587, 1.7625999450683594, 1.7603000402450562, 1.7506999969482422, 1.7337000370025635, 1.7121000289916992, 1.688099980354309, 1.6656999588012695, 1.6283999681472778, 1.6110999584197998, 1.600000023841858, 1.5988999605178833, 1.5946999788284302, 1.5918999910354614, 1.5917999744415283, 1.5839999914169312, 1.5684000253677368, 1.5647000074386597, 1.5492000579833984, 1.5420000553131104, 1.5406999588012695, 1.5271999835968018, 1.5266000032424927, 1.5155999660491943, 1.4017000198364258, 1.4628000259399414, 1.4031000137329102, 1.388200044631958, 1.3172999620437622, 1.3657000064849854, 1.354099988937378, 1.4473999738693237, 0.8592000007629395, 1.0886000394821167, 1.1444000005722046, 0.9546999931335449, 0.5784000158309937, 0.7032999992370605, 0.03229999914765358, 0.7426999807357788, 1.0348000526428223, 0.426800012588501, 0.7469000220298767, 0.4113999903202057, 0.21930000185966492, 0.3610000014305115, 0.5501000285148621, -0.4050999879837036, 0.5896000266075134, 0.15489999949932098, 0.45399999618530273, 2.4827001094818115, 2.3838999271392822, 2.333400011062622, 2.319700002670288, 2.300299882888794, 2.283600091934204, 2.283400058746338, 2.2548000812530518, 2.2207000255584717, 2.216399908065796, 2.2019999027252197, 2.1923999786376953, 2.151400089263916, 2.12280011177063, 2.116499900817871, 2.1122000217437744, 2.1120998859405518, 2.101599931716919, 2.0998001098632812, 2.0913000106811523, 2.0857999324798584, 2.045300006866455, 2.030400037765503, 2.0181000232696533, 2.0065999031066895, 1.9907000064849854, 1.9837000370025635, 1.9688999652862549, 1.964900016784668, 1.934999942779541, 1.9221999645233154, 1.912600040435791, 1.8558000326156616, 1.7532999515533447, 1.5113999843597412, 1.659000039100647, 1.4731999635696411, 1.6296000480651855, 1.6466000080108643, 1.6604000329971313, 1.7409000396728516, 1.3515000343322754, 1.2767000198364258, 1.3380000591278076, 0.9562000036239624, 1.3092000484466553, 1.4211000204086304, 0.8445000052452087, 1.226199984550476, 1.145799994468689, 0.9068999886512756, 1.2977999448776245, 1.0484000444412231, 2.6463000774383545, 2.4791998863220215, 2.3303000926971436, 2.2948999404907227, 2.289599895477295, 2.2546000480651855, 2.231600046157837, 2.199399948120117, 2.1837000846862793, 2.1791000366210938, 2.1617000102996826, 2.1447999477386475, 2.1442999839782715, 2.1303000450134277, 2.126199960708618, 2.0873000621795654, 2.0708000659942627, 2.066999912261963, 2.016400098800659, 2.008699893951416, 2.0064001083374023, 1.975000023841858, 1.9666999578475952, 1.9342999458312988, 1.913100004196167, 1.7680000066757202, 1.75409996509552, 1.74399995803833, 1.7299000024795532, 1.7279000282287598, 1.7216999530792236, 1.7120000123977661, 1.669100046157837, 1.654099941253662, 1.4876999855041504, 1.448699951171875, 1.336899995803833, 1.4459999799728394, 1.2193000316619873, 1.4413000345230103, 1.3389999866485596, 1.3752000331878662, 1.2517000436782837, 0.5144000053405762, 1.6380000114440918, 1.3653000593185425, 0.34619998931884766, 1.0949000120162964, 0.6703000068664551, 0.6754999756813049, 1.2508000135421753, 0.8034999966621399, 0.701200008392334, 0.7832000255584717, 0.5130000114440918, 0.508400022983551, 0.6335999965667725, -0.35190001130104065, 2.6768999099731445, 2.6096999645233154, 2.548099994659424, 2.512700080871582, 2.373500108718872, 2.359800100326538, 2.2797999382019043, 2.2755000591278076, 2.190500020980835, 2.178100109100342, 2.106100082397461, 2.097599983215332, 2.079400062561035, 1.9811999797821045, 1.9782999753952026, 1.950700044631958, 1.9457000494003296, 1.9084999561309814, 1.9076000452041626, 1.9018000364303589, 1.8925000429153442, 1.8899999856948853, 1.8874000310897827, 1.8833999633789062, 1.868899941444397, 1.8588999509811401, 1.858299970626831, 1.822100043296814, 1.8216999769210815, 1.815500020980835, 1.7301000356674194, 1.7441999912261963, 1.6520999670028687, 1.6368999481201172, 1.5627000331878662, 1.6124000549316406, 1.1490999460220337, 0.9915000200271606, 1.5490000247955322, 1.4979000091552734, 1.417799949645996, 1.4907000064849854, 1.3933000564575195, 0.8252999782562256, 1.3853000402450562, 1.5786000490188599, 1.277899980545044, 1.320199966430664, 0.5845000147819519, 1.2187999486923218, 1.1181999444961548, 0.6638000011444092, -0.31779998540878296, 0.1851000040769577, 3.535799980163574, 3.3951001167297363, 3.313999891281128, 3.175299882888794, 3.151099920272827, 2.9890999794006348, 2.9200000762939453, 2.8629000186920166, 2.7841999530792236, 2.7583999633789062, 2.7153000831604004, 2.6796000003814697, 2.6438000202178955, 2.6278998851776123, 2.562700033187866, 2.5292000770568848, 2.5288000106811523, 2.5009000301361084, 2.47760009765625, 2.476099967956543, 2.413800001144409, 2.3671000003814697, 2.3550000190734863, 2.35260009765625, 2.3443000316619873, 2.342600107192993, 2.3338000774383545, 2.3326001167297363, 2.3308000564575195, 2.325500011444092, 2.3106000423431396, 2.289299964904785, 2.3096001148223877, 1.9627000093460083, 1.7960000038146973, 1.8330999612808228, 1.5742000341415405, 1.781000018119812, 1.986899971961975, 1.7139999866485596, 1.4776999950408936, 1.479200005531311, 1.3286999464035034, 1.5262000560760498, 0.9750999808311462, 1.482300043106079, 1.6950000524520874, 1.8407000303268433, 1.5157999992370605, 0.6107000112533569, 0.9550999999046326, 1.0056999921798706], \"logprob\": [30.0, 29.0, 28.0, 27.0, 26.0, 25.0, 24.0, 23.0, 22.0, 21.0, 20.0, 19.0, 18.0, 17.0, 16.0, 15.0, 14.0, 13.0, 12.0, 11.0, 10.0, 9.0, 8.0, 7.0, 6.0, 5.0, 4.0, 3.0, 2.0, 1.0, -6.7631001472473145, -5.456699848175049, -6.190400123596191, -5.819300174713135, -7.199399948120117, -5.771200180053711, -6.7133002281188965, -6.284999847412109, -6.700200080871582, -6.915200233459473, -6.4405999183654785, -5.230899810791016, -5.273900032043457, -5.264900207519531, -5.119699954986572, -6.394599914550781, -6.723700046539307, -5.059299945831299, -5.0594000816345215, -4.986499786376953, -5.6178998947143555, -4.4028000831604, -6.227700233459473, -5.814700126647949, -5.904200077056885, -4.993800163269043, -5.829599857330322, -4.973800182342529, -6.849699974060059, -6.026700019836426, -4.704899787902832, -4.487500190734863, -3.2362000942230225, -4.631700038909912, -4.822400093078613, -5.076000213623047, -5.655099868774414, -5.499800205230713, -5.511499881744385, -5.5117998123168945, -5.511899948120117, -4.890200138092041, -5.51200008392334, -5.508900165557861, -4.836400032043457, -5.142099857330322, -5.059500217437744, -4.827400207519531, -4.981800079345703, -4.866000175476074, -5.228099822998047, -5.113500118255615, -5.363399982452393, -5.226600170135498, -5.337299823760986, -5.116099834442139, -5.329899787902832, -5.350299835205078, -5.865900039672852, -4.862500190734863, -5.345799922943115, -4.854000091552734, -5.720399856567383, -6.498499870300293, -6.591599941253662, -5.6097002029418945, -4.453499794006348, -5.972700119018555, -6.272299766540527, -5.624599933624268, -6.433800220489502, -5.594799995422363, -5.3628997802734375, -5.7870001792907715, -6.004700183868408, -6.163300037384033, -6.300600051879883, -6.491600036621094, -6.736999988555908, -6.945499897003174, -6.3531999588012695, -6.9517998695373535, -6.5295000076293945, -6.25540018081665, -6.072700023651123, -7.210000038146973, -5.122600078582764, -7.014500141143799, -6.309999942779541, -4.297599792480469, -5.106299877166748, -4.182300090789795, -5.267000198364258, -5.843299865722656, -5.675600051879883, -4.7480998039245605, -4.791100025177002, -4.837900161743164, -4.97160005569458, -5.016300201416016, -5.687900066375732, -5.069399833679199, -5.357800006866455, -5.139999866485596, -5.611000061035156, -5.332799911499023, -5.4653000831604, -5.381400108337402, -5.488399982452393, -5.498300075531006, -5.440000057220459, -5.409599781036377, -5.529399871826172, -5.559700012207031, -5.53000020980835, -5.5767998695373535, -5.587800025939941, -5.808000087738037, -5.390200138092041, -3.764400005340576, -5.185200214385986, -6.530300140380859, -5.560500144958496, -5.436500072479248, -6.174900054931641, -6.639200210571289, -6.502999782562256, -5.578100204467773, -6.693900108337402, -4.79640007019043, -6.55810022354126, -5.587399959564209, -6.269999980926514, -7.116600036621094, -7.089099884033203, -5.87060022354126, -7.004899978637695, -6.669099807739258, -6.940800189971924, -6.597799777984619, -6.291800022125244, -7.029300212860107, -6.667699813842773, -5.459199905395508, -7.1971001625061035, -6.931300163269043, -6.908400058746338, -4.668600082397461, -5.30049991607666, -4.244100093841553, -5.860499858856201, -6.145599842071533, -4.6315999031066895, -4.668399810791016, -5.648200035095215, -4.076200008392334, -4.801499843597412, -5.303199768066406, -4.754499912261963, -5.5782999992370605, -5.008200168609619, -5.09089994430542, -5.215099811553955, -5.238100051879883, -5.551000118255615, -4.700200080871582, -4.952899932861328, -5.0355000495910645, -5.073699951171875, -5.341000080108643, -4.899600028991699, -5.149400234222412, -5.344799995422363, -5.412300109863281, -5.484499931335449, -5.542300224304199, -6.347599983215332, -6.752900123596191, -5.07390022277832, -6.65339994430542, -7.015900135040283, -6.6656999588012695, -6.610400199890137, -6.765900135040283, -5.925300121307373, -6.756199836730957, -6.677999973297119, -6.166999816894531, -6.502399921417236, -6.078999996185303, -6.9028000831604, -6.6656999588012695, -7.350299835205078, -6.6641998291015625, -6.939499855041504, -6.985599994659424, -6.848400115966797, -6.029900074005127, -6.850100040435791, -6.354499816894531, -6.688700199127197, -6.159200191497803, -7.3653998374938965, -6.0954999923706055, -4.339700222015381, -7.015500068664551, -6.501699924468994, -5.877399921417236, -4.230899810791016, -4.940999984741211, -4.914999961853027, -5.4527997970581055, -5.217599868774414, -4.856200218200684, -4.077300071716309, -5.245699882507324, -4.232699871063232, -4.851799964904785, -5.052999973297119, -4.934800148010254, -5.051400184631348, -4.4807000160217285, -5.712900161743164, -4.988500118255615, -5.059999942779541, -5.629199981689453, -6.107999801635742, -5.01609992980957, -5.002200126647949, -5.555699825286865, -5.3171000480651855, -5.332600116729736, -5.337900161743164, -5.699100017547607, -5.3709001541137695, -5.475800037384033, -5.508200168609619, -5.341000080108643, -5.139699935913086, -5.444399833679199, -5.446000099182129, -5.425300121307373, -5.4359002113342285, -5.157800197601318, -5.291800022125244, -5.804200172424316, -4.367800235748291, -5.5183000564575195, -6.794600009918213, -6.58050012588501, -6.5096001625061035, -6.837399959564209, -5.638199806213379, -6.992499828338623, -3.8559000492095947, -6.522299766540527, -6.630899906158447, -7.181399822235107, -5.592800140380859, -6.420599937438965, -6.761000156402588, -7.082099914550781, -6.551499843597412, -5.767600059509277, -6.916200160980225, -7.111100196838379, -6.525199890136719, -5.845699787139893, -6.888999938964844, -6.31790018081665, -7.0971999168396, -6.617599964141846, -6.772600173950195, -6.3256001472473145, -5.1940999031066895, -6.136099815368652, -5.784900188446045, -5.5524001121521, -4.309700012207031, -5.8094000816345215, -5.688700199127197, -5.196100234985352, -5.816100120544434, -4.762700080871582, -4.099999904632568, -5.009500026702881, -5.934800148010254, -5.139200210571289, -5.322400093078613, -5.208499908447266, -5.073400020599365, -5.466599941253662, -5.7118000984191895, -5.3242998123168945, -5.376100063323975, -5.233399868011475, -5.262700080871582, -5.313600063323975, -4.789400100708008, -5.125100135803223, -5.140999794006348, -5.264699935913086, -5.27400016784668, -5.214799880981445, -5.374899864196777, -5.261600017547607, -5.4243998527526855, -5.383500099182129, -5.360400199890137, -5.318699836730957, -5.364799976348877, -5.860300064086914, -5.682000160217285, -5.368599891662598, -5.9664998054504395, -5.706200122833252, -6.361199855804443, -6.564899921417236, -6.508999824523926, -4.799499988555908, -5.510799884796143, -6.162600040435791, -6.841899871826172, -6.681700229644775, -6.829400062561035, -6.497499942779541, -6.782100200653076, -5.037799835205078, -5.795499801635742, -6.043000221252441, -6.772900104522705, -6.446300029754639, -6.313700199127197, -7.009799957275391, -7.009900093078613, -6.579800128936768, -5.482500076293945, -4.668000221252441, -6.169400215148926, -6.860199928283691, -5.5883002281188965, -4.792600154876709, -4.808499813079834, -6.07289981842041, -4.789000034332275, -5.8155999183654785, -5.475200176239014, -5.645299911499023, -5.4207000732421875, -5.615900039672852, -5.651700019836426, -6.007400035858154, -4.892499923706055, -5.337900161743164, -5.486700057983398, -5.206200122833252, -4.978899955749512, -5.167099952697754, -4.475599765777588, -5.382900238037109, -5.611700057983398, -5.20989990234375, -5.422999858856201, -5.29010009765625, -5.313399791717529, -5.385200023651123, -5.497200012207031, -5.467700004577637, -5.577499866485596, -5.555600166320801, -5.591599941253662, -4.970200061798096, -4.929599761962891, -4.5696001052856445, -4.494200229644775, -4.802599906921387, -5.890600204467773, -5.309299945831299, -4.951399803161621, -6.196300029754639, -5.783299922943115, -4.6483001708984375, -3.978600025177002, -5.648900032043457, -6.231400012969971, -4.840199947357178, -5.052199840545654, -6.189799785614014, -6.019199848175049, -6.225200176239014, -6.55709981918335, -6.290800094604492, -6.687600135803223, -4.567500114440918, -5.8796000480651855, -5.639100074768066, -6.362599849700928, -6.285900115966797, -5.371200084686279, -4.76230001449585, -5.913300037384033, -5.5304999351501465, -5.6417999267578125, -5.3358001708984375, -5.087699890136719, -4.288300037384033, -5.121300220489502, -4.854599952697754, -5.201300144195557, -5.254300117492676, -5.326000213623047, -5.463600158691406, -4.986199855804443, -4.956900119781494, -5.074900150299072, -4.764100074768066, -5.11359977722168, -5.203000068664551, -4.792099952697754, -5.091300010681152, -5.070700168609619, -4.991099834442139, -5.189599990844727, -5.1809000968933105, -5.120500087738037, -5.321300029754639, -6.076700210571289, -5.600399971008301, -4.233699798583984, -5.348499774932861, -5.946000099182129, -5.901000022888184, -5.025100231170654, -6.474800109863281, -5.873300075531006, -5.896299839019775, -6.469600200653076, -6.4822998046875, -6.068600177764893, -5.986100196838379, -6.078000068664551, -6.507599830627441, -5.895299911499023, -5.863399982452393, -5.951499938964844, -6.082499980926514, -4.848999977111816, -6.016900062561035, -6.470200061798096, -6.803500175476074, -6.440000057220459, -6.193900108337402, -5.6554999351501465, -5.663700103759766, -5.20359992980957, -5.208499908447266, -4.7789998054504395, -4.685100078582764, -4.955599784851074, -4.9928998947143555, -4.756999969482422, -5.074999809265137, -4.633800029754639, -5.074999809265137, -4.938199996948242, -5.09089994430542, -4.9182000160217285, -3.9935998916625977, -5.526899814605713, -5.281199932098389, -4.535200119018555, -5.13640022277832, -4.88700008392334, -5.026000022888184, -5.380300045013428, -5.162300109863281, -5.225200176239014, -5.2957000732421875, -5.236000061035156, -5.243299961090088, -5.281700134277344, -5.299600124359131, -4.968599796295166, -5.171299934387207, -3.3104000091552734, -5.556099891662598, -5.288599967956543, -6.160699844360352, -6.182799816131592, -5.334799766540527, -5.9475998878479, -5.823400020599365, -6.318299770355225, -6.48829984664917, -4.700799942016602, -5.812600135803223, -5.503699779510498, -5.740600109100342, -6.163000106811523, -4.998199939727783, -5.251200199127197, -6.280200004577637, -5.548399925231934, -5.976500034332275, -6.695300102233887, -6.428599834442139, -5.724899768829346, -4.575500011444092, -6.621399879455566, -5.129300117492676, -6.2789998054504395, -6.46019983291626, -4.984300136566162, -5.358699798583984, -4.906000137329102, -4.867800235748291, -4.565199851989746, -5.176599979400635, -3.913599967956543, -3.956199884414673, -5.243199825286865, -5.149099826812744, -5.176000118255615, -5.274499893188477, -5.211400032043457, -4.704899787902832, -5.247200012207031, -5.413899898529053, -5.177499771118164, -5.224400043487549, -4.8094000816345215, -5.23330020904541, -5.20959997177124, -5.1092000007629395, -5.1992998123168945, -5.278600215911865, -4.078800201416016, -4.31820011138916, -4.640399932861328, -4.767300128936768, -5.220900058746338, -4.476200103759766, -5.508900165557861, -5.037300109863281, -5.2718000411987305, -5.110799789428711, -5.282400131225586, -5.205900192260742, -4.74399995803833, -5.094399929046631, -6.308899879455566, -5.704100131988525, -5.259399890899658, -5.573999881744385, -5.901299953460693, -5.968999862670898, -5.802700042724609, -4.875, -4.173699855804443, -5.5920000076293945, -5.417099952697754, -5.632599830627441, -6.091000080108643, -5.0005998611450195, -5.592599868774414, -5.2515997886657715, -4.287300109863281, -5.265100002288818, -5.438300132751465, -4.216899871826172, -4.433300018310547, -4.5518999099731445, -4.5868000984191895, -4.926599979400635, -5.175600051879883, -4.9328999519348145, -4.907899856567383, -4.94350004196167, -4.887800216674805, -5.03849983215332, -4.883399963378906, -5.099699974060059, -5.146100044250488, -5.166800022125244, -5.138800144195557, -5.090799808502197, -5.123799800872803, -5.128900051116943]}, \"token.table\": {\"Topic\": [1, 2, 8, 9, 1, 2, 3, 4, 6, 7, 9, 1, 3, 2, 3, 5, 6, 7, 8, 10, 1, 2, 3, 4, 5, 10, 1, 2, 5, 6, 9, 1, 2, 3, 4, 6, 7, 8, 10, 1, 3, 4, 6, 7, 8, 10, 1, 2, 3, 4, 5, 7, 8, 10, 2, 3, 5, 7, 1, 2, 3, 4, 5, 6, 7, 8, 9, 2, 4, 1, 3, 6, 10, 1, 2, 3, 4, 5, 8, 3, 4, 1, 5, 6, 7, 9, 10, 6, 7, 9, 2, 4, 6, 7, 8, 10, 1, 2, 3, 4, 5, 6, 8, 9, 1, 2, 3, 4, 5, 6, 7, 8, 9, 10, 1, 2, 3, 4, 5, 6, 7, 8, 9, 10, 1, 3, 4, 5, 3, 5, 6, 7, 3, 4, 8, 2, 5, 7, 9, 10, 1, 3, 4, 6, 8, 2, 3, 6, 7, 2, 5, 7, 9, 1, 2, 3, 4, 5, 6, 8, 9, 10, 2, 3, 5, 6, 7, 9, 10, 2, 5, 7, 9, 1, 2, 4, 5, 7, 1, 2, 3, 4, 6, 8, 1, 2, 3, 1, 2, 3, 4, 5, 6, 7, 8, 9, 10, 1, 2, 3, 4, 5, 6, 7, 8, 9, 10, 1, 2, 3, 4, 5, 6, 7, 8, 10, 1, 2, 5, 9, 1, 3, 4, 7, 8, 9, 1, 3, 4, 5, 9, 1, 2, 3, 4, 5, 6, 7, 9, 10, 2, 6, 10, 1, 2, 3, 4, 7, 8, 2, 3, 4, 5, 7, 9, 1, 2, 4, 2, 4, 5, 7, 1, 2, 3, 4, 6, 8, 10, 2, 3, 6, 10, 2, 4, 6, 8, 10, 2, 4, 6, 8, 10, 2, 3, 4, 6, 7, 8, 9, 1, 2, 4, 5, 6, 1, 2, 3, 2, 3, 6, 1, 2, 3, 4, 6, 7, 8, 10, 1, 2, 5, 6, 7, 1, 2, 3, 4, 5, 6, 7, 8, 1, 2, 3, 4, 5, 6, 7, 8, 9, 2, 3, 4, 5, 2, 3, 4, 5, 6, 7, 8, 9, 2, 4, 7, 8, 10, 5, 7, 9, 1, 2, 3, 4, 5, 6, 7, 8, 10, 1, 2, 3, 4, 5, 6, 7, 8, 9, 10, 1, 4, 6, 7, 8, 10, 1, 2, 3, 5, 6, 7, 9, 10, 2, 3, 7, 1, 2, 3, 4, 5, 6, 7, 8, 9, 1, 2, 3, 4, 5, 6, 8, 9, 1, 3, 4, 9, 3, 4, 1, 3, 4, 1, 3, 4, 1, 3, 4, 5, 1, 2, 3, 4, 5, 6, 7, 8, 9, 10, 1, 2, 3, 5, 6, 7, 8, 2, 7, 10, 2, 7, 10, 1, 2, 3, 4, 5, 6, 8, 9, 1, 2, 3, 4, 5, 6, 8, 9, 2, 3, 4, 6, 8, 1, 2, 3, 4, 8, 10, 1, 2, 3, 5, 6, 7, 10, 4, 5, 2, 3, 4, 5, 6, 7, 8, 1, 2, 3, 4, 5, 6, 7, 8, 9, 1, 2, 3, 4, 5, 6, 7, 8, 10, 1, 3, 4, 6, 7, 10, 1, 2, 3, 4, 5, 6, 7, 8, 9, 1, 4, 5, 1, 2, 3, 4, 5, 6, 7, 8, 9, 10, 2, 3, 4, 6, 9, 10, 1, 2, 3, 4, 5, 6, 7, 8, 9, 10, 1, 3, 5, 6, 8, 1, 2, 5, 7, 1, 2, 3, 4, 5, 6, 7, 8, 1, 3, 7, 8, 9, 1, 3, 8, 9, 4, 6, 8, 1, 2, 3, 4, 5, 6, 8, 9, 1, 3, 8, 10, 1, 2, 3, 4, 5, 6, 7, 9, 3, 4, 6, 7, 8, 9, 1, 3, 4, 1, 2, 3, 4, 5, 6, 8, 9, 1, 2, 3, 4, 1, 3, 4, 8, 1, 2, 3, 4, 5, 6, 7, 8, 9, 1, 2, 3, 4, 5, 6, 8, 9, 1, 2, 3, 4, 5, 6, 1, 2, 6, 10, 1, 2, 4, 7, 9, 1, 2, 3, 4, 1, 3, 4, 7, 9, 1, 2, 8, 1, 8, 1, 2, 3, 4, 6, 7, 9, 10, 1, 2, 3, 4, 5, 6, 7, 8, 10, 2, 3, 1, 2, 3, 4, 5, 6, 7, 8, 9, 3, 5, 8, 5, 6, 8, 1, 2, 3, 4, 5, 6, 7, 8, 9, 10, 1, 8, 2, 3, 5, 10, 1, 2, 3, 4, 5, 6, 7, 8, 1, 2, 3, 4, 5, 6, 7, 8, 9, 10, 1, 2, 3, 4, 5, 6, 7, 9, 10, 2, 3, 4, 5, 8, 10, 2, 3, 4, 6, 7, 8, 10, 2, 6, 8, 2, 3, 6, 9, 1, 3, 4, 5, 6, 8, 9, 4, 5, 6, 7, 8, 1, 2, 3, 4, 1, 2, 3, 4, 6, 8, 9, 10, 1, 2, 3, 8, 1, 2, 3, 8, 1, 2, 3, 4, 5, 6, 7, 8, 9, 1, 2, 4, 5, 6, 8, 9, 1, 2, 3, 6, 7, 4, 5, 7, 1, 2, 3, 4, 5, 6, 7, 8, 9, 10, 2, 4, 5, 7, 9, 10, 2, 3, 4, 5, 6, 7, 1, 2, 6, 8, 2, 5, 7, 9, 1, 2, 3, 4, 5, 6, 7, 8, 1, 2, 3, 4, 6, 8, 2, 5, 6, 7, 8, 2, 5, 6, 7, 1, 3, 5, 9, 1, 2, 3, 4, 5, 6, 7, 8, 9, 10, 1, 3, 4, 6, 8, 1, 3, 4, 6, 8, 1, 3, 4, 6, 7, 8, 10, 1, 3, 4, 6, 8, 1, 2, 3, 4, 6, 7, 10, 1, 2, 5, 7, 8, 1, 4, 5, 8, 4, 2, 3, 6, 9, 1, 2, 3, 5, 6, 7, 10, 1, 2, 3, 5, 6, 7, 9, 10, 2, 6, 8, 10, 1, 2, 3, 4, 5, 6, 7, 8, 9, 1, 2, 3, 4, 5, 7, 8, 9, 1, 3, 4, 8, 1, 3, 4, 5, 6, 8, 1, 2, 3, 4, 5, 6, 8, 1, 2, 3, 4, 5, 6, 7, 8, 9, 10, 1, 3, 1, 2, 3, 4, 6, 7, 8, 10, 1, 2, 3, 5, 6, 7, 8, 10, 1, 2, 3, 4, 6, 7, 8, 9, 10, 1, 3, 4, 5, 2, 4, 5, 8, 1, 2, 3, 4, 5, 6, 7, 8, 10, 1, 2, 3, 4, 8, 9, 1, 3, 4, 8, 1, 2, 3, 4, 5, 6, 7, 8, 9, 10, 2, 3, 4, 5, 1, 2, 3, 6, 8, 1, 3, 8, 1, 2, 3, 4, 5, 6, 7, 10, 2, 6, 9, 2, 4, 5, 6, 7, 2, 7, 8, 1, 2, 6, 9, 10, 1, 2, 3, 4, 5, 6, 7, 10, 1, 2, 3, 4, 5, 8, 10, 1, 2, 3, 4, 5, 6, 7, 8, 9, 10, 3, 5, 6, 7, 9, 10, 1, 2, 3, 4, 5, 6, 7, 8, 9, 10, 2, 6, 7, 10, 1, 2, 4, 6, 7, 9, 1, 2, 3, 4, 5, 6, 7, 8, 9, 10, 1, 3, 1, 2, 3, 4, 5, 7, 8, 9, 1, 2, 3, 5, 9, 1, 2, 3, 4, 5, 6, 7, 8, 9, 1, 3, 4, 9, 2, 3, 4, 5, 6, 7, 8, 9, 10, 1, 2, 4, 5, 6, 7, 9, 1, 2, 3, 4, 5, 6, 7, 8, 9, 10, 1, 2, 4, 5, 6, 7, 8, 1, 2, 3, 4, 5, 6, 7, 8, 9, 1, 2, 3, 4, 5, 6, 7, 8, 9, 1, 3, 4, 5, 6, 7, 8, 2, 4, 6, 1, 2, 3, 6, 7, 1, 3, 4, 5, 6, 8, 9, 1, 3, 4, 5, 6, 7, 8, 9, 1, 4, 5, 8, 9, 1, 2, 3, 4, 5, 7, 8, 10, 2, 3, 4, 5, 6, 7, 8, 2, 3, 4, 5, 6, 7, 8, 1, 2, 3, 4, 5, 6, 7, 8, 9, 10, 1, 2, 3, 4, 5, 6, 7, 8, 9, 10, 1, 2, 3, 4, 9, 1, 3, 4, 5, 1, 2, 3, 4, 5, 7, 1, 3, 4, 5, 8, 9, 1, 2, 3, 4, 5, 6, 7, 8, 9, 10, 1, 5, 7, 8, 1, 3, 4, 6, 8, 1, 3, 4, 6, 8, 1, 3, 4, 6, 8, 1, 2, 3, 4, 5, 6, 8, 9, 10, 1, 3, 4, 6, 1, 2, 5, 8, 9, 4, 5, 6, 7, 1, 2, 3, 4, 5, 6, 7, 8, 10, 1, 2, 3, 5, 6, 7, 8, 1, 2, 3, 5, 6, 7, 1, 2, 3, 1, 2, 3, 5, 7, 9, 1, 2, 3, 4, 5, 6, 7, 8, 9, 10, 1, 2, 3, 5, 7, 8, 10, 1, 2, 3, 4, 5, 6, 7, 8, 9, 10, 1, 2, 5, 6, 7, 1, 2, 3, 4, 5, 6, 7, 8, 9, 10, 1, 2, 4, 6, 7, 9, 2, 3, 5, 6, 9, 1, 2, 3, 6, 7, 9, 1, 2, 3, 5, 7, 10, 1, 2, 3, 4, 5, 6, 8, 1, 3, 4, 8, 9, 1, 3, 4, 8, 9, 1, 2, 3, 4, 5, 8, 9, 1, 2, 3, 4, 5, 6, 7, 8, 9, 10, 1, 2, 3, 5, 6, 8, 10, 1, 2, 3, 4, 5, 6, 8, 9, 1, 2, 5, 6, 7, 8, 2, 3, 5, 7, 9, 10, 1, 2, 3, 4, 5, 6, 7, 9, 10, 1, 2, 3, 5, 8, 1, 3, 4, 5, 1, 2, 3, 4, 5, 6, 7, 8, 9, 1, 2, 3, 4, 5, 6, 7, 8, 9, 10, 1, 2, 3, 4, 5, 6, 7, 8, 1, 4, 5, 1, 2, 3, 4, 5, 6, 8, 10, 1, 4, 5, 6, 7, 9, 2, 3, 4, 5, 6, 7, 9, 10, 1, 2, 3, 4, 5, 6, 7, 8, 1, 2, 3, 4, 6, 8, 10, 1, 2, 3, 4, 5, 7, 1, 2, 4, 1, 2, 3, 4, 6, 8, 9, 1, 3, 4, 8, 1, 2, 3, 4, 8, 1, 2, 3, 4, 5, 6, 10, 1, 2, 3, 5, 8, 1, 2, 3, 4, 5, 6, 7, 8, 9, 10, 1, 2, 3, 4, 5, 6, 7, 8, 9, 10, 1, 2, 3, 4, 6, 7, 9, 1, 2, 3, 4, 5, 6, 7, 8, 9, 10, 1, 2, 5, 6, 7, 8, 9, 1, 2, 4, 5, 7, 8, 9, 1, 3, 4, 9, 1, 2, 3, 4, 5, 6, 7, 8, 10, 1, 2, 3, 4, 6, 8, 10, 1, 2, 3, 4, 5, 6, 7, 8, 9, 1, 2, 3, 4, 5, 6, 7, 8, 9, 1, 3, 4, 8, 1, 2, 3, 4, 5, 6, 9, 10, 1, 3, 4, 8, 1, 2, 3, 4, 6, 8, 9, 10, 1, 2, 3, 4, 6, 8, 9, 1, 2, 3, 4, 5, 6, 7, 8, 9, 2, 3, 4, 5, 6, 7, 9, 1, 2, 5, 6, 7, 8, 9, 5, 6, 7, 8, 1, 2, 3, 4, 5, 6, 7, 8, 9, 10, 1, 2, 3, 4, 5, 6, 7, 8, 9, 10, 1, 2, 3, 4, 5, 6, 8, 9, 1, 2, 3, 4, 5, 6, 7, 8, 9, 10, 1, 2, 3, 4, 5, 6, 8, 9, 2, 4, 5, 6, 8, 9, 2, 5, 7, 8, 9, 1, 2, 6, 10, 1, 2, 4, 5, 6, 7, 8, 9, 1, 2, 3, 4, 6, 7, 9, 1, 2, 3, 4, 5, 8, 9, 1, 3, 4, 5, 6, 7, 9, 2, 5, 6, 8, 9, 10, 1, 2, 3, 4, 5, 6, 7, 8, 10, 1, 2, 3, 4, 5, 6, 7, 8, 10, 1, 2, 3, 4, 6, 7, 8, 10, 1, 2, 3, 4, 5, 6, 7, 8, 9, 1, 2, 3, 5, 1, 2, 4, 5, 6, 7, 8, 1, 2, 3, 4, 5, 7, 9, 1, 2, 5, 6, 9, 10, 1, 2, 3, 6, 10, 2, 3, 5, 7, 8, 9, 10, 1, 2, 4, 6, 1, 2, 3, 4, 8, 2, 3, 6, 9, 10, 1, 2, 3, 5, 6, 8, 1, 2, 5, 6, 8, 2, 3, 5, 6, 7, 9, 10, 1, 2, 3, 7, 9, 2, 4, 5, 6, 7, 8, 9, 1, 2, 8, 3, 4, 5, 7, 10, 1, 2, 3, 4, 5, 6, 7, 8, 9, 10, 1, 3, 4, 9, 1, 2, 3, 6, 8, 1, 2, 4, 5, 7, 1, 3, 4, 5, 6, 8, 9, 1, 3, 4, 5, 8, 9, 1, 2, 3, 4, 6, 7, 8, 10, 1, 2, 5, 7, 1, 2, 3, 4, 5, 6, 7, 9, 10, 1, 2, 3, 5, 6, 7, 8, 9, 2, 5, 6, 7, 8, 10, 1, 2, 5, 7, 8, 4, 5, 1, 2, 3, 4, 5, 6, 8, 9, 10, 1, 2, 3, 4, 5, 6, 7, 8, 9, 10, 2, 4, 5, 6, 9, 2, 3, 5, 6, 7, 9, 10, 2, 5, 6, 7, 10, 2, 3, 4, 5, 6, 7, 9, 10, 1, 3, 6, 1, 3, 4, 5, 6, 1, 2, 3, 4, 5, 6, 7, 8, 9, 10, 3, 4, 8, 2, 4, 6, 9, 1, 2, 3, 4, 5, 6, 7, 8, 10, 1, 2, 3, 4, 5, 6, 7, 8, 9, 10, 1, 2, 3, 4, 5, 6, 7, 1, 5, 7, 1, 3, 4, 5, 9, 1, 2, 3, 4, 6, 8, 9, 10, 1, 2, 3, 4, 5, 6, 7, 8, 9, 10, 1, 2, 3, 4, 5, 6, 7, 8, 9, 2, 3, 4, 5, 7, 10, 1, 4, 6, 7, 1, 4, 6, 7, 2, 4, 5, 8, 10, 4, 5, 7, 3, 1, 2, 3, 4, 7, 9, 10, 1, 2, 3, 4, 5, 6, 7, 8, 10, 1, 2, 5, 6, 7, 10, 1, 2, 3, 4, 5, 6, 8, 10, 4, 5, 8, 1, 3, 5, 8, 9, 2, 3, 6, 8, 1, 4, 6, 8, 9, 1, 2, 3, 4, 5, 6, 7, 8, 9, 10, 1, 4, 5, 7, 9, 1, 2, 3, 4, 5, 6, 1, 2, 3, 4, 6, 3, 5, 6, 7, 1, 2, 4, 5, 7, 1, 2, 3, 5, 7, 9, 2, 7, 1, 2, 3, 4, 5, 6, 7, 8, 9, 10, 1, 2, 3, 4, 5, 6, 7, 8, 9, 10, 1, 2, 3, 4, 5, 6, 7, 8, 9, 10, 2, 4, 5, 2, 4, 5, 2, 5, 6, 2, 4, 5, 7, 9, 1, 3, 4, 6, 8, 10, 2, 6, 8, 1, 2, 3, 4, 5, 6, 7, 8, 9, 10, 1, 2, 9, 10, 1, 2, 3, 5, 6, 7, 8, 1, 2, 3, 5, 7, 1, 2, 3, 4, 5, 6, 7, 8, 9, 10, 1, 3, 4, 6, 7, 8, 2, 4, 6, 9, 2, 3, 4, 6, 8, 1, 2, 3, 4, 6, 7, 2, 3, 5, 6, 7, 9, 10, 1, 2, 3, 4, 5, 6, 7, 8, 9, 10, 2, 5, 6, 8, 10, 4, 6, 8, 1, 2, 4, 5, 6, 8, 9, 1, 5, 6, 8, 5, 6, 7, 8, 1, 2, 3, 4, 5, 6, 8, 10, 1, 3, 4, 1, 2, 3, 4, 5, 7, 9, 1, 3, 4, 9, 2, 3, 5, 1, 2, 3, 4, 5, 6, 7, 2, 4, 5, 7, 10, 1, 2, 3, 4, 5, 7, 8, 9, 1, 3, 9, 3, 4, 9, 1, 2, 3, 4, 5, 6, 7, 8, 9, 10, 1, 2, 3, 4, 5, 6, 7, 8, 9, 10, 1, 2, 3, 4, 5, 6, 7, 8, 9, 10, 2, 4, 6, 8, 10, 1, 2, 3, 4, 5, 6, 7, 9, 10, 2, 4, 5, 7, 9, 1, 2, 3, 4, 5, 6, 8, 9, 10, 1, 2, 3, 4, 5, 6, 7, 8, 9, 10, 1, 4, 5, 8, 9, 1, 4, 5, 8, 1, 2, 3, 4, 5, 6, 7, 8, 9, 1, 2, 3, 4, 5, 6, 7, 8, 9, 1, 3, 4, 6, 7, 8, 9, 1, 2, 3, 6, 9, 1, 4, 6, 9, 1, 2, 3, 4, 5, 6, 7, 8, 1, 3, 4, 6, 8, 1, 3, 4, 6, 7, 2, 5, 6, 7, 8, 1, 2, 3, 4, 5, 6, 8, 10, 1, 2, 3, 4, 5, 6, 7, 8, 9, 10, 1, 2, 3, 4, 5, 6, 7, 8, 9, 10, 2, 3, 4, 5, 6, 8, 1, 3, 4, 7, 8, 9, 10, 4, 5, 7, 1, 2, 4, 5, 8, 9, 1, 2, 3, 4, 5, 6, 7, 8, 9, 10, 1, 2, 3, 4, 5, 6, 7, 9, 10, 6, 7, 9, 1, 2, 4, 5, 7, 9, 10, 1, 7, 8, 1, 2, 3, 4, 6, 7, 8, 10, 1, 2, 4, 6, 7, 9, 10, 1, 3, 4, 5, 6, 8, 9, 1, 3, 4, 6, 1, 2, 3, 6, 7, 10, 1, 3, 4, 6, 8, 1, 2, 3, 4, 5, 6, 8, 9, 10, 1, 2, 4, 5, 7, 8, 10, 2, 3, 5, 8, 1, 2, 3, 4, 6, 8, 9, 2, 5, 7, 8, 10, 1, 2, 3, 4, 5, 6, 7, 8, 9, 10, 1, 2, 3, 4, 5, 6, 7, 8, 9, 10, 1, 2, 3, 4, 5, 6, 7, 8, 9, 10, 1, 2, 3, 4, 5, 6, 8, 9, 10, 1, 2, 3, 4, 6, 8, 1, 2, 3, 4, 5, 6, 7, 8, 9, 10, 1, 2, 3, 4, 5, 6, 7, 8, 9, 10, 1, 2, 3, 4, 5, 6, 7, 8, 9, 10, 1, 2, 3, 4, 5, 6, 7, 8, 9, 10, 1, 2, 3, 4, 5, 6, 7, 8, 1, 2, 3, 4, 5, 6, 7, 8, 9, 10, 1, 2, 3, 4, 5, 6, 7, 8, 9, 1, 2, 3, 4, 5, 6, 7, 8, 9, 10, 1, 3, 5, 6, 7, 10, 1, 2, 3, 4, 5, 6, 7, 8, 9, 10, 1, 3, 4, 5, 6, 8, 9, 1, 8, 1, 2, 3, 4, 5, 6, 7, 8, 9, 10, 1, 2, 3, 4, 5, 6, 7, 8, 9], \"Freq\": [0.8284001350402832, 0.018008697777986526, 0.05402609705924988, 0.09004349261522293, 0.04057027027010918, 0.08114054054021835, 0.04057027027010918, 0.08114054054021835, 0.3245621621608734, 0.08114054054021835, 0.3651324212551117, 0.116412453353405, 0.8439903259277344, 0.47907471656799316, 0.03832597658038139, 0.07665195316076279, 0.11497793346643448, 0.019162988290190697, 0.05748896673321724, 0.2107928842306137, 0.10443251579999924, 0.20886503159999847, 0.07832438498735428, 0.07832438498735428, 0.496054470539093, 0.02610812894999981, 0.2617601454257965, 0.16360008716583252, 0.13088007271289825, 0.13088007271289825, 0.2617601454257965, 0.46687638759613037, 0.028978534042835236, 0.038638047873973846, 0.05473723262548447, 0.27368617057800293, 0.019319023936986923, 0.022538861259818077, 0.09337528049945831, 0.7105085253715515, 0.009732994250953197, 0.019465988501906395, 0.18492688238620758, 0.009732994250953197, 0.019465988501906395, 0.048664968460798264, 0.14449849724769592, 0.12643617391586304, 0.03612462431192398, 0.09031155705451965, 0.21674774587154388, 0.03612462431192398, 0.07224924862384796, 0.28899699449539185, 0.6837754845619202, 0.014864684082567692, 0.16351152956485748, 0.13378216326236725, 0.1804112046957016, 0.5453338623046875, 0.0738045871257782, 0.0410025492310524, 0.012300764210522175, 0.004100254736840725, 0.1230076402425766, 0.0164010189473629, 0.004100254736840725, 0.9695116281509399, 0.015637284144759178, 0.095970518887043, 0.8349434733390808, 0.0479852594435215, 0.0095970518887043, 0.16372941434383392, 0.01056318823248148, 0.3961195647716522, 0.3327404260635376, 0.07394231855869293, 0.01056318823248148, 0.41803815960884094, 0.557384192943573, 0.03609559312462807, 0.009023898281157017, 0.22559747099876404, 0.4782666265964508, 0.216573566198349, 0.027071695774793625, 0.008258548565208912, 0.7432693839073181, 0.23949791491031647, 0.3231875002384186, 0.029380682855844498, 0.0881420448422432, 0.029380682855844498, 0.029380682855844498, 0.44071024656295776, 0.05784148722887039, 0.15249119699001312, 0.07361643761396408, 0.015774952247738838, 0.48902350664138794, 0.06835812330245972, 0.02103326842188835, 0.11568297445774078, 0.05472686141729355, 0.12135086208581924, 0.01189714390784502, 0.07852114737033844, 0.002379428595304489, 0.0880388617515564, 0.04758857563138008, 0.002379428595304489, 0.5401303172111511, 0.05234743282198906, 0.10927258431911469, 0.14873212575912476, 0.14569677412509918, 0.11837863177061081, 0.2640753984451294, 0.09713118523359299, 0.012141398154199123, 0.05160094052553177, 0.042494893074035645, 0.009106048382818699, 0.388175368309021, 0.5374736189842224, 0.029859645292162895, 0.029859645292162895, 0.27390047907829285, 0.08217015117406845, 0.027390049770474434, 0.6025810837745667, 0.7653723955154419, 0.1530744731426239, 0.05102482810616493, 0.6360974311828613, 0.24232284724712372, 0.030290355905890465, 0.015145177952945232, 0.06058071181178093, 0.6577768921852112, 0.06448792666196823, 0.06448792666196823, 0.09028310328722, 0.12252706289291382, 0.6808580756187439, 0.05106435343623161, 0.25532177090644836, 0.017021451145410538, 0.094346784055233, 0.0404343381524086, 0.7278180718421936, 0.1347811222076416, 0.20969757437705994, 0.04015485197305679, 0.19631262123584747, 0.3257004916667938, 0.06246310472488403, 0.04461650550365448, 0.04461650550365448, 0.0758480578660965, 0.004461650270968676, 0.19945858418941498, 0.03068593703210354, 0.09205780923366547, 0.06137187406420708, 0.10740077495574951, 0.23014451563358307, 0.2761734127998352, 0.6151494383811951, 0.19223420321941376, 0.11534052342176437, 0.03844683989882469, 0.08905015885829926, 0.04452507942914963, 0.24488793313503265, 0.5343009233474731, 0.08905015885829926, 0.17388495802879333, 0.004140118137001991, 0.6831194758415222, 0.008280236274003983, 0.09108259528875351, 0.03312094509601593, 0.8368828892707825, 0.10042595118284225, 0.03347531706094742, 0.005234703887254, 0.06281644850969315, 0.06805115193128586, 0.083755262196064, 0.05234703794121742, 0.03140822425484657, 0.2879087030887604, 0.10992877930402756, 0.18844933807849884, 0.10992877930402756, 0.01746685430407524, 0.02620028145611286, 0.10480112582445145, 0.12226798385381699, 0.07860084623098373, 0.02620028145611286, 0.2096022516489029, 0.09606769680976868, 0.28820309042930603, 0.02620028145611286, 0.06735624372959137, 0.272792786359787, 0.10440217703580856, 0.07072405517101288, 0.26268935203552246, 0.1549193561077118, 0.026942497119307518, 0.030310308560729027, 0.013471248559653759, 0.1786009818315506, 0.029766829684376717, 0.7590541839599609, 0.029766829684376717, 0.013716470450162888, 0.38406118750572205, 0.08229882270097733, 0.04114941135048866, 0.05486588180065155, 0.41149410605430603, 0.07571477442979813, 0.3217877745628357, 0.5300034284591675, 0.01892869360744953, 0.03785738721489906, 0.026630712673068047, 0.13695794343948364, 0.1141316220164299, 0.060870200395584106, 0.0875009149312973, 0.07228336483240128, 0.3233729302883148, 0.12934917211532593, 0.041848260909318924, 0.85622239112854, 0.07783839851617813, 0.025946132838726044, 0.7718524932861328, 0.020860878750681877, 0.057367417961359024, 0.026076098904013634, 0.020860878750681877, 0.09908917546272278, 0.09566780179738998, 0.010629755444824696, 0.09566780179738998, 0.5208580493927002, 0.2657438814640045, 0.010629755444824696, 0.12712933123111725, 0.12712933123111725, 0.7203995585441589, 0.1539517492055893, 0.6773877143859863, 0.06158070266246796, 0.09237105399370193, 0.13424494862556458, 0.05873216688632965, 0.6292732357978821, 0.06712247431278229, 0.008390309289097786, 0.08390309661626816, 0.016780618578195572, 0.3421265184879303, 0.06220482289791107, 0.21771687269210815, 0.37322893738746643, 0.7960450053215027, 0.030229555442929268, 0.1007651835680008, 0.040306076407432556, 0.030229555442929268, 0.7422270178794861, 0.028824349865317345, 0.1657400131225586, 0.028824349865317345, 0.028824349865317345, 0.0888090506196022, 0.15788275003433228, 0.0296030156314373, 0.6265971660614014, 0.004933835938572884, 0.034536853432655334, 0.049338359385728836, 0.08776617050170898, 0.11702156066894531, 0.029255390167236328, 0.08776617050170898, 0.6436185836791992, 0.9496734738349915, 0.0186210498213768, 0.0186210498213768, 0.03827119618654251, 0.7845595479011536, 0.15308478474617004, 0.010877849534153938, 0.7288159728050232, 0.010877849534153938, 0.010877849534153938, 0.05438924953341484, 0.021755699068307877, 0.14141204953193665, 0.021755699068307877, 0.020303307101130486, 0.21318472921848297, 0.5278859734535217, 0.05075826868414879, 0.1725781112909317, 0.06881336122751236, 0.061932023614645004, 0.11698271334171295, 0.05505068972706795, 0.15138939023017883, 0.05505068972706795, 0.13762672245502472, 0.35094812512397766, 0.21364164352416992, 0.022545097395777702, 0.12453482300043106, 0.23081885278224945, 0.15030065178871155, 0.06978244334459305, 0.006441456265747547, 0.049384500831365585, 0.13312342762947083, 0.06030333787202835, 0.2412133514881134, 0.15075834095478058, 0.5125783681869507, 0.09457556903362274, 0.04728778451681137, 0.17564034461975098, 0.43910086154937744, 0.033776991069316864, 0.10808636993169785, 0.08106477558612823, 0.02026619389653206, 0.07747124880552292, 0.03873562440276146, 0.6197699904441833, 0.15494249761104584, 0.11620687693357468, 0.1546371877193451, 0.7546294927597046, 0.08659682422876358, 0.007548177149146795, 0.0037740885745733976, 0.1358671933412552, 0.03019270859658718, 0.16605989634990692, 0.4830833375453949, 0.09812630712985992, 0.0679335966706276, 0.0037740885745733976, 0.26517564058303833, 0.03374962881207466, 0.14464126527309418, 0.03374962881207466, 0.028928251937031746, 0.15910539031028748, 0.05785650387406349, 0.13499851524829865, 0.04821375384926796, 0.09160613268613815, 0.074745774269104, 0.149491548538208, 0.074745774269104, 0.1121186688542366, 0.523220419883728, 0.074745774269104, 0.009389056824147701, 0.6149832010269165, 0.07041792571544647, 0.08450151234865189, 0.061028867959976196, 0.11736320704221725, 0.009389056824147701, 0.037556227296590805, 0.02992277778685093, 0.7779922485351562, 0.1496138870716095, 0.14258481562137604, 0.0047847251407802105, 0.32344743609428406, 0.2631599009037018, 0.059330593794584274, 0.04401947185397148, 0.0038277802523225546, 0.04401947185397148, 0.11387646198272705, 0.09253742545843124, 0.003427312010899186, 0.49010562896728516, 0.21763432025909424, 0.01542290486395359, 0.05997796356678009, 0.022277528420090675, 0.09596473723649979, 0.18812903761863708, 0.026875576004385948, 0.698764979839325, 0.08062673360109329, 0.9777283072471619, 0.010744267143309116, 0.7870850563049316, 0.17832396924495697, 0.03074551187455654, 0.7953752875328064, 0.18162113428115845, 0.018788393586874008, 0.14679624140262604, 0.03669906035065651, 0.11009717732667923, 0.6972821354866028, 0.09738228470087051, 0.15581165254116058, 0.1669410616159439, 0.33666446805000305, 0.04173526540398598, 0.06399407237768173, 0.01669410616159439, 0.03338821232318878, 0.05564701929688454, 0.03060586005449295, 0.021258048713207245, 0.11691926419734955, 0.5952253341674805, 0.010629024356603622, 0.17006438970565796, 0.06377414613962173, 0.010629024356603622, 0.9019518494606018, 0.005274571944028139, 0.08966773003339767, 0.940816342830658, 0.00896015577018261, 0.05376093462109566, 0.08244292438030243, 0.1124221682548523, 0.12741178274154663, 0.07494810968637466, 0.1573910266160965, 0.4047197997570038, 0.007494810968637466, 0.029979243874549866, 0.07874055951833725, 0.07874055951833725, 0.11811084300279617, 0.009842569939792156, 0.07874055951833725, 0.45275822281837463, 0.05905542150139809, 0.11811084300279617, 0.029407663270831108, 0.1470383107662201, 0.08822298794984818, 0.5293379426002502, 0.17644597589969635, 0.11718901991844177, 0.14802823960781097, 0.5242666602134705, 0.055510591715574265, 0.06784627586603165, 0.08634980767965317, 0.1528032273054123, 0.349264532327652, 0.0436580665409565, 0.174632266163826, 0.02182903327047825, 0.0436580665409565, 0.2401193529367447, 0.5704697370529175, 0.3993288278579712, 0.09947469830513, 0.028421342372894287, 0.11368536949157715, 0.08526402711868286, 0.04263201355934143, 0.554216206073761, 0.07105335593223572, 0.2825268805027008, 0.00212426227517426, 0.2612842619419098, 0.3143908381462097, 0.040360983461141586, 0.025491148233413696, 0.00212426227517426, 0.021242624148726463, 0.053106557577848434, 0.13839298486709595, 0.01596842147409916, 0.22888071835041046, 0.36195090413093567, 0.10113333910703659, 0.07451929897069931, 0.053228072822093964, 0.01596842147409916, 0.010645614936947823, 0.16182167828083038, 0.25429120659828186, 0.48546504974365234, 0.05779345706105232, 0.02311738207936287, 0.011558691039681435, 0.04342977702617645, 0.13897527754306793, 0.07817359268665314, 0.008685954846441746, 0.43429774045944214, 0.01737190969288349, 0.22583483159542084, 0.04342977702617645, 0.008685954846441746, 0.07878842204809189, 0.6303073763847351, 0.2678806185722351, 0.07623729109764099, 0.15247458219528198, 0.16962797939777374, 0.05146017298102379, 0.17343983054161072, 0.1620042473077774, 0.17343983054161072, 0.026683051139116287, 0.011435593478381634, 0.005717796739190817, 0.04132920876145363, 0.06888201087713242, 0.04132920876145363, 0.13776402175426483, 0.027552805840969086, 0.6612673401832581, 0.07230498641729355, 0.1850156933069229, 0.2828400731086731, 0.17438261210918427, 0.017012936994433403, 0.1509898155927658, 0.02126617170870304, 0.05103881284594536, 0.034025873988866806, 0.008506468497216702, 0.07848440110683441, 0.08894898742437363, 0.2825438380241394, 0.2982407212257385, 0.24591778218746185, 0.029515152797102928, 0.2656363844871521, 0.059030305594205856, 0.5903030633926392, 0.10172615945339203, 0.28822410106658936, 0.01695435866713524, 0.06781743466854095, 0.00847717933356762, 0.4916764199733734, 0.00847717933356762, 0.01695435866713524, 0.6774526834487915, 0.012043602764606476, 0.003010900691151619, 0.24087205529212952, 0.06623981893062592, 0.6618887186050415, 0.021351249888539314, 0.27756625413894653, 0.0341619998216629, 0.23145605623722076, 0.4078035354614258, 0.35269495844841003, 0.2064085602760315, 0.022934284061193466, 0.08026999235153198, 0.08600356429815292, 0.028667854145169258, 0.3898828327655792, 0.13187213242053986, 0.04586856812238693, 0.6951081156730652, 0.1390216201543808, 0.15060676634311676, 0.011585135944187641, 0.011962193995714188, 0.07775426656007767, 0.011962193995714188, 0.05981096997857094, 0.005981096997857094, 0.10167865455150604, 0.38877132534980774, 0.3409225344657898, 0.7077166438102722, 0.028308667242527008, 0.028308667242527008, 0.08492600172758102, 0.08492600172758102, 0.056617334485054016, 0.0987166091799736, 0.5922996401786804, 0.2961498200893402, 0.21523705124855042, 0.02532200515270233, 0.1730336993932724, 0.43469440937042236, 0.0379830077290535, 0.008440668694674969, 0.08018635213375092, 0.02110167033970356, 0.2858738601207733, 0.03176376223564148, 0.06352752447128296, 0.5717477202415466, 0.1257159262895584, 0.2514318525791168, 0.5587374567985535, 0.055873747915029526, 0.1481289118528366, 0.0719483345746994, 0.0973418578505516, 0.0888773500919342, 0.1438966691493988, 0.0761805847287178, 0.0380902923643589, 0.0592515654861927, 0.2708643078804016, 0.21425549685955048, 0.0329623818397522, 0.11536834388971329, 0.11536834388971329, 0.11536834388971329, 0.0659247636795044, 0.0164811909198761, 0.3131426274776459, 0.03179216757416725, 0.03179216757416725, 0.22254519164562225, 0.5404669046401978, 0.0635843351483345, 0.09537650644779205, 0.061949219554662704, 0.650466799736023, 0.061949219554662704, 0.18584765493869781, 0.10882057994604111, 0.2539146840572357, 0.21764115989208221, 0.145094096660614, 0.290188193321228, 0.8434798121452332, 0.027209026739001274, 0.1088361069560051, 0.027209026739001274, 0.16542629897594452, 0.49627888202667236, 0.24378612637519836, 0.052239883691072464, 0.03482658788561821, 0.7258220911026001, 0.00459381053224206, 0.2664410173892975, 0.7291983366012573, 0.26768040657043457, 0.04150885343551636, 0.08301770687103271, 0.5188606977462769, 0.02075442671775818, 0.08301770687103271, 0.02075442671775818, 0.16603541374206543, 0.04150885343551636, 0.041587479412555695, 0.2703186273574829, 0.10396870225667953, 0.041587479412555695, 0.22873114049434662, 0.03119060955941677, 0.041587479412555695, 0.041587479412555695, 0.1975405365228653, 0.8482194542884827, 0.11309592425823212, 0.17343072593212128, 0.0026277380529791117, 0.06043797731399536, 0.23912417888641357, 0.2286132276058197, 0.021021904423832893, 0.13664238154888153, 0.0656934529542923, 0.07094892859458923, 0.13672944903373718, 0.6152825355529785, 0.20509417355060577, 0.05719681829214096, 0.8388866782188416, 0.09532803297042847, 0.06930925697088242, 0.1764235645532608, 0.11656557023525238, 0.19217567145824432, 0.3087412416934967, 0.06615883857011795, 0.040955472737550735, 0.012601683847606182, 0.0031504209619015455, 0.01575210504233837, 0.8382881879806519, 0.13971468806266785, 0.42145612835884094, 0.03371649235486984, 0.505747377872467, 0.01685824617743492, 0.15955297648906708, 0.11336658149957657, 0.10077029466629028, 0.09657153487205505, 0.10077029466629028, 0.3107084035873413, 0.016795048490166664, 0.09657153487205505, 0.013614267110824585, 0.0442463681101799, 0.125931978225708, 0.1769854724407196, 0.18038904666900635, 0.057860635221004486, 0.2348461151123047, 0.0952998697757721, 0.0034035667777061462, 0.07487846910953522, 0.14551715552806854, 0.0853031575679779, 0.1404993236064911, 0.020071331411600113, 0.06523182988166809, 0.06523182988166809, 0.2659451365470886, 0.1706063151359558, 0.040142662823200226, 0.2919265925884247, 0.18577146530151367, 0.14596329629421234, 0.11942451447248459, 0.05307755991816521, 0.19904085993766785, 0.11256804317235947, 0.4877948760986328, 0.13132938742637634, 0.018761340528726578, 0.018761340528726578, 0.037522681057453156, 0.20637474954128265, 0.0796920657157898, 0.8447359204292297, 0.0637536570429802, 0.04156377911567688, 0.03117283433675766, 0.7481480240821838, 0.17664605379104614, 0.06746400892734528, 0.01349280122667551, 0.13492801785469055, 0.2563632130622864, 0.040478404611349106, 0.20239202678203583, 0.2698560357093811, 0.11930397152900696, 0.11930397152900696, 0.5010766983032227, 0.02386079542338848, 0.21474716067314148, 0.14511507749557495, 0.11609206348657608, 0.08706904202699661, 0.6385063529014587, 0.7149277925491333, 0.02102728746831417, 0.105136439204216, 0.02102728746831417, 0.010513643734157085, 0.052568219602108, 0.06308186054229736, 0.010513643734157085, 0.7514335513114929, 0.01832764782011509, 0.1832764744758606, 0.01832764782011509, 0.9516100883483887, 0.008977454155683517, 0.017954908311367035, 0.008977454155683517, 0.056836653500795364, 0.2151673287153244, 0.10961354523897171, 0.024358566850423813, 0.37755778431892395, 0.14615139365196228, 0.03247808665037155, 0.028418326750397682, 0.004059760831296444, 0.008925622329115868, 0.5712398290634155, 0.008925622329115868, 0.053553733974695206, 0.303471177816391, 0.017851244658231735, 0.03570248931646347, 0.06578289717435837, 0.04385526478290558, 0.5481908321380615, 0.26313158869743347, 0.06578289717435837, 0.12293855100870132, 0.18440783023834229, 0.67616206407547, 0.028216606006026268, 0.10883548110723495, 0.008061887696385384, 0.16123774647712708, 0.3305374085903168, 0.008061887696385384, 0.02418566308915615, 0.13302114605903625, 0.11286642402410507, 0.08464982360601425, 0.055597010999917984, 0.08339551836252213, 0.6393656134605408, 0.055597010999917984, 0.11119402199983597, 0.055597010999917984, 0.12181586027145386, 0.12181586027145386, 0.03480453044176102, 0.12181586027145386, 0.06960906088352203, 0.5220679640769958, 0.07513681054115295, 0.6386629343032837, 0.17531922459602356, 0.11270521581172943, 0.25418099761009216, 0.540134608745575, 0.1588631272315979, 0.03177262470126152, 0.10417038947343826, 0.10723422467708588, 0.16544708609580994, 0.4258730709552765, 0.009191504679620266, 0.1348087340593338, 0.009191504679620266, 0.04289368912577629, 0.05621642246842384, 0.006246269214898348, 0.05621642246842384, 0.743306040763855, 0.06870896369218826, 0.06870896369218826, 0.17989879846572876, 0.17989879846572876, 0.07195951789617538, 0.03597975894808769, 0.5037166476249695, 0.03921332210302353, 0.5489864945411682, 0.07842664420604706, 0.2744932472705841, 0.05163206905126572, 0.05163206905126572, 0.645400881767273, 0.23234431445598602, 0.6017060875892639, 0.009247532114386559, 0.09124232083559036, 0.06843174248933792, 0.0036990130320191383, 0.10850437730550766, 0.0036990130320191383, 0.10542187094688416, 0.0018495065160095692, 0.0055485195480287075, 0.6511098146438599, 0.06511098146438599, 0.06185543164610863, 0.09441092610359192, 0.1269664168357849, 0.6473381519317627, 0.07050216943025589, 0.06409288197755814, 0.08973003923892975, 0.12177648395299911, 0.7133559584617615, 0.00963994488120079, 0.01927988976240158, 0.18315894901752472, 0.00963994488120079, 0.02891983464360237, 0.04819972440600395, 0.6490461230278015, 0.06490461528301239, 0.06490461528301239, 0.09086646139621735, 0.12331876903772354, 0.12574590742588043, 0.22634263336658478, 0.12574590742588043, 0.1760442703962326, 0.025149181485176086, 0.07544754445552826, 0.22634263336658478, 0.04052959010004997, 0.6484734416007996, 0.020264795050024986, 0.2229127436876297, 0.06079438328742981, 0.09070724248886108, 0.557201623916626, 0.2980380654335022, 0.05183270946145058, 0.964428722858429, 0.1492488533258438, 0.09949924051761627, 0.6716198325157166, 0.0746244266629219, 0.0548514798283577, 0.1097029596567154, 0.018283827230334282, 0.09141913056373596, 0.09141913056373596, 0.5667986273765564, 0.0548514798283577, 0.09123614430427551, 0.1064421683549881, 0.01520602311939001, 0.03041204623878002, 0.12164818495512009, 0.03041204623878002, 0.03041204623878002, 0.5778288841247559, 0.8365423679351807, 0.01640279032289982, 0.003280558157712221, 0.13778343796730042, 0.07224984467029572, 0.3081243336200714, 0.12324973940849304, 0.13599970936775208, 0.13812470436096191, 0.1041247770190239, 0.021249955520033836, 0.0382499173283577, 0.055249880999326706, 0.4104611575603485, 0.01250135526061058, 0.40421047806739807, 0.1291806697845459, 0.008334237150847912, 0.004167118575423956, 0.004167118575423956, 0.02500271052122116, 0.5164477825164795, 0.07377825677394867, 0.024592751637101173, 0.36889126896858215, 0.05073866620659828, 0.10147733241319656, 0.09132959693670273, 0.6088640093803406, 0.05073866620659828, 0.09132959693670273, 0.16111797094345093, 0.024787381291389465, 0.006196845322847366, 0.14252743124961853, 0.10534636676311493, 0.09914952516555786, 0.45236968994140625, 0.16439813375473022, 0.16439813375473022, 0.023485448211431503, 0.08219906687736511, 0.08219906687736511, 0.44622349739074707, 0.011742724105715752, 0.011742724105715752, 0.011742724105715752, 0.011742724105715752, 0.8700821399688721, 0.091587595641613, 0.16388796269893646, 0.2786095440387726, 0.016388796269893646, 0.04916638880968094, 0.09833277761936188, 0.03277759253978729, 0.13111037015914917, 0.2458319514989853, 0.031781379133462906, 0.12076923996210098, 0.04449393227696419, 0.22882592678070068, 0.012712551280856133, 0.42587047815322876, 0.025425102561712265, 0.1080566868185997, 0.28827130794525146, 0.0756121426820755, 0.17957884073257446, 0.014177277684211731, 0.09924094378948212, 0.004725758917629719, 0.1181439757347107, 0.15595005452632904, 0.06143486872315407, 0.21028846502304077, 0.4600060284137726, 0.29571816325187683, 0.03285757452249527, 0.3893764317035675, 0.07416693866252899, 0.037083469331264496, 0.48208510875701904, 0.11896450817584991, 0.1850558966398239, 0.10905079543590546, 0.0826142430305481, 0.30402040481567383, 0.10905079543590546, 0.0033045695163309574, 0.08591880649328232, 0.006609139032661915, 0.09683675318956375, 0.05810205265879631, 0.726275622844696, 0.048418376594781876, 0.048418376594781876, 0.00968367513269186, 0.07672656327486038, 0.8439921736717224, 0.054804690182209015, 0.03288281336426735, 0.17897246778011322, 0.09152001142501831, 0.15863469243049622, 0.14236445724964142, 0.052878230810165405, 0.15863469243049622, 0.018304001539945602, 0.12406045943498611, 0.038641784340143204, 0.036608003079891205, 0.028411267325282097, 0.14205633103847504, 0.6818704009056091, 0.11364506930112839, 0.2359747290611267, 0.08580899238586426, 0.19307023286819458, 0.021452248096466064, 0.45049721002578735, 0.25851792097091675, 0.2115146517753601, 0.4935341775417328, 0.21131813526153564, 0.07684295624494553, 0.17289665341377258, 0.06531651318073273, 0.03842147812247276, 0.1383173167705536, 0.28816109895706177, 0.007684295531362295, 0.1560649573802948, 0.5930468440055847, 0.21849094331264496, 0.18284516036510468, 0.09142258018255234, 0.04571129009127617, 0.04571129009127617, 0.6171023845672607, 0.8108696937561035, 0.059331927448511124, 0.09888654202222824, 0.031005438417196274, 0.6511141657829285, 0.15502719581127167, 0.09301631152629852, 0.06201087683439255, 0.014297382906079292, 0.12867644429206848, 0.1000816822052002, 0.18586598336696625, 0.3383713960647583, 0.10484747588634491, 0.10961326956748962, 0.009531588293612003, 0.22956332564353943, 0.5897402763366699, 0.09499172121286392, 0.05541183799505234, 0.003957988228648901, 0.015831952914595604, 0.005936982575803995, 0.03581481799483299, 0.18930689990520477, 0.030698414891958237, 0.09209524840116501, 0.15349207818508148, 0.09721165150403976, 0.30698415637016296, 0.05628042668104172, 0.03581481799483299, 0.0051164026372134686, 0.06281597167253494, 0.13610127568244934, 0.09422396123409271, 0.5339357852935791, 0.15703994035720825, 0.010469328612089157, 0.130074143409729, 0.39455825090408325, 0.13224205374717712, 0.260148286819458, 0.002167902421206236, 0.030350634828209877, 0.008671609684824944, 0.021679025143384933, 0.015175317414104939, 0.004335804842412472, 0.4975758492946625, 0.03554113209247589, 0.1599351018667221, 0.3020996153354645, 0.2547210454940796, 0.03638872131705284, 0.14555488526821136, 0.10916616022586823, 0.07277744263410568, 0.32749849557876587, 0.20949234068393707, 0.1444774717092514, 0.13002972304821014, 0.10354219377040863, 0.11798994243144989, 0.21190029382705688, 0.009631832130253315, 0.01926366426050663, 0.02648753672838211, 0.02648753672838211, 0.3759760558605194, 0.6015616655349731, 0.20749038457870483, 0.004882126580923796, 0.20260825753211975, 0.3588363230228424, 0.07811402529478073, 0.05126233026385307, 0.07567296177148819, 0.019528506323695183, 0.30645057559013367, 0.01612897776067257, 0.6129011511802673, 0.03225795552134514, 0.01612897776067257, 0.0606524683535099, 0.2729361057281494, 0.045489352196455, 0.12509571015834808, 0.28051766753196716, 0.03790779411792755, 0.07202480733394623, 0.045489352196455, 0.06444324553012848, 0.10403357446193695, 0.3310159146785736, 0.5012526512145996, 0.056745585054159164, 0.1119973435997963, 0.05599867179989815, 0.19384156167507172, 0.3015313148498535, 0.02153795026242733, 0.14215047657489777, 0.02153795026242733, 0.14215047657489777, 0.008615179918706417, 0.08691365271806717, 0.02483247220516205, 0.5711469054222107, 0.08691365271806717, 0.012416236102581024, 0.211076021194458, 0.012416236102581024, 0.08713129162788391, 0.11179108917713165, 0.100283183157444, 0.1364508867263794, 0.37154096364974976, 0.08713129162788391, 0.04931959882378578, 0.04931959882378578, 0.004931959789246321, 0.003287973115220666, 0.009425207041203976, 0.0377008281648159, 0.056551244109869, 0.7917174100875854, 0.0377008281648159, 0.0282756220549345, 0.0377008281648159, 0.18628397583961487, 0.03725679591298103, 0.02235407754778862, 0.2086380571126938, 0.4247274696826935, 0.02235407754778862, 0.014902718365192413, 0.05961087346076965, 0.014902718365192413, 0.15737128257751465, 0.1513185352087021, 0.012105483561754227, 0.09079112857580185, 0.19368773698806763, 0.01815822534263134, 0.1634240299463272, 0.012105483561754227, 0.199740469455719, 0.016587434336543083, 0.0497623048722744, 0.06634973734617233, 0.13269947469234467, 0.033174868673086166, 0.6303225159645081, 0.06634973734617233, 0.014331181533634663, 0.4442666471004486, 0.5302537083625793, 0.122291199862957, 0.168150395154953, 0.03057279996573925, 0.489164799451828, 0.1834367960691452, 0.15098942816257477, 0.2807873487472534, 0.243702232837677, 0.13774473965168, 0.0026489372830837965, 0.1403936743736267, 0.04503193125128746, 0.1642422080039978, 0.06915461272001266, 0.25500765442848206, 0.27661845088005066, 0.008644326590001583, 0.008644326590001583, 0.060510288923978806, 0.15127572417259216, 0.11200821399688721, 0.06720492988824844, 0.4928361475467682, 0.06720492988824844, 0.2688197195529938, 0.009491697885096073, 0.05695018917322159, 0.03796679154038429, 0.03796679154038429, 0.3417011499404907, 0.25627586245536804, 0.05695018917322159, 0.20881736278533936, 0.019418787211179733, 0.09709393978118896, 0.0582563616335392, 0.1165127232670784, 0.1747690886259079, 0.0582563616335392, 0.4660508930683136, 0.0223944503813982, 0.0447889007627964, 0.06718335300683975, 0.06718335300683975, 0.1791556030511856, 0.0447889007627964, 0.5598612427711487, 0.06887353211641312, 0.06482214480638504, 0.4010870158672333, 0.12964428961277008, 0.040513839572668076, 0.10533598810434341, 0.11343875527381897, 0.012154152616858482, 0.024308305233716965, 0.04456522688269615, 0.13731399178504944, 0.21741382777690887, 0.08467695862054825, 0.10756262391805649, 0.13502542674541473, 0.1167168915271759, 0.10527405887842178, 0.06636843085289001, 0.029751364141702652, 0.0022885664366185665, 0.7105862498283386, 0.09305296093225479, 0.15649816393852234, 0.02537808008491993, 0.012689040042459965, 0.11586781591176987, 0.6488597393035889, 0.13904137909412384, 0.04634712636470795, 0.24676170945167542, 0.02903079055249691, 0.5370696187019348, 0.1451539546251297, 0.014515395276248455, 0.014515395276248455, 0.1492481231689453, 0.5095022320747375, 0.25732436776161194, 0.03087892197072506, 0.04117189720273018, 0.005146487150341272, 0.0964222103357315, 0.18407875299453735, 0.04382827505469322, 0.14025048911571503, 0.14025048911571503, 0.14025048911571503, 0.00876565556973219, 0.06135958433151245, 0.052593931555747986, 0.14025048911571503, 0.29935306310653687, 0.11225739866495132, 0.07483826577663422, 0.5238678455352783, 0.6490564942359924, 0.06490565091371536, 0.06490565091371536, 0.09086790680885315, 0.12332073599100113, 0.5515914559364319, 0.12683653831481934, 0.14158496260643005, 0.06784279644489288, 0.10913841426372528, 0.6490380167961121, 0.06490380316972733, 0.06490380316972733, 0.09086532890796661, 0.12331722676753998, 0.6484510898590088, 0.002679550088942051, 0.037513699382543564, 0.11254110187292099, 0.002679550088942051, 0.029475050047039986, 0.09378425031900406, 0.06966830044984818, 0.005359100177884102, 0.874510645866394, 0.011817711405456066, 0.035453133285045624, 0.08272398263216019, 0.7191105484962463, 0.029351450502872467, 0.029351450502872467, 0.0440271757543087, 0.1761087030172348, 0.04821733757853508, 0.16876068711280823, 0.02410866878926754, 0.7232601046562195, 0.12049424648284912, 0.24959522485733032, 0.0889362320303917, 0.05164039134979248, 0.16065900027751923, 0.16639681160449982, 0.05737821385264397, 0.09754296392202377, 0.00860673189163208, 0.07214779406785965, 0.07214779406785965, 0.045092370361089706, 0.5681638717651367, 0.08116626739501953, 0.11724016070365906, 0.036073897033929825, 0.04735803231596947, 0.09471606463193893, 0.04735803231596947, 0.5919753909111023, 0.1420740932226181, 0.04735803231596947, 0.6902561187744141, 0.026548311114311218, 0.23893480002880096, 0.13260817527770996, 0.1591298133134842, 0.026521634310483932, 0.0795649066567421, 0.5304327011108398, 0.053043268620967865, 0.13771799206733704, 0.27244213223457336, 0.10478542745113373, 0.11077316850423813, 0.05388965085148811, 0.15867507457733154, 0.023950954899191856, 0.09879769384860992, 0.023950954899191856, 0.014969347044825554, 0.01975850947201252, 0.17782659828662872, 0.05927553027868271, 0.1383095681667328, 0.21734361350536346, 0.15806807577610016, 0.1975851058959961, 0.028361331671476364, 0.07941173017024994, 0.06239493191242218, 0.10210079699754715, 0.07373946160078049, 0.051050398498773575, 0.5275207757949829, 0.028361331671476364, 0.028361331671476364, 0.017016800120472908, 0.06651531159877777, 0.21617475152015686, 0.4988648295402527, 0.06651531159877777, 0.13303062319755554, 0.0934450700879097, 0.27129215002059937, 0.04521535709500313, 0.08741635829210281, 0.23210549354553223, 0.11755992472171783, 0.08741635829210281, 0.05124407261610031, 0.009043071419000626, 0.009043071419000626, 0.08296482264995575, 0.08296482264995575, 0.027654940262436867, 0.6360636353492737, 0.08296482264995575, 0.055309880524873734, 0.19780927896499634, 0.11868556588888168, 0.47474226355552673, 0.14506013691425323, 0.0527491420507431, 0.021697619929909706, 0.1518833339214325, 0.04339523985981941, 0.17358095943927765, 0.06509286165237427, 0.5207428932189941, 0.040413275361061096, 0.20206637680530548, 0.040413275361061096, 0.2828929126262665, 0.12123982608318329, 0.3030995726585388, 0.19018764793872833, 0.007314909249544144, 0.1828727424144745, 0.05851927399635315, 0.007314909249544144, 0.40963491797447205, 0.13898327946662903, 0.3620130717754364, 0.34994596242904663, 0.05430196225643158, 0.01810065470635891, 0.21117429435253143, 0.28843313455581665, 0.39936894178390503, 0.07395721226930618, 0.022187164053320885, 0.2070802003145218, 0.2074272632598877, 0.035223498940467834, 0.2348233312368393, 0.3913722038269043, 0.02348233200609684, 0.06261955201625824, 0.03913722187280655, 0.042464468628168106, 0.2743857800960541, 0.11432740837335587, 0.11432740837335587, 0.16985787451267242, 0.08492893725633621, 0.08819542825222015, 0.013065990060567856, 0.07186294347047806, 0.02613198012113571, 0.013194430619478226, 0.09236101806163788, 0.25729140639305115, 0.11215266585350037, 0.4288190007209778, 0.07256937026977539, 0.02638886123895645, 0.14240925014019012, 0.04005260020494461, 0.12238294631242752, 0.5496106743812561, 0.004450289066880941, 0.04672803357243538, 0.060078900307416916, 0.03560231253504753, 0.009157312102615833, 0.03662924841046333, 0.05494387075304985, 0.04578655958175659, 0.7051129937171936, 0.14651699364185333, 0.03515801206231117, 0.011719337664544582, 0.011719337664544582, 0.8906696438789368, 0.023438675329089165, 0.023438675329089165, 0.03221850469708443, 0.1318029761314392, 0.05857909843325615, 0.2255295366048813, 0.2636059522628784, 0.10837133228778839, 0.14351879060268402, 0.008786864578723907, 0.02636059559881687, 0.09533752501010895, 0.7722339630126953, 0.03813501074910164, 0.06673626601696014, 0.00953375268727541, 0.028553742915391922, 0.19987620413303375, 0.22842994332313538, 0.5425211191177368, 0.26616787910461426, 0.019612370058894157, 0.109268918633461, 0.26056432723999023, 0.05603534355759621, 0.04202650487422943, 0.07844948023557663, 0.1260795146226883, 0.044828273355960846, 0.033151403069496155, 0.17017720639705658, 0.3624553382396698, 0.19448822736740112, 0.00884037371724844, 0.10166430473327637, 0.0596725232899189, 0.022100934758782387, 0.01768074743449688, 0.028731215745210648, 0.03899441286921501, 0.1754748672246933, 0.05849162116646767, 0.009748603217303753, 0.42893853783607483, 0.07798882573843002, 0.15597765147686005, 0.04874301701784134, 0.04770158976316452, 0.5724191069602966, 0.357761949300766, 0.24365484714508057, 0.07147208601236343, 0.10720813274383545, 0.09746193885803223, 0.0032487313728779554, 0.22091372311115265, 0.22091372311115265, 0.03573604300618172, 0.3720618784427643, 0.09301546961069107, 0.09301546961069107, 0.046507734805345535, 0.023253867402672768, 0.3720618784427643, 0.2468123733997345, 0.025099562481045723, 0.0585656464099884, 0.10458151251077652, 0.15478064119815826, 0.2760951817035675, 0.046015866100788116, 0.08366520702838898, 0.11243437975645065, 0.39107608795166016, 0.02933070808649063, 0.11732283234596252, 0.05377296358346939, 0.21998029947280884, 0.009776902385056019, 0.06843831390142441, 0.15456800162792206, 0.1391112059354782, 0.03091360069811344, 0.11850214004516602, 0.3297450840473175, 0.221547469496727, 0.010304533876478672, 0.2906091809272766, 0.6118087768554688, 0.015295219607651234, 0.045885659754276276, 0.015295219607651234, 0.015295219607651234, 0.094779834151268, 0.25274622440338135, 0.6002722978591919, 0.3698342442512512, 0.07458841800689697, 0.08080411702394485, 0.14296112954616547, 0.22065739333629608, 0.10566692054271698, 0.0031078506726771593, 0.11165754497051239, 0.1395719349384308, 0.6001592874526978, 0.125614732503891, 0.21436387300491333, 0.026795484125614166, 0.0803864523768425, 0.64309161901474, 0.05359096825122833, 0.09850428998470306, 0.5300468802452087, 0.06566952168941498, 0.09850428998470306, 0.12664836645126343, 0.06566952168941498, 0.014072041027247906, 0.020330192521214485, 0.26429250836372375, 0.04066038504242897, 0.5489152073860168, 0.10165096074342728, 0.12488146871328354, 0.18933641910552979, 0.1973932981491089, 0.06445495039224625, 0.04431277886033058, 0.10876773297786713, 0.03222747519612312, 0.06042651832103729, 0.052369650453329086, 0.12085303664207458, 0.02763722836971283, 0.20382454991340637, 0.11400356888771057, 0.10018495470285416, 0.17618732154369354, 0.10018495470285416, 0.06563841551542282, 0.19000594317913055, 0.010363960638642311, 0.010363960638642311, 0.08135275542736053, 0.097623310983181, 0.0488116554915905, 0.0488116554915905, 0.097623310983181, 0.06508220732212067, 0.5694693326950073, 0.1313055455684662, 0.11936867237091064, 0.1313055455684662, 0.17905300855636597, 0.1886025071144104, 0.12175604701042175, 0.054909590631723404, 0.03819797560572624, 0.028648482635617256, 0.00954949390143156, 0.11416777968406677, 0.052692823112010956, 0.09660350531339645, 0.026346411556005478, 0.6147496104240417, 0.043910685926675797, 0.052692823112010956, 0.1095656156539917, 0.03652187064290047, 0.14608748257160187, 0.5113061666488647, 0.07304374128580093, 0.1095656156539917, 0.03652187064290047, 0.08720369637012482, 0.08720369637012482, 0.6104258894920349, 0.17440739274024963, 0.15989845991134644, 0.25297367572784424, 0.10739448666572571, 0.1766042709350586, 0.062050145119428635, 0.10978102684020996, 0.06920977681875229, 0.05011742562055588, 0.011932720430195332, 0.06619452685117722, 0.09708530455827713, 0.33979856967926025, 0.26919105648994446, 0.15445388853549957, 0.0176518727093935, 0.05295561999082565, 0.15575547516345978, 0.05607197433710098, 0.12460438162088394, 0.059187084436416626, 0.11837416887283325, 0.1495252549648285, 0.049841754138469696, 0.08410795778036118, 0.20248211920261383, 0.1543773114681244, 0.04540509358048439, 0.13167476654052734, 0.05902662128210068, 0.1543773114681244, 0.16345833241939545, 0.0317835658788681, 0.04540509358048439, 0.2179444432258606, 0.02681771293282509, 0.5095365643501282, 0.2681771218776703, 0.16090627014636993, 0.26314035058021545, 0.13414998352527618, 0.056755758821964264, 0.16510766744613647, 0.15994805097579956, 0.036117300391197205, 0.1702672839164734, 0.02063845843076706, 0.8067715764045715, 0.06065951660275459, 0.024263806641101837, 0.10918712615966797, 0.3299340009689331, 0.058916788548231125, 0.21210043132305145, 0.011783357709646225, 0.08837518095970154, 0.10015853494405746, 0.1885337233543396, 0.0058916788548231125, 0.21293504536151886, 0.021293504163622856, 0.07097835093736649, 0.3406960666179657, 0.007097835186868906, 0.08517401665449142, 0.26261988282203674, 0.14159585535526276, 0.021453917026519775, 0.25315621495246887, 0.12872350215911865, 0.008581566624343395, 0.06436175107955933, 0.004290783312171698, 0.33468109369277954, 0.03861704841256142, 0.007840104401111603, 0.2665635645389557, 0.023520315065979958, 0.05488073453307152, 0.5017666816711426, 0.10192136466503143, 0.039200522005558014, 0.02869468927383423, 0.538025438785553, 0.007173672318458557, 0.29412055015563965, 0.07891039550304413, 0.014347344636917114, 0.02869468927383423, 0.19472892582416534, 0.03894578665494919, 0.19472892582416534, 0.5452409982681274, 0.19543366134166718, 0.1925596445798874, 0.08622073382139206, 0.048858415335416794, 0.05748048797249794, 0.18106353282928467, 0.13507914543151855, 0.05460646376013756, 0.025866219773888588, 0.020118171349167824, 0.12015314400196075, 0.17316189408302307, 0.11838618665933609, 0.22263671457767487, 0.1077844426035881, 0.09541573375463486, 0.04770786687731743, 0.0636104866862297, 0.04770786687731743, 0.0035339160822331905, 0.1725737452507019, 0.002184477634727955, 0.20752538740634918, 0.2817976176738739, 0.14417552947998047, 0.03495164215564728, 0.07427224516868591, 0.08301015198230743, 0.13426090776920319, 0.33728960156440735, 0.042570535093545914, 0.0654931291937828, 0.052394501864910126, 0.1309862583875656, 0.07859175652265549, 0.062218472361564636, 0.07204244285821915, 0.022922594100236893, 0.01387737039476633, 0.004625789821147919, 0.01387737039476633, 0.04163210839033127, 0.18965739011764526, 0.08326421678066254, 0.6244816780090332, 0.03238052874803543, 0.024190733209252357, 0.12095367163419724, 0.024190733209252357, 0.048381466418504715, 0.5805776119232178, 0.16933514177799225, 0.16341698169708252, 0.06809040904045105, 0.10894466191530228, 0.5991955995559692, 0.05447233095765114, 0.09444776922464371, 0.4250149726867676, 0.2833433151245117, 0.18889553844928741, 0.038580719381570816, 0.21219395101070404, 0.057871077209711075, 0.019290359690785408, 0.15432287752628326, 0.019290359690785408, 0.44367825984954834, 0.038580719381570816, 0.2045237123966217, 0.0681745707988739, 0.0681745707988739, 0.0681745707988739, 0.0681745707988739, 0.03408728539943695, 0.44313469529151917, 0.664970874786377, 0.004766816273331642, 0.1191704049706459, 0.1239372193813324, 0.02383408136665821, 0.04766816273331642, 0.014300448819994926, 0.04935752972960472, 0.11890678107738495, 0.30511927604675293, 0.17723840475082397, 0.002243524184450507, 0.33652862906455994, 0.011217620223760605, 0.14664185047149658, 0.21996276080608368, 0.2016325294971466, 0.018330231308937073, 0.07332092523574829, 0.3482743799686432, 0.003316802205517888, 0.013267208822071552, 0.19900813698768616, 0.026534417644143105, 0.14262250065803528, 0.42786750197410583, 0.12272168695926666, 0.05306883528828621, 0.006633604411035776, 0.007664491422474384, 0.003832245711237192, 0.13796085119247437, 0.030657965689897537, 0.1686188131570816, 0.4828629493713379, 0.09963838756084442, 0.061315931379795074, 0.003832245711237192, 0.3979382812976837, 0.05540912598371506, 0.1687459796667099, 0.13852281868457794, 0.11333684623241425, 0.0025185965932905674, 0.1183740422129631, 0.005037193186581135, 0.1866937130689621, 0.055316656827926636, 0.22818119823932648, 0.027658328413963318, 0.02074374631047249, 0.062231238931417465, 0.04148749262094498, 0.3526436686515808, 0.02074374631047249, 0.21024668216705322, 0.10512334108352661, 0.5256167054176331, 0.14016444981098175, 0.013052795082330704, 0.7048509120941162, 0.06526397168636322, 0.013052795082330704, 0.03915838524699211, 0.09136956185102463, 0.052211180329322815, 0.012669968418776989, 0.012669968418776989, 0.012669968418776989, 0.6461684107780457, 0.20271949470043182, 0.025339936837553978, 0.10135974735021591, 0.02684284932911396, 0.3489570617675781, 0.01342142466455698, 0.4831713140010834, 0.09394997358322144, 0.02684284932911396, 0.04036518558859825, 0.6660255193710327, 0.04036518558859825, 0.1816433221101761, 0.04036518558859825, 0.6648153066635132, 0.05113964155316353, 0.07670946419239044, 0.05113964155316353, 0.05113964155316353, 0.07670946419239044, 0.025569820776581764, 0.1403443068265915, 0.11227545142173767, 0.561377227306366, 0.1684131771326065, 0.2419586479663849, 0.04839172959327698, 0.07258759438991547, 0.5807007551193237, 0.02419586479663849, 0.10230810940265656, 0.1278851479291916, 0.48596352338790894, 0.02557702735066414, 0.2557702958583832, 0.08390453457832336, 0.06292840093374252, 0.06292840093374252, 0.08390453457832336, 0.12585680186748505, 0.5453794598579407, 0.030426081269979477, 0.09127824753522873, 0.030426081269979477, 0.15213041007518768, 0.6389477252960205, 0.024295881390571594, 0.024295881390571594, 0.14577528834342957, 0.024295881390571594, 0.3887341022491455, 0.29155057668685913, 0.07288764417171478, 0.18677948415279388, 0.16009670495986938, 0.08004835247993469, 0.32019340991973877, 0.26682785153388977, 0.04995504021644592, 0.02497752010822296, 0.02497752010822296, 0.5744829773902893, 0.02497752010822296, 0.1998201608657837, 0.09991008043289185, 0.7246822714805603, 0.004262836650013924, 0.26855871081352234, 0.11473549157381058, 0.2677161395549774, 0.03824516385793686, 0.09561291337013245, 0.4589419662952423, 0.023255087435245514, 0.05581220984458923, 0.013953052461147308, 0.013953052461147308, 0.3116181790828705, 0.08371831476688385, 0.12557747960090637, 0.12557747960090637, 0.03720813989639282, 0.20464476943016052, 0.1506286859512329, 0.32090458273887634, 0.4125916063785553, 0.11133424937725067, 0.7204591035842896, 0.01601020246744156, 0.24015302956104279, 0.00800510123372078, 0.00800510123372078, 0.9721584320068359, 0.8410669565200806, 0.010513337329030037, 0.010513337329030037, 0.13667337596416473, 0.7032586336135864, 0.1063065379858017, 0.03270970284938812, 0.05315326899290085, 0.012266138568520546, 0.06541940569877625, 0.028620989993214607, 0.6877980828285217, 0.047434352338314056, 0.0869629755616188, 0.047434352338314056, 0.047434352338314056, 0.0790572538971901, 0.33867818117141724, 0.033103883266448975, 0.2750168740749359, 0.15278714895248413, 0.058568406850099564, 0.0025464524514973164, 0.12732262909412384, 0.007639357354491949, 0.1479053795337677, 0.27468141913414, 0.528233528137207, 0.04225868359208107, 0.02594510093331337, 0.012972550466656685, 0.06486275047063828, 0.038917649537324905, 0.10378040373325348, 0.02594510093331337, 0.5059294700622559, 0.038917649537324905, 0.19458825886249542, 0.008509541861712933, 0.05956679582595825, 0.05956679582595825, 0.42547711730003357, 0.1106240451335907, 0.1191335916519165, 0.07658588141202927, 0.15317176282405853, 0.09482818841934204, 0.2528751790523529, 0.06321879476308823, 0.15804699063301086, 0.15804699063301086, 0.2212657779455185, 0.035870518535375595, 0.32283467054367065, 0.10761155933141708, 0.14348207414150238, 0.35870519280433655, 0.41884952783584595, 0.5330812335014343, 0.05949867144227028, 0.2826186716556549, 0.01487466786056757, 0.08924800157546997, 0.01487466786056757, 0.08924800157546997, 0.11899734288454056, 0.2974933385848999, 0.02974933572113514, 0.07184243947267532, 0.0335264727473259, 0.12931638956069946, 0.11494790017604828, 0.15805336833000183, 0.08142143487930298, 0.14368487894535065, 0.0335264727473259, 0.2203168123960495, 0.009578991681337357, 0.18064387142658234, 0.022580483928322792, 0.2709658145904541, 0.22580483555793762, 0.29354628920555115, 0.11463819444179535, 0.009968538768589497, 0.0947011187672615, 0.014952808618545532, 0.5632224678993225, 0.004984269384294748, 0.19438651204109192, 0.10143185406923294, 0.10143185406923294, 0.013524247333407402, 0.7641199827194214, 0.013524247333407402, 0.05778566375374794, 0.05778566375374794, 0.04333924874663353, 0.1589105725288391, 0.11557132750749588, 0.014446415938436985, 0.4478389024734497, 0.10112491250038147, 0.03918689861893654, 0.3428853750228882, 0.6171936988830566, 0.0910748690366745, 0.1252279430627823, 0.22768716514110565, 0.011384358629584312, 0.5350648164749146, 0.09431647509336472, 0.04467622563242912, 0.17374087870121002, 0.10424452275037766, 0.07942439615726471, 0.039712198078632355, 0.22338111698627472, 0.04467622563242912, 0.17374087870121002, 0.019856099039316177, 0.5384873747825623, 0.3400973081588745, 0.08502432703971863, 0.2841695547103882, 0.056833911687135696, 0.028416955843567848, 0.6109645366668701, 0.012476080097258091, 0.4616149663925171, 0.05614235997200012, 0.09357059746980667, 0.09357059746980667, 0.15595099329948425, 0.08109451830387115, 0.024952160194516182, 0.018714120611548424, 0.11721368879079819, 0.1034238412976265, 0.0896339938044548, 0.12066114693880081, 0.07929161190986633, 0.03447461500763893, 0.21029514074325562, 0.09997638314962387, 0.027579691261053085, 0.11721368879079819, 0.09396737068891525, 0.07517389208078384, 0.03758694604039192, 0.07517389208078384, 0.05638042092323303, 0.6201846599578857, 0.05638042092323303, 0.10123887658119202, 0.18222998082637787, 0.6884243488311768, 0.020363975316286087, 0.09503188729286194, 0.21721574664115906, 0.38012754917144775, 0.2850956618785858, 0.20719793438911438, 0.0839991644024849, 0.07839921861886978, 0.3023969829082489, 0.011199887841939926, 0.06719932705163956, 0.24079759418964386, 0.01679983176290989, 0.026017503812909126, 0.41194382309913635, 0.09106126427650452, 0.08022063970565796, 0.21247628331184387, 0.04553063213825226, 0.08889313787221909, 0.0021681254729628563, 0.03685813024640083, 0.008672501891851425, 0.2179335057735443, 0.10723711550235748, 0.09340006858110428, 0.027674095705151558, 0.017296308651566505, 0.5015929937362671, 0.013837047852575779, 0.013837047852575779, 0.0034592619631439447, 0.2024407982826233, 0.006748026702553034, 0.06748026609420776, 0.3239052891731262, 0.3846375346183777, 0.006748026702553034, 0.33270397782325745, 0.11090133339166641, 0.5175395607948303, 0.03696710988879204, 0.332704097032547, 0.1109013706445694, 0.5175397396087646, 0.03696712478995323, 0.8581334948539734, 0.059592604637145996, 0.03575556352734566, 0.01191852055490017, 0.03575556352734566, 0.2824034094810486, 0.5648068189620972, 0.102692149579525, 0.9877171516418457, 0.02142123505473137, 0.23563359677791595, 0.0642637088894844, 0.08568494021892548, 0.2142123579978943, 0.0642637088894844, 0.32131853699684143, 0.08342848718166351, 0.1334855705499649, 0.13904747366905212, 0.027809495106339455, 0.04449519142508507, 0.30590444803237915, 0.016685696318745613, 0.1334855705499649, 0.11679987609386444, 0.08476850390434265, 0.19072914123535156, 0.14834488928318024, 0.5298031568527222, 0.021192125976085663, 0.042384251952171326, 0.16631008684635162, 0.472151517868042, 0.19872646033763885, 0.11698082089424133, 0.008456445299088955, 0.005637629888951778, 0.03241637349128723, 0.0014094074722379446, 0.03208330646157265, 0.0641666129231453, 0.8822908997535706, 0.7194106578826904, 0.009465929120779037, 0.0023664822801947594, 0.2129834145307541, 0.052062612026929855, 0.07392378151416779, 0.2032904028892517, 0.5174664855003357, 0.18480944633483887, 0.05346788093447685, 0.1069357618689537, 0.1069357618689537, 0.4633882939815521, 0.24951677024364471, 0.032550182193517685, 0.1265840381383896, 0.050633616745471954, 0.07595042139291763, 0.2965683341026306, 0.09041716903448105, 0.03978355601429939, 0.2423180192708969, 0.014466747641563416, 0.02893349528312683, 0.2309180051088333, 0.05772950127720833, 0.028864750638604164, 0.6061597466468811, 0.028864750638604164, 0.07487931102514267, 0.07487931102514267, 0.07487931102514267, 0.018719827756285667, 0.018719827756285667, 0.7487931251525879, 0.10670088976621628, 0.10670088976621628, 0.1422678530216217, 0.035566963255405426, 0.6046383380889893, 0.02883564680814743, 0.20184952020645142, 0.20184952020645142, 0.547877311706543, 0.08429849147796631, 0.08429849147796631, 0.08429849147796631, 0.16859698295593262, 0.5900894403457642, 0.13272973895072937, 0.33785751461982727, 0.048265356570482254, 0.1085970550775528, 0.06033169850707054, 0.3016584813594818, 0.9357688426971436, 0.055370938032865524, 0.13926556706428528, 0.2163972556591034, 0.09855716675519943, 0.08570188283920288, 0.30638423562049866, 0.0792742446064949, 0.019282924011349678, 0.03213820606470108, 0.008570188656449318, 0.014997829683125019, 0.02215638756752014, 0.17725110054016113, 0.01107819378376007, 0.027695484459400177, 0.11632102727890015, 0.5539096593856812, 0.005539096891880035, 0.027695484459400177, 0.04985187202692032, 0.005539096891880035, 0.12313272058963776, 0.2832052707672119, 0.10466281324625015, 0.08824511617422104, 0.15802033245563507, 0.12313272058963776, 0.045148663222789764, 0.038992028683423996, 0.020522119477391243, 0.016417697072029114, 0.03010886162519455, 0.7226126790046692, 0.21076202392578125, 0.034109294414520264, 0.7504044771194458, 0.17054647207260132, 0.13270072638988495, 0.8581313490867615, 0.008846715092658997, 0.02767105959355831, 0.19369742274284363, 0.1383552998304367, 0.30438166856765747, 0.2767105996608734, 0.17750529944896698, 0.05916843190789223, 0.05916843190789223, 0.17750529944896698, 0.2662579417228699, 0.2366737276315689, 0.8254907727241516, 0.044222719967365265, 0.10318634659051895, 0.10028832405805588, 0.018474163487553596, 0.13459748029708862, 0.3193391263484955, 0.22696830332279205, 0.07125749439001083, 0.007917499169707298, 0.09764915704727173, 0.018474163487553596, 0.005278332624584436, 0.7522155046463013, 0.17551694810390472, 0.02507385052740574, 0.05014770105481148, 0.045712295919656754, 0.009142459370195866, 0.054854754358530045, 0.07313967496156693, 0.2102765589952469, 0.4205531179904938, 0.17370672523975372, 0.05606745555996895, 0.14016863703727722, 0.05606745555996895, 0.14016863703727722, 0.6167420148849487, 0.08602075278759003, 0.19873759150505066, 0.16314280033111572, 0.09195321798324585, 0.008898698724806309, 0.16907526552677155, 0.02669609524309635, 0.13941293954849243, 0.07118958979845047, 0.05042595788836479, 0.1314615160226822, 0.021910253912210464, 0.2519679069519043, 0.19719228148460388, 0.04382050782442093, 0.35056406259536743, 0.7853707671165466, 0.02243916504085064, 0.15707415342330933, 0.02243916504085064, 0.06056566908955574, 0.03028283454477787, 0.1514141708612442, 0.4845253527164459, 0.24226267635822296, 0.013554025441408157, 0.03291691839694977, 0.8945657014846802, 0.029044341295957565, 0.025171762332320213, 0.0019362893654033542, 0.02276541292667389, 0.15610569715499878, 0.0943138599395752, 0.00325220194645226, 0.663449227809906, 0.00325220194645226, 0.0552874319255352, 0.017310474067926407, 0.110787034034729, 0.07962817698717117, 0.10732493549585342, 0.1696426421403885, 0.12117331475019455, 0.26658129692077637, 0.062317706644535065, 0.041545137763023376, 0.020772568881511688, 0.6475473642349243, 0.034081440418958664, 0.23857007920742035, 0.05112215876579285, 0.034081440418958664, 0.07296507805585861, 0.29186031222343445, 0.6202031373977661, 0.11935760080814362, 0.03672541677951813, 0.11017625033855438, 0.018362708389759064, 0.08263218402862549, 0.5600625872612, 0.07345083355903625, 0.26604193449020386, 0.5764241814613342, 0.08868064731359482, 0.04434032365679741, 0.04921995475888252, 0.02460997737944126, 0.3937596380710602, 0.5168095231056213, 0.11516794562339783, 0.11730068922042847, 0.3988223373889923, 0.17488466203212738, 0.0021327396389096975, 0.08317685127258301, 0.10450424998998642, 0.0021327396389096975, 0.09878557175397873, 0.32928523421287537, 0.5927134156227112, 0.03590318560600281, 0.0032639261335134506, 0.20562733709812164, 0.4438939392566681, 0.27090585231781006, 0.009791778400540352, 0.029375335201621056, 0.09650551527738571, 0.16084252297878265, 0.3216850459575653, 0.4181905686855316, 0.31272441148757935, 0.03909055143594742, 0.5863583087921143, 0.07350503653287888, 0.1984635889530182, 0.28666964173316956, 0.02940201386809349, 0.007350503467023373, 0.007350503467023373, 0.38957667350769043, 0.020389355719089508, 0.03058403544127941, 0.07136274874210358, 0.8053795695304871, 0.06116807088255882, 0.14911852777004242, 0.0041421810165047646, 0.10769671201705933, 0.1574028879404068, 0.22367778420448303, 0.2816683053970337, 0.008284362033009529, 0.06627489626407623, 0.2909119129180908, 0.6181878447532654, 0.0727279782295227, 0.27335551381111145, 0.5637957453727722, 0.13667775690555573, 0.11199504882097244, 0.13022679090499878, 0.13804040849208832, 0.13804040849208832, 0.2734762728214264, 0.10678597539663315, 0.0494861826300621, 0.03125443309545517, 0.007813608273863792, 0.015627216547727585, 0.0640154778957367, 0.20334327220916748, 0.06024985760450363, 0.08660916984081268, 0.1920464187860489, 0.07154670357704163, 0.2522962689399719, 0.030124928802251816, 0.02635931223630905, 0.015062464401125908, 0.15098907053470612, 0.07920738309621811, 0.2351469099521637, 0.09653399884700775, 0.14851383864879608, 0.03217799961566925, 0.18316707015037537, 0.014851383864879608, 0.05197984352707863, 0.002475230721756816, 0.6217895746231079, 0.15544739365577698, 0.06217895820736885, 0.06217895820736885, 0.09326843917369843, 0.1285790354013443, 0.14112332463264465, 0.21011695265769958, 0.13798725605010986, 0.050177183002233505, 0.10035436600446701, 0.12230688333511353, 0.05331325903534889, 0.05331325903534889, 0.09960953891277313, 0.5976572632789612, 0.17431670427322388, 0.049804769456386566, 0.049804769456386566, 0.13852046430110931, 0.030782325193285942, 0.2308674305677414, 0.1269770860671997, 0.0038477906491607428, 0.05771685764193535, 0.33090999722480774, 0.03463011607527733, 0.050021275877952576, 0.06740860641002655, 0.2696344256401062, 0.08847379684448242, 0.07372816652059555, 0.21065188944339752, 0.11796506494283676, 0.1158585399389267, 0.02949126623570919, 0.018958671018481255, 0.008426075801253319, 0.09953634440898895, 0.03317878395318985, 0.049768172204494476, 0.7465226054191589, 0.049768172204494476, 0.5329583883285522, 0.03806845843791962, 0.05710268393158913, 0.36165034770965576, 0.23735229671001434, 0.10050051659345627, 0.12188360840082169, 0.13043685257434845, 0.012829853221774101, 0.24804383516311646, 0.002138308947905898, 0.10477713495492935, 0.042766179889440536, 0.25476741790771484, 0.09264269471168518, 0.10422303527593613, 0.09264269471168518, 0.09264269471168518, 0.04632134735584259, 0.011580336838960648, 0.011580336838960648, 0.27792808413505554, 0.27867305278778076, 0.12385468930006027, 0.030963672325015068, 0.030963672325015068, 0.030963672325015068, 0.12385468930006027, 0.3406004011631012, 0.23254400491714478, 0.06976320594549179, 0.49996963143348694, 0.1278991997241974, 0.058136001229286194, 0.15725190937519073, 0.144147589802742, 0.6683206558227539, 0.013104326091706753, 0.10686557739973068, 0.013700715266168118, 0.5124067664146423, 0.21647129952907562, 0.0328817144036293, 0.06850357353687286, 0.010960572399199009, 0.03562185913324356, 0.0760180875658989, 0.8514025807380676, 0.015203617513179779, 0.015203617513179779, 0.04561085253953934, 0.41009294986724854, 0.04686776548624039, 0.023433882743120193, 0.011716941371560097, 0.5038284659385681, 0.0297154039144516, 0.1782924234867096, 0.0891462117433548, 0.2674386203289032, 0.4160156548023224, 0.2927822768688202, 0.13513027131557465, 0.045043427497148514, 0.060057900846004486, 0.007507237605750561, 0.3303184509277344, 0.007507237605750561, 0.12011580169200897, 0.23889197409152985, 0.09619810432195663, 0.20041272044181824, 0.14590045809745789, 0.13147075474262238, 0.07054527848958969, 0.035272639244794846, 0.022446224465966225, 0.051305659115314484, 0.008016509003937244, 0.08300680667161942, 0.19659505784511566, 0.048056572675704956, 0.10921947658061981, 0.18348872661590576, 0.061162907630205154, 0.026212675496935844, 0.24902041256427765, 0.013106337748467922, 0.026212675496935844, 0.01060371845960617, 0.11664090305566788, 0.1060371845960617, 0.7104490995407104, 0.02120743691921234, 0.02120743691921234, 0.048424508422613144, 0.09684901684522629, 0.19369803369045258, 0.048424508422613144, 0.19369803369045258, 0.14527352154254913, 0.24212254583835602, 0.585769534111023, 0.2928847670555115, 0.04881412908434868, 0.12662696838378906, 0.08441798388957977, 0.021104495972394943, 0.16883596777915955, 0.5487169027328491, 0.06331348419189453, 0.11324586719274521, 0.056622933596372604, 0.018874311819672585, 0.08178868144750595, 0.23907460272312164, 0.06920580565929413, 0.3774862289428711, 0.018874311819672585, 0.025165747851133347, 0.006291436962783337, 0.1283055543899536, 0.07698333263397217, 0.006415277719497681, 0.006415277719497681, 0.0320763885974884, 0.025661110877990723, 0.6736041307449341, 0.038491666316986084, 0.019245833158493042, 0.5834521651268005, 0.16207003593444824, 0.25931206345558167, 0.0428108274936676, 0.04994596540927887, 0.0428108274936676, 0.0856216549873352, 0.6136218905448914, 0.11416220664978027, 0.0428108274936676, 0.8211663961410522, 0.1437041163444519, 0.020529158413410187, 0.019351288676261902, 0.038702577352523804, 0.05805386230349541, 0.1354590207338333, 0.1354590207338333, 0.019351288676261902, 0.09675643593072891, 0.5418360829353333, 0.15950831770896912, 0.26584720611572266, 0.017723146826028824, 0.03544629365205765, 0.17723146080970764, 0.2835703492164612, 0.05316944047808647, 0.17107336223125458, 0.1621166318655014, 0.2875107228755951, 0.2489968240261078, 0.008956720121204853, 0.08956719934940338, 0.030452849343419075, 0.20809710025787354, 0.5202427506446838, 0.15607282519340515, 0.10404855012893677, 0.17825421690940857, 0.07922409474849701, 0.5347626805305481, 0.11883614212274551, 0.039612047374248505, 0.039612047374248505, 0.6490466594696045, 0.06490466743707657, 0.06490466743707657, 0.09086652845144272, 0.1233188658952713, 0.12301401048898697, 0.08786714822053909, 0.026360144838690758, 0.07908043265342712, 0.07029371708631516, 0.1405874341726303, 0.32510846853256226, 0.12301401048898697, 0.01757342927157879, 0.04392169043421745, 0.1756867617368698, 0.010980422608554363, 0.27451056241989136, 0.0878433808684349, 0.1427454948425293, 0.27451056241989136, 0.3487488031387329, 0.06539040058851242, 0.043593600392341614, 0.5013264417648315, 0.21561187505722046, 0.022695986554026604, 0.19858987629413605, 0.4595937132835388, 0.056739967316389084, 0.028369983658194542, 0.011347993277013302, 0.49833253026008606, 0.03559517860412598, 0.011865059845149517, 0.07119035720825195, 0.37968191504478455, 0.2747248113155365, 0.09321020543575287, 0.24529001116752625, 0.05886960029602051, 0.029434800148010254, 0.03924640268087387, 0.009811600670218468, 0.1128334030508995, 0.04905800148844719, 0.08339860290288925, 0.20612609386444092, 0.10306304693222046, 0.2954474091529846, 0.07557956874370575, 0.06870870292186737, 0.13054652512073517, 0.01374174002557993, 0.061837829649448395, 0.03607206791639328, 0.006870870012789965, 0.10710147768259048, 0.19635270535945892, 0.035700492560863495, 0.08032611012458801, 0.058013297617435455, 0.14280197024345398, 0.272216260433197, 0.06247586011886597, 0.031237930059432983, 0.017850246280431747, 0.14359110593795776, 0.17550022900104523, 0.06381826847791672, 0.04786369949579239, 0.01595456711947918, 0.17550022900104523, 0.06381826847791672, 0.1116819679737091, 0.20740936696529388, 0.44160425662994385, 0.05329706892371178, 0.137049600481987, 0.07613866776227951, 0.16369813680648804, 0.12562879920005798, 0.06356092542409897, 0.26868936419487, 0.07800658792257309, 0.13290011882781982, 0.32358288764953613, 0.08378485590219498, 0.023113064467906952, 0.008667399175465107, 0.01444566436111927, 0.005778266116976738, 0.124854676425457, 0.30123665928840637, 0.10107283294200897, 0.09512736648321152, 0.15260015428066254, 0.053509145975112915, 0.0872000902891159, 0.029727302491664886, 0.027745483443140984, 0.02378184162080288, 0.07969411462545395, 0.11511372029781342, 0.008854901418089867, 0.07969411462545395, 0.46045488119125366, 0.04427450895309448, 0.061984311789274216, 0.106258824467659, 0.03541960567235947, 0.017709802836179733, 0.2689041793346405, 0.10043409466743469, 0.11339332908391953, 0.09719428420066833, 0.14903123676776886, 0.1911487579345703, 0.022678665816783905, 0.019438857212662697, 0.003239809535443783, 0.03239809349179268, 0.13677480816841125, 0.3605881333351135, 0.14713653922080994, 0.12641309201717377, 0.016578765586018562, 0.006217036861926317, 0.19272814691066742, 0.014506419189274311, 0.03408285230398178, 0.22721901535987854, 0.022721901535987854, 0.03408285230398178, 0.2953847050666809, 0.18177521228790283, 0.13633140921592712, 0.041656818240880966, 0.01893491856753826, 0.007573967333883047, 0.23884476721286774, 0.053932689130306244, 0.10016071051359177, 0.053932689130306244, 0.053932689130306244, 0.42375683784484863, 0.030818680301308632, 0.02311401069164276, 0.02311401069164276, 0.07208528369665146, 0.21892568469047546, 0.1201421394944191, 0.12815161049365997, 0.17086882889270782, 0.03203790262341499, 0.042717207223176956, 0.11213266104459763, 0.06407580524682999, 0.037377554923295975, 0.03698863089084625, 0.0739772617816925, 0.11096589267253876, 0.6288067102432251, 0.11096589267253876, 0.03698863089084625, 0.15141010284423828, 0.1461283564567566, 0.13380427658557892, 0.040493402630090714, 0.15317068994045258, 0.1866217702627182, 0.02816932275891304, 0.12324078381061554, 0.024648157879710197, 0.012324078939855099, 0.2541998028755188, 0.19438809156417847, 0.4127008616924286, 0.04934467002749443, 0.0014952929923310876, 0.010467050597071648, 0.07625994086265564, 0.8417829275131226, 0.14211919903755188, 0.04480011761188507, 0.10951139777898788, 0.016592636704444885, 0.051437169313430786, 0.5890385508537292, 0.051437169313430786, 0.05641496181488037, 0.0580742247402668, 0.016592636704444885, 0.0033185272477567196, 0.01381159108132124, 0.02762318216264248, 0.00345289777033031, 0.062152158468961716, 0.735467255115509, 0.062152158468961716, 0.020717386156320572, 0.06905795633792877, 0.00690579554066062], \"Term\": [\"aboard\", \"aboard\", \"aboard\", \"aboard\", \"access\", \"access\", \"access\", \"access\", \"access\", \"access\", \"access\", \"accommodation\", \"accommodation\", \"act\", \"act\", \"act\", \"act\", \"act\", \"act\", \"act\", \"actually\", \"actually\", \"actually\", \"actually\", \"actually\", \"actually\", \"additional\", \"additional\", \"additional\", \"additional\", \"additional\", \"aedt\", \"aedt\", \"aedt\", \"aedt\", \"aedt\", \"aedt\", \"aedt\", \"aedt\", \"aedt_february\", \"aedt_february\", \"aedt_february\", \"aedt_february\", \"aedt_february\", \"aedt_february\", \"aedt_february\", \"agency\", \"agency\", \"agency\", \"agency\", \"agency\", \"agency\", \"agency\", \"agency\", \"ai\", \"ai\", \"ai\", \"ai\", \"air\", \"air\", \"air\", \"air\", \"air\", \"air\", \"air\", \"air\", \"air\", \"air_quality\", \"air_quality\", \"airline\", \"airline\", \"airline\", \"airline\", \"airport\", \"airport\", \"airport\", \"airport\", \"airport\", \"airport\", \"alert_level\", \"alert_level\", \"amp\", \"amp\", \"amp\", \"amp\", \"amp\", \"amp\", \"analysis\", \"analysis\", \"analysis\", \"andrew\", \"andrew\", \"andrew\", \"andrew\", \"andrew\", \"andrew\", \"animal\", \"animal\", \"animal\", \"animal\", \"animal\", \"animal\", \"animal\", \"animal\", \"area\", \"area\", \"area\", \"area\", \"area\", \"area\", \"area\", \"area\", \"area\", \"area\", \"around\", \"around\", \"around\", \"around\", \"around\", \"around\", \"around\", \"around\", \"around\", \"around\", \"arrival\", \"arrival\", \"arrival\", \"arrival\", \"associated\", \"associated\", \"associated\", \"associated\", \"at_brisbane\", \"at_brisbane\", \"at_brisbane\", \"athe\", \"athe\", \"athe\", \"athe\", \"athe\", \"australia_february\", \"australia_february\", \"australia_february\", \"australia_february\", \"australia_february\", \"australiaas\", \"australiaas\", \"australiaas\", \"australiaas\", \"author\", \"author\", \"author\", \"author\", \"authority\", \"authority\", \"authority\", \"authority\", \"authority\", \"authority\", \"authority\", \"authority\", \"authority\", \"average\", \"average\", \"average\", \"average\", \"average\", \"average\", \"average\", \"awe\", \"awe\", \"awe\", \"awe\", \"baby\", \"baby\", \"baby\", \"baby\", \"baby\", \"ban\", \"ban\", \"ban\", \"ban\", \"ban\", \"ban\", \"base\", \"base\", \"base\", \"based\", \"based\", \"based\", \"based\", \"based\", \"based\", \"based\", \"based\", \"based\", \"based\", \"based_on\", \"based_on\", \"based_on\", \"based_on\", \"based_on\", \"based_on\", \"based_on\", \"based_on\", \"based_on\", \"based_on\", \"because\", \"because\", \"because\", \"because\", \"because\", \"because\", \"because\", \"because\", \"because\", \"bed\", \"bed\", \"bed\", \"bed\", \"beijing\", \"beijing\", \"beijing\", \"beijing\", \"beijing\", \"beijing\", \"being_treated\", \"being_treated\", \"being_treated\", \"being_treated\", \"being_treated\", \"between\", \"between\", \"between\", \"between\", \"between\", \"between\", \"between\", \"between\", \"between\", \"blaze\", \"blaze\", \"blaze\", \"board\", \"board\", \"board\", \"board\", \"board\", \"board\", \"body\", \"body\", \"body\", \"body\", \"body\", \"body\", \"breath\", \"breath\", \"breath\", \"breathing\", \"breathing\", \"breathing\", \"breathing\", \"brisbane\", \"brisbane\", \"brisbane\", \"brisbane\", \"brisbane\", \"brisbane\", \"brisbane\", \"bureau\", \"bureau\", \"bureau\", \"bureau\", \"bushfire\", \"bushfire\", \"bushfire\", \"bushfire\", \"bushfire\", \"bushfires\", \"bushfires\", \"bushfires\", \"bushfires\", \"bushfires\", \"business\", \"business\", \"business\", \"business\", \"business\", \"business\", \"business\", \"busy\", \"busy\", \"busy\", \"busy\", \"busy\", \"cabin\", \"cabin\", \"cabin\", \"campus\", \"campus\", \"campus\", \"canberra\", \"canberra\", \"canberra\", \"canberra\", \"canberra\", \"canberra\", \"canberra\", \"canberra\", \"car\", \"car\", \"car\", \"car\", \"car\", \"care\", \"care\", \"care\", \"care\", \"care\", \"care\", \"care\", \"care\", \"case\", \"case\", \"case\", \"case\", \"case\", \"case\", \"case\", \"case\", \"case\", \"catch\", \"catch\", \"catch\", \"catch\", \"cause\", \"cause\", \"cause\", \"cause\", \"cause\", \"cause\", \"cause\", \"cause\", \"causing\", \"causing\", \"causing\", \"causing\", \"causing\", \"cell\", \"cell\", \"cell\", \"cent\", \"cent\", \"cent\", \"cent\", \"cent\", \"cent\", \"cent\", \"cent\", \"cent\", \"centre\", \"centre\", \"centre\", \"centre\", \"centre\", \"centre\", \"centre\", \"centre\", \"centre\", \"centre\", \"chain\", \"chain\", \"chain\", \"chain\", \"chain\", \"chain\", \"change\", \"change\", \"change\", \"change\", \"change\", \"change\", \"change\", \"change\", \"chief_executive\", \"chief_executive\", \"chief_executive\", \"china\", \"china\", \"china\", \"china\", \"china\", \"china\", \"china\", \"china\", \"china\", \"chinese\", \"chinese\", \"chinese\", \"chinese\", \"chinese\", \"chinese\", \"chinese\", \"chinese\", \"chinese_authority\", \"chinese_authority\", \"chinese_authority\", \"chinese_authority\", \"chinese_student\", \"chinese_student\", \"christmas\", \"christmas\", \"christmas\", \"christmas_island\", \"christmas_island\", \"christmas_island\", \"circumstance\", \"circumstance\", \"circumstance\", \"circumstance\", \"city\", \"city\", \"city\", \"city\", \"city\", \"city\", \"city\", \"city\", \"city\", \"city\", \"class\", \"class\", \"class\", \"class\", \"class\", \"class\", \"class\", \"climate\", \"climate\", \"climate\", \"climate_change\", \"climate_change\", \"climate_change\", \"close\", \"close\", \"close\", \"close\", \"close\", \"close\", \"close\", \"close\", \"closed\", \"closed\", \"closed\", \"closed\", \"closed\", \"closed\", \"closed\", \"closed\", \"closing\", \"closing\", \"closing\", \"closing\", \"closing\", \"coast\", \"coast\", \"coast\", \"coast\", \"coast\", \"coast\", \"college\", \"college\", \"college\", \"college\", \"college\", \"college\", \"college\", \"common_cold\", \"common_cold\", \"compared\", \"compared\", \"compared\", \"compared\", \"compared\", \"compared\", \"compared\", \"confirmed\", \"confirmed\", \"confirmed\", \"confirmed\", \"confirmed\", \"confirmed\", \"confirmed\", \"confirmed\", \"confirmed\", \"contact\", \"contact\", \"contact\", \"contact\", \"contact\", \"contact\", \"contact\", \"contact\", \"contact\", \"contact_with\", \"contact_with\", \"contact_with\", \"contact_with\", \"contact_with\", \"contact_with\", \"control\", \"control\", \"control\", \"control\", \"control\", \"control\", \"control\", \"control\", \"control\", \"cough\", \"cough\", \"cough\", \"could\", \"could\", \"could\", \"could\", \"could\", \"could\", \"could\", \"could\", \"could\", \"could\", \"council\", \"council\", \"council\", \"council\", \"council\", \"council\", \"country\", \"country\", \"country\", \"country\", \"country\", \"country\", \"country\", \"country\", \"country\", \"country\", \"covid\", \"covid\", \"covid\", \"covid\", \"covid\", \"created\", \"created\", \"created\", \"created\", \"crisis\", \"crisis\", \"crisis\", \"crisis\", \"crisis\", \"crisis\", \"crisis\", \"crisis\", \"cruise\", \"cruise\", \"cruise\", \"cruise\", \"cruise\", \"cruise_ship\", \"cruise_ship\", \"cruise_ship\", \"cruise_ship\", \"customer\", \"customer\", \"customer\", \"daily\", \"daily\", \"daily\", \"daily\", \"daily\", \"daily\", \"daily\", \"daily\", \"darwin\", \"darwin\", \"darwin\", \"darwin\", \"data\", \"data\", \"data\", \"data\", \"data\", \"data\", \"data\", \"data\", \"date\", \"date\", \"date\", \"date\", \"date\", \"date\", \"day_later\", \"day_later\", \"day_later\", \"deadly\", \"deadly\", \"deadly\", \"deadly\", \"deadly\", \"deadly\", \"deadly\", \"deadly\", \"deadly_disease\", \"deadly_disease\", \"deadly_disease\", \"deadly_disease\", \"deadly_virus\", \"deadly_virus\", \"deadly_virus\", \"deadly_virus\", \"death\", \"death\", \"death\", \"death\", \"death\", \"death\", \"death\", \"death\", \"death\", \"death_toll\", \"death_toll\", \"death_toll\", \"death_toll\", \"death_toll\", \"death_toll\", \"death_toll\", \"death_toll\", \"desperate\", \"desperate\", \"desperate\", \"desperate\", \"desperate\", \"desperate\", \"destroyed\", \"destroyed\", \"destroyed\", \"destroyed\", \"detail\", \"detail\", \"detail\", \"detail\", \"detail\", \"detention\", \"detention\", \"detention\", \"detention\", \"diagnosed\", \"diagnosed\", \"diagnosed\", \"diagnosed\", \"diagnosed\", \"diamond\", \"diamond\", \"diamond\", \"diamond_princess\", \"diamond_princess\", \"direct\", \"direct\", \"direct\", \"direct\", \"direct\", \"direct\", \"direct\", \"direct\", \"director\", \"director\", \"director\", \"director\", \"director\", \"director\", \"director\", \"director\", \"director\", \"disaster\", \"disaster\", \"disease\", \"disease\", \"disease\", \"disease\", \"disease\", \"disease\", \"disease\", \"disease\", \"disease\", \"disease_control\", \"disease_control\", \"disease_control\", \"distancing\", \"distancing\", \"distancing\", \"do\", \"do\", \"do\", \"do\", \"do\", \"do\", \"do\", \"do\", \"do\", \"do\", \"docked\", \"docked\", \"donat\", \"donat\", \"donat\", \"donat\", \"down\", \"down\", \"down\", \"down\", \"down\", \"down\", \"down\", \"down\", \"dr\", \"dr\", \"dr\", \"dr\", \"dr\", \"dr\", \"dr\", \"dr\", \"dr\", \"dr\", \"each\", \"each\", \"each\", \"each\", \"each\", \"each\", \"each\", \"each\", \"each\", \"east\", \"east\", \"east\", \"east\", \"east\", \"east\", \"eastern\", \"eastern\", \"eastern\", \"eastern\", \"eastern\", \"eastern\", \"eastern\", \"economic\", \"economic\", \"economic\", \"economy\", \"economy\", \"economy\", \"economy\", \"epidemic\", \"epidemic\", \"epidemic\", \"epidemic\", \"epidemic\", \"epidemic\", \"epidemic\", \"essential\", \"essential\", \"essential\", \"essential\", \"essential\", \"evacuate\", \"evacuate\", \"evacuate\", \"evacuate\", \"evacuated\", \"evacuated\", \"evacuated\", \"evacuated\", \"evacuated\", \"evacuated\", \"evacuated\", \"evacuated\", \"evacuated_from\", \"evacuated_from\", \"evacuated_from\", \"evacuated_from\", \"evacuee\", \"evacuee\", \"evacuee\", \"evacuee\", \"even\", \"even\", \"even\", \"even\", \"even\", \"even\", \"even\", \"even\", \"even\", \"event\", \"event\", \"event\", \"event\", \"event\", \"event\", \"event\", \"executive\", \"executive\", \"executive\", \"executive\", \"executive\", \"existing\", \"existing\", \"existing\", \"expert\", \"expert\", \"expert\", \"expert\", \"expert\", \"expert\", \"expert\", \"expert\", \"expert\", \"expert\", \"expert_say\", \"expert_say\", \"expert_say\", \"expert_say\", \"expert_say\", \"expert_say\", \"exposure\", \"exposure\", \"exposure\", \"exposure\", \"exposure\", \"exposure\", \"extreme\", \"extreme\", \"extreme\", \"extreme\", \"eye\", \"eye\", \"eye\", \"eye\", \"face\", \"face\", \"face\", \"face\", \"face\", \"face\", \"face\", \"face\", \"face_mask\", \"face_mask\", \"face_mask\", \"face_mask\", \"face_mask\", \"face_mask\", \"failure\", \"failure\", \"failure\", \"failure\", \"failure\", \"faster\", \"faster\", \"faster\", \"faster\", \"fatality\", \"fatality\", \"fatality\", \"fatality\", \"february\", \"february\", \"february\", \"february\", \"february\", \"february\", \"february\", \"february\", \"february\", \"february\", \"february_february\", \"february_february\", \"february_february\", \"february_february\", \"february_february\", \"february_queensland\", \"february_queensland\", \"february_queensland\", \"february_queensland\", \"february_queensland\", \"february_updated\", \"february_updated\", \"february_updated\", \"february_updated\", \"february_updated\", \"february_updated\", \"february_updated\", \"february_western\", \"february_western\", \"february_western\", \"february_western\", \"february_western\", \"fellow\", \"fellow\", \"fellow\", \"fellow\", \"fellow\", \"fellow\", \"fellow\", \"female\", \"female\", \"female\", \"female\", \"female\", \"fever\", \"fever\", \"fever\", \"fever\", \"fever_cough\", \"financial\", \"financial\", \"financial\", \"financial\", \"finding\", \"finding\", \"finding\", \"finding\", \"finding\", \"finding\", \"finding\", \"fine\", \"fine\", \"fine\", \"fine\", \"fine\", \"fine\", \"fine\", \"fine\", \"fire\", \"fire\", \"fire\", \"fire\", \"first\", \"first\", \"first\", \"first\", \"first\", \"first\", \"first\", \"first\", \"first\", \"flight\", \"flight\", \"flight\", \"flight\", \"flight\", \"flight\", \"flight\", \"flight\", \"flown\", \"flown\", \"flown\", \"flown\", \"flu\", \"flu\", \"flu\", \"flu\", \"flu\", \"flu\", \"food\", \"food\", \"food\", \"food\", \"food\", \"food\", \"food\", \"forced\", \"forced\", \"forced\", \"forced\", \"forced\", \"forced\", \"forced\", \"forced\", \"forced\", \"forced\", \"foreign_traveller\", \"foreign_traveller\", \"former\", \"former\", \"former\", \"former\", \"former\", \"former\", \"former\", \"former\", \"found\", \"found\", \"found\", \"found\", \"found\", \"found\", \"found\", \"found\", \"friday\", \"friday\", \"friday\", \"friday\", \"friday\", \"friday\", \"friday\", \"friday\", \"friday\", \"from_wuhan\", \"from_wuhan\", \"from_wuhan\", \"from_wuhan\", \"game\", \"game\", \"game\", \"game\", \"get\", \"get\", \"get\", \"get\", \"get\", \"get\", \"get\", \"get\", \"get\", \"gold\", \"gold\", \"gold\", \"gold\", \"gold\", \"gold\", \"gold_coast\", \"gold_coast\", \"gold_coast\", \"gold_coast\", \"government\", \"government\", \"government\", \"government\", \"government\", \"government\", \"government\", \"government\", \"government\", \"government\", \"gp\", \"gp\", \"gp\", \"gp\", \"greg\", \"greg\", \"greg\", \"greg\", \"greg\", \"greg_hunt\", \"greg_hunt\", \"greg_hunt\", \"group\", \"group\", \"group\", \"group\", \"group\", \"group\", \"group\", \"group\", \"growth\", \"growth\", \"growth\", \"heart\", \"heart\", \"heart\", \"heart\", \"heart\", \"heat\", \"heat\", \"heat\", \"heavy\", \"heavy\", \"heavy\", \"heavy\", \"heavy\", \"help\", \"help\", \"help\", \"help\", \"help\", \"help\", \"help\", \"help\", \"her\", \"her\", \"her\", \"her\", \"her\", \"her\", \"her\", \"high\", \"high\", \"high\", \"high\", \"high\", \"high\", \"high\", \"high\", \"high\", \"high\", \"higher\", \"higher\", \"higher\", \"higher\", \"higher\", \"higher\", \"his\", \"his\", \"his\", \"his\", \"his\", \"his\", \"his\", \"his\", \"his\", \"his\", \"history\", \"history\", \"history\", \"history\", \"holding\", \"holding\", \"holding\", \"holding\", \"holding\", \"holding\", \"home\", \"home\", \"home\", \"home\", \"home\", \"home\", \"home\", \"home\", \"home\", \"home\", \"home_affair\", \"home_affair\", \"hospital\", \"hospital\", \"hospital\", \"hospital\", \"hospital\", \"hospital\", \"hospital\", \"hospital\", \"hotel\", \"hotel\", \"hotel\", \"hotel\", \"hotel\", \"how\", \"how\", \"how\", \"how\", \"how\", \"how\", \"how\", \"how\", \"how\", \"hubei_province\", \"hubei_province\", \"hubei_province\", \"hubei_province\", \"human\", \"human\", \"human\", \"human\", \"human\", \"human\", \"human\", \"human\", \"human\", \"identified\", \"identified\", \"identified\", \"identified\", \"identified\", \"identified\", \"identified\", \"if\", \"if\", \"if\", \"if\", \"if\", \"if\", \"if\", \"if\", \"if\", \"if\", \"if_you\", \"if_you\", \"if_you\", \"if_you\", \"if_you\", \"if_you\", \"if_you\", \"illness\", \"illness\", \"illness\", \"illness\", \"illness\", \"illness\", \"illness\", \"illness\", \"illness\", \"image\", \"image\", \"image\", \"image\", \"image\", \"image\", \"image\", \"image\", \"image\", \"immune\", \"immune\", \"immune\", \"immune\", \"immune\", \"immune\", \"immune\", \"indonesia\", \"indonesia\", \"indonesia\", \"industry\", \"industry\", \"industry\", \"industry\", \"industry\", \"infected\", \"infected\", \"infected\", \"infected\", \"infected\", \"infected\", \"infected\", \"infection\", \"infection\", \"infection\", \"infection\", \"infection\", \"infection\", \"infection\", \"infection\", \"infectious_disease\", \"infectious_disease\", \"infectious_disease\", \"infectious_disease\", \"infectious_disease\", \"institute\", \"institute\", \"institute\", \"institute\", \"institute\", \"institute\", \"institute\", \"institute\", \"intensive\", \"intensive\", \"intensive\", \"intensive\", \"intensive\", \"intensive\", \"intensive\", \"intensive_care\", \"intensive_care\", \"intensive_care\", \"intensive_care\", \"intensive_care\", \"intensive_care\", \"intensive_care\", \"international\", \"international\", \"international\", \"international\", \"international\", \"international\", \"international\", \"international\", \"international\", \"international\", \"into\", \"into\", \"into\", \"into\", \"into\", \"into\", \"into\", \"into\", \"into\", \"into\", \"island\", \"island\", \"island\", \"island\", \"island\", \"isolate\", \"isolate\", \"isolate\", \"isolate\", \"isolated\", \"isolated\", \"isolated\", \"isolated\", \"isolated\", \"isolated\", \"isolation\", \"isolation\", \"isolation\", \"isolation\", \"isolation\", \"isolation\", \"issue\", \"issue\", \"issue\", \"issue\", \"issue\", \"issue\", \"issue\", \"issue\", \"issue\", \"issue\", \"item\", \"item\", \"item\", \"item\", \"january_february\", \"january_february\", \"january_february\", \"january_february\", \"january_february\", \"january_january\", \"january_january\", \"january_january\", \"january_january\", \"january_january\", \"january_victoria\", \"january_victoria\", \"january_victoria\", \"january_victoria\", \"january_victoria\", \"japan\", \"japan\", \"japan\", \"japan\", \"japan\", \"japan\", \"japan\", \"japan\", \"japan\", \"japan_advertisement\", \"japan_advertisement\", \"japan_advertisement\", \"japan_advertisement\", \"japanese\", \"japanese\", \"japanese\", \"japanese\", \"japanese\", \"journal\", \"journal\", \"journal\", \"journal\", \"just\", \"just\", \"just\", \"just\", \"just\", \"just\", \"just\", \"just\", \"just\", \"known\", \"known\", \"known\", \"known\", \"known\", \"known\", \"known\", \"known_a\", \"known_a\", \"known_a\", \"known_a\", \"known_a\", \"known_a\", \"landed\", \"landed\", \"landed\", \"larger\", \"larger\", \"larger\", \"larger\", \"larger\", \"larger\", \"last\", \"last\", \"last\", \"last\", \"last\", \"last\", \"last\", \"last\", \"last\", \"last\", \"leading\", \"leading\", \"leading\", \"leading\", \"leading\", \"leading\", \"leading\", \"level\", \"level\", \"level\", \"level\", \"level\", \"level\", \"level\", \"level\", \"level\", \"level\", \"light\", \"light\", \"light\", \"light\", \"light\", \"like\", \"like\", \"like\", \"like\", \"like\", \"like\", \"like\", \"like\", \"like\", \"like\", \"limit\", \"limit\", \"limit\", \"limit\", \"limit\", \"limit\", \"live\", \"live\", \"live\", \"live\", \"live\", \"location\", \"location\", \"location\", \"location\", \"location\", \"location\", \"london\", \"london\", \"london\", \"london\", \"london\", \"london\", \"mail\", \"mail\", \"mail\", \"mail\", \"mail\", \"mail\", \"mail\", \"mainland\", \"mainland\", \"mainland\", \"mainland\", \"mainland\", \"mainland_china\", \"mainland_china\", \"mainland_china\", \"mainland_china\", \"mainland_china\", \"man\", \"man\", \"man\", \"man\", \"man\", \"man\", \"man\", \"many\", \"many\", \"many\", \"many\", \"many\", \"many\", \"many\", \"many\", \"many\", \"many\", \"march\", \"march\", \"march\", \"march\", \"march\", \"march\", \"march\", \"mask\", \"mask\", \"mask\", \"mask\", \"mask\", \"mask\", \"mask\", \"mask\", \"mass\", \"mass\", \"mass\", \"mass\", \"mass\", \"mass\", \"material\", \"material\", \"material\", \"material\", \"material\", \"material\", \"may\", \"may\", \"may\", \"may\", \"may\", \"may\", \"may\", \"may\", \"may\", \"me\", \"me\", \"me\", \"me\", \"me\", \"meaning\", \"meaning\", \"meaning\", \"meaning\", \"medical\", \"medical\", \"medical\", \"medical\", \"medical\", \"medical\", \"medical\", \"medical\", \"medical\", \"melbourne\", \"melbourne\", \"melbourne\", \"melbourne\", \"melbourne\", \"melbourne\", \"melbourne\", \"melbourne\", \"melbourne\", \"melbourne\", \"might\", \"might\", \"might\", \"might\", \"might\", \"might\", \"might\", \"might\", \"mild\", \"mild\", \"mild\", \"minister\", \"minister\", \"minister\", \"minister\", \"minister\", \"minister\", \"minister\", \"minister\", \"ministry\", \"ministry\", \"ministry\", \"ministry\", \"ministry\", \"ministry\", \"monash\", \"monash\", \"monash\", \"monash\", \"monash\", \"monash\", \"monash\", \"monash\", \"month\", \"month\", \"month\", \"month\", \"month\", \"month\", \"month\", \"month\", \"morrison\", \"morrison\", \"morrison\", \"morrison\", \"morrison\", \"morrison\", \"morrison\", \"mother\", \"mother\", \"mother\", \"mother\", \"mother\", \"mother\", \"moved\", \"moved\", \"moved\", \"mr\", \"mr\", \"mr\", \"mr\", \"mr\", \"mr\", \"mr\", \"murphy\", \"murphy\", \"murphy\", \"murphy\", \"murphy_said\", \"murphy_said\", \"murphy_said\", \"murphy_said\", \"murphy_said\", \"my\", \"my\", \"my\", \"my\", \"my\", \"my\", \"my\", \"named\", \"named\", \"named\", \"named\", \"named\", \"national\", \"national\", \"national\", \"national\", \"national\", \"national\", \"national\", \"national\", \"national\", \"national\", \"need\", \"need\", \"need\", \"need\", \"need\", \"need\", \"need\", \"need\", \"need\", \"need\", \"network\", \"network\", \"network\", \"network\", \"network\", \"network\", \"network\", \"no\", \"no\", \"no\", \"no\", \"no\", \"no\", \"no\", \"no\", \"no\", \"no\", \"normal\", \"normal\", \"normal\", \"normal\", \"normal\", \"normal\", \"normal\", \"not_yet\", \"not_yet\", \"not_yet\", \"not_yet\", \"not_yet\", \"not_yet\", \"not_yet\", \"novel_coronavirus\", \"novel_coronavirus\", \"novel_coronavirus\", \"novel_coronavirus\", \"now\", \"now\", \"now\", \"now\", \"now\", \"now\", \"now\", \"now\", \"now\", \"nsw\", \"nsw\", \"nsw\", \"nsw\", \"nsw\", \"nsw\", \"nsw\", \"number\", \"number\", \"number\", \"number\", \"number\", \"number\", \"number\", \"number\", \"number\", \"number_of\", \"number_of\", \"number_of\", \"number_of\", \"number_of\", \"number_of\", \"number_of\", \"number_of\", \"number_of\", \"officer_dr\", \"officer_dr\", \"officer_dr\", \"officer_dr\", \"official\", \"official\", \"official\", \"official\", \"official\", \"official\", \"official\", \"official\", \"on_board\", \"on_board\", \"on_board\", \"on_board\", \"on_friday\", \"on_friday\", \"on_friday\", \"on_friday\", \"on_friday\", \"on_friday\", \"on_friday\", \"on_friday\", \"on_saturday\", \"on_saturday\", \"on_saturday\", \"on_saturday\", \"on_saturday\", \"on_saturday\", \"on_saturday\", \"on_thursday\", \"on_thursday\", \"on_thursday\", \"on_thursday\", \"on_thursday\", \"on_thursday\", \"on_thursday\", \"on_thursday\", \"on_thursday\", \"online\", \"online\", \"online\", \"online\", \"online\", \"online\", \"online\", \"open\", \"open\", \"open\", \"open\", \"open\", \"open\", \"open\", \"organ\", \"organ\", \"organ\", \"organ\", \"our\", \"our\", \"our\", \"our\", \"our\", \"our\", \"our\", \"our\", \"our\", \"our\", \"out\", \"out\", \"out\", \"out\", \"out\", \"out\", \"out\", \"out\", \"out\", \"out\", \"outbreak\", \"outbreak\", \"outbreak\", \"outbreak\", \"outbreak\", \"outbreak\", \"outbreak\", \"outbreak\", \"over\", \"over\", \"over\", \"over\", \"over\", \"over\", \"over\", \"over\", \"over\", \"over\", \"pandemic\", \"pandemic\", \"pandemic\", \"pandemic\", \"pandemic\", \"pandemic\", \"pandemic\", \"pandemic\", \"panic\", \"panic\", \"panic\", \"panic\", \"panic\", \"panic\", \"paper\", \"paper\", \"paper\", \"paper\", \"paper\", \"park\", \"park\", \"park\", \"park\", \"party\", \"party\", \"party\", \"party\", \"party\", \"party\", \"party\", \"party\", \"pas\", \"pas\", \"pas\", \"pas\", \"pas\", \"pas\", \"pas\", \"passenger\", \"passenger\", \"passenger\", \"passenger\", \"passenger\", \"passenger\", \"passenger\", \"patient\", \"patient\", \"patient\", \"patient\", \"patient\", \"patient\", \"patient\", \"peak\", \"peak\", \"peak\", \"peak\", \"peak\", \"peak\", \"per\", \"per\", \"per\", \"per\", \"per\", \"per\", \"per\", \"per\", \"per\", \"per_cent\", \"per_cent\", \"per_cent\", \"per_cent\", \"per_cent\", \"per_cent\", \"per_cent\", \"per_cent\", \"per_cent\", \"pictured\", \"pictured\", \"pictured\", \"pictured\", \"pictured\", \"pictured\", \"pictured\", \"pictured\", \"plan\", \"plan\", \"plan\", \"plan\", \"plan\", \"plan\", \"plan\", \"plan\", \"plan\", \"planning\", \"planning\", \"planning\", \"planning\", \"play\", \"play\", \"play\", \"play\", \"play\", \"play\", \"play\", \"pneumonia\", \"pneumonia\", \"pneumonia\", \"pneumonia\", \"pneumonia\", \"pneumonia\", \"pneumonia\", \"police\", \"police\", \"police\", \"police\", \"police\", \"police\", \"policy\", \"policy\", \"policy\", \"policy\", \"policy\", \"position\", \"position\", \"position\", \"position\", \"position\", \"position\", \"position\", \"posted\", \"posted\", \"posted\", \"posted\", \"precaution\", \"precaution\", \"precaution\", \"precaution\", \"precaution\", \"premier\", \"premier\", \"premier\", \"premier\", \"premier\", \"prepare\", \"prepare\", \"prepare\", \"prepare\", \"prepare\", \"prepare\", \"prepare_for\", \"prepare_for\", \"prepare_for\", \"prepare_for\", \"prepare_for\", \"present\", \"present\", \"present\", \"present\", \"present\", \"present\", \"present\", \"previous\", \"previous\", \"previous\", \"previous\", \"previous\", \"price\", \"price\", \"price\", \"price\", \"price\", \"price\", \"price\", \"princess\", \"princess\", \"princess\", \"prof\", \"prof\", \"prof\", \"prof\", \"prof\", \"professor\", \"professor\", \"professor\", \"professor\", \"professor\", \"professor\", \"professor\", \"professor\", \"professor\", \"professor\", \"province\", \"province\", \"province\", \"province\", \"qantas\", \"qantas\", \"qantas\", \"qantas\", \"qantas\", \"qantas_flight\", \"quality\", \"quality\", \"quality\", \"quality\", \"quarantine\", \"quarantine\", \"quarantine\", \"quarantine\", \"quarantine\", \"quarantine\", \"quarantine\", \"quarantined\", \"quarantined\", \"quarantined\", \"quarantined\", \"quarantined\", \"quarantined\", \"queensland\", \"queensland\", \"queensland\", \"queensland\", \"queensland\", \"queensland\", \"queensland\", \"queensland\", \"question\", \"question\", \"question\", \"question\", \"range\", \"range\", \"range\", \"range\", \"range\", \"range\", \"range\", \"range\", \"range\", \"rate\", \"rate\", \"rate\", \"rate\", \"rate\", \"rate\", \"rate\", \"rate\", \"rather_than\", \"rather_than\", \"rather_than\", \"rather_than\", \"rather_than\", \"rather_than\", \"ready\", \"ready\", \"ready\", \"ready\", \"ready\", \"recover\", \"recover\", \"region\", \"region\", \"region\", \"region\", \"region\", \"region\", \"region\", \"region\", \"region\", \"reported\", \"reported\", \"reported\", \"reported\", \"reported\", \"reported\", \"reported\", \"reported\", \"reported\", \"reported\", \"reporting\", \"reporting\", \"reporting\", \"reporting\", \"reporting\", \"research\", \"research\", \"research\", \"research\", \"research\", \"research\", \"research\", \"researcher\", \"researcher\", \"researcher\", \"researcher\", \"researcher\", \"resource\", \"resource\", \"resource\", \"resource\", \"resource\", \"resource\", \"resource\", \"resource\", \"restaurant\", \"restaurant\", \"restaurant\", \"restriction\", \"restriction\", \"restriction\", \"restriction\", \"restriction\", \"result\", \"result\", \"result\", \"result\", \"result\", \"result\", \"result\", \"result\", \"result\", \"result\", \"returned_from\", \"returned_from\", \"returned_from\", \"reuters\", \"reuters\", \"reuters\", \"reuters\", \"right\", \"right\", \"right\", \"right\", \"right\", \"right\", \"right\", \"right\", \"right\", \"risk\", \"risk\", \"risk\", \"risk\", \"risk\", \"risk\", \"risk\", \"risk\", \"risk\", \"risk\", \"rule\", \"rule\", \"rule\", \"rule\", \"rule\", \"rule\", \"rule\", \"sample\", \"sample\", \"sample\", \"sars\", \"sars\", \"sars\", \"sars\", \"sars\", \"saturday\", \"saturday\", \"saturday\", \"saturday\", \"saturday\", \"saturday\", \"saturday\", \"saturday\", \"say\", \"say\", \"say\", \"say\", \"say\", \"say\", \"say\", \"say\", \"say\", \"say\", \"school\", \"school\", \"school\", \"school\", \"school\", \"school\", \"school\", \"school\", \"school\", \"scientist\", \"scientist\", \"scientist\", \"scientist\", \"scientist\", \"scientist\", \"scroll\", \"scroll\", \"scroll\", \"scroll\", \"scroll_down\", \"scroll_down\", \"scroll_down\", \"scroll_down\", \"season\", \"season\", \"season\", \"season\", \"season\", \"seem\", \"seem\", \"seem\", \"semester\", \"senior\", \"senior\", \"senior\", \"senior\", \"senior\", \"senior\", \"senior\", \"service\", \"service\", \"service\", \"service\", \"service\", \"service\", \"service\", \"service\", \"service\", \"share\", \"share\", \"share\", \"share\", \"share\", \"share\", \"she\", \"she\", \"she\", \"she\", \"she\", \"she\", \"she\", \"she\", \"shelf\", \"shelf\", \"shelf\", \"ship\", \"ship\", \"ship\", \"ship\", \"ship\", \"shop\", \"shop\", \"shop\", \"shop\", \"shortage\", \"shortage\", \"shortage\", \"shortage\", \"shortage\", \"should\", \"should\", \"should\", \"should\", \"should\", \"should\", \"should\", \"should\", \"should\", \"should\", \"shown\", \"shown\", \"shown\", \"shown\", \"shown\", \"shut\", \"shut\", \"shut\", \"shut\", \"shut\", \"shut\", \"shut_down\", \"shut_down\", \"shut_down\", \"shut_down\", \"shut_down\", \"significantly\", \"significantly\", \"significantly\", \"significantly\", \"simple\", \"simple\", \"simple\", \"simple\", \"simple\", \"site\", \"site\", \"site\", \"site\", \"site\", \"site\", \"smoke\", \"smoke\", \"so\", \"so\", \"so\", \"so\", \"so\", \"so\", \"so\", \"so\", \"so\", \"so\", \"social\", \"social\", \"social\", \"social\", \"social\", \"social\", \"social\", \"social\", \"social\", \"social\", \"some\", \"some\", \"some\", \"some\", \"some\", \"some\", \"some\", \"some\", \"some\", \"some\", \"sore\", \"sore\", \"sore\", \"sore_throat\", \"sore_throat\", \"sore_throat\", \"specie\", \"specie\", \"specie\", \"specific\", \"specific\", \"specific\", \"specific\", \"specific\", \"spokeswoman\", \"spokeswoman\", \"spokeswoman\", \"spokeswoman\", \"spokeswoman\", \"spokeswoman\", \"sport\", \"sport\", \"sport\", \"spread\", \"spread\", \"spread\", \"spread\", \"spread\", \"spread\", \"spread\", \"spread\", \"spread\", \"spread\", \"spring\", \"spring\", \"spring\", \"spring\", \"stage\", \"stage\", \"stage\", \"stage\", \"stage\", \"stage\", \"stage\", \"standard\", \"standard\", \"standard\", \"standard\", \"standard\", \"state\", \"state\", \"state\", \"state\", \"state\", \"state\", \"state\", \"state\", \"state\", \"state\", \"stock\", \"stock\", \"stock\", \"stock\", \"stock\", \"stock\", \"story\", \"story\", \"story\", \"story\", \"struggling\", \"struggling\", \"struggling\", \"struggling\", \"struggling\", \"student\", \"student\", \"student\", \"student\", \"student\", \"student\", \"study\", \"study\", \"study\", \"study\", \"study\", \"study\", \"study\", \"such\", \"such\", \"such\", \"such\", \"such\", \"such\", \"such\", \"such\", \"such\", \"such\", \"summer\", \"summer\", \"summer\", \"summer\", \"summer\", \"supermarket\", \"supermarket\", \"supermarket\", \"supply\", \"supply\", \"supply\", \"supply\", \"supply\", \"supply\", \"supply\", \"surge\", \"surge\", \"surge\", \"surge\", \"survival\", \"survival\", \"survival\", \"survival\", \"sydney\", \"sydney\", \"sydney\", \"sydney\", \"sydney\", \"sydney\", \"sydney\", \"sydney\", \"sydney_airport\", \"sydney_airport\", \"sydney_airport\", \"symptom\", \"symptom\", \"symptom\", \"symptom\", \"symptom\", \"symptom\", \"symptom\", \"taiwan\", \"taiwan\", \"taiwan\", \"taiwan\", \"talking\", \"talking\", \"talking\", \"team\", \"team\", \"team\", \"team\", \"team\", \"team\", \"team\", \"technology\", \"technology\", \"technology\", \"technology\", \"technology\", \"test\", \"test\", \"test\", \"test\", \"test\", \"test\", \"test\", \"test\", \"test_result\", \"test_result\", \"test_result\", \"thailand\", \"thailand\", \"thailand\", \"them\", \"them\", \"them\", \"them\", \"them\", \"them\", \"them\", \"them\", \"them\", \"them\", \"these\", \"these\", \"these\", \"these\", \"these\", \"these\", \"these\", \"these\", \"these\", \"these\", \"those\", \"those\", \"those\", \"those\", \"those\", \"those\", \"those\", \"those\", \"those\", \"those\", \"threat\", \"threat\", \"threat\", \"threat\", \"threat\", \"three\", \"three\", \"three\", \"three\", \"three\", \"three\", \"three\", \"three\", \"three\", \"throat\", \"throat\", \"throat\", \"throat\", \"throat\", \"thursday\", \"thursday\", \"thursday\", \"thursday\", \"thursday\", \"thursday\", \"thursday\", \"thursday\", \"thursday\", \"time\", \"time\", \"time\", \"time\", \"time\", \"time\", \"time\", \"time\", \"time\", \"time\", \"toilet\", \"toilet\", \"toilet\", \"toilet\", \"toilet\", \"tokyo\", \"tokyo\", \"tokyo\", \"tokyo\", \"told\", \"told\", \"told\", \"told\", \"told\", \"told\", \"told\", \"told\", \"told\", \"toll\", \"toll\", \"toll\", \"toll\", \"toll\", \"toll\", \"toll\", \"toll\", \"toll\", \"total_number\", \"total_number\", \"total_number\", \"total_number\", \"total_number\", \"total_number\", \"total_number\", \"tourist\", \"tourist\", \"tourist\", \"tourist\", \"tourist\", \"trade\", \"trade\", \"trade\", \"trade\", \"travel\", \"travel\", \"travel\", \"travel\", \"travel\", \"travel\", \"travel\", \"travel\", \"travel_ban\", \"travel_ban\", \"travel_ban\", \"travel_ban\", \"travel_ban\", \"treatment\", \"treatment\", \"treatment\", \"treatment\", \"treatment\", \"trigger\", \"trigger\", \"trigger\", \"trigger\", \"trigger\", \"tuesday\", \"tuesday\", \"tuesday\", \"tuesday\", \"tuesday\", \"tuesday\", \"tuesday\", \"tuesday\", \"two\", \"two\", \"two\", \"two\", \"two\", \"two\", \"two\", \"two\", \"two\", \"two\", \"u\", \"u\", \"u\", \"u\", \"u\", \"u\", \"u\", \"u\", \"u\", \"u\", \"uk\", \"uk\", \"uk\", \"uk\", \"uk\", \"uk\", \"unclear\", \"unclear\", \"unclear\", \"unclear\", \"unclear\", \"unclear\", \"unclear\", \"untreated\", \"untreated\", \"untreated\", \"upon\", \"upon\", \"upon\", \"upon\", \"upon\", \"upon\", \"use\", \"use\", \"use\", \"use\", \"use\", \"use\", \"use\", \"use\", \"use\", \"use\", \"used\", \"used\", \"used\", \"used\", \"used\", \"used\", \"used\", \"used\", \"used\", \"user\", \"user\", \"user\", \"using\", \"using\", \"using\", \"using\", \"using\", \"using\", \"using\", \"vessel\", \"vessel\", \"vessel\", \"victorian\", \"victorian\", \"victorian\", \"victorian\", \"victorian\", \"victorian\", \"victorian\", \"victorian\", \"view\", \"view\", \"view\", \"view\", \"view\", \"view\", \"view\", \"virus\", \"virus\", \"virus\", \"virus\", \"virus\", \"virus\", \"virus\", \"visited\", \"visited\", \"visited\", \"visited\", \"visitor\", \"visitor\", \"visitor\", \"visitor\", \"visitor\", \"visitor\", \"wale_january\", \"wale_january\", \"wale_january\", \"wale_january\", \"wale_january\", \"warned\", \"warned\", \"warned\", \"warned\", \"warned\", \"warned\", \"warned\", \"warned\", \"warned\", \"water\", \"water\", \"water\", \"water\", \"water\", \"water\", \"water\", \"we_need\", \"we_need\", \"we_need\", \"we_need\", \"wearing\", \"wearing\", \"wearing\", \"wearing\", \"wearing\", \"wearing\", \"wearing\", \"weather\", \"weather\", \"weather\", \"weather\", \"weather\", \"wednesday\", \"wednesday\", \"wednesday\", \"wednesday\", \"wednesday\", \"wednesday\", \"wednesday\", \"wednesday\", \"wednesday\", \"wednesday\", \"week\", \"week\", \"week\", \"week\", \"week\", \"week\", \"week\", \"week\", \"week\", \"week\", \"well\", \"well\", \"well\", \"well\", \"well\", \"well\", \"well\", \"well\", \"well\", \"well\", \"west\", \"west\", \"west\", \"west\", \"west\", \"west\", \"west\", \"west\", \"west\", \"western\", \"western\", \"western\", \"western\", \"western\", \"western\", \"what\", \"what\", \"what\", \"what\", \"what\", \"what\", \"what\", \"what\", \"what\", \"what\", \"when\", \"when\", \"when\", \"when\", \"when\", \"when\", \"when\", \"when\", \"when\", \"when\", \"whether\", \"whether\", \"whether\", \"whether\", \"whether\", \"whether\", \"whether\", \"whether\", \"whether\", \"whether\", \"will_be\", \"will_be\", \"will_be\", \"will_be\", \"will_be\", \"will_be\", \"will_be\", \"will_be\", \"will_be\", \"will_be\", \"woman\", \"woman\", \"woman\", \"woman\", \"woman\", \"woman\", \"woman\", \"woman\", \"work\", \"work\", \"work\", \"work\", \"work\", \"work\", \"work\", \"work\", \"work\", \"work\", \"worker\", \"worker\", \"worker\", \"worker\", \"worker\", \"worker\", \"worker\", \"worker\", \"worker\", \"world\", \"world\", \"world\", \"world\", \"world\", \"world\", \"world\", \"world\", \"world\", \"world\", \"worth\", \"worth\", \"worth\", \"worth\", \"worth\", \"worth\", \"would\", \"would\", \"would\", \"would\", \"would\", \"would\", \"would\", \"would\", \"would\", \"would\", \"wuhan\", \"wuhan\", \"wuhan\", \"wuhan\", \"wuhan\", \"wuhan\", \"wuhan\", \"yokohama\", \"yokohama\", \"you\", \"you\", \"you\", \"you\", \"you\", \"you\", \"you\", \"you\", \"you\", \"you\", \"your\", \"your\", \"your\", \"your\", \"your\", \"your\", \"your\", \"your\", \"your\"]}, \"R\": 30, \"lambda.step\": 0.01, \"plot.opts\": {\"xlab\": \"PC1\", \"ylab\": \"PC2\"}, \"topic.order\": [2, 9, 5, 8, 1, 3, 6, 7, 4, 10]};\n",
       "\n",
       "function LDAvis_load_lib(url, callback){\n",
       "  var s = document.createElement('script');\n",
       "  s.src = url;\n",
       "  s.async = true;\n",
       "  s.onreadystatechange = s.onload = callback;\n",
       "  s.onerror = function(){console.warn(\"failed to load library \" + url);};\n",
       "  document.getElementsByTagName(\"head\")[0].appendChild(s);\n",
       "}\n",
       "\n",
       "if(typeof(LDAvis) !== \"undefined\"){\n",
       "   // already loaded: just create the visualization\n",
       "   !function(LDAvis){\n",
       "       new LDAvis(\"#\" + \"ldavis_el86251125163630323984336522\", ldavis_el86251125163630323984336522_data);\n",
       "   }(LDAvis);\n",
       "}else if(typeof define === \"function\" && define.amd){\n",
       "   // require.js is available: use it to load d3/LDAvis\n",
       "   require.config({paths: {d3: \"https://cdnjs.cloudflare.com/ajax/libs/d3/3.5.5/d3.min\"}});\n",
       "   require([\"d3\"], function(d3){\n",
       "      window.d3 = d3;\n",
       "      LDAvis_load_lib(\"https://cdn.rawgit.com/bmabey/pyLDAvis/files/ldavis.v1.0.0.js\", function(){\n",
       "        new LDAvis(\"#\" + \"ldavis_el86251125163630323984336522\", ldavis_el86251125163630323984336522_data);\n",
       "      });\n",
       "    });\n",
       "}else{\n",
       "    // require.js not available: dynamically load d3 & LDAvis\n",
       "    LDAvis_load_lib(\"https://cdnjs.cloudflare.com/ajax/libs/d3/3.5.5/d3.min.js\", function(){\n",
       "         LDAvis_load_lib(\"https://cdn.rawgit.com/bmabey/pyLDAvis/files/ldavis.v1.0.0.js\", function(){\n",
       "                 new LDAvis(\"#\" + \"ldavis_el86251125163630323984336522\", ldavis_el86251125163630323984336522_data);\n",
       "            })\n",
       "         });\n",
       "}\n",
       "</script>"
      ],
      "text/plain": [
       "<IPython.core.display.HTML object>"
      ]
     },
     "execution_count": 63,
     "metadata": {},
     "output_type": "execute_result"
    }
   ],
   "source": [
    "# !pip install pyLDAvis\n",
    "import pyLDAvis.gensim\n",
    "lda_display = pyLDAvis.gensim.prepare(model, corpus, dictionary, sort_topics=True)\n",
    "pyLDAvis.display(lda_display)"
   ]
  },
  {
   "cell_type": "code",
   "execution_count": 64,
   "metadata": {},
   "outputs": [
    {
     "name": "stdout",
     "output_type": "stream",
     "text": [
      "LdaModel(num_terms=1441, num_topics=30, decay=0.5, chunksize=2000)\n",
      "Saving model in model30.gensim\n",
      "\n"
     ]
    }
   ],
   "source": [
    "import numpy as np\n",
    "from gensim.models import LdaModel\n",
    "seed_value= 1234\n",
    "np.random.seed(seed_value)\n",
    "# Set training parameters.\n",
    "NUM_TOPICS = 30\n",
    "chunksize = 2000\n",
    "passes = 30\n",
    "iterations = 500\n",
    "eval_every = None  # Don't evaluate model perplexity, takes too much time.\n",
    "\n",
    "# Make a index to word dictionary.\n",
    "temp = dictionary[0]  # This is only to \"load\" the dictionary.\n",
    "id2word = dictionary.id2token\n",
    "\n",
    "model = LdaModel(\n",
    "    corpus=corpus,\n",
    "    id2word=id2word,\n",
    "    chunksize=chunksize,\n",
    "    alpha='auto',\n",
    "    eta='auto',\n",
    "    iterations=iterations,\n",
    "    num_topics=NUM_TOPICS,\n",
    "    passes=passes,\n",
    "    eval_every=eval_every\n",
    ")\n",
    "print(model)\n",
    "outputfile = f'model{NUM_TOPICS}.gensim'\n",
    "print(\"Saving model in \" + outputfile)\n",
    "print(\"\")\n",
    "model.save(outputfile)"
   ]
  },
  {
   "cell_type": "code",
   "execution_count": 65,
   "metadata": {},
   "outputs": [
    {
     "name": "stdout",
     "output_type": "stream",
     "text": [
      "Average topic coherence: -1.0024.\n",
      "[([(0.059220396, 'february'),\n",
      "   (0.02050294, 'wuhan'),\n",
      "   (0.01890853, 'island'),\n",
      "   (0.016768293, 'flight'),\n",
      "   (0.014672752, 'christmas'),\n",
      "   (0.014336443, 'christmas_island'),\n",
      "   (0.012821459, 'case'),\n",
      "   (0.012744003, 'february_february'),\n",
      "   (0.012593099, 'china'),\n",
      "   (0.0122646885, 'january_january'),\n",
      "   (0.0117761055, 'confirmed'),\n",
      "   (0.011633937, 'virus'),\n",
      "   (0.010158211, 'queensland'),\n",
      "   (0.009733864, 'evacuee'),\n",
      "   (0.009469852, 'aedt'),\n",
      "   (0.009134288, 'two'),\n",
      "   (0.007892864, 'quarantine'),\n",
      "   (0.007821722, 'western'),\n",
      "   (0.007560936, 'south_australia'),\n",
      "   (0.00698679, 'japan')],\n",
      "  -0.4287685850205632),\n",
      " ([(0.03412316, 'ship'),\n",
      "   (0.024325259, 'cruise'),\n",
      "   (0.021915182, 'passenger'),\n",
      "   (0.019432295, 'february'),\n",
      "   (0.018243931, 'princess'),\n",
      "   (0.016628819, 'diamond'),\n",
      "   (0.016510328, 'diamond_princess'),\n",
      "   (0.016370088, 'cruise_ship'),\n",
      "   (0.014741474, 'japan'),\n",
      "   (0.011055808, 'board'),\n",
      "   (0.010524059, 'on_board'),\n",
      "   (0.009456983, 'quarantine'),\n",
      "   (0.009400822, 'virus'),\n",
      "   (0.008588267, 'tested'),\n",
      "   (0.0083596455, 'yokohama'),\n",
      "   (0.0073454212, 'quarantined'),\n",
      "   (0.006915818, 'medical'),\n",
      "   (0.0068978267, 'positive'),\n",
      "   (0.0064376215, 'tested_positive'),\n",
      "   (0.00626243, 'two')],\n",
      "  -0.5489874976232806),\n",
      " ([(0.018465552, 'virus'),\n",
      "   (0.016243009, 'wuhan'),\n",
      "   (0.015750362, 'china'),\n",
      "   (0.011211717, 'case'),\n",
      "   (0.0102626495, 'symptom'),\n",
      "   (0.009154085, 'hospital'),\n",
      "   (0.008219822, 'patient'),\n",
      "   (0.0073239943, 'confirmed'),\n",
      "   (0.00687037, 'medical'),\n",
      "   (0.0068169027, 'spread'),\n",
      "   (0.006056545, 'may'),\n",
      "   (0.0059839543, 'outbreak'),\n",
      "   (0.0059794327, 'his'),\n",
      "   (0.0059590614, 'city'),\n",
      "   (0.005721483, 'chinese'),\n",
      "   (0.0057109776, 'melbourne'),\n",
      "   (0.0055775396, 'infected'),\n",
      "   (0.0055740937, 'deadly'),\n",
      "   (0.005557341, 'travel'),\n",
      "   (0.005335421, 'man')],\n",
      "  -0.6501940567234932),\n",
      " ([(0.029192308, 'pandemic'),\n",
      "   (0.020873103, 'february'),\n",
      "   (0.015399844, 'thursday'),\n",
      "   (0.015246072, 'on_thursday'),\n",
      "   (0.014419276, 'minister'),\n",
      "   (0.01237282, 'morrison'),\n",
      "   (0.012214348, 'plan'),\n",
      "   (0.0119411545, 'virus'),\n",
      "   (0.011770132, 'u'),\n",
      "   (0.011730924, 'would'),\n",
      "   (0.01130427, 'china'),\n",
      "   (0.008942747, 'ship'),\n",
      "   (0.008882421, 'prime_minister'),\n",
      "   (0.008845383, 'prime'),\n",
      "   (0.008669627, 'government'),\n",
      "   (0.0085056415, 'cruise'),\n",
      "   (0.008046726, 'world'),\n",
      "   (0.008007995, 'told'),\n",
      "   (0.007973375, 'need'),\n",
      "   (0.0072571025, 'cruise_ship')],\n",
      "  -0.7045661030141466),\n",
      " ([(0.04376263, 'you'),\n",
      "   (0.026270848, 'your'),\n",
      "   (0.023211408, 'if'),\n",
      "   (0.010689706, 'get'),\n",
      "   (0.009872077, 'if_you'),\n",
      "   (0.009856777, 'so'),\n",
      "   (0.009715989, 'when'),\n",
      "   (0.008821185, 'do'),\n",
      "   (0.008788838, 'should'),\n",
      "   (0.008474326, 'time'),\n",
      "   (0.007909835, 'what'),\n",
      "   (0.00726737, 'car'),\n",
      "   (0.0071919444, 'them'),\n",
      "   (0.006907366, 'work'),\n",
      "   (0.006881317, 'some'),\n",
      "   (0.0062177144, 'make'),\n",
      "   (0.0059814695, 'go'),\n",
      "   (0.0058607, 'just'),\n",
      "   (0.0058168843, 'like'),\n",
      "   (0.0056911972, 'would')],\n",
      "  -0.74780863842138),\n",
      " ([(0.033209454, 'february'),\n",
      "   (0.026604658, 'student'),\n",
      "   (0.022654522, 'china'),\n",
      "   (0.020877818, 'ban'),\n",
      "   (0.017548904, 'travel'),\n",
      "   (0.013570782, 'chinese'),\n",
      "   (0.01242861, 'per'),\n",
      "   (0.012418281, 'cent'),\n",
      "   (0.012211576, 'per_cent'),\n",
      "   (0.011550725, 'travel_ban'),\n",
      "   (0.009425077, 'country'),\n",
      "   (0.008669312, 'international'),\n",
      "   (0.008507174, 'would'),\n",
      "   (0.008057222, 'government'),\n",
      "   (0.007859469, 'week'),\n",
      "   (0.007432841, 'chinese_student'),\n",
      "   (0.006472636, 'sydney'),\n",
      "   (0.006228399, 'mainland_china'),\n",
      "   (0.006219773, 'mainland'),\n",
      "   (0.006190924, 'pictured')],\n",
      "  -0.7533832593231506),\n",
      " ([(0.029889382, 'on_wednesday'),\n",
      "   (0.029824046, 'wednesday'),\n",
      "   (0.020192554, 'diagnosed'),\n",
      "   (0.01947634, 'confirmed'),\n",
      "   (0.017906897, 'china'),\n",
      "   (0.017264955, 'queensland'),\n",
      "   (0.016912585, 'chinese'),\n",
      "   (0.015997032, 'diagnosed_with'),\n",
      "   (0.014610936, 'wuhan'),\n",
      "   (0.01285048, 'virus'),\n",
      "   (0.012310634, 'hotel'),\n",
      "   (0.011816469, 'confirmed_case'),\n",
      "   (0.011112661, 'city'),\n",
      "   (0.010505007, 'case'),\n",
      "   (0.01048025, 'national'),\n",
      "   (0.010050245, 'aedt'),\n",
      "   (0.0099632265, 'outbreak'),\n",
      "   (0.009918395, 'team'),\n",
      "   (0.009802493, 'four'),\n",
      "   (0.009163699, 'chief')],\n",
      "  -0.7660913807027899),\n",
      " ([(0.037181683, 'virus'),\n",
      "   (0.018373046, 'case'),\n",
      "   (0.012352097, 'disease'),\n",
      "   (0.010640562, 'patient'),\n",
      "   (0.010448926, 'animal'),\n",
      "   (0.009802521, 'spread'),\n",
      "   (0.009517174, 'china'),\n",
      "   (0.009464021, 'outbreak'),\n",
      "   (0.009334888, 'symptom'),\n",
      "   (0.008842886, 'so'),\n",
      "   (0.008195413, 'sars'),\n",
      "   (0.007665368, 'illness'),\n",
      "   (0.007527792, 'flu'),\n",
      "   (0.007328499, 'human'),\n",
      "   (0.0073180855, 'infection'),\n",
      "   (0.0072463527, 'cause'),\n",
      "   (0.006993588, 'around'),\n",
      "   (0.0066278637, 'infected'),\n",
      "   (0.006522156, 'what'),\n",
      "   (0.006267459, 'expert')],\n",
      "  -0.8251218506413881),\n",
      " ([(0.031318784, 'china'),\n",
      "   (0.02084728, 'case'),\n",
      "   (0.015312309, 'death'),\n",
      "   (0.013761481, 'chinese'),\n",
      "   (0.0131584555, 'wuhan'),\n",
      "   (0.01211126, 'saturday'),\n",
      "   (0.011494361, 'number'),\n",
      "   (0.01025349, 'on_saturday'),\n",
      "   (0.010066519, 'reuters'),\n",
      "   (0.009992584, 'sars'),\n",
      "   (0.009169457, 'outbreak'),\n",
      "   (0.009050204, 'reported'),\n",
      "   (0.008936702, 'mainland'),\n",
      "   (0.008560129, 'number_of'),\n",
      "   (0.008054235, 'infection'),\n",
      "   (0.007970448, 'kong'),\n",
      "   (0.007969168, 'hong'),\n",
      "   (0.007934339, 'official'),\n",
      "   (0.007824604, 'hong_kong'),\n",
      "   (0.0076045413, 'virus')],\n",
      "  -0.8656443272612576),\n",
      " ([(0.03867987, 'student'),\n",
      "   (0.013795968, 'online'),\n",
      "   (0.012284656, 'class'),\n",
      "   (0.011528896, 'uk'),\n",
      "   (0.009312897, 'out'),\n",
      "   (0.0091380235, 'week'),\n",
      "   (0.008532851, 'semester'),\n",
      "   (0.008456718, 'could'),\n",
      "   (0.008439164, 'travel'),\n",
      "   (0.007785719, 'spread'),\n",
      "   (0.007556884, 'chinese'),\n",
      "   (0.0072146254, 'other'),\n",
      "   (0.006414192, 'monash'),\n",
      "   (0.0064060716, 'start'),\n",
      "   (0.006277376, 'food'),\n",
      "   (0.0062723733, 'staff'),\n",
      "   (0.005961031, 'he_said'),\n",
      "   (0.0059421463, 'medium'),\n",
      "   (0.005927966, 'government'),\n",
      "   (0.005859099, 'virus')],\n",
      "  -0.881794368173436),\n",
      " ([(0.033697598, 'she'),\n",
      "   (0.032068074, 'her'),\n",
      "   (0.022990108, 'his'),\n",
      "   (0.014985767, 'when'),\n",
      "   (0.011004011, 'my'),\n",
      "   (0.009706164, 'pictured'),\n",
      "   (0.009550405, 'first'),\n",
      "   (0.009264398, 'family'),\n",
      "   (0.009186749, 'into'),\n",
      "   (0.008387302, 'just'),\n",
      "   (0.0075118584, 'out'),\n",
      "   (0.007119462, 'me'),\n",
      "   (0.006802527, 'time'),\n",
      "   (0.006296976, 'left'),\n",
      "   (0.006070539, 'mr'),\n",
      "   (0.0057130046, 'get'),\n",
      "   (0.0056573967, 'child'),\n",
      "   (0.005606917, 'she_wa'),\n",
      "   (0.0053209825, 'home'),\n",
      "   (0.005172861, 'm')],\n",
      "  -0.8975832139499591),\n",
      " ([(0.0123873865, 'government'),\n",
      "   (0.011042444, 'minister'),\n",
      "   (0.00984888, 'case'),\n",
      "   (0.009019073, 'thursday'),\n",
      "   (0.008900787, 'test'),\n",
      "   (0.0084428545, 'number'),\n",
      "   (0.008311578, 'week'),\n",
      "   (0.0081360815, 'announced'),\n",
      "   (0.007975954, 'would'),\n",
      "   (0.007919491, 'on_thursday'),\n",
      "   (0.007816698, 'down'),\n",
      "   (0.007458826, 'home'),\n",
      "   (0.007428815, 'country'),\n",
      "   (0.007100603, 'virus'),\n",
      "   (0.006831122, 'will_be'),\n",
      "   (0.006634453, 'premier'),\n",
      "   (0.006048157, 'number_of'),\n",
      "   (0.006046044, 'lockdown'),\n",
      "   (0.0059531, 'morrison'),\n",
      "   (0.0058018467, 'he_said')],\n",
      "  -0.9051083864364641),\n",
      " ([(0.016121533, 'say'),\n",
      "   (0.011327627, 'research'),\n",
      "   (0.011240102, 'could'),\n",
      "   (0.0089385705, 'researcher'),\n",
      "   (0.0077458215, 'time'),\n",
      "   (0.0075886883, 'scientist'),\n",
      "   (0.0074650473, 'change'),\n",
      "   (0.0073195314, 'some'),\n",
      "   (0.0073049148, 'monash'),\n",
      "   (0.0069393506, 'now'),\n",
      "   (0.00628287, 'cell'),\n",
      "   (0.0062320656, 'professor'),\n",
      "   (0.006028627, 'dr'),\n",
      "   (0.0059893834, 'technology'),\n",
      "   (0.00598366, 'like'),\n",
      "   (0.005830245, 'world'),\n",
      "   (0.0058225924, 'climate'),\n",
      "   (0.0057723145, 'most'),\n",
      "   (0.0055622705, 'these'),\n",
      "   (0.0055489778, 'over')],\n",
      "  -0.9186875534074258),\n",
      " ([(0.031984027, 'climate'),\n",
      "   (0.02629507, 'change'),\n",
      "   (0.025135463, 'climate_change'),\n",
      "   (0.024722474, 'fire'),\n",
      "   (0.020585788, 'morrison'),\n",
      "   (0.018653229, 'government'),\n",
      "   (0.0177664, 'country'),\n",
      "   (0.017762516, 'minister'),\n",
      "   (0.013916617, 'risk'),\n",
      "   (0.011093984, 'prime'),\n",
      "   (0.010801468, 'prime_minister'),\n",
      "   (0.010408385, 'leader'),\n",
      "   (0.009842044, 'scott_morrison'),\n",
      "   (0.009794604, 'only'),\n",
      "   (0.009258535, 'his'),\n",
      "   (0.009118, 'weather'),\n",
      "   (0.008898469, 'when'),\n",
      "   (0.0085768, 'scott'),\n",
      "   (0.007707175, 'global'),\n",
      "   (0.007675971, 'spread')],\n",
      "  -0.9501737687034126),\n",
      " ([(0.016826633, 'china'),\n",
      "   (0.015970925, 'flight'),\n",
      "   (0.011763639, 'virus'),\n",
      "   (0.0115899285, 'wuhan'),\n",
      "   (0.011191318, 'melbourne'),\n",
      "   (0.010953236, 'sydney'),\n",
      "   (0.010239863, 'chinese'),\n",
      "   (0.009384329, 'two'),\n",
      "   (0.009230201, 'confirmed'),\n",
      "   (0.0084776655, 'week'),\n",
      "   (0.007871929, 'infected'),\n",
      "   (0.007450817, 'from_wuhan'),\n",
      "   (0.0074090315, 'she'),\n",
      "   (0.0069554914, 'isolation'),\n",
      "   (0.0069014183, 'hospital'),\n",
      "   (0.006709828, 'airline'),\n",
      "   (0.006241475, 'coast'),\n",
      "   (0.006118762, 'nsw'),\n",
      "   (0.0060743205, 'gold_coast'),\n",
      "   (0.0060331156, 'year_old')],\n",
      "  -0.9724121920754044),\n",
      " ([(0.039202873, 'fire'),\n",
      "   (0.030189272, 'smoke'),\n",
      "   (0.022245586, 'air'),\n",
      "   (0.016599681, 'bushfires'),\n",
      "   (0.01203025, 'bushfire'),\n",
      "   (0.0117002195, 'condition'),\n",
      "   (0.010992802, 'quality'),\n",
      "   (0.0101984795, 'air_quality'),\n",
      "   (0.009869468, 'canberra'),\n",
      "   (0.009578213, 'climate'),\n",
      "   (0.008268411, 'temperature'),\n",
      "   (0.007892748, 'risk'),\n",
      "   (0.0077223596, 'week'),\n",
      "   (0.006924908, 'month'),\n",
      "   (0.0067353467, 'summer'),\n",
      "   (0.006615137, 'million'),\n",
      "   (0.0063904314, 'across'),\n",
      "   (0.0063673276, 'area'),\n",
      "   (0.0063135684, 'blaze'),\n",
      "   (0.006161072, 'worst')],\n",
      "  -1.003778270628422),\n",
      " ([(0.018724049, 'would'),\n",
      "   (0.018386243, 'school'),\n",
      "   (0.0139525905, 'home'),\n",
      "   (0.013040212, 'if'),\n",
      "   (0.011822685, 'could'),\n",
      "   (0.0106444955, 'social'),\n",
      "   (0.010359425, 'would_be'),\n",
      "   (0.00949702, 'open'),\n",
      "   (0.007829375, 'distancing'),\n",
      "   (0.007705614, 'state'),\n",
      "   (0.007523885, 'measure'),\n",
      "   (0.007405494, 'will_be'),\n",
      "   (0.007214706, 'professor'),\n",
      "   (0.0067500467, 'told'),\n",
      "   (0.0067489664, 'business'),\n",
      "   (0.0067190616, 'what'),\n",
      "   (0.0067046164, 'some'),\n",
      "   (0.0066480017, 'go'),\n",
      "   (0.0061463746, 'gathering'),\n",
      "   (0.006088174, 'other')],\n",
      "  -1.0082610031789767),\n",
      " ([(0.026120204, 'food'),\n",
      "   (0.025476104, 'should'),\n",
      "   (0.023877282, 'february'),\n",
      "   (0.014284388, 'supply'),\n",
      "   (0.0133819645, 'game'),\n",
      "   (0.012310429, 'start'),\n",
      "   (0.012029834, 'tokyo'),\n",
      "   (0.011298385, 'spread'),\n",
      "   (0.010739546, 'virus'),\n",
      "   (0.010065892, 'week'),\n",
      "   (0.009811003, 'survival'),\n",
      "   (0.009100234, 'diamond'),\n",
      "   (0.009099209, 'diamond_princess'),\n",
      "   (0.009060253, 'princess'),\n",
      "   (0.008943563, 'ship'),\n",
      "   (0.008848496, 'outbreak'),\n",
      "   (0.008489486, 'cruise'),\n",
      "   (0.008062917, 'pandemic'),\n",
      "   (0.007866416, 'italy'),\n",
      "   (0.007819099, 'government')],\n",
      "  -1.0102892280188456),\n",
      " ([(0.03302054, 'february'),\n",
      "   (0.015954552, 'country'),\n",
      "   (0.012568215, 'case'),\n",
      "   (0.012331676, 'she'),\n",
      "   (0.010553746, 'queensland'),\n",
      "   (0.00955113, 'dr'),\n",
      "   (0.0075173266, 'indonesia'),\n",
      "   (0.007509459, 'covid'),\n",
      "   (0.007102995, 'world'),\n",
      "   (0.007021375, 'coast'),\n",
      "   (0.0068704193, 'february_february'),\n",
      "   (0.0068385387, 'gold'),\n",
      "   (0.0066815834, 'told'),\n",
      "   (0.0065901633, 'pandemic'),\n",
      "   (0.0065802997, 'january_january'),\n",
      "   (0.0065581785, 'gold_coast'),\n",
      "   (0.006277947, 'chief'),\n",
      "   (0.0061535076, 'you'),\n",
      "   (0.005916899, 'officer'),\n",
      "   (0.0058505293, 'medical')],\n",
      "  -1.0183877544963706),\n",
      " ([(0.018390905, 'lung'),\n",
      "   (0.0153721245, 'sydney'),\n",
      "   (0.013210599, 'thursday'),\n",
      "   (0.0124544175, 'case'),\n",
      "   (0.011644706, 'wednesday'),\n",
      "   (0.011469555, 'covid'),\n",
      "   (0.011309689, 'you'),\n",
      "   (0.010408768, 'died'),\n",
      "   (0.009994087, 'melbourne'),\n",
      "   (0.0096887415, 'passenger'),\n",
      "   (0.00888633, 'get'),\n",
      "   (0.008483126, 'nsw'),\n",
      "   (0.008365147, 'plane'),\n",
      "   (0.008304124, 'last'),\n",
      "   (0.008280567, 'off'),\n",
      "   (0.008231407, 'risk'),\n",
      "   (0.007921037, 'city'),\n",
      "   (0.007394924, 'on_wednesday'),\n",
      "   (0.007296938, 'central'),\n",
      "   (0.007232944, 'ship')],\n",
      "  -1.0342318774134849),\n",
      " ([(0.02696023, 'february'),\n",
      "   (0.02662366, 'chinese'),\n",
      "   (0.019597419, 'business'),\n",
      "   (0.013127538, 'restaurant'),\n",
      "   (0.012034159, 'week'),\n",
      "   (0.010140648, 'mask'),\n",
      "   (0.009824775, 'told'),\n",
      "   (0.007900386, 'area'),\n",
      "   (0.007815513, 'face'),\n",
      "   (0.0077379355, 'local'),\n",
      "   (0.007670026, 'mail'),\n",
      "   (0.007623961, 'sydney'),\n",
      "   (0.0074086906, 'indonesia'),\n",
      "   (0.007366502, 'daily'),\n",
      "   (0.0071927975, 'out'),\n",
      "   (0.006588765, 'outbreak'),\n",
      "   (0.00658404, 'last'),\n",
      "   (0.006414494, 'mr'),\n",
      "   (0.0063521033, 'shop'),\n",
      "   (0.006293157, 'february_february')],\n",
      "  -1.0995982259122277),\n",
      " ([(0.03857022, 'school'),\n",
      "   (0.02062109, 'case'),\n",
      "   (0.014312275, 'tested'),\n",
      "   (0.012468893, 'state'),\n",
      "   (0.012451816, 'melbourne'),\n",
      "   (0.011775812, 'student'),\n",
      "   (0.011022449, 'sydney'),\n",
      "   (0.010864674, 'virus'),\n",
      "   (0.009735708, 'parent'),\n",
      "   (0.009182841, 'positive'),\n",
      "   (0.008687701, 'child'),\n",
      "   (0.00858232, 'department'),\n",
      "   (0.008375541, 'while'),\n",
      "   (0.008182427, 'march'),\n",
      "   (0.00801707, 'infected'),\n",
      "   (0.007665821, 'our'),\n",
      "   (0.007619403, 'tested_positive'),\n",
      "   (0.007550964, 'party'),\n",
      "   (0.0069628535, 'his'),\n",
      "   (0.0068915347, 'friday')],\n",
      "  -1.1023631829240947),\n",
      " ([(0.022342516, 'work'),\n",
      "   (0.020867407, 'news'),\n",
      "   (0.01825976, 'worker'),\n",
      "   (0.0180477, 'company'),\n",
      "   (0.01587414, 'leave'),\n",
      "   (0.015070178, 'abc'),\n",
      "   (0.013886541, 'office'),\n",
      "   (0.012305734, 'medium'),\n",
      "   (0.012172781, 'home'),\n",
      "   (0.01123404, 'story'),\n",
      "   (0.010071455, 'time'),\n",
      "   (0.008974627, 'service'),\n",
      "   (0.0081486115, 'told'),\n",
      "   (0.007817599, 'when'),\n",
      "   (0.007809384, 'report'),\n",
      "   (0.0075378534, 'daily'),\n",
      "   (0.007527178, 'some'),\n",
      "   (0.007376101, 'should'),\n",
      "   (0.007333272, 'call'),\n",
      "   (0.007269908, 'pandemic')],\n",
      "  -1.1030723929740893),\n",
      " ([(0.040543072, 'mask'),\n",
      "   (0.031351652, 'face'),\n",
      "   (0.026989162, 'face_mask'),\n",
      "   (0.020592855, 'store'),\n",
      "   (0.019651964, 'out'),\n",
      "   (0.01807014, 'hand'),\n",
      "   (0.01646815, 'february'),\n",
      "   (0.013224653, 'shelf'),\n",
      "   (0.01293767, 'stock'),\n",
      "   (0.01112796, 'customer'),\n",
      "   (0.010406752, 'supply'),\n",
      "   (0.009426035, 'demand'),\n",
      "   (0.009076939, 'virus'),\n",
      "   (0.008473272, 'toilet'),\n",
      "   (0.00781315, 'paper'),\n",
      "   (0.007647738, 'told'),\n",
      "   (0.0074508036, 'sold'),\n",
      "   (0.0071722725, 'no'),\n",
      "   (0.007132398, 'around'),\n",
      "   (0.0070916004, 'supermarket')],\n",
      "  -1.1532587369118266),\n",
      " ([(0.045716465, 'she'),\n",
      "   (0.040144082, 'woman'),\n",
      "   (0.034554303, 'her'),\n",
      "   (0.01737708, 'first'),\n",
      "   (0.015664114, 'say'),\n",
      "   (0.014627067, 'council'),\n",
      "   (0.012672466, 'fine'),\n",
      "   (0.012092299, 'she_wa'),\n",
      "   (0.011063912, 'became'),\n",
      "   (0.008200126, 'female'),\n",
      "   (0.007384273, 'mask'),\n",
      "   (0.0070197373, 'history'),\n",
      "   (0.0068232007, 'world'),\n",
      "   (0.006766234, 'asia'),\n",
      "   (0.0066404496, 'work'),\n",
      "   (0.006267524, 'three'),\n",
      "   (0.005823955, 'wearing'),\n",
      "   (0.0057596066, 'still'),\n",
      "   (0.0056484374, 'my'),\n",
      "   (0.005626513, 'made')],\n",
      "  -1.230289680844678),\n",
      " ([(0.025766017, 'treatment'),\n",
      "   (0.024677757, 'study'),\n",
      "   (0.017806351, 'patient'),\n",
      "   (0.010047933, 'data'),\n",
      "   (0.009456117, 'dr'),\n",
      "   (0.0086921, 'result'),\n",
      "   (0.008393209, 'home'),\n",
      "   (0.008102317, 'death'),\n",
      "   (0.008039115, 'doctor'),\n",
      "   (0.007820315, 'no'),\n",
      "   (0.0076635457, 'disease'),\n",
      "   (0.0074944394, 'because'),\n",
      "   (0.0073425737, 'body'),\n",
      "   (0.007072819, 'finding'),\n",
      "   (0.0069988254, 'increase'),\n",
      "   (0.0065816715, 'say'),\n",
      "   (0.006520678, 'care'),\n",
      "   (0.006416319, 'hundred'),\n",
      "   (0.006390328, 'hundred_of'),\n",
      "   (0.0063890247, 'condition')],\n",
      "  -1.2637292828092532),\n",
      " ([(0.041809365, 'patient'),\n",
      "   (0.02999989, 'study'),\n",
      "   (0.021365589, 'mass'),\n",
      "   (0.021029413, 'analysis'),\n",
      "   (0.018986268, 'normal'),\n",
      "   (0.01847352, 'level'),\n",
      "   (0.017360682, 'test'),\n",
      "   (0.016266555, 'using'),\n",
      "   (0.014962813, 'group'),\n",
      "   (0.014880516, 'between'),\n",
      "   (0.014776379, 'amp'),\n",
      "   (0.013098907, 'used'),\n",
      "   (0.012829332, 'woman'),\n",
      "   (0.01163121, 'those'),\n",
      "   (0.011510812, 'immune'),\n",
      "   (0.010876976, 'stage'),\n",
      "   (0.00996512, 'three'),\n",
      "   (0.00991856, 'compared'),\n",
      "   (0.009875834, 'cell'),\n",
      "   (0.009243956, 'risk')],\n",
      "  -1.444795193745444),\n",
      " ([(0.057463564, 'woman'),\n",
      "   (0.027079454, 'specie'),\n",
      "   (0.017239975, 'february'),\n",
      "   (0.016721131, 'aedt'),\n",
      "   (0.014354099, 'young'),\n",
      "   (0.013482235, 'both'),\n",
      "   (0.012451728, 'per'),\n",
      "   (0.0122263525, 'cent'),\n",
      "   (0.012215709, 'per_cent'),\n",
      "   (0.0116185825, 'published'),\n",
      "   (0.011399892, 'them'),\n",
      "   (0.010593224, 'discovered'),\n",
      "   (0.010542685, 'study'),\n",
      "   (0.009632884, 'image'),\n",
      "   (0.009511124, 'related'),\n",
      "   (0.009404684, 'mother'),\n",
      "   (0.00898361, 'female'),\n",
      "   (0.008981628, 'updated'),\n",
      "   (0.008642189, 'published_aedt'),\n",
      "   (0.008500702, 'advertisement')],\n",
      "  -1.4742785222446515),\n",
      " ([(0.019125178, 'market'),\n",
      "   (0.014194841, 'down'),\n",
      "   (0.014003246, 'february'),\n",
      "   (0.013948387, 'mr'),\n",
      "   (0.013121881, 'trade'),\n",
      "   (0.012723496, 'melbourne'),\n",
      "   (0.01189023, 'video'),\n",
      "   (0.011104225, 'sign'),\n",
      "   (0.010924625, 'aedt'),\n",
      "   (0.010487605, 'animal'),\n",
      "   (0.009563901, 'told'),\n",
      "   (0.009317872, 'share'),\n",
      "   (0.009202916, 'customer'),\n",
      "   (0.008109861, 'economy'),\n",
      "   (0.007694102, 'daily'),\n",
      "   (0.007463279, 'global'),\n",
      "   (0.007075416, 'law'),\n",
      "   (0.0070274794, 'our'),\n",
      "   (0.0069372174, 'economic'),\n",
      "   (0.006871606, 'tuesday')],\n",
      "  -1.6318213620364328),\n",
      " ([(0.06586143, 'area'),\n",
      "   (0.022729348, 'data'),\n",
      "   (0.016130803, 'based'),\n",
      "   (0.0147279, 'each'),\n",
      "   (0.011925543, 'analysis'),\n",
      "   (0.011652402, 'network'),\n",
      "   (0.011402794, 'based_on'),\n",
      "   (0.010727546, 'study'),\n",
      "   (0.0105017945, 'site'),\n",
      "   (0.010343075, 'result'),\n",
      "   (0.010158289, 'resource'),\n",
      "   (0.010003761, 'author'),\n",
      "   (0.009847263, 'image'),\n",
      "   (0.009625675, 'cell'),\n",
      "   (0.008588529, 'peak'),\n",
      "   (0.008320078, 'location'),\n",
      "   (0.007990211, 'human'),\n",
      "   (0.007915756, 'case'),\n",
      "   (0.007875892, 'available'),\n",
      "   (0.007859902, 'through')],\n",
      "  -1.6776914776805436)]\n"
     ]
    }
   ],
   "source": [
    "top_topics = model.top_topics(corpus) #, num_words=20)\n",
    "\n",
    "# Average topic coherence is the sum of topic coherences of all topics, divided by the number of topics.\n",
    "avg_topic_coherence = sum([t[1] for t in top_topics]) / NUM_TOPICS\n",
    "print('Average topic coherence: %.4f.' % avg_topic_coherence)\n",
    "\n",
    "from pprint import pprint\n",
    "pprint(top_topics)"
   ]
  },
  {
   "cell_type": "code",
   "execution_count": 66,
   "metadata": {},
   "outputs": [
    {
     "name": "stderr",
     "output_type": "stream",
     "text": [
      "/Users/manojmanu/anaconda3/lib/python3.7/site-packages/pyLDAvis/_prepare.py:257: FutureWarning: Sorting because non-concatenation axis is not aligned. A future version\n",
      "of pandas will change to not sort by default.\n",
      "\n",
      "To accept the future behavior, pass 'sort=False'.\n",
      "\n",
      "To retain the current behavior and silence the warning, pass 'sort=True'.\n",
      "\n",
      "  return pd.concat([default_term_info] + list(topic_dfs))\n"
     ]
    },
    {
     "data": {
      "text/html": [
       "\n",
       "<link rel=\"stylesheet\" type=\"text/css\" href=\"https://cdn.rawgit.com/bmabey/pyLDAvis/files/ldavis.v1.0.0.css\">\n",
       "\n",
       "\n",
       "<div id=\"ldavis_el86251125030736729800095797\"></div>\n",
       "<script type=\"text/javascript\">\n",
       "\n",
       "var ldavis_el86251125030736729800095797_data = {\"mdsDat\": {\"x\": [-0.17858172575195466, 0.08601795891157948, 0.1267350256012732, 0.1987118154692213, 0.10671076600223428, 0.15913576576264143, -0.04894550682793355, -0.14164154455356298, -0.0035754936716784294, -0.09778836775062046, -0.06282972797169861, 0.0876456200386804, 0.07144976368116625, -0.2410603600032257, 0.08027692602824689, 0.07069366213823024, 0.12768961415315147, -0.2357611107646292, 0.11592375845394066, 0.011360864239284063, -0.02494190326082764, -0.0333736459560138, -0.012745946010259496, 0.11705700058845941, -0.11902054237408269, -0.12199459285873333, -0.1277921592703507, 0.15656761787162157, 0.019758922804172605, -0.08568245471833226], \"y\": [-0.033472255411240555, 0.11106959320443938, 0.10138318793478154, 0.04898582438238215, -0.0283580055849471, 0.019290956301764958, 0.13639319664726685, -0.0820183655971509, -0.08292753001034045, -0.006073743247522527, -0.0962897470016985, 0.10875805365915753, 0.028310474087927227, 0.11962288542787336, -0.1325092878937719, -0.13079596078122244, -0.012836242229419922, 0.17921529721984536, -0.06446722020285983, -0.06000140567684349, -0.01597896066415524, -0.03244608642539715, -0.10851466552777637, -0.06115212468101881, -0.09631532088634541, 0.055247724092460364, -0.1316876155561449, 0.1675997719448633, 0.04019071837645098, 0.059776854098642675], \"topics\": [1, 2, 3, 4, 5, 6, 7, 8, 9, 10, 11, 12, 13, 14, 15, 16, 17, 18, 19, 20, 21, 22, 23, 24, 25, 26, 27, 28, 29, 30], \"cluster\": [1, 1, 1, 1, 1, 1, 1, 1, 1, 1, 1, 1, 1, 1, 1, 1, 1, 1, 1, 1, 1, 1, 1, 1, 1, 1, 1, 1, 1, 1], \"Freq\": [8.368990898132324, 8.280417442321777, 6.83955192565918, 6.558669567108154, 6.38353157043457, 6.359832763671875, 5.662858963012695, 5.517274379730225, 5.469534873962402, 3.9580881595611572, 3.0870862007141113, 2.93015456199646, 2.517690896987915, 2.450166702270508, 2.4488179683685303, 2.426881790161133, 2.316011667251587, 2.269634962081909, 2.2601242065429688, 2.1362600326538086, 2.1305439472198486, 1.7528153657913208, 1.363149881362915, 1.3481028079986572, 1.2230149507522583, 1.069379448890686, 0.9515352249145508, 0.792680025100708, 0.6213353276252747, 0.5058603882789612]}, \"tinfo\": {\"Category\": [\"Default\", \"Default\", \"Default\", \"Default\", \"Default\", \"Default\", \"Default\", \"Default\", \"Default\", \"Default\", \"Default\", \"Default\", \"Default\", \"Default\", \"Default\", \"Default\", \"Default\", \"Default\", \"Default\", \"Default\", \"Default\", \"Default\", \"Default\", \"Default\", \"Default\", \"Default\", \"Default\", \"Default\", \"Default\", \"Default\", \"Topic1\", \"Topic1\", \"Topic1\", \"Topic1\", \"Topic1\", \"Topic1\", \"Topic1\", \"Topic1\", \"Topic1\", \"Topic1\", \"Topic1\", \"Topic1\", \"Topic1\", \"Topic1\", \"Topic1\", \"Topic1\", \"Topic1\", \"Topic1\", \"Topic1\", \"Topic1\", \"Topic1\", \"Topic1\", \"Topic1\", \"Topic1\", \"Topic1\", \"Topic1\", \"Topic1\", \"Topic1\", \"Topic1\", \"Topic1\", \"Topic1\", \"Topic1\", \"Topic1\", \"Topic1\", \"Topic1\", \"Topic1\", \"Topic1\", \"Topic1\", \"Topic1\", \"Topic1\", \"Topic1\", \"Topic1\", \"Topic1\", \"Topic1\", \"Topic1\", \"Topic1\", \"Topic1\", \"Topic1\", \"Topic1\", \"Topic1\", \"Topic1\", \"Topic1\", \"Topic1\", \"Topic1\", \"Topic1\", \"Topic1\", \"Topic1\", \"Topic1\", \"Topic2\", \"Topic2\", \"Topic2\", \"Topic2\", \"Topic2\", \"Topic2\", \"Topic2\", \"Topic2\", \"Topic2\", \"Topic2\", \"Topic2\", \"Topic2\", \"Topic2\", \"Topic2\", \"Topic2\", \"Topic2\", \"Topic2\", \"Topic2\", \"Topic2\", \"Topic2\", \"Topic2\", \"Topic2\", \"Topic2\", \"Topic2\", \"Topic2\", \"Topic2\", \"Topic2\", \"Topic2\", \"Topic2\", \"Topic2\", \"Topic2\", \"Topic2\", \"Topic2\", \"Topic2\", \"Topic2\", \"Topic2\", \"Topic2\", \"Topic2\", \"Topic2\", \"Topic2\", \"Topic2\", \"Topic2\", \"Topic2\", \"Topic2\", \"Topic2\", \"Topic2\", \"Topic2\", \"Topic2\", \"Topic2\", \"Topic2\", \"Topic2\", \"Topic2\", \"Topic2\", \"Topic2\", \"Topic2\", \"Topic2\", \"Topic2\", \"Topic2\", \"Topic2\", \"Topic2\", \"Topic2\", \"Topic2\", \"Topic2\", \"Topic2\", \"Topic2\", \"Topic2\", \"Topic2\", \"Topic2\", \"Topic2\", \"Topic2\", \"Topic3\", \"Topic3\", \"Topic3\", \"Topic3\", \"Topic3\", \"Topic3\", \"Topic3\", \"Topic3\", \"Topic3\", \"Topic3\", \"Topic3\", \"Topic3\", \"Topic3\", \"Topic3\", \"Topic3\", \"Topic3\", \"Topic3\", \"Topic3\", \"Topic3\", \"Topic3\", \"Topic3\", \"Topic3\", \"Topic3\", \"Topic3\", \"Topic3\", \"Topic3\", \"Topic3\", \"Topic3\", \"Topic3\", \"Topic3\", \"Topic3\", \"Topic3\", \"Topic3\", \"Topic3\", \"Topic3\", \"Topic3\", \"Topic3\", \"Topic3\", \"Topic3\", \"Topic3\", \"Topic3\", \"Topic3\", \"Topic3\", \"Topic3\", \"Topic3\", \"Topic3\", \"Topic3\", \"Topic3\", \"Topic3\", \"Topic3\", \"Topic3\", \"Topic3\", \"Topic3\", \"Topic3\", \"Topic3\", \"Topic3\", \"Topic3\", \"Topic3\", \"Topic3\", \"Topic3\", \"Topic3\", \"Topic3\", \"Topic4\", \"Topic4\", \"Topic4\", \"Topic4\", \"Topic4\", \"Topic4\", \"Topic4\", \"Topic4\", \"Topic4\", \"Topic4\", \"Topic4\", \"Topic4\", \"Topic4\", \"Topic4\", \"Topic4\", \"Topic4\", \"Topic4\", \"Topic4\", \"Topic4\", \"Topic4\", \"Topic4\", \"Topic4\", \"Topic4\", \"Topic4\", \"Topic4\", \"Topic4\", \"Topic4\", \"Topic4\", \"Topic4\", \"Topic4\", \"Topic4\", \"Topic4\", \"Topic4\", \"Topic4\", \"Topic4\", \"Topic4\", \"Topic4\", \"Topic4\", \"Topic4\", \"Topic4\", \"Topic4\", \"Topic4\", \"Topic4\", \"Topic4\", \"Topic4\", \"Topic4\", \"Topic4\", \"Topic5\", \"Topic5\", \"Topic5\", \"Topic5\", \"Topic5\", \"Topic5\", \"Topic5\", \"Topic5\", \"Topic5\", \"Topic5\", \"Topic5\", \"Topic5\", \"Topic5\", \"Topic5\", \"Topic5\", \"Topic5\", \"Topic5\", \"Topic5\", \"Topic5\", \"Topic5\", \"Topic5\", \"Topic5\", \"Topic5\", \"Topic5\", \"Topic5\", \"Topic5\", \"Topic5\", \"Topic5\", \"Topic5\", \"Topic5\", \"Topic5\", \"Topic5\", \"Topic5\", \"Topic5\", \"Topic5\", \"Topic5\", \"Topic5\", \"Topic5\", \"Topic5\", \"Topic5\", \"Topic5\", \"Topic5\", \"Topic5\", \"Topic5\", \"Topic5\", \"Topic5\", \"Topic5\", \"Topic5\", \"Topic5\", \"Topic5\", \"Topic5\", \"Topic6\", \"Topic6\", \"Topic6\", \"Topic6\", \"Topic6\", \"Topic6\", \"Topic6\", \"Topic6\", \"Topic6\", \"Topic6\", \"Topic6\", \"Topic6\", \"Topic6\", \"Topic6\", \"Topic6\", \"Topic6\", \"Topic6\", \"Topic6\", \"Topic6\", \"Topic6\", \"Topic6\", \"Topic6\", \"Topic6\", \"Topic6\", \"Topic6\", \"Topic6\", \"Topic6\", \"Topic6\", \"Topic6\", \"Topic6\", \"Topic6\", \"Topic6\", \"Topic6\", \"Topic6\", \"Topic6\", \"Topic6\", \"Topic6\", \"Topic6\", \"Topic6\", \"Topic6\", \"Topic6\", \"Topic6\", \"Topic7\", \"Topic7\", \"Topic7\", \"Topic7\", \"Topic7\", \"Topic7\", \"Topic7\", \"Topic7\", \"Topic7\", \"Topic7\", \"Topic7\", \"Topic7\", \"Topic7\", \"Topic7\", \"Topic7\", \"Topic7\", \"Topic7\", \"Topic7\", \"Topic7\", \"Topic7\", \"Topic7\", \"Topic7\", \"Topic7\", \"Topic7\", \"Topic7\", \"Topic7\", \"Topic7\", \"Topic7\", \"Topic7\", \"Topic7\", \"Topic7\", \"Topic7\", \"Topic7\", \"Topic7\", \"Topic7\", \"Topic7\", \"Topic7\", \"Topic7\", \"Topic7\", \"Topic7\", \"Topic7\", \"Topic7\", \"Topic7\", \"Topic7\", \"Topic7\", \"Topic7\", \"Topic7\", \"Topic7\", \"Topic7\", \"Topic7\", \"Topic7\", \"Topic7\", \"Topic7\", \"Topic7\", \"Topic7\", \"Topic7\", \"Topic7\", \"Topic7\", \"Topic7\", \"Topic7\", \"Topic7\", \"Topic8\", \"Topic8\", \"Topic8\", \"Topic8\", \"Topic8\", \"Topic8\", \"Topic8\", \"Topic8\", \"Topic8\", \"Topic8\", \"Topic8\", \"Topic8\", \"Topic8\", \"Topic8\", \"Topic8\", \"Topic8\", \"Topic8\", \"Topic8\", \"Topic8\", \"Topic8\", \"Topic8\", \"Topic8\", \"Topic8\", \"Topic8\", \"Topic8\", \"Topic8\", \"Topic8\", \"Topic8\", \"Topic8\", \"Topic8\", \"Topic8\", \"Topic8\", \"Topic8\", \"Topic8\", \"Topic8\", \"Topic8\", \"Topic8\", \"Topic8\", \"Topic8\", \"Topic8\", \"Topic8\", \"Topic8\", \"Topic8\", \"Topic8\", \"Topic8\", \"Topic8\", \"Topic8\", \"Topic8\", \"Topic8\", \"Topic8\", \"Topic8\", \"Topic8\", \"Topic8\", \"Topic8\", \"Topic8\", \"Topic8\", \"Topic8\", \"Topic8\", \"Topic8\", \"Topic8\", \"Topic9\", \"Topic9\", \"Topic9\", \"Topic9\", \"Topic9\", \"Topic9\", \"Topic9\", \"Topic9\", \"Topic9\", \"Topic9\", \"Topic9\", \"Topic9\", \"Topic9\", \"Topic9\", \"Topic9\", \"Topic9\", \"Topic9\", \"Topic9\", \"Topic9\", \"Topic9\", \"Topic9\", \"Topic9\", \"Topic9\", \"Topic9\", \"Topic9\", \"Topic9\", \"Topic9\", \"Topic9\", \"Topic9\", \"Topic9\", \"Topic9\", \"Topic9\", \"Topic9\", \"Topic9\", \"Topic9\", \"Topic9\", \"Topic9\", \"Topic9\", \"Topic9\", \"Topic9\", \"Topic9\", \"Topic9\", \"Topic9\", \"Topic9\", \"Topic9\", \"Topic9\", \"Topic9\", \"Topic9\", \"Topic9\", \"Topic9\", \"Topic9\", \"Topic9\", \"Topic9\", \"Topic9\", \"Topic10\", \"Topic10\", \"Topic10\", \"Topic10\", \"Topic10\", \"Topic10\", \"Topic10\", \"Topic10\", \"Topic10\", \"Topic10\", \"Topic10\", \"Topic10\", \"Topic10\", \"Topic10\", \"Topic10\", \"Topic10\", \"Topic10\", \"Topic10\", \"Topic10\", \"Topic10\", \"Topic10\", \"Topic10\", \"Topic10\", \"Topic10\", \"Topic10\", \"Topic10\", \"Topic10\", \"Topic10\", \"Topic10\", \"Topic10\", \"Topic10\", \"Topic10\", \"Topic10\", \"Topic10\", \"Topic10\", \"Topic10\", \"Topic10\", \"Topic10\", \"Topic10\", \"Topic10\", \"Topic10\", \"Topic10\", \"Topic10\", \"Topic10\", \"Topic10\", \"Topic10\", \"Topic10\", \"Topic11\", \"Topic11\", \"Topic11\", \"Topic11\", \"Topic11\", \"Topic11\", \"Topic11\", \"Topic11\", \"Topic11\", \"Topic11\", \"Topic11\", \"Topic11\", \"Topic11\", \"Topic11\", \"Topic11\", \"Topic11\", \"Topic11\", \"Topic11\", \"Topic11\", \"Topic11\", \"Topic11\", \"Topic11\", \"Topic11\", \"Topic11\", \"Topic11\", \"Topic11\", \"Topic11\", \"Topic11\", \"Topic11\", \"Topic11\", \"Topic11\", \"Topic11\", \"Topic11\", \"Topic11\", \"Topic11\", \"Topic11\", \"Topic11\", \"Topic11\", \"Topic11\", \"Topic11\", \"Topic11\", \"Topic11\", \"Topic11\", \"Topic11\", \"Topic11\", \"Topic11\", \"Topic11\", \"Topic11\", \"Topic11\", \"Topic11\", \"Topic11\", \"Topic11\", \"Topic11\", \"Topic12\", \"Topic12\", \"Topic12\", \"Topic12\", \"Topic12\", \"Topic12\", \"Topic12\", \"Topic12\", \"Topic12\", \"Topic12\", \"Topic12\", \"Topic12\", \"Topic12\", \"Topic12\", \"Topic12\", \"Topic12\", \"Topic12\", \"Topic12\", \"Topic12\", \"Topic12\", \"Topic12\", \"Topic12\", \"Topic12\", \"Topic12\", \"Topic12\", \"Topic12\", \"Topic12\", \"Topic12\", \"Topic12\", \"Topic12\", \"Topic12\", \"Topic12\", \"Topic12\", \"Topic12\", \"Topic12\", \"Topic12\", \"Topic12\", \"Topic12\", \"Topic12\", \"Topic12\", \"Topic12\", \"Topic12\", \"Topic12\", \"Topic12\", \"Topic12\", \"Topic12\", \"Topic12\", \"Topic12\", \"Topic12\", \"Topic12\", \"Topic12\", \"Topic12\", \"Topic13\", \"Topic13\", \"Topic13\", \"Topic13\", \"Topic13\", \"Topic13\", \"Topic13\", \"Topic13\", \"Topic13\", \"Topic13\", \"Topic13\", \"Topic13\", \"Topic13\", \"Topic13\", \"Topic13\", \"Topic13\", \"Topic13\", \"Topic13\", \"Topic13\", \"Topic13\", \"Topic13\", \"Topic13\", \"Topic13\", \"Topic13\", \"Topic13\", \"Topic13\", \"Topic13\", \"Topic13\", \"Topic13\", \"Topic13\", \"Topic13\", \"Topic13\", \"Topic13\", \"Topic13\", \"Topic13\", \"Topic13\", \"Topic13\", \"Topic13\", \"Topic13\", \"Topic13\", \"Topic13\", \"Topic13\", \"Topic13\", \"Topic13\", \"Topic13\", \"Topic13\", \"Topic13\", \"Topic13\", \"Topic13\", \"Topic13\", \"Topic13\", \"Topic13\", \"Topic13\", \"Topic13\", \"Topic14\", \"Topic14\", \"Topic14\", \"Topic14\", \"Topic14\", \"Topic14\", \"Topic14\", \"Topic14\", \"Topic14\", \"Topic14\", \"Topic14\", \"Topic14\", \"Topic14\", \"Topic14\", \"Topic14\", \"Topic14\", \"Topic14\", \"Topic14\", \"Topic14\", \"Topic14\", \"Topic14\", \"Topic14\", \"Topic14\", \"Topic14\", \"Topic14\", \"Topic14\", \"Topic14\", \"Topic14\", \"Topic14\", \"Topic14\", \"Topic14\", \"Topic14\", \"Topic14\", \"Topic14\", \"Topic14\", \"Topic14\", \"Topic14\", \"Topic14\", \"Topic14\", \"Topic14\", \"Topic14\", \"Topic14\", \"Topic14\", \"Topic14\", \"Topic14\", \"Topic14\", \"Topic15\", \"Topic15\", \"Topic15\", \"Topic15\", \"Topic15\", \"Topic15\", \"Topic15\", \"Topic15\", \"Topic15\", \"Topic15\", \"Topic15\", \"Topic15\", \"Topic15\", \"Topic15\", \"Topic15\", \"Topic15\", \"Topic15\", \"Topic15\", \"Topic15\", \"Topic15\", \"Topic15\", \"Topic15\", \"Topic15\", \"Topic15\", \"Topic15\", \"Topic15\", \"Topic15\", \"Topic15\", \"Topic15\", \"Topic15\", \"Topic15\", \"Topic15\", \"Topic15\", \"Topic15\", \"Topic15\", \"Topic15\", \"Topic15\", \"Topic15\", \"Topic15\", \"Topic15\", \"Topic15\", \"Topic15\", \"Topic15\", \"Topic15\", \"Topic15\", \"Topic15\", \"Topic15\", \"Topic15\", \"Topic15\", \"Topic15\", \"Topic15\", \"Topic15\", \"Topic15\", \"Topic15\", \"Topic15\", \"Topic15\", \"Topic15\", \"Topic16\", \"Topic16\", \"Topic16\", \"Topic16\", \"Topic16\", \"Topic16\", \"Topic16\", \"Topic16\", \"Topic16\", \"Topic16\", \"Topic16\", \"Topic16\", \"Topic16\", \"Topic16\", \"Topic16\", \"Topic16\", \"Topic16\", \"Topic16\", \"Topic16\", \"Topic16\", \"Topic16\", \"Topic16\", \"Topic16\", \"Topic16\", \"Topic16\", \"Topic16\", \"Topic16\", \"Topic16\", \"Topic16\", \"Topic16\", \"Topic16\", \"Topic16\", \"Topic16\", \"Topic16\", \"Topic16\", \"Topic16\", \"Topic16\", \"Topic16\", \"Topic16\", \"Topic16\", \"Topic16\", \"Topic16\", \"Topic16\", \"Topic17\", \"Topic17\", \"Topic17\", \"Topic17\", \"Topic17\", \"Topic17\", \"Topic17\", \"Topic17\", \"Topic17\", \"Topic17\", \"Topic17\", \"Topic17\", \"Topic17\", \"Topic17\", \"Topic17\", \"Topic17\", \"Topic17\", \"Topic17\", \"Topic17\", \"Topic17\", \"Topic17\", \"Topic17\", \"Topic17\", \"Topic17\", \"Topic17\", \"Topic17\", \"Topic17\", \"Topic17\", \"Topic17\", \"Topic17\", \"Topic17\", \"Topic17\", \"Topic17\", \"Topic17\", \"Topic17\", \"Topic17\", \"Topic17\", \"Topic17\", \"Topic17\", \"Topic17\", \"Topic17\", \"Topic17\", \"Topic17\", \"Topic17\", \"Topic17\", \"Topic17\", \"Topic17\", \"Topic17\", \"Topic17\", \"Topic17\", \"Topic17\", \"Topic17\", \"Topic17\", \"Topic17\", \"Topic17\", \"Topic17\", \"Topic17\", \"Topic17\", \"Topic18\", \"Topic18\", \"Topic18\", \"Topic18\", \"Topic18\", \"Topic18\", \"Topic18\", \"Topic18\", \"Topic18\", \"Topic18\", \"Topic18\", \"Topic18\", \"Topic18\", \"Topic18\", \"Topic18\", \"Topic18\", \"Topic18\", \"Topic18\", \"Topic18\", \"Topic18\", \"Topic18\", \"Topic18\", \"Topic18\", \"Topic18\", \"Topic18\", \"Topic18\", \"Topic18\", \"Topic18\", \"Topic18\", \"Topic18\", \"Topic18\", \"Topic18\", \"Topic18\", \"Topic18\", \"Topic18\", \"Topic18\", \"Topic18\", \"Topic18\", \"Topic18\", \"Topic18\", \"Topic18\", \"Topic18\", \"Topic18\", \"Topic18\", \"Topic18\", \"Topic18\", \"Topic19\", \"Topic19\", \"Topic19\", \"Topic19\", \"Topic19\", \"Topic19\", \"Topic19\", \"Topic19\", \"Topic19\", \"Topic19\", \"Topic19\", \"Topic19\", \"Topic19\", \"Topic19\", \"Topic19\", \"Topic19\", \"Topic19\", \"Topic19\", \"Topic19\", \"Topic19\", \"Topic19\", \"Topic19\", \"Topic19\", \"Topic19\", \"Topic19\", \"Topic19\", \"Topic19\", \"Topic19\", \"Topic19\", \"Topic19\", \"Topic19\", \"Topic19\", \"Topic19\", \"Topic19\", \"Topic19\", \"Topic19\", \"Topic19\", \"Topic19\", \"Topic19\", \"Topic19\", \"Topic19\", \"Topic19\", \"Topic19\", \"Topic19\", \"Topic19\", \"Topic19\", \"Topic19\", \"Topic19\", \"Topic19\", \"Topic19\", \"Topic19\", \"Topic19\", \"Topic19\", \"Topic20\", \"Topic20\", \"Topic20\", \"Topic20\", \"Topic20\", \"Topic20\", \"Topic20\", \"Topic20\", \"Topic20\", \"Topic20\", \"Topic20\", \"Topic20\", \"Topic20\", \"Topic20\", \"Topic20\", \"Topic20\", \"Topic20\", \"Topic20\", \"Topic20\", \"Topic20\", \"Topic20\", \"Topic20\", \"Topic20\", \"Topic20\", \"Topic20\", \"Topic20\", \"Topic20\", \"Topic20\", \"Topic20\", \"Topic20\", \"Topic20\", \"Topic20\", \"Topic20\", \"Topic20\", \"Topic20\", \"Topic20\", \"Topic20\", \"Topic20\", \"Topic20\", \"Topic20\", \"Topic20\", \"Topic20\", \"Topic20\", \"Topic20\", \"Topic20\", \"Topic20\", \"Topic20\", \"Topic20\", \"Topic20\", \"Topic20\", \"Topic20\", \"Topic20\", \"Topic20\", \"Topic20\", \"Topic20\", \"Topic20\", \"Topic20\", \"Topic20\", \"Topic20\", \"Topic20\", \"Topic20\", \"Topic20\", \"Topic20\", \"Topic21\", \"Topic21\", \"Topic21\", \"Topic21\", \"Topic21\", \"Topic21\", \"Topic21\", \"Topic21\", \"Topic21\", \"Topic21\", \"Topic21\", \"Topic21\", \"Topic21\", \"Topic21\", \"Topic21\", \"Topic21\", \"Topic21\", \"Topic21\", \"Topic21\", \"Topic21\", \"Topic21\", \"Topic21\", \"Topic21\", \"Topic21\", \"Topic21\", \"Topic21\", \"Topic21\", \"Topic21\", \"Topic21\", \"Topic21\", \"Topic21\", \"Topic21\", \"Topic21\", \"Topic21\", \"Topic21\", \"Topic21\", \"Topic21\", \"Topic21\", \"Topic21\", \"Topic21\", \"Topic21\", \"Topic21\", \"Topic21\", \"Topic21\", \"Topic21\", \"Topic21\", \"Topic21\", \"Topic21\", \"Topic21\", \"Topic21\", \"Topic21\", \"Topic21\", \"Topic21\", \"Topic21\", \"Topic21\", \"Topic21\", \"Topic21\", \"Topic21\", \"Topic21\", \"Topic21\", \"Topic22\", \"Topic22\", \"Topic22\", \"Topic22\", \"Topic22\", \"Topic22\", \"Topic22\", \"Topic22\", \"Topic22\", \"Topic22\", \"Topic22\", \"Topic22\", \"Topic22\", \"Topic22\", \"Topic22\", \"Topic22\", \"Topic22\", \"Topic22\", \"Topic22\", \"Topic22\", \"Topic22\", \"Topic22\", \"Topic22\", \"Topic22\", \"Topic22\", \"Topic22\", \"Topic22\", \"Topic22\", \"Topic22\", \"Topic22\", \"Topic22\", \"Topic22\", \"Topic22\", \"Topic22\", \"Topic22\", \"Topic22\", \"Topic22\", \"Topic22\", \"Topic22\", \"Topic22\", \"Topic22\", \"Topic22\", \"Topic22\", \"Topic22\", \"Topic22\", \"Topic22\", \"Topic22\", \"Topic22\", \"Topic22\", \"Topic22\", \"Topic22\", \"Topic23\", \"Topic23\", \"Topic23\", \"Topic23\", \"Topic23\", \"Topic23\", \"Topic23\", \"Topic23\", \"Topic23\", \"Topic23\", \"Topic23\", \"Topic23\", \"Topic23\", \"Topic23\", \"Topic23\", \"Topic23\", \"Topic23\", \"Topic23\", \"Topic23\", \"Topic23\", \"Topic23\", \"Topic23\", \"Topic23\", \"Topic23\", \"Topic23\", \"Topic23\", \"Topic23\", \"Topic23\", \"Topic23\", \"Topic23\", \"Topic23\", \"Topic23\", \"Topic23\", \"Topic23\", \"Topic23\", \"Topic23\", \"Topic23\", \"Topic23\", \"Topic23\", \"Topic23\", \"Topic23\", \"Topic23\", \"Topic23\", \"Topic23\", \"Topic23\", \"Topic23\", \"Topic23\", \"Topic23\", \"Topic23\", \"Topic23\", \"Topic23\", \"Topic24\", \"Topic24\", \"Topic24\", \"Topic24\", \"Topic24\", \"Topic24\", \"Topic24\", \"Topic24\", \"Topic24\", \"Topic24\", \"Topic24\", \"Topic24\", \"Topic24\", \"Topic24\", \"Topic24\", \"Topic24\", \"Topic24\", \"Topic24\", \"Topic24\", \"Topic24\", \"Topic24\", \"Topic24\", \"Topic24\", \"Topic24\", \"Topic24\", \"Topic24\", \"Topic24\", \"Topic24\", \"Topic24\", \"Topic24\", \"Topic24\", \"Topic24\", \"Topic24\", \"Topic24\", \"Topic24\", \"Topic24\", \"Topic24\", \"Topic24\", \"Topic24\", \"Topic24\", \"Topic24\", \"Topic24\", \"Topic24\", \"Topic24\", \"Topic24\", \"Topic24\", \"Topic24\", \"Topic24\", \"Topic24\", \"Topic24\", \"Topic24\", \"Topic24\", \"Topic24\", \"Topic24\", \"Topic24\", \"Topic24\", \"Topic25\", \"Topic25\", \"Topic25\", \"Topic25\", \"Topic25\", \"Topic25\", \"Topic25\", \"Topic25\", \"Topic25\", \"Topic25\", \"Topic25\", \"Topic25\", \"Topic25\", \"Topic25\", \"Topic25\", \"Topic25\", \"Topic25\", \"Topic25\", \"Topic25\", \"Topic25\", \"Topic25\", \"Topic25\", \"Topic25\", \"Topic25\", \"Topic25\", \"Topic25\", \"Topic25\", \"Topic25\", \"Topic25\", \"Topic25\", \"Topic25\", \"Topic25\", \"Topic25\", \"Topic25\", \"Topic25\", \"Topic25\", \"Topic25\", \"Topic25\", \"Topic25\", \"Topic25\", \"Topic25\", \"Topic25\", \"Topic25\", \"Topic25\", \"Topic25\", \"Topic25\", \"Topic25\", \"Topic25\", \"Topic25\", \"Topic25\", \"Topic25\", \"Topic25\", \"Topic26\", \"Topic26\", \"Topic26\", \"Topic26\", \"Topic26\", \"Topic26\", \"Topic26\", \"Topic26\", \"Topic26\", \"Topic26\", \"Topic26\", \"Topic26\", \"Topic26\", \"Topic26\", \"Topic26\", \"Topic26\", \"Topic26\", \"Topic26\", \"Topic26\", \"Topic26\", \"Topic26\", \"Topic26\", \"Topic26\", \"Topic26\", \"Topic26\", \"Topic26\", \"Topic26\", \"Topic26\", \"Topic26\", \"Topic26\", \"Topic26\", \"Topic26\", \"Topic26\", \"Topic26\", \"Topic26\", \"Topic26\", \"Topic26\", \"Topic26\", \"Topic26\", \"Topic26\", \"Topic26\", \"Topic26\", \"Topic26\", \"Topic26\", \"Topic26\", \"Topic26\", \"Topic26\", \"Topic26\", \"Topic26\", \"Topic26\", \"Topic26\", \"Topic26\", \"Topic27\", \"Topic27\", \"Topic27\", \"Topic27\", \"Topic27\", \"Topic27\", \"Topic27\", \"Topic27\", \"Topic27\", \"Topic27\", \"Topic27\", \"Topic27\", \"Topic27\", \"Topic27\", \"Topic27\", \"Topic27\", \"Topic27\", \"Topic27\", \"Topic27\", \"Topic27\", \"Topic27\", \"Topic27\", \"Topic27\", \"Topic27\", \"Topic27\", \"Topic27\", \"Topic27\", \"Topic27\", \"Topic27\", \"Topic27\", \"Topic27\", \"Topic27\", \"Topic27\", \"Topic27\", \"Topic27\", \"Topic27\", \"Topic27\", \"Topic27\", \"Topic27\", \"Topic27\", \"Topic27\", \"Topic27\", \"Topic27\", \"Topic27\", \"Topic27\", \"Topic27\", \"Topic27\", \"Topic28\", \"Topic28\", \"Topic28\", \"Topic28\", \"Topic28\", \"Topic28\", \"Topic28\", \"Topic28\", \"Topic28\", \"Topic28\", \"Topic28\", \"Topic28\", \"Topic28\", \"Topic28\", \"Topic28\", \"Topic28\", \"Topic28\", \"Topic28\", \"Topic28\", \"Topic28\", \"Topic28\", \"Topic28\", \"Topic28\", \"Topic28\", \"Topic28\", \"Topic28\", \"Topic28\", \"Topic28\", \"Topic28\", \"Topic28\", \"Topic28\", \"Topic28\", \"Topic28\", \"Topic28\", \"Topic28\", \"Topic28\", \"Topic28\", \"Topic28\", \"Topic28\", \"Topic28\", \"Topic28\", \"Topic28\", \"Topic28\", \"Topic28\", \"Topic28\", \"Topic28\", \"Topic28\", \"Topic28\", \"Topic28\", \"Topic28\", \"Topic28\", \"Topic28\", \"Topic28\", \"Topic28\", \"Topic28\", \"Topic29\", \"Topic29\", \"Topic29\", \"Topic29\", \"Topic29\", \"Topic29\", \"Topic29\", \"Topic29\", \"Topic29\", \"Topic29\", \"Topic29\", \"Topic29\", \"Topic29\", \"Topic29\", \"Topic29\", \"Topic29\", \"Topic29\", \"Topic29\", \"Topic29\", \"Topic29\", \"Topic29\", \"Topic29\", \"Topic29\", \"Topic29\", \"Topic29\", \"Topic29\", \"Topic29\", \"Topic29\", \"Topic29\", \"Topic29\", \"Topic29\", \"Topic29\", \"Topic29\", \"Topic29\", \"Topic29\", \"Topic29\", \"Topic29\", \"Topic29\", \"Topic29\", \"Topic29\", \"Topic29\", \"Topic29\", \"Topic29\", \"Topic29\", \"Topic29\", \"Topic29\", \"Topic29\", \"Topic29\", \"Topic29\", \"Topic29\", \"Topic29\", \"Topic29\", \"Topic29\", \"Topic30\", \"Topic30\", \"Topic30\", \"Topic30\", \"Topic30\", \"Topic30\", \"Topic30\", \"Topic30\", \"Topic30\", \"Topic30\", \"Topic30\", \"Topic30\", \"Topic30\", \"Topic30\", \"Topic30\", \"Topic30\", \"Topic30\", \"Topic30\", \"Topic30\", \"Topic30\", \"Topic30\", \"Topic30\", \"Topic30\", \"Topic30\", \"Topic30\", \"Topic30\", \"Topic30\", \"Topic30\", \"Topic30\", \"Topic30\", \"Topic30\", \"Topic30\", \"Topic30\", \"Topic30\", \"Topic30\", \"Topic30\", \"Topic30\", \"Topic30\", \"Topic30\", \"Topic30\", \"Topic30\", \"Topic30\", \"Topic30\", \"Topic30\", \"Topic30\", \"Topic30\", \"Topic30\", \"Topic30\", \"Topic30\", \"Topic30\", \"Topic30\", \"Topic30\", \"Topic30\", \"Topic30\", \"Topic30\", \"Topic30\"], \"Freq\": [1617.0, 477.0, 518.0, 697.0, 1060.0, 419.0, 450.0, 494.0, 301.0, 681.0, 1134.0, 416.0, 590.0, 305.0, 942.0, 612.0, 287.0, 451.0, 328.0, 176.0, 188.0, 417.0, 477.0, 458.0, 459.0, 296.0, 205.0, 468.0, 483.0, 325.0, 24.335660934448242, 28.850093841552734, 55.49638366699219, 44.325767517089844, 65.15876770019531, 20.131298065185547, 73.7730941772461, 110.09915161132812, 24.959138870239258, 40.62223434448242, 29.295989990234375, 139.52589416503906, 25.61872100830078, 22.51727867126465, 29.628490447998047, 21.076051712036133, 93.47222900390625, 22.20343780517578, 15.648627281188965, 39.65144348144531, 46.49280548095703, 27.384689331054688, 25.56104850769043, 18.462059020996094, 22.250621795654297, 28.65492057800293, 15.00098705291748, 34.405242919921875, 51.67948532104492, 36.14390563964844, 49.299747467041016, 68.16326904296875, 77.3880615234375, 198.5739288330078, 91.94930267333984, 68.08853149414062, 89.9769058227539, 71.71868133544922, 76.76229095458984, 138.4478302001953, 48.45920944213867, 65.60184478759766, 48.656951904296875, 95.4076919555664, 71.0993881225586, 74.2564697265625, 85.47413635253906, 90.15694427490234, 68.51221466064453, 73.70259857177734, 65.93119049072266, 68.34848022460938, 67.87984466552734, 71.81294250488281, 64.64869689941406, 65.82176208496094, 66.63507080078125, 64.68402099609375, 30.508108139038086, 23.376436233520508, 23.994586944580078, 18.639772415161133, 23.099756240844727, 47.57562255859375, 17.95993995666504, 18.50465202331543, 34.56447219848633, 14.347685813903809, 41.998451232910156, 19.7492618560791, 10.874171257019043, 12.40075397491455, 19.90113639831543, 41.842071533203125, 21.373714447021484, 17.804492950439453, 12.088068962097168, 31.4801025390625, 17.32296371459961, 25.833436965942383, 19.46197509765625, 10.772221565246582, 21.865930557250977, 12.996199607849121, 14.533714294433594, 19.427536010742188, 14.328132629394531, 17.276174545288086, 30.565061569213867, 46.328819274902344, 125.07038879394531, 26.063753128051758, 31.165714263916016, 38.47447204589844, 197.95272827148438, 30.771373748779297, 111.56037139892578, 225.03875732421875, 67.93119812011719, 191.9488525390625, 49.0996208190918, 100.174560546875, 83.72885131835938, 49.8764762878418, 65.02249908447266, 83.0772476196289, 58.85226821899414, 136.63662719726562, 89.25714874267578, 73.81080627441406, 52.66574478149414, 72.6227798461914, 67.72703552246094, 67.97319030761719, 72.87104034423828, 72.9261474609375, 69.59939575195312, 69.72742462158203, 50.003787994384766, 64.0245361328125, 56.75096130371094, 55.64656066894531, 56.095375061035156, 55.068904876708984, 53.10491943359375, 51.00743865966797, 50.90863800048828, 51.13584518432617, 61.1460075378418, 67.54322814941406, 60.40279769897461, 21.968595504760742, 15.062027931213379, 26.51728630065918, 75.00225067138672, 14.704841613769531, 18.369747161865234, 9.846966743469238, 22.372997283935547, 35.88677215576172, 19.91844940185547, 14.550832748413086, 10.812431335449219, 11.523252487182617, 19.503103256225586, 16.549314498901367, 10.982216835021973, 9.864131927490234, 23.411365509033203, 16.463315963745117, 18.411684036254883, 22.122528076171875, 62.82863998413086, 12.29753303527832, 12.405841827392578, 13.65353012084961, 14.992207527160645, 14.10194206237793, 42.40150451660156, 43.20037078857422, 70.01615142822266, 160.76832580566406, 60.73122787475586, 27.369295120239258, 30.066152572631836, 31.34296417236328, 43.74838638305664, 112.65530395507812, 110.25869750976562, 61.59336853027344, 57.809078216552734, 169.3821563720703, 92.9140853881836, 116.66783905029297, 79.24129486083984, 60.676239013671875, 103.0776596069336, 94.46559143066406, 46.88697814941406, 85.33882904052734, 69.47183227539062, 118.41646575927734, 57.821292877197266, 53.81413650512695, 74.58162689208984, 55.97111892700195, 53.39525604248047, 51.010520935058594, 48.437068939208984, 47.723941802978516, 35.020179748535156, 27.783802032470703, 141.63482666015625, 138.38845825195312, 93.96016693115234, 182.52244567871094, 34.22050857543945, 23.064350128173828, 50.26940155029297, 21.732534408569336, 53.626853942871094, 15.91971206665039, 65.44534301757812, 51.9827880859375, 29.04737091064453, 63.65549087524414, 11.492264747619629, 50.924659729003906, 49.63376998901367, 49.53533172607422, 63.452091217041016, 41.712764739990234, 63.22555923461914, 62.125545501708984, 62.11647415161133, 62.1159553527832, 62.110477447509766, 41.534976959228516, 34.863529205322266, 123.01677703857422, 571.6494750976562, 118.38999938964844, 161.8629150390625, 197.9131317138672, 66.83232879638672, 91.41167449951172, 76.18914031982422, 72.98506927490234, 113.67374420166016, 98.05635070800781, 75.5024185180664, 123.76445770263672, 121.56011199951172, 112.30140686035156, 88.1725082397461, 67.44288635253906, 61.226932525634766, 108.52081298828125, 196.15025329589844, 16.836214065551758, 69.83267211914062, 34.25770568847656, 39.45643615722656, 20.328779220581055, 18.291501998901367, 17.561634063720703, 19.834131240844727, 15.726598739624023, 16.52884864807129, 249.9547882080078, 28.21486473083496, 15.180807113647461, 164.87460327148438, 116.671630859375, 114.72960662841797, 26.735153198242188, 41.75318908691406, 17.29080581665039, 58.51675033569336, 10.877257347106934, 25.89348793029785, 41.547725677490234, 13.067660331726074, 10.518425941467285, 33.892311096191406, 116.76866912841797, 38.55950927734375, 46.34876251220703, 58.43571090698242, 81.44950103759766, 312.0078430175781, 212.84266662597656, 127.49954986572266, 88.55001831054688, 75.69881439208984, 79.92619323730469, 52.44291687011719, 56.65653610229492, 73.84090423583984, 55.45682144165039, 52.443321228027344, 58.164669036865234, 60.81139373779297, 57.57965850830078, 53.53348159790039, 47.230690002441406, 46.242820739746094, 43.02682113647461, 31.043275833129883, 78.24855041503906, 39.86226272583008, 319.40203857421875, 41.9771614074707, 51.2480583190918, 170.7681427001953, 155.65025329589844, 154.54115295410156, 227.69102478027344, 36.26102066040039, 153.2284698486328, 41.02680587768555, 23.312042236328125, 98.50804901123047, 26.110652923583984, 103.48535919189453, 68.75513458251953, 14.24947452545166, 14.673348426818848, 26.34278106689453, 205.13206481933594, 42.43090057373047, 60.25788497924805, 57.346065521240234, 22.739849090576172, 15.942545890808105, 12.933656692504883, 137.98419189453125, 88.51992797851562, 64.5655288696289, 80.38850402832031, 36.88862991333008, 181.8915557861328, 51.36933135986328, 64.73393249511719, 87.99424743652344, 43.95656204223633, 58.618045806884766, 58.23759078979492, 52.29161071777344, 48.764156341552734, 20.678890228271484, 23.86785125732422, 25.34162712097168, 62.74022674560547, 14.259529113769531, 11.924554824829102, 25.90767478942871, 16.497638702392578, 18.95802116394043, 63.8868522644043, 10.593384742736816, 87.08635711669922, 68.30450439453125, 12.500468254089355, 18.084671020507812, 15.292778968811035, 9.502558708190918, 15.138354301452637, 13.103273391723633, 17.643346786499023, 12.577879905700684, 15.418593406677246, 18.221128463745117, 45.26774215698242, 48.32621383666992, 60.39457702636719, 22.245031356811523, 18.220741271972656, 17.595048904418945, 8.951493263244629, 28.61231231689453, 309.8899841308594, 33.44145965576172, 24.554126739501953, 102.94829559326172, 77.80143737792969, 61.0792236328125, 60.992435455322266, 32.469146728515625, 81.69891357421875, 153.12977600097656, 49.61897277832031, 88.68354034423828, 32.590553283691406, 50.97357940673828, 78.877685546875, 35.94801712036133, 52.23601150512695, 73.70085906982422, 58.28791809082031, 48.70894241333008, 54.35877227783203, 48.1744384765625, 55.23979568481445, 79.32069396972656, 51.32602310180664, 47.58677291870117, 39.999996185302734, 50.21818542480469, 46.17041015625, 49.32273483276367, 80.1633529663086, 213.32484436035156, 40.923221588134766, 27.281795501708984, 59.01258087158203, 355.36181640625, 34.831600189208984, 17.56009864807129, 30.343721389770508, 42.134010314941406, 35.846656799316406, 12.529879570007324, 10.67191219329834, 18.462846755981445, 37.18642807006836, 25.311216354370117, 14.121581077575684, 17.652210235595703, 15.103487968444824, 25.36836814880371, 13.797998428344727, 16.302730560302734, 18.347944259643555, 25.460399627685547, 18.48655128479004, 8.212357521057129, 12.335784912109375, 18.85441017150879, 22.065282821655273, 12.745862007141113, 188.48153686523438, 86.80267333984375, 24.637290954589844, 71.36722564697266, 30.39958953857422, 71.6298828125, 31.443037033081055, 56.08927536010742, 80.03911590576172, 50.48915481567383, 64.22953796386719, 48.570796966552734, 78.89588928222656, 30.703414916992188, 68.81331634521484, 42.34136962890625, 58.400108337402344, 45.598121643066406, 42.15388107299805, 42.65131378173828, 55.877750396728516, 39.84471130371094, 47.23432922363281, 47.59012222290039, 42.67387008666992, 45.823402404785156, 44.62007522583008, 46.21372604370117, 43.29942321777344, 41.0307502746582, 41.09859848022461, 57.311309814453125, 25.735754013061523, 39.540531158447266, 258.1463928222656, 38.26618957519531, 41.64126968383789, 21.094083786010742, 14.035572052001953, 88.58173370361328, 24.40141487121582, 21.730308532714844, 185.0692138671875, 30.289413452148438, 271.26397705078125, 45.13540267944336, 10.781274795532227, 13.967308044433594, 8.785606384277344, 18.052846908569336, 29.69349479675293, 11.895406723022461, 25.481782913208008, 13.883647918701172, 18.124433517456055, 12.867252349853516, 10.002496719360352, 12.548770904541016, 9.385111808776855, 11.195356369018555, 15.04367733001709, 50.69034194946289, 120.63467407226562, 74.57794189453125, 38.73569869995117, 33.6412239074707, 22.332956314086914, 78.1341323852539, 67.5173568725586, 73.95287322998047, 76.88027954101562, 45.5417594909668, 33.797420501708984, 48.86753463745117, 45.98939895629883, 60.4700813293457, 54.7599983215332, 37.05531311035156, 36.2501335144043, 42.833641052246094, 39.35881042480469, 38.30060958862305, 36.55573272705078, 34.55261993408203, 175.86558532714844, 36.77927017211914, 59.410560607910156, 27.197364807128906, 228.37371826171875, 23.80962371826172, 70.0814208984375, 96.70033264160156, 64.03783416748047, 39.23631286621094, 22.259037017822266, 57.493927001953125, 27.162521362304688, 31.303321838378906, 129.59017944335938, 17.704998016357422, 33.122161865234375, 27.902507781982422, 14.06180191040039, 35.89091110229492, 48.167076110839844, 30.2813777923584, 12.474167823791504, 32.34183120727539, 68.15884399414062, 27.32733154296875, 11.167204856872559, 17.34977149963379, 11.676382064819336, 17.390432357788086, 28.11849594116211, 32.57771682739258, 55.7972412109375, 22.100296020507812, 38.53603744506836, 40.3405876159668, 28.144289016723633, 45.978675842285156, 37.22703170776367, 44.986087799072266, 35.570587158203125, 37.09244155883789, 35.090213775634766, 33.38816833496094, 29.615571975708008, 29.949495315551758, 29.634790420532227, 23.83977508544922, 35.572845458984375, 27.926116943359375, 24.786767959594727, 21.568012237548828, 13.850053787231445, 16.051424026489258, 12.383357048034668, 8.784074783325195, 25.631319046020508, 43.149810791015625, 16.432554244995117, 12.430370330810547, 9.937561988830566, 20.30522346496582, 9.206738471984863, 83.5380859375, 24.345115661621094, 7.160744667053223, 48.363372802734375, 23.75121307373047, 13.185924530029297, 47.068153381347656, 10.462041854858398, 13.618668556213379, 27.392324447631836, 34.18484878540039, 8.00162124633789, 9.603577613830566, 6.81520414352417, 25.53205108642578, 21.699954986572266, 13.15028190612793, 85.07290649414062, 63.39373779296875, 25.722549438476562, 32.78009033203125, 30.663997650146484, 59.24833679199219, 53.716487884521484, 30.205263137817383, 33.64693832397461, 35.010536193847656, 30.528125762939453, 23.875656127929688, 30.668907165527344, 30.462493896484375, 26.43928337097168, 27.661680221557617, 25.757583618164062, 25.259571075439453, 25.292524337768555, 24.867923736572266, 43.41227722167969, 14.4891996383667, 14.322515487670898, 32.3419075012207, 15.907259941101074, 20.675525665283203, 9.267004013061523, 44.21860122680664, 9.971126556396484, 26.3256778717041, 52.230308532714844, 43.09343338012695, 21.32278823852539, 66.03497314453125, 14.56763744354248, 9.307148933410645, 6.497702121734619, 12.360149383544922, 11.129989624023438, 8.000885963439941, 13.507989883422852, 9.334297180175781, 14.992664337158203, 38.53989791870117, 8.939833641052246, 30.627178192138672, 7.471071243286133, 6.102801322937012, 8.209137916564941, 34.372886657714844, 34.367366790771484, 33.74393081665039, 39.029380798339844, 34.217166900634766, 135.0635528564453, 30.25792121887207, 36.91591262817383, 49.569908142089844, 34.734222412109375, 89.90475463867188, 27.300174713134766, 59.34695816040039, 24.954885482788086, 30.45656394958496, 56.74638366699219, 39.543663024902344, 22.03297233581543, 23.259580612182617, 28.12180519104004, 24.96926498413086, 32.794898986816406, 26.601360321044922, 27.979990005493164, 142.92141723632812, 36.07552719116211, 14.382560729980469, 25.279916763305664, 21.99918556213379, 8.928235054016113, 9.935566902160645, 11.95382308959961, 7.037447929382324, 8.529789924621582, 10.661746978759766, 13.929219245910645, 9.269818305969238, 8.274812698364258, 12.102799415588379, 28.23358917236328, 8.912102699279785, 9.021170616149902, 14.641283988952637, 13.074907302856445, 10.338823318481445, 30.319866180419922, 18.72525978088379, 31.801666259765625, 9.019458770751953, 9.383160591125488, 5.83195161819458, 14.393531799316406, 11.369392395019531, 53.033931732177734, 34.026885986328125, 22.84623146057129, 46.20330810546875, 32.19215393066406, 46.14002990722656, 76.4111557006836, 12.732746124267578, 25.536483764648438, 43.63510513305664, 40.843528747558594, 23.063669204711914, 31.035449981689453, 28.405590057373047, 29.707138061523438, 19.66368865966797, 22.8781681060791, 40.25889587402344, 25.452863693237305, 25.80075454711914, 22.26046371459961, 25.336332321166992, 22.909202575683594, 20.640966415405273, 42.01978302001953, 30.003076553344727, 30.97113800048828, 237.5032196044922, 36.631858825683594, 81.96441650390625, 36.074615478515625, 20.10179328918457, 37.870574951171875, 21.88864517211914, 41.11967468261719, 43.0047607421875, 16.59758186340332, 21.561752319335938, 9.984590530395508, 17.19690704345703, 58.169368743896484, 24.105148315429688, 28.401294708251953, 13.374251365661621, 10.509174346923828, 13.557640075683594, 13.517443656921387, 8.28135871887207, 10.195463180541992, 8.476613998413086, 11.297311782836914, 53.1103515625, 11.733041763305664, 27.33188247680664, 25.433298110961914, 18.518268585205078, 35.5102653503418, 34.71119689941406, 37.298213958740234, 21.744712829589844, 24.768192291259766, 38.68465805053711, 20.436800003051758, 28.813541412353516, 27.290815353393555, 28.3436336517334, 22.334999084472656, 28.545045852661133, 24.238609313964844, 22.194313049316406, 47.31322479248047, 22.89374351501465, 26.701810836791992, 11.254605293273926, 12.067100524902344, 70.6314468383789, 15.97541618347168, 12.085200309753418, 22.423307418823242, 15.820895195007324, 17.111255645751953, 14.291237831115723, 16.91883659362793, 12.926803588867188, 19.46837615966797, 16.094839096069336, 16.093965530395508, 9.9281644821167, 27.88844871520996, 5.782900810241699, 21.649124145507812, 27.643693923950195, 5.33725643157959, 12.255794525146484, 13.98326301574707, 10.486032485961914, 8.956328392028809, 4.8122711181640625, 9.430802345275879, 7.81793737411499, 95.95487213134766, 13.25857162475586, 26.549758911132812, 14.360652923583984, 20.60285186767578, 12.211846351623535, 97.16790771484375, 17.48267364501953, 43.372554779052734, 36.54811477661133, 35.40966796875, 17.835487365722656, 28.168046951293945, 21.889820098876953, 28.473939895629883, 27.477672576904297, 23.729671478271484, 23.118606567382812, 22.681293487548828, 25.9237060546875, 23.746700286865234, 21.72575569152832, 21.70009994506836, 18.84966468811035, 20.824634552001953, 20.538393020629883, 20.02680015563965, 47.23627471923828, 73.55427551269531, 21.385921478271484, 96.40082550048828, 46.21121597290039, 30.26512908935547, 13.117907524108887, 64.5435562133789, 25.33002471923828, 16.486421585083008, 26.613039016723633, 39.74723434448242, 33.66823959350586, 27.90727996826172, 14.062248229980469, 37.171199798583984, 111.98291778564453, 24.32472038269043, 144.8131561279297, 20.707626342773438, 6.728196144104004, 9.315320014953613, 7.83097505569458, 11.329360008239746, 13.111656188964844, 8.965890884399414, 5.916475772857666, 8.983573913574219, 9.262398719787598, 17.275165557861328, 70.19356536865234, 16.276838302612305, 17.335622787475586, 58.821510314941406, 25.475746154785156, 27.316455841064453, 20.124300003051758, 25.61817169189453, 32.42132568359375, 23.99342155456543, 21.123580932617188, 20.892446517944336, 17.04733657836914, 25.623998641967773, 7.078636169433594, 22.354589462280273, 23.31024169921875, 11.902292251586914, 14.906753540039062, 7.689542770385742, 14.890069961547852, 14.185672760009766, 16.735092163085938, 6.630431175231934, 5.354552745819092, 7.472741603851318, 5.297277450561523, 7.702775001525879, 18.245716094970703, 18.17993927001953, 4.393374443054199, 4.038416862487793, 23.933469772338867, 5.355405330657959, 3.9993348121643066, 4.697554111480713, 4.498285293579102, 5.5754804611206055, 7.021936893463135, 3.8800582885742188, 25.597179412841797, 5.74138069152832, 10.418253898620605, 13.705833435058594, 54.38361740112305, 32.556541442871094, 20.16868782043457, 9.067509651184082, 13.760106086730957, 22.46361541748047, 35.97411346435547, 112.55574798583984, 21.399377822875977, 10.927698135375977, 14.905314445495605, 42.03446960449219, 19.067380905151367, 23.418912887573242, 42.84075164794922, 18.46295928955078, 24.211685180664062, 22.429994583129883, 22.775236129760742, 19.942455291748047, 19.894187927246094, 18.970046997070312, 19.33421516418457, 20.97520637512207, 19.099451065063477, 17.75758934020996, 17.156173706054688, 71.36965942382812, 38.450740814208984, 70.24669647216797, 63.421775817871094, 33.131980895996094, 22.94814682006836, 49.35905075073242, 18.377534866333008, 54.33683776855469, 15.171663284301758, 27.456092834472656, 12.71848201751709, 12.575413703918457, 61.70899200439453, 12.002655982971191, 11.89915657043457, 36.33347702026367, 25.319189071655273, 100.21170043945312, 13.699878692626953, 30.032257080078125, 139.66009521484375, 13.945439338684082, 22.334054946899414, 18.33168601989746, 43.755619049072266, 10.048398971557617, 9.044313430786133, 8.478941917419434, 8.2392578125, 57.991661071777344, 49.981815338134766, 49.7069091796875, 32.9892578125, 24.354185104370117, 25.79767608642578, 42.85512924194336, 38.85292053222656, 21.37355613708496, 33.28750991821289, 24.746313095092773, 30.87853240966797, 25.910537719726562, 28.280967712402344, 24.714096069335938, 23.915571212768555, 18.173391342163086, 13.442519187927246, 12.514705657958984, 22.38435173034668, 20.194189071655273, 97.10542297363281, 20.48481559753418, 19.36853790283203, 20.10968017578125, 13.487747192382812, 17.206401824951172, 22.484338760375977, 13.426880836486816, 16.898534774780273, 11.651583671569824, 18.888559341430664, 19.64427375793457, 8.478899955749512, 40.629859924316406, 14.831473350524902, 10.807915687561035, 16.330127716064453, 20.092029571533203, 12.551088333129883, 7.357310771942139, 11.920464515686035, 15.793281555175781, 23.119157791137695, 29.546525955200195, 23.70616340637207, 50.714603424072266, 41.157005310058594, 51.226112365722656, 29.423322677612305, 39.1522216796875, 47.96434783935547, 22.9937744140625, 69.43238830566406, 39.02180099487305, 28.29320526123047, 29.7471923828125, 26.52267074584961, 39.72111129760742, 37.60257339477539, 28.838685989379883, 26.766664505004883, 24.140058517456055, 26.63783073425293, 23.78489112854004, 23.090715408325195, 21.358110427856445, 20.864452362060547, 20.63612174987793, 20.859407424926758, 14.541415214538574, 14.888983726501465, 6.633758068084717, 5.305291652679443, 11.47107982635498, 5.974075794219971, 10.325181007385254, 19.009389877319336, 9.501055717468262, 8.849920272827148, 8.121809959411621, 5.118856430053711, 6.912497520446777, 14.030923843383789, 5.2937469482421875, 10.632223129272461, 13.525530815124512, 5.103719234466553, 13.965909004211426, 6.137223243713379, 6.097439289093018, 7.009505748748779, 25.580684661865234, 5.982748508453369, 4.566840171813965, 6.800801753997803, 8.211026191711426, 11.690298080444336, 6.1117777824401855, 9.494926452636719, 8.670828819274902, 12.525379180908203, 34.718589782714844, 27.984996795654297, 28.356901168823242, 24.899702072143555, 24.57651138305664, 38.947227478027344, 14.44233226776123, 26.545209884643555, 13.275054931640625, 18.717164993286133, 17.35204315185547, 19.016033172607422, 17.570240020751953, 21.47775650024414, 23.451322555541992, 26.132463455200195, 30.965900421142578, 23.356966018676758, 25.077226638793945, 17.108749389648438, 17.682167053222656, 18.241607666015625, 16.17478370666504, 17.98967742919922, 22.32503318786621, 18.218923568725586, 16.58989715576172, 16.511783599853516, 15.68777847290039, 15.88398551940918, 12.407674789428711, 26.756383895874023, 38.5208854675293, 36.15105438232422, 43.259891510009766, 16.82558250427246, 11.7650728225708, 10.707732200622559, 15.250592231750488, 121.28812408447266, 5.982229232788086, 7.1069207191467285, 7.57925271987915, 15.751468658447266, 9.210733413696289, 4.7967915534973145, 6.759862899780273, 9.333712577819824, 4.415194988250732, 6.50485897064209, 6.74178409576416, 4.79477071762085, 4.2138991355896, 5.934772968292236, 5.196012496948242, 5.20427942276001, 9.140563011169434, 5.091241359710693, 4.838218688964844, 6.62853479385376, 14.820515632629395, 18.632734298706055, 9.930498123168945, 10.673402786254883, 20.087461471557617, 13.553869247436523, 19.683910369873047, 13.533384323120117, 19.668224334716797, 15.642971992492676, 26.462608337402344, 20.11292266845703, 16.459646224975586, 24.41360855102539, 29.20236587524414, 28.654016494750977, 26.517654418945312, 16.456396102905273, 18.691951751708984, 22.622835159301758, 13.856855392456055, 23.69605255126953, 18.279544830322266, 18.588268280029297, 16.128389358520508, 15.179977416992188, 18.372323989868164, 16.648548126220703, 16.628793716430664, 15.308836936950684, 37.734291076660156, 32.69189453125, 21.154338836669922, 18.109222412109375, 17.455245971679688, 28.542213439941406, 9.580941200256348, 31.195201873779297, 103.56201171875, 9.356724739074707, 14.273613929748535, 14.336782455444336, 5.266902446746826, 8.230765342712402, 6.7852253913879395, 89.14173126220703, 12.834563255310059, 3.505659818649292, 117.93740844726562, 9.194441795349121, 4.91882848739624, 6.124596118927002, 8.76527214050293, 8.876749992370605, 10.858893394470215, 4.07819938659668, 7.585496425628662, 6.628092288970947, 9.302077293395996, 4.031681060791016, 8.921894073486328, 12.672521591186523, 10.29725456237793, 44.82865905761719, 40.40961837768555, 12.958714485168457, 10.903740882873535, 15.024393081665039, 17.130752563476562, 14.51504135131836, 14.571600914001465, 19.049636840820312, 17.602205276489258, 16.16869354248047, 14.858389854431152, 13.867110252380371, 12.206324577331543, 12.403388977050781, 12.963966369628906, 12.197108268737793, 12.848649978637695, 18.69403648376465, 26.325851440429688, 14.19509506225586, 23.85484504699707, 6.566982746124268, 6.721002578735352, 13.917834281921387, 38.37000274658203, 4.863376140594482, 6.7850260734558105, 18.46340560913086, 10.840208053588867, 6.014487266540527, 6.317440986633301, 10.375387191772461, 22.277917861938477, 16.270456314086914, 10.374070167541504, 5.1550092697143555, 11.619218826293945, 4.6255059242248535, 4.819829940795898, 4.883402347564697, 6.670812129974365, 9.537958145141602, 8.230257034301758, 6.736542701721191, 7.914646148681641, 12.033061981201172, 4.176505088806152, 28.478483200073242, 12.026598930358887, 21.04081916809082, 27.984033584594727, 13.786201477050781, 15.4363374710083, 21.91759490966797, 12.564352989196777, 25.52659034729004, 14.973248481750488, 11.832216262817383, 19.18763542175293, 28.094097137451172, 10.45061206817627, 11.659017562866211, 14.098922729492188, 13.517916679382324, 13.652721405029297, 12.765131950378418, 11.605002403259277, 11.729985237121582, 26.55129051208496, 19.466110229492188, 23.868515014648438, 51.82536315917969, 11.591227531433105, 28.341798782348633, 6.497940540313721, 12.831169128417969, 15.60783576965332, 14.606305122375488, 8.07955551147461, 5.481556415557861, 11.31367015838623, 50.547393798828125, 9.330999374389648, 5.361371040344238, 4.1769304275512695, 24.42524528503418, 4.189780235290527, 9.095685958862305, 9.433329582214355, 4.340836524963379, 4.956672668457031, 2.8944039344787598, 3.844226598739624, 7.1701154708862305, 4.091588497161865, 3.933396816253662, 11.117514610290527, 6.530623435974121, 10.482081413269043, 12.974159240722656, 6.861634254455566, 10.497200012207031, 9.116223335266113, 8.573654174804688, 18.053831100463867, 18.055866241455078, 9.736278533935547, 17.976539611816406, 22.417240142822266, 15.99771499633789, 47.37515640258789, 14.77668285369873, 16.844074249267578, 15.396570205688477, 17.745014190673828, 19.971837997436523, 17.5563907623291, 14.342886924743652, 21.308443069458008, 14.329560279846191, 15.513954162597656, 14.726344108581543, 12.20974063873291, 12.310507774353027, 10.56042194366455, 45.244041442871094, 18.735177993774414, 57.57151412963867, 10.185303688049316, 7.787589073181152, 6.081469535827637, 8.140392303466797, 47.33134460449219, 11.253483772277832, 13.004658699035645, 16.4124755859375, 37.054588317871094, 7.154814720153809, 6.726243495941162, 5.622959613800049, 6.634762287139893, 5.425443649291992, 17.715761184692383, 4.5990495681762695, 6.821677207946777, 6.367825508117676, 6.270025253295898, 10.732818603515625, 5.441576957702637, 7.212862014770508, 6.616867542266846, 44.50065612792969, 12.414514541625977, 19.442731857299805, 19.969263076782227, 15.438311576843262, 31.972675323486328, 25.050025939941406, 33.575965881347656, 31.979665756225586, 8.68809700012207, 12.711946487426758, 12.664990425109863, 9.547514915466309, 17.630369186401367, 13.872979164123535, 13.642001152038574, 11.397708892822266, 16.66543960571289, 12.808890342712402, 16.017316818237305, 13.777711868286133, 13.224532127380371, 13.816811561584473, 11.630030632019043, 11.637969970703125, 16.672576904296875, 42.62010192871094, 14.13922119140625, 14.969470977783203, 11.183100700378418, 6.4761199951171875, 12.306497573852539, 14.801945686340332, 22.59178352355957, 6.131617546081543, 90.44136810302734, 6.73794412612915, 8.474724769592285, 4.717855453491211, 9.29523754119873, 5.517193794250488, 3.9816300868988037, 5.000214099884033, 11.657014846801758, 5.082111835479736, 6.869605541229248, 7.521836757659912, 11.910379409790039, 3.9783804416656494, 5.430473804473877, 5.501523017883301, 3.627894639968872, 3.9011149406433105, 21.219566345214844, 6.182188034057617, 8.806774139404297, 9.10645580291748, 10.057929992675781, 26.31723403930664, 18.286378860473633, 15.16110610961914, 13.601861953735352, 19.226192474365234, 19.242942810058594, 14.136101722717285, 13.379176139831543, 19.597660064697266, 11.579205513000488, 16.593034744262695, 17.942184448242188, 13.104555130004883, 27.13383674621582, 10.780158042907715, 11.426827430725098, 12.65446949005127, 11.410529136657715, 11.080519676208496, 15.732712745666504, 21.105031967163086, 19.447406768798828, 6.928478717803955, 25.27490234375, 29.22376251220703, 7.577052116394043, 9.29137134552002, 22.230939865112305, 25.571882247924805, 8.479981422424316, 7.0148773193359375, 4.618139266967773, 4.370538711547852, 5.178096294403076, 4.178366184234619, 8.286046981811523, 8.314960479736328, 3.8288450241088867, 6.188442707061768, 4.080507755279541, 7.6541643142700195, 5.973462104797363, 4.42246675491333, 17.233566284179688, 5.109944820404053, 9.977157592773438, 10.269881248474121, 2.7083091735839844, 3.413301467895508, 31.28957748413086, 10.936652183532715, 12.568516731262207, 8.092489242553711, 17.047372817993164, 10.556386947631836, 14.104569435119629, 10.181143760681152, 9.745260238647461, 10.32986068725586, 11.411723136901855, 9.042003631591797, 10.94815731048584, 10.541437149047852, 9.531787872314453, 9.13125228881836, 8.327112197875977, 5.124156951904297, 14.362204551696777, 18.662940979003906, 34.87045669555664, 23.557649612426758, 5.103329181671143, 34.79423141479492, 9.622710227966309, 5.634490966796875, 5.346754550933838, 4.013402938842773, 6.002226829528809, 3.7943267822265625, 5.642153739929199, 5.4883623123168945, 4.124752044677734, 5.345581531524658, 4.787162780761719, 4.754927158355713, 3.6672275066375732, 2.9871203899383545, 5.471730709075928, 2.2685182094573975, 4.781922817230225, 3.741321563720703, 10.576519966125488, 4.163236141204834, 11.571298599243164, 5.847498416900635, 3.2234175205230713, 5.891694068908691, 7.041924953460693, 13.785686492919922, 9.133702278137207, 20.14216423034668, 22.722076416015625, 9.595492362976074, 9.988320350646973, 12.226786613464355, 19.73107147216797, 9.9606351852417, 10.690832138061523, 11.436080932617188, 12.96458911895752, 20.89108657836914, 17.045852661132812, 11.725120544433594, 11.623600959777832, 14.992015838623047, 10.641545295715332, 7.273272514343262, 12.255668640136719, 10.234128952026367, 9.106283187866211, 8.675054550170898, 16.81790542602539, 6.549129962921143, 3.54819393157959, 6.672821044921875, 2.696279525756836, 2.9237704277038574, 4.781905174255371, 2.657426118850708, 1.8463175296783447, 4.675427436828613, 1.7537235021591187, 4.875930309295654, 3.3668196201324463, 9.518491744995117, 2.4224202632904053, 2.5970075130462646, 1.713607907295227, 10.488548278808594, 1.74685537815094, 7.649664402008057, 1.8465546369552612, 4.39675235748291, 4.458590984344482, 10.64871883392334, 2.7546188831329346, 3.5348074436187744, 2.5848326683044434, 6.262143611907959, 5.897093772888184, 12.080678939819336, 6.762425899505615, 4.122551918029785, 14.05732536315918, 6.202744007110596, 7.757552623748779, 7.5723185539245605, 6.490024089813232, 5.294672012329102, 8.126270294189453, 7.527363300323486, 8.860050201416016, 9.139278411865234, 10.342355728149414, 7.593860626220703, 11.389174461364746, 7.243540287017822, 6.060276031494141, 6.3481245040893555, 6.358590126037598, 6.61430025100708, 6.536763668060303, 6.232757091522217, 6.114320278167725, 19.183185577392578, 4.082417011260986, 5.265819549560547, 4.5075507164001465, 3.1318116188049316, 3.495622158050537, 3.116786003112793, 4.564724922180176, 3.4311985969543457, 1.7774721384048462, 4.729646682739258, 2.5466346740722656, 5.210730075836182, 2.9802839756011963, 4.757694721221924, 2.3534598350524902, 2.215829849243164, 1.9595577716827393, 2.0577964782714844, 2.073150396347046, 2.449174404144287, 18.37295913696289, 4.777045249938965, 1.8861783742904663, 5.466655731201172, 3.544037103652954, 1.8625527620315552, 2.059030055999756, 2.5863659381866455, 2.018831968307495, 3.6685941219329834, 5.985241413116455, 7.480836391448975, 2.916050672531128, 13.257094383239746, 6.47139835357666, 3.8829498291015625, 3.8556103706359863, 4.854742050170898, 3.922203540802002, 7.040220260620117, 6.032296180725098, 4.7567243576049805, 4.347077369689941, 5.5797224044799805, 6.248869895935059, 5.705624580383301, 5.822341442108154, 4.693680286407471, 4.900152683258057, 4.023758888244629, 4.704657554626465, 4.732712745666504, 4.405433177947998, 4.291634559631348, 4.367033958435059], \"Term\": [\"february\", \"woman\", \"student\", \"she\", \"china\", \"area\", \"patient\", \"her\", \"fire\", \"wuhan\", \"virus\", \"ship\", \"chinese\", \"study\", \"case\", \"you\", \"school\", \"mask\", \"cruise\", \"smoke\", \"climate\", \"passenger\", \"confirmed\", \"say\", \"his\", \"your\", \"wednesday\", \"sydney\", \"flight\", \"face\", \"ait\", \"created\", \"science\", \"decade\", \"material\", \"produced\", \"technology\", \"researcher\", \"project\", \"australiaas\", \"create\", \"research\", \"challenge\", \"led\", \"senior\", \"link\", \"scientist\", \"david\", \"awe\", \"ai\", \"season\", \"policy\", \"degree\", \"natural\", \"letter\", \"prof\", \"he_added\", \"sport\", \"monash_university\", \"future\", \"director\", \"team\", \"cell\", \"say\", \"change\", \"part\", \"monash\", \"climate\", \"professor\", \"could\", \"climate_change\", \"way\", \"part_of\", \"time\", \"most\", \"dr\", \"now\", \"some\", \"these\", \"like\", \"how\", \"over\", \"many\", \"world\", \"such\", \"our\", \"so\", \"melbourne\", \"fever_cough\", \"breathing\", \"evacuate\", \"sore_throat\", \"chinese_authority\", \"pneumonia\", \"sydney_airport\", \"sore\", \"cough\", \"fluid\", \"fever\", \"murphy_said\", \"untreated\", \"breath\", \"other_country\", \"identified\", \"mild\", \"gp\", \"foreign_affair\", \"caught\", \"common_cold\", \"being_treated\", \"throat\", \"typical\", \"novel_coronavirus\", \"breathe\", \"desperate\", \"wearing_protective\", \"malaysia\", \"severe_acute\", \"south_korea\", \"hubei_province\", \"symptom\", \"thailand\", \"murphy\", \"aged\", \"wuhan\", \"korea\", \"hospital\", \"virus\", \"deadly\", \"china\", \"province\", \"patient\", \"medical\", \"hubei\", \"man\", \"spread\", \"authority\", \"case\", \"confirmed\", \"may\", \"airport\", \"city\", \"travel\", \"infected\", \"his\", \"outbreak\", \"melbourne\", \"chinese\", \"infection\", \"if\", \"now\", \"disease\", \"government\", \"two\", \"country\", \"sydney\", \"mask\", \"out\", \"gold_coast\", \"airline\", \"gold\", \"being_tested\", \"test_result\", \"flew\", \"from_wuhan\", \"day_later\", \"landing\", \"sa\", \"campus\", \"tourist\", \"carry\", \"date\", \"family_member\", \"fourth\", \"direct\", \"relative\", \"whom\", \"recovering\", \"unwell\", \"tour\", \"victim\", \"spent\", \"coast\", \"contagious\", \"track\", \"returned_from\", \"at_brisbane\", \"officer_dr\", \"arrived\", \"diagnosed\", \"isolation\", \"flight\", \"year_old\", \"via\", \"ill\", \"nine\", \"plane\", \"melbourne\", \"sydney\", \"nsw\", \"old\", \"china\", \"confirmed\", \"wuhan\", \"infected\", \"man\", \"chinese\", \"two\", \"airport\", \"week\", \"hospital\", \"virus\", \"three\", \"symptom\", \"she\", \"woman\", \"student\", \"patient\", \"passenger\", \"could\", \"detention\", \"qantas_flight\", \"christmas\", \"christmas_island\", \"evacuee\", \"island\", \"evacuated_from\", \"australian_citizen\", \"japan_advertisement\", \"landed\", \"evacuated\", \"base\", \"qantas\", \"facility\", \"evacuation\", \"epicentre\", \"stranded\", \"epicentre_of\", \"new_zealand\", \"zealand\", \"australia_february\", \"aedt_february\", \"february_queensland\", \"january_february\", \"wale_january\", \"february_western\", \"january_victoria\", \"february_updated\", \"darwin\", \"february_february\", \"february\", \"january_january\", \"flight\", \"wuhan\", \"confirmed_case\", \"aedt\", \"quarantine\", \"south_australia\", \"confirmed\", \"queensland\", \"western\", \"case\", \"china\", \"virus\", \"two\", \"japan\", \"outbreak\", \"travel_ban\", \"ban\", \"foreign_traveller\", \"chinese_student\", \"tourism\", \"extended\", \"entering\", \"accommodation\", \"arrival\", \"financial\", \"growth\", \"sector\", \"student\", \"cost\", \"medical_advice\", \"travel\", \"cent\", \"per_cent\", \"semester\", \"economy\", \"price\", \"mainland_china\", \"temporary\", \"economic\", \"education\", \"unable\", \"worth\", \"third\", \"per\", \"traveller\", \"foreign\", \"mainland\", \"international\", \"february\", \"china\", \"chinese\", \"country\", \"government\", \"would\", \"western\", \"february_february\", \"week\", \"january_january\", \"through\", \"pictured\", \"sydney\", \"could\", \"told\", \"outbreak\", \"those\", \"minister\", \"docked\", \"yokohama\", \"vessel\", \"ship\", \"aboard\", \"japanese\", \"princess\", \"diamond\", \"diamond_princess\", \"cruise\", \"cabin\", \"cruise_ship\", \"port\", \"at_yokohama\", \"on_board\", \"guest\", \"board\", \"quarantined\", \"remaining\", \"confined\", \"tokyo\", \"passenger\", \"crew\", \"tested_positive\", \"room\", \"sent\", \"spring\", \"his_wife\", \"japan\", \"quarantine\", \"positive\", \"tested\", \"two_week\", \"february\", \"off\", \"medical\", \"virus\", \"friday\", \"two\", \"case\", \"week\", \"hospital\", \"disease_control\", \"expert_say\", \"fatality\", \"flu\", \"appear\", \"surge\", \"named\", \"catch\", \"seem\", \"illness\", \"originally\", \"animal\", \"sars\", \"not_yet\", \"nose\", \"treat\", \"possibility\", \"common_cold\", \"contagious\", \"mild\", \"possibly\", \"prevention\", \"respiratory_syndrome\", \"known\", \"rate\", \"cause\", \"reason\", \"syndrome\", \"infectious_disease\", \"strain\", \"live\", \"virus\", \"spreading\", \"type\", \"disease\", \"symptom\", \"human\", \"infection\", \"might\", \"spread\", \"case\", \"covid\", \"patient\", \"institute\", \"professor\", \"outbreak\", \"respiratory\", \"expert\", \"so\", \"around\", \"per_cent\", \"what\", \"cent\", \"infected\", \"china\", \"may\", \"per\", \"market\", \"first\", \"them\", \"two\", \"if_you\", \"your\", \"donat\", \"try\", \"car\", \"you\", \"light\", \"chance\", \"sure\", \"itas\", \"feel\", \"talking\", \"sense\", \"baby\", \"body\", \"getting\", \"idea\", \"question\", \"rather\", \"safety\", \"actually\", \"everyone\", \"big\", \"avoid\", \"main\", \"exactly\", \"bit\", \"find\", \"bed\", \"feeling\", \"if\", \"get\", \"head\", \"should\", \"thing\", \"do\", \"men\", \"work\", \"so\", \"make\", \"what\", \"go\", \"when\", \"control\", \"time\", \"help\", \"them\", \"how\", \"u\", \"even\", \"some\", \"my\", \"like\", \"just\", \"because\", \"other\", \"no\", \"would\", \"before\", \"may\", \"mother\", \"me\", \"daughter\", \"play\", \"her\", \"friend\", \"m\", \"felt\", \"series\", \"my\", \"thought\", \"wife\", \"his\", \"shared\", \"she\", \"she_wa\", \"every_day\", \"picture\", \"kept\", \"named\", \"him\", \"role\", \"took\", \"ll\", \"game\", \"stuck\", \"entry\", \"ground\", \"name\", \"his_wife\", \"highest\", \"left\", \"when\", \"family\", \"she_said\", \"did\", \"parent\", \"pictured\", \"just\", \"into\", \"first\", \"child\", \"right\", \"mr\", \"get\", \"out\", \"time\", \"old\", \"back\", \"home\", \"city\", \"would\", \"student\", \"two\", \"smoke\", \"blaze\", \"air_quality\", \"destroyed\", \"fire\", \"bureau\", \"bushfire\", \"bushfires\", \"quality\", \"summer\", \"disaster\", \"canberra\", \"heat\", \"exposure\", \"air\", \"unprecedented\", \"average\", \"caused\", \"caused_by\", \"worst\", \"temperature\", \"east\", \"heavy\", \"weather\", \"condition\", \"increase\", \"predicted\", \"long_term\", \"property\", \"above\", \"season\", \"affected\", \"climate\", \"worse\", \"million\", \"month\", \"event\", \"risk\", \"across\", \"week\", \"over\", \"area\", \"city\", \"some\", \"least\", \"emergency\", \"home\", \"scenario\", \"distancing\", \"gathering\", \"banned\", \"rule\", \"limit\", \"metre\", \"moving\", \"massive\", \"extreme\", \"open\", \"shut\", \"essential\", \"break\", \"bed\", \"learning\", \"school\", \"forced\", \"delayed\", \"social\", \"water\", \"personal\", \"would_be\", \"cancelled\", \"supermarket\", \"event\", \"measure\", \"practice\", \"limited\", \"eventually\", \"continue\", \"closed\", \"public_health\", \"would\", \"home\", \"close\", \"professor\", \"business\", \"if\", \"could\", \"go\", \"will_be\", \"state\", \"what\", \"service\", \"told\", \"some\", \"such\", \"other\", \"need\", \"number\", \"where\", \"child\", \"reuters\", \"pas\", \"taiwan\", \"beijing\", \"ministry\", \"death_toll\", \"holding\", \"on_saturday\", \"total_number\", \"toll\", \"saturday\", \"sars\", \"epidemic\", \"death\", \"shanghai\", \"philippine\", \"certain\", \"bringing\", \"infectious_disease\", \"difficulty\", \"shortage\", \"fatality\", \"latest\", \"mainland\", \"severe_acute\", \"mainland_china\", \"appears\", \"production\", \"previous\", \"kong\", \"hong\", \"hong_kong\", \"reported\", \"official\", \"china\", \"on_friday\", \"number_of\", \"number\", \"infection\", \"case\", \"hubei\", \"chinese\", \"died\", \"friday\", \"wuhan\", \"outbreak\", \"total\", \"million\", \"disease\", \"expert\", \"virus\", \"japan\", \"party\", \"school\", \"parent\", \"visited\", \"suburb\", \"western_australia\", \"list\", \"returning_from\", \"college\", \"tasmania\", \"immediately\", \"isolate\", \"returning\", \"cleared\", \"returned_from\", \"territory\", \"tested_positive\", \"recovered\", \"nsw_health\", \"northern\", \"recorded\", \"trip\", \"march\", \"class\", \"department\", \"updated_aedt\", \"recently\", \"stock_image\", \"returned\", \"former\", \"tested\", \"positive\", \"total\", \"state\", \"child\", \"melbourne\", \"case\", \"isolated\", \"friday\", \"student\", \"sydney\", \"isolation\", \"while\", \"our\", \"infected\", \"on_monday\", \"man\", \"virus\", \"pictured\", \"his\", \"dr\", \"confirmed\", \"she\", \"group\", \"network\", \"location\", \"peak\", \"area\", \"resource\", \"data\", \"author\", \"present\", \"site\", \"access\", \"based_on\", \"analysis\", \"london\", \"average\", \"user\", \"view\", \"based\", \"individual\", \"available\", \"increased\", \"example\", \"approach\", \"matter\", \"reduced\", \"specific\", \"york\", \"relative\", \"each\", \"scale\", \"amp\", \"different\", \"step\", \"image\", \"cell\", \"result\", \"information\", \"using\", \"study\", \"common\", \"human\", \"between\", \"through\", \"level\", \"case\", \"into\", \"such\", \"restaurant\", \"shop\", \"indonesia\", \"normally\", \"busy\", \"business\", \"bad\", \"door\", \"asian\", \"town\", \"money\", \"seafood\", \"hotel\", \"facebook\", \"trade\", \"told_daily\", \"mail_australia\", \"selling\", \"local\", \"doesn\", \"wrote\", \"mail\", \"appear\", \"usually\", \"suburb\", \"billion\", \"fact\", \"ve_been\", \"am\", \"staying\", \"chinese\", \"job\", \"daily\", \"return\", \"community\", \"empty\", \"february\", \"want\", \"week\", \"mask\", \"told\", \"good\", \"face\", \"staff\", \"area\", \"sydney\", \"last\", \"mr\", \"february_february\", \"out\", \"outbreak\", \"january_january\", \"just\", \"fear\", \"now\", \"queensland\", \"around\", \"shelf\", \"store\", \"buy\", \"face_mask\", \"stock\", \"toilet\", \"chain\", \"hand\", \"supermarket\", \"posted\", \"sold\", \"customer\", \"demand\", \"paper\", \"completely\", \"supply\", \"face\", \"product\", \"mask\", \"empty\", \"usual\", \"seeing\", \"mid\", \"perth\", \"shortage\", \"selling\", \"struck\", \"price\", \"essential\", \"photo\", \"out\", \"sign\", \"mail\", \"february\", \"around\", \"told\", \"off\", \"no\", \"virus\", \"when\", \"sydney\", \"some\", \"daily\", \"indonesia\", \"heading\", \"gold_coast\", \"gold\", \"urged\", \"asian\", \"seeing\", \"epidemic\", \"health_minister\", \"chief_medical\", \"officer_dr\", \"fill\", \"concerned\", \"begin\", \"walk\", \"new_zealand\", \"zealand\", \"asking\", \"affecting\", \"coast\", \"no_need\", \"planning\", \"closing\", \"remained\", \"prepared\", \"international_airport\", \"eventually\", \"covid\", \"ministry\", \"ha_killed\", \"young\", \"country\", \"dr\", \"officer\", \"murphy\", \"brisbane\", \"pandemic\", \"queensland\", \"february\", \"chief\", \"aged\", \"advice\", \"she\", \"way\", \"february_february\", \"case\", \"number_of\", \"world\", \"january_january\", \"told\", \"medical\", \"travel\", \"number\", \"japan\", \"you\", \"week\", \"now\", \"infected\", \"mass\", \"immune\", \"analysis\", \"normal\", \"compared\", \"sample\", \"amp\", \"journal\", \"using\", \"followed\", \"alone\", \"shown\", \"standard\", \"level\", \"significantly\", \"addition\", \"stage\", \"range\", \"study\", \"heart\", \"higher\", \"patient\", \"included\", \"author\", \"non\", \"used\", \"associated\", \"role\", \"existing\", \"either\", \"test\", \"group\", \"between\", \"cell\", \"mean\", \"use\", \"woman\", \"those\", \"control\", \"three\", \"data\", \"risk\", \"well\", \"may\", \"each\", \"including\", \"prepare_for\", \"failure\", \"organ\", \"greg\", \"greg_hunt\", \"pandemic\", \"upon\", \"we_need\", \"prepare\", \"trigger\", \"intensive_care\", \"hunt\", \"necessary\", \"intensive\", \"at_yokohama\", \"mr_morrison\", \"reporter\", \"elderly_or\", \"plan\", \"originated\", \"flown\", \"multiple\", \"he_told\", \"damage\", \"flu_like\", \"includes\", \"declared\", \"scott_morrison\", \"prime_minister\", \"response\", \"on_thursday\", \"morrison\", \"thursday\", \"prime\", \"u\", \"minister\", \"scott\", \"february\", \"would\", \"cruise\", \"ship\", \"need\", \"virus\", \"china\", \"government\", \"world\", \"cruise_ship\", \"told\", \"very\", \"centre\", \"much\", \"into\", \"sydney\", \"premier\", \"pay\", \"shut\", \"shut_down\", \"suggesting\", \"intensive\", \"expect\", \"slow\", \"lockdown\", \"intensive_care\", \"essential\", \"weekend\", \"announcement\", \"closing\", \"northern\", \"tasmania\", \"territory\", \"italy\", \"test_result\", \"job\", \"footage\", \"busy\", \"strong\", \"announced\", \"andrew\", \"calling\", \"recovered\", \"peter\", \"street\", \"sun\", \"economic\", \"line\", \"restriction\", \"minister\", \"test\", \"thursday\", \"on_thursday\", \"down\", \"government\", \"crisis\", \"number\", \"stage\", \"morrison\", \"service\", \"number_of\", \"business\", \"will_be\", \"home\", \"week\", \"case\", \"country\", \"would\", \"friday\", \"national\", \"he_said\", \"covid\", \"only\", \"virus\", \"out\", \"state\", \"sydney\", \"result\", \"patient\", \"delay\", \"semester\", \"class\", \"uk\", \"online\", \"course\", \"worried\", \"die\", \"campus\", \"student\", \"explained\", \"red\", \"monitor\", \"social_medium\", \"advised\", \"continuing\", \"accommodation\", \"phone\", \"please\", \"date\", \"providing\", \"item\", \"starting\", \"sector\", \"learning\", \"moved\", \"have_died\", \"monitoring\", \"user\", \"reach\", \"education\", \"medium\", \"last_year\", \"deadly_virus\", \"start\", \"monash_university\", \"food\", \"coronavirus_outbreak\", \"staff\", \"possible\", \"travel\", \"monash\", \"social\", \"spread\", \"out\", \"week\", \"could\", \"contact\", \"he_said\", \"other\", \"concern\", \"chinese\", \"study\", \"government\", \"many\", \"help\", \"virus\", \"would\", \"if\", \"some\", \"council\", \"fine\", \"female\", \"history\", \"asia\", \"became\", \"mission\", \"she_wa\", \"woman\", \"fly\", \"space\", \"wear\", \"british\", \"cancelled\", \"philippine\", \"her\", \"must\", \"unclear\", \"she\", \"won\", \"pacific\", \"decided\", \"agency\", \"claim\", \"asian\", \"final\", \"law\", \"share\", \"athe\", \"wasn\", \"port\", \"decision\", \"singapore\", \"first\", \"say\", \"issue\", \"american\", \"wearing\", \"work\", \"made\", \"my\", \"mask\", \"world\", \"three\", \"still\", \"across\", \"found\", \"back\", \"city\", \"time\", \"february\", \"share\", \"trade\", \"law\", \"video\", \"shut_down\", \"fourth\", \"economic\", \"market\", \"wide\", \"road\", \"customer\", \"post\", \"user\", \"spokeswoman\", \"co\", \"sign\", \"economy\", \"dead\", \"malaysia\", \"social_medium\", \"york\", \"significantly\", \"twitter\", \"security\", \"street\", \"industry\", \"shut\", \"daily_mail\", \"company\", \"immediately\", \"down\", \"traveller\", \"animal\", \"mr\", \"tuesday\", \"daily\", \"aedt\", \"mail\", \"melbourne\", \"global\", \"medium\", \"told\", \"february\", \"amp\", \"show\", \"our\", \"just\", \"first\", \"like\", \"social\", \"since\", \"game\", \"survival\", \"tokyo\", \"food\", \"panic\", \"supply\", \"item\", \"shortage\", \"italy\", \"paper\", \"prepared\", \"ready\", \"shelf\", \"should\", \"shop\", \"thinking\", \"priority\", \"start\", \"chain\", \"toilet\", \"should_be\", \"extra\", \"treat\", \"unclear\", \"basis\", \"continues\", \"box\", \"list\", \"own\", \"leading\", \"nation\", \"warned\", \"brendan\", \"water\", \"run\", \"safe\", \"diamond_princess\", \"diamond\", \"chief_medical\", \"princess\", \"spread\", \"pandemic\", \"february\", \"cruise_ship\", \"cruise\", \"he_said\", \"ship\", \"week\", \"outbreak\", \"expert\", \"virus\", \"last\", \"government\", \"case\", \"chief\", \"your\", \"focus\", \"climate_change\", \"leader\", \"climate\", \"environment\", \"hot\", \"annual\", \"attention\", \"change\", \"victorian\", \"former\", \"weather\", \"morrison\", \"management\", \"strong\", \"role\", \"real\", \"rather_than\", \"scott_morrison\", \"april\", \"effective\", \"premier\", \"weekend\", \"last_year\", \"deputy\", \"approach\", \"reduce\", \"fire\", \"royal\", \"prime_minister\", \"prime\", \"scott\", \"minister\", \"risk\", \"government\", \"country\", \"comment\", \"medium\", \"community\", \"protect\", \"only\", \"global\", \"based\", \"bushfires\", \"his\", \"public\", \"when\", \"state\", \"should\", \"spread\", \"service\", \"need\", \"discovered\", \"specie\", \"female\", \"related\", \"they_re\", \"woman_aged\", \"personal\", \"mother\", \"young\", \"stock_image\", \"woman\", \"associated\", \"baby\", \"ve_been\", \"finding\", \"stress\", \"sense\", \"experienced\", \"self\", \"professional\", \"facebook\", \"age\", \"almost\", \"gone\", \"pair\", \"we_don\", \"whom\", \"suffering\", \"both\", \"perth\", \"northern\", \"police\", \"aged\", \"aedt\", \"published\", \"image\", \"published_aedt\", \"per_cent\", \"cent\", \"updated\", \"advertisement\", \"per\", \"ve\", \"study\", \"them\", \"each\", \"february\", \"online\", \"life\", \"group\", \"monash\", \"her\", \"story\", \"abc\", \"office\", \"annual\", \"company\", \"news\", \"twitter\", \"email\", \"leave\", \"worker\", \"offer\", \"offering\", \"conversation\", \"detail\", \"communication\", \"circumstance\", \"co\", \"host\", \"press\", \"reporting\", \"extra\", \"cut\", \"executive\", \"website\", \"medium\", \"pay\", \"sick\", \"call\", \"wide\", \"activity\", \"work\", \"report\", \"service\", \"decision\", \"home\", \"daily\", \"time\", \"pandemic\", \"way\", \"should\", \"told\", \"staff\", \"when\", \"some\", \"our\", \"need\", \"found\", \"alert_level\", \"hotel\", \"diagnosed_with\", \"on_wednesday\", \"diagnosed\", \"ha_raised\", \"wednesday\", \"unwell\", \"no_need\", \"officer_dr\", \"including_three\", \"updated_aedt\", \"sore_throat\", \"officer_brendan\", \"chief_health\", \"anyone_who\", \"alert\", \"mile\", \"isolate\", \"sore\", \"none\", \"brendan\", \"breath\", \"unless\", \"throat\", \"brisbane\", \"entire\", \"team\", \"isolated\", \"at_brisbane\", \"murphy\", \"contact_with\", \"confirmed_case\", \"earlier\", \"queensland\", \"confirmed\", \"province\", \"hubei\", \"national\", \"chinese\", \"officer\", \"chief\", \"four\", \"city\", \"china\", \"wuhan\", \"aedt\", \"outbreak\", \"virus\", \"travel\", \"young\", \"case\", \"woman\", \"no\", \"state\", \"lung\", \"contracting\", \"chance\", \"central\", \"whole\", \"docked\", \"west\", \"die\", \"considering\", \"safety\", \"worth\", \"self\", \"eastern\", \"died\", \"separate\", \"concerned\", \"additional\", \"covid\", \"pretty\", \"plane\", \"specialist\", \"action\", \"treatment\", \"wednesday\", \"shanghai\", \"suburb\", \"victorian\", \"worker\", \"further\", \"thursday\", \"on_wednesday\", \"low\", \"sydney\", \"show\", \"nsw\", \"off\", \"board\", \"care\", \"get\", \"risk\", \"passenger\", \"melbourne\", \"you\", \"last\", \"case\", \"city\", \"go\", \"your\", \"our\", \"ship\", \"if\", \"other\", \"time\", \"treatment\", \"effective\", \"finding\", \"hope\", \"unit\", \"real\", \"amount\", \"evidence\", \"mile\", \"kill\", \"network\", \"pressure\", \"increase\", \"executive\", \"hundred_of\", \"associated\", \"immediately\", \"stock_image\", \"begin\", \"unprecedented\", \"survival\", \"study\", \"hundred\", \"mission\", \"body\", \"those_who\", \"chief_executive\", \"larger\", \"experience\", \"seeing\", \"globally\", \"doctor\", \"data\", \"president\", \"patient\", \"result\", \"stock\", \"lead\", \"care\", \"company\", \"dr\", \"death\", \"condition\", \"working\", \"because\", \"home\", \"disease\", \"no\", \"work\", \"say\", \"online\", \"spread\", \"those\", \"group\", \"aedt\", \"other\"], \"Total\": [1617.0, 477.0, 518.0, 697.0, 1060.0, 419.0, 450.0, 494.0, 301.0, 681.0, 1134.0, 416.0, 590.0, 305.0, 942.0, 612.0, 287.0, 451.0, 328.0, 176.0, 188.0, 417.0, 477.0, 458.0, 459.0, 296.0, 205.0, 468.0, 483.0, 325.0, 27.638004302978516, 33.56541061401367, 66.02272033691406, 55.20823287963867, 84.59173583984375, 26.627443313598633, 97.71989440917969, 146.85231018066406, 34.36289978027344, 57.53089904785156, 41.57000732421875, 199.50479125976562, 37.381900787353516, 34.416446685791016, 46.42512512207031, 33.32725524902344, 148.27915954589844, 35.42753601074219, 25.64266014099121, 66.1123275756836, 82.07953643798828, 48.473175048828125, 45.27687072753906, 32.75518035888672, 40.28520202636719, 52.459163665771484, 28.70890235900879, 66.17204284667969, 99.58871459960938, 69.96047973632812, 95.93685150146484, 136.14120483398438, 161.23529052734375, 458.15911865234375, 212.41168212890625, 163.6923370361328, 237.26931762695312, 188.46890258789062, 216.4278106689453, 522.5392456054688, 111.43579864501953, 213.25559997558594, 127.05469512939453, 472.8274230957031, 267.0656433105469, 294.3021545410156, 417.1126403808594, 485.294677734375, 264.8702392578125, 331.01519775390625, 265.1200256347656, 302.7412414550781, 306.1543273925781, 374.3318176269531, 288.69189453125, 344.1515197753906, 468.14129638671875, 451.331298828125, 35.14525604248047, 32.92826461791992, 34.98081588745117, 30.19891357421875, 38.00383758544922, 80.9327163696289, 30.819095611572266, 34.17902755737305, 64.7988052368164, 26.940414428710938, 78.88945007324219, 37.980384826660156, 20.984567642211914, 23.997779846191406, 38.78404235839844, 81.6897964477539, 42.940948486328125, 35.82135009765625, 24.79191017150879, 64.7701644897461, 35.916290283203125, 53.650230407714844, 41.15739440917969, 23.001506805419922, 46.8940544128418, 27.925710678100586, 31.892127990722656, 42.89326477050781, 31.725614547729492, 38.95451736450195, 70.0130386352539, 107.8702163696289, 312.7077941894531, 59.827999114990234, 72.73318481445312, 92.08877563476562, 681.5869750976562, 75.87693786621094, 413.7821960449219, 1134.318115234375, 239.8847198486328, 1060.2464599609375, 155.7705535888672, 450.1834716796875, 358.1450500488281, 166.5762939453125, 257.4696044921875, 383.7433776855469, 225.9951629638672, 942.2332153320312, 477.66021728515625, 343.68109130859375, 191.77708435058594, 361.6415100097656, 367.2303466796875, 381.4490966796875, 459.55584716796875, 464.6181640625, 451.331298828125, 590.5684814453125, 235.63494873046875, 614.309326171875, 417.1126403808594, 385.8180236816406, 493.04571533203125, 626.453857421875, 469.4708251953125, 468.6055908203125, 451.0950622558594, 565.8839721679688, 91.2788314819336, 104.42840576171875, 102.97803497314453, 37.61517333984375, 27.624500274658203, 53.49989318847656, 154.12660217285156, 30.637500762939453, 38.70156478881836, 22.691303253173828, 51.953224182128906, 85.39517974853516, 48.31433868408203, 35.3377571105957, 26.562416076660156, 28.38501739501953, 48.48698806762695, 41.282623291015625, 27.45480728149414, 24.751161575317383, 58.89561462402344, 41.5424919128418, 46.6373291015625, 56.39716339111328, 161.18603515625, 31.703580856323242, 32.44218063354492, 35.710975646972656, 39.59275436401367, 37.7514533996582, 113.9446792602539, 116.87206268310547, 196.47021484375, 483.68389892578125, 179.86544799804688, 75.82312774658203, 85.94792175292969, 93.35238647460938, 139.35952758789062, 451.331298828125, 468.6055908203125, 227.00906372070312, 213.8091583251953, 1060.2464599609375, 477.66021728515625, 681.5869750976562, 381.4490966796875, 257.4696044921875, 590.5684814453125, 626.453857421875, 191.77708435058594, 581.0255737304688, 413.7821960449219, 1134.318115234375, 318.7196044921875, 312.7077941894531, 697.8375244140625, 477.2110290527344, 518.0869750976562, 450.1834716796875, 417.5792541503906, 522.5392456054688, 37.18988037109375, 30.127910614013672, 164.5218963623047, 161.49826049804688, 112.2040786743164, 238.40235900878906, 54.750755310058594, 38.836788177490234, 84.66854858398438, 37.90021896362305, 95.62840270996094, 29.80936622619629, 125.21309661865234, 100.2729263305664, 58.001502990722656, 138.32579040527344, 25.882461547851562, 117.30152893066406, 117.01810455322266, 117.02168273925781, 154.76417541503906, 102.12168884277344, 155.7480010986328, 153.74923706054688, 153.74916076660156, 153.7487335205078, 153.74868774414062, 103.06925964355469, 86.56539154052734, 306.48211669921875, 1617.547119140625, 339.4344787597656, 483.68389892578125, 681.5869750976562, 191.03060913085938, 308.7671813964844, 244.25839233398438, 236.38027954101562, 477.66021728515625, 394.527099609375, 261.7120361328125, 942.2332153320312, 1060.2464599609375, 1134.318115234375, 626.453857421875, 372.18804931640625, 464.6181640625, 132.19854736328125, 242.00592041015625, 21.7141056060791, 93.70240020751953, 48.364906311035156, 58.25189971923828, 32.50790786743164, 34.4993782043457, 33.58970642089844, 39.64907455444336, 31.80902099609375, 33.55072021484375, 518.0869750976562, 60.09360122680664, 33.551719665527344, 367.2303466796875, 263.0085754394531, 259.0228576660156, 60.75471115112305, 95.026611328125, 39.42857360839844, 136.82479858398438, 25.673158645629883, 61.115665435791016, 102.4416732788086, 32.5898323059082, 26.46251106262207, 86.7337417602539, 299.318115234375, 101.25658416748047, 128.5123748779297, 167.60687255859375, 246.86807250976562, 1617.547119140625, 1060.2464599609375, 590.5684814453125, 469.4708251953125, 493.04571533203125, 566.6460571289062, 261.7120361328125, 306.48211669921875, 581.0255737304688, 339.4344787597656, 298.6552429199219, 396.0960388183594, 468.6055908203125, 522.5392456054688, 465.0700988769531, 464.6181640625, 405.634521484375, 308.4091491699219, 34.98207473754883, 90.22686004638672, 47.93203353881836, 416.947998046875, 54.906105041503906, 67.69578552246094, 230.8782196044922, 214.4545440673828, 213.48199462890625, 328.22601318359375, 53.17897033691406, 231.2284698486328, 63.45484161376953, 36.476436614990234, 163.28146362304688, 44.2829704284668, 189.855712890625, 126.53632354736328, 27.513093948364258, 28.560983657836914, 51.77639389038086, 417.5792541503906, 89.96595001220703, 129.1712188720703, 123.35263061523438, 55.391727447509766, 39.66592788696289, 34.526771545410156, 372.18804931640625, 244.25839233398438, 204.85263061523438, 291.0654296875, 121.33112335205078, 1617.547119140625, 233.21966552734375, 358.1450500488281, 1134.318115234375, 210.8482666015625, 626.453857421875, 942.2332153320312, 581.0255737304688, 413.7821960449219, 29.923128128051758, 36.74998474121094, 39.792877197265625, 100.62693786621094, 26.665172576904297, 22.650375366210938, 49.7534065246582, 33.791526794433594, 39.82912826538086, 136.36180114746094, 22.917110443115234, 191.91384887695312, 151.26699829101562, 27.73859405517578, 40.63204574584961, 34.689796447753906, 21.848804473876953, 35.916290283203125, 31.703580856323242, 42.940948486328125, 30.880002975463867, 37.9551887512207, 44.938777923583984, 111.77677917480469, 119.41203308105469, 150.0211181640625, 55.59654998779297, 45.927490234375, 45.70818328857422, 23.740764617919922, 76.07129669189453, 1134.318115234375, 94.31028747558594, 66.3981704711914, 385.8180236816406, 312.7077941894531, 234.7452850341797, 235.63494873046875, 103.19445037841797, 383.7433776855469, 942.2332153320312, 189.8605499267578, 450.1834716796875, 105.91754150390625, 216.4278106689453, 464.6181640625, 129.28282165527344, 251.69586181640625, 468.14129638671875, 331.259521484375, 259.0228576660156, 348.77862548828125, 263.0085754394531, 381.4490966796875, 1060.2464599609375, 343.68109130859375, 299.318115234375, 176.76263427734375, 468.2981872558594, 386.11712646484375, 626.453857421875, 108.63948059082031, 296.1954345703125, 60.00971221923828, 45.97348403930664, 99.71683502197266, 612.421142578125, 60.78561782836914, 33.4814453125, 57.929443359375, 83.58636474609375, 72.58563232421875, 25.924272537231445, 24.794513702392578, 45.99801254272461, 95.24562072753906, 65.60570526123047, 37.771507263183594, 47.73197937011719, 41.836151123046875, 70.3409194946289, 38.88481140136719, 47.68983840942383, 53.750389099121094, 75.53213500976562, 55.174293518066406, 24.856767654418945, 37.585418701171875, 58.33418273925781, 68.90132904052734, 40.51805877685547, 614.309326171875, 303.1646423339844, 80.50596618652344, 278.090576171875, 106.82473754882812, 320.82086181640625, 114.3416748046875, 262.6449890136719, 468.14129638671875, 240.0828399658203, 348.77862548828125, 236.13331604003906, 503.9342956542969, 116.41072082519531, 472.8274230957031, 211.4220733642578, 386.11712646484375, 265.1200256347656, 229.69171142578125, 246.57040405273438, 485.294677734375, 211.0659942626953, 331.01519775390625, 345.90362548828125, 296.1963806152344, 436.8631286621094, 420.35345458984375, 566.6460571289062, 341.9270935058594, 343.68109130859375, 64.486083984375, 102.84000396728516, 48.344181060791016, 75.4697494506836, 494.9840087890625, 76.4714584350586, 85.65228271484375, 44.67851638793945, 32.59199905395508, 211.0659942626953, 58.62432098388672, 52.49647903442383, 459.55584716796875, 77.38262176513672, 697.8375244140625, 118.79339599609375, 28.659700393676758, 37.61653518676758, 23.78741455078125, 49.7534065246582, 82.20219421386719, 32.966705322265625, 72.24303436279297, 40.587257385253906, 53.13016128540039, 37.73712921142578, 29.60007095336914, 37.88407516479492, 28.721920013427734, 34.526771545410156, 46.663482666015625, 185.24440002441406, 503.9342956542969, 290.8213195800781, 138.75759887695312, 119.87096405029297, 76.75872039794922, 396.0960388183594, 345.90362548828125, 436.38427734375, 468.2981872558594, 240.46449279785156, 158.3683319091797, 319.5711975097656, 303.1646423339844, 565.8839721679688, 472.8274230957031, 213.8091583251953, 209.20953369140625, 416.1307067871094, 361.6415100097656, 566.6460571289062, 518.0869750976562, 626.453857421875, 176.91815185546875, 37.76197052001953, 62.58376693725586, 31.987701416015625, 301.4342346191406, 31.735097885131836, 97.64019012451172, 136.70582580566406, 93.1762466430664, 57.57140350341797, 34.68498611450195, 90.45149230957031, 49.47129440307617, 57.53987503051758, 241.11019897460938, 33.6804313659668, 64.91448974609375, 56.578468322753906, 28.75727653503418, 75.32533264160156, 107.72209930419922, 75.26539611816406, 31.51824188232422, 84.04295349121094, 179.25889587402344, 74.78264617919922, 30.645618438720703, 47.703311920166016, 32.514766693115234, 49.29780960083008, 82.07953643798828, 101.84713745117188, 188.46890258789062, 69.53815460205078, 179.27407836914062, 202.10556030273438, 109.7779769897461, 291.4879150390625, 235.05641174316406, 581.0255737304688, 302.7412414550781, 419.63525390625, 361.6415100097656, 485.294677734375, 135.01126098632812, 174.9981689453125, 416.1307067871094, 33.82337188720703, 51.785400390625, 48.7276725769043, 52.599830627441406, 52.78440856933594, 35.64358901977539, 43.53461837768555, 35.60706329345703, 25.68836784362793, 78.26434326171875, 136.68377685546875, 52.486717224121094, 41.595130920410156, 33.69646453857422, 68.90132904052734, 31.59194564819336, 287.13226318359375, 84.0806655883789, 24.767303466796875, 178.8027801513672, 91.20875549316406, 51.369110107421875, 184.9912567138672, 41.30763626098633, 54.20762634277344, 109.7779769897461, 138.47500610351562, 32.61539840698242, 39.66912841796875, 28.485855102539062, 110.8702621459961, 101.40641021728516, 57.541656494140625, 566.6460571289062, 416.1307067871094, 133.05772399902344, 216.4278106689453, 199.9783477783203, 614.309326171875, 522.5392456054688, 236.13331604003906, 308.8733825683594, 337.0415954589844, 348.77862548828125, 178.71334838867188, 465.0700988769531, 485.294677734375, 288.69189453125, 436.8631286621094, 290.3662109375, 322.3683166503906, 345.46490478515625, 240.46449279785156, 71.93111419677734, 29.640806198120117, 31.890451431274414, 73.98963928222656, 43.37565994262695, 61.4862060546875, 27.836301803588867, 143.10598754882812, 32.46775817871094, 87.24199676513672, 180.97177124023438, 151.26699829101562, 74.87586212158203, 238.81460571289062, 54.47277069091797, 36.458003997802734, 25.65750503540039, 49.5473747253418, 45.70818328857422, 32.86310577392578, 56.238525390625, 39.792877197265625, 65.13320922851562, 167.60687255859375, 38.95451736450195, 136.82479858398438, 33.65902328491211, 27.535247802734375, 37.606101989746094, 158.29051208496094, 159.27952575683594, 157.29908752441406, 210.68873596191406, 195.48619079589844, 1060.2464599609375, 169.72792053222656, 221.58555603027344, 322.3683166503906, 235.63494873046875, 942.2332153320312, 166.5762939453125, 590.5684814453125, 150.0690155029297, 210.8482666015625, 681.5869750976562, 464.6181640625, 135.66629028320312, 179.27407836914062, 385.8180236816406, 251.69586181640625, 1134.318115234375, 372.18804931640625, 51.817222595214844, 287.13226318359375, 76.75872039794922, 38.683719635009766, 70.28630065917969, 64.6708984375, 28.562366485595703, 35.7849235534668, 45.51390838623047, 26.914730072021484, 34.59955596923828, 43.83171844482422, 58.68561935424805, 39.86983108520508, 35.710975646972656, 54.82352828979492, 129.1712188720703, 41.75471496582031, 42.62176513671875, 69.33126068115234, 63.62955093383789, 50.59033966064453, 150.04852294921875, 93.29588317871094, 160.39894104003906, 45.84731674194336, 48.45459747314453, 30.752588272094727, 76.56340789794922, 61.3084831237793, 291.0654296875, 204.85263061523438, 135.66629028320312, 337.0415954589844, 240.46449279785156, 451.331298828125, 942.2332153320312, 69.92192840576172, 210.8482666015625, 518.0869750976562, 468.6055908203125, 196.47021484375, 371.022705078125, 344.1515197753906, 381.4490966796875, 155.85910034179688, 257.4696044921875, 1134.318115234375, 396.0960388183594, 459.55584716796875, 294.3021545410156, 477.66021728515625, 697.8375244140625, 260.2212829589844, 61.08788299560547, 45.73048782348633, 53.6249885559082, 419.63525390625, 69.37174987792969, 165.73292541503906, 73.22895050048828, 41.04629898071289, 82.28975677490234, 48.8826789855957, 115.09564971923828, 120.58362579345703, 49.1765251159668, 64.91448974609375, 30.315284729003906, 55.62991714477539, 191.1634063720703, 79.53244018554688, 96.35633850097656, 46.1357307434082, 36.284263610839844, 47.418575286865234, 47.30195617675781, 29.309545516967773, 36.34023666381836, 30.456010818481445, 41.282623291015625, 198.1055908203125, 45.21870803833008, 109.74159240722656, 103.15543365478516, 76.12600708007812, 165.4915771484375, 161.23529052734375, 201.485595703125, 104.16183471679688, 139.8451690673828, 305.5693664550781, 103.0154037475586, 234.7452850341797, 262.1170959472656, 298.6552429199219, 176.5469207763672, 942.2332153320312, 436.38427734375, 288.69189453125, 101.26033020019531, 53.3493766784668, 68.52909088134766, 30.670766830444336, 33.70634841918945, 199.9783477783203, 50.7026252746582, 38.54201126098633, 71.56983947753906, 52.23699951171875, 56.571861267089844, 52.5828742980957, 63.053436279296875, 48.50288391113281, 74.65968322753906, 62.27181625366211, 62.271949768066406, 38.503543853759766, 111.21820831298828, 23.626890182495117, 93.2280044555664, 135.34506225585938, 26.665172576904297, 61.35075378417969, 70.28630065917969, 54.34833908081055, 47.536312103271484, 25.62887954711914, 50.637290954589844, 42.711788177490234, 590.5684814453125, 76.18394470214844, 172.92599487304688, 85.80548858642578, 141.41806030273438, 71.86280822753906, 1617.547119140625, 122.87680053710938, 581.0255737304688, 451.0950622558594, 465.0700988769531, 127.56197357177734, 325.86614990234375, 203.94863891601562, 419.63525390625, 468.6055908203125, 330.4720458984375, 319.5711975097656, 306.48211669921875, 565.8839721679688, 464.6181640625, 339.4344787597656, 345.90362548828125, 175.22604370117188, 417.1126403808594, 394.527099609375, 331.259521484375, 61.780887603759766, 117.13961791992188, 35.50981903076172, 160.77777099609375, 90.49567413330078, 59.88016891479492, 26.504291534423828, 135.04812622070312, 54.20762634277344, 35.556617736816406, 58.110679626464844, 88.77023315429688, 77.96568298339844, 72.60304260253906, 36.638362884521484, 108.16532135009766, 325.86614990234375, 73.69244384765625, 451.0950622558594, 71.86280822753906, 27.549362182617188, 38.298065185546875, 32.48014831542969, 48.332523345947266, 56.238525390625, 38.503543853759766, 25.65652084350586, 39.42857360839844, 41.595130920410156, 78.04991912841797, 565.8839721679688, 118.54348754882812, 135.34506225585938, 1617.547119140625, 331.259521484375, 465.0700988769531, 233.21966552734375, 420.35345458984375, 1134.318115234375, 503.9342956542969, 468.6055908203125, 485.294677734375, 172.92599487304688, 68.52909088134766, 25.50567626953125, 91.2788314819336, 102.97803497314453, 54.436344146728516, 71.56983947753906, 38.298065185546875, 74.87586212158203, 75.20500946044922, 91.0493392944336, 37.7514533996582, 30.701602935791016, 45.07291030883789, 32.442710876464844, 47.38114929199219, 117.01810455322266, 117.02168273925781, 28.47334861755371, 26.60032844543457, 161.18603515625, 37.800148010253906, 28.52568244934082, 33.611976623535156, 32.564788818359375, 40.495277404785156, 51.51727294921875, 28.485855102539062, 189.8605499267578, 43.37565994262695, 79.6023178100586, 106.23204040527344, 469.4708251953125, 294.3021545410156, 180.9956817626953, 72.73318481445312, 119.84642028808594, 217.45675659179688, 394.527099609375, 1617.547119140625, 213.14614868164062, 92.08877563476562, 143.25115966796875, 697.8375244140625, 213.25559997558594, 306.48211669921875, 942.2332153320312, 221.58555603027344, 374.3318176269531, 339.4344787597656, 465.0700988769531, 358.1450500488281, 367.2303466796875, 322.3683166503906, 372.18804931640625, 612.421142578125, 581.0255737304688, 417.1126403808594, 381.4490966796875, 109.0261001586914, 60.1694221496582, 120.58362579345703, 113.80241394042969, 70.4071273803711, 49.46825408935547, 109.74159240722656, 41.47422409057617, 139.8451690673828, 39.338043212890625, 71.42820739746094, 34.79541778564453, 35.52329635620117, 176.5469207763672, 34.421844482421875, 35.523983001708984, 109.31322479248047, 76.64249420166016, 305.5693664550781, 43.513031005859375, 96.01763153076172, 450.1834716796875, 45.33098220825195, 73.22895050048828, 64.91378784179688, 155.2481689453125, 36.47951126098633, 32.966705322265625, 32.56953048706055, 32.402931213378906, 243.876953125, 260.2212829589844, 262.1170959472656, 161.23529052734375, 129.09698486328125, 159.50323486328125, 477.2110290527344, 405.634521484375, 116.41072082519531, 318.7196044921875, 165.73292541503906, 291.4879150390625, 222.9605255126953, 343.68109130859375, 198.1055908203125, 313.28973388671875, 32.9671630859375, 27.67584228515625, 25.777437210083008, 46.5937614440918, 42.62983703613281, 217.45675659179688, 47.405494689941406, 45.726287841796875, 47.82826614379883, 33.712890625, 44.586612701416016, 60.43115234375, 40.8460693359375, 51.46485137939453, 36.476436614990234, 61.737178802490234, 64.40029907226562, 28.93762969970703, 144.45272827148438, 53.64059066772461, 40.644466400146484, 62.29079818725586, 78.49151611328125, 50.766517639160156, 30.780851364135742, 51.58747482299805, 68.47518157958984, 105.38004302978516, 135.43898010253906, 109.03267669677734, 233.7820281982422, 195.07278442382812, 259.9794616699219, 147.3486328125, 229.69171142578125, 308.4091491699219, 115.14514923095703, 1617.547119140625, 566.6460571289062, 328.22601318359375, 416.947998046875, 290.3662109375, 1134.318115234375, 1060.2464599609375, 493.04571533203125, 374.3318176269531, 231.2284698486328, 465.0700988769531, 219.60256958007812, 207.77943420410156, 197.0989990234375, 436.38427734375, 468.6055908203125, 39.10437774658203, 40.777549743652344, 52.486717224121094, 27.489904403686523, 23.79008674621582, 51.46485137939453, 26.804729461669922, 46.64828872680664, 86.57549285888672, 44.586612701416016, 41.595130920410156, 38.86813735961914, 24.619176864624023, 33.611976623535156, 69.33126068115234, 26.914730072021484, 54.82352828979492, 71.59647369384766, 27.624500274658203, 76.18394470214844, 33.72465515136719, 33.70634841918945, 39.103580474853516, 143.1206512451172, 33.801368713378906, 27.579607009887695, 41.75471496582031, 50.669212341308594, 72.98523712158203, 38.59977722167969, 61.115665435791016, 56.97223663330078, 87.46002960205078, 308.4091491699219, 243.876953125, 259.9794616699219, 233.7820281982422, 236.07559204101562, 493.04571533203125, 116.02276611328125, 322.3683166503906, 109.31322479248047, 195.07278442382812, 178.71334838867188, 221.58555603027344, 199.9783477783203, 308.8733825683594, 416.1307067871094, 581.0255737304688, 942.2332153320312, 469.4708251953125, 566.6460571289062, 210.8482666015625, 248.23086547851562, 273.74261474609375, 189.8605499267578, 294.6282043457031, 1134.318115234375, 565.8839721679688, 337.0415954589844, 468.6055908203125, 201.485595703125, 450.1834716796875, 27.395160675048828, 60.75471115112305, 93.29588317871094, 95.71819305419922, 125.505126953125, 52.221187591552734, 39.23371124267578, 36.250648498535156, 51.953224182128906, 518.0869750976562, 25.623214721679688, 31.57843017578125, 34.695369720458984, 76.08344268798828, 45.395633697509766, 23.73877716064453, 34.4993782043457, 49.260841369628906, 23.82562828063965, 35.3377571105957, 37.164306640625, 26.52104377746582, 23.726999282836914, 33.55072021484375, 31.59194564819336, 31.79880142211914, 56.20866012573242, 31.72381591796875, 30.315284729003906, 42.424720764160156, 102.4416732788086, 133.75547790527344, 66.73309326171875, 72.38525390625, 150.0234832763672, 99.58871459960938, 160.21058654785156, 110.81580352783203, 203.94863891601562, 144.83860778808594, 367.2303466796875, 237.26931762695312, 178.8027801513672, 383.7433776855469, 565.8839721679688, 581.0255737304688, 522.5392456054688, 189.78128051757812, 273.74261474609375, 436.8631286621094, 134.55613708496094, 590.5684814453125, 305.5693664550781, 493.04571533203125, 306.1543273925781, 211.4220733642578, 1134.318115234375, 566.6460571289062, 614.309326171875, 485.294677734375, 70.83952331542969, 64.05200958251953, 47.8913688659668, 54.62950134277344, 55.97970199584961, 94.31554412841797, 32.41786575317383, 118.79339599609375, 477.2110290527344, 45.06490707397461, 68.74764251708984, 69.69406127929688, 26.397472381591797, 41.30763626098633, 36.458003997802734, 494.9840087890625, 73.9924087524414, 20.598854064941406, 697.8375244140625, 55.172393798828125, 29.720800399780273, 37.52180480957031, 55.212059020996094, 56.498714447021484, 71.56983947753906, 27.638259887695312, 52.182334899902344, 45.94723892211914, 64.99706268310547, 28.600582122802734, 63.45484161376953, 92.09586334228516, 76.79501342773438, 468.2981872558594, 458.15911865234375, 113.6883544921875, 94.45633697509766, 177.63182067871094, 262.6449890136719, 190.27606201171875, 211.0659942626953, 451.0950622558594, 374.3318176269531, 318.7196044921875, 249.5757598876953, 235.05641174316406, 156.48495483398438, 209.20953369140625, 361.6415100097656, 472.8274230957031, 1617.547119140625, 45.94723892211914, 74.65968322753906, 52.182334899902344, 99.57288360595703, 27.489904403686523, 28.38501739501953, 61.115665435791016, 176.76263427734375, 22.5930233001709, 32.42424392700195, 88.77023315429688, 52.30078887939453, 30.315284729003906, 33.57184600830078, 55.15773010253906, 118.54348754882812, 95.026611328125, 61.301631927490234, 31.725614547729492, 76.08344268798828, 30.456010818481445, 34.421844482421875, 35.494873046875, 50.23270797729492, 72.98523712158203, 63.794761657714844, 52.486717224121094, 64.12029266357422, 98.3348159790039, 34.59955596923828, 236.07559204101562, 101.25658416748047, 191.91384887695312, 319.5711975097656, 131.8557891845703, 172.92599487304688, 308.7671813964844, 135.34506225585938, 451.331298828125, 193.07948303222656, 133.75547790527344, 465.0700988769531, 1617.547119140625, 109.74159240722656, 163.6167449951172, 344.1515197753906, 345.90362548828125, 468.2981872558594, 331.01519775390625, 178.8027801513672, 264.06378173828125, 53.13016128540039, 40.08749008178711, 51.77639389038086, 160.21058654785156, 41.461185455322266, 108.16532135009766, 26.52104377746582, 56.238525390625, 71.59647369384766, 72.60304260253906, 40.495277404785156, 27.662029266357422, 61.780887603759766, 278.090576171875, 53.3493766784668, 31.386152267456055, 24.666330337524414, 150.0234832763672, 26.504291534423828, 59.88016891479492, 64.13021850585938, 29.680097579956055, 34.689796447753906, 20.598854064941406, 27.524471282958984, 51.54380416870117, 29.631908416748047, 28.562366485595703, 84.18721008300781, 50.38025665283203, 84.38245391845703, 113.48759460449219, 54.74658966064453, 91.20875549316406, 77.1129150390625, 73.46569061279297, 213.48199462890625, 214.4545440673828, 91.0493392944336, 230.8782196044922, 383.7433776855469, 217.45675659179688, 1617.547119140625, 231.2284698486328, 328.22601318359375, 273.74261474609375, 416.947998046875, 581.0255737304688, 464.6181640625, 251.69586181640625, 1134.318115234375, 330.4720458984375, 493.04571533203125, 942.2332153320312, 213.14614868164062, 296.1954345703125, 25.25323486328125, 111.43579864501953, 47.56005096435547, 188.46890258789062, 39.05257797241211, 33.018375396728516, 26.07361602783203, 35.28418731689453, 212.41168212890625, 51.695777893066406, 61.3084831237793, 84.04295349121094, 195.07278442382812, 40.9632453918457, 39.103580474853516, 32.966705322265625, 38.9085578918457, 31.900033950805664, 105.38004302978516, 27.973196029663086, 41.751712799072266, 39.10437774658203, 38.86813735961914, 66.73309326171875, 33.926143646240234, 47.418575286865234, 43.744842529296875, 301.4342346191406, 84.24470520019531, 135.43898010253906, 147.3486328125, 115.14514923095703, 308.4091491699219, 291.4879150390625, 493.04571533203125, 469.4708251953125, 64.67396545410156, 133.75547790527344, 141.41806030273438, 81.91272735595703, 294.6282043457031, 193.07948303222656, 191.1634063720703, 136.70582580566406, 459.55584716796875, 204.69985961914062, 503.9342956542969, 337.0415954589844, 278.090576171875, 383.7433776855469, 178.71334838867188, 290.3662109375, 32.73872375488281, 114.99923706054688, 47.8913688659668, 51.766563415527344, 45.769744873046875, 26.73257827758789, 51.369110107421875, 64.486083984375, 106.23204040527344, 30.752588272094727, 477.2110290527344, 36.47951126098633, 45.99801254272461, 25.62887954711914, 54.0555419921875, 33.815731048583984, 24.794513702392578, 31.721765518188477, 75.10067749023438, 33.51321792602539, 48.50288391113281, 55.51283264160156, 88.23690032958984, 29.843965530395508, 40.75916290283203, 41.594886779785156, 27.45480728149414, 29.58351707458496, 162.0462188720703, 48.332523345947266, 69.33126068115234, 73.6290512084961, 92.08877563476562, 308.7671813964844, 207.0614776611328, 165.4915771484375, 147.94749450683594, 259.0228576660156, 263.0085754394531, 166.55291748046875, 152.95326232910156, 299.318115234375, 129.67233276367188, 305.5693664550781, 386.11712646484375, 198.1055908203125, 1617.547119140625, 125.505126953125, 163.95689392089844, 260.2212829589844, 237.26931762695312, 494.9840087890625, 43.457637786865234, 59.49406433105469, 65.5052490234375, 26.07361602783203, 98.3348159790039, 130.9603271484375, 35.494873046875, 44.22844696044922, 110.78764343261719, 127.90071868896484, 42.674468994140625, 39.4173583984375, 26.599079132080078, 27.91988182067871, 34.27870559692383, 27.72968101501465, 55.15773010253906, 55.681270599365234, 26.669111251831055, 44.838932037353516, 29.680097579956055, 57.5321159362793, 45.32130432128906, 33.63412857055664, 133.75547790527344, 40.777549743652344, 80.51067352294922, 84.61612701416016, 22.5930233001709, 28.63833999633789, 262.6449890136719, 115.74274444580078, 178.71334838867188, 92.09586334228516, 416.1307067871094, 172.92599487304688, 472.8274230957031, 217.45675659179688, 213.25559997558594, 278.090576171875, 465.0700988769531, 203.94863891601562, 503.9342956542969, 485.294677734375, 344.1515197753906, 290.3662109375, 156.48495483398438, 22.147891998291016, 63.053436279296875, 85.98615264892578, 166.97491455078125, 116.87206268310547, 30.089954376220703, 205.1947479248047, 58.89561462402344, 37.800148010253906, 37.7514533996582, 30.047760009765625, 45.84731674194336, 30.19891357421875, 44.932212829589844, 46.046207427978516, 34.88608169555664, 46.808074951171875, 43.40883255004883, 43.83171844482422, 34.17902755737305, 28.834558486938477, 54.74658966064453, 23.997779846191406, 50.79453659057617, 41.15739440917969, 119.84642028808594, 47.63703918457031, 136.14120483398438, 69.92192840576172, 39.59275436401367, 72.73318481445312, 87.88121795654297, 191.03060913085938, 133.24954223632812, 394.527099609375, 477.66021728515625, 155.7705535888672, 166.5762939453125, 248.23086547851562, 590.5684814453125, 180.9956817626953, 213.14614868164062, 260.6423645019531, 361.6415100097656, 1060.2464599609375, 681.5869750976562, 308.7671813964844, 464.6181640625, 1134.318115234375, 367.2303466796875, 106.23204040527344, 942.2332153320312, 477.2110290527344, 420.35345458984375, 337.0415954589844, 85.96321105957031, 34.91985321044922, 33.4814453125, 62.96967315673828, 27.36475944519043, 34.98207473754883, 62.18408966064453, 36.250648498535156, 27.57597541809082, 70.3409194946289, 26.46251106262207, 75.10067749023438, 52.92658615112305, 150.0690155029297, 40.44158935546875, 45.07291030883789, 30.579326629638672, 189.8605499267578, 31.627044677734375, 139.35952758789062, 33.65664291381836, 81.07852172851562, 83.64625549316406, 205.1947479248047, 54.47277069091797, 70.28630065917969, 51.695777893066406, 127.90071868896484, 124.33088684082031, 259.9794616699219, 166.97491455078125, 92.42601013183594, 468.6055908203125, 163.6167449951172, 227.00906372070312, 233.21966552734375, 189.855712890625, 144.60427856445312, 303.1646423339844, 291.4879150390625, 417.5792541503906, 451.331298828125, 612.421142578125, 330.4720458984375, 942.2332153320312, 361.6415100097656, 236.13331604003906, 296.1954345703125, 344.1515197753906, 416.947998046875, 614.309326171875, 436.8631286621094, 472.8274230957031, 83.64625549316406, 41.751712799072266, 54.0555419921875, 49.016639709472656, 34.60908126831055, 38.9085578918457, 35.510955810546875, 52.310462951660156, 43.40883255004883, 22.799943923950195, 61.08788299560547, 35.53273010253906, 74.78264617919922, 45.32130432128906, 73.13494110107422, 36.47951126098633, 34.59955596923828, 30.752588272094727, 32.442710876464844, 33.6804313659668, 40.08749008178711, 305.5693664550781, 80.08602905273438, 32.41786575317383, 95.24562072753906, 63.31215286254883, 33.50200653076172, 37.36961364746094, 47.543113708496094, 38.298065185546875, 70.32061004638672, 119.7232666015625, 165.73292541503906, 55.977542877197266, 450.1834716796875, 201.485595703125, 90.49567413330078, 92.65857696533203, 144.60427856445312, 98.3348159790039, 294.3021545410156, 238.81460571289062, 179.25889587402344, 146.15260314941406, 296.1963806152344, 416.1307067871094, 385.8180236816406, 420.35345458984375, 262.6449890136719, 458.15911865234375, 125.505126953125, 383.7433776855469, 405.634521484375, 260.2212829589844, 308.7671813964844, 436.8631286621094], \"loglift\": [30.0, 29.0, 28.0, 27.0, 26.0, 25.0, 24.0, 23.0, 22.0, 21.0, 20.0, 19.0, 18.0, 17.0, 16.0, 15.0, 14.0, 13.0, 12.0, 11.0, 10.0, 9.0, 8.0, 7.0, 6.0, 5.0, 4.0, 3.0, 2.0, 1.0, 2.3533999919891357, 2.3292999267578125, 2.306999921798706, 2.2611000537872314, 2.219599962234497, 2.2009999752044678, 2.19950008392334, 2.1926000118255615, 2.160900115966797, 2.1326000690460205, 2.13070011138916, 2.122999906539917, 2.102799892425537, 2.0564000606536865, 2.0315001010894775, 2.02239990234375, 2.019200086593628, 2.013400077819824, 1.986799955368042, 1.9694000482559204, 1.9121999740600586, 1.909600019454956, 1.9089000225067139, 1.9072999954223633, 1.8869999647140503, 1.8759000301361084, 1.8315000534057617, 1.8265999555587769, 1.8245999813079834, 1.820199966430664, 1.8149000406265259, 1.7888000011444092, 1.7466000318527222, 1.6446000337600708, 1.6433000564575195, 1.6035000085830688, 1.5110000371932983, 1.5145000219345093, 1.444100022315979, 1.152400016784668, 1.6478999853134155, 1.3016999959945679, 1.520799994468689, 0.8801000118255615, 1.1571999788284302, 1.103600025177002, 0.8955000042915344, 0.7973999977111816, 1.1283999681472778, 0.9785000085830688, 1.0891000032424927, 0.9923999905586243, 0.9743000268936157, 0.8295999765396118, 0.9842000007629395, 0.8264999985694885, 0.5310999751091003, 0.5378999710083008, 2.3498001098632812, 2.148699998855591, 2.114300012588501, 2.0088000297546387, 1.993399977684021, 1.9600000381469727, 1.951300024986267, 1.8776999711990356, 1.8628000020980835, 1.861199975013733, 1.8609000444412231, 1.8372999429702759, 1.833899974822998, 1.8310999870300293, 1.8240000009536743, 1.8221999406814575, 1.7935999631881714, 1.792199969291687, 1.7730000019073486, 1.7697999477386475, 1.7620999813079834, 1.7604999542236328, 1.742300033569336, 1.732699990272522, 1.7282999753952026, 1.7264000177383423, 1.705399990081787, 1.6993000507354736, 1.6964000463485718, 1.6782000064849854, 1.662500023841858, 1.6461000442504883, 1.5749000310897827, 1.6603000164031982, 1.6438000202178955, 1.618499994277954, 1.2548999786376953, 1.5887000560760498, 1.1805000305175781, 0.8737999796867371, 1.229599952697754, 0.7821999788284302, 1.3366999626159668, 0.9884999990463257, 1.0378999710083008, 1.2854000329971313, 1.1151000261306763, 0.9610999822616577, 1.145799994468689, 0.5602999925613403, 0.8138999938964844, 0.9531000256538391, 1.1988999843597412, 0.8859000205993652, 0.8008000254631042, 0.7663999795913696, 0.6496999859809875, 0.6395000219345093, 0.6218000054359436, 0.3547999858856201, 0.941100001335144, 0.23000000417232513, 0.4966000020503998, 0.5548999905586243, 0.31769999861717224, 0.05979999899864197, 0.31189998984336853, 0.273499995470047, 0.30959999561309814, 0.08739999681711197, 2.2818000316619873, 2.2467000484466553, 2.1489999294281006, 2.144700050354004, 2.075900077819824, 1.9805999994277954, 1.9622000455856323, 1.9484000205993652, 1.9372999668121338, 1.847599983215332, 1.840000033378601, 1.815500020980835, 1.7963999509811401, 1.7950999736785889, 1.7835999727249146, 1.781000018119812, 1.7717000246047974, 1.768399953842163, 1.7661999464035034, 1.7625000476837158, 1.7598999738693237, 1.7568999528884888, 1.753000020980835, 1.7466000318527222, 1.7403000593185425, 1.7353999614715576, 1.7211999893188477, 1.7209999561309814, 1.711300015449524, 1.697700023651123, 1.6938999891281128, 1.6871999502182007, 1.6506999731063843, 1.5809999704360962, 1.5966999530792236, 1.6634999513626099, 1.632099986076355, 1.5910999774932861, 1.523800015449524, 1.294600009918213, 1.2354999780654907, 1.378000020980835, 1.374500036239624, 0.8482999801635742, 1.045199990272522, 0.9174000024795532, 1.1109999418258667, 1.2371000051498413, 0.9368000030517578, 0.7906000018119812, 1.273900032043457, 0.7642999887466431, 0.8980000019073486, 0.42289999127388, 0.9754999876022339, 0.9226999878883362, 0.446399986743927, 0.5393000245094299, 0.4099999964237213, 0.504800021648407, 0.5281999707221985, 0.2892000079154968, 2.664299964904785, 2.643399953842163, 2.5745999813079834, 2.569999933242798, 2.5469000339508057, 2.4572999477386475, 2.2544000148773193, 2.2032999992370605, 2.203000068664551, 2.1682000160217285, 2.1459999084472656, 2.097100019454956, 2.0755999088287354, 2.0673999786376953, 2.0327999591827393, 1.9483000040054321, 1.912500023841858, 1.8899999856948853, 1.8667000532150269, 1.8646999597549438, 1.832800030708313, 1.8289999961853027, 1.8229000568389893, 1.8181999921798706, 1.8180999755859375, 1.8180999755859375, 1.8179999589920044, 1.815500020980835, 1.8149000406265259, 1.8114999532699585, 1.6842000484466553, 1.6711000204086304, 1.629699945449829, 1.4878000020980835, 1.6741000413894653, 1.507200002670288, 1.559399962425232, 1.5492000579833984, 1.2888000011444092, 1.332200050354004, 1.4812999963760376, 0.6945000290870667, 0.5584999918937683, 0.41179999709129333, 0.7635999917984009, 1.0162999629974365, 0.6977999806404114, 2.5541000366210938, 2.5413999557495117, 2.496999979019165, 2.45740008354187, 2.406599998474121, 2.3619000911712646, 2.2820000648498535, 2.1168999671936035, 2.1029000282287598, 2.058799982070923, 2.047100067138672, 2.0434999465942383, 2.022599935531616, 1.9953999519348145, 1.958400011062622, 1.950600028038025, 1.938599944114685, 1.9371000528335571, 1.9306000471115112, 1.9291000366210938, 1.9270999431610107, 1.9020999670028687, 1.892699956893921, 1.892699956893921, 1.8489999771118164, 1.8375999927520752, 1.8287999629974365, 1.8118000030517578, 1.8100999593734741, 1.7860000133514404, 1.731600046157837, 1.6978000402450562, 1.6426000595092773, 1.1058000326156616, 1.1456999778747559, 1.218500018119812, 1.083400011062622, 0.8776000142097473, 0.7928000092506409, 1.1439000368118286, 1.0633000135421753, 0.6886000037193298, 0.9398000240325928, 1.0118999481201172, 0.8331000208854675, 0.7095000147819519, 0.5458999872207642, 0.5896000266075134, 0.4652999937534332, 0.5799000263214111, 0.7817999720573425, 2.635699987411499, 2.6126999855041504, 2.5708000659942627, 2.4886999130249023, 2.4867000579833984, 2.476799964904785, 2.4535999298095703, 2.4347000122070312, 2.4321000576019287, 2.3894999027252197, 2.3722000122070312, 2.3436999320983887, 2.3190999031066895, 2.307499885559082, 2.249799966812134, 2.226900100708008, 2.1482999324798584, 2.14520001411438, 2.0971999168395996, 2.089200019836426, 2.079400062561035, 2.044300079345703, 2.0035998821258545, 1.9926999807357788, 1.9891999959945679, 1.86489999294281, 1.8437000513076782, 1.773300051689148, 1.7628999948501587, 1.7402000427246094, 1.600600004196167, 1.468500018119812, 1.5644999742507935, 0.5698999762535095, 1.2422000169754028, 1.0444999933242798, 0.19869999587535858, 1.1871999502182007, 0.38609999418258667, -0.028599999845027924, 0.3472000062465668, 0.6168000102043152, 2.501699924468994, 2.4395999908447266, 2.4200000762939453, 2.3987998962402344, 2.245300054550171, 2.2297000885009766, 2.2186999320983887, 2.1542000770568848, 2.1289000511169434, 2.11299991607666, 2.099600076675415, 2.0810999870300293, 2.076200008392334, 2.074199914932251, 2.0617001056671143, 2.0522000789642334, 2.0387001037597656, 2.0072999000549316, 1.9876999855041504, 1.9817999601364136, 1.973099946975708, 1.9703999757766724, 1.968500018119812, 1.9673000574111938, 1.966599941253662, 1.961400032043457, 1.955199956893921, 1.9466999769210815, 1.916599988937378, 1.895900011062622, 1.893399953842163, 1.573699951171875, 1.8344000577926636, 1.8765000104904175, 1.5500999689102173, 1.4801000356674194, 1.524899959564209, 1.519700050354004, 1.714900016784668, 1.3243000507354736, 1.0542999505996704, 1.5292999744415283, 1.2467000484466553, 1.6926000118255615, 1.4253000020980835, 1.0979000329971313, 1.5913000106811523, 1.298799991607666, 1.0225000381469727, 1.1337000131607056, 1.2001999616622925, 1.0124000310897827, 1.1739000082015991, 0.9388999938964844, 0.2784999907016754, 0.9696999788284302, 1.0322999954223633, 1.3853000402450562, 0.6384999752044678, 0.7473999857902527, 0.3296000063419342, 2.5933001041412354, 2.5690999031066895, 2.5144999027252197, 2.3754000663757324, 2.3726999759674072, 2.3529999256134033, 2.3405001163482666, 2.2518999576568604, 2.2506000995635986, 2.2123000621795654, 2.191800117492676, 2.1702001094818115, 2.05430006980896, 1.9844000339508057, 1.9567999839782715, 1.9449000358581543, 1.9134000539779663, 1.902500033378601, 1.878499984741211, 1.8774000406265259, 1.861199975013733, 1.8238999843597412, 1.8224999904632568, 1.8099000453948975, 1.8037999868392944, 1.7898000478744507, 1.7832000255584717, 1.767799973487854, 1.7585999965667725, 1.7407000064849854, 1.7158000469207764, 1.6466000080108643, 1.7131999731063843, 1.5371999740600586, 1.6404999494552612, 1.3978999853134155, 1.6062999963760376, 1.3533999919891357, 1.13100004196167, 1.3380999565124512, 1.205299973487854, 1.3158999681472778, 1.0429999828338623, 1.5644999742507935, 0.9700000286102295, 1.289199948310852, 1.0084999799728394, 1.1369999647140503, 1.2019000053405762, 1.142699956893921, 0.7357000112533569, 1.2301000356674194, 0.9502000212669373, 0.9138000011444092, 0.9599000215530396, 0.6424999833106995, 0.6543999910354614, 0.39079999923706055, 0.8307999968528748, 0.7718999981880188, 2.4554998874664307, 2.3213000297546387, 2.2755000591278076, 2.2595999240875244, 2.255000114440918, 2.213599920272827, 2.184799909591675, 2.1554999351501465, 2.063499927520752, 2.0376999378204346, 2.0295000076293945, 2.023900032043457, 1.996399998664856, 1.968000054359436, 1.9610999822616577, 1.9383000135421753, 1.9283000230789185, 1.9153000116348267, 1.9098999500274658, 1.892199993133545, 1.8876999616622925, 1.8866000175476074, 1.8638999462127686, 1.8331999778747559, 1.8305000066757202, 1.8300000429153442, 1.8209999799728394, 1.8011000156402588, 1.7874000072479248, 1.7797000408172607, 1.7740000486373901, 1.6100000143051147, 1.4763000011444092, 1.5450999736785889, 1.6299999952316284, 1.6353000402450562, 1.6713999509811401, 1.2826999425888062, 1.2721999883651733, 1.1309000253677368, 1.0990999937057495, 1.2419999837875366, 1.3614000082015991, 1.0281000137329102, 1.0200999975204468, 0.669700026512146, 0.7501999735832214, 1.1533000469207764, 1.1531000137329102, 0.6323000192642212, 0.6880000233650208, 0.21170000731945038, 0.2547000050544739, 0.00839999970048666, 3.223400115966797, 3.203000068664551, 3.1774001121520996, 3.067199945449829, 2.9518001079559326, 2.9421000480651855, 2.8977999687194824, 2.88319993019104, 2.8543999195098877, 2.8459999561309814, 2.785900115966797, 2.7762999534606934, 2.6298999786376953, 2.620699882507324, 2.6085000038146973, 2.5862998962402344, 2.55649995803833, 2.5225000381469727, 2.5139999389648438, 2.488100051879883, 2.424499988555908, 2.3189001083374023, 2.302500009536743, 2.274399995803833, 2.262399911880493, 2.2227001190185547, 2.219899892807007, 2.2179999351501465, 2.2053000926971436, 2.1874001026153564, 2.158099889755249, 2.089600086212158, 2.012200117111206, 2.0831000804901123, 1.6921000480651855, 1.6180000305175781, 1.868299961090088, 1.382599949836731, 1.3866000175476074, 0.6710000038146973, 1.0880000591278076, 0.8033999800682068, 0.8967000246047974, 0.5529000163078308, 1.712399959564209, 1.4641000032424927, 0.5874000191688538, 3.1280999183654785, 3.102400064468384, 2.921299934387207, 2.7255001068115234, 2.582900047302246, 2.5327000617980957, 2.4802000522613525, 2.421799898147583, 2.4047999382019043, 2.3617000579833984, 2.325000047683716, 2.3166000843048096, 2.2701001167297363, 2.2569000720977783, 2.2560999393463135, 2.244999885559082, 2.243299961090088, 2.2385001182556152, 2.236999988555908, 2.1703999042510986, 2.1324000358581543, 2.1180999279022217, 2.1092000007629395, 2.104599952697754, 2.09660005569458, 2.0896999835968018, 2.0789999961853027, 2.0727999210357666, 2.059499979019165, 2.0476999282836914, 2.009500026702881, 1.9361000061035156, 2.0018999576568604, 1.5816999673843384, 1.5963000059127808, 1.8344999551773071, 1.590499997138977, 1.6028000116348267, 1.13919997215271, 1.2029999494552612, 1.4215999841690063, 1.2609000205993652, 1.2134000062942505, 1.042199969291687, 1.465000033378601, 0.7590000033378601, 0.7096999883651733, 1.087399959564209, 0.7184000015258789, 1.0555000305175781, 0.9315000176429749, 0.8636000156402588, 1.208899974822998, 3.025099992752075, 2.8143999576568604, 2.729599952697754, 2.7026000022888184, 2.5269999504089355, 2.4402999877929688, 2.4302000999450684, 2.3557000160217285, 2.349600076675415, 2.3320000171661377, 2.287400007247925, 2.274399995803833, 2.2741000652313232, 2.2446000576019287, 2.211199998855591, 2.1647000312805176, 2.1566998958587646, 2.141700029373169, 2.117500066757202, 2.117300033569336, 2.103800058364868, 2.0801000595092773, 2.061199903488159, 2.0601999759674072, 2.058199882507324, 2.0332999229431152, 2.024899959564209, 2.023400068283081, 2.00819993019104, 2.003000020980835, 1.9966000318527222, 1.9908000230789185, 1.843999981880188, 1.7874000072479248, 1.469599962234497, 1.8056999444961548, 1.7379000186920166, 1.6577999591827393, 1.6155999898910522, 1.1806000471115112, 1.72160005569458, 1.2323999404907227, 1.7360999584197998, 1.5952999591827393, 1.0442999601364136, 1.0663000345230103, 1.712499976158142, 1.4879000186920166, 0.911300003528595, 1.219499945640564, -0.013399999588727951, 0.891700029373169, 3.0655999183654785, 2.9842000007629395, 2.926800012588501, 2.6923999786376953, 2.6593000888824463, 2.6034998893737793, 2.5190000534057617, 2.400399923324585, 2.344899892807007, 2.340399980545044, 2.281599998474121, 2.2681000232696533, 2.2435998916625977, 2.2230000495910645, 2.219599962234497, 2.171099901199341, 2.1612000465393066, 2.137399911880493, 2.128999948501587, 2.126800060272217, 2.099400043487549, 2.0940001010894775, 2.08270001411438, 2.075900077819824, 2.063699960708618, 2.0559000968933105, 2.04010009765625, 2.019200086593628, 2.010499954223633, 1.9967999458312988, 1.979200005531311, 1.8867000341415405, 1.9004000425338745, 1.694700002670288, 1.6710000038146973, 1.4012999534606934, 1.169700026512146, 1.978600025177002, 1.5707999467849731, 1.2074999809265137, 1.2417999505996704, 1.5396000146865845, 1.200700044631958, 1.1872999668121338, 1.1291999816894531, 1.6116000413894653, 1.2611000537872314, 0.3434000015258789, 0.9369999766349792, 0.8019999861717224, 1.100000023841858, 0.745199978351593, 0.2653999924659729, 1.1476000547409058, 3.3348000049591064, 3.2874999046325684, 3.160099983215332, 3.1398000717163086, 3.070499897003174, 3.0048999786376953, 3.000999927520752, 2.9951000213623047, 2.9328999519348145, 2.905600070953369, 2.6796998977661133, 2.677999973297119, 2.6229000091552734, 2.6068999767303467, 2.598400115966797, 2.5350000858306885, 2.519200086593628, 2.5153000354766846, 2.4874000549316406, 2.4707999229431152, 2.469899892807007, 2.4570000171661377, 2.456399917602539, 2.4451000690460205, 2.437999963760376, 2.430000066757202, 2.413100004196167, 2.3926000595092773, 2.3598999977111816, 2.3189001083374023, 2.308799982070923, 2.2953999042510986, 2.1698999404907227, 2.1731998920440674, 2.022200107574463, 2.142400026321411, 1.9780000448226929, 1.642300009727478, 2.0915000438690186, 1.6114000082015991, 1.4467999935150146, 1.354099988937378, 1.6416000127792358, 0.21220000088214874, 0.8184000253677368, 1.1434999704360962, 2.948699951171875, 2.863600015640259, 2.7669999599456787, 2.7070000171661377, 2.6823999881744385, 2.668800115585327, 2.5546000003814697, 2.549799919128418, 2.5490000247955322, 2.5151000022888184, 2.5137999057769775, 2.4068000316619873, 2.3940000534057617, 2.387200117111206, 2.3654000759124756, 2.356600046157837, 2.3564999103546143, 2.3541998863220215, 2.3262999057769775, 2.3020999431610107, 2.249500036239624, 2.1210999488830566, 2.1008999347686768, 2.0989999771118164, 2.0947999954223633, 2.064199924468994, 2.0404000282287598, 2.0369999408721924, 2.028899908065796, 2.0114998817443848, 1.8924000263214111, 1.9610999822616577, 1.8357000350952148, 1.9220000505447388, 1.7833000421524048, 1.9371999502182007, 0.8973000049591064, 1.759600043296814, 1.1145999431610107, 1.1964999437332153, 1.1344000101089478, 1.7422000169754028, 1.261299967765808, 1.4776999950408936, 1.0191999673843384, 0.873199999332428, 1.0757999420166016, 1.0831999778747559, 1.1059000492095947, 0.6262999773025513, 0.73580002784729, 0.9607999920845032, 0.9406999945640564, 1.4800000190734863, 0.7123000025749207, 0.7541999816894531, 0.9036999940872192, 3.4500999450683594, 3.253200054168701, 3.2114999294281006, 3.2070999145507812, 3.0464999675750732, 3.0362000465393066, 3.015199899673462, 2.980299949645996, 2.95770001411438, 2.950000047683716, 2.9375998973846436, 2.91510009765625, 2.8787999153137207, 2.762399911880493, 2.760999917984009, 2.650399923324585, 2.650399923324585, 2.6101999282836914, 2.5822999477386475, 2.474299907684326, 2.3089001178741455, 2.304800033569336, 2.2960000038146973, 2.267899990081787, 2.262500047683716, 2.261199951171875, 2.251499891281128, 2.239500045776367, 2.2165000438690186, 2.2105000019073486, 1.6313999891281128, 1.7330000400543213, 1.6634999513626099, 0.4043999910354614, 1.15339994430542, 0.883899986743927, 1.2684999704360962, 0.920799970626831, 0.16359999775886536, 0.6739000082015991, 0.6191999912261963, 0.573199987411499, 1.4017000198364258, 2.781599998474121, 2.4835000038146973, 2.3584001064300537, 2.2797000408172607, 2.244999885559082, 2.196500062942505, 2.1598000526428223, 2.1501998901367188, 2.0973000526428223, 2.0713999271392822, 2.0260000228881836, 2.0190000534057617, 1.9682999849319458, 1.9529999494552612, 1.948699951171875, 1.9069000482559204, 1.9033000469207764, 1.8964999914169312, 1.8803000450134277, 1.8580000400543213, 1.8111000061035156, 1.8006000518798828, 1.7975000143051147, 1.7857999801635742, 1.7825000286102295, 1.7724000215530396, 1.7718000411987305, 1.7615000009536743, 1.7431000471115112, 1.7317999601364136, 1.7174999713897705, 1.6097999811172485, 1.5636999607086182, 1.5709999799728394, 1.6832000017166138, 1.6009000539779663, 1.4952000379562378, 1.3703999519348145, 1.100100040435791, 1.4666999578475952, 1.6339000463485718, 1.5024000406265259, 0.9557999968528748, 1.3508000373840332, 1.1936999559402466, 0.6746000051498413, 1.2803000211715698, 1.0269999504089355, 1.0484000444412231, 0.7487999796867371, 0.8772000074386597, 0.8497999906539917, 0.9325000047683716, 0.8077999949455261, 0.3912000060081482, 0.35019999742507935, 0.6087999939918518, 0.6636999845504761, 3.361799955368042, 3.3378000259399414, 3.2451999187469482, 3.200900077819824, 3.0318000316619873, 3.0174999237060547, 2.9865000247955322, 2.97160005569458, 2.8401999473571777, 2.8327999114990234, 2.829400062561035, 2.779099941253662, 2.7471001148223877, 2.7344000339508057, 2.7320001125335693, 2.691800117492676, 2.6840999126434326, 2.677999973297119, 2.6707000732421875, 2.6298999786376953, 2.623300075531006, 2.6150999069213867, 2.6066999435424805, 2.598099946975708, 2.5211000442504883, 2.5190999507904053, 2.4962000846862793, 2.4921998977661133, 2.4398000240325928, 2.4161999225616455, 2.3492000102996826, 2.135699987411499, 2.1229000091552734, 2.198899984359741, 2.1177000999450684, 1.9637999534606934, 1.3753999471664429, 1.4399000406265259, 2.09060001373291, 1.5263999700546265, 1.8838000297546387, 1.5405999422073364, 1.6332000494003296, 1.2879999876022339, 1.7041000127792358, 1.2130000591278076, 3.194200038909912, 3.0676000118255615, 3.067199945449829, 3.0566000938415527, 3.04259991645813, 2.9835000038146973, 2.950700044631958, 2.9307000637054443, 2.92330002784729, 2.873699903488159, 2.837599992752075, 2.801100015640259, 2.6772000789642334, 2.676100015640259, 2.6484999656677246, 2.6054000854492188, 2.602400064468384, 2.5622000694274902, 2.5213000774383545, 2.504199981689453, 2.4651999473571777, 2.450900077819824, 2.4270999431610107, 2.3922998905181885, 2.358599901199341, 2.324700117111206, 2.3229000568389893, 2.2727999687194824, 2.267199993133545, 2.2637999057769775, 2.2616000175476074, 2.233799934387207, 2.1654000282287598, 2.1786999702453613, 2.0204999446868896, 1.9287999868392944, 2.178800106048584, 0.6413999795913696, 1.1140999794006348, 1.3387000560760498, 1.1495000123977661, 1.3966000080108643, 0.43779999017715454, 0.4505999982357025, 0.9509000182151794, 1.1518000364303589, 1.5302000045776367, 0.9298999905586243, 1.5670000314712524, 1.5927000045776367, 1.5674999952316284, 0.7493000030517578, 0.6669999957084656, 3.2177000045776367, 2.815000057220459, 2.586199998855591, 2.424499988555908, 2.3454999923706055, 2.3450000286102295, 2.3450000286102295, 2.338099956512451, 2.3299999237060547, 2.300100088119507, 2.2985000610351562, 2.2804999351501465, 2.2755000591278076, 2.2646000385284424, 2.248500108718872, 2.2200000286102295, 2.205899953842163, 2.1796000003814697, 2.157399892807007, 2.149600028991699, 2.1422998905181885, 2.1363000869750977, 2.12719988822937, 2.124300003051758, 2.114500045776367, 2.0478999614715576, 2.0313000679016113, 2.0262999534606934, 2.0146000385284424, 2.0030999183654785, 1.9840999841690063, 1.9635000228881836, 1.9026999473571777, 1.6619999408721924, 1.6811000108718872, 1.6303999423980713, 1.606600046157837, 1.583799958229065, 1.3077000379562378, 1.7625000476837158, 1.3493000268936157, 1.7378000020980835, 1.5022000074386597, 1.5140000581741333, 1.3905999660491943, 1.4141000509262085, 1.1801999807357788, 0.9700000286102295, 0.7444999814033508, 0.43070000410079956, 0.8453999757766724, 0.7282999753952026, 1.3345999717712402, 1.204300045967102, 1.1375999450683594, 1.3832999467849731, 1.0501999855041504, -0.0820000022649765, 0.41019999980926514, 0.8346999883651733, 0.5004000067710876, 1.2933000326156616, 0.501800000667572, 3.0566999912261963, 3.028700113296509, 2.964200019836426, 2.8750998973846436, 2.7836999893188477, 2.716200113296509, 2.644399881362915, 2.629300117492676, 2.6231000423431396, 2.3968000411987305, 2.3940999507904053, 2.3573999404907227, 2.3276000022888184, 2.273900032043457, 2.253700017929077, 2.2495999336242676, 2.218899965286255, 2.18530011177063, 2.163100004196167, 2.156399965286255, 2.1417999267578125, 2.138400077819824, 2.1205999851226807, 2.1166000366210938, 2.043800115585327, 2.038800001144409, 2.032399892807007, 2.019200086593628, 2.013700008392334, 1.992400050163269, 1.9155000448226929, 1.8776999711990356, 1.9436999559402466, 1.934499979019165, 1.8380999565124512, 1.8544000387191772, 1.7520999908447266, 1.7460999488830566, 1.5098999738693237, 1.6232000589370728, 1.218500018119812, 1.38100004196167, 1.4634000062942505, 1.093999981880188, 0.8847000002861023, 0.8392999768257141, 0.867900013923645, 1.4035999774932861, 1.1647000312805176, 0.8881000280380249, 1.575600028038025, 0.6330000162124634, 1.0324000120162964, 0.5706999897956848, 0.9053000211715698, 1.214900016784668, -0.27410000562667847, 0.321399986743927, 0.2393999993801117, 0.39250001311302185, 3.414099931716919, 3.3714001178741455, 3.226900100708008, 2.9398000240325928, 2.8785998821258545, 2.8487000465393066, 2.825000047683716, 2.7067999839782715, 2.516200065612793, 2.47189998626709, 2.47189998626709, 2.4626998901367188, 2.4321000576019287, 2.430799961090088, 2.362499952316284, 2.3296000957489014, 2.292099952697754, 2.273099899291992, 2.2660999298095703, 2.2520999908447266, 2.2451999187469482, 2.231300115585327, 2.2035999298095703, 2.19320011138916, 2.1582999229431152, 2.1303999423980713, 2.1154000759124756, 2.107800006866455, 2.0998001098632812, 2.084700107574463, 2.0820999145507812, 2.0606000423431396, 2.0346999168395996, 1.697700023651123, 1.6158000230789185, 1.8723000288009644, 1.8848999738693237, 1.5738999843597412, 1.3140000104904175, 1.4707000255584717, 1.37090003490448, 0.8792999982833862, 0.9868000149726868, 1.0627000331878662, 1.2226999998092651, 1.2136000394821167, 1.492900013923645, 1.2186000347137451, 0.715499997138977, 0.3864000141620636, -0.7914999723434448, 3.3961000442504883, 3.253000020980835, 2.993499994277954, 2.866499900817871, 2.863600015640259, 2.8547000885009766, 2.8157999515533447, 2.7678000926971436, 2.759500026702881, 2.7311999797821045, 2.725100040435791, 2.72160005569458, 2.6779000759124756, 2.625, 2.6245999336242676, 2.623699903488159, 2.530600070953369, 2.518899917602539, 2.4781999588012695, 2.4161999225616455, 2.4107000827789307, 2.329400062561035, 2.311800003051758, 2.276400089263916, 2.2604000568389893, 2.247499942779541, 2.2423999309539795, 2.2032999992370605, 2.194700002670288, 2.180999994277954, 2.1803998947143555, 2.164799928665161, 2.0848000049591064, 1.8600000143051147, 2.0373001098632812, 1.8791999816894531, 1.6500999927520752, 1.9184000492095947, 1.4228999614715576, 1.7384999990463257, 1.8702000379562378, 1.1073999404907227, 0.24230000376701355, 1.9438999891281128, 1.6539000272750854, 1.1003999710083008, 1.0532000064849854, 0.760200023651123, 1.0398999452590942, 1.5605000257492065, 1.1813000440597534, 3.612799882888794, 3.5841000080108643, 3.532099962234497, 3.1779000759124756, 3.0320000648498535, 2.967099905014038, 2.9000000953674316, 2.828700065612793, 2.7832000255584717, 2.702899932861328, 2.6946001052856445, 2.6877999305725098, 2.6089000701904297, 2.6013998985290527, 2.562999963760376, 2.539299964904785, 2.530600070953369, 2.491300106048584, 2.4618000984191895, 2.4219000339508057, 2.3898000717163086, 2.3840999603271484, 2.36080002784729, 2.3440001010894775, 2.3380000591278076, 2.3340001106262207, 2.3266000747680664, 2.323899984359741, 2.2820000648498535, 2.263400077819824, 2.2207999229431152, 2.137700080871582, 2.2297000885009766, 2.144399881362915, 2.171299934387207, 2.1582999229431152, 1.836300015449524, 1.8317999839782715, 2.0708999633789062, 1.753600001335144, 1.4663000106811523, 1.6969000101089478, 0.7759000062942505, 1.5561000108718872, 1.3367999792099, 1.4284000396728516, 1.1496000289916992, 0.9359999895095825, 1.0306999683380127, 1.441499948501587, 0.33180001378059387, 1.1683000326156616, 0.847599983215332, 0.14790000021457672, 1.4466999769210815, 1.1259000301361084, 3.5320000648498535, 3.502500057220459, 3.4723000526428223, 3.217900037765503, 3.0599000453948975, 2.9593000411987305, 2.948199987411499, 2.937299966812134, 2.9024999141693115, 2.879199981689453, 2.8531999588012695, 2.7706000804901123, 2.7428998947143555, 2.6589999198913574, 2.643699884414673, 2.635200023651123, 2.634999990463257, 2.6322999000549316, 2.620699882507324, 2.5985000133514404, 2.5922000408172607, 2.588900089263916, 2.5794999599456787, 2.5764999389648438, 2.573699951171875, 2.520699977874756, 2.5151000022888184, 2.490799903869629, 2.489000082015991, 2.4628000259399414, 2.4052000045776367, 2.3945000171661377, 2.1373000144958496, 1.9496999979019165, 1.7171000242233276, 1.7173000574111938, 2.396399974822998, 2.0504000186920166, 1.9910000562667847, 2.254499912261963, 1.5878000259399414, 1.7706999778747559, 1.7639000415802002, 1.9193999767303467, 1.086899995803833, 1.6324000358581543, 0.9550999999046326, 1.2066999673843384, 1.3580000400543213, 1.079800009727478, 1.6717000007629395, 1.187000036239624, 3.863300085067749, 3.5455000400543213, 3.3180999755859375, 3.2973999977111816, 3.1289000511169434, 3.120300054550171, 3.1092000007629395, 3.0664000511169434, 2.9900999069213867, 2.925600051879883, 2.874799966812134, 2.849100112915039, 2.84660005569458, 2.8457000255584717, 2.777600049972534, 2.7249999046325684, 2.709199905395508, 2.6905999183654785, 2.6751999855041504, 2.651900053024292, 2.5836000442504883, 2.539299964904785, 2.5355000495910645, 2.5230000019073486, 2.52239990234375, 2.5151000022888184, 2.51419997215271, 2.5120999813079834, 2.5051000118255615, 2.4816999435424805, 2.4746999740600586, 2.447999954223633, 2.323699951171875, 2.075700044631958, 2.1112000942230225, 2.147900104522705, 2.151400089263916, 1.937399983406067, 1.9229999780654907, 2.071500062942505, 2.1017000675201416, 1.812000036239624, 2.122299909591675, 1.624899983406067, 1.469099998474121, 1.8222999572753906, 0.45019999146461487, 2.0834999084472656, 1.874500036239624, 1.5146000385284424, 1.5033999681472778, 0.7387999892234802, 3.6387999057769775, 3.618499994277954, 3.4403998851776123, 3.3296000957489014, 3.296299934387207, 3.154900074005127, 3.110599994659424, 3.094599962234497, 3.0487000942230225, 3.045099973678589, 3.0390000343322754, 2.9286999702453613, 2.9040000438690186, 2.8004000186920166, 2.7648000717163086, 2.7623000144958496, 2.759200096130371, 2.7532999515533447, 2.713900089263916, 2.674499988555908, 2.670599937438965, 2.6377999782562256, 2.6284000873565674, 2.625999927520752, 2.6057000160217285, 2.577899932861328, 2.566800117492676, 2.5459001064300537, 2.5334999561309814, 2.5278000831604004, 2.5272998809814453, 2.295599937438965, 2.0002999305725098, 2.2230000495910645, 1.4598000049591064, 1.8587000370025635, 1.1426000595092773, 1.593400001525879, 1.569100022315979, 1.361899971961975, 0.9473000168800354, 1.5389000177383423, 0.8256000280380249, 0.8253999948501587, 1.0684000253677368, 1.1953999996185303, 1.7214000225067139, 3.373699903488159, 3.358099937438965, 3.3099000453948975, 3.2713000774383545, 3.2358999252319336, 3.063199996948242, 3.062999963760376, 3.025899887084961, 2.9340999126434326, 2.882999897003174, 2.824399948120117, 2.80430006980896, 2.763200044631958, 2.7625999450683594, 2.7105000019073486, 2.702399969100952, 2.6677000522613525, 2.6328001022338867, 2.616300106048584, 2.605299949645996, 2.570199966430664, 2.53439998626709, 2.4786999225616455, 2.474600076675415, 2.439500093460083, 2.409899950027466, 2.4001998901367188, 2.372299909591675, 2.356100082397461, 2.3292999267578125, 2.3243000507354736, 2.3134000301361084, 2.208699941635132, 2.1572999954223633, 1.8625999689102173, 1.7919000387191772, 2.0504000186920166, 2.0234999656677246, 1.826799988746643, 1.438599944114685, 1.9377000331878662, 1.8449000120162964, 1.7110999822616577, 1.5090999603271484, 0.9106000065803528, 1.1490000486373901, 1.5666999816894531, 1.1492999792099, 0.5112000107765198, 1.2963000535964966, 2.156100034713745, 0.4952000081539154, 0.9952999949455261, 1.0053999423980713, 1.1778000593185425, 3.4495999813079834, 3.4072999954223633, 2.8364999294281006, 2.836400032043457, 2.763700008392334, 2.599100112915039, 2.5157999992370605, 2.4679999351501465, 2.3773000240325928, 2.369999885559082, 2.3671000003814697, 2.3464999198913574, 2.3261001110076904, 2.323199987411499, 2.2660000324249268, 2.227099895477295, 2.1993000507354736, 2.184999942779541, 2.1849000453948975, 2.1786999702453613, 2.1782000064849854, 2.1665000915527344, 2.1493000984191895, 2.122499942779541, 2.09660005569458, 2.091099977493286, 2.0852999687194824, 2.064300060272217, 2.032599925994873, 2.0120999813079834, 1.8746000528335571, 1.9710999727249146, 1.5743999481201172, 1.808500051498413, 1.704699993133545, 1.6535999774932861, 1.7051000595092773, 1.773800015449524, 1.461899995803833, 1.4246000051498413, 1.2280999422073364, 1.181399941444397, 0.9998999834060669, 1.3078999519348145, 0.6654999852180481, 1.1705000400543213, 1.4184000492095947, 1.2381999492645264, 1.0898000001907349, 0.9373000264167786, 0.5379999876022339, 0.8313000202178955, 0.7329999804496765, 3.8141000270843506, 2.9616000652313232, 2.957900047302246, 2.9003000259399414, 2.884200096130371, 2.877000093460083, 2.853600025177002, 2.8478000164031982, 2.7488999366760254, 2.735100030899048, 2.7281999588012695, 2.6510000228881836, 2.62280011177063, 2.5648999214172363, 2.5541000366210938, 2.545799970626831, 2.5385000705718994, 2.533400058746338, 2.5288000106811523, 2.498800039291382, 2.4914000034332275, 2.475399971008301, 2.467400074005127, 2.442500114440918, 2.4289000034332275, 2.403899908065796, 2.3970000743865967, 2.388000011444092, 2.3752999305725098, 2.3438000679016113, 2.333400011062622, 2.290800094604492, 2.1886000633239746, 2.331899881362915, 1.7615000009536743, 1.8482999801635742, 2.138000011444092, 2.107300043106079, 1.8926000595092773, 2.0648999214172363, 1.5536999702453613, 1.6081000566482544, 1.6574000120162964, 1.7714999914169312, 1.3148000240325928, 1.0880999565124512, 1.0728000402450562, 1.0073000192642212, 1.2620999813079834, 0.7487000226974487, 1.846500039100647, 0.885200023651123, 0.8356999754905701, 1.2079999446868896, 1.010699987411499, 0.6811000108718872], \"logprob\": [30.0, 29.0, 28.0, 27.0, 26.0, 25.0, 24.0, 23.0, 22.0, 21.0, 20.0, 19.0, 18.0, 17.0, 16.0, 15.0, 14.0, 13.0, 12.0, 11.0, 10.0, 9.0, 8.0, 7.0, 6.0, 5.0, 4.0, 3.0, 2.0, 1.0, -6.226799964904785, -6.056600093841553, -5.402400016784668, -5.627200126647949, -5.2418999671936035, -6.416500091552734, -5.117800235748291, -4.717400074005127, -6.201499938964844, -5.714399814605713, -6.041299819946289, -4.480500221252441, -6.1753997802734375, -6.304500102996826, -6.03000020980835, -6.37060022354126, -4.881100177764893, -6.31850004196167, -6.668399810791016, -5.73859977722168, -5.579500198364258, -6.108799934387207, -6.177700042724609, -6.502999782562256, -6.316400051116943, -6.063399791717529, -6.710599899291992, -5.8805999755859375, -5.473700046539307, -5.831299781799316, -5.5208001136779785, -5.196899890899658, -5.069900035858154, -4.127600193023682, -4.897500038146973, -5.197999954223633, -4.9191999435424805, -5.145999908447266, -5.078000068664551, -4.48829984664917, -5.538000106811523, -5.235199928283691, -5.533999919891357, -4.860599994659424, -5.154699802398682, -5.111199855804443, -4.9704999923706055, -4.917200088500977, -5.191699981689453, -5.11870002746582, -5.230100154876709, -5.1940999031066895, -5.201000213623047, -5.144700050354004, -5.249800205230713, -5.231800079345703, -5.2195000648498535, -5.249199867248535, -5.990099906921387, -6.256400108337402, -6.230299949645996, -6.482800006866455, -6.2683000564575195, -5.54580020904541, -6.519999980926514, -6.490099906921387, -5.865300178527832, -6.744500160217285, -5.670499801635742, -6.425000190734863, -7.021699905395508, -6.890399932861328, -6.417300224304199, -5.674200057983398, -6.3460001945495605, -6.52869987487793, -6.915900230407715, -5.958799839019775, -6.556099891662598, -6.156499862670898, -6.439700126647949, -7.031199932098389, -6.323200225830078, -6.843500137329102, -6.731599807739258, -6.441400051116943, -6.7459001541137695, -6.558800220489502, -5.98829984664917, -5.572400093078613, -4.57919979095459, -6.147600173950195, -5.968800067901611, -5.7581000328063965, -4.120100021362305, -5.981500148773193, -4.693600177764893, -3.99180006980896, -5.189599990844727, -4.150899887084961, -5.5142998695373535, -4.801199913024902, -4.980500221252441, -5.498600006103516, -5.233399868011475, -4.988399982452393, -5.333099842071533, -4.490799903869629, -4.916600227355957, -5.106599807739258, -5.444200038909912, -5.122799873352051, -5.192599773406982, -5.189000129699707, -5.1194000244140625, -5.11870002746582, -5.16540002822876, -5.16349983215332, -5.495999813079834, -5.248899936676025, -5.3694000244140625, -5.389100074768066, -5.381100177764893, -5.399499893188477, -5.4359002113342285, -5.476099967956543, -5.478099822998047, -5.473599910736084, -5.103700160980225, -5.004199981689453, -5.115900039672852, -6.127299785614014, -6.504799842834473, -5.939199924468994, -4.899400234222412, -6.528800010681152, -6.30620002746582, -6.929800033569336, -6.109099864959717, -5.636600017547607, -6.225299835205078, -6.539299964904785, -6.836299896240234, -6.772600173950195, -6.246399879455566, -6.410600185394287, -6.820700168609619, -6.927999973297119, -6.063700199127197, -6.415800094604492, -6.303999900817871, -6.1203999519348145, -5.076499938964844, -6.707600116729736, -6.698800086975098, -6.603000164031982, -6.509399890899658, -6.5706000328063965, -5.469799995422363, -5.451099872589111, -4.968200206756592, -4.13700008392334, -5.110499858856201, -5.90749979019165, -5.813499927520752, -5.771999835968018, -5.438499927520752, -4.492599964141846, -4.514100074768066, -5.096399784088135, -5.159800052642822, -4.084799766540527, -4.685299873352051, -4.457600116729736, -4.8445000648498535, -5.111400127410889, -4.581500053405762, -4.668700218200684, -5.369200229644775, -4.770299911499023, -4.97599983215332, -4.442699909210205, -5.159599781036377, -5.231400012969971, -4.905099868774414, -5.1921000480651855, -5.239200115203857, -5.284900188446045, -5.336699962615967, -5.351500034332275, -5.619100093841553, -5.850599765777588, -4.221799850463867, -4.244999885559082, -4.6321001052856445, -3.968100070953369, -5.642199993133545, -6.0366997718811035, -5.257599830627441, -6.096199989318848, -5.192999839782715, -6.40749979019165, -4.993800163269043, -5.224100112915039, -5.806099891662598, -5.021500110626221, -6.73330020904541, -5.244699954986572, -5.270299911499023, -5.272299766540527, -5.024700164794922, -5.444200038909912, -5.028299808502197, -5.045899868011475, -5.046000003814697, -5.046000003814697, -5.04610013961792, -5.448500156402588, -5.623600006103516, -4.36269998550415, -2.8264999389648438, -4.401000022888184, -4.0883002281188965, -3.887200117111206, -4.972799777984619, -4.659599781036377, -4.841800212860107, -4.884799957275391, -4.441699981689453, -4.5894999504089355, -4.850900173187256, -4.356599807739258, -4.374599933624268, -4.453800201416016, -4.695700168609619, -4.963699817657471, -5.060400009155273, -4.460999965667725, -3.8691000938415527, -6.324399948120117, -4.901800155639648, -5.613999843597412, -5.472799777984619, -6.135900020599365, -6.241499900817871, -6.282199859619141, -6.1605000495910645, -6.392600059509277, -6.342800140380859, -3.626699924468994, -5.80810022354126, -6.4278998374938965, -4.042799949645996, -4.388599872589111, -4.405399799346924, -5.861999988555908, -5.416200160980225, -6.297800064086914, -5.07859992980957, -6.761300086975098, -5.894000053405762, -5.42110013961792, -6.5777997970581055, -6.7947998046875, -5.624800205230713, -4.387800216674805, -5.495699882507324, -5.311800003051758, -5.079999923706055, -4.748000144958496, -3.404900074005127, -3.787400007247925, -4.299799919128418, -4.664400100708008, -4.821199893951416, -4.7667999267578125, -5.188199996948242, -5.110899925231934, -4.8460001945495605, -5.132299900054932, -5.188199996948242, -5.084700107574463, -5.040200233459473, -5.094799995422363, -5.167600154876709, -5.292900085449219, -5.314000129699707, -5.386099815368652, -5.708799839019775, -4.784299850463867, -5.458799839019775, -3.3777999877929688, -5.407100200653076, -5.207600116729736, -4.003900051116943, -4.09660005569458, -4.103799819946289, -3.716200113296509, -5.553500175476074, -4.112299919128418, -5.429999828338623, -5.995299816131592, -4.554100036621094, -5.881899833679199, -4.504799842834473, -4.913700103759766, -6.487500190734863, -6.458199977874756, -5.873000144958496, -3.8206000328063965, -5.396399974822998, -5.045599937438965, -5.095099925994873, -6.020100116729736, -6.375199794769287, -6.584400177001953, -4.217100143432617, -4.660999774932861, -4.976500034332275, -4.757400035858154, -5.536300182342529, -3.9407999515533447, -5.2052001953125, -4.973899841308594, -4.666999816894531, -5.361000061035156, -5.073200225830078, -5.079699993133545, -5.187399864196777, -5.257199764251709, -5.999000072479248, -5.855599880218506, -5.7957000732421875, -4.889200210571289, -6.370699882507324, -6.549600124359131, -5.773600101470947, -6.224899768829346, -6.085899829864502, -4.870999813079834, -6.667900085449219, -4.561299800872803, -4.804200172424316, -6.502399921417236, -6.1331000328063965, -6.30079984664917, -6.776599884033203, -6.3109002113342285, -6.4552998542785645, -6.157800197601318, -6.496200084686279, -6.292600154876709, -6.1255998611450195, -5.21560001373291, -5.150199890136719, -4.927299976348877, -5.926000118255615, -6.1255998611450195, -6.1605000495910645, -6.836299896240234, -5.674300193786621, -3.2918999195098877, -5.518400192260742, -5.827300071716309, -4.393899917602539, -4.673999786376953, -4.915999889373779, -4.917399883270264, -5.547900199890137, -4.625100135803223, -3.9969000816345215, -5.123799800872803, -4.543099880218506, -5.544099807739258, -5.096799850463867, -4.660299777984619, -5.446100234985352, -5.072400093078613, -4.728099822998047, -4.962800025939941, -5.142300128936768, -5.032599925994873, -5.153299808502197, -5.016499996185303, -4.654699802398682, -5.090000152587891, -5.165599822998047, -5.339300155639648, -5.111800193786621, -5.195799827575684, -5.129799842834473, -4.618000030517578, -3.6393001079559326, -5.29040002822876, -5.695899963378906, -4.9243998527526855, -3.128999948501587, -5.451600074768066, -6.136499881744385, -5.5894999504089355, -5.261300086975098, -5.422900199890137, -6.473999977111816, -6.634500026702881, -6.086400032043457, -5.386199951171875, -5.770899772644043, -6.354400157928467, -6.13129997253418, -6.287199974060059, -5.768599987030029, -6.377600193023682, -6.2108001708984375, -6.092599868774414, -5.764999866485596, -6.085100173950195, -6.896500110626221, -6.48960018157959, -6.065400123596191, -5.908100128173828, -6.456900119781494, -3.7630999088287354, -4.53849983215332, -5.797800064086914, -4.734300136566162, -5.587699890136719, -4.730599880218506, -5.553899765014648, -4.975200176239014, -4.61959981918335, -5.080399990081787, -4.839600086212158, -5.119100093841553, -4.633999824523926, -5.577700138092041, -4.770699977874756, -5.25629997253418, -4.934800148010254, -5.182199954986572, -5.260799884796143, -5.249100208282471, -4.978899955749512, -5.3171000480651855, -5.146999835968018, -5.139500141143799, -5.248499870300293, -5.177299976348877, -5.20389986038208, -5.168799877166748, -5.234000205993652, -5.287799835205078, -5.277400016784668, -4.944900035858154, -5.745500087738037, -5.316100120544434, -3.4398999214172363, -5.348899841308594, -5.2642998695373535, -5.944399833679199, -6.351799964904785, -4.509500026702881, -5.798799991607666, -5.914700031280518, -3.772700071334839, -5.582600116729736, -3.3903000354766846, -5.183800220489502, -6.615600109100342, -6.3566999435424805, -6.820300102233887, -6.100100040435791, -5.602499961853027, -6.517300128936768, -5.755499839782715, -6.36269998550415, -6.096199989318848, -6.438700199127197, -6.6905999183654785, -6.463799953460693, -6.754300117492676, -6.577899932861328, -6.28249979019165, -5.067699909210205, -4.200699806213379, -4.681600093841553, -5.336699962615967, -5.477700233459473, -5.887400150299072, -4.635000228881836, -4.781000137329102, -4.690000057220459, -4.651199817657471, -5.174799919128418, -5.4730000495910645, -5.104300022125244, -5.164999961853027, -4.891300201416016, -4.990499973297119, -5.38100004196167, -5.4029998779296875, -5.236100196838379, -5.320700168609619, -5.3480000495910645, -5.394599914550781, -5.450900077819824, -3.5002999305725098, -5.065100193023682, -4.5854997634887695, -5.3668999671936035, -3.239000082015991, -5.499899864196777, -4.420300006866455, -4.098400115966797, -4.510499954223633, -5.000400066375732, -5.567200183868408, -4.618299961090088, -5.368199825286865, -5.22629976272583, -3.8055999279022217, -5.79610013961792, -5.1697998046875, -5.341300010681152, -6.026500225067139, -5.0894999504089355, -4.795300006866455, -5.259500026702881, -6.146299839019775, -5.193600177764893, -4.4481000900268555, -5.362100124359131, -6.256999969482422, -5.816400051116943, -6.212399959564209, -5.8140997886657715, -5.333600044250488, -5.186399936676025, -4.6483001708984375, -5.574399948120117, -5.018400192260742, -4.972599983215332, -5.332600116729736, -4.841800212860107, -5.052999973297119, -4.86359977722168, -5.098499774932861, -5.056600093841553, -5.112100124359131, -5.161799907684326, -5.281700134277344, -5.270500183105469, -5.281000137329102, -5.250100135803223, -4.849899768829346, -5.091899871826172, -5.211100101470947, -5.350200176239014, -5.7932000160217285, -5.645699977874756, -5.905099868774414, -6.248499870300293, -5.177599906921387, -4.656799793243408, -5.622200012207031, -5.901299953460693, -6.125100135803223, -5.410600185394287, -6.201499938964844, -3.9962000846862793, -5.229100227355957, -6.4527997970581055, -4.542699813842773, -5.253799915313721, -5.842299938201904, -4.569900035858154, -6.073699951171875, -5.809999942779541, -5.111199855804443, -4.889699935913086, -6.341800212860107, -6.159299850463867, -6.502299785614014, -5.18149995803833, -5.344099998474121, -5.84499979019165, -3.9779000282287598, -4.27209997177124, -5.174099922180176, -4.931600093841553, -4.9984002113342285, -4.339700222015381, -4.437699794769287, -5.013400077819824, -4.9054999351501465, -4.865799903869629, -5.002799987792969, -5.248600006103516, -4.998199939727783, -5.005000114440918, -5.146599769592285, -5.101399898529053, -5.172699928283691, -5.192299842834473, -5.190899848937988, -5.207900047302246, -4.598499774932861, -5.695899963378906, -5.707399845123291, -4.892899990081787, -5.602499961853027, -5.3403000831604, -6.1427998542785645, -4.580100059509277, -6.0696001052856445, -5.098700046539307, -4.413599967956543, -4.605899810791016, -5.309500217437744, -4.179100036621094, -5.690499782562256, -6.138500213623047, -6.497799873352051, -5.854800224304199, -5.95959997177124, -6.289700031280518, -5.765999794006348, -6.1356000900268555, -5.6616997718811035, -4.717599868774414, -6.178800106048584, -4.947400093078613, -6.3582000732421875, -6.560500144958496, -6.263999938964844, -4.831999778747559, -4.832200050354004, -4.850500106811523, -4.704999923706055, -4.836599826812744, -3.4635000228881836, -4.959499835968018, -4.7606000900268555, -4.46589994430542, -4.821599960327148, -3.870500087738037, -5.062399864196777, -4.285900115966797, -5.152200222015381, -4.953000068664551, -4.330699920654297, -4.69189977645874, -5.276700019836426, -5.222599983215332, -5.032700061798096, -5.151599884033203, -4.879000186920166, -5.0883002281188965, -4.886099815368652, -3.2553000450134277, -4.631999969482422, -5.551599979400635, -4.987599849700928, -5.1265997886657715, -6.02839994430542, -5.92140007019043, -5.736499786376953, -6.266300201416016, -6.073999881744385, -5.850900173187256, -5.583600044250488, -5.990799903869629, -6.104400157928467, -5.724100112915039, -4.877099990844727, -6.030200004577637, -6.01800012588501, -5.533699989318848, -5.646900177001953, -5.881700038909912, -4.805799961090088, -5.287700176239014, -4.7581000328063965, -6.018199920654297, -5.978700160980225, -6.45419979095459, -5.55079984664917, -5.786600112915039, -4.246600151062012, -4.690400123596191, -5.088799953460693, -4.384500026702881, -4.745800018310547, -4.385900020599365, -3.8814001083374023, -5.673399925231934, -4.977499961853027, -4.441699981689453, -4.507800102233887, -5.0792999267578125, -4.782400131225586, -4.870999813079834, -4.826200008392334, -5.238800048828125, -5.087399959564209, -4.522200107574463, -4.9807000160217285, -4.967199802398682, -5.114799976348877, -4.985300064086914, -5.085999965667725, -5.190299987792969, -4.452199935913086, -4.789100170135498, -4.757299900054932, -2.7202000617980957, -4.5894999504089355, -3.78410005569458, -4.604800224304199, -5.189599990844727, -4.55620002746582, -5.104400157928467, -4.473899841308594, -4.429100036621094, -5.381100177764893, -5.119500160217285, -5.8892998695373535, -5.345699787139893, -4.126999855041504, -5.007999897003174, -4.843900203704834, -5.597099781036377, -5.838099956512451, -5.583399772644043, -5.586400032043457, -6.076399803161621, -5.8684000968933105, -6.053100109100342, -5.7657999992370605, -4.2179999351501465, -5.728000164031982, -4.882299900054932, -4.9542999267578125, -5.271599769592285, -4.62060022354126, -4.6433000564575195, -4.571400165557861, -5.111000061035156, -4.980800151824951, -4.534900188446045, -5.172999858856201, -4.829500198364258, -4.883800029754639, -4.8460001945495605, -5.084199905395508, -4.838900089263916, -5.002399921417236, -5.0904998779296875, -4.333000183105469, -5.059000015258789, -4.905099868774414, -5.769100189208984, -5.699399948120117, -3.9323999881744385, -5.418799877166748, -5.69789981842041, -5.079699993133545, -5.428500175476074, -5.350100040435791, -5.530200004577637, -5.361400127410889, -5.630499839782715, -5.2210001945495605, -5.411300182342529, -5.411399841308594, -5.894499778747559, -4.861599922180176, -6.434899806976318, -5.1149001121521, -4.8703999519348145, -6.515100002288818, -5.683800220489502, -5.552000045776367, -5.839799880981445, -5.997499942779541, -6.61870002746582, -5.945899963378906, -6.133399963378906, -3.625999927520752, -5.605199813842773, -4.910799980163574, -5.525300025939941, -5.164400100708008, -5.687399864196777, -3.6133999824523926, -5.32859992980957, -4.420000076293945, -4.59119987487793, -4.622799873352051, -5.308599948883057, -4.851600170135498, -5.103799819946289, -4.840799808502197, -4.876500129699707, -5.023099899291992, -5.049200057983398, -5.068299770355225, -4.934700012207031, -5.02239990234375, -5.111299991607666, -5.112500190734863, -5.253300189971924, -5.15369987487793, -5.167500019073486, -5.192800045013428, -4.325699806213379, -3.8828001022338867, -5.118100166320801, -3.612299919128418, -4.347599983215332, -4.7708001136779785, -5.606900215148926, -4.013500213623047, -4.948800086975098, -5.378300189971924, -4.899400234222412, -4.498300075531006, -4.664299964904785, -4.851900100708008, -5.537300109863281, -4.565299987792969, -3.4625000953674316, -4.989299774169922, -3.205399990081787, -5.150300025939941, -6.274499893188477, -5.94920015335083, -6.122700214385986, -5.753399848937988, -5.6072998046875, -5.987400054931641, -6.40310001373291, -5.985400199890137, -5.954899787902832, -5.331600189208984, -3.9296000003814697, -5.39109992980957, -5.328100204467773, -4.106299877166748, -4.9430999755859375, -4.873300075531006, -5.178899765014648, -4.9375, -4.702000141143799, -5.0030999183654785, -5.13040018081665, -5.14139986038208, -5.344799995422363, -4.890500068664551, -6.177000045776367, -5.0269999504089355, -4.985199928283691, -5.657299995422363, -5.432300090789795, -6.094200134277344, -5.4334001541137695, -5.481800079345703, -5.3165998458862305, -6.242400169372559, -6.456099987030029, -6.122799873352051, -6.466899871826172, -6.09250020980835, -5.230100154876709, -5.233799934387207, -6.6539998054504395, -6.7382001876831055, -4.958799839019775, -6.455999851226807, -6.747900009155273, -6.586999893188477, -6.63040018081665, -6.4156999588012695, -6.184999942779541, -6.778200149536133, -4.891600131988525, -6.38640022277832, -5.790500164031982, -5.516300201416016, -4.138000011444092, -4.651100158691406, -5.129899978637695, -5.9293999671936035, -5.51230001449585, -5.022200107574463, -4.551300048828125, -3.410599946975708, -5.070700168609619, -5.742800235748291, -5.432400226593018, -4.395599842071533, -5.186100006103516, -4.980500221252441, -4.3765997886657715, -5.218299865722656, -4.947199821472168, -5.02370023727417, -5.008399963378906, -5.141200065612793, -5.143599987030029, -5.191199779510498, -5.1722002029418945, -5.090700149536133, -5.1844000816345215, -5.257299900054932, -5.2916998863220215, -3.8459999561309814, -4.4644999504089355, -3.861799955368042, -3.9639999866485596, -4.61329984664917, -4.980599880218506, -4.214700222015381, -5.202700138092041, -4.118599891662598, -5.394400119781494, -4.801300048828125, -5.570799827575684, -5.582099914550781, -3.9914000034332275, -5.628699779510498, -5.637400150299072, -4.521100044250488, -4.882299900054932, -3.5065999031066895, -5.496500015258789, -4.711599826812744, -3.1745998859405518, -5.478700160980225, -5.007699966430664, -5.2052001953125, -4.33519983291626, -5.806399822235107, -5.9116997718811035, -5.97629976272583, -6.004899978637695, -4.053500175476074, -4.202199935913086, -4.207699775695801, -4.617700099945068, -4.92110013961792, -4.86359977722168, -4.355999946594238, -4.454100131988525, -5.051700115203857, -4.608699798583984, -4.905200004577637, -4.683800220489502, -4.8592000007629395, -4.771699905395508, -4.906499862670898, -4.939300060272217, -5.209700107574463, -5.511199951171875, -5.582699775695801, -5.001299858093262, -5.104300022125244, -3.533799886703491, -5.090000152587891, -5.145999908447266, -5.108399868011475, -5.507900238037109, -5.264400005340576, -4.996799945831299, -5.512400150299072, -5.282400131225586, -5.654200077056885, -5.17110013961792, -5.131899833679199, -5.972099781036377, -4.405099868774414, -5.412899971008301, -5.729400157928467, -5.3165998458862305, -5.109300136566162, -5.579800128936768, -6.113999843597412, -5.631400108337402, -5.350100040435791, -4.968999862670898, -4.723700046539307, -4.943900108337402, -4.1834001541137695, -4.392300128936768, -4.173399925231934, -4.72790002822876, -4.442200183868408, -4.239200115203857, -4.974400043487549, -3.86929988861084, -4.445499897003174, -4.767000198364258, -4.716899871826172, -4.831600189208984, -4.427800178527832, -4.482600212097168, -4.747900009155273, -4.822500228881836, -4.92579984664917, -4.827300071716309, -4.9405999183654785, -4.970200061798096, -5.0482001304626465, -5.071599960327148, -5.082600116729736, -5.015500068664551, -5.376299858093262, -5.352700233459473, -6.161099910736084, -6.3846001625061035, -5.613500118255615, -6.265900135040283, -5.718699932098389, -5.108399868011475, -5.8018999099731445, -5.872900009155273, -5.958700180053711, -6.420400142669678, -6.119999885559082, -5.4120001792907715, -6.3867998123168945, -5.6894001960754395, -5.448699951171875, -6.423299789428711, -5.4166998863220215, -6.238900184631348, -6.2453999519348145, -6.105999946594238, -4.811399936676025, -6.264400005340576, -6.5345001220703125, -6.136199951171875, -5.947800159454346, -5.5945000648498535, -6.243100166320801, -5.802499771118164, -5.8933000564575195, -5.5254998207092285, -4.50600004196167, -4.72160005569458, -4.708399772644043, -4.838399887084961, -4.851500034332275, -4.39109992980957, -5.3831000328063965, -4.774400234222412, -5.467400074005127, -5.123799800872803, -5.1996002197265625, -5.107999801635742, -5.187099933624268, -4.986299991607666, -4.898399829864502, -4.79010009765625, -4.6203999519348145, -4.902400016784668, -4.831299781799316, -5.213699817657471, -5.180699825286865, -5.149600028991699, -5.269800186157227, -5.16349983215332, -4.9475998878479, -5.1508002281188965, -5.244500160217285, -5.249199867248535, -5.3003997802734375, -5.288000106811523, -5.532299995422363, -4.763800144195557, -4.399400234222412, -4.462900161743164, -4.283400058746338, -5.227700233459473, -5.5854997634887695, -5.679599761962891, -5.326000213623047, -3.2523999214172363, -6.2617998123168945, -6.0894999504089355, -6.025199890136719, -5.293700218200684, -5.8302001953125, -6.482699871063232, -6.139599800109863, -5.816999912261963, -6.5655999183654785, -6.178100109100342, -6.142300128936768, -6.483099937438965, -6.612199783325195, -6.269800186157227, -6.402699947357178, -6.401100158691406, -5.837900161743164, -6.423099994659424, -6.474100112915039, -6.159200191497803, -5.354599952697754, -5.125699996948242, -5.755000114440918, -5.682799816131592, -5.05049991607666, -5.443900108337402, -5.070799827575684, -5.445400238037109, -5.071599960327148, -5.300600051879883, -4.774899959564209, -5.049200057983398, -5.24970006942749, -4.855500221252441, -4.676400184631348, -4.695300102233887, -4.772799968719482, -5.249899864196777, -5.122499942779541, -4.931600093841553, -5.421800136566162, -4.885300159454346, -5.144800186157227, -5.1280999183654785, -5.269999980926514, -5.330599784851074, -5.139800071716309, -5.23829984664917, -5.239500045776367, -5.322199821472168, -4.224899768829346, -4.368299961090088, -4.803599834442139, -4.959000110626221, -4.995800018310547, -4.5040998458862305, -5.595699787139893, -4.415200233459473, -3.2153000831604004, -5.6194000244140625, -5.197000026702881, -5.192599773406982, -6.193999767303467, -5.747600078582764, -5.940700054168701, -3.3652000427246094, -5.303299903869629, -6.601099967956543, -3.0852999687194824, -5.636899948120117, -6.262400150299072, -6.043099880218506, -5.684700012207031, -5.671999931335449, -5.4704999923706055, -6.44980001449585, -5.82919979095459, -5.964099884033203, -5.625199794769287, -6.461299896240234, -5.666900157928467, -5.315999984741211, -5.523600101470947, -4.052599906921387, -4.156400203704834, -5.293700218200684, -5.466300010681152, -5.1458001136779785, -5.014599800109863, -5.180300235748291, -5.176400184631348, -4.908400058746338, -4.987400054931641, -5.072400093078613, -5.156899929046631, -5.225900173187256, -5.353499889373779, -5.337500095367432, -5.293300151824951, -5.354300022125244, -5.302199840545654, -4.67579984664917, -4.333499908447266, -4.951099872589111, -4.432000160217285, -5.7220001220703125, -5.698800086975098, -4.970900058746338, -3.956700086593628, -6.022299766540527, -5.689300060272217, -4.688199996948242, -5.220799922943115, -5.809899806976318, -5.760700225830078, -5.264599800109863, -4.500400066375732, -4.814700126647949, -5.264699935913086, -5.964099884033203, -5.151400089263916, -6.072400093078613, -6.031300067901611, -6.018199920654297, -5.706299781799316, -5.348700046539307, -5.496200084686279, -5.696499824523926, -5.535299777984619, -5.116399765014648, -6.174600124359131, -4.254899978637695, -5.1168999671936035, -4.557600021362305, -4.27239990234375, -4.980400085449219, -4.867300033569336, -4.51669979095459, -5.073200225830078, -4.364299774169922, -4.897799968719482, -5.133200168609619, -4.649799823760986, -4.268499851226807, -5.257400035858154, -5.147900104522705, -4.957900047302246, -5.0, -4.990099906921387, -5.057300090789795, -5.152599811553955, -5.141900062561035, -4.313799858093262, -4.624300003051758, -4.420400142669678, -3.6449999809265137, -5.1427001953125, -4.248600006103516, -5.721399784088135, -5.040999889373779, -4.845200061798096, -4.911499977111816, -5.503600120544434, -5.891499996185303, -5.166900157928467, -3.6700000762939453, -5.359600067138672, -5.913700103759766, -6.163300037384033, -4.397299766540527, -6.160299777984619, -5.3850998878479, -5.348700046539307, -6.124899864196777, -5.992199897766113, -6.530099868774414, -6.246399879455566, -5.623000144958496, -6.184000015258789, -6.223400115966797, -5.1844000816345215, -5.716400146484375, -5.243299961090088, -5.03000020980835, -5.666999816894531, -5.241799831390381, -5.382900238037109, -5.444200038909912, -4.6996002197265625, -4.69950008392334, -5.3171000480651855, -4.70389986038208, -4.483099937438965, -4.820499897003174, -3.734800100326538, -4.899899959564209, -4.768899917602539, -4.858799934387207, -4.716800212860107, -4.598599910736084, -4.727499961853027, -4.929699897766113, -4.53380012512207, -4.930600166320801, -4.851200103759766, -4.903299808502197, -5.090700149536133, -5.082499980926514, -5.138400077819824, -3.683500051498413, -4.565100193023682, -3.442500114440918, -5.174600124359131, -5.442999839782715, -5.690299987792969, -5.39870023727417, -3.638400077819824, -5.074900150299072, -4.930200099945068, -4.697500228881836, -3.88319993019104, -5.5278000831604, -5.5894999504089355, -5.768700122833252, -5.6031999588012695, -5.8043999671936035, -4.621099948883057, -5.969699859619141, -5.575399875640869, -5.6442999839782715, -5.659800052642822, -5.122200012207031, -5.801499843597412, -5.519700050354004, -5.605899810791016, -3.700000047683716, -4.9766998291015625, -4.52810001373291, -4.501399993896484, -4.758699893951416, -4.030700206756592, -4.274700164794922, -3.9816999435424805, -4.030399799346924, -5.333600044250488, -4.953000068664551, -4.956699848175049, -5.239299774169922, -4.625899791717529, -4.865600109100342, -4.882400035858154, -5.062099933624268, -4.682199954986572, -4.945400238037109, -4.72189998626709, -4.872499942779541, -4.91349983215332, -4.869699954986572, -5.041999816894531, -5.041299819946289, -4.547500133514404, -3.6089999675750732, -4.712399959564209, -4.655300140380859, -4.946899890899658, -5.493199825286865, -4.851200103759766, -4.666500091552734, -4.24370002746582, -5.547800064086914, -2.856600046157837, -5.45359992980957, -5.2241997718811035, -5.809999942779541, -5.131800174713135, -5.65339994430542, -5.979599952697754, -5.751800060272217, -4.905399799346924, -5.735599994659424, -5.434199810028076, -5.343500137329102, -4.883900165557861, -5.980400085449219, -5.669300079345703, -5.656300067901611, -6.072700023651123, -6.0, -4.306399822235107, -5.539599895477295, -5.185800075531006, -5.152299880981445, -5.0528998374938965, -4.091100215911865, -4.455100059509277, -4.642600059509277, -4.751100063323975, -4.40500020980835, -4.404200077056885, -4.712600231170654, -4.767600059509277, -4.385900020599365, -4.912099838256836, -4.552299976348877, -4.4741997718811035, -4.788300037384033, -4.060500144958496, -4.98360013961792, -4.925300121307373, -4.823299884796143, -4.926799774169922, -4.956099987030029, -4.488800048828125, -4.195000171661377, -4.276800155639648, -5.308899879455566, -4.014699935913086, -3.8696000576019287, -5.219399929046631, -5.015500068664551, -4.143099784851074, -4.0030999183654785, -5.106800079345703, -5.296500205993652, -5.714600086212158, -5.769700050354004, -5.600100040435791, -5.814599990844727, -5.130000114440918, -5.126500129699707, -5.9019999504089355, -5.421899795532227, -5.8383002281188965, -5.2093000411987305, -5.457200050354004, -5.757900238037109, -4.39769983291626, -5.613399982452393, -4.944300174713135, -4.915299892425537, -6.248199939727783, -6.016900062561035, -3.801300048828125, -4.852399826049805, -4.713399887084961, -5.153600215911865, -4.408599853515625, -4.887800216674805, -4.5980000495910645, -4.923999786376953, -4.967800140380859, -4.9095001220703125, -4.809899806976318, -5.042699813842773, -4.851399898529053, -4.889200210571289, -4.9899001121521, -5.032800197601318, -5.125, -5.4278998374938965, -4.397299766540527, -4.13539981842041, -3.5102999210357666, -3.902400016784668, -5.432000160217285, -3.512399911880493, -4.797800064086914, -5.333000183105469, -5.38539981842041, -5.672299861907959, -5.269800186157227, -5.728400230407715, -5.331600189208984, -5.359300136566162, -5.644899845123291, -5.3856000900268555, -5.495999813079834, -5.502699851989746, -5.762499809265137, -5.967599868774414, -5.362299919128418, -6.242800235748291, -5.497000217437744, -5.742499828338623, -4.7032999992370605, -5.6356000900268555, -4.613399982452393, -5.295899868011475, -5.89139986038208, -5.288300037384033, -5.110000133514404, -4.438300132751465, -4.849899768829346, -4.059100151062012, -3.9386000633239746, -4.800600051879883, -4.760499954223633, -4.558300018310547, -4.079699993133545, -4.763299942016602, -4.692500114440918, -4.625100135803223, -4.49970006942749, -4.022600173950195, -4.22599983215332, -4.600200176239014, -4.60890007019043, -4.354400157928467, -4.6971001625061035, -5.077700138092041, -4.5559000968933105, -4.736199855804443, -4.85290002822876, -4.901400089263916, -3.9958999156951904, -4.939000129699707, -5.5518999099731445, -4.920300006866455, -5.826499938964844, -5.745500087738037, -5.253499984741211, -5.841000080108643, -6.2052001953125, -5.276000022888184, -6.2565999031066895, -5.234000205993652, -5.604400157928467, -4.565100193023682, -5.933599948883057, -5.863999843597412, -6.279699802398682, -4.468100070953369, -6.260499954223633, -4.783699989318848, -6.204999923706055, -5.337500095367432, -5.323500156402588, -4.452899932861328, -5.805099964141846, -5.555699825286865, -5.86870002746582, -4.983799934387207, -5.043900012969971, -4.326700210571289, -4.9070000648498535, -5.401899814605713, -4.17519998550415, -4.9934000968933105, -4.769700050354004, -4.793799877166748, -4.9481000900268555, -5.151599884033203, -4.723199844360352, -4.799799919128418, -4.6367998123168945, -4.605800151824951, -4.482100009918213, -4.790999889373779, -4.385700225830078, -4.838200092315674, -5.016600131988525, -4.970200061798096, -4.968500137329102, -4.929100036621094, -4.940899848937988, -4.988500118255615, -5.007699966430664, -3.6586999893188477, -5.205999851226807, -4.951499938964844, -5.10699987411499, -5.471099853515625, -5.361199855804443, -5.475900173187256, -5.094399929046631, -5.379799842834473, -6.037499904632568, -5.058899879455566, -5.677999973297119, -4.961999893188477, -5.520699977874756, -5.052999973297119, -5.756800174713135, -5.8171000480651855, -5.940000057220459, -5.89109992980957, -5.883699893951416, -5.7170000076293945, -3.701900005340576, -5.048900127410889, -5.9781999588012695, -4.914100170135498, -5.347499847412109, -5.990799903869629, -5.890500068664551, -5.662499904632568, -5.910200119018555, -5.312900066375732, -4.823400020599365, -4.600399971008301, -5.542500019073486, -4.028200149536133, -4.745299816131592, -5.256100177764893, -5.263199806213379, -5.032800197601318, -5.246099948883057, -4.661099910736084, -4.8155999183654785, -5.053199768066406, -5.143199920654297, -4.893599987030029, -4.780300140380859, -4.871300220489502, -4.85099983215332, -5.066500186920166, -5.023499965667725, -5.2204999923706055, -5.064199924468994, -5.058199882507324, -5.129899978637695, -5.156099796295166, -5.138599872589111]}, \"token.table\": {\"Topic\": [2, 4, 5, 8, 17, 23, 26, 27, 30, 4, 5, 6, 9, 12, 30, 1, 3, 6, 7, 9, 10, 11, 14, 17, 18, 29, 2, 5, 14, 18, 20, 22, 23, 4, 5, 15, 17, 21, 1, 2, 4, 5, 6, 7, 8, 9, 10, 11, 12, 13, 14, 15, 16, 17, 18, 19, 20, 21, 22, 23, 25, 26, 27, 28, 29, 1, 2, 3, 8, 14, 15, 19, 20, 21, 22, 23, 25, 26, 29, 1, 8, 9, 10, 11, 22, 23, 27, 3, 7, 8, 9, 11, 16, 25, 26, 27, 5, 6, 8, 9, 16, 18, 23, 2, 4, 7, 8, 10, 12, 14, 23, 26, 27, 29, 4, 5, 6, 10, 11, 13, 14, 15, 16, 17, 19, 22, 23, 26, 28, 30, 2, 3, 4, 5, 6, 10, 11, 13, 17, 19, 20, 21, 22, 25, 30, 2, 4, 5, 9, 10, 11, 17, 21, 22, 23, 25, 29, 3, 4, 5, 6, 8, 10, 11, 13, 14, 15, 16, 17, 19, 22, 23, 26, 28, 29, 30, 4, 5, 6, 15, 16, 17, 19, 22, 23, 26, 29, 1, 2, 5, 6, 7, 8, 10, 11, 13, 15, 17, 18, 21, 22, 26, 29, 2, 3, 5, 10, 14, 17, 1, 8, 9, 13, 14, 18, 22, 26, 2, 3, 5, 6, 11, 13, 17, 22, 26, 1, 2, 6, 7, 15, 17, 18, 22, 25, 1, 7, 8, 21, 22, 2, 3, 4, 6, 8, 9, 10, 11, 12, 14, 16, 17, 27, 10, 16, 3, 4, 5, 15, 17, 23, 28, 2, 3, 4, 5, 7, 8, 9, 17, 19, 23, 28, 29, 1, 7, 12, 2, 3, 6, 7, 8, 10, 17, 21, 28, 2, 3, 28, 1, 2, 3, 4, 5, 7, 8, 10, 11, 12, 16, 20, 21, 22, 25, 26, 2, 3, 5, 8, 9, 11, 12, 13, 15, 16, 18, 23, 25, 1, 2, 3, 5, 6, 8, 9, 15, 16, 18, 25, 1, 2, 3, 6, 7, 9, 12, 18, 22, 1, 7, 8, 11, 16, 17, 19, 27, 30, 8, 12, 14, 15, 18, 22, 23, 25, 8, 12, 14, 18, 23, 26, 1, 2, 10, 13, 18, 20, 22, 26, 1, 3, 4, 6, 7, 9, 10, 12, 14, 19, 21, 23, 1, 2, 3, 5, 6, 9, 11, 13, 16, 17, 19, 20, 21, 22, 23, 29, 30, 1, 5, 6, 15, 16, 20, 21, 22, 10, 20, 22, 25, 27, 1, 2, 3, 4, 15, 17, 28, 4, 7, 11, 14, 15, 29, 1, 6, 7, 8, 9, 12, 20, 21, 22, 23, 1, 2, 12, 14, 18, 21, 23, 25, 30, 5, 8, 9, 11, 12, 14, 20, 22, 25, 1, 2, 6, 9, 10, 11, 12, 13, 14, 15, 16, 18, 20, 21, 22, 25, 29, 1, 2, 3, 4, 5, 6, 7, 8, 9, 10, 11, 12, 13, 14, 15, 16, 17, 19, 20, 21, 22, 25, 26, 30, 2, 4, 5, 6, 9, 16, 17, 2, 3, 4, 6, 9, 16, 17, 19, 27, 28, 29, 30, 2, 5, 7, 9, 12, 14, 17, 22, 27, 3, 4, 5, 9, 12, 13, 15, 17, 20, 21, 22, 23, 28, 1, 4, 5, 9, 11, 16, 17, 23, 29, 3, 5, 8, 9, 14, 18, 20, 26, 30, 3, 5, 16, 17, 25, 28, 5, 6, 19, 1, 8, 12, 20, 21, 22, 27, 2, 3, 8, 9, 11, 21, 25, 27, 4, 5, 6, 15, 16, 17, 19, 23, 24, 1, 8, 9, 10, 15, 21, 25, 3, 4, 5, 9, 17, 29, 1, 14, 18, 26, 2, 3, 4, 5, 6, 7, 9, 10, 11, 12, 13, 17, 20, 21, 22, 23, 24, 29, 1, 2, 5, 6, 8, 11, 14, 16, 17, 18, 20, 25, 29, 3, 8, 10, 14, 30, 1, 4, 5, 6, 8, 11, 13, 15, 17, 18, 20, 21, 1, 2, 10, 12, 21, 22, 1, 2, 4, 8, 10, 14, 26, 1, 2, 3, 4, 5, 6, 8, 9, 13, 14, 15, 16, 17, 21, 22, 25, 4, 5, 8, 9, 10, 12, 15, 20, 25, 2, 3, 5, 6, 11, 13, 15, 17, 19, 20, 21, 2, 3, 5, 6, 11, 12, 17, 20, 1, 3, 4, 6, 1, 2, 3, 7, 8, 10, 11, 12, 13, 14, 15, 17, 18, 19, 21, 22, 25, 27, 29, 30, 2, 3, 7, 8, 12, 13, 14, 17, 18, 19, 21, 25, 27, 30, 1, 5, 6, 8, 12, 17, 20, 24, 27, 1, 2, 3, 4, 8, 9, 10, 12, 13, 22, 25, 1, 2, 3, 4, 5, 6, 7, 8, 9, 10, 11, 14, 15, 16, 17, 19, 20, 21, 22, 23, 25, 26, 27, 29, 30, 1, 4, 7, 8, 9, 11, 12, 14, 1, 2, 3, 4, 5, 6, 7, 8, 9, 11, 12, 13, 15, 16, 17, 23, 24, 27, 28, 29, 30, 1, 3, 8, 17, 18, 20, 21, 30, 1, 2, 3, 5, 12, 16, 24, 29, 30, 1, 2, 3, 6, 20, 2, 3, 4, 6, 12, 13, 29, 1, 2, 3, 5, 7, 8, 9, 10, 11, 12, 14, 15, 17, 18, 22, 23, 26, 27, 29, 1, 5, 8, 11, 15, 22, 28, 1, 5, 10, 15, 16, 1, 6, 8, 9, 16, 21, 22, 10, 1, 2, 3, 4, 5, 6, 9, 18, 24, 29, 1, 7, 8, 9, 14, 26, 30, 1, 2, 3, 6, 8, 9, 12, 13, 14, 15, 18, 19, 20, 22, 23, 24, 26, 27, 30, 1, 3, 8, 9, 13, 15, 16, 18, 24, 7, 8, 9, 11, 13, 14, 21, 2, 4, 9, 21, 28, 1, 2, 6, 7, 10, 2, 8, 10, 14, 30, 2, 3, 4, 5, 17, 24, 28, 1, 6, 8, 9, 11, 12, 13, 20, 24, 26, 3, 5, 6, 8, 9, 11, 13, 16, 17, 25, 28, 3, 6, 8, 9, 14, 18, 22, 5, 10, 21, 1, 9, 10, 16, 19, 25, 1, 2, 5, 10, 19, 23, 25, 27, 1, 3, 5, 9, 11, 12, 13, 15, 17, 19, 20, 21, 23, 30, 8, 9, 13, 14, 15, 20, 23, 25, 1, 2, 8, 9, 11, 16, 20, 4, 6, 9, 28, 1, 2, 4, 6, 8, 9, 12, 17, 19, 20, 23, 26, 27, 1, 2, 3, 8, 11, 15, 17, 20, 21, 29, 3, 5, 15, 21, 22, 1, 4, 5, 8, 10, 15, 16, 18, 19, 21, 6, 8, 9, 11, 12, 21, 22, 1, 8, 9, 15, 2, 3, 5, 6, 7, 8, 9, 10, 11, 14, 17, 19, 20, 24, 27, 29, 30, 1, 2, 3, 6, 8, 11, 14, 21, 1, 2, 3, 4, 5, 6, 7, 8, 9, 12, 13, 14, 15, 16, 17, 18, 19, 20, 21, 22, 23, 24, 27, 28, 29, 2, 3, 5, 7, 8, 9, 17, 21, 1, 2, 4, 6, 7, 8, 9, 13, 17, 20, 21, 1, 2, 3, 5, 7, 8, 10, 12, 14, 17, 18, 19, 20, 30, 1, 2, 5, 8, 10, 13, 14, 23, 25, 26, 1, 2, 5, 8, 10, 14, 1, 7, 8, 14, 18, 26, 2, 3, 5, 7, 8, 14, 15, 19, 20, 22, 24, 26, 29, 30, 1, 2, 3, 4, 9, 10, 12, 13, 15, 18, 20, 21, 22, 29, 1, 3, 4, 5, 6, 7, 8, 9, 11, 12, 13, 15, 17, 18, 19, 20, 24, 28, 29, 1, 9, 12, 16, 24, 1, 2, 6, 16, 23, 24, 1, 11, 16, 18, 21, 27, 30, 8, 9, 14, 18, 19, 20, 26, 29, 30, 1, 3, 5, 7, 8, 9, 10, 11, 17, 18, 20, 22, 23, 25, 27, 1, 2, 3, 4, 5, 6, 10, 11, 12, 13, 17, 20, 21, 24, 25, 28, 29, 30, 1, 3, 5, 21, 28, 30, 2, 3, 4, 13, 20, 24, 28, 2, 3, 4, 5, 6, 10, 17, 21, 24, 28, 2, 3, 4, 7, 8, 9, 10, 11, 13, 14, 17, 22, 23, 25, 27, 1, 2, 3, 4, 5, 6, 7, 9, 11, 12, 14, 15, 16, 17, 19, 21, 22, 23, 24, 28, 2, 3, 4, 5, 6, 7, 9, 12, 15, 16, 17, 19, 21, 22, 23, 24, 28, 2, 3, 4, 5, 12, 2, 3, 5, 9, 15, 21, 3, 4, 5, 6, 3, 4, 5, 6, 2, 5, 7, 20, 21, 26, 27, 29, 1, 2, 3, 4, 5, 6, 7, 9, 10, 11, 12, 13, 14, 19, 20, 21, 22, 23, 27, 28, 29, 1, 4, 8, 9, 13, 15, 16, 18, 22, 25, 1, 3, 5, 8, 9, 11, 13, 17, 21, 30, 2, 4, 5, 6, 11, 13, 1, 10, 25, 27, 1, 10, 25, 27, 1, 2, 3, 5, 6, 7, 8, 9, 11, 13, 14, 15, 20, 21, 23, 27, 3, 4, 7, 8, 10, 11, 12, 13, 15, 16, 20, 23, 25, 27, 2, 3, 11, 15, 16, 17, 20, 23, 27, 1, 8, 9, 14, 18, 19, 21, 23, 27, 30, 1, 3, 4, 6, 10, 13, 17, 19, 20, 21, 28, 29, 1, 3, 7, 9, 13, 14, 22, 4, 5, 6, 8, 9, 12, 15, 16, 18, 22, 23, 24, 25, 27, 1, 2, 3, 6, 7, 8, 10, 14, 18, 21, 25, 26, 2, 7, 21, 1, 14, 18, 19, 22, 23, 27, 30, 2, 3, 4, 7, 8, 10, 11, 13, 14, 15, 17, 18, 19, 20, 21, 22, 23, 25, 26, 28, 1, 5, 6, 12, 16, 20, 22, 23, 27, 30, 1, 2, 3, 5, 7, 10, 14, 18, 19, 23, 27, 4, 5, 9, 11, 12, 16, 17, 18, 27, 28, 2, 3, 4, 5, 7, 9, 10, 12, 13, 17, 20, 21, 23, 26, 28, 29, 30, 3, 4, 5, 6, 7, 8, 13, 16, 17, 20, 21, 29, 2, 4, 5, 6, 7, 8, 9, 10, 12, 14, 17, 18, 19, 21, 29, 30, 3, 6, 8, 13, 2, 3, 4, 5, 6, 7, 8, 12, 13, 15, 16, 17, 18, 20, 21, 22, 23, 24, 28, 29, 2, 3, 4, 5, 6, 12, 13, 15, 20, 21, 22, 28, 29, 2, 3, 5, 7, 8, 14, 16, 29, 1, 2, 3, 4, 6, 7, 8, 11, 13, 16, 17, 21, 22, 24, 28, 30, 2, 3, 4, 6, 11, 13, 16, 20, 21, 22, 28, 30, 2, 3, 6, 7, 9, 1, 2, 4, 5, 6, 8, 9, 10, 11, 12, 16, 20, 21, 22, 23, 24, 27, 30, 1, 2, 3, 5, 6, 11, 12, 16, 20, 24, 4, 10, 12, 17, 21, 4, 6, 7, 9, 13, 15, 16, 17, 21, 24, 29, 1, 3, 5, 7, 8, 9, 10, 14, 18, 19, 21, 1, 3, 10, 21, 22, 23, 27, 2, 4, 5, 6, 7, 12, 13, 15, 16, 17, 19, 20, 21, 1, 5, 15, 17, 22, 23, 27, 2, 3, 6, 7, 21, 22, 28, 29, 1, 2, 3, 4, 5, 6, 7, 8, 9, 10, 11, 12, 14, 15, 16, 17, 18, 20, 21, 22, 23, 24, 25, 26, 27, 29, 30, 1, 2, 5, 13, 14, 15, 21, 22, 23, 29, 1, 2, 3, 4, 5, 6, 8, 9, 10, 11, 12, 13, 15, 16, 17, 18, 20, 21, 22, 24, 25, 26, 28, 29, 30, 1, 2, 5, 8, 13, 21, 5, 6, 7, 8, 11, 13, 14, 17, 19, 20, 21, 23, 24, 25, 27, 29, 30, 1, 8, 18, 20, 22, 24, 25, 1, 8, 9, 3, 4, 6, 8, 9, 10, 15, 19, 28, 1, 2, 4, 5, 6, 9, 10, 11, 19, 20, 21, 22, 23, 25, 27, 3, 5, 6, 12, 13, 16, 17, 19, 24, 29, 3, 5, 6, 12, 13, 16, 17, 19, 24, 29, 11, 15, 16, 17, 23, 29, 30, 1, 5, 8, 10, 18, 20, 24, 25, 26, 27, 29, 2, 4, 5, 6, 7, 8, 9, 11, 12, 13, 14, 15, 16, 19, 20, 23, 24, 27, 30, 4, 5, 6, 8, 9, 11, 13, 15, 16, 20, 23, 7, 8, 10, 14, 17, 19, 25, 26, 3, 4, 5, 6, 10, 19, 1, 2, 5, 10, 12, 13, 14, 18, 27, 29, 30, 3, 4, 5, 7, 8, 18, 19, 21, 27, 29, 30, 2, 9, 10, 17, 22, 1, 6, 7, 9, 23, 2, 3, 5, 13, 22, 1, 3, 5, 7, 9, 10, 11, 13, 20, 23, 30, 2, 3, 4, 5, 6, 7, 9, 12, 15, 16, 19, 20, 21, 24, 25, 28, 29, 30, 2, 3, 4, 6, 9, 16, 20, 21, 28, 2, 3, 4, 5, 6, 7, 9, 10, 11, 12, 13, 15, 16, 17, 18, 20, 21, 24, 29, 30, 3, 4, 5, 6, 7, 10, 12, 15, 16, 20, 29, 1, 5, 17, 4, 6, 12, 13, 15, 22, 23, 30, 1, 2, 4, 5, 6, 9, 13, 15, 16, 20, 21, 22, 27, 3, 6, 7, 9, 13, 16, 17, 19, 24, 25, 30, 1, 6, 10, 11, 15, 21, 22, 26, 27, 1, 6, 8, 11, 12, 14, 16, 21, 5, 6, 9, 11, 12, 1, 2, 3, 5, 8, 11, 12, 15, 16, 23, 28, 30, 1, 2, 3, 4, 5, 6, 7, 9, 11, 12, 13, 17, 19, 20, 21, 22, 24, 2, 6, 7, 9, 14, 15, 17, 25, 2, 5, 8, 9, 13, 20, 10, 25, 2, 4, 9, 11, 12, 18, 25, 27, 4, 9, 2, 3, 4, 5, 6, 12, 15, 16, 17, 18, 21, 28, 29, 2, 3, 4, 5, 6, 12, 15, 16, 17, 28, 29, 5, 6, 16, 17, 19, 24, 5, 6, 16, 17, 19, 24, 1, 2, 4, 5, 6, 7, 8, 9, 12, 13, 17, 18, 20, 21, 22, 27, 7, 9, 11, 12, 20, 21, 24, 29, 2, 3, 4, 5, 6, 7, 9, 10, 11, 12, 13, 16, 19, 20, 22, 23, 24, 29, 1, 3, 4, 5, 7, 8, 9, 14, 16, 18, 21, 22, 25, 27, 29, 2, 9, 10, 12, 14, 17, 21, 25, 26, 3, 5, 9, 12, 13, 17, 23, 25, 1, 2, 3, 6, 7, 9, 13, 17, 19, 27, 1, 3, 10, 2, 7, 8, 14, 18, 22, 26, 2, 3, 4, 5, 6, 7, 8, 9, 10, 12, 13, 14, 15, 16, 18, 19, 20, 25, 26, 29, 30, 7, 9, 19, 8, 11, 13, 19, 20, 29, 1, 2, 3, 4, 5, 6, 7, 8, 9, 10, 11, 13, 14, 15, 16, 17, 18, 20, 22, 23, 25, 26, 27, 28, 30, 6, 29, 1, 2, 3, 4, 6, 7, 8, 9, 11, 12, 13, 17, 20, 22, 24, 26, 30, 3, 10, 15, 21, 22, 23, 25, 27, 1, 3, 8, 9, 15, 25, 6, 8, 9, 10, 11, 15, 29, 30, 1, 2, 3, 4, 5, 6, 7, 8, 9, 10, 11, 13, 15, 16, 17, 18, 19, 20, 21, 23, 24, 25, 27, 28, 29, 30, 1, 2, 3, 4, 7, 8, 10, 11, 13, 14, 17, 23, 24, 28, 29, 30, 1, 3, 4, 5, 6, 8, 9, 13, 14, 16, 17, 18, 20, 21, 22, 23, 26, 30, 1, 2, 3, 4, 5, 6, 8, 9, 12, 13, 14, 15, 16, 17, 18, 19, 21, 22, 23, 28, 1, 2, 3, 7, 10, 11, 13, 14, 19, 20, 29, 2, 3, 5, 13, 14, 16, 17, 20, 28, 29, 30, 5, 15, 16, 19, 20, 22, 23, 5, 12, 15, 20, 23, 25, 3, 5, 9, 11, 13, 15, 17, 21, 22, 26, 1, 6, 7, 8, 16, 25, 27, 29, 30, 1, 3, 6, 9, 14, 16, 17, 18, 29, 2, 7, 17, 19, 3, 4, 5, 6, 8, 21, 22, 27, 29, 2, 3, 4, 6, 9, 10, 11, 12, 13, 15, 16, 17, 19, 20, 21, 25, 27, 30, 4, 6, 11, 15, 16, 17, 24, 26, 1, 5, 6, 13, 16, 22, 1, 2, 3, 4, 8, 14, 16, 27, 28, 5, 6, 9, 13, 15, 30, 1, 3, 9, 14, 18, 23, 25, 2, 3, 4, 5, 6, 7, 12, 17, 28, 2, 3, 4, 5, 6, 12, 17, 28, 2, 6, 7, 12, 14, 17, 23, 2, 8, 11, 16, 18, 20, 21, 2, 3, 6, 9, 10, 25, 3, 4, 5, 6, 9, 12, 17, 25, 3, 4, 6, 9, 17, 3, 4, 6, 9, 10, 12, 25, 4, 6, 17, 19, 1, 2, 3, 4, 5, 6, 7, 8, 9, 11, 14, 15, 17, 20, 21, 22, 23, 24, 25, 27, 30, 1, 9, 10, 11, 12, 13, 22, 23, 3, 9, 11, 12, 16, 17, 22, 8, 9, 15, 16, 17, 3, 4, 6, 8, 9, 10, 16, 17, 20, 25, 1, 2, 3, 7, 8, 13, 16, 18, 19, 21, 22, 30, 1, 2, 3, 6, 8, 11, 1, 8, 11, 14, 18, 22, 23, 26, 1, 3, 5, 15, 21, 27, 28, 30, 1, 7, 10, 14, 18, 20, 21, 27, 2, 5, 8, 11, 16, 20, 22, 27, 1, 8, 9, 10, 15, 17, 20, 23, 25, 26, 30, 2, 10, 13, 16, 17, 22, 23, 25, 26, 27, 28, 1, 2, 5, 7, 8, 9, 10, 11, 12, 13, 14, 17, 19, 20, 21, 24, 25, 27, 29, 7, 10, 11, 12, 29, 6, 8, 9, 10, 15, 18, 21, 22, 3, 7, 8, 10, 13, 14, 5, 6, 8, 10, 11, 17, 19, 20, 22, 2, 5, 6, 7, 10, 16, 19, 20, 23, 24, 26, 27, 1, 4, 8, 11, 16, 20, 23, 24, 1, 2, 3, 4, 5, 6, 9, 10, 11, 13, 15, 16, 17, 19, 21, 22, 23, 26, 27, 28, 30, 2, 3, 4, 5, 6, 9, 15, 16, 17, 19, 22, 23, 28, 4, 6, 10, 13, 15, 16, 21, 23, 25, 26, 27, 3, 4, 6, 9, 11, 14, 17, 18, 20, 1, 2, 5, 8, 9, 11, 13, 14, 15, 20, 21, 26, 1, 7, 17, 19, 21, 30, 2, 3, 4, 5, 6, 7, 8, 9, 10, 11, 12, 13, 15, 17, 18, 19, 22, 24, 29, 3, 6, 9, 13, 5, 6, 7, 12, 2, 3, 4, 5, 6, 8, 9, 10, 11, 14, 15, 16, 17, 19, 21, 22, 27, 28, 1, 2, 3, 4, 5, 6, 7, 9, 10, 12, 13, 14, 15, 16, 17, 18, 19, 22, 23, 24, 26, 28, 29, 4, 5, 6, 9, 15, 16, 17, 19, 22, 23, 24, 4, 5, 6, 9, 15, 16, 17, 19, 23, 24, 4, 5, 6, 15, 16, 17, 19, 22, 23, 26, 29, 4, 5, 6, 15, 16, 17, 19, 23, 24, 1, 2, 5, 8, 10, 13, 17, 21, 29, 2, 3, 6, 7, 8, 22, 23, 26, 27, 29, 1, 2, 4, 5, 8, 9, 27, 1, 6, 8, 11, 14, 19, 22, 26, 2, 6, 7, 13, 24, 28, 2, 21, 28, 2, 6, 7, 9, 11, 17, 1, 2, 6, 9, 11, 12, 18, 22, 27, 28, 5, 8, 9, 11, 12, 13, 21, 26, 27, 1, 2, 3, 5, 7, 8, 9, 14, 18, 20, 21, 22, 27, 30, 1, 5, 7, 8, 9, 14, 15, 18, 21, 22, 26, 30, 6, 8, 10, 11, 12, 13, 14, 17, 21, 22, 23, 29, 30, 1, 9, 10, 15, 16, 19, 25, 1, 2, 3, 4, 5, 6, 7, 8, 9, 10, 11, 12, 13, 14, 16, 17, 18, 19, 20, 21, 22, 23, 24, 25, 26, 27, 2, 3, 4, 9, 13, 17, 2, 3, 4, 5, 6, 8, 9, 12, 13, 15, 17, 20, 21, 28, 29, 30, 2, 3, 4, 6, 16, 19, 2, 3, 5, 6, 7, 8, 13, 15, 19, 2, 3, 5, 6, 13, 19, 2, 7, 18, 3, 4, 9, 15, 17, 22, 30, 1, 8, 15, 20, 21, 22, 25, 3, 8, 9, 17, 18, 23, 29, 2, 4, 6, 8, 9, 11, 16, 19, 20, 21, 24, 27, 30, 1, 2, 9, 11, 15, 20, 23, 2, 6, 7, 8, 9, 11, 15, 16, 17, 20, 23, 26, 27, 29, 1, 2, 5, 6, 7, 9, 10, 12, 15, 17, 21, 29, 2, 3, 6, 9, 5, 6, 9, 1, 4, 9, 13, 19, 20, 22, 24, 25, 1, 3, 5, 6, 7, 8, 9, 10, 11, 14, 18, 22, 24, 26, 27, 30, 1, 2, 3, 4, 5, 6, 7, 8, 9, 11, 12, 13, 14, 15, 16, 18, 19, 20, 22, 23, 24, 27, 28, 1, 3, 4, 15, 21, 22, 23, 29, 3, 4, 5, 6, 7, 9, 10, 12, 13, 16, 17, 20, 21, 27, 29, 30, 2, 3, 8, 9, 11, 13, 15, 17, 2, 3, 4, 7, 1, 2, 4, 5, 6, 8, 10, 11, 12, 14, 17, 18, 20, 21, 22, 23, 24, 28, 29, 30, 1, 4, 8, 9, 10, 14, 18, 19, 20, 22, 24, 29, 2, 8, 9, 24, 27, 3, 6, 7, 11, 12, 13, 16, 20, 23, 1, 2, 3, 4, 5, 6, 7, 8, 9, 10, 11, 15, 16, 17, 19, 20, 21, 22, 24, 26, 29, 1, 2, 3, 5, 6, 8, 9, 11, 15, 16, 20, 22, 29, 1, 2, 3, 4, 5, 6, 9, 12, 14, 16, 17, 18, 19, 21, 22, 23, 24, 25, 29, 2, 4, 7, 8, 12, 13, 15, 17, 18, 19, 20, 22, 24, 30, 1, 2, 3, 4, 5, 6, 8, 9, 11, 12, 13, 15, 16, 17, 18, 19, 20, 21, 22, 27, 29, 30, 3, 4, 14, 17, 22, 28, 3, 4, 17, 28, 4, 8, 9, 10, 12, 17, 19, 22, 26, 28, 1, 6, 7, 8, 9, 11, 12, 13, 15, 16, 17, 18, 21, 22, 24, 26, 27, 30, 1, 2, 3, 4, 5, 6, 7, 8, 9, 10, 11, 12, 13, 16, 17, 19, 20, 21, 22, 23, 24, 25, 26, 27, 28, 29, 30, 2, 3, 4, 7, 13, 20, 21, 3, 5, 6, 9, 17, 19, 20, 23, 3, 5, 6, 17, 19, 20, 1, 2, 3, 4, 8, 9, 13, 25, 26, 27, 1, 2, 3, 4, 5, 6, 7, 8, 9, 11, 13, 15, 17, 18, 20, 21, 22, 23, 25, 26, 27, 28, 30, 5, 9, 12, 17, 22, 25, 6, 11, 12, 13, 16, 17, 27, 2, 3, 4, 5, 6, 7, 9, 16, 17, 19, 22, 25, 28, 2, 3, 5, 10, 27, 28, 1, 6, 8, 9, 10, 11, 14, 15, 16, 20, 21, 23, 24, 2, 3, 4, 7, 9, 10, 13, 16, 19, 21, 22, 24, 29, 1, 2, 6, 10, 11, 15, 27, 1, 2, 3, 4, 5, 6, 7, 9, 10, 11, 12, 15, 16, 17, 19, 20, 21, 22, 23, 24, 4, 5, 7, 11, 15, 16, 17, 19, 20, 22, 23, 1, 2, 7, 8, 9, 10, 11, 12, 19, 21, 22, 26, 27, 1, 3, 6, 8, 16, 17, 20, 28, 2, 3, 5, 6, 17, 19, 20, 26, 28, 2, 8, 9, 10, 14, 15, 18, 20, 29, 1, 10, 24, 1, 5, 10, 11, 12, 17, 23, 29, 1, 2, 3, 5, 7, 8, 9, 10, 11, 15, 18, 20, 21, 23, 26, 27, 30, 1, 2, 3, 6, 8, 9, 10, 13, 15, 16, 17, 20, 22, 26, 1, 5, 7, 10, 12, 14, 15, 16, 18, 21, 25, 27, 3, 5, 9, 11, 12, 13, 15, 18, 20, 25, 26, 2, 3, 6, 8, 9, 12, 15, 27, 1, 2, 3, 4, 5, 6, 8, 9, 10, 12, 13, 15, 16, 17, 20, 25, 29, 30, 2, 6, 9, 13, 16, 21, 4, 8, 9, 10, 14, 18, 22, 23, 1, 2, 4, 6, 12, 1, 2, 3, 4, 5, 6, 8, 9, 10, 11, 12, 13, 17, 20, 21, 22, 25, 27, 28, 30, 2, 3, 4, 5, 6, 9, 12, 17, 18, 22, 2, 3, 4, 5, 6, 9, 12, 17, 22, 1, 5, 6, 9, 21, 22, 26, 29, 30, 2, 3, 4, 5, 6, 7, 8, 9, 10, 11, 12, 13, 14, 17, 18, 19, 20, 21, 24, 26, 28, 29, 30, 3, 4, 7, 8, 9, 11, 23, 27, 28, 3, 6, 8, 11, 15, 16, 23, 24, 25, 3, 4, 5, 6, 8, 15, 17, 20, 22, 28, 1, 2, 3, 4, 5, 6, 7, 8, 9, 10, 12, 13, 14, 16, 17, 19, 20, 21, 23, 24, 26, 27, 30, 2, 3, 4, 5, 6, 7, 12, 20, 28, 2, 3, 4, 5, 6, 12, 20, 28, 1, 2, 3, 7, 8, 10, 11, 12, 13, 14, 15, 18, 20, 21, 23, 24, 25, 29, 2, 3, 4, 6, 12, 13, 20, 21, 23, 30, 2, 3, 4, 6, 12, 13, 16, 20, 21, 23, 30, 3, 5, 6, 9, 15, 17, 19, 20, 27, 1, 2, 6, 8, 9, 20, 22, 25, 27, 2, 4, 6, 7, 10, 18, 22, 26, 27, 1, 2, 3, 4, 5, 6, 7, 8, 9, 10, 11, 13, 14, 15, 16, 17, 18, 19, 20, 21, 22, 24, 25, 26, 27, 29, 2, 8, 11, 14, 17, 18, 20, 21, 22, 29, 2, 3, 5, 6, 7, 17, 23, 25, 28, 29, 2, 3, 4, 5, 6, 7, 8, 10, 11, 17, 19, 22, 29, 1, 2, 4, 6, 7, 8, 10, 12, 13, 14, 16, 18, 20, 21, 26, 30, 1, 4, 6, 9, 13, 17, 18, 23, 30, 5, 6, 7, 17, 18, 19, 21, 5, 6, 7, 8, 9, 13, 14, 18, 19, 21, 22, 23, 24, 1, 3, 5, 7, 8, 10, 11, 12, 13, 16, 17, 19, 20, 21, 1, 2, 3, 4, 5, 6, 7, 8, 9, 11, 12, 13, 14, 15, 16, 18, 20, 21, 22, 24, 27, 28, 29, 2, 3, 12, 28, 1, 5, 10, 11, 12, 14, 15, 16, 17, 18, 20, 21, 30, 6, 8, 10, 14, 15, 16, 18, 22, 2, 3, 4, 8, 9, 10, 11, 12, 14, 16, 17, 18, 21, 22, 24, 25, 26, 27, 29, 2, 9, 15, 17, 23, 1, 5, 9, 14, 15, 23, 27, 29, 2, 3, 4, 5, 6, 7, 8, 12, 13, 15, 16, 17, 19, 20, 21, 24, 26, 28, 29, 2, 3, 4, 5, 6, 7, 10, 11, 12, 13, 14, 20, 22, 24, 29, 30, 2, 6, 7, 12, 13, 14, 19, 1, 2, 3, 5, 6, 7, 8, 9, 11, 12, 13, 14, 15, 18, 21, 22, 26, 29, 30, 1, 2, 3, 7, 11, 14, 17, 18, 19, 21, 25, 2, 5, 8, 9, 11, 14, 19, 20, 29, 30, 2, 5, 9, 11, 14, 19, 20, 29, 30, 1, 2, 3, 4, 5, 7, 8, 9, 12, 13, 17, 18, 19, 21, 22, 23, 26, 27, 28, 29, 2, 3, 4, 5, 17, 19, 28, 1, 2, 3, 4, 5, 6, 7, 8, 9, 10, 11, 12, 13, 14, 15, 16, 17, 18, 19, 21, 22, 23, 24, 25, 26, 27, 29, 30, 1, 3, 4, 5, 6, 9, 10, 12, 2, 3, 4, 5, 8, 9, 13, 17, 28, 29, 30, 2, 3, 4, 5, 6, 8, 9, 13, 17, 18, 21, 28, 2, 3, 4, 5, 6, 8, 12, 13, 14, 17, 20, 21, 24, 27, 28, 29, 30, 1, 2, 3, 4, 5, 7, 8, 9, 11, 12, 16, 17, 19, 21, 22, 23, 25, 26, 29, 30, 1, 3, 6, 11, 13, 14, 17, 20, 22, 23, 24, 27, 30, 1, 8, 9, 10, 13, 15, 21, 22, 23, 27, 4, 6, 16, 19, 21, 24, 4, 5, 6, 15, 16, 17, 19, 23, 24, 2, 3, 4, 5, 6, 9, 15, 16, 17, 19, 23, 24, 26, 28, 4, 5, 6, 15, 16, 17, 19, 23, 24, 1, 2, 3, 4, 5, 6, 7, 9, 12, 15, 16, 17, 19, 22, 23, 24, 4, 5, 6, 15, 17, 23, 6, 12, 22, 26, 1, 2, 3, 5, 6, 8, 9, 12, 13, 15, 20, 22, 27, 1, 2, 7, 14, 18, 23, 26, 30, 1, 2, 3, 4, 5, 6, 7, 8, 9, 10, 11, 13, 14, 15, 16, 17, 19, 20, 21, 22, 23, 24, 29, 2, 5, 8, 9, 11, 13, 16, 23, 26, 1, 2, 3, 4, 6, 7, 19, 30, 1, 3, 4, 5, 6, 7, 8, 10, 14, 17, 18, 20, 23, 26, 29, 2, 3, 4, 5, 6, 9, 12, 17, 22, 2, 3, 6, 7, 15, 17, 21, 22, 23, 24, 3, 4, 6, 9, 13, 2, 3, 4, 9, 1, 5, 6, 8, 10, 14, 18, 21, 30, 1, 2, 3, 4, 5, 6, 7, 8, 9, 10, 11, 12, 13, 14, 15, 16, 17, 19, 20, 21, 22, 23, 24, 25, 27, 28, 29, 5, 7, 9, 10, 15, 19, 21, 22, 25, 27, 28, 1, 3, 5, 8, 9, 12, 17, 21, 25, 26, 29, 1, 8, 9, 17, 22, 23, 25, 27, 1, 2, 6, 7, 9, 11, 14, 15, 17, 18, 20, 21, 24, 26, 29, 30, 1, 5, 8, 9, 15, 25, 27, 1, 3, 4, 7, 8, 14, 18, 19, 24, 25, 3, 7, 9, 11, 13, 18, 19, 21, 30, 1, 2, 3, 5, 6, 7, 8, 9, 10, 13, 14, 16, 20, 23, 24, 26, 28, 29, 30, 2, 3, 6, 7, 8, 9, 10, 11, 13, 17, 20, 21, 22, 25, 27, 29, 1, 7, 9, 10, 17, 20, 21, 22, 30, 1, 2, 3, 4, 5, 6, 7, 8, 9, 10, 11, 13, 14, 15, 16, 18, 20, 22, 23, 28, 29, 1, 11, 13, 17, 19, 20, 22, 27, 29, 2, 3, 5, 6, 8, 9, 10, 11, 12, 14, 16, 18, 19, 25, 26, 28, 29, 30, 1, 2, 3, 4, 6, 8, 9, 11, 13, 14, 16, 21, 22, 24, 25, 26, 27, 1, 5, 8, 10, 14, 20, 21, 22, 23, 25, 1, 2, 3, 4, 5, 6, 7, 8, 9, 10, 11, 12, 13, 14, 15, 16, 17, 19, 20, 21, 22, 23, 24, 25, 27, 4, 11, 14, 16, 18, 20, 21, 25, 1, 3, 4, 6, 9, 11, 14, 18, 20, 25, 30, 1, 6, 9, 11, 13, 14, 17, 18, 20, 23, 30, 1, 4, 14, 18, 21, 29, 1, 8, 9, 13, 14, 20, 23, 24, 30, 1, 3, 7, 8, 9, 11, 12, 14, 22, 23, 29, 4, 5, 6, 9, 13, 16, 20, 26, 29, 1, 2, 3, 6, 9, 11, 13, 14, 15, 16, 18, 23, 25, 29, 4, 10, 11, 14, 15, 21, 23, 28, 30, 2, 3, 5, 6, 8, 9, 12, 20, 22, 28, 30, 1, 3, 7, 8, 9, 13, 14, 1, 2, 7, 8, 10, 21, 1, 2, 3, 5, 7, 8, 11, 13, 14, 16, 17, 18, 24, 26, 29, 2, 7, 10, 14, 17, 18, 19, 29, 2, 3, 5, 6, 9, 11, 13, 15, 17, 20, 21, 22, 1, 2, 3, 4, 5, 6, 7, 8, 9, 10, 11, 14, 15, 16, 18, 20, 21, 22, 23, 25, 27, 28, 5, 6, 8, 9, 11, 13, 15, 16, 19, 20, 23, 24, 27, 4, 5, 11, 15, 16, 19, 20, 23, 24, 1, 3, 5, 8, 14, 15, 18, 21, 29, 2, 3, 4, 5, 6, 9, 12, 17, 24, 2, 3, 4, 5, 6, 9, 12, 16, 17, 1, 2, 3, 4, 5, 6, 7, 8, 9, 10, 11, 14, 15, 18, 20, 21, 23, 24, 2, 3, 9, 18, 23, 2, 3, 4, 6, 7, 9, 11, 12, 13, 14, 15, 16, 22, 24, 25, 29, 6, 10, 11, 14, 18, 19, 22, 23, 25, 26, 27, 1, 2, 3, 4, 5, 7, 8, 9, 10, 11, 12, 13, 14, 15, 16, 19, 20, 21, 22, 25, 26, 27, 30, 1, 3, 5, 7, 8, 9, 10, 11, 13, 14, 16, 17, 19, 20, 21, 23, 26, 29, 30, 1, 2, 3, 5, 6, 7, 11, 12, 19, 21, 23, 27, 29, 2, 3, 4, 5, 6, 8, 9, 10, 11, 12, 13, 15, 16, 17, 19, 21, 22, 23, 24, 28, 1, 6, 7, 11, 14, 16, 18, 20, 25, 1, 11, 14, 15, 20, 1, 5, 14, 18, 21, 23, 1, 2, 4, 8, 9, 14, 15, 23, 27, 1, 2, 3, 4, 5, 7, 8, 9, 10, 11, 12, 13, 14, 15, 17, 18, 20, 22, 23, 26, 27, 28, 29, 1, 6, 8, 9, 15, 16, 20, 22, 1, 3, 4, 5, 7, 8, 11, 13, 14, 15, 18, 21, 22, 23, 25, 2, 3, 4, 5, 6, 7, 8, 9, 11, 13, 18, 19, 20, 22, 25, 27, 2, 3, 4, 5, 6, 7, 8, 9, 10, 11, 12, 14, 16, 17, 18, 19, 20, 21, 24, 28, 29, 30, 3, 5, 6, 13, 17, 19, 1, 5, 6, 8, 9, 11, 12, 14, 15, 16, 18, 21, 23, 25, 27, 29, 1, 2, 3, 5, 6, 9, 10, 11, 12, 13, 15, 16, 17, 18, 20, 21, 22, 23, 29, 2, 3, 4, 8, 9, 10, 14, 22, 23, 28, 1, 6, 9, 11, 13, 14, 23, 1, 8, 10, 11, 14, 16, 17, 1, 4, 7, 8, 9, 10, 11, 18, 20, 21, 23, 24, 29, 2, 7, 22, 26, 1, 3, 9, 11, 14, 17, 28, 30, 1, 2, 3, 4, 5, 9, 10, 12, 13, 14, 17, 22, 23, 25, 26, 27, 29, 2, 3, 4, 5, 6, 8, 9, 10, 11, 13, 15, 16, 17, 19, 20, 21, 24, 25, 26, 27, 28, 30, 2, 6, 12, 17, 23, 25, 3, 4, 7, 9, 20, 22, 30, 1, 2, 7, 8, 10, 11, 12, 13, 14, 18, 20, 21, 22, 23, 25, 26, 27, 29, 30, 1, 8, 10, 14, 18, 21, 23, 26, 27, 1, 5, 7, 8, 9, 12, 15, 20, 2, 6, 8, 11, 21, 25, 1, 4, 6, 10, 13, 19, 21, 1, 2, 3, 5, 6, 8, 9, 10, 11, 13, 15, 16, 17, 19, 20, 21, 22, 23, 24, 27, 1, 2, 3, 4, 5, 6, 9, 11, 13, 15, 16, 17, 19, 20, 25, 30, 1, 2, 3, 4, 5, 7, 8, 10, 11, 12, 14, 16, 17, 18, 20, 21, 22, 23, 25, 26, 27, 29, 1, 8, 9, 13, 26, 2, 9, 11, 21, 23, 26, 28, 1, 8, 9, 11, 17, 19, 21, 30, 2, 3, 4, 5, 6, 9, 11, 13, 15, 16, 17, 19, 20, 23, 24, 27, 29, 30, 2, 3, 4, 5, 9, 11, 13, 15, 17, 19, 20, 23, 1, 5, 7, 8, 9, 10, 12, 14, 15, 16, 17, 19, 20, 21, 25, 29, 1, 7, 8, 9, 16, 17, 18, 19, 22, 26, 27, 30, 2, 3, 4, 17, 24, 28, 2, 3, 4, 17, 24, 1, 2, 3, 6, 8, 11, 12, 20, 22, 28, 1, 2, 3, 4, 5, 6, 7, 8, 9, 13, 15, 20, 21, 22, 26, 1, 5, 7, 8, 9, 22, 7, 9, 13, 16, 28, 1, 4, 5, 9, 10, 13, 15, 17, 19, 20, 24, 25, 1, 2, 3, 4, 5, 6, 7, 8, 9, 10, 12, 13, 14, 15, 17, 18, 19, 20, 21, 25, 27, 28, 29, 30, 1, 4, 8, 23, 1, 2, 3, 8, 9, 11, 18, 19, 24, 1, 2, 3, 4, 5, 6, 7, 8, 9, 10, 11, 12, 15, 17, 18, 19, 20, 21, 22, 23, 24, 25, 27, 28, 2, 3, 4, 6, 8, 9, 14, 30, 1, 3, 4, 5, 6, 9, 10, 13, 16, 17, 18, 20, 30, 1, 2, 4, 5, 6, 7, 8, 9, 10, 12, 16, 21, 22, 23, 27, 28, 29, 2, 3, 4, 5, 6, 8, 9, 10, 14, 18, 19, 21, 22, 25, 27, 1, 2, 3, 4, 5, 6, 7, 8, 9, 11, 12, 13, 14, 15, 16, 17, 18, 20, 21, 22, 23, 24, 25, 27, 28, 30, 2, 3, 8, 17, 20, 21, 28, 1, 4, 8, 12, 14, 15, 18, 19, 20, 21, 22, 26, 30, 2, 4, 6, 8, 15, 18, 22, 23, 28, 6, 7, 8, 10, 11, 12, 15, 17, 18, 19, 21, 22, 27, 2, 4, 5, 7, 8, 13, 15, 16, 21, 1, 3, 10, 13, 15, 20, 24, 26, 29, 2, 6, 7, 9, 10, 16, 17, 2, 6, 7, 16, 18, 21, 2, 3, 4, 6, 12, 21, 23, 28, 1, 2, 3, 4, 5, 6, 8, 9, 10, 11, 13, 15, 16, 17, 19, 20, 21, 22, 23, 24, 25, 27, 30, 2, 3, 4, 6, 9, 10, 11, 13, 14, 15, 20, 21, 28, 29, 2, 3, 6, 13, 15, 20, 29, 1, 2, 3, 4, 5, 6, 7, 8, 9, 10, 11, 12, 13, 14, 15, 16, 17, 18, 19, 20, 21, 22, 23, 24, 30, 1, 2, 3, 4, 5, 6, 7, 8, 9, 11, 12, 13, 14, 15, 16, 17, 18, 20, 21, 23, 1, 2, 3, 4, 5, 6, 8, 9, 10, 12, 13, 16, 17, 18, 20, 21, 22, 23, 24, 26, 29, 1, 5, 6, 8, 12, 15, 18, 27, 5, 8, 15, 17, 20, 21, 23, 27, 1, 8, 12, 15, 16, 17, 19, 20, 23, 27, 2, 3, 4, 5, 6, 8, 9, 10, 11, 13, 17, 20, 21, 22, 24, 28, 29, 30, 2, 3, 4, 17, 24, 28, 2, 3, 4, 17, 20, 28, 1, 2, 4, 5, 6, 7, 9, 10, 11, 12, 13, 15, 20, 21, 22, 25, 27, 28, 1, 2, 3, 4, 6, 8, 9, 10, 12, 13, 14, 16, 17, 18, 21, 22, 25, 26, 27, 28, 2, 3, 4, 6, 24, 29, 3, 4, 5, 6, 9, 10, 12, 13, 16, 17, 20, 21, 27, 1, 2, 3, 4, 5, 6, 9, 10, 11, 12, 13, 15, 16, 20, 22, 23, 27, 28, 30, 2, 4, 5, 6, 9, 10, 12, 16, 17, 25, 2, 3, 4, 5, 6, 11, 12, 13, 16, 17, 19, 20, 26, 29, 3, 4, 5, 6, 7, 9, 10, 11, 12, 13, 15, 21, 24, 28, 29, 5, 8, 11, 13, 14, 15, 16, 20, 21, 23, 26, 27, 30, 1, 2, 3, 4, 5, 6, 7, 8, 9, 11, 12, 13, 14, 15, 16, 17, 18, 20, 21, 22, 25, 26, 27, 1, 6, 8, 9, 11, 13, 14, 15, 18, 19, 20, 23, 26, 1, 7, 8, 17, 19, 30, 2, 3, 7, 18, 28, 30, 2, 6, 7, 13, 15, 19, 20, 23, 30, 1, 2, 3, 4, 5, 6, 7, 8, 9, 10, 11, 12, 13, 14, 15, 16, 18, 20, 21, 22, 26, 27, 29, 30, 2, 3, 5, 11, 21, 22, 1, 2, 3, 4, 5, 6, 8, 9, 10, 11, 12, 13, 14, 15, 16, 17, 18, 19, 21, 23, 24, 25, 27, 29, 30, 1, 2, 3, 4, 5, 6, 7, 8, 9, 10, 11, 12, 13, 14, 15, 16, 17, 18, 20, 21, 22, 23, 24, 25, 27, 30, 2, 3, 4, 5, 6, 7, 9, 12, 13, 15, 16, 17, 19, 20, 21, 22, 24, 25, 28, 1, 2, 3, 4, 5, 6, 8, 9, 10, 11, 12, 13, 14, 15, 16, 17, 19, 20, 21, 22, 23, 24, 25, 26, 27, 28, 29, 1, 2, 8, 9, 10, 20, 23, 24, 27, 2, 3, 4, 10, 15, 22, 2, 3, 4, 6, 13, 18, 21, 26, 28, 2, 3, 6, 7, 9, 12, 16, 17, 19, 20, 23, 24, 25, 27, 2, 8, 10, 11, 12, 15, 16, 24, 27, 1, 8, 12, 14, 16, 21, 24, 27, 29, 2, 5, 6, 8, 9, 11, 13, 30, 1, 2, 3, 4, 6, 8, 9, 10, 14, 15, 18, 21, 22, 23, 24, 25, 26, 28, 1, 2, 3, 4, 6, 8, 9, 10, 14, 15, 18, 21, 24, 25, 26, 28, 1, 2, 8, 9, 11, 13, 18, 23, 29, 1, 3, 6, 9, 11, 12, 23, 2, 3, 4, 5, 6, 8, 9, 12, 13, 17, 24, 29, 2, 3, 4, 6, 7, 12, 13, 14, 17, 18, 20, 28, 29, 30, 5, 8, 9, 11, 15, 20, 27, 10, 11, 12, 14, 24, 30, 1, 2, 3, 5, 7, 8, 14, 15, 18, 19, 20, 22, 24, 26, 27, 29, 30, 2, 3, 5, 7, 8, 14, 15, 19, 20, 22, 24, 26, 29, 30, 1, 5, 6, 9, 11, 20, 22, 26, 3, 5, 6, 11, 16, 20, 23, 26, 4, 6, 7, 9, 13, 20, 21, 22, 2, 4, 6, 12, 17, 20, 22, 1, 4, 5, 6, 8, 9, 10, 11, 21, 27, 29, 1, 2, 4, 6, 8, 9, 10, 11, 13, 16, 22, 29, 1, 4, 6, 9, 13, 16, 20, 26, 27, 2, 3, 4, 5, 6, 9, 10, 11, 13, 15, 16, 17, 19, 20, 22, 23, 24, 28, 29, 1, 3, 4, 5, 6, 8, 9, 10, 11, 12, 16, 17, 18, 19, 20, 21, 24, 29, 30, 2, 3, 4, 6, 8, 9, 12, 14, 17, 21, 29, 2, 3, 7, 9, 13, 17, 21, 23, 1, 6, 8, 9, 11, 18, 19, 25, 27, 28, 6, 9, 15, 16, 18, 21, 25, 26, 2, 7, 10, 12, 21, 3, 6, 8, 9, 11, 12, 13, 20, 23, 25, 26, 30, 1, 4, 5, 9, 11, 21, 25, 5, 6, 13, 16, 20, 22, 29, 2, 4, 5, 6, 7, 8, 11, 12, 13, 17, 18, 19, 20, 22, 23, 24, 27, 28, 29, 2, 7, 9, 14, 18, 1, 2, 4, 5, 6, 7, 8, 9, 11, 12, 13, 14, 15, 16, 17, 20, 21, 25, 26, 2, 3, 4, 7, 9, 10, 11, 1, 4, 9, 15, 16, 18, 20, 23, 25, 27, 6, 9, 13, 15, 16, 17, 25, 1, 8, 9, 11, 12, 18, 22, 26, 27, 29, 6, 7, 10, 16, 18, 30, 1, 3, 5, 9, 15, 20, 22, 25, 4, 6, 8, 11, 13, 15, 16, 17, 19, 20, 25, 30, 8, 11, 13, 15, 16, 19, 25, 30, 2, 3, 9, 11, 12, 17, 18, 24, 25, 26, 27, 1, 8, 11, 13, 14, 18, 22, 1, 2, 10, 15, 16, 17, 20, 21, 22, 23, 24, 30, 1, 3, 5, 8, 11, 12, 17, 27, 1, 2, 3, 9, 10, 19, 23, 27, 30, 1, 8, 9, 20, 29, 2, 6, 7, 9, 18, 19, 25, 27, 1, 4, 7, 9, 10, 12, 14, 15, 18, 1, 5, 8, 9, 12, 16, 17, 1, 2, 3, 4, 5, 6, 9, 11, 13, 15, 16, 17, 19, 20, 23, 25, 30, 1, 2, 3, 4, 5, 6, 9, 11, 13, 15, 16, 17, 19, 20, 22, 25, 30, 5, 6, 16, 17, 19, 22, 24, 29, 2, 4, 5, 14, 17, 20, 22, 23, 24, 26, 1, 12, 17, 18, 1, 2, 5, 15, 16, 21, 23, 24, 1, 5, 6, 12, 14, 16, 18, 23, 1, 2, 3, 6, 20, 21, 2, 3, 9, 10, 11, 16, 21, 22, 26, 1, 2, 5, 6, 7, 8, 10, 11, 12, 13, 14, 19, 20, 24, 26, 1, 14, 18, 8, 9, 10, 13, 14, 23, 27, 1, 2, 3, 5, 8, 9, 11, 13, 15, 20, 22, 25, 30, 1, 2, 3, 5, 9, 14, 21, 22, 29, 2, 3, 4, 5, 6, 9, 12, 20, 28, 1, 2, 3, 4, 5, 6, 7, 8, 9, 10, 11, 14, 15, 17, 19, 20, 21, 23, 25, 27, 29, 2, 3, 6, 7, 9, 11, 17, 20, 25, 29, 1, 4, 5, 6, 7, 8, 10, 11, 13, 14, 15, 16, 17, 18, 19, 21, 22, 23, 26, 27, 28, 30, 4, 5, 6, 10, 11, 13, 14, 15, 16, 17, 19, 22, 23, 26, 28, 30, 3, 4, 5, 6, 9, 17, 20, 29, 4, 6, 1, 8, 9, 10, 13, 14, 16, 18, 21, 26, 29, 2, 3, 4, 5, 6, 8, 9, 12, 19, 20, 21, 24, 27, 29, 2, 3, 4, 5, 6, 7, 12, 28, 2, 3, 4, 5, 6, 8, 9, 10, 13, 15, 16, 17, 19, 20, 21, 23, 24, 26, 28, 29, 1, 4, 6, 7, 8, 9, 11, 30, 1, 7, 8, 10, 13, 14, 18, 20, 21, 29, 3, 4, 5, 7, 8, 11, 12, 14, 18, 19, 22, 25, 1, 3, 5, 8, 18, 20, 21, 24, 25, 26, 29, 1, 3, 5, 8, 18, 20, 21, 24, 25, 26, 29, 1, 4, 5, 18, 19, 21, 22, 23, 25, 27, 1, 8, 9, 19, 24, 30, 1, 4, 8, 9, 20, 25, 30, 3, 6, 7, 8, 11, 15, 16, 17, 18, 20, 22, 26, 27, 1, 3, 4, 5, 9, 13, 17, 20, 21, 1, 7, 11, 12, 13, 16, 20, 30, 1, 4, 12, 13, 17, 20, 21, 24, 2, 3, 7, 11, 24, 26, 8, 9, 10, 13, 18, 21, 25, 29, 1, 5, 8, 11, 14, 16, 18, 20, 25, 29, 3, 5, 14, 16, 17, 18, 23, 1, 5, 6, 8, 10, 14, 18, 20, 22, 23, 25, 26, 28, 2, 3, 5, 8, 11, 14, 2, 3, 13, 15, 17, 18, 21, 1, 4, 6, 16, 1, 2, 3, 5, 6, 8, 9, 10, 12, 14, 17, 18, 20, 21, 22, 23, 25, 26, 27, 1, 2, 5, 6, 7, 12, 13, 15, 17, 18, 20, 21, 23, 24, 25, 26, 29, 30, 2, 3, 4, 5, 6, 9, 13, 17, 19, 20, 23, 1, 7, 8, 12, 15, 16, 25, 27, 1, 3, 5, 7, 8, 13, 14, 18, 25, 26, 27, 29, 1, 7, 8, 14, 17, 23, 26, 27, 1, 2, 5, 11, 14, 20, 2, 5, 6, 7, 10, 12, 13, 14, 16, 18, 29, 2, 7, 12, 1, 3, 4, 5, 6, 7, 8, 9, 12, 15, 16, 17, 19, 20, 21, 22, 24, 25, 3, 6, 11, 13, 15, 20, 23, 28, 2, 5, 6, 8, 11, 13, 20, 21, 22, 28, 30, 1, 2, 3, 4, 5, 6, 7, 8, 10, 11, 12, 14, 15, 17, 18, 19, 20, 21, 23, 25, 29, 30, 3, 5, 6, 8, 9, 12, 13, 15, 16, 17, 21, 2, 3, 4, 6, 9, 10, 13, 17, 20, 24, 26, 28, 2, 3, 13, 17, 24, 2, 3, 4, 11, 12, 13, 17, 19, 21, 28, 30, 2, 4, 12, 13, 17, 30, 1, 2, 12, 22, 25, 1, 2, 3, 8, 9, 11, 13, 15, 17, 18, 21, 22, 23, 25, 26, 27, 29, 2, 3, 4, 5, 6, 8, 10, 11, 12, 13, 14, 16, 17, 18, 19, 20, 22, 24, 25, 27, 28, 29, 30, 2, 3, 9, 14, 21, 23, 26, 3, 8, 9, 18, 22, 25, 1, 2, 3, 4, 6, 8, 9, 18, 20, 21, 23, 2, 3, 5, 6, 7, 12, 13, 18, 19, 20, 25, 29, 2, 8, 9, 11, 13, 15, 18, 20, 23, 25, 27, 1, 2, 8, 9, 11, 15, 16, 20, 21, 23, 24, 27, 2, 3, 6, 14, 18, 2, 3, 4, 5, 6, 8, 9, 10, 11, 15, 23, 24, 25, 27, 29, 3, 4, 6, 8, 11, 21, 22, 25, 27, 29, 1, 6, 7, 18, 2, 3, 4, 5, 7, 12, 21, 22, 2, 4, 5, 6, 9, 10, 12, 16, 17, 20, 25, 1, 2, 3, 5, 6, 7, 8, 9, 11, 12, 15, 16, 17, 21, 22, 25, 28, 29, 30, 1, 2, 4, 10, 14, 18, 19, 22, 1, 8, 9, 11, 15, 1, 2, 4, 5, 8, 9, 11, 13, 15, 17, 22, 27, 1, 10, 12, 14, 18, 22, 23, 1, 2, 3, 7, 10, 14, 1, 2, 3, 4, 5, 6, 7, 11, 13, 16, 17, 19, 20, 25, 30, 1, 2, 4, 5, 11, 13, 16, 17, 19, 20, 25, 30, 2, 3, 4, 7, 12, 15, 21, 23, 1, 10, 16, 19, 5, 8, 12, 15, 21, 1, 3, 5, 6, 19, 23, 26, 30, 2, 5, 8, 10, 16, 17, 20, 23, 27, 30, 1, 2, 7, 8, 10, 22, 4, 6, 8, 9, 13, 18, 20, 21, 26, 28, 29, 30, 2, 5, 15, 16, 23, 27, 3, 5, 21, 1, 2, 5, 12, 13, 18, 26, 27, 30, 1, 8, 17, 21, 23, 26, 3, 4, 5, 6, 8, 10, 12, 13, 20, 27, 1, 3, 4, 8, 9, 20, 23, 26, 29, 1, 2, 8, 9, 14, 18, 20, 1, 2, 3, 4, 5, 6, 8, 9, 11, 13, 15, 16, 17, 18, 19, 20, 21, 22, 23, 25, 27, 29, 30, 2, 7, 12, 1, 2, 3, 5, 7, 12, 14, 28, 29, 30, 1, 4, 5, 8, 22, 23, 30, 1, 2, 4, 6, 9, 12, 15, 16, 20, 21, 22, 25, 26, 1, 2, 3, 4, 5, 6, 7, 8, 9, 10, 11, 13, 15, 17, 19, 20, 21, 22, 26, 27, 28, 29, 30, 2, 3, 4, 5, 6, 9, 10, 11, 13, 15, 17, 19, 20, 21, 22, 26, 28, 29, 30, 2, 3, 6, 9, 11, 15, 20, 22, 16, 24, 26, 3, 5, 6, 12, 16, 17, 19, 24, 29, 3, 8, 11, 13, 15, 20, 24, 2, 6, 11, 12, 16, 24, 27, 1, 2, 3, 4, 5, 7, 8, 10, 11, 13, 14, 17, 18, 19, 20, 21, 22, 23, 24, 25, 27, 5, 7, 8, 11, 13, 14, 17, 18, 20, 21, 22, 24, 25, 26, 1, 2, 3, 4, 5, 6, 7, 8, 9, 10, 11, 12, 13, 14, 15, 18, 22, 23, 29, 4, 6, 8, 10, 16, 18, 27, 28, 3, 6, 8, 11, 15, 20, 22, 23, 3, 6, 9, 15, 20, 23, 29, 2, 3, 4, 5, 6, 7, 8, 11, 13, 27, 2, 3, 5, 6, 7, 8, 9, 10, 11, 12, 16, 23, 26, 27, 30, 1, 7, 8, 14, 18, 21, 23, 1, 2, 3, 4, 5, 6, 7, 8, 9, 10, 11, 12, 13, 14, 15, 16, 19, 21, 22, 23, 25, 26, 28, 29, 2, 3, 5, 12, 17, 22, 1, 3, 4, 7, 9, 10, 14, 21, 1, 8, 11, 12, 16, 20, 30, 10, 1, 2, 3, 4, 5, 6, 7, 8, 9, 10, 11, 12, 15, 16, 17, 19, 20, 21, 22, 23, 24, 28, 29, 30, 1, 8, 9, 11, 12, 13, 14, 15, 19, 20, 21, 23, 25, 26, 27, 29, 1, 4, 8, 9, 12, 14, 15, 21, 23, 25, 29, 2, 5, 6, 7, 12, 15, 16, 23, 1, 2, 3, 4, 5, 6, 7, 8, 9, 10, 11, 12, 13, 15, 16, 17, 18, 19, 20, 21, 22, 25, 26, 27, 29, 30, 2, 7, 8, 9, 26, 28, 2, 7, 9, 28, 2, 3, 4, 5, 6, 9, 10, 13, 15, 16, 17, 19, 20, 23, 24, 2, 3, 6, 7, 15, 17, 21, 22, 23, 24, 1, 3, 6, 8, 9, 11, 14, 15, 17, 20, 22, 1, 2, 3, 4, 6, 8, 11, 18, 20, 29, 1, 7, 10, 21, 26, 2, 8, 11, 14, 18, 21, 27, 1, 2, 3, 4, 5, 9, 14, 23, 4, 6, 10, 11, 13, 19, 20, 21, 22, 23, 1, 9, 11, 24, 27, 2, 3, 4, 5, 6, 7, 8, 9, 11, 12, 13, 15, 16, 19, 20, 21, 22, 24, 25, 30, 2, 3, 4, 5, 6, 7, 8, 9, 10, 12, 13, 15, 16, 22, 23, 4, 5, 6, 9, 12, 25, 1, 2, 3, 4, 5, 6, 9, 11, 13, 15, 16, 19, 20, 21, 23, 27, 28, 30, 1, 3, 4, 7, 8, 11, 18, 19, 20, 21, 24, 27, 1, 3, 9, 11, 18, 26, 27, 29, 1, 2, 3, 4, 5, 8, 9, 10, 11, 16, 21, 24, 26, 1, 3, 6, 8, 9, 12, 19, 20, 21, 1, 2, 3, 4, 5, 6, 8, 9, 10, 11, 12, 13, 14, 17, 18, 19, 20, 22, 23, 24, 25, 26, 27, 28, 29, 30, 3, 4, 6, 8, 10, 11, 15, 20, 1, 2, 8, 11, 13, 14, 18, 19, 21, 1, 2, 3, 4, 5, 6, 7, 8, 9, 10, 11, 12, 13, 14, 15, 16, 17, 18, 19, 20, 21, 22, 24, 26, 27, 2, 4, 5, 8, 13, 16, 23, 24, 26, 30, 2, 3, 4, 5, 13, 16, 26, 30, 1, 2, 3, 11, 12, 15, 16, 20, 22, 1, 9, 15, 16, 22, 26, 27, 1, 3, 4, 7, 17, 2, 3, 4, 6, 21, 22, 25, 2, 3, 4, 5, 9, 13, 15, 16, 17, 20, 21, 22, 23, 1, 2, 8, 18, 26, 27, 1, 6, 8, 9, 12, 18, 19, 20, 25, 30, 1, 2, 3, 5, 6, 9, 13, 16, 20, 2, 5, 6, 8, 9, 25, 2, 3, 4, 5, 9, 13, 14, 15, 21, 1, 3, 5, 7, 8, 10, 14, 18, 21, 26, 30, 3, 9, 10, 11, 13, 15, 16, 20, 29, 1, 2, 3, 5, 6, 7, 8, 9, 10, 11, 12, 13, 14, 17, 18, 19, 20, 21, 22, 23, 24, 25, 26, 27, 30, 6, 9, 10, 12, 16, 17, 22, 26, 5, 6, 10, 12, 13, 20, 21, 26, 27, 1, 5, 10, 19, 1, 6, 8, 12, 13, 15, 16, 20, 24, 11, 15, 16, 20, 21, 24, 2, 6, 8, 9, 11, 12, 16, 20, 23, 24, 1, 2, 4, 5, 8, 16, 21, 22, 5, 7, 14, 16, 29, 30, 1, 8, 18, 20, 24, 29, 30, 2, 3, 4, 5, 6, 9, 10, 11, 13, 14, 15, 16, 17, 19, 20, 21, 22, 24, 27, 28, 29, 2, 3, 5, 21, 2, 3, 4, 6, 7, 10, 12, 13, 17, 21, 28, 2, 7, 12, 18, 2, 3, 6, 12, 15, 28, 1, 7, 8, 2, 3, 10, 11, 13, 20, 1, 3, 4, 5, 8, 9, 13, 17, 18, 22, 23, 28, 1, 2, 7, 10, 13, 14, 18, 21, 26, 27, 2, 4, 6, 7, 8, 10, 18, 25, 5, 6, 9, 10, 13, 27, 3, 5, 10, 11, 12, 13, 19, 20, 29, 1, 2, 3, 6, 7, 8, 11, 12, 13, 14, 18, 20, 30, 3, 6, 12, 20, 2, 3, 4, 6, 7, 8, 12, 13, 17, 18, 19, 20, 22, 24, 28, 29, 2, 6, 7, 11, 12, 13, 17, 19, 24, 26, 29, 2, 5, 9, 12, 17, 20, 21, 28, 1, 2, 3, 4, 5, 6, 7, 8, 9, 10, 11, 12, 13, 14, 15, 16, 17, 19, 20, 21, 22, 23, 24, 25, 26, 27, 28, 1, 2, 3, 4, 5, 6, 7, 8, 9, 10, 11, 14, 16, 17, 18, 21, 23, 25, 29, 30, 1, 2, 3, 7, 9, 11, 16, 25, 26, 1, 5, 6, 8, 9, 11, 16, 17, 20, 22, 23, 24, 25, 3, 8, 9, 15, 16, 21, 23, 24, 29, 1, 2, 3, 5, 6, 8, 9, 13, 14, 15, 17, 18, 20, 24, 26, 29, 1, 2, 3, 4, 5, 6, 7, 8, 9, 10, 11, 12, 13, 14, 17, 18, 20, 21, 24, 25, 26, 27, 29, 30, 2, 3, 5, 6, 7, 8, 9, 11, 12, 13, 14, 17, 18, 25, 26, 30, 2, 7, 8, 9, 11, 14, 27, 1, 2, 3, 4, 5, 6, 8, 9, 11, 12, 13, 14, 15, 16, 17, 18, 20, 22, 23, 27, 28, 2, 7, 10, 12, 28, 1, 2, 3, 4, 5, 6, 7, 8, 9, 10, 11, 12, 13, 14, 15, 16, 17, 18, 20, 21, 26, 28, 2, 3, 4, 5, 6, 11, 12, 13, 16, 17, 19, 20, 25, 26, 29, 30, 1, 2, 3, 4, 5, 6, 7, 8, 9, 10, 11, 12, 13, 14, 15, 16, 17, 18, 20, 21, 22, 23, 24, 25, 26, 27, 29, 30, 2, 4, 6, 12, 16, 21, 24, 27, 29, 2, 6, 24, 1, 2, 3, 4, 5, 6, 7, 8, 9, 10, 11, 12, 13, 15, 16, 17, 19, 20, 21, 22, 23, 24, 25, 26, 27, 28, 30, 4, 5, 11, 15, 16, 19, 20, 23, 24, 1, 3, 4, 5, 6, 7, 8, 10, 12, 15, 16, 20, 29, 30, 1, 2, 3, 4, 6, 8, 9, 13, 14, 17, 26, 27, 2, 3, 4, 5, 6, 8, 12, 13, 17, 18, 20, 22, 23, 24, 29, 5, 6, 12, 13, 17, 18, 23, 24, 29, 1, 3, 4, 6, 7, 9, 13, 1, 3, 5, 3, 5, 6, 9, 12, 15, 17, 20, 22, 29, 1, 4, 9, 10, 11, 13, 14, 15, 19, 21, 22, 24, 1, 2, 3, 5, 17, 21, 2, 5, 6, 12, 15, 16, 20, 21, 23, 1, 2, 3, 5, 6, 7, 9, 11, 14, 15, 16, 17, 19, 20, 21, 22, 23, 28, 2, 5, 15, 17, 19, 20, 21, 2, 3, 5, 6, 9, 11, 13, 17, 19, 21, 22, 23, 29, 30, 1, 3, 4, 6, 7, 8, 24, 2, 4, 6, 10, 18, 20, 26, 29, 30, 1, 8, 10, 14, 17, 19, 2, 3, 4, 5, 6, 8, 9, 13, 15, 17, 2, 5, 8, 9, 22, 3, 4, 5, 6, 9, 10, 11, 13, 20, 21, 22, 23, 27, 28, 29, 30, 1, 5, 6, 8, 10, 14, 17, 22, 23, 27, 1, 2, 3, 4, 5, 6, 7, 8, 9, 10, 11, 12, 13, 14, 15, 16, 17, 18, 19, 20, 21, 22, 23, 24, 26, 28, 29, 30, 2, 3, 4, 5, 6, 8, 11, 12, 15, 17, 20, 21, 22, 23, 24, 30, 1, 2, 7, 8, 11, 12, 14, 16, 18, 2, 4, 7, 20, 1, 2, 3, 4, 5, 6, 7, 8, 9, 10, 11, 13, 14, 16, 17, 19, 20, 21, 22, 23, 24, 25, 1, 2, 5, 7, 8, 9, 11, 13, 16, 21, 3, 5, 6, 9, 11, 13, 20, 29, 2, 5, 12, 13, 17, 20, 21, 22, 24, 27, 1, 2, 4, 5, 6, 9, 11, 19, 20, 30, 2, 3, 5, 6, 7, 8, 11, 14, 15, 18, 20, 28, 2, 3, 9, 10, 13, 20, 25, 27, 30, 2, 7, 26, 2, 3, 4, 17, 21, 28, 1, 4, 5, 6, 8, 10, 11, 13, 14, 15, 16, 17, 19, 21, 22, 23, 26, 28, 30, 4, 8, 10, 11, 13, 14, 16, 23, 28, 30, 1, 6, 9, 13, 14, 16, 17, 19, 21, 2, 3, 4, 5, 8, 9, 12, 15, 17, 22, 25, 1, 2, 4, 6, 7, 8, 9, 11, 12, 14, 18, 19, 21, 22, 23, 25, 26, 27, 30, 1, 4, 5, 8, 9, 13, 14, 15, 18, 21, 22, 25, 26, 12, 14, 15, 20, 21, 23, 25, 26, 1, 2, 4, 6, 7, 9, 10, 12, 14, 18, 23, 25, 26, 27, 30, 1, 8, 9, 11, 12, 14, 16, 17, 21, 27, 1, 6, 7, 8, 10, 12, 15, 20, 21, 1, 2, 3, 4, 5, 6, 7, 9, 10, 11, 15, 16, 17, 19, 21, 24, 26, 5, 6, 13, 15, 16, 17, 26, 1, 2, 3, 4, 5, 6, 8, 9, 10, 11, 13, 14, 15, 16, 17, 18, 19, 20, 21, 22, 23, 25, 27, 29, 1, 6, 10, 14, 26, 30, 1, 2, 3, 5, 6, 7, 13, 14, 21, 22, 23, 27, 3, 8, 9, 12, 20, 25, 1, 2, 3, 6, 11, 13, 17, 20, 21, 22, 24, 25, 26, 29, 1, 2, 5, 6, 8, 9, 10, 11, 15, 16, 20, 23, 26, 27, 1, 6, 9, 12, 13, 14, 18, 22, 23, 30, 2, 3, 4, 5, 6, 7, 9, 12, 13, 15, 16, 17, 19, 20, 21, 22, 23, 24, 25, 28, 29, 30, 3, 5, 11, 13, 23, 26, 4, 5, 6, 15, 16, 17, 19, 23, 24, 1, 3, 4, 5, 6, 8, 11, 17, 20, 27, 1, 2, 4, 5, 6, 8, 9, 11, 12, 15, 16, 17, 20, 21, 22, 27, 29, 2, 3, 4, 5, 6, 7, 8, 10, 11, 12, 15, 16, 17, 19, 21, 23, 24, 2, 3, 7, 9, 11, 15, 22, 30, 1, 6, 7, 8, 9, 10, 11, 16, 24, 27, 1, 3, 4, 6, 8, 9, 10, 11, 14, 16, 17, 18, 19, 20, 21, 22, 23, 25, 27, 2, 3, 4, 5, 7, 11, 15, 17, 26, 29, 1, 5, 8, 15, 16, 17, 19, 20, 1, 2, 3, 4, 6, 8, 9, 17, 19, 22, 25, 2, 3, 4, 5, 6, 9, 10, 12, 13, 15, 16, 17, 19, 21, 22, 28, 2, 3, 4, 5, 6, 22, 28, 1, 10, 14, 16, 24, 25, 1, 3, 8, 10, 11, 16, 17, 22, 23, 25, 27, 3, 4, 5, 6, 7, 9, 10, 11, 12, 13, 15, 20, 21, 24, 28, 29, 2, 3, 4, 5, 6, 7, 8, 9, 10, 11, 12, 13, 15, 16, 17, 19, 20, 21, 22, 23, 24, 27, 30, 8, 9, 11, 16, 17, 20, 22, 23, 25, 28, 29, 30, 1, 2, 3, 4, 5, 6, 8, 9, 10, 11, 14, 15, 18, 20, 21, 24, 25, 26, 27, 28, 30, 4, 9, 10, 11, 12, 13, 15, 17, 20, 21, 24, 26, 29, 2, 3, 4, 5, 6, 8, 9, 10, 13, 15, 16, 17, 19, 20, 22, 23, 24, 26, 29, 3, 4, 5, 6, 8, 10, 13, 16, 20, 29, 1, 2, 3, 4, 5, 7, 8, 9, 10, 11, 12, 13, 14, 15, 16, 20, 21, 22, 25, 27, 1, 2, 3, 4, 5, 6, 7, 8, 9, 10, 11, 12, 13, 14, 15, 16, 18, 20, 21, 22, 23, 25, 26, 27, 28, 29, 30, 1, 2, 3, 4, 5, 6, 7, 8, 9, 10, 11, 12, 13, 14, 15, 16, 18, 19, 21, 22, 25, 26, 27, 29, 1, 2, 3, 4, 5, 6, 8, 9, 10, 11, 12, 13, 14, 15, 16, 17, 18, 20, 21, 22, 23, 24, 25, 27, 28, 29, 30, 1, 6, 9, 18, 20, 21, 29, 1, 3, 6, 21, 26, 27, 29, 1, 7, 10, 11, 17, 21, 23, 27, 2, 6, 8, 9, 13, 16, 1, 2, 3, 4, 5, 6, 7, 8, 9, 11, 13, 14, 17, 18, 19, 20, 21, 22, 25, 27, 28, 29, 2, 3, 4, 6, 8, 9, 10, 13, 14, 17, 18, 20, 22, 23, 26, 28, 29, 2, 3, 6, 26, 2, 4, 5, 9, 11, 12, 15, 16, 22, 27, 30, 1, 2, 3, 7, 8, 9, 11, 12, 13, 14, 15, 16, 17, 18, 20, 21, 22, 24, 26, 27, 29, 30, 2, 3, 5, 6, 8, 11, 12, 13, 15, 20, 22, 23, 27, 29, 30, 1, 2, 3, 5, 6, 7, 8, 9, 11, 12, 13, 14, 16, 17, 20, 22, 23, 24, 26, 27, 29, 30, 1, 2, 3, 4, 5, 6, 7, 8, 9, 10, 12, 13, 14, 16, 17, 19, 20, 21, 22, 23, 24, 25, 28, 30, 5, 6, 7, 8, 11, 17, 21, 29, 4, 5, 7, 8, 9, 10, 11, 14, 16, 20, 23, 5, 8, 9, 10, 11, 13, 15, 16, 17, 20, 23, 1, 5, 16, 20, 22, 23, 26, 29, 1, 2, 3, 4, 5, 6, 7, 8, 9, 11, 12, 13, 14, 15, 16, 17, 18, 19, 20, 21, 22, 23, 24, 25, 27, 28, 29, 30, 1, 2, 3, 4, 5, 6, 7, 8, 9, 11, 14, 16, 17, 18, 19, 21, 22, 23, 24, 27, 1, 4, 9, 11, 13, 15, 16, 17, 20, 21, 22, 25, 2, 3, 4, 5, 6, 7, 9, 12, 19, 21, 23, 28, 2, 3, 4, 6, 9, 10, 12, 13, 14, 16, 17, 18, 22, 26, 28, 6, 19, 2, 3, 8, 9, 14, 23, 1, 2, 4, 6, 7, 8, 9, 10, 11, 13, 14, 15, 16, 17, 18, 19, 20, 21, 22, 23, 24, 25, 27, 29, 2, 3, 4, 7, 8, 9, 10, 11, 12, 14, 15, 17, 20, 26, 28, 1, 2, 5, 6, 8, 11, 14, 16, 18, 20, 21, 23, 24, 25, 26, 27, 29, 1, 3, 4, 5, 6, 9, 10, 13, 16, 17, 18, 20, 30], \"Freq\": [0.15127559006214142, 0.20170079171657562, 0.08404199779033661, 0.01680839993059635, 0.08404199779033661, 0.01680839993059635, 0.050425197929143906, 0.35297638177871704, 0.01680839993059635, 0.03642582148313522, 0.03642582148313522, 0.7649422287940979, 0.03642582148313522, 0.10927746444940567, 0.01821291074156761, 0.10142438113689423, 0.04056975245475769, 0.04056975245475769, 0.12170926481485367, 0.020284876227378845, 0.34484291076660156, 0.08113950490951538, 0.12170926481485367, 0.020284876227378845, 0.08113950490951538, 0.020284876227378845, 0.14320001006126404, 0.18411429226398468, 0.45005717873573303, 0.04091428965330124, 0.06137143075466156, 0.02045714482665062, 0.08182857930660248, 0.1449301540851593, 0.5217485427856445, 0.05797205865383148, 0.02898602932691574, 0.20290221273899078, 0.11486604064702988, 0.04254297912120819, 0.021271489560604095, 0.017017191275954247, 0.012762893922626972, 0.029780086129903793, 0.021271489560604095, 0.025525787845253944, 0.15740902721881866, 0.025525787845253944, 0.05956017225980759, 0.05105157569050789, 0.05956017225980759, 0.021271489560604095, 0.05530587211251259, 0.06381446868181229, 0.004254297818988562, 0.008508595637977123, 0.008508595637977123, 0.03828868269920349, 0.05956017225980759, 0.025525787845253944, 0.03403438255190849, 0.012762893922626972, 0.012762893922626972, 0.008508595637977123, 0.004254297818988562, 0.3453442454338074, 0.06166861206293106, 0.03700116649270058, 0.024667445570230484, 0.024667445570230484, 0.06166861206293106, 0.09866978228092194, 0.06166861206293106, 0.012333722785115242, 0.07400233298540115, 0.012333722785115242, 0.09866978228092194, 0.012333722785115242, 0.04933489114046097, 0.1396729052066803, 0.034918226301670074, 0.1396729052066803, 0.3142640292644501, 0.10475467145442963, 0.10475467145442963, 0.06983645260334015, 0.10475467145442963, 0.07715094834566116, 0.15430189669132233, 0.36003774404525757, 0.05143396556377411, 0.10286793112754822, 0.07715094834566116, 0.025716982781887054, 0.07715094834566116, 0.07715094834566116, 0.05629999190568924, 0.19704997539520264, 0.1407499760389328, 0.08444999158382416, 0.1407499760389328, 0.33779996633529663, 0.02814999595284462, 0.16350916028022766, 0.09810549765825272, 0.06540366262197495, 0.06540366262197495, 0.16350916028022766, 0.06540366262197495, 0.16350916028022766, 0.03270183131098747, 0.03270183131098747, 0.09810549765825272, 0.06540366262197495, 0.31382134556770325, 0.11768300831317902, 0.04576561599969864, 0.06537944823503494, 0.026151780039072037, 0.04576561599969864, 0.006537945009768009, 0.026151780039072037, 0.039227668195962906, 0.052303560078144073, 0.019613834097981453, 0.019613834097981453, 0.07191739231348038, 0.08499328047037125, 0.039227668195962906, 0.013075890019536018, 0.08376895636320114, 0.08376895636320114, 0.14659567177295685, 0.14659567177295685, 0.11169193685054779, 0.013961492106318474, 0.03490373119711876, 0.03490373119711876, 0.10471119731664658, 0.03490373119711876, 0.07678820937871933, 0.09773045033216476, 0.006980746053159237, 0.006980746053159237, 0.006980746053159237, 0.08811420202255249, 0.17622840404510498, 0.044057101011276245, 0.044057101011276245, 0.08811420202255249, 0.15419985353946686, 0.022028550505638123, 0.1982569545507431, 0.08811420202255249, 0.022028550505638123, 0.022028550505638123, 0.022028550505638123, 0.006477372255176306, 0.29472044110298157, 0.11659270524978638, 0.048580292612314224, 0.006477372255176306, 0.07772846519947052, 0.03562554717063904, 0.04210292175412178, 0.006477372255176306, 0.025909489020705223, 0.03562554717063904, 0.048580292612314224, 0.016193430870771408, 0.025909489020705223, 0.07125109434127808, 0.08420584350824356, 0.03886423259973526, 0.003238686127588153, 0.012954744510352612, 0.4112740457057953, 0.176260307431221, 0.0881301537156105, 0.04896119609475136, 0.009792239405214787, 0.05875343456864357, 0.029376717284321785, 0.019584478810429573, 0.04896119609475136, 0.0881301537156105, 0.009792239405214787, 0.009818635880947113, 0.06873045116662979, 0.17673544585704803, 0.02945590950548649, 0.10800500214099884, 0.02945590950548649, 0.3240149915218353, 0.03927454352378845, 0.02945590950548649, 0.009818635880947113, 0.019637271761894226, 0.009818635880947113, 0.0785490870475769, 0.049093183130025864, 0.019637271761894226, 0.009818635880947113, 0.07518704235553741, 0.07518704235553741, 0.33834168314933777, 0.26315465569496155, 0.03759352117776871, 0.15037408471107483, 0.018013853579759598, 0.28822165727615356, 0.07205541431903839, 0.09006926417350769, 0.09006926417350769, 0.23418009281158447, 0.036027707159519196, 0.14411082863807678, 0.41264528036117554, 0.19546356797218323, 0.02171817421913147, 0.06515452265739441, 0.032577261328697205, 0.010859087109565735, 0.11944995075464249, 0.010859087109565735, 0.10859086364507675, 0.23545581102371216, 0.0905599296092987, 0.0905599296092987, 0.21734382212162018, 0.01811198517680168, 0.0905599296092987, 0.01811198517680168, 0.16300787031650543, 0.054335955530405045, 0.60503089427948, 0.01512577198445797, 0.226886585354805, 0.04537731781601906, 0.10588040202856064, 0.03317984938621521, 0.06221221759915352, 0.15760427713394165, 0.008294962346553802, 0.03732733055949211, 0.03732733055949211, 0.5391725301742554, 0.008294962346553802, 0.004147481173276901, 0.07050717622041702, 0.004147481173276901, 0.03732733055949211, 0.004147481173276901, 0.9427365064620972, 0.03195716813206673, 0.6511638164520264, 0.0574556328356266, 0.1627909541130066, 0.019151877611875534, 0.07660751044750214, 0.009575938805937767, 0.009575938805937767, 0.2763625383377075, 0.24507620930671692, 0.1668604016304016, 0.1303596794605255, 0.0625726506114006, 0.01564316265285015, 0.0365007109940052, 0.0365007109940052, 0.0104287751019001, 0.00521438755095005, 0.00521438755095005, 0.0104287751019001, 0.8683695197105408, 0.036182060837745667, 0.036182060837745667, 0.19227451086044312, 0.21363835036754608, 0.042727671563625336, 0.10681917518377304, 0.042727671563625336, 0.1281830072402954, 0.0640915036201477, 0.0640915036201477, 0.10681917518377304, 0.3612082004547119, 0.3612082004547119, 0.22575512528419495, 0.13599751889705658, 0.011333126574754715, 0.011333126574754715, 0.011333126574754715, 0.16999690234661102, 0.12466439604759216, 0.04533250629901886, 0.04533250629901886, 0.011333126574754715, 0.04533250629901886, 0.02266625314950943, 0.0793318897485733, 0.011333126574754715, 0.0793318897485733, 0.033999379724264145, 0.13599751889705658, 0.042000215500593185, 0.16800086200237274, 0.02800014242529869, 0.014000071212649345, 0.11200056970119476, 0.07000035792589188, 0.014000071212649345, 0.014000071212649345, 0.042000215500593185, 0.02800014242529869, 0.3780019283294678, 0.014000071212649345, 0.042000215500593185, 0.1974829137325287, 0.059244874864816666, 0.01974829100072384, 0.01974829100072384, 0.03949658200144768, 0.09874145686626434, 0.25672778487205505, 0.1777346283197403, 0.01974829100072384, 0.01974829100072384, 0.059244874864816666, 0.17997734248638153, 0.06352141499519348, 0.06352141499519348, 0.27525946497917175, 0.08469521999359131, 0.03176070749759674, 0.1588035374879837, 0.021173804998397827, 0.11645592749118805, 0.2534429132938385, 0.22528259456157684, 0.08448097109794617, 0.08448097109794617, 0.05632064864039421, 0.028160324320197105, 0.05632064864039421, 0.11264129728078842, 0.08448097109794617, 0.009112315252423286, 0.009112315252423286, 0.24603252112865448, 0.07289852201938629, 0.4465034604072571, 0.08201083540916443, 0.09112315624952316, 0.018224630504846573, 0.016586000099778175, 0.016586000099778175, 0.35659900307655334, 0.5805100202560425, 0.016586000099778175, 0.008293000049889088, 0.11833840608596802, 0.029584601521492004, 0.35501521825790405, 0.17750760912895203, 0.029584601521492004, 0.17750760912895203, 0.029584601521492004, 0.05916920304298401, 0.08337074518203735, 0.026053356006741524, 0.02084268629550934, 0.026053356006741524, 0.453328400850296, 0.005210671573877335, 0.11463476717472076, 0.03647470101714134, 0.06773872673511505, 0.02084268629550934, 0.03126402944326401, 0.10942409932613373, 0.0419226698577404, 0.09083245694637299, 0.048909783363342285, 0.2166004627943039, 0.09781956672668457, 0.027948446571826935, 0.027948446571826935, 0.048909783363342285, 0.03493556007742882, 0.0209613349288702, 0.013974223285913467, 0.18166491389274597, 0.0838453397154808, 0.027948446571826935, 0.013974223285913467, 0.006987111642956734, 0.006987111642956734, 0.04061874374747276, 0.24371245503425598, 0.24371245503425598, 0.08123748749494553, 0.08123748749494553, 0.20309370756149292, 0.04061874374747276, 0.04061874374747276, 0.3451765179634094, 0.03835294768214226, 0.07670589536428452, 0.23011767864227295, 0.2684706151485443, 0.0859941840171814, 0.2579825520515442, 0.2006530910730362, 0.1146589070558548, 0.0573294535279274, 0.1146589070558548, 0.1146589070558548, 0.03750210255384445, 0.5250294208526611, 0.03750210255384445, 0.11250630021095276, 0.18751050531864166, 0.03750210255384445, 0.20796801149845123, 0.029709715396165848, 0.20796801149845123, 0.11883886158466339, 0.029709715396165848, 0.20796801149845123, 0.059419430792331696, 0.08912914246320724, 0.029709715396165848, 0.029709715396165848, 0.2530653774738312, 0.02108878269791603, 0.1265326887369156, 0.29524293541908264, 0.02108878269791603, 0.0632663443684578, 0.02108878269791603, 0.14762146770954132, 0.04217756539583206, 0.14299403131008148, 0.07149701565504074, 0.10724551975727081, 0.14299403131008148, 0.14299403131008148, 0.07149701565504074, 0.07149701565504074, 0.03574850782752037, 0.17874254286289215, 0.02144719660282135, 0.07149066030979156, 0.0428943932056427, 0.0023830218706279993, 0.0881718099117279, 0.009532087482511997, 0.0023830218706279993, 0.023830218240618706, 0.5671592354774475, 0.06672461330890656, 0.007149065844714642, 0.019064174965023994, 0.03574533015489578, 0.004766043741255999, 0.011915109120309353, 0.014298131689429283, 0.009532087482511997, 0.054338060319423676, 0.04226293787360191, 0.06339440494775772, 0.0392441563308239, 0.04528171569108963, 0.0392441563308239, 0.1750892996788025, 0.09358221292495728, 0.09056343138217926, 0.030187811702489853, 0.00905634369701147, 0.03622537478804588, 0.030187811702489853, 0.021131468936800957, 0.060375623404979706, 0.07546953111886978, 0.012075124308466911, 0.00905634369701147, 0.04226293787360191, 0.006037562154233456, 0.003018781077116728, 0.006037562154233456, 0.003018781077116728, 0.00905634369701147, 0.05954205244779587, 0.14885511994361877, 0.5358784794807434, 0.11908410489559174, 0.029771026223897934, 0.029771026223897934, 0.05954205244779587, 0.10531426221132278, 0.36859992146492004, 0.14041902124881744, 0.12286663800477982, 0.07020951062440872, 0.026328565552830696, 0.00877618882805109, 0.07898569852113724, 0.01755237765610218, 0.026328565552830696, 0.00877618882805109, 0.00877618882805109, 0.17863617837429047, 0.1964997947216034, 0.10718170553445816, 0.05359085276722908, 0.08931808918714523, 0.017863618209958076, 0.017863618209958076, 0.30368149280548096, 0.017863618209958076, 0.09780656546354294, 0.0419170968234539, 0.02794473245739937, 0.013972366228699684, 0.0419170968234539, 0.013972366228699684, 0.30739206075668335, 0.20958548784255981, 0.0419170968234539, 0.013972366228699684, 0.15369603037834167, 0.013972366228699684, 0.02794473245739937, 0.1053616851568222, 0.07024112343788147, 0.035120561718940735, 0.2809644937515259, 0.1053616851568222, 0.14048224687576294, 0.14048224687576294, 0.035120561718940735, 0.035120561718940735, 0.13706323504447937, 0.13706323504447937, 0.08223794400691986, 0.027412647381424904, 0.05482529476284981, 0.27412647008895874, 0.027412647381424904, 0.19188854098320007, 0.05482529476284981, 0.37885719537734985, 0.2778286039829254, 0.10102858394384384, 0.10102858394384384, 0.02525714598596096, 0.07577143609523773, 0.0274149589240551, 0.6305440664291382, 0.3289794921875, 0.5077152252197266, 0.18462373316287994, 0.015385311096906662, 0.030770622193813324, 0.09231186658143997, 0.13846778869628906, 0.015385311096906662, 0.3400956988334656, 0.02834130823612213, 0.05668261647224426, 0.14170654118061066, 0.0850239247083664, 0.05668261647224426, 0.22673046588897705, 0.02834130823612213, 0.40707096457481384, 0.18738186359405518, 0.11630598455667496, 0.07107587903738022, 0.03876866027712822, 0.07753732055425644, 0.05169155076146126, 0.012922887690365314, 0.032307218760252, 0.7126604914665222, 0.01738196425139904, 0.01738196425139904, 0.01738196425139904, 0.03476392850279808, 0.08690981566905975, 0.10429178178310394, 0.1029951274394989, 0.5922219753265381, 0.15449269115924835, 0.1029951274394989, 0.025748781859874725, 0.025748781859874725, 0.16386961936950684, 0.4916088581085205, 0.3004276156425476, 0.013655801303684711, 0.26106753945350647, 0.15044569969177246, 0.07079797238111496, 0.013274620287120342, 0.10177209228277206, 0.0486736074090004, 0.022124366834759712, 0.022124366834759712, 0.030974114313721657, 0.07522284984588623, 0.061948228627443314, 0.013274620287120342, 0.01769949309527874, 0.03982385993003845, 0.004424873273819685, 0.022124366834759712, 0.030974114313721657, 0.00884974654763937, 0.02075628936290741, 0.1868066042661667, 0.031134434044361115, 0.031134434044361115, 0.07264701277017593, 0.07264701277017593, 0.29058805108070374, 0.13491587340831757, 0.02075628936290741, 0.051890723407268524, 0.06226886808872223, 0.010378144681453705, 0.02075628936290741, 0.030809761956334114, 0.09242928773164749, 0.5083611011505127, 0.338907390832901, 0.015404880978167057, 0.02647879533469677, 0.10591518133878708, 0.05295759066939354, 0.02647879533469677, 0.3309849500656128, 0.03971819579601288, 0.0661969929933548, 0.07943639159202576, 0.03971819579601288, 0.02647879533469677, 0.07943639159202576, 0.10591518133878708, 0.6239601969718933, 0.03899751231074333, 0.19498756527900696, 0.03899751231074333, 0.07799502462148666, 0.03899751231074333, 0.02174006961286068, 0.2174006998538971, 0.08696027845144272, 0.39132124185562134, 0.04348013922572136, 0.02174006961286068, 0.17392055690288544, 0.1625164896249771, 0.009559793397784233, 0.052578866481781006, 0.06213865801692009, 0.06213865801692009, 0.06213865801692009, 0.10037783533334732, 0.1720762848854065, 0.03823917359113693, 0.009559793397784233, 0.03823917359113693, 0.047798968851566315, 0.03345927968621254, 0.07169845700263977, 0.0573587641119957, 0.009559793397784233, 0.03944569081068039, 0.019722845405340195, 0.13805991411209106, 0.15778276324272156, 0.23667412996292114, 0.03944569081068039, 0.3155655264854431, 0.019722845405340195, 0.019722845405340195, 0.008264260366559029, 0.004132130183279514, 0.8098975419998169, 0.004132130183279514, 0.020660651847720146, 0.008264260366559029, 0.03718917444348335, 0.033057041466236115, 0.016528520733118057, 0.033057041466236115, 0.016528520733118057, 0.03802293539047241, 0.05703440308570862, 0.17110320925712585, 0.03802293539047241, 0.47528669238090515, 0.13308027386665344, 0.019011467695236206, 0.03802293539047241, 0.06709300726652145, 0.03354650363326073, 0.5367440581321716, 0.30191853642463684, 0.08369802683591843, 0.07846689969301224, 0.04184901341795921, 0.04184901341795921, 0.020924506708979607, 0.020924506708979607, 0.010462253354489803, 0.026155633851885796, 0.010462253354489803, 0.3034053444862366, 0.015693379566073418, 0.04184901341795921, 0.08892915397882462, 0.08369802683591843, 0.026155633851885796, 0.005231126677244902, 0.07323577255010605, 0.010462253354489803, 0.010462253354489803, 0.005231126677244902, 0.12163796275854111, 0.0695074051618576, 0.060818981379270554, 0.026065276935696602, 0.04344213008880615, 0.0347537025809288, 0.35622546076774597, 0.04344213008880615, 0.0868842601776123, 0.07819583266973495, 0.026065276935696602, 0.0347537025809288, 0.0173768512904644, 0.0086884256452322, 0.07266261428594589, 0.14532522857189178, 0.29065045714378357, 0.07266261428594589, 0.036331307142972946, 0.07266261428594589, 0.10899391770362854, 0.14532522857189178, 0.07266261428594589, 0.0954243540763855, 0.08482164889574051, 0.16964329779148102, 0.010602706111967564, 0.031808119267225266, 0.13783517479896545, 0.031808119267225266, 0.042410824447870255, 0.06361623853445053, 0.30747848749160767, 0.010602706111967564, 0.09790801256895065, 0.03713752329349518, 0.0573943555355072, 0.0033761383965611458, 0.06077049300074577, 0.027009107172489166, 0.14179781079292297, 0.14517395198345184, 0.10466029495000839, 0.03376138582825661, 0.06414663046598434, 0.0033761383965611458, 0.0573943555355072, 0.023632969707250595, 0.010128415189683437, 0.013504553586244583, 0.016880692914128304, 0.010128415189683437, 0.020256830379366875, 0.020256830379366875, 0.0067522767931222916, 0.0033761383965611458, 0.016880692914128304, 0.0033761383965611458, 0.020256830379366875, 0.014513508416712284, 0.13062156736850739, 0.07256753742694855, 0.3192971646785736, 0.10159455984830856, 0.2902701497077942, 0.029027016833424568, 0.014513508416712284, 0.07896420359611511, 0.05849200114607811, 0.13160699605941772, 0.10528559982776642, 0.07603960484266281, 0.07019039988517761, 0.09358720481395721, 0.12575779855251312, 0.09066259860992432, 0.005849200300872326, 0.002924600150436163, 0.020472200587391853, 0.023396801203489304, 0.011698400601744652, 0.002924600150436163, 0.029246000573039055, 0.026321399956941605, 0.014623000286519527, 0.011698400601744652, 0.014623000286519527, 0.002924600150436163, 0.1849413812160492, 0.15411782264709473, 0.277412086725235, 0.15411782264709473, 0.030823564156889915, 0.030823564156889915, 0.06164712831377983, 0.06164712831377983, 0.027030810713768005, 0.05406162142753601, 0.27030810713768005, 0.09460783749818802, 0.4324929714202881, 0.027030810713768005, 0.04054621607065201, 0.04054621607065201, 0.013515405356884003, 0.026585016399621964, 0.2924351692199707, 0.5848703384399414, 0.026585016399621964, 0.026585016399621964, 0.48462048172950745, 0.35414573550224304, 0.03727849945425987, 0.018639249727129936, 0.03727849945425987, 0.018639249727129936, 0.018639249727129936, 0.18693935871124268, 0.057226333767175674, 0.07248668372631073, 0.05341124162077904, 0.0495961531996727, 0.04578106477856636, 0.01144526619464159, 0.04196597635746002, 0.007630177773535252, 0.05341124162077904, 0.10300739854574203, 0.01144526619464159, 0.02289053238928318, 0.19075444340705872, 0.02670562081038952, 0.003815088886767626, 0.030520711094141006, 0.015260355547070503, 0.015260355547070503, 0.409299373626709, 0.03720903396606445, 0.3348813056945801, 0.09302258491516113, 0.05581355094909668, 0.018604516983032227, 0.03720903396606445, 0.25759756565093994, 0.1839982569217682, 0.25759756565093994, 0.1839982569217682, 0.11039895564317703, 0.18624243140220642, 0.13303031027317047, 0.3192727565765381, 0.18624243140220642, 0.05321212485432625, 0.05321212485432625, 0.05321212485432625, 0.9798217415809631, 0.03160294517874718, 0.01580147258937359, 0.047404419630765915, 0.26335787773132324, 0.005267157685011625, 0.5425172448158264, 0.01580147258937359, 0.005267157685011625, 0.03160294517874718, 0.03160294517874718, 0.10499170422554016, 0.18898506462574005, 0.38846930861473083, 0.09449253231287003, 0.05249585211277008, 0.09449253231287003, 0.05249585211277008, 0.03702647238969803, 0.11725050210952759, 0.09256618469953537, 0.03702647238969803, 0.06171078979969025, 0.06788186728954315, 0.02468431554734707, 0.04319755360484123, 0.11725050210952759, 0.06171078979969025, 0.07405294477939606, 0.018513236194849014, 0.04319755360484123, 0.018513236194849014, 0.012342157773673534, 0.02468431554734707, 0.1295926570892334, 0.006171078886836767, 0.006171078886836767, 0.06749480962753296, 0.06749480962753296, 0.10124221444129944, 0.26997923851013184, 0.03374740481376648, 0.06749480962753296, 0.10124221444129944, 0.13498961925506592, 0.13498961925506592, 0.17806021869182587, 0.08903010934591293, 0.20773692429065704, 0.2967670261859894, 0.059353407472372055, 0.11870681494474411, 0.029676703736186028, 0.5000462532043457, 0.04167051985859871, 0.16668207943439484, 0.12501156330108643, 0.08334103971719742, 0.035809293389320374, 0.46552082896232605, 0.035809293389320374, 0.21485576033592224, 0.21485576033592224, 0.6984880566596985, 0.06073809415102005, 0.15184523165225983, 0.030369047075510025, 0.030369047075510025, 0.3105216324329376, 0.16439379751682281, 0.1278618425130844, 0.0365319550037384, 0.1278618425130844, 0.1278618425130844, 0.09132988750934601, 0.12109622359275818, 0.16146163642406464, 0.10091351717710495, 0.06054811179637909, 0.02018270455300808, 0.24219244718551636, 0.08073081821203232, 0.04036540910601616, 0.06054811179637909, 0.08073081821203232, 0.2586643695831299, 0.20860031247138977, 0.025032036006450653, 0.008344012312591076, 0.10847216099500656, 0.016688024625182152, 0.041720062494277954, 0.10847216099500656, 0.11681617051362991, 0.016688024625182152, 0.09178413450717926, 0.34094172716140747, 0.11364724487066269, 0.03788241371512413, 0.11364724487066269, 0.07576482743024826, 0.03788241371512413, 0.18941207230091095, 0.1890651136636734, 0.7562604546546936, 0.0315108522772789, 0.10241684317588806, 0.010241684503853321, 0.716917872428894, 0.06145010516047478, 0.020483369007706642, 0.07169178873300552, 0.08777972310781479, 0.029259908944368362, 0.021944930776953697, 0.7095527648925781, 0.03657488524913788, 0.007314977236092091, 0.08046475052833557, 0.021944930776953697, 0.04500487074255943, 0.11501245200634003, 0.03500378876924515, 0.050005413591861725, 0.15501677989959717, 0.04500487074255943, 0.04500487074255943, 0.35503843426704407, 0.02000216580927372, 0.02000216580927372, 0.09000974148511887, 0.00500054145231843, 0.00500054145231843, 0.01000108290463686, 0.02966800145804882, 0.14834000170230865, 0.08900400251150131, 0.05933600291609764, 0.35601601004600525, 0.17800800502300262, 0.05933600291609764, 0.02966800145804882, 0.028161223977804184, 0.028161223977804184, 0.028161223977804184, 0.11264489591121674, 0.11264489591121674, 0.5913857221603394, 0.08448367565870285, 0.13163098692893982, 0.6769593358039856, 0.1504354029893875, 0.01880442537367344, 0.10636270046234131, 0.05909039080142975, 0.05909039080142975, 0.02363615669310093, 0.24817964434623718, 0.03545423597097397, 0.08272654563188553, 0.011818078346550465, 0.02363615669310093, 0.10636270046234131, 0.02363615669310093, 0.09454462677240372, 0.1181807816028595, 0.14503470063209534, 0.1087760254740715, 0.036258675158023834, 0.1087760254740715, 0.036258675158023834, 0.14503470063209534, 0.1087760254740715, 0.18129336833953857, 0.07251735031604767, 0.036258675158023834, 0.4234578311443329, 0.07699233293533325, 0.1539846658706665, 0.2887212634086609, 0.038496166467666626, 0.06633389741182327, 0.05527824908494949, 0.022111298516392708, 0.011055649258196354, 0.6301720142364502, 0.011055649258196354, 0.05527824908494949, 0.011055649258196354, 0.11055649816989899, 0.011055649258196354, 0.0726257935166359, 0.04841719940304756, 0.09683439880609512, 0.2420859932899475, 0.19366879761219025, 0.12104299664497375, 0.19366879761219025, 0.17048275470733643, 0.5916754007339478, 0.10028396546840668, 0.1303691565990448, 0.04840797185897827, 0.020746273919939995, 0.08990052342414856, 0.03457712382078171, 0.08990052342414856, 0.027661697939038277, 0.08298509567975998, 0.013830848969519138, 0.09681594371795654, 0.06915424764156342, 0.08298509567975998, 0.13139307498931885, 0.04149254783987999, 0.05532339587807655, 0.04149254783987999, 0.03457712382078171, 0.03457712382078171, 0.14488452672958374, 0.12418673187494278, 0.41395577788352966, 0.12418673187494278, 0.06209336593747139, 0.020697789266705513, 0.020697789266705513, 0.06209336593747139, 0.015919625759124756, 0.14539924263954163, 0.04563625901937485, 0.1316022425889969, 0.041391026228666306, 0.0615558847784996, 0.1623801738023758, 0.018042242154479027, 0.005306541919708252, 0.09551775455474854, 0.08065943419933319, 0.0307779423892498, 0.016980933025479317, 0.0010613083140924573, 0.04563625901937485, 0.0031839250586926937, 0.0010613083140924573, 0.03290056064724922, 0.01379700843244791, 0.006367850117385387, 0.0031839250586926937, 0.015919625759124756, 0.0010613083140924573, 0.012735700234770775, 0.01167439203709364, 0.14796608686447144, 0.029593218117952347, 0.11837287247180939, 0.47349148988723755, 0.029593218117952347, 0.11837287247180939, 0.029593218117952347, 0.029593218117952347, 0.09263524413108826, 0.4786154329776764, 0.04631762206554413, 0.04631762206554413, 0.10807444900274277, 0.03087841533124447, 0.07719603925943375, 0.03087841533124447, 0.03087841533124447, 0.03087841533124447, 0.015439207665622234, 0.03999437019228935, 0.1599774807691574, 0.0066657280549407005, 0.03999437019228935, 0.39994367957115173, 0.053325824439525604, 0.06665728241205215, 0.019997185096144676, 0.04666009917855263, 0.019997185096144676, 0.013331456109881401, 0.0799887403845787, 0.0066657280549407005, 0.026662912219762802, 0.01767456904053688, 0.12372197955846786, 0.05302370339632034, 0.05302370339632034, 0.49488791823387146, 0.01767456904053688, 0.07069827616214752, 0.07069827616214752, 0.03534913808107376, 0.05302370339632034, 0.0347738079726696, 0.2434166520833969, 0.0347738079726696, 0.0347738079726696, 0.4868333041667938, 0.1390952318906784, 0.47756293416023254, 0.03721269592642784, 0.006202116142958403, 0.21707406640052795, 0.20466983318328857, 0.04961692914366722, 0.03041725978255272, 0.038021575659513474, 0.44485241174697876, 0.18250355124473572, 0.00380215747281909, 0.06463667750358582, 0.04182372987270355, 0.07604315131902695, 0.011406471952795982, 0.00380215747281909, 0.011406471952795982, 0.07224099338054657, 0.00760431494563818, 0.011406471952795982, 0.1429259479045868, 0.15880660712718964, 0.07940330356359482, 0.07940330356359482, 0.015880661085247993, 0.015880661085247993, 0.15880660712718964, 0.07940330356359482, 0.03176132217049599, 0.015880661085247993, 0.06352264434099197, 0.015880661085247993, 0.03176132217049599, 0.1111646220088005, 0.12994548678398132, 0.08663032203912735, 0.19251184165477753, 0.019251182675361633, 0.03850236535072327, 0.019251182675361633, 0.009625591337680817, 0.0577535517513752, 0.06737913936376572, 0.043315161019563675, 0.02406398020684719, 0.05294075608253479, 0.03850236535072327, 0.02406398020684719, 0.11069430410861969, 0.0288767758756876, 0.009625591337680817, 0.02406398020684719, 0.004812795668840408, 0.428724467754364, 0.11692485213279724, 0.23384970426559448, 0.03897495195269585, 0.11692485213279724, 0.18864870071411133, 0.037729740142822266, 0.07545948028564453, 0.49048659205436707, 0.037729740142822266, 0.15091896057128906, 0.695523738861084, 0.02675091288983822, 0.05350182577967644, 0.05350182577967644, 0.10700365155935287, 0.02675091288983822, 0.02675091288983822, 0.537611186504364, 0.02986728958785534, 0.08960186690092087, 0.02986728958785534, 0.02986728958785534, 0.05973457917571068, 0.05973457917571068, 0.11946915835142136, 0.02986728958785534, 0.4331211745738983, 0.03766271099448204, 0.03766271099448204, 0.07061758637428284, 0.01883135549724102, 0.004707838874310255, 0.065909743309021, 0.014123517088592052, 0.00941567774862051, 0.028247034177184105, 0.023539194837212563, 0.004707838874310255, 0.004707838874310255, 0.221268430352211, 0.014123517088592052, 0.060991015285253525, 0.15951496362686157, 0.18766465783119202, 0.0703742504119873, 0.07975748181343079, 0.014074849896132946, 0.03284131735563278, 0.01876646652817726, 0.04222454875707626, 0.01876646652817726, 0.09852394461631775, 0.03284131735563278, 0.03753293305635452, 0.056299399584531784, 0.01876646652817726, 0.05160778388381004, 0.004691616632044315, 0.004691616632044315, 0.17909374833106995, 0.2686406373977661, 0.38803645968437195, 0.059697918593883514, 0.029848959296941757, 0.059697918593883514, 0.19545583426952362, 0.2823250889778137, 0.021717315539717674, 0.1737385243177414, 0.10858657956123352, 0.06515194475650787, 0.10858657956123352, 0.29654252529144287, 0.12081361562013626, 0.12081361562013626, 0.02196611277759075, 0.02196611277759075, 0.02196611277759075, 0.18671195209026337, 0.0439322255551815, 0.10983055830001831, 0.0439322255551815, 0.10812406986951828, 0.05822065472602844, 0.09564821422100067, 0.024951709434390068, 0.10812406986951828, 0.19129642844200134, 0.004158617928624153, 0.10396545380353928, 0.1330757737159729, 0.062379270792007446, 0.024951709434390068, 0.045744799077510834, 0.012475854717195034, 0.016634471714496613, 0.012475854717195034, 0.00565906148403883, 0.18108996748924255, 0.15939690172672272, 0.11506758630275726, 0.20089668035507202, 0.014147654175758362, 0.07451097667217255, 0.013204476796090603, 0.0018863538280129433, 0.12732888758182526, 0.0018863538280129433, 0.01131812296807766, 0.0037727076560258865, 0.010374946519732475, 0.0358407236635685, 0.012261300347745419, 0.0037727076560258865, 0.002829530742019415, 0.004715884570032358, 0.019806714728474617, 0.11852986365556717, 0.1744082272052765, 0.07789105176925659, 0.21504703164100647, 0.00338656734675169, 0.02031940408051014, 0.01015970204025507, 0.09990373998880386, 0.16255523264408112, 0.00677313469350338, 0.008466418832540512, 0.015239553526043892, 0.04063880816102028, 0.00338656734675169, 0.00338656734675169, 0.005079851020127535, 0.03386567533016205, 0.6052020192146301, 0.05262626335024834, 0.18419192731380463, 0.05262626335024834, 0.07893939316272736, 0.021344169974327087, 0.0960487648844719, 0.7470459938049316, 0.010672084987163544, 0.03201625496149063, 0.08537667989730835, 0.1094079315662384, 0.8631070256233215, 0.00607821810990572, 0.01215643621981144, 0.11764832586050034, 0.8544983863830566, 0.00619201734662056, 0.01857605203986168, 0.10818732529878616, 0.14424976706504822, 0.36062440276145935, 0.07212488353252411, 0.036062441766262054, 0.07212488353252411, 0.14424976706504822, 0.036062441766262054, 0.0055303387343883514, 0.20185735821723938, 0.1189022809267044, 0.11060677468776703, 0.030416863039135933, 0.008295508101582527, 0.04977304860949516, 0.1078416034579277, 0.096780925989151, 0.0027651693671941757, 0.055303387343883514, 0.016591016203165054, 0.013825846835970879, 0.01935618557035923, 0.027651693671941757, 0.011060677468776703, 0.035947199910879135, 0.027651693671941757, 0.0027651693671941757, 0.035947199910879135, 0.01935618557035923, 0.12389662116765976, 0.1769951730966568, 0.07079806923866272, 0.10619710385799408, 0.05309855192899704, 0.07079806923866272, 0.14159613847732544, 0.03539903461933136, 0.15929566323757172, 0.07079806923866272, 0.07503010332584381, 0.05359293147921562, 0.04287434741854668, 0.02143717370927334, 0.06431151926517487, 0.05359293147921562, 0.20365314185619354, 0.04287434741854668, 0.41802486777305603, 0.02143717370927334, 0.32606106996536255, 0.1254081130027771, 0.07524486631155014, 0.17557135224342346, 0.02508162148296833, 0.22573459148406982, 0.38202589750289917, 0.2971312403678894, 0.3077430725097656, 0.010611830279231071, 0.4307412803173065, 0.14358043670654297, 0.4038199484348297, 0.008973777294158936, 0.02254660613834858, 0.06012428179383278, 0.09018642455339432, 0.04509321227669716, 0.05260874703526497, 0.08267088979482651, 0.09770195931196213, 0.05260874703526497, 0.19540391862392426, 0.10521749407052994, 0.03006214089691639, 0.04509321227669716, 0.0751553550362587, 0.015031070448458195, 0.007515535224229097, 0.02254660613834858, 0.07889047265052795, 0.029583929106593132, 0.059167858213186264, 0.009861309081315994, 0.04930654913187027, 0.21694880723953247, 0.13805833458900452, 0.13805833458900452, 0.06902916729450226, 0.059167858213186264, 0.06902916729450226, 0.04930654913187027, 0.009861309081315994, 0.01972261816263199, 0.08925390243530273, 0.11900520324707031, 0.23801040649414062, 0.059502601623535156, 0.029751300811767578, 0.1487565040588379, 0.20825910568237305, 0.029751300811767578, 0.08925390243530273, 0.27194738388061523, 0.09064912796020508, 0.09064912796020508, 0.018129825592041016, 0.09064912796020508, 0.03625965118408203, 0.03625965118408203, 0.18129825592041016, 0.14503860473632812, 0.018129825592041016, 0.04963209107518196, 0.3908527195453644, 0.05583610385656357, 0.05583610385656357, 0.1551002860069275, 0.02481604553759098, 0.14889627695083618, 0.03102005645632744, 0.006204011384397745, 0.037224069237709045, 0.01240802276879549, 0.02481604553759098, 0.24168436229228973, 0.021971305832266808, 0.1537991464138031, 0.17577044665813446, 0.2636556625366211, 0.08788522332906723, 0.043942611664533615, 0.108235202729702, 0.04638651758432388, 0.108235202729702, 0.015462172217667103, 0.23193258047103882, 0.07731086015701294, 0.015462172217667103, 0.06184868887066841, 0.030924344435334206, 0.015462172217667103, 0.07731086015701294, 0.04638651758432388, 0.13915954530239105, 0.015462172217667103, 0.009707286022603512, 0.16502386331558228, 0.009707286022603512, 0.019414572045207024, 0.19414572417736053, 0.02912185899913311, 0.0776582881808281, 0.19414572417736053, 0.0776582881808281, 0.10678014904260635, 0.06795100122690201, 0.02912185899913311, 0.4733228385448456, 0.41763779520988464, 0.08352755755186081, 0.3208989202976227, 0.11669052392244339, 0.029172630980610847, 0.0875178873538971, 0.1458631455898285, 0.0875178873538971, 0.1458631455898285, 0.029172630980610847, 0.06364109367132187, 0.02828492969274521, 0.049498628824949265, 0.05656985938549042, 0.03535616397857666, 0.12021095305681229, 0.03535616397857666, 0.07071232795715332, 0.021213697269558907, 0.1484958827495575, 0.007071232423186302, 0.007071232423186302, 0.03535616397857666, 0.021213697269558907, 0.07778356224298477, 0.03535616397857666, 0.049498628824949265, 0.09192602336406708, 0.021213697269558907, 0.014142464846372604, 0.17287874221801758, 0.07118536531925201, 0.10169338434934616, 0.11186271905899048, 0.05084669217467308, 0.05084669217467308, 0.03050801530480385, 0.1220320612192154, 0.2542334496974945, 0.040677353739738464, 0.085218645632267, 0.09942175447940826, 0.014203107915818691, 0.028406215831637383, 0.09942175447940826, 0.09942175447940826, 0.014203107915818691, 0.4687025547027588, 0.07101553678512573, 0.014203107915818691, 0.014203107915818691, 0.05458759143948555, 0.027293795719742775, 0.16376277804374695, 0.05458759143948555, 0.1091751828789711, 0.38211312890052795, 0.027293795719742775, 0.027293795719742775, 0.05458759143948555, 0.05458759143948555, 0.17836421728134155, 0.1709323674440384, 0.09661395102739334, 0.007431842386722565, 0.08175026625394821, 0.022295527160167694, 0.05945473909378052, 0.05202289670705795, 0.01486368477344513, 0.05202289670705795, 0.007431842386722565, 0.1040457934141159, 0.022295527160167694, 0.07431842386722565, 0.022295527160167694, 0.022295527160167694, 0.007431842386722565, 0.1996764838695526, 0.0221862755715847, 0.0221862755715847, 0.0665588229894638, 0.1331176459789276, 0.0221862755715847, 0.11093137413263321, 0.0665588229894638, 0.1553039252758026, 0.0443725511431694, 0.0443725511431694, 0.0665588229894638, 0.06694228202104568, 0.13388456404209137, 0.02231409400701523, 0.11157047748565674, 0.05578523874282837, 0.01673557050526142, 0.05578523874282837, 0.3793396055698395, 0.005578523501753807, 0.005578523501753807, 0.011157047003507614, 0.05578523874282837, 0.005578523501753807, 0.0390496663749218, 0.005578523501753807, 0.027892619371414185, 0.245089590549469, 0.5251920223236084, 0.17506399750709534, 0.07002560049295425, 0.18632490932941437, 0.19469906389713287, 0.23866337537765503, 0.04396430775523186, 0.08164799958467484, 0.0314030759036541, 0.006280614994466305, 0.046057842671871185, 0.052338458597660065, 0.008374153636395931, 0.006280614994466305, 0.004187076818197966, 0.002093538409098983, 0.010467692278325558, 0.020935384556651115, 0.002093538409098983, 0.004187076818197966, 0.006280614994466305, 0.04815138131380081, 0.004187076818197966, 0.1256343126296997, 0.09946049749851227, 0.3507291376590729, 0.07852144539356232, 0.06805191934108734, 0.06805191934108734, 0.06281715631484985, 0.02093905210494995, 0.010469526052474976, 0.02093905210494995, 0.005234763026237488, 0.07328668236732483, 0.005234763026237488, 0.14505380392074585, 0.25384414196014404, 0.07252690196037292, 0.21758070588111877, 0.10879035294055939, 0.03626345098018646, 0.03626345098018646, 0.07252690196037292, 0.005269223358482122, 0.2476535141468048, 0.16861514747142792, 0.0790383517742157, 0.06323068588972092, 0.05796146020293236, 0.0263461172580719, 0.07376912981271744, 0.09484602510929108, 0.010538446716964245, 0.005269223358482122, 0.08430757373571396, 0.0263461172580719, 0.010538446716964245, 0.03161534294486046, 0.010538446716964245, 0.32999086380004883, 0.13654795289039612, 0.09103196859359741, 0.06827397644519806, 0.03413698822259903, 0.1479269415140152, 0.011378996074199677, 0.011378996074199677, 0.03413698822259903, 0.03413698822259903, 0.07965297251939774, 0.011378996074199677, 0.0946265384554863, 0.3785061538219452, 0.031542178243398666, 0.41004830598831177, 0.06308435648679733, 0.03607820346951485, 0.08117596060037613, 0.10823461413383484, 0.08117596060037613, 0.05411730706691742, 0.03607820346951485, 0.009019550867378712, 0.0992150604724884, 0.23450833559036255, 0.02705865353345871, 0.009019550867378712, 0.02705865353345871, 0.0721564069390297, 0.02705865353345871, 0.02705865353345871, 0.02705865353345871, 0.02705865353345871, 0.02705865353345871, 0.11640584468841553, 0.3104155957698822, 0.019400974735617638, 0.1552077978849411, 0.019400974735617638, 0.07760389894247055, 0.058202922344207764, 0.038801949471235275, 0.058202922344207764, 0.13580681383609772, 0.33700135350227356, 0.29487618803977966, 0.042125169187784195, 0.08425033837556839, 0.21062584221363068, 0.05727401003241539, 0.11454802006483078, 0.20045903325080872, 0.08591101318597794, 0.028637005016207695, 0.028637005016207695, 0.11454802006483078, 0.05727401003241539, 0.08591101318597794, 0.028637005016207695, 0.20045903325080872, 0.0687221959233284, 0.025770822539925575, 0.060131918638944626, 0.24911795556545258, 0.2662985026836395, 0.060131918638944626, 0.00859027449041605, 0.00859027449041605, 0.18039575219154358, 0.060131918638944626, 0.00859027449041605, 0.26316699385643005, 0.1879764348268509, 0.1879764348268509, 0.03759528696537018, 0.03759528696537018, 0.07519057393074036, 0.1879764348268509, 0.11731179058551788, 0.1353597491979599, 0.22559958696365356, 0.02707195095717907, 0.018047967925667763, 0.02707195095717907, 0.04511991888284683, 0.1263357698917389, 0.04511991888284683, 0.05414390191435814, 0.036095935851335526, 0.009023983962833881, 0.1263357698917389, 0.3827362656593323, 0.46593979001045227, 0.03328141197562218, 0.03328141197562218, 0.03328141197562218, 0.01664070598781109, 0.01664070598781109, 0.5401334166526794, 0.015432382933795452, 0.04629715159535408, 0.26235052943229675, 0.04629715159535408, 0.030864765867590904, 0.030864765867590904, 0.015432382933795452, 0.2640950083732605, 0.03444717451930046, 0.0918591320514679, 0.03827463835477829, 0.11099644750356674, 0.03444717451930046, 0.05549822375178337, 0.040188368409872055, 0.009568659588694572, 0.011482391506433487, 0.10334151983261108, 0.009568659588694572, 0.022964783012866974, 0.009568659588694572, 0.0019137318013235927, 0.022964783012866974, 0.011482391506433487, 0.013396123424172401, 0.05167075991630554, 0.0057411957532167435, 0.0038274636026471853, 0.009568659588694572, 0.01722358725965023, 0.0038274636026471853, 0.0038274636026471853, 0.011482391506433487, 0.007654927205294371, 0.05646565556526184, 0.04234924167394638, 0.02823282778263092, 0.08469848334789276, 0.02823282778263092, 0.04234924167394638, 0.0705820694565773, 0.5364236831665039, 0.08469848334789276, 0.01411641389131546, 0.07668208330869675, 0.11289306730031967, 0.08094219863414764, 0.006390173453837633, 0.18957515060901642, 0.019170520827174187, 0.014910404570400715, 0.03195086866617203, 0.04473121464252472, 0.025560693815350533, 0.03834104165434837, 0.0021300578955560923, 0.017040463164448738, 0.034080926328897476, 0.11502312123775482, 0.0042601157911121845, 0.048991329967975616, 0.012780346907675266, 0.021300578489899635, 0.010650289244949818, 0.06816185265779495, 0.010650289244949818, 0.0042601157911121845, 0.0021300578955560923, 0.0042601157911121845, 0.15319453179836273, 0.07659726589918137, 0.2680904269218445, 0.11489589512348175, 0.03829863294959068, 0.32553836703300476, 0.10534047335386276, 0.02633511833846569, 0.263351172208786, 0.010534047149121761, 0.07373832911252975, 0.06320428103208542, 0.005267023574560881, 0.13694261014461517, 0.05793726071715355, 0.08427237719297409, 0.015801070258021355, 0.005267023574560881, 0.042136188596487045, 0.005267023574560881, 0.03160214051604271, 0.05267023667693138, 0.021068094298243523, 0.6976183652877808, 0.04811161011457443, 0.024055805057287216, 0.12027902901172638, 0.04811161011457443, 0.024055805057287216, 0.04811161011457443, 0.8639846444129944, 0.029792575165629387, 0.059585150331258774, 0.11115316301584244, 0.1778450608253479, 0.46684327721595764, 0.011115316301584244, 0.06669189780950546, 0.05557658150792122, 0.011115316301584244, 0.05557658150792122, 0.022230632603168488, 0.09480898082256317, 0.051713988184928894, 0.051713988184928894, 0.1637609601020813, 0.03447599336504936, 0.06033298745751381, 0.1637609601020813, 0.06033298745751381, 0.01723799668252468, 0.12066597491502762, 0.06895198673009872, 0.00861899834126234, 0.03447599336504936, 0.01723799668252468, 0.03447599336504936, 0.006093362346291542, 0.015233405865728855, 0.6946433186531067, 0.06702698767185211, 0.018280087038874626, 0.009140043519437313, 0.03960685431957245, 0.08530706912279129, 0.05179357901215553, 0.015233405865728855, 0.008649453520774841, 0.025948362424969673, 0.661683201789856, 0.034597814083099365, 0.017298907041549683, 0.012974181212484837, 0.051896724849939346, 0.10379344969987869, 0.06487090140581131, 0.012974181212484837, 0.06759022176265717, 0.1239154115319252, 0.4506014883518219, 0.10138534009456635, 0.2027706801891327, 0.04506015032529831, 0.011265037581324577, 0.10428957641124725, 0.26072394847869873, 0.05214478820562363, 0.06952638179063797, 0.05214478820562363, 0.017381595447659492, 0.08690798282623291, 0.06952638179063797, 0.1216711699962616, 0.13905276358127594, 0.017381595447659492, 0.02313128300011158, 0.04047974571585655, 0.0809594914317131, 0.06361102312803268, 0.005782820750027895, 0.02313128300011158, 0.06361102312803268, 0.06939384341239929, 0.057828206568956375, 0.028914103284478188, 0.005782820750027895, 0.156136155128479, 0.09830795228481293, 0.034696921706199646, 0.04626256600022316, 0.08674231171607971, 0.05204538628458977, 0.06361102312803268, 0.005782820750027895, 0.015595686621963978, 0.15595686435699463, 0.10916981101036072, 0.015595686621963978, 0.14036117494106293, 0.04678706079721451, 0.09357412159442902, 0.15595686435699463, 0.10916981101036072, 0.031191373243927956, 0.12476549297571182, 0.11818813532590866, 0.07879208773374557, 0.33486637473106384, 0.07879208773374557, 0.05909406766295433, 0.25607427954673767, 0.05909406766295433, 0.019698021933436394, 0.10396764427423477, 0.404318630695343, 0.046207841485738754, 0.24259117245674133, 0.011551960371434689, 0.18483136594295502, 0.05430423840880394, 0.07240565121173859, 0.04827043414115906, 0.09654086828231812, 0.006033804267644882, 0.012067608535289764, 0.49477192759513855, 0.15084509551525116, 0.006033804267644882, 0.012067608535289764, 0.042236629873514175, 0.42447516322135925, 0.02829834446310997, 0.11319337785243988, 0.02829834446310997, 0.02829834446310997, 0.02829834446310997, 0.05659668892621994, 0.1980884075164795, 0.02829834446310997, 0.02829834446310997, 0.02829834446310997, 0.18616510927677155, 0.5378103256225586, 0.08274005353450775, 0.062055036425590515, 0.12411007285118103, 0.6209858655929565, 0.19758641719818115, 0.02822663076221943, 0.02822663076221943, 0.05645326152443886, 0.19583842158317566, 0.48959606885910034, 0.09791921079158783, 0.13055895268917084, 0.09791921079158783, 0.06525111943483353, 0.06525111943483353, 0.01631277985870838, 0.21206612884998322, 0.08156389743089676, 0.13050223886966705, 0.01631277985870838, 0.08156389743089676, 0.11418945342302322, 0.16312779486179352, 0.03262555971741676, 0.2834694981575012, 0.1250600665807724, 0.12922874093055725, 0.020843345671892166, 0.07920470833778381, 0.045855358242988586, 0.08754204958677292, 0.020843345671892166, 0.03751802071928978, 0.029180683195590973, 0.03751802071928978, 0.020843345671892166, 0.012506007216870785, 0.016674676910042763, 0.016674676910042763, 0.016674676910042763, 0.004168669227510691, 0.004168669227510691, 0.2901143431663513, 0.19340956211090088, 0.11051974445581436, 0.0690748393535614, 0.05525987222790718, 0.04144490510225296, 0.0690748393535614, 0.15196464955806732, 0.013814968056976795, 0.04187348484992981, 0.029311440885066986, 0.07955962419509888, 0.07537227123975754, 0.025124091655015945, 0.14655719697475433, 0.08793432265520096, 0.020936742424964905, 0.020936742424964905, 0.2763650119304657, 0.05862288177013397, 0.016749395057559013, 0.016749395057559013, 0.020936742424964905, 0.004187348764389753, 0.004187348764389753, 0.012562045827507973, 0.012562045827507973, 0.012562045827507973, 0.025124091655015945, 0.1301104873418808, 0.14637430012226105, 0.0650552436709404, 0.0162638109177351, 0.1301104873418808, 0.0162638109177351, 0.34154000878334045, 0.0162638109177351, 0.0325276218354702, 0.0650552436709404, 0.0325276218354702, 0.7969825863838196, 0.1449059247970581, 0.036226481199264526, 0.3198140263557434, 0.07995350658893585, 0.13325585424900055, 0.0533023402094841, 0.13325585424900055, 0.1599070131778717, 0.0533023402094841, 0.02665117010474205, 0.07600775361061096, 0.17373201251029968, 0.1628737598657608, 0.02171650156378746, 0.02171650156378746, 0.03257475420832634, 0.0542912557721138, 0.0542912557721138, 0.06514950841665268, 0.09772425889968872, 0.02171650156378746, 0.14115726947784424, 0.08686600625514984, 0.1752459704875946, 0.014603830873966217, 0.10222681611776352, 0.21905747056007385, 0.07301915436983109, 0.014603830873966217, 0.04381149262189865, 0.23366129398345947, 0.029207661747932434, 0.04381149262189865, 0.029207661747932434, 0.5742446184158325, 0.08834532648324966, 0.08834532648324966, 0.022086331620812416, 0.022086331620812416, 0.11043166369199753, 0.04417266324162483, 0.022086331620812416, 0.022086331620812416, 0.10950839519500732, 0.07300559431314468, 0.10950839519500732, 0.03650279715657234, 0.03650279715657234, 0.07300559431314468, 0.07300559431314468, 0.4380335807800293, 0.28263068199157715, 0.04037581384181976, 0.16150325536727905, 0.28263068199157715, 0.20187906920909882, 0.012826155871152878, 0.05130462348461151, 0.1154353991150856, 0.1154353991150856, 0.03847846761345863, 0.05130462348461151, 0.05130462348461151, 0.05130462348461151, 0.43608930706977844, 0.012826155871152878, 0.025652311742305756, 0.025652311742305756, 0.07481346279382706, 0.180799201130867, 0.09351682662963867, 0.018703365698456764, 0.09351682662963867, 0.0810479149222374, 0.006234454922378063, 0.012468909844756126, 0.03117227554321289, 0.024937819689512253, 0.19950255751609802, 0.06857900321483612, 0.03117227554321289, 0.006234454922378063, 0.03740673139691353, 0.018703365698456764, 0.024937819689512253, 0.08842737972736359, 0.08842737972736359, 0.324233740568161, 0.05895158648490906, 0.02947579324245453, 0.08842737972736359, 0.08842737972736359, 0.14737896621227264, 0.4703355133533478, 0.2194899022579193, 0.06271140277385712, 0.12542280554771423, 0.03135570138692856, 0.06271140277385712, 0.8440744280815125, 0.09378604590892792, 0.21490062773227692, 0.07163354009389877, 0.14326708018779755, 0.07163354009389877, 0.17908385396003723, 0.10745031386613846, 0.03581677004694939, 0.14326708018779755, 0.941116213798523, 0.02688903547823429, 0.09412001073360443, 0.36792367696762085, 0.11978910863399506, 0.0085563650354743, 0.05133818835020065, 0.0171127300709486, 0.0171127300709486, 0.025669094175100327, 0.04278182238340378, 0.0171127300709486, 0.0085563650354743, 0.2053527534008026, 0.025669094175100327, 0.12792757153511047, 0.3023742735385895, 0.12792757153511047, 0.011629779823124409, 0.046519119292497635, 0.023259559646248817, 0.011629779823124409, 0.011629779823124409, 0.0697786808013916, 0.22096581757068634, 0.0348893404006958, 0.023314964026212692, 0.7274268865585327, 0.0139889782294631, 0.0559559129178524, 0.09325985610485077, 0.08393386751413345, 0.02342117950320244, 0.7260565757751465, 0.014052707701921463, 0.05621083080768585, 0.09368471801280975, 0.08431624621152878, 0.0750807374715805, 0.08342304080724716, 0.008342304266989231, 0.06673843413591385, 0.06673843413591385, 0.058396127074956894, 0.10844995081424713, 0.2836383283138275, 0.06673843413591385, 0.008342304266989231, 0.02502691186964512, 0.02502691186964512, 0.04171152040362358, 0.04171152040362358, 0.008342304266989231, 0.016684608533978462, 0.2482714205980301, 0.02758571319282055, 0.1103428527712822, 0.0827571377158165, 0.0551714263856411, 0.3034428358078003, 0.0827571377158165, 0.0827571377158165, 0.14659921824932098, 0.05330880731344223, 0.059972405433654785, 0.006663600914180279, 0.026654403656721115, 0.10661761462688446, 0.12660841643810272, 0.05330880731344223, 0.03998160362243652, 0.16659002006053925, 0.013327201828360558, 0.03331800177693367, 0.01999080181121826, 0.006663600914180279, 0.013327201828360558, 0.013327201828360558, 0.059972405433654785, 0.06663600355386734, 0.1066351979970932, 0.048470545560121536, 0.009694108739495277, 0.019388217478990555, 0.2132703959941864, 0.009694108739495277, 0.08724697679281235, 0.24235272407531738, 0.11632930487394333, 0.058164652436971664, 0.019388217478990555, 0.029082326218485832, 0.009694108739495277, 0.019388217478990555, 0.009694108739495277, 0.3347218632698059, 0.06085852161049843, 0.09128778427839279, 0.2434340864419937, 0.030429260805249214, 0.06085852161049843, 0.06085852161049843, 0.06085852161049843, 0.030429260805249214, 0.41248178482055664, 0.16499271988868713, 0.08249635994434357, 0.16499271988868713, 0.02062408998608589, 0.02062408998608589, 0.061872269958257675, 0.061872269958257675, 0.5107526183128357, 0.020847046747803688, 0.11465875804424286, 0.03127057105302811, 0.22931751608848572, 0.020847046747803688, 0.010423523373901844, 0.010423523373901844, 0.020847046747803688, 0.010423523373901844, 0.25947827100753784, 0.08649275451898575, 0.6342802047729492, 0.030544867739081383, 0.21381407976150513, 0.061089735478162766, 0.061089735478162766, 0.030544867739081383, 0.030544867739081383, 0.5192627310752869, 0.14514614641666412, 0.015551373362541199, 0.06479738652706146, 0.023327060043811798, 0.0699811801314354, 0.26696524024009705, 0.005183790810406208, 0.038878433406353, 0.023327060043811798, 0.07257307320833206, 0.05183790996670723, 0.020735163241624832, 0.025918954983353615, 0.015551373362541199, 0.054429806768894196, 0.04406222328543663, 0.002591895405203104, 0.012959477491676807, 0.025918954983353615, 0.005183790810406208, 0.015551373362541199, 0.7017982602119446, 0.06683792918920517, 0.2005137950181961, 0.057931385934352875, 0.6951766014099121, 0.09655231237411499, 0.03862092271447182, 0.07724184542894363, 0.01931046135723591, 0.10286114364862442, 0.14338219165802002, 0.07169109582901001, 0.018702026456594467, 0.02181903086602688, 0.031170042231678963, 0.11532916128635406, 0.2244243025779724, 0.05298907309770584, 0.015585021115839481, 0.034287046641111374, 0.006234008353203535, 0.009351013228297234, 0.015585021115839481, 0.034287046641111374, 0.009351013228297234, 0.0031170041766017675, 0.02493603341281414, 0.0031170041766017675, 0.006234008353203535, 0.02181903086602688, 0.0031170041766017675, 0.009351013228297234, 0.015585021115839481, 0.0031170041766017675, 0.8861681222915649, 0.08575820922851562, 0.008352595381438732, 0.1252889335155487, 0.016705190762877464, 0.16705191135406494, 0.041762977838516235, 0.07517335563898087, 0.025057785212993622, 0.016705190762877464, 0.016705190762877464, 0.08352595567703247, 0.07517335563898087, 0.10023114085197449, 0.10858374089002609, 0.05846816673874855, 0.03341038152575493, 0.008352595381438732, 0.050115570425987244, 0.16929861903190613, 0.16929861903190613, 0.2539479434490204, 0.04232465475797653, 0.1269739717245102, 0.04232465475797653, 0.04232465475797653, 0.08464930951595306, 0.16663968563079834, 0.016663968563079834, 0.6832227110862732, 0.06665587425231934, 0.03332793712615967, 0.03332793712615967, 0.10378285497426987, 0.23351143300533295, 0.18162000179290771, 0.07783713936805725, 0.051891427487134933, 0.311348557472229, 0.025945713743567467, 0.025945713743567467, 0.029651518911123276, 0.0720108300447464, 0.05930303782224655, 0.02117965742945671, 0.05930303782224655, 0.08048269897699356, 0.03388744965195656, 0.08048269897699356, 0.08471862971782684, 0.01694372482597828, 0.012707794085144997, 0.00423593120649457, 0.03388744965195656, 0.01694372482597828, 0.05506710708141327, 0.00423593120649457, 0.02117965742945671, 0.10589828342199326, 0.00423593120649457, 0.1186060756444931, 0.02117965742945671, 0.00423593120649457, 0.02117965742945671, 0.01694372482597828, 0.012707794085144997, 0.00423593120649457, 0.2514422535896301, 0.09174244850873947, 0.06795737147331238, 0.0033978684805333614, 0.13931261003017426, 0.010193604975938797, 0.08154883980751038, 0.03397868573665619, 0.07475310564041138, 0.023785078898072243, 0.11212965846061707, 0.010193604975938797, 0.03397868573665619, 0.02718294784426689, 0.010193604975938797, 0.023785078898072243, 0.0605737566947937, 0.09590844810009003, 0.08581282198429108, 0.035334691405296326, 0.025239065289497375, 0.05047813057899475, 0.025239065289497375, 0.005047813057899475, 0.2675341069698334, 0.0201912522315979, 0.05047813057899475, 0.12619532644748688, 0.015143439173698425, 0.005047813057899475, 0.035334691405296326, 0.005047813057899475, 0.06562156975269318, 0.01009562611579895, 0.09005659818649292, 0.0975613072514534, 0.10506602376699448, 0.04502829909324646, 0.04502829909324646, 0.05253301188349724, 0.12007545679807663, 0.07504716515541077, 0.04502829909324646, 0.015009432099759579, 0.03752358257770538, 0.03752358257770538, 0.015009432099759579, 0.007504716049879789, 0.015009432099759579, 0.04502829909324646, 0.030018864199519157, 0.007504716049879789, 0.030018864199519157, 0.06754244863986969, 0.013286318629980087, 0.11957686394453049, 0.15943582355976105, 0.13286317884922028, 0.398589551448822, 0.013286318629980087, 0.026572637259960175, 0.05314527451992035, 0.03985895588994026, 0.013286318629980087, 0.026572637259960175, 0.09447047859430313, 0.35898783802986145, 0.018894096836447716, 0.13225866854190826, 0.170046865940094, 0.03778819367289543, 0.018894096836447716, 0.056682288646698, 0.018894096836447716, 0.056682288646698, 0.018894096836447716, 0.4254228472709656, 0.11453691869974136, 0.016362417489290237, 0.032724834978580475, 0.14726175367832184, 0.016362417489290237, 0.22907383739948273, 0.4419814646244049, 0.18942062556743622, 0.07366357743740082, 0.06314020603895187, 0.16837388277053833, 0.05261683836579323, 0.00976165197789669, 0.4099893867969513, 0.0488082617521286, 0.07809321582317352, 0.11713983118534088, 0.06833156943321228, 0.01952330395579338, 0.1464247852563858, 0.07809321582317352, 0.00976165197789669, 0.02395111322402954, 0.02395111322402954, 0.1676577925682068, 0.21556001901626587, 0.19160890579223633, 0.1676577925682068, 0.07185333967208862, 0.02395111322402954, 0.09580445289611816, 0.308614045381546, 0.03086140565574169, 0.06172281131148338, 0.12344562262296677, 0.06172281131148338, 0.06172281131148338, 0.03086140565574169, 0.24689124524593353, 0.03086140565574169, 0.380127876996994, 0.24189956486225128, 0.06911416351795197, 0.27645665407180786, 0.18087905645370483, 0.06782964617013931, 0.09043952822685242, 0.15826918184757233, 0.11304941028356552, 0.09043952822685242, 0.06782964617013931, 0.20348894596099854, 0.022609882056713104, 0.15428732335567474, 0.1085725650191307, 0.051429107785224915, 0.045714765787124634, 0.09142953157424927, 0.17143036425113678, 0.005714345723390579, 0.022857382893562317, 0.06857214868068695, 0.045714765787124634, 0.022857382893562317, 0.022857382893562317, 0.09714387357234955, 0.017143037170171738, 0.005714345723390579, 0.034286074340343475, 0.005714345723390579, 0.022857382893562317, 0.09740782529115677, 0.22264645993709564, 0.06957701593637466, 0.16698484122753143, 0.2922234833240509, 0.04174621030688286, 0.06957701593637466, 0.027830807492136955, 0.12304698675870895, 0.615234911441803, 0.12304698675870895, 0.03076174668967724, 0.03076174668967724, 0.03076174668967724, 0.1679365485906601, 0.18892861902713776, 0.18892861902713776, 0.020992068573832512, 0.041984137147665024, 0.12595240771770477, 0.14694447815418243, 0.020992068573832512, 0.08396827429533005, 0.27026963233947754, 0.16891852021217346, 0.3378370404243469, 0.10135111212730408, 0.10135111212730408, 0.03378370404243469, 0.4865235686302185, 0.02560650371015072, 0.10242601484060287, 0.05121300742030144, 0.02560650371015072, 0.02560650371015072, 0.2560650408267975, 0.23856721818447113, 0.11566895991563797, 0.4626758396625519, 0.014458619989454746, 0.021687930449843407, 0.04337586089968681, 0.0506051704287529, 0.007229309994727373, 0.04337586089968681, 0.2813262641429901, 0.13640061020851135, 0.4347769320011139, 0.01705007627606392, 0.00852503813803196, 0.05967526510357857, 0.00852503813803196, 0.05115022882819176, 0.1335543841123581, 0.0534217543900013, 0.2136870175600052, 0.28046420216560364, 0.09348807483911514, 0.20033158361911774, 0.02671087719500065, 0.024041274562478065, 0.07212382555007935, 0.2884953022003174, 0.21637147665023804, 0.024041274562478065, 0.21637147665023804, 0.1442476511001587, 0.686090350151062, 0.0571741946041584, 0.0571741946041584, 0.0571741946041584, 0.0571741946041584, 0.0285870973020792, 0.05228571966290474, 0.5646857619285583, 0.03137143328785896, 0.20914287865161896, 0.03137143328785896, 0.06274286657571793, 0.03137143328785896, 0.010457144118845463, 0.10958752781152725, 0.6209959983825684, 0.20091046392917633, 0.018264587968587875, 0.054793763905763626, 0.12068653106689453, 0.49998703598976135, 0.0862046629190445, 0.0862046629190445, 0.051722798496484756, 0.0862046629190445, 0.051722798496484756, 0.8377591967582703, 0.13368497788906097, 0.008912332355976105, 0.008912332355976105, 0.19061492383480072, 0.016222547739744186, 0.06489019095897675, 0.008111273869872093, 0.04461200535297394, 0.008111273869872093, 0.15411420166492462, 0.17439238727092743, 0.0932796448469162, 0.02027818374335766, 0.03244509547948837, 0.02433382160961628, 0.02433382160961628, 0.02838945761322975, 0.016222547739744186, 0.008111273869872093, 0.03244509547948837, 0.01216691080480814, 0.01216691080480814, 0.02027818374335766, 0.008111273869872093, 0.218623086810112, 0.036437179893255234, 0.25506025552749634, 0.24595096707344055, 0.027327885851264, 0.04554647579789162, 0.07287435978651047, 0.07287435978651047, 0.1755257099866867, 0.1053154245018959, 0.2457360029220581, 0.1053154245018959, 0.0702102854847908, 0.1404205709695816, 0.1404205709695816, 0.24424539506435394, 0.3838141858577728, 0.03489220142364502, 0.20935319364070892, 0.10467659682035446, 0.16775062680244446, 0.10484413802623749, 0.10484413802623749, 0.3355012536048889, 0.041937656700611115, 0.041937656700611115, 0.06290648132562637, 0.041937656700611115, 0.041937656700611115, 0.020968828350305557, 0.248516246676445, 0.11469980329275131, 0.057349901646375656, 0.1338164359331131, 0.07646653801202774, 0.057349901646375656, 0.019116634503006935, 0.03823326900601387, 0.09558317065238953, 0.019116634503006935, 0.057349901646375656, 0.09558317065238953, 0.16092197597026825, 0.16092197597026825, 0.08046098798513412, 0.08046098798513412, 0.3218439519405365, 0.12069147825241089, 0.1102406308054924, 0.1653609424829483, 0.13780078291893005, 0.30316174030303955, 0.0275601577013731, 0.1102406308054924, 0.0551203154027462, 0.0551203154027462, 0.13238807022571564, 0.22064678370952606, 0.2647761404514313, 0.08825871348381042, 0.04412935674190521, 0.13238807022571564, 0.022064678370952606, 0.06619403511285782, 0.09211063385009766, 0.12281417101621628, 0.1842212677001953, 0.09211063385009766, 0.24562834203243256, 0.06140708550810814, 0.12281417101621628, 0.06140708550810814, 0.1119205504655838, 0.18653424084186554, 0.14922739565372467, 0.07461369782686234, 0.14922739565372467, 0.2238411009311676, 0.03730684891343117, 0.03730684891343117, 0.18930186331272125, 0.2103354036808014, 0.04206708073616028, 0.08413416147232056, 0.08413416147232056, 0.04206708073616028, 0.1051677018404007, 0.02103354036808014, 0.02103354036808014, 0.1051677018404007, 0.06310062110424042, 0.0945722907781601, 0.3152409791946411, 0.03152409568428993, 0.03152409568428993, 0.03152409568428993, 0.0945722907781601, 0.03152409568428993, 0.03152409568428993, 0.15762048959732056, 0.0945722907781601, 0.03152409568428993, 0.055622685700654984, 0.17084111273288727, 0.011919147334992886, 0.20659855008125305, 0.06356878578662872, 0.003973049111664295, 0.11124537140130997, 0.0397304892539978, 0.0993262231349945, 0.02383829466998577, 0.03575744107365608, 0.011919147334992886, 0.04767658933997154, 0.01589219644665718, 0.00794609822332859, 0.055622685700654984, 0.0198652446269989, 0.00794609822332859, 0.003973049111664295, 0.6530615091323853, 0.1632653772830963, 0.054421789944171906, 0.10884357988834381, 0.027210894972085953, 0.07805421948432922, 0.15610843896865845, 0.23416265845298767, 0.07805421948432922, 0.07805421948432922, 0.03902710974216461, 0.23416265845298767, 0.03902710974216461, 0.12165476381778717, 0.03475850448012352, 0.13903401792049408, 0.5387568473815918, 0.06951700896024704, 0.08689626306295395, 0.6695060729980469, 0.06866728514432907, 0.017166821286082268, 0.034333642572164536, 0.05150046572089195, 0.017166821286082268, 0.06866728514432907, 0.017166821286082268, 0.05150046572089195, 0.0336926132440567, 0.10107783228158951, 0.0336926132440567, 0.16846305131912231, 0.10107783228158951, 0.0336926132440567, 0.0673852264881134, 0.0336926132440567, 0.0336926132440567, 0.1347704529762268, 0.0673852264881134, 0.1347704529762268, 0.4472023844718933, 0.025554420426487923, 0.051108840852975845, 0.33220747113227844, 0.025554420426487923, 0.03833163157105446, 0.012777210213243961, 0.06388605386018753, 0.003068744670599699, 0.06137489154934883, 0.0920623391866684, 0.08285610377788544, 0.049099914729595184, 0.03375619277358055, 0.058306146413087845, 0.030687445774674416, 0.012274978682398796, 0.012274978682398796, 0.08592484891414642, 0.3436993956565857, 0.006137489341199398, 0.015343722887337208, 0.030687445774674416, 0.012274978682398796, 0.015343722887337208, 0.02761870250105858, 0.00920623354613781, 0.012274978682398796, 0.003068744670599699, 0.06841741502285004, 0.012439530342817307, 0.05597788840532303, 0.04353835806250572, 0.01865929551422596, 0.031098825857043266, 0.10573600977659225, 0.5970974564552307, 0.006219765171408653, 0.024879060685634613, 0.006219765171408653, 0.012439530342817307, 0.012439530342817307, 0.020617330446839333, 0.041234660893678665, 0.020617330446839333, 0.08246932178735733, 0.26802530884742737, 0.041234660893678665, 0.14432132244110107, 0.10308665037155151, 0.06185199320316315, 0.14432132244110107, 0.041234660893678665, 0.0997278168797493, 0.518584668636322, 0.06980947405099869, 0.03989112749695778, 0.009972781874239445, 0.05983668938279152, 0.0997278168797493, 0.04986390843987465, 0.03989112749695778, 0.12621930241584778, 0.021036550402641296, 0.10518275201320648, 0.21036550402641296, 0.04207310080528259, 0.08414620161056519, 0.04207310080528259, 0.06310965120792389, 0.18932895362377167, 0.021036550402641296, 0.04207310080528259, 0.04207310080528259, 0.21679556369781494, 0.03613259643316269, 0.10839778184890747, 0.46972373127937317, 0.10839778184890747, 0.03613259643316269, 0.1341029554605484, 0.11003319919109344, 0.14098003506660461, 0.020631223917007446, 0.051578063517808914, 0.017192687839269638, 0.06189367547631264, 0.2578903138637543, 0.020631223917007446, 0.00687707494944334, 0.04126244783401489, 0.034385375678539276, 0.01375414989888668, 0.020631223917007446, 0.00687707494944334, 0.017192687839269638, 0.020631223917007446, 0.020631223917007446, 0.00343853747472167, 0.4141189455986023, 0.338824599981308, 0.15058870613574982, 0.037647176533937454, 0.05026024952530861, 0.05026024952530861, 0.628253161907196, 0.22617113590240479, 0.11413828283548355, 0.09701754152774811, 0.11413828283548355, 0.08560371398925781, 0.05136222764849663, 0.01141382846981287, 0.06848297268152237, 0.04565531387925148, 0.028534570708870888, 0.005706914234906435, 0.1084313690662384, 0.07989680022001266, 0.04565531387925148, 0.03994840011000633, 0.03994840011000633, 0.02282765693962574, 0.028534570708870888, 0.01141382846981287, 0.0012364400317892432, 0.010509740561246872, 0.01854659989476204, 0.35362184047698975, 0.1928846389055252, 0.11251604557037354, 0.005563979968428612, 0.013600840233266354, 0.003091100137680769, 0.0006182200158946216, 0.0012364400317892432, 0.0012364400317892432, 0.059967342764139175, 0.03647498041391373, 0.0698588639497757, 0.001854659989476204, 0.04265718162059784, 0.008036860264837742, 0.017310161143541336, 0.02905634045600891, 0.016691939905285835, 0.001854659989476204, 0.0012364400317892432, 0.4013284742832184, 0.18598148226737976, 0.12072482705116272, 0.0032628332264721394, 0.0750451609492302, 0.03915399685502052, 0.0750451609492302, 0.05220533162355423, 0.0032628332264721394, 0.013051332905888557, 0.029365498572587967, 0.4044995605945587, 0.19261884689331055, 0.11557130515575409, 0.006420628167688847, 0.07062690705060959, 0.03852376714348793, 0.07704753428697586, 0.05136502534151077, 0.012841256335377693, 0.03210313990712166, 0.407492995262146, 0.17463985085487366, 0.08731992542743683, 0.048511069267988205, 0.009702214039862156, 0.07761771231889725, 0.029106641188263893, 0.019404428079724312, 0.048511069267988205, 0.08731992542743683, 0.009702214039862156, 0.4032553434371948, 0.1886194348335266, 0.11707413196563721, 0.0715453028678894, 0.0390247106552124, 0.0780494213104248, 0.0520329475402832, 0.0130082368850708, 0.032520592212677, 0.15154513716697693, 0.013776831328868866, 0.13776831328868866, 0.4959659278392792, 0.027553662657737732, 0.0826609879732132, 0.055107325315475464, 0.027553662657737732, 0.013776831328868866, 0.09872141480445862, 0.024680353701114655, 0.2221231758594513, 0.12340176850557327, 0.3208445906639099, 0.07404106110334396, 0.04936070740222931, 0.024680353701114655, 0.024680353701114655, 0.024680353701114655, 0.1566748470067978, 0.20143909752368927, 0.02238212153315544, 0.02238212153315544, 0.06714636832475662, 0.47002455592155457, 0.06714636832475662, 0.10440294444561005, 0.02088058926165104, 0.02088058926165104, 0.02088058926165104, 0.02088058926165104, 0.04176117852330208, 0.43849238753318787, 0.29232823848724365, 0.5323905944824219, 0.08873176574707031, 0.26619529724121094, 0.012675966136157513, 0.05070386454463005, 0.025351932272315025, 0.8820536136627197, 0.028453342616558075, 0.05690668523311615, 0.3582874834537506, 0.03257158771157265, 0.19542953372001648, 0.16285794973373413, 0.03257158771157265, 0.16285794973373413, 0.1447269171476364, 0.0361817292869091, 0.10854518413543701, 0.21709036827087402, 0.0723634585738182, 0.10854518413543701, 0.0723634585738182, 0.1447269171476364, 0.0361817292869091, 0.0361817292869091, 0.5044254064559937, 0.07566381245851517, 0.07566381245851517, 0.10088507831096649, 0.07566381245851517, 0.07566381245851517, 0.025221269577741623, 0.025221269577741623, 0.025221269577741623, 0.051427822560071945, 0.03428521379828453, 0.03428521379828453, 0.051427822560071945, 0.017142606899142265, 0.3257095515727997, 0.10285564512014389, 0.06857042759656906, 0.017142606899142265, 0.08571303635835648, 0.06857042759656906, 0.08571303635835648, 0.03428521379828453, 0.017142606899142265, 0.20349439978599548, 0.05549847334623337, 0.01849948987364769, 0.09249745309352875, 0.01849948987364769, 0.03699897974729538, 0.05549847334623337, 0.1849949061870575, 0.01849948987364769, 0.03699897974729538, 0.1664954125881195, 0.09249745309352875, 0.06244925037026405, 0.031224625185132027, 0.07806156575679779, 0.09367387741804123, 0.015612312592566013, 0.046836938709020615, 0.031224625185132027, 0.046836938709020615, 0.046836938709020615, 0.5152063369750977, 0.015612312592566013, 0.015612312592566013, 0.015612312592566013, 0.06634946167469025, 0.01658736541867256, 0.7563838958740234, 0.0033174732234328985, 0.0033174732234328985, 0.0033174732234328985, 0.14928629994392395, 0.10249879211187363, 0.0918218344449997, 0.06833253055810928, 0.025624698027968407, 0.07900948822498322, 0.010676957666873932, 0.10676957666873932, 0.0298954825848341, 0.16442514955997467, 0.012812349013984203, 0.00427078315988183, 0.04057243838906288, 0.0298954825848341, 0.01708313263952732, 0.006406174506992102, 0.006406174506992102, 0.002135391579940915, 0.01494774129241705, 0.010676957666873932, 0.02348930761218071, 0.09609261900186539, 0.0298954825848341, 0.010676957666873932, 0.002135391579940915, 0.002135391579940915, 0.010676957666873932, 0.26168277859687805, 0.5046738982200623, 0.07476650178432465, 0.0934581309556961, 0.01869162544608116, 0.03738325089216232, 0.08063117414712906, 0.3328620195388794, 0.334929496049881, 0.08063117414712906, 0.022742126137018204, 0.010337329469621181, 0.043416786938905716, 0.026877056807279587, 0.01653972826898098, 0.004134932067245245, 0.026877056807279587, 0.004134932067245245, 0.0020674660336226225, 0.004134932067245245, 0.006202397868037224, 0.006202397868037224, 0.024603595957159996, 0.07381078600883484, 0.22143235802650452, 0.34445032477378845, 0.04920719191431999, 0.2706395387649536, 0.07950157672166824, 0.06956388056278229, 0.01987539418041706, 0.029813090339303017, 0.6260749101638794, 0.00993769709020853, 0.029813090339303017, 0.03975078836083412, 0.0894392728805542, 0.19492638111114502, 0.29238957166671753, 0.12995092570781708, 0.06497546285390854, 0.06497546285390854, 0.2274141162633896, 0.5196653604507446, 0.22271372377872467, 0.22271372377872467, 0.31066301465034485, 0.15533150732517242, 0.15533150732517242, 0.04438043013215065, 0.11095108091831207, 0.19971193373203278, 0.022190215066075325, 0.11879666149616241, 0.03959888592362404, 0.15839554369449615, 0.03959888592362404, 0.11879666149616241, 0.03959888592362404, 0.4355877637863159, 0.2033654749393463, 0.07626205682754517, 0.12710341811180115, 0.10168273746967316, 0.38131028413772583, 0.05084136873483658, 0.02542068436741829, 0.006241784896701574, 0.006241784896701574, 0.13731926679611206, 0.12483569234609604, 0.043692491948604584, 0.11859390884637833, 0.08114320039749146, 0.006241784896701574, 0.012483569793403149, 0.12483569234609604, 0.3245728015899658, 0.006241784896701574, 0.006241784896701574, 0.20756328105926514, 0.1482594907283783, 0.20756328105926514, 0.08895569294691086, 0.05930379405617714, 0.17791138589382172, 0.05930379405617714, 0.03568002209067345, 0.03568002209067345, 0.05946670472621918, 0.01189334038645029, 0.2259734719991684, 0.2854401767253876, 0.02378668077290058, 0.04757336154580116, 0.01189334038645029, 0.08325338363647461, 0.05946670472621918, 0.01189334038645029, 0.05946670472621918, 0.02378668077290058, 0.01556270383298397, 0.21009649336338043, 0.3579421937465668, 0.13228298723697662, 0.01556270383298397, 0.09337621927261353, 0.007781351916491985, 0.07003216445446014, 0.04668810963630676, 0.02334405481815338, 0.007781351916491985, 0.01556270383298397, 0.4840288460254669, 0.04033573716878891, 0.28235018253326416, 0.12100721150636673, 0.7829012274742126, 0.09210602939128876, 0.09210602939128876, 0.212042436003685, 0.14679861068725586, 0.06524382531642914, 0.17942051589488983, 0.03262191265821457, 0.048932868987321854, 0.048932868987321854, 0.048932868987321854, 0.212042436003685, 0.1022462546825409, 0.006390390917658806, 0.019171172752976418, 0.019171172752976418, 0.2172732800245285, 0.038342345505952835, 0.07668469101190567, 0.038342345505952835, 0.025561563670635223, 0.13419820368289948, 0.1150270327925682, 0.07668469101190567, 0.019171172752976418, 0.025561563670635223, 0.05112312734127045, 0.025561563670635223, 0.10742689669132233, 0.11510024219751358, 0.14579364657402039, 0.14579364657402039, 0.04604009911417961, 0.061386797577142715, 0.02685672417283058, 0.015346699394285679, 0.06906014680862427, 0.030693398788571358, 0.015346699394285679, 0.030693398788571358, 0.0038366748485714197, 0.030693398788571358, 0.007673349697142839, 0.011510024778544903, 0.011510024778544903, 0.034530073404312134, 0.015346699394285679, 0.015346699394285679, 0.015346699394285679, 0.0038366748485714197, 0.042203422635793686, 0.03522985428571701, 0.4227582514286041, 0.10568956285715103, 0.03522985428571701, 0.03522985428571701, 0.07045970857143402, 0.24660897254943848, 0.03522985428571701, 0.07588395476341248, 0.01422824151813984, 0.07114120572805405, 0.2086808681488037, 0.00474274717271328, 0.0237137358635664, 0.07588395476341248, 0.1422824114561081, 0.12331142276525497, 0.05691296607255936, 0.04268472269177437, 0.0806267037987709, 0.03794197738170624, 0.00474274717271328, 0.0237137358635664, 0.00948549434542656, 0.052307095378637314, 0.07846064865589142, 0.19615161418914795, 0.4969174265861511, 0.06538387387990952, 0.03923032432794571, 0.026153547689318657, 0.026153547689318657, 0.21410968899726868, 0.4866129457950592, 0.25952690839767456, 0.03244086354970932, 0.11260275542736053, 0.04021526873111725, 0.06434442847967148, 0.03217221423983574, 0.12064580619335175, 0.06434442847967148, 0.01608610711991787, 0.13673190772533417, 0.06434442847967148, 0.03217221423983574, 0.008043053559958935, 0.10455969721078873, 0.008043053559958935, 0.01608610711991787, 0.008043053559958935, 0.01608610711991787, 0.01608610711991787, 0.04825832322239876, 0.04825832322239876, 0.03217221423983574, 0.514576256275177, 0.042881350964307785, 0.05717513710260391, 0.014293784275650978, 0.05717513710260391, 0.07146891951560974, 0.014293784275650978, 0.05717513710260391, 0.05717513710260391, 0.05717513710260391, 0.028587568551301956, 0.014293784275650978, 0.018821701407432556, 0.09410850703716278, 0.338790625333786, 0.5081859230995178, 0.018821701407432556, 0.0205222200602293, 0.0205222200602293, 0.061566658318042755, 0.5746221542358398, 0.10261109471321106, 0.0410444401204586, 0.0410444401204586, 0.061566658318042755, 0.0410444401204586, 0.01979122683405876, 0.0329853780567646, 0.00989561341702938, 0.026388302445411682, 0.056075140833854675, 0.0329853780567646, 0.056075140833854675, 0.2869727909564972, 0.15173272788524628, 0.049478065222501755, 0.0032985378056764603, 0.0626722127199173, 0.03958245366811752, 0.023089764639735222, 0.029686838388442993, 0.0329853780567646, 0.029686838388442993, 0.0164926890283823, 0.00989561341702938, 0.0032985378056764603, 0.026388302445411682, 0.015242576599121094, 0.16766834259033203, 0.12194061279296875, 0.015242576599121094, 0.015242576599121094, 0.38106441497802734, 0.07621288299560547, 0.030485153198242188, 0.030485153198242188, 0.04572772979736328, 0.030485153198242188, 0.030485153198242188, 0.015242576599121094, 0.12430114299058914, 0.06215057149529457, 0.10358428210020065, 0.02071685716509819, 0.1139427125453949, 0.04143371433019638, 0.03625449910759926, 0.10876350104808807, 0.02071685716509819, 0.0673297867178917, 0.025896070525050163, 0.005179214291274548, 0.06215057149529457, 0.02071685716509819, 0.010358428582549095, 0.07768820971250534, 0.015537642873823643, 0.07250899821519852, 0.005179214291274548, 0.11376465857028961, 0.11376465857028961, 0.08532349020242691, 0.014220582321286201, 0.17064698040485382, 0.014220582321286201, 0.07110290974378586, 0.07110290974378586, 0.014220582321286201, 0.15642639994621277, 0.014220582321286201, 0.014220582321286201, 0.08532349020242691, 0.056882329285144806, 0.02540937438607216, 0.04658385366201401, 0.055053647607564926, 0.004234896041452885, 0.07199323177337646, 0.03811406344175339, 0.20750989019870758, 0.13975156843662262, 0.1270468682050705, 0.00846979208290577, 0.01693958416581154, 0.02540937438607216, 0.04658385366201401, 0.055053647607564926, 0.004234896041452885, 0.01270468719303608, 0.01270468719303608, 0.04658385366201401, 0.01693958416581154, 0.01693958416581154, 0.02540937438607216, 0.004234896041452885, 0.582648515701294, 0.08739727735519409, 0.009710808284580708, 0.22334860265254974, 0.058264851570129395, 0.019421616569161415, 0.6682819724082947, 0.05477721244096756, 0.24101974070072174, 0.021910885348916054, 0.06701522320508957, 0.06701522320508957, 0.30156850814819336, 0.10052283108234406, 0.06701522320508957, 0.033507611602544785, 0.10052283108234406, 0.033507611602544785, 0.13403044641017914, 0.033507611602544785, 0.02351798117160797, 0.06271461397409439, 0.007839326746761799, 0.2273404747247696, 0.08623259514570236, 0.05487528815865517, 0.031357306987047195, 0.015678653493523598, 0.14110788702964783, 0.07839326560497284, 0.02351798117160797, 0.07839326560497284, 0.031357306987047195, 0.03919663280248642, 0.02351798117160797, 0.03919663280248642, 0.02351798117160797, 0.007839326746761799, 0.04056419059634209, 0.11357973515987396, 0.046648818999528885, 0.05881807580590248, 0.15414391458034515, 0.06693091243505478, 0.03245135024189949, 0.008112837560474873, 0.016225675120949745, 0.016225675120949745, 0.024338513612747192, 0.04056419059634209, 0.002028209390118718, 0.014197466894984245, 0.020282095298171043, 0.05881807580590248, 0.07910016924142838, 0.03853597864508629, 0.022310303524136543, 0.010141047649085522, 0.03245135024189949, 0.06895912438631058, 0.006084628403186798, 0.010141047649085522, 0.010141047649085522, 0.008112837560474873, 0.002028209390118718, 0.5024936199188232, 0.08374893665313721, 0.055832624435424805, 0.055832624435424805, 0.11166524887084961, 0.027916312217712402, 0.139581561088562, 0.12877260148525238, 0.15023469924926758, 0.06438630074262619, 0.021462101489305496, 0.08584840595722198, 0.4721662104129791, 0.04292420297861099, 0.021462101489305496, 0.14074648916721344, 0.16420423984527588, 0.07037324458360672, 0.09383099526166916, 0.4691549837589264, 0.04691549763083458, 0.15837788581848145, 0.07918894290924072, 0.026396315544843674, 0.05279263108968735, 0.07918894290924072, 0.34315210580825806, 0.07918894290924072, 0.05279263108968735, 0.026396315544843674, 0.05279263108968735, 0.08070054650306702, 0.03842883184552193, 0.08454342931509018, 0.14602956175804138, 0.03842883184552193, 0.023057298734784126, 0.023057298734784126, 0.023057298734784126, 0.00384288327768445, 0.049957480281591415, 0.08070054650306702, 0.023057298734784126, 0.00384288327768445, 0.19214415550231934, 0.0307430662214756, 0.02690018340945244, 0.023057298734784126, 0.0076857665553689, 0.0076857665553689, 0.049957480281591415, 0.00384288327768445, 0.019214415922760963, 0.0153715331107378, 0.5030019879341125, 0.06287524849176407, 0.22006335854530334, 0.031437624245882034, 0.06287524849176407, 0.12575049698352814, 0.5871331691741943, 0.022582044824957848, 0.1354922652244568, 0.1354922652244568, 0.045164089649915695, 0.022582044824957848, 0.022582044824957848, 0.07537469267845154, 0.07537469267845154, 0.13818693161010742, 0.050249792635440826, 0.06281223893165588, 0.07537469267845154, 0.050249792635440826, 0.06281223893165588, 0.12562447786331177, 0.16331182420253754, 0.012562448158860207, 0.025124896317720413, 0.06281223893165588, 0.29910314083099365, 0.26586946845054626, 0.03323368355631828, 0.1661684215068817, 0.06646736711263657, 0.1661684215068817, 0.02221430279314518, 0.04442860558629036, 0.18511919677257538, 0.04442860558629036, 0.037023838609457016, 0.007404767908155918, 0.007404767908155918, 0.04442860558629036, 0.4813098907470703, 0.014809535816311836, 0.037023838609457016, 0.037023838609457016, 0.02221430279314518, 0.01779085211455822, 0.10674511641263962, 0.16011767089366913, 0.01779085211455822, 0.01779085211455822, 0.16011767089366913, 0.07116340845823288, 0.07116340845823288, 0.08895426243543625, 0.16011767089366913, 0.05337255820631981, 0.05337255820631981, 0.03558170422911644, 0.5224860310554504, 0.13932959735393524, 0.03483239933848381, 0.06966479867696762, 0.10449720174074173, 0.03483239933848381, 0.03483239933848381, 0.06940826773643494, 0.10593893378973007, 0.0328775979578495, 0.0547959990799427, 0.065755195915699, 0.10228586196899414, 0.018265333026647568, 0.014612266793847084, 0.10228586196899414, 0.0547959990799427, 0.02191839925944805, 0.036530666053295135, 0.02191839925944805, 0.0328775979578495, 0.0328775979578495, 0.065755195915699, 0.06940826773643494, 0.003653066698461771, 0.0328775979578495, 0.0547959990799427, 0.22932414710521698, 0.05096092075109482, 0.05096092075109482, 0.06370115280151367, 0.12740230560302734, 0.012740230187773705, 0.07644138485193253, 0.2548046112060547, 0.05096092075109482, 0.012740230187773705, 0.07644138485193253, 0.1490572690963745, 0.0124214394018054, 0.0248428788036108, 0.3105359971523285, 0.06210719794034958, 0.07452863454818726, 0.06210719794034958, 0.0496857576072216, 0.12421439588069916, 0.0248428788036108, 0.06210719794034958, 0.0124214394018054, 0.0124214394018054, 0.11762087792158127, 0.15682783722877502, 0.23524175584316254, 0.07841391861438751, 0.039206959307193756, 0.2744487226009369, 0.039206959307193756, 0.039206959307193756, 0.09307890385389328, 0.0797819197177887, 0.05318794772028923, 0.2260487675666809, 0.18615780770778656, 0.21275179088115692, 0.05318794772028923, 0.013296986930072308, 0.06648493558168411, 0.04596324265003204, 0.11490810662508011, 0.04596324265003204, 0.27577945590019226, 0.09192648530006409, 0.04596324265003204, 0.3217426836490631, 0.02298162132501602, 0.02298162132501602, 0.32341986894607544, 0.545771062374115, 0.10106871277093887, 0.2220936119556427, 0.09518297761678696, 0.3807319104671478, 0.03172765672206879, 0.06345531344413757, 0.03172765672206879, 0.09518297761678696, 0.03172765672206879, 0.1608157604932785, 0.1608157604932785, 0.037838999181985855, 0.05202862620353699, 0.061488375067710876, 0.19865475594997406, 0.009459749795496464, 0.0425688773393631, 0.004729874897748232, 0.06621824949979782, 0.009459749795496464, 0.05675850063562393, 0.07094812393188477, 0.004729874897748232, 0.03310912474989891, 0.018919499590992928, 0.014189625158905983, 0.004040534608066082, 0.02626347541809082, 0.05656748265028, 0.07677015662193298, 0.020202672109007835, 0.5212289690971375, 0.020202672109007835, 0.020202672109007835, 0.008081069216132164, 0.002020267304033041, 0.016162138432264328, 0.020202672109007835, 0.1798037886619568, 0.022222939878702164, 0.04165901616215706, 0.04165901616215706, 0.14580655097961426, 0.09373278170824051, 0.14580655097961426, 0.06248852238059044, 0.010414754040539265, 0.02082950808107853, 0.3124426305294037, 0.05207376927137375, 0.02082950808107853, 0.03124426119029522, 0.08572013676166534, 0.08572013676166534, 0.32145050168037415, 0.06429009884595871, 0.06429009884595871, 0.021430034190416336, 0.04286006838083267, 0.08572013676166534, 0.10715016722679138, 0.021430034190416336, 0.06429009884595871, 0.09732100367546082, 0.20680713653564453, 0.07299075275659561, 0.08515587449073792, 0.36495375633239746, 0.06082562729716301, 0.07299075275659561, 0.024330250918865204, 0.09792063385248184, 0.15884903073310852, 0.08051252365112305, 0.002176014008000493, 0.006528042256832123, 0.06310440599918365, 0.002176014008000493, 0.40256261825561523, 0.006528042256832123, 0.013056084513664246, 0.05657636746764183, 0.02611216902732849, 0.008704056032001972, 0.004352028016000986, 0.01958412677049637, 0.03699224069714546, 0.006528042256832123, 0.008704056032001972, 0.08688909560441971, 0.37651941180229187, 0.3185933530330658, 0.08688909560441971, 0.05792606621980667, 0.028963033109903336, 0.018305128440260887, 0.036610256880521774, 0.09152563661336899, 0.18305127322673798, 0.2013564109802246, 0.09152563661336899, 0.3294923007488251, 0.018305128440260887, 0.17962156236171722, 0.10777293890714645, 0.2514701783657074, 0.10777293890714645, 0.32331880927085876, 0.012015455402433872, 0.06728655099868774, 0.060077276080846786, 0.11534837633371353, 0.028837094083428383, 0.04325563833117485, 0.0865112766623497, 0.10333291441202164, 0.07209273427724838, 0.15139473974704742, 0.028837094083428383, 0.026434002444148064, 0.014418547041714191, 0.05527109652757645, 0.028837094083428383, 0.009612364694476128, 0.021627819165587425, 0.04085255041718483, 0.016821637749671936, 0.014418547041714191, 0.17579157650470734, 0.05022616684436798, 0.06278270483016968, 0.10045233368873596, 0.16951331496238708, 0.13812196254730225, 0.21346120536327362, 0.018834812566637993, 0.006278270855545998, 0.05650443583726883, 0.17800484597682953, 0.050858527421951294, 0.06357315927743912, 0.09535974264144897, 0.17164753377437592, 0.13986095786094666, 0.2161487489938736, 0.019071947783231735, 0.057215843349695206, 0.30601853132247925, 0.10200617462396622, 0.040802471339702606, 0.30601853132247925, 0.040802471339702606, 0.020401235669851303, 0.040802471339702606, 0.020401235669851303, 0.10200617462396622, 0.27067381143569946, 0.16675439476966858, 0.055584799498319626, 0.007250191178172827, 0.11841978877782822, 0.07491864264011383, 0.007250191178172827, 0.043501146137714386, 0.01208365149796009, 0.004833460785448551, 0.019333843141794205, 0.029000764712691307, 0.009666921570897102, 0.02658403478562832, 0.02416730299592018, 0.031417496502399445, 0.03383422642946243, 0.01208365149796009, 0.014500382356345654, 0.021750573068857193, 0.007250191178172827, 0.0024167303927242756, 0.004833460785448551, 0.23347167670726776, 0.12571552395820618, 0.32326847314834595, 0.017959360033273697, 0.05387808009982109, 0.035918720066547394, 0.035918720066547394, 0.14367488026618958, 0.017959360033273697, 0.030286166816949844, 0.12114466726779938, 0.12114466726779938, 0.12114466726779938, 0.15143083035945892, 0.06057233363389969, 0.06057233363389969, 0.09085849672555923, 0.24228933453559875, 0.2378934621810913, 0.03171912953257561, 0.06343825906515121, 0.04757869243621826, 0.03171912953257561, 0.269612580537796, 0.015859564766287804, 0.015859564766287804, 0.03171912953257561, 0.22203388810157776, 0.24894385039806366, 0.10184066742658615, 0.015087505802512169, 0.033946890383958817, 0.0037718764506280422, 0.0188593827188015, 0.09052503854036331, 0.17350631952285767, 0.09806878864765167, 0.0037718764506280422, 0.06789378076791763, 0.011315629817545414, 0.0037718764506280422, 0.011315629817545414, 0.011315629817545414, 0.0188593827188015, 0.0188593827188015, 0.022631259635090828, 0.0037718764506280422, 0.015087505802512169, 0.0037718764506280422, 0.0188593827188015, 0.0075437529012560844, 0.30016276240348816, 0.21611718833446503, 0.05402929708361626, 0.09605208039283752, 0.05402929708361626, 0.03601953014731407, 0.16208788752555847, 0.01200651004910469, 0.06003255024552345, 0.4264383912086487, 0.24103038012981415, 0.06489279866218567, 0.10197439789772034, 0.027811199426651, 0.055622398853302, 0.009270399808883667, 0.06489279866218567, 0.15335771441459656, 0.15335771441459656, 0.021299682557582855, 0.25985613465309143, 0.008519873023033142, 0.012779809534549713, 0.012779809534549713, 0.029819555580615997, 0.017039746046066284, 0.12353815883398056, 0.017039746046066284, 0.07241892069578171, 0.004259936511516571, 0.05111923813819885, 0.008519873023033142, 0.021299682557582855, 0.029819555580615997, 0.004259936511516571, 0.1623254418373108, 0.2996777296066284, 0.1498388648033142, 0.06243286281824112, 0.08740600943565369, 0.06243286281824112, 0.024973144754767418, 0.024973144754767418, 0.03745971620082855, 0.06243286281824112, 0.17775361239910126, 0.30081379413604736, 0.10938683897256851, 0.06836677342653275, 0.09571348130702972, 0.06836677342653275, 0.013673354871571064, 0.04102006554603577, 0.027346709743142128, 0.027346709743142128, 0.06836677342653275, 0.18202532827854156, 0.16547755897045135, 0.09928654134273529, 0.03309551253914833, 0.016547756269574165, 0.06619102507829666, 0.36405065655708313, 0.049643270671367645, 0.016547756269574165, 0.13237491250038147, 0.05294996500015259, 0.10589993000030518, 0.3706497550010681, 0.07942494750022888, 0.07942494750022888, 0.05294996500015259, 0.026474982500076294, 0.07942494750022888, 0.5141400694847107, 0.04896572232246399, 0.06120715290307999, 0.07344858348369598, 0.012241430580615997, 0.18362146615982056, 0.024482861161231995, 0.06120715290307999, 0.012241430580615997, 0.050463177263736725, 0.10418204218149185, 0.030929043889045715, 0.03906826674938202, 0.06836946308612823, 0.026045510545372963, 0.05860240012407303, 0.30603474378585815, 0.03418473154306412, 0.008139221929013729, 0.09604281932115555, 0.006511377636343241, 0.014650600031018257, 0.016278443858027458, 0.0016278444090858102, 0.01790628768503666, 0.008139221929013729, 0.011394910514354706, 0.013022755272686481, 0.027673354372382164, 0.013022755272686481, 0.01790628768503666, 0.004883533343672752, 0.011394910514354706, 0.006511377636343241, 0.011394910514354706, 0.055228542536497116, 0.7363805174827576, 0.03681902587413788, 0.01840951293706894, 0.03681902587413788, 0.00920475646853447, 0.027614271268248558, 0.027614271268248558, 0.00920475646853447, 0.027614271268248558, 0.12798447906970978, 0.34904858469963074, 0.034904856234788895, 0.12798447906970978, 0.24433401226997375, 0.034904856234788895, 0.011634952388703823, 0.011634952388703823, 0.011634952388703823, 0.023269904777407646, 0.1686689406633377, 0.014666863717138767, 0.05866745486855507, 0.03666716068983078, 0.08066774904727936, 0.46933963894844055, 0.022000296041369438, 0.05866745486855507, 0.014666863717138767, 0.007333431858569384, 0.05866745486855507, 0.007333431858569384, 0.007333431858569384, 0.06042603775858879, 0.042298223823308945, 0.05438343062996864, 0.07251124083995819, 0.06646864116191864, 0.10272426158189774, 0.09668165445327759, 0.018127810209989548, 0.030213018879294395, 0.21753372251987457, 0.048340827226638794, 0.006042603403329849, 0.006042603403329849, 0.06042603775858879, 0.09063905477523804, 0.018127810209989548, 0.057804208248853683, 0.20231473445892334, 0.028902104124426842, 0.11560841649770737, 0.26011893153190613, 0.028902104124426842, 0.11560841649770737, 0.11560841649770737, 0.057804208248853683, 0.08309868723154068, 0.03323947638273239, 0.04985921084880829, 0.03323947638273239, 0.6315500140190125, 0.03323947638273239, 0.11633816361427307, 0.06617990136146545, 0.0441199354827404, 0.06617990136146545, 0.0220599677413702, 0.06617990136146545, 0.0882398709654808, 0.06617990136146545, 0.3088395595550537, 0.06617990136146545, 0.0220599677413702, 0.0882398709654808, 0.0441199354827404, 0.0441199354827404, 0.15507639944553375, 0.058153651654720306, 0.09692274779081345, 0.01938454993069172, 0.058153651654720306, 0.058153651654720306, 0.03876909986138344, 0.01938454993069172, 0.09692274779081345, 0.01938454993069172, 0.03876909986138344, 0.23261460661888123, 0.058153651654720306, 0.03876909986138344, 0.11810153722763062, 0.09894993901252747, 0.13406120240688324, 0.09256607294082642, 0.051070936024188995, 0.04787900298833847, 0.05426286906003952, 0.015959667041897774, 0.03511126711964607, 0.025535468012094498, 0.028727401047945023, 0.015959667041897774, 0.06064673513174057, 0.006383867003023624, 0.04787900298833847, 0.07660640776157379, 0.006383867003023624, 0.028727401047945023, 0.012767734006047249, 0.009575800970196724, 0.009575800970196724, 0.006383867003023624, 0.012767734006047249, 0.3993642032146454, 0.33280351758003235, 0.09984105080366135, 0.13312140107154846, 0.06686042994260788, 0.013372085988521576, 0.36104634404182434, 0.13372085988521576, 0.026744171977043152, 0.12034877389669418, 0.026744171977043152, 0.026744171977043152, 0.04011625796556473, 0.04011625796556473, 0.04011625796556473, 0.013372085988521576, 0.06686042994260788, 0.021675175055861473, 0.06502552330493927, 0.2601020932197571, 0.2817772626876831, 0.043350350111722946, 0.1950765699148178, 0.08670070022344589, 0.021675175055861473, 0.0377204567193985, 0.012573485262691975, 0.0377204567193985, 0.0377204567193985, 0.012573485262691975, 0.02514697052538395, 0.02514697052538395, 0.012573485262691975, 0.301763653755188, 0.1131613701581955, 0.02514697052538395, 0.075440913438797, 0.0502939410507679, 0.012573485262691975, 0.0377204567193985, 0.0502939410507679, 0.075440913438797, 0.0377204567193985, 0.012573485262691975, 0.13133108615875244, 0.014592343010008335, 0.3939932584762573, 0.37940090894699097, 0.0729617178440094, 0.29783010482788086, 0.32918062806129456, 0.015675269067287445, 0.06270107626914978, 0.07837633788585663, 0.12540215253829956, 0.03135053813457489, 0.03135053813457489, 0.17826755344867706, 0.20710496604442596, 0.036702144891023636, 0.031458981335163116, 0.09175536036491394, 0.14418700337409973, 0.005243163555860519, 0.044566888362169266, 0.07864744961261749, 0.0026215817779302597, 0.031458981335163116, 0.044566888362169266, 0.044566888362169266, 0.005243163555860519, 0.005243163555860519, 0.028837399557232857, 0.005243163555860519, 0.0026215817779302597, 0.007864745333790779, 0.2121926248073578, 0.04668238013982773, 0.0721454918384552, 0.008487705141305923, 0.10185246169567108, 0.2588750123977661, 0.008487705141305923, 0.038194674998521805, 0.1485348492860794, 0.06365779042243958, 0.008487705141305923, 0.004243852570652962, 0.004243852570652962, 0.016975410282611847, 0.012731557711958885, 0.004243852570652962, 0.06563375890254974, 0.1312675178050995, 0.39380258321762085, 0.24065712094306946, 0.06563375890254974, 0.04375584051012993, 0.06563375890254974, 0.038401782512664795, 0.048002228140830994, 0.16320757567882538, 0.009600445628166199, 0.038401782512664795, 0.08640401065349579, 0.009600445628166199, 0.12480578571557999, 0.038401782512664795, 0.028801336884498596, 0.048002228140830994, 0.21120980381965637, 0.038401782512664795, 0.028801336884498596, 0.038401782512664795, 0.009600445628166199, 0.009600445628166199, 0.009600445628166199, 0.019200891256332397, 0.35876965522766113, 0.02832392044365406, 0.037765227258205414, 0.3115631341934204, 0.018882613629102707, 0.07553045451641083, 0.02832392044365406, 0.04720653221011162, 0.05664784088730812, 0.009441306814551353, 0.018882613629102707, 0.0582922101020813, 0.0582922101020813, 0.0194307379424572, 0.0194307379424572, 0.0582922101020813, 0.1554459035396576, 0.3303225338459015, 0.2137381136417389, 0.0194307379424572, 0.0388614758849144, 0.06728477030992508, 0.06728477030992508, 0.022428257390856743, 0.044856514781713486, 0.08971302956342697, 0.3812803626060486, 0.22428256273269653, 0.022428257390856743, 0.044856514781713486, 0.16608060896396637, 0.11342090368270874, 0.05671045184135437, 0.032405972480773926, 0.3281104862689972, 0.04860895872116089, 0.004050746560096741, 0.004050746560096741, 0.020253732800483704, 0.024304479360580444, 0.04455821216106415, 0.04050746560096741, 0.004050746560096741, 0.04050746560096741, 0.016202986240386963, 0.016202986240386963, 0.004050746560096741, 0.004050746560096741, 0.012152239680290222, 0.016202986240386963, 0.13587675988674164, 0.25234255194664, 0.19410964846611023, 0.19410964846611023, 0.13587675988674164, 0.019410965964198112, 0.019410965964198112, 0.1466597318649292, 0.05958051607012749, 0.006874674931168556, 0.05041428282856941, 0.09166233241558075, 0.027498699724674225, 0.05499739944934845, 0.06645519286394119, 0.16957531869411469, 0.01833246648311615, 0.04353960603475571, 0.0045831166207790375, 0.03437337279319763, 0.05499739944934845, 0.011457791551947594, 0.0045831166207790375, 0.0022915583103895187, 0.01833246648311615, 0.048122722655534744, 0.006874674931168556, 0.0022915583103895187, 0.01833246648311615, 0.009166233241558075, 0.02062402479350567, 0.01604090817272663, 0.0045831166207790375, 0.0022915583103895187, 0.0045831166207790375, 0.03775130584836006, 0.10905932635068893, 0.7676098346710205, 0.004194589331746101, 0.012583767995238304, 0.03775130584836006, 0.016778357326984406, 0.012583767995238304, 0.09125811606645584, 0.04562905803322792, 0.02281452901661396, 0.29658886790275574, 0.04562905803322792, 0.02281452901661396, 0.2509598135948181, 0.04562905803322792, 0.11407264322042465, 0.02281452901661396, 0.02281452901661396, 0.10011165589094162, 0.31463661789894104, 0.12871497869491577, 0.014301665127277374, 0.014301665127277374, 0.0572066605091095, 0.04290499538183212, 0.18592163920402527, 0.014301665127277374, 0.014301665127277374, 0.014301665127277374, 0.08580999076366425, 0.19850337505340576, 0.3562881052494049, 0.09670677036046982, 0.00508983014151454, 0.04071864113211632, 0.00508983014151454, 0.00508983014151454, 0.11706609278917313, 0.015269489958882332, 0.030538979917764664, 0.00508983014151454, 0.03562881052494049, 0.015269489958882332, 0.01017966028302908, 0.04071864113211632, 0.01017966028302908, 0.00508983014151454, 0.14953158795833588, 0.12314365804195404, 0.00879597570747137, 0.03518390282988548, 0.06157182902097702, 0.10555170476436615, 0.052775852382183075, 0.03518390282988548, 0.1143476814031601, 0.00879597570747137, 0.00879597570747137, 0.01759195141494274, 0.052775852382183075, 0.026387926191091537, 0.1143476814031601, 0.00879597570747137, 0.01759195141494274, 0.01759195141494274, 0.01759195141494274, 0.00879597570747137, 0.19554035365581512, 0.02793433703482151, 0.013967168517410755, 0.05586867406964302, 0.013967168517410755, 0.0698358416557312, 0.04190150648355484, 0.19554035365581512, 0.09777017682790756, 0.02793433703482151, 0.22347469627857208, 0.02793433703482151, 0.013967168517410755, 0.047854695469141006, 0.502474308013916, 0.09570939093828201, 0.1555277556180954, 0.011963673867285252, 0.011963673867285252, 0.059818368405103683, 0.011963673867285252, 0.03589102253317833, 0.059818368405103683, 0.15082362294197083, 0.18852953612804413, 0.15082362294197083, 0.07541181147098541, 0.18852953612804413, 0.22623543441295624, 0.40325403213500977, 0.18861882388591766, 0.11707375198602676, 0.0715450718998909, 0.039024583995342255, 0.07804916799068451, 0.05203277990221977, 0.013008194975554943, 0.032520487904548645, 0.05597545579075813, 0.05008330196142197, 0.3476370573043823, 0.16203421354293823, 0.1060587614774704, 0.005892153363674879, 0.06481368839740753, 0.0441911518573761, 0.06481368839740753, 0.04713722690939903, 0.011784306727349758, 0.0265146903693676, 0.0029460766818374395, 0.008838229812681675, 0.4032554626464844, 0.1886194944381714, 0.11707416921854019, 0.0715453252196312, 0.0390247218310833, 0.0780494436621666, 0.052032966166734695, 0.013008241541683674, 0.0325206033885479, 0.0026868139393627644, 0.08329123258590698, 0.010747255757451057, 0.18001653254032135, 0.10209892690181732, 0.3707803189754486, 0.005373627878725529, 0.0026868139393627644, 0.07254397124052048, 0.024181324988603592, 0.008060441352427006, 0.05104946345090866, 0.0349285788834095, 0.010747255757451057, 0.010747255757451057, 0.03224176540970802, 0.5905380845069885, 0.18897217512130737, 0.09448608756065369, 0.04724304378032684, 0.04724304378032684, 0.01181076094508171, 0.7533704042434692, 0.17726361751556396, 0.014771968126296997, 0.029543936252593994, 0.03937837481498718, 0.03937837481498718, 0.026252251118421555, 0.13126125931739807, 0.10500900447368622, 0.07875674962997437, 0.03937837481498718, 0.05250450223684311, 0.03937837481498718, 0.17063963413238525, 0.18376575410366058, 0.07875674962997437, 0.026252251118421555, 0.14466816186904907, 0.048222724348306656, 0.14466816186904907, 0.07233408093452454, 0.4340045154094696, 0.048222724348306656, 0.07233408093452454, 0.024111362174153328, 0.1763496994972229, 0.005781957414001226, 0.037582721561193466, 0.002890978707000613, 0.034691743552684784, 0.02890978753566742, 0.026018807664513588, 0.13876697421073914, 0.19658654928207397, 0.002890978707000613, 0.020236849784851074, 0.01445489376783371, 0.002890978707000613, 0.0636015310883522, 0.034691743552684784, 0.020236849784851074, 0.06071055307984352, 0.0318007655441761, 0.026018807664513588, 0.01445489376783371, 0.04047369956970215, 0.008672935888171196, 0.01445489376783371, 0.04203903675079346, 0.04203903675079346, 0.04203903675079346, 0.3783513307571411, 0.12611711025238037, 0.12611711025238037, 0.04203903675079346, 0.04203903675079346, 0.08407807350158691, 0.13157926499843597, 0.30701830983161926, 0.043859757483005524, 0.08771951496601105, 0.043859757483005524, 0.26315852999687195, 0.043859757483005524, 0.08771951496601105, 0.22366005182266235, 0.026839205995202065, 0.008946401998400688, 0.017892803996801376, 0.05367841199040413, 0.4025880992412567, 0.026839205995202065, 0.026839205995202065, 0.008946401998400688, 0.04473200812935829, 0.008946401998400688, 0.05367841199040413, 0.03578560799360275, 0.03578560799360275, 0.008946401998400688, 0.17688994109630585, 0.05053998529911041, 0.06317497789859772, 0.10107997059822083, 0.1705724447965622, 0.13898496329784393, 0.21479493379592896, 0.018952494487166405, 0.056857481598854065, 0.4085562825202942, 0.1054338812828064, 0.0131792351603508, 0.0395377054810524, 0.0131792351603508, 0.1186131164431572, 0.065896175801754, 0.0395377054810524, 0.0790754109621048, 0.0922546461224556, 0.21108058094978333, 0.5804715752601624, 0.07915521413087845, 0.05277014523744583, 0.05277014523744583, 0.1291937381029129, 0.46509748697280884, 0.23254874348640442, 0.1291937381029129, 0.2943567931652069, 0.1337985396385193, 0.026759710162878036, 0.1337985396385193, 0.05351942032575607, 0.10703884065151215, 0.1337985396385193, 0.05351942032575607, 0.05351942032575607, 0.1331428736448288, 0.036311693489551544, 0.04538961872458458, 0.04538961872458458, 0.07564936578273773, 0.054467540234327316, 0.003025974612683058, 0.0332857184112072, 0.07867533713579178, 0.06959741562604904, 0.009077923372387886, 0.021181821823120117, 0.006051949225366116, 0.009077923372387886, 0.07262338697910309, 0.04538961872458458, 0.030259745195508003, 0.012103898450732231, 0.012103898450732231, 0.03933766856789589, 0.021181821823120117, 0.030259745195508003, 0.042363643646240234, 0.027233770117163658, 0.012103898450732231, 0.003025974612683058, 0.024207796901464462, 0.10489547997713089, 0.05994027480483055, 0.05994027480483055, 0.17982082068920135, 0.08991041034460068, 0.04495520517230034, 0.14985069632530212, 0.08991041034460068, 0.16483575105667114, 0.04495520517230034, 0.014985068701207638, 0.13817836344242096, 0.0767657533288002, 0.03070630133152008, 0.1535315066576004, 0.0767657533288002, 0.2302972674369812, 0.0767657533288002, 0.10747205466032028, 0.03070630133152008, 0.01535315066576004, 0.03070630133152008, 0.07665429264307022, 0.24912644922733307, 0.17247216403484344, 0.019163573160767555, 0.15330858528614044, 0.2682900130748749, 0.019163573160767555, 0.019163573160767555, 0.3777308166027069, 0.11871539801359177, 0.02158461883664131, 0.11871539801359177, 0.02158461883664131, 0.07554616034030914, 0.04316923767328262, 0.010792309418320656, 0.02158461883664131, 0.02158461883664131, 0.02158461883664131, 0.010792309418320656, 0.05396154522895813, 0.010792309418320656, 0.010792309418320656, 0.04316923767328262, 0.3364168107509613, 0.1261563003063202, 0.02102605067193508, 0.04205210134387016, 0.04205210134387016, 0.3994949460029602, 0.04205210134387016, 0.47637709975242615, 0.07939618080854416, 0.01984904520213604, 0.09924522787332535, 0.01984904520213604, 0.07939618080854416, 0.01984904520213604, 0.01984904520213604, 0.13894331455230713, 0.03969809040427208, 0.03165363892912865, 0.03165363892912865, 0.2532291114330292, 0.28488272428512573, 0.09496091306209564, 0.0633072778582573, 0.03165363892912865, 0.15826818346977234, 0.03165363892912865, 0.05184752866625786, 0.14072899520397186, 0.12591542303562164, 0.014813578687608242, 0.05925431475043297, 0.007406789343804121, 0.0814746841788292, 0.007406789343804121, 0.22220368683338165, 0.05925431475043297, 0.03703394904732704, 0.007406789343804121, 0.07406789809465408, 0.014813578687608242, 0.022220369428396225, 0.04444073885679245, 0.029627157375216484, 0.007406789343804121, 0.007406789343804121, 0.05415766313672066, 0.01805255562067032, 0.180525541305542, 0.00902627781033516, 0.14442044496536255, 0.1353941559791565, 0.0451313853263855, 0.02707883156836033, 0.01805255562067032, 0.03610511124134064, 0.06318394094705582, 0.0451313853263855, 0.01805255562067032, 0.00902627781033516, 0.1985781043767929, 0.00902627781033516, 0.6682851314544678, 0.058111753314733505, 0.029055876657366753, 0.029055876657366753, 0.029055876657366753, 0.058111753314733505, 0.029055876657366753, 0.029055876657366753, 0.058111753314733505, 0.04318619146943092, 0.08097410947084427, 0.02159309573471546, 0.07557583600282669, 0.09177065640687943, 0.13495685160160065, 0.04318619146943092, 0.005398273933678865, 0.27531197667121887, 0.02699136920273304, 0.02159309573471546, 0.02699136920273304, 0.02699136920273304, 0.005398273933678865, 0.02699136920273304, 0.005398273933678865, 0.02699136920273304, 0.005398273933678865, 0.016194822266697884, 0.016194822266697884, 0.005398273933678865, 0.546106219291687, 0.04964601993560791, 0.09929203987121582, 0.04964601993560791, 0.024823009967803955, 0.024823009967803955, 0.07446902990341187, 0.04964601993560791, 0.04964601993560791, 0.07363481819629669, 0.04531373456120491, 0.02832108363509178, 0.022656867280602455, 0.07929903268814087, 0.011328433640301228, 0.08496324717998505, 0.011328433640301228, 0.022656867280602455, 0.12461276352405548, 0.01699264906346798, 0.35118141770362854, 0.01699264906346798, 0.039649516344070435, 0.02832108363509178, 0.02832108363509178, 0.005664216820150614, 0.005664216820150614, 0.1890740841627121, 0.10978495329618454, 0.04879331216216087, 0.030495820567011833, 0.012198328040540218, 0.12198328226804733, 0.1646774262189865, 0.030495820567011833, 0.03659498319029808, 0.012198328040540218, 0.024396656081080437, 0.030495820567011833, 0.01829749159514904, 0.03659498319029808, 0.04269414767622948, 0.06709080189466476, 0.01829749159514904, 0.21386638283729553, 0.016451260074973106, 0.5757941007614136, 0.04935377836227417, 0.016451260074973106, 0.04935377836227417, 0.016451260074973106, 0.016451260074973106, 0.016451260074973106, 0.016451260074973106, 0.22355468571186066, 0.06042018532752991, 0.027189083397388458, 0.027189083397388458, 0.03927312046289444, 0.036252111196517944, 0.04531513899564743, 0.14198744297027588, 0.05739917606115341, 0.07552523165941238, 0.03927312046289444, 0.006042018532752991, 0.009063027799129486, 0.0030210092663764954, 0.015105046331882477, 0.015105046331882477, 0.018126055598258972, 0.030210092663764954, 0.009063027799129486, 0.03323110193014145, 0.012084037065505981, 0.03927312046289444, 0.012084037065505981, 0.009063027799129486, 0.009063027799129486, 0.11222214251756668, 0.3927775025367737, 0.11222214251756668, 0.16833321750164032, 0.05611107125878334, 0.05611107125878334, 0.02805553562939167, 0.02805553562939167, 0.10083407908678055, 0.12604260444641113, 0.07562556117773056, 0.025208519771695137, 0.10083407908678055, 0.25208520889282227, 0.07562556117773056, 0.025208519771695137, 0.07562556117773056, 0.07562556117773056, 0.050417039543390274, 0.15797168016433716, 0.14041927456855774, 0.12286686152219772, 0.017552409321069717, 0.017552409321069717, 0.08776204288005829, 0.07020963728427887, 0.1053144559264183, 0.15797168016433716, 0.08776204288005829, 0.017552409321069717, 0.6301149129867554, 0.030005471780896187, 0.1500273495912552, 0.060010943561792374, 0.060010943561792374, 0.030005471780896187, 0.10503331571817398, 0.07002221047878265, 0.07002221047878265, 0.31509995460510254, 0.1400444209575653, 0.03501110523939133, 0.03501110523939133, 0.1400444209575653, 0.03501110523939133, 0.10516449809074402, 0.09201893955469131, 0.38122132420539856, 0.13145563006401062, 0.026291124522686005, 0.03943668678402901, 0.03943668678402901, 0.03943668678402901, 0.026291124522686005, 0.09201893955469131, 0.026291124522686005, 0.1724679172039032, 0.09855309873819351, 0.14782965183258057, 0.3449358344078064, 0.024638274684548378, 0.049276549369096756, 0.024638274684548378, 0.09855309873819351, 0.024638274684548378, 0.09890466928482056, 0.0719306692481041, 0.017982667312026024, 0.10789600014686584, 0.08092200011014938, 0.05394800007343292, 0.03596533462405205, 0.06293933093547821, 0.25175732374191284, 0.05394800007343292, 0.017982667312026024, 0.08092200011014938, 0.017982667312026024, 0.02697400003671646, 0.02186724916100502, 0.06560175120830536, 0.02186724916100502, 0.6560174822807312, 0.1093362495303154, 0.02186724916100502, 0.02186724916100502, 0.02186724916100502, 0.02186724916100502, 0.25411349534988403, 0.0577530637383461, 0.06930367648601532, 0.04620245099067688, 0.0577530637383461, 0.12705674767494202, 0.09240490198135376, 0.21946164965629578, 0.02310122549533844, 0.02310122549533844, 0.02310122549533844, 0.12200943380594254, 0.02033490501344204, 0.22368396818637848, 0.02033490501344204, 0.16267924010753632, 0.10167452692985535, 0.3456934094429016, 0.16770324110984802, 0.23059195280075073, 0.14674033224582672, 0.041925810277462006, 0.35636937618255615, 0.041925810277462006, 0.15147250890731812, 0.09737518429756165, 0.12983357906341553, 0.03245839476585388, 0.07573625445365906, 0.021638929843902588, 0.06491678953170776, 0.03245839476585388, 0.05409732460975647, 0.09737518429756165, 0.043277859687805176, 0.05409732460975647, 0.05409732460975647, 0.043277859687805176, 0.043277859687805176, 0.2210247814655304, 0.17449325323104858, 0.15122748911380768, 0.04653153195977211, 0.03489864990115166, 0.023265765979886055, 0.13959459960460663, 0.1977590173482895, 0.09340089559555054, 0.023350223898887634, 0.04670044779777527, 0.09340089559555054, 0.4903547167778015, 0.011675111949443817, 0.011675111949443817, 0.011675111949443817, 0.0700506716966629, 0.023350223898887634, 0.011675111949443817, 0.10507600754499435, 0.21022087335586548, 0.01576656475663185, 0.042044173926115036, 0.010511043481528759, 0.13138805329799652, 0.04729969799518585, 0.042044173926115036, 0.0315331295132637, 0.0315331295132637, 0.0315331295132637, 0.04729969799518585, 0.07357730716466904, 0.0630662590265274, 0.05255521833896637, 0.01576656475663185, 0.010511043481528759, 0.0052555217407643795, 0.07883282750844955, 0.021022086963057518, 0.021022086963057518, 0.021022086963057518, 0.010511043481528759, 0.19949010014533997, 0.044331133365631104, 0.007388522382825613, 0.029554089531302452, 0.09605079144239426, 0.06649670004844666, 0.20687861740589142, 0.12560488283634186, 0.044331133365631104, 0.044331133365631104, 0.09605079144239426, 0.022165566682815552, 0.014777044765651226, 0.03211718797683716, 0.0802929699420929, 0.1445273458957672, 0.25693750381469727, 0.1445273458957672, 0.09635157138109207, 0.048175785690546036, 0.09635157138109207, 0.06423437595367432, 0.036248765885829926, 0.07249753177165985, 0.05437314882874489, 0.32623887062072754, 0.18124382197856903, 0.1449950635433197, 0.05437314882874489, 0.10874629765748978, 0.018124382942914963, 0.035798054188489914, 0.08949513733386993, 0.17302392423152924, 0.34604784846305847, 0.08949513733386993, 0.011932685039937496, 0.2326873540878296, 0.005966342519968748, 0.005966342519968748, 0.05116031691431999, 0.0877033993601799, 0.12424648553133011, 0.43120837211608887, 0.04385169968008995, 0.014617233537137508, 0.2265671193599701, 0.014617233537137508, 0.007308616768568754, 0.20826144516468048, 0.062478434294462204, 0.020826144143939018, 0.05831320583820343, 0.029156602919101715, 0.041652288287878036, 0.0791393518447876, 0.20826144516468048, 0.041652288287878036, 0.041652288287878036, 0.01249568723142147, 0.03748705983161926, 0.02499137446284294, 0.008330457843840122, 0.041652288287878036, 0.008330457843840122, 0.020826144143939018, 0.04581752046942711, 0.44128382205963135, 0.12608109414577484, 0.18912163376808167, 0.03152027353644371, 0.15760135650634766, 0.25245699286460876, 0.23692117631435394, 0.038839537650346756, 0.10486675053834915, 0.023303721100091934, 0.038839537650346756, 0.007767907343804836, 0.038839537650346756, 0.08933093398809433, 0.003883953671902418, 0.0660272091627121, 0.058259304612874985, 0.011651860550045967, 0.007767907343804836, 0.007767907343804836, 0.019419768825173378, 0.0488242581486702, 0.12206064164638519, 0.0488242581486702, 0.0976485162973404, 0.0976485162973404, 0.1952970325946808, 0.0244121290743351, 0.0244121290743351, 0.1708848923444748, 0.0488242581486702, 0.0976485162973404, 0.22211019694805145, 0.05226122587919235, 0.08165816217660904, 0.042462244629859924, 0.013065306469798088, 0.06206020340323448, 0.07839183509349823, 0.09798979759216309, 0.026130612939596176, 0.013065306469798088, 0.05879387632012367, 0.016331631690263748, 0.022864285856485367, 0.022864285856485367, 0.022864285856485367, 0.003266326617449522, 0.029396938160061836, 0.05226122587919235, 0.026130612939596176, 0.019597958773374557, 0.016331631690263748, 0.006532653234899044, 0.009798979386687279, 0.03332255408167839, 0.053316086530685425, 0.19327081739902496, 0.07997412979602814, 0.053316086530685425, 0.006664510816335678, 0.06664510816335678, 0.053316086530685425, 0.19993531703948975, 0.03332255408167839, 0.019993532449007034, 0.026658043265342712, 0.013329021632671356, 0.019993532449007034, 0.03998706489801407, 0.04665157571434975, 0.006664510816335678, 0.026658043265342712, 0.019993532449007034, 0.0735449567437172, 0.09051686525344849, 0.09617417305707932, 0.050915736705064774, 0.028286520391702652, 0.22629216313362122, 0.03394382447004318, 0.07920225709676743, 0.04525843262672424, 0.03394382447004318, 0.21497756242752075, 0.01697191223502159, 0.00565730407834053, 0.11305820941925049, 0.08202262222766876, 0.057637520134449005, 0.04655338078737259, 0.04655338078737259, 0.004433655180037022, 0.06872165948152542, 0.011084138415753841, 0.0066504827700555325, 0.03990289568901062, 0.004433655180037022, 0.08202262222766876, 0.3214400112628937, 0.028818760067224503, 0.015517793595790863, 0.004433655180037022, 0.04211972653865814, 0.002216827590018511, 0.0066504827700555325, 0.011084138415753841, 0.018344230949878693, 0.009172115474939346, 0.02751634642481804, 0.1375817358493805, 0.05503269284963608, 0.018344230949878693, 0.6512202024459839, 0.04586057737469673, 0.036688461899757385, 0.3892812430858612, 0.3503531217575073, 0.07785625010728836, 0.11678437888622284, 0.03892812505364418, 0.7683965563774109, 0.011821486055850983, 0.11821486055850983, 0.05910743027925491, 0.011821486055850983, 0.011821486055850983, 0.14798542857170105, 0.10570387542247772, 0.04228154942393303, 0.19026696681976318, 0.08456309884786606, 0.2959708571434021, 0.08456309884786606, 0.021140774711966515, 0.021140774711966515, 0.0552838109433651, 0.21531589329242706, 0.04655478522181511, 0.005819348152726889, 0.02909674122929573, 0.14839337766170502, 0.11929664015769958, 0.005819348152726889, 0.08729022741317749, 0.043645113706588745, 0.005819348152726889, 0.014548370614647865, 0.04073543846607208, 0.008729022927582264, 0.0029096740763634443, 0.08147087693214417, 0.005819348152726889, 0.02036771923303604, 0.023277392610907555, 0.011638696305453777, 0.011638696305453777, 0.005819348152726889, 0.008729022927582264, 0.13613379001617432, 0.019447684288024902, 0.12640994787216187, 0.5542590022087097, 0.058343056589365005, 0.009723842144012451, 0.009723842144012451, 0.06806689500808716, 0.18590673804283142, 0.023238342255353928, 0.007746114395558834, 0.07746114581823349, 0.19365285336971283, 0.14717617630958557, 0.038730572909116745, 0.023238342255353928, 0.007746114395558834, 0.007746114395558834, 0.18590673804283142, 0.015492228791117668, 0.007746114395558834, 0.030984457582235336, 0.030984457582235336, 0.15165191888809204, 0.050550639629364014, 0.10832279920578003, 0.03610759973526001, 0.07221519947052002, 0.057772159576416016, 0.04332911968231201, 0.028886079788208008, 0.24553167819976807, 0.014443039894104004, 0.007221519947052002, 0.057772159576416016, 0.08665823936462402, 0.021664559841156006, 0.007221519947052002, 0.014443039894104004, 0.2345418483018875, 0.06701195240020752, 0.06142762675881386, 0.03909030556678772, 0.1814907044172287, 0.03071381337940693, 0.00558432936668396, 0.00279216468334198, 0.02233731746673584, 0.05025896802544594, 0.04467463493347168, 0.00837649405002594, 0.00279216468334198, 0.0558432973921299, 0.0418824702501297, 0.04746680334210396, 0.01675298810005188, 0.02512948401272297, 0.02792164869606495, 0.01116865873336792, 0.00837649405002594, 0.01116865873336792, 0.059609461575746536, 0.44707098603248596, 0.20863312482833862, 0.029804730787873268, 0.059609461575746536, 0.1490236520767212, 0.07476329058408737, 0.00747632933780551, 0.04485797509551048, 0.10466860979795456, 0.08223962038755417, 0.00747632933780551, 0.08223962038755417, 0.01495265867561102, 0.08971595019102097, 0.01495265867561102, 0.00747632933780551, 0.14205025136470795, 0.08971595019102097, 0.09719227999448776, 0.12709759175777435, 0.00747632933780551, 0.14401838183403015, 0.15509670972824097, 0.25037041306495667, 0.04431334510445595, 0.008862669579684734, 0.01994100585579872, 0.04431334510445595, 0.03988201171159744, 0.01994100585579872, 0.10192069411277771, 0.013294003903865814, 0.006647001951932907, 0.022156672552227974, 0.006647001951932907, 0.01994100585579872, 0.013294003903865814, 0.013294003903865814, 0.05760734900832176, 0.01994100585579872, 0.201151505112648, 0.15742291510105133, 0.04372858628630638, 0.271117240190506, 0.07871145755052567, 0.05247430503368378, 0.034982871264219284, 0.07871145755052567, 0.034982871264219284, 0.034982871264219284, 0.20673203468322754, 0.06891067326068878, 0.13782134652137756, 0.3675236105918884, 0.0918809026479721, 0.04594045132398605, 0.022970225661993027, 0.0923641100525856, 0.12315214425325394, 0.2770923376083374, 0.030788036063313484, 0.15394018590450287, 0.24630428850650787, 0.06157607212662697, 0.1453566551208496, 0.048452217131853104, 0.3100942075252533, 0.11628532409667969, 0.03876177594065666, 0.09690443426370621, 0.048452217131853104, 0.048452217131853104, 0.01938088797032833, 0.03876177594065666, 0.029071331024169922, 0.03876177594065666, 0.009690443985164165, 0.4890436828136444, 0.419180303812027, 0.02328779548406601, 0.04657559096813202, 0.48377251625061035, 0.09214714169502258, 0.09214714169502258, 0.023036785423755646, 0.023036785423755646, 0.11518393456935883, 0.11518393456935883, 0.06911035627126694, 0.21196594834327698, 0.13387322425842285, 0.011156102642416954, 0.022312205284833908, 0.044624410569667816, 0.005578051321208477, 0.21754400432109833, 0.1282951831817627, 0.005578051321208477, 0.02789025567471981, 0.02789025567471981, 0.05020246282219887, 0.039046358317136765, 0.03346830606460571, 0.011156102642416954, 0.022312205284833908, 0.005578051321208477, 0.07133381068706512, 0.025939567014575005, 0.0843035951256752, 0.13942517340183258, 0.07133381068706512, 0.0032424458768218756, 0.006484891753643751, 0.016212230548262596, 0.025939567014575005, 0.0032424458768218756, 0.022697120904922485, 0.012969783507287502, 0.05512158200144768, 0.15563741326332092, 0.11348561197519302, 0.019454676657915115, 0.029182013124227524, 0.10375826805830002, 0.0032424458768218756, 0.016212230548262596, 0.009727338328957558, 0.006484891753643751, 0.11527202278375626, 0.27665284276008606, 0.36887046694755554, 0.13832642138004303, 0.06916321069002151, 0.02305440418422222, 0.03084718808531761, 0.18508312106132507, 0.15423594415187836, 0.12338875234127045, 0.06169437617063522, 0.3084718883037567, 0.06169437617063522, 0.3793157935142517, 0.03793158009648323, 0.008429239504039288, 0.0674339160323143, 0.08007778227329254, 0.04214619845151901, 0.04214619845151901, 0.07164853811264038, 0.016858479008078575, 0.016858479008078575, 0.021073099225759506, 0.08429239690303802, 0.021073099225759506, 0.016858479008078575, 0.012643859721720219, 0.04636082053184509, 0.008429239504039288, 0.004214619752019644, 0.016858479008078575, 0.522147536277771, 0.09037168323993683, 0.08033038675785065, 0.030123895034193993, 0.010041298344731331, 0.14057818055152893, 0.020082596689462662, 0.07028909027576447, 0.030123895034193993, 0.01767663285136223, 0.14141306281089783, 0.10605979710817337, 0.15908969938755035, 0.15908969938755035, 0.07070653140544891, 0.300502747297287, 0.03535326570272446, 0.23057831823825836, 0.20175603032112122, 0.20175603032112122, 0.08646687120199203, 0.23057831823825836, 0.028822289779782295, 0.15761029720306396, 0.18913234770298004, 0.031522057950496674, 0.28369852900505066, 0.06304411590099335, 0.09456617385149002, 0.15761029720306396, 0.11874982714653015, 0.08906237035989761, 0.014843728393316269, 0.09895818680524826, 0.07421863824129105, 0.10390609502792358, 0.03958327695727348, 0.19791637361049652, 0.014843728393316269, 0.03958327695727348, 0.024739546701312065, 0.059374913573265076, 0.00989581923931837, 0.014843728393316269, 0.024739546701312065, 0.01979163847863674, 0.014843728393316269, 0.004947909619659185, 0.014843728393316269, 0.014843728393316269, 0.015378874726593494, 0.10252583771944046, 0.010252583771944046, 0.05126291885972023, 0.13840988278388977, 0.015378874726593494, 0.015378874726593494, 0.056389208883047104, 0.015378874726593494, 0.025631459429860115, 0.025631459429860115, 0.025631459429860115, 0.2101779580116272, 0.09739954024553299, 0.1896727979183197, 0.005126291885972023, 0.2658522427082062, 0.041188374161720276, 0.09360994398593903, 0.0037443977780640125, 0.026210784912109375, 0.089865542948246, 0.09735434502363205, 0.033699579536914825, 0.007488795556128025, 0.056165967136621475, 0.018721988424658775, 0.0299551822245121, 0.018721988424658775, 0.041188374161720276, 0.026210784912109375, 0.026210784912109375, 0.041188374161720276, 0.01497759111225605, 0.026210784912109375, 0.0224663857370615, 0.01123319286853075, 0.007488795556128025, 0.015507221221923828, 0.031014442443847656, 0.635796070098877, 0.06202888488769531, 0.23260831832885742, 0.345924973487854, 0.18868635594844818, 0.09434317797422409, 0.15723863244056702, 0.03144772723317146, 0.09434317797422409, 0.03144772723317146, 0.16850589215755463, 0.08425294607877731, 0.14042158424854279, 0.33701178431510925, 0.028084315359592438, 0.056168630719184875, 0.11233726143836975, 0.028084315359592438, 0.09387579560279846, 0.03442112356424332, 0.15020127594470978, 0.07510063797235489, 0.10326337069272995, 0.153330460190773, 0.012516772374510765, 0.0438087023794651, 0.07197143882513046, 0.015645965933799744, 0.018775159493088722, 0.0438087023794651, 0.0438087023794651, 0.0876174047589302, 0.02190435118973255, 0.009387579746544361, 0.012516772374510765, 0.0031291930936276913, 0.16197694838047028, 0.032395388931035995, 0.04859308525919914, 0.04859308525919914, 0.09718617051839828, 0.08098847419023514, 0.016197694465517998, 0.04859308525919914, 0.032395388931035995, 0.3077562153339386, 0.06479077786207199, 0.032395388931035995, 0.2283116579055786, 0.020294370129704475, 0.10654544085264206, 0.1775757372379303, 0.03551514819264412, 0.11669262498617172, 0.020294370129704475, 0.01522077713161707, 0.020294370129704475, 0.020294370129704475, 0.010147185064852238, 0.10654544085264206, 0.050735924392938614, 0.020294370129704475, 0.04058874025940895, 0.005073592532426119, 0.1123761460185051, 0.016053736209869385, 0.06421494483947754, 0.06421494483947754, 0.03210747241973877, 0.08026868104934692, 0.24080602824687958, 0.25685977935791016, 0.048161204904317856, 0.03210747241973877, 0.03210747241973877, 0.016053736209869385, 0.42621535062789917, 0.13748882710933685, 0.12373994290828705, 0.12373994290828705, 0.09624217450618744, 0.08249329030513763, 0.5265876054763794, 0.07898814231157303, 0.3159525692462921, 0.02632937952876091, 0.05265875905752182, 0.31084269285202026, 0.040544699877500534, 0.09460429847240448, 0.054059598594903946, 0.027029799297451973, 0.1351490020751953, 0.054059598594903946, 0.06757450103759766, 0.17569370567798615, 0.027029799297451973, 0.07106781750917435, 0.0379028357565403, 0.0142135638743639, 0.0284271277487278, 0.0284271277487278, 0.01895141787827015, 0.02368927374482155, 0.1895141899585724, 0.421669065952301, 0.009475708939135075, 0.06159210950136185, 0.009475708939135075, 0.009475708939135075, 0.07106781750917435, 0.004737854469567537, 0.20889967679977417, 0.06963323056697845, 0.243716299533844, 0.06963323056697845, 0.31334951519966125, 0.03481661528348923, 0.5225772857666016, 0.36178427934646606, 0.040198251605033875, 0.040198251605033875, 0.020099125802516937, 0.17776207625865936, 0.023701610043644905, 0.11850804835557938, 0.03555241599678993, 0.1066572442650795, 0.08295563608407974, 0.05925402417778969, 0.05925402417778969, 0.03555241599678993, 0.1066572442650795, 0.11850804835557938, 0.07110483199357986, 0.22559644281864166, 0.04431358724832535, 0.0362565703690052, 0.03222806379199028, 0.12085523456335068, 0.056399110704660416, 0.028199555352330208, 0.00805701594799757, 0.004028507973998785, 0.06042761728167534, 0.0362565703690052, 0.0362565703690052, 0.024171046912670135, 0.004028507973998785, 0.00805701594799757, 0.004028507973998785, 0.05237060412764549, 0.0725131407380104, 0.0362565703690052, 0.024171046912670135, 0.00805701594799757, 0.04834209382534027, 0.012085523456335068, 0.012085523456335068, 0.5495314002037048, 0.0915885642170906, 0.2747657001018524, 0.03052952140569687, 0.04896432161331177, 0.1468929648399353, 0.07344648241996765, 0.12241079658269882, 0.04896432161331177, 0.024482160806655884, 0.1468929648399353, 0.3182680904865265, 0.024482160806655884, 0.13431315124034882, 0.07576639205217361, 0.05510282889008522, 0.0034439268056303263, 0.030995342880487442, 0.013775707222521305, 0.024107487872242928, 0.13086922466754913, 0.0068878536112606525, 0.03788319602608681, 0.08954209834337234, 0.010331780649721622, 0.020663561299443245, 0.05510282889008522, 0.010331780649721622, 0.09298602491617203, 0.034439269453287125, 0.02755141444504261, 0.013775707222521305, 0.0068878536112606525, 0.04132712259888649, 0.04132712259888649, 0.030995342880487442, 0.020663561299443245, 0.03273971751332283, 0.03273971751332283, 0.08184929192066193, 0.016369858756661415, 0.03273971751332283, 0.016369858756661415, 0.6875340342521667, 0.08184929192066193, 0.04272843152284622, 0.03418274596333504, 0.427284300327301, 0.025637058541178703, 0.05981980264186859, 0.01709137298166752, 0.1709137260913849, 0.01709137298166752, 0.00854568649083376, 0.15382234752178192, 0.00854568649083376, 0.025637058541178703, 0.00854568649083376, 0.0534513033926487, 0.045815400779247284, 0.06872310489416122, 0.12981030344963074, 0.03817950189113617, 0.0534513033926487, 0.0534513033926487, 0.1679898053407669, 0.030543601140379906, 0.03817950189113617, 0.022907700389623642, 0.007635900285094976, 0.007635900285094976, 0.030543601140379906, 0.2214411050081253, 0.022907700389623642, 0.007635900285094976, 0.0964088886976242, 0.3320750594139099, 0.1392572820186615, 0.053560495376586914, 0.010712099261581898, 0.053560495376586914, 0.06427258998155594, 0.021424198523163795, 0.010712099261581898, 0.021424198523163795, 0.053560495376586914, 0.010712099261581898, 0.03213629499077797, 0.03213629499077797, 0.04284839704632759, 0.07374746352434158, 0.06423165649175644, 0.07612641155719757, 0.08088431507349014, 0.023789502680301666, 0.052336908876895905, 0.09040011465549469, 0.1070527657866478, 0.0356842540204525, 0.038063205778598785, 0.019031602889299393, 0.019031602889299393, 0.004757900722324848, 0.045200057327747345, 0.06185270845890045, 0.026168454438447952, 0.030926354229450226, 0.011894751340150833, 0.03330530598759651, 0.023789502680301666, 0.007136851083487272, 0.014273702166974545, 0.009515801444649696, 0.016652652993798256, 0.02141055278480053, 0.014273702166974545, 0.2116393893957138, 0.3174590766429901, 0.026454923674464226, 0.13227461278438568, 0.026454923674464226, 0.07936476916074753, 0.15872953832149506, 0.015405047684907913, 0.015405047684907913, 0.030810095369815826, 0.07702524214982986, 0.1232403814792633, 0.1232403814792633, 0.27729085087776184, 0.04621514305472374, 0.09243028610944748, 0.06162019073963165, 0.07702524214982986, 0.030810095369815826, 0.030810095369815826, 0.2080836445093155, 0.06936121731996536, 0.2080836445093155, 0.06936121731996536, 0.10404182225465775, 0.10404182225465775, 0.06936121731996536, 0.03468060865998268, 0.10404182225465775, 0.03514863923192024, 0.04393579810857773, 0.061510119587183, 0.08787159621715546, 0.01757431961596012, 0.05272296071052551, 0.01757431961596012, 0.03514863923192024, 0.5535910725593567, 0.026361480355262756, 0.00878715980798006, 0.01757431961596012, 0.01757431961596012, 0.032604336738586426, 0.06520867347717285, 0.09781301021575928, 0.06520867347717285, 0.09781301021575928, 0.06520867347717285, 0.3586477041244507, 0.1304173469543457, 0.09781301021575928, 0.1875056028366089, 0.028847016394138336, 0.07211753726005554, 0.21635262668132782, 0.043270524591207504, 0.20192910730838776, 0.07211753726005554, 0.12981157004833221, 0.028847016394138336, 0.09844446182250977, 0.07383334636688232, 0.44300007820129395, 0.07383334636688232, 0.09844446182250977, 0.14766669273376465, 0.04922223091125488, 0.14420340955257416, 0.180254265666008, 0.4686610996723175, 0.10815256088972092, 0.07210170477628708, 0.03605085238814354, 0.4691426157951355, 0.08529865741729736, 0.1066233217716217, 0.04264932870864868, 0.19192197918891907, 0.04264932870864868, 0.02132466435432434, 0.02132466435432434, 0.2037818878889084, 0.13665373623371124, 0.0695255845785141, 0.08151275664567947, 0.03835894167423248, 0.04315381124615669, 0.05753841623663902, 0.07432045042514801, 0.04555124416947365, 0.007192302029579878, 0.03835894167423248, 0.05034611374139786, 0.021576905623078346, 0.04315381124615669, 0.00479486770927906, 0.011987169273197651, 0.011987169273197651, 0.007192302029579878, 0.016782037913799286, 0.00958973541855812, 0.00958973541855812, 0.00958973541855812, 0.00479486770927906, 0.18941974639892578, 0.2731168568134308, 0.035240884870290756, 0.03964599594473839, 0.0044051106087863445, 0.1101277619600296, 0.0969124287366867, 0.08369709551334381, 0.008810221217572689, 0.03964599594473839, 0.04405110329389572, 0.017620442435145378, 0.026430662721395493, 0.035240884870290756, 0.3519328534603119, 0.18769752979278564, 0.14077314734458923, 0.21115972101688385, 0.023462191224098206, 0.04692438244819641, 0.04692438244819641, 0.02481633424758911, 0.04963266849517822, 0.040326543152332306, 0.043428584933280945, 0.06824491918087006, 0.08375512808561325, 0.0961632952094078, 0.015510208904743195, 0.009306125342845917, 0.021714292466640472, 0.07755104452371597, 0.15510208904743195, 0.03102041780948639, 0.046530626714229584, 0.006204083561897278, 0.015510208904743195, 0.05893879383802414, 0.018612250685691833, 0.009306125342845917, 0.08375512808561325, 0.006204083561897278, 0.006204083561897278, 0.012408167123794556, 0.009306125342845917, 0.012408167123794556, 0.018051717430353165, 0.040616367012262344, 0.03610343486070633, 0.04964222386479378, 0.04512929543852806, 0.07220686972141266, 0.13087496161460876, 0.018051717430353165, 0.004512929357588291, 0.09025859087705612, 0.1669783890247345, 0.018051717430353165, 0.04512929543852806, 0.009025858715176582, 0.02256464771926403, 0.08123273402452469, 0.018051717430353165, 0.0857456624507904, 0.013538789004087448, 0.018051717430353165, 0.12863409519195557, 0.03001462109386921, 0.04716583341360092, 0.06860484927892685, 0.012863408774137497, 0.21867795288562775, 0.06002924218773842, 0.09861946851015091, 0.025726817548274994, 0.06431704759597778, 0.008575606159865856, 0.08575606346130371, 0.03001462109386921, 0.012863408774137497, 0.017151212319731712, 0.004287803079932928, 0.017151212319731712, 0.004287803079932928, 0.021439015865325928, 0.004287803079932928, 0.034302424639463425, 0.21089893579483032, 0.0702996477484703, 0.02343321405351162, 0.2343321442604065, 0.11716607213020325, 0.04686642810702324, 0.0702996477484703, 0.18746571242809296, 0.3044343888759613, 0.15221719443798065, 0.050739068537950516, 0.10147813707590103, 0.025369534268975258, 0.07610859721899033, 0.10147813707590103, 0.17758673429489136, 0.1831914335489273, 0.07632976025342941, 0.15265952050685883, 0.06106380745768547, 0.015265951864421368, 0.015265951864421368, 0.15265952050685883, 0.030531903728842735, 0.015265951864421368, 0.2900530993938446, 0.18784978985786438, 0.1712748110294342, 0.049724943935871124, 0.011049987748265266, 0.05524993687868118, 0.005524993874132633, 0.07734990864992142, 0.022099975496530533, 0.044199950993061066, 0.02762496843934059, 0.11049987375736237, 0.044199950993061066, 0.005524993874132633, 0.05524993687868118, 0.06077492982149124, 0.05524993687868118, 0.011049987748265266, 0.005524993874132633, 0.31158047914505005, 0.22255748510360718, 0.1335344910621643, 0.08902299404144287, 0.08902299404144287, 0.1335344910621643, 0.15893428027629852, 0.3708466589450836, 0.026489045470952988, 0.1854233294725418, 0.07946714013814926, 0.13244523108005524, 0.030692705884575844, 0.15857897698879242, 0.04092360660433769, 0.025577254593372345, 0.1892716884613037, 0.10742446780204773, 0.06138541176915169, 0.06138541176915169, 0.020461803302168846, 0.17392532527446747, 0.010230901651084423, 0.020461803302168846, 0.025577254593372345, 0.030692705884575844, 0.025577254593372345, 0.015346352942287922, 0.0051154508255422115, 0.0051154508255422115, 0.00935413595288992, 0.11224963515996933, 0.27126994729042053, 0.11224963515996933, 0.11692669987678528, 0.01870827190577984, 0.17305152118206024, 0.00467706797644496, 0.042093612253665924, 0.00935413595288992, 0.00467706797644496, 0.014031204394996166, 0.03273947536945343, 0.00467706797644496, 0.00467706797644496, 0.028062408789992332, 0.00467706797644496, 0.00467706797644496, 0.014031204394996166, 0.014031204394996166, 0.01224878802895546, 0.0612439401447773, 0.25722452998161316, 0.606315016746521, 0.03674636408686638, 0.02449757605791092, 0.09426852315664291, 0.01767534762620926, 0.09426852315664291, 0.2356712967157364, 0.01767534762620926, 0.04124247655272484, 0.1767534762620926, 0.09426852315664291, 0.05302604287862778, 0.04713426157832146, 0.07070139050483704, 0.04124247655272484, 0.005891782697290182, 0.03208025544881821, 0.019248154014348984, 0.12190497666597366, 0.1347370743751526, 0.012832102365791798, 0.08982472121715546, 0.1154889240860939, 0.07699261605739594, 0.07057656347751617, 0.04491236060857773, 0.12832102179527283, 0.025664204731583595, 0.006416051182895899, 0.05774446204304695, 0.012832102365791798, 0.019248154014348984, 0.012832102365791798, 0.006416051182895899, 0.006416051182895899, 0.2865009307861328, 0.013975655660033226, 0.09782958775758743, 0.1257808953523636, 0.020963482558727264, 0.013975655660033226, 0.3074644207954407, 0.04192696511745453, 0.04192696511745453, 0.027951311320066452, 0.08982726186513901, 0.17965452373027802, 0.012832466512918472, 0.06843981891870499, 0.06416232883930206, 0.047052375972270966, 0.03849739953875542, 0.02994242124259472, 0.047052375972270966, 0.05132986605167389, 0.21815192699432373, 0.1069372221827507, 0.02138744294643402, 0.017109954729676247, 0.05390031263232231, 0.191645547747612, 0.07186708599328995, 0.11977846920490265, 0.04192246496677399, 0.017966771498322487, 0.08983385562896729, 0.04192246496677399, 0.017966771498322487, 0.005988923367112875, 0.01197784673422575, 0.04192246496677399, 0.047911386936903, 0.20961232483386993, 0.04192246496677399, 0.08764582127332687, 0.01593560352921486, 0.11951702833175659, 0.0398390106856823, 0.06374241411685944, 0.03187120705842972, 0.0398390106856823, 0.00796780176460743, 0.3426154851913452, 0.04780681058764458, 0.08764582127332687, 0.06374241411685944, 0.03187120705842972, 0.10861146450042725, 0.06448805332183838, 0.0033941082656383514, 0.013576433062553406, 0.04751751571893692, 0.037335190922021866, 0.1323702186346054, 0.07806448638439178, 0.10861146450042725, 0.06788216531276703, 0.010182324796915054, 0.033941082656383514, 0.030546974390745163, 0.04412340745329857, 0.013576433062553406, 0.006788216531276703, 0.037335190922021866, 0.061093948781490326, 0.006788216531276703, 0.016970541328191757, 0.061093948781490326, 0.010182324796915054, 0.013576433062553406, 0.2853301167488098, 0.007316157221794128, 0.021948471665382385, 0.1536393016576767, 0.31459474563598633, 0.04389694333076477, 0.0512131005525589, 0.007316157221794128, 0.007316157221794128, 0.014632314443588257, 0.021948471665382385, 0.021948471665382385, 0.021948471665382385, 0.19396807253360748, 0.11638084799051285, 0.038793615996837616, 0.11638084799051285, 0.5043169856071472, 0.038793615996837616, 0.17454206943511963, 0.13090655207633972, 0.479990690946579, 0.08727103471755981, 0.08727103471755981, 0.04363551735877991, 0.22371117770671844, 0.09321299195289612, 0.20506858825683594, 0.018642598763108253, 0.05592779442667961, 0.27963897585868835, 0.018642598763108253, 0.07457039505243301, 0.03728519752621651, 0.11445232480764389, 0.11216327548027039, 0.09613995254039764, 0.045780930668115616, 0.041202835738658905, 0.05493711680173874, 0.0389137901365757, 0.10529613494873047, 0.01602332480251789, 0.025179510936141014, 0.06409329921007156, 0.022890465334057808, 0.004578093066811562, 0.041202835738658905, 0.022890465334057808, 0.009156186133623123, 0.022890465334057808, 0.03433569520711899, 0.052648067474365234, 0.025179510936141014, 0.01602332480251789, 0.01602332480251789, 0.013734279200434685, 0.009156186133623123, 0.5156760215759277, 0.0773513987660408, 0.18048660457134247, 0.12891900539398193, 0.051567599177360535, 0.025783799588680267, 0.19177599251270294, 0.020339878275990486, 0.03486836329102516, 0.029056968167424202, 0.06683102995157242, 0.09298229962587357, 0.06101963296532631, 0.06392533332109451, 0.026151271536946297, 0.014528484083712101, 0.014528484083712101, 0.08135951310396194, 0.026151271536946297, 0.031962666660547256, 0.03777405992150307, 0.014528484083712101, 0.03486836329102516, 0.002905696863308549, 0.026151271536946297, 0.04067975655198097, 0.01743418164551258, 0.011622787453234196, 0.029056968167424202, 0.01743418164551258, 0.011622787453234196, 0.06538442522287369, 0.09012448042631149, 0.07245301455259323, 0.04594581574201584, 0.012370026670396328, 0.04594581574201584, 0.028274348005652428, 0.06715157628059387, 0.10602880269289017, 0.024740053340792656, 0.026507200673222542, 0.04064437374472618, 0.024740053340792656, 0.010602880269289017, 0.04594581574201584, 0.12370026856660843, 0.010602880269289017, 0.019438613206148148, 0.03180864080786705, 0.0512472540140152, 0.008835733868181705, 0.014137174002826214, 0.015904320403933525, 0.005301440134644508, 0.0035342935007065535, 0.005301440134644508, 0.15711826086044312, 0.07533067464828491, 0.13129059970378876, 0.10115833580493927, 0.023675354197621346, 0.1700320988893509, 0.002152305096387863, 0.08609220385551453, 0.0408937968313694, 0.05165531858801842, 0.01937074586749077, 0.036589186638593674, 0.008609220385551453, 0.004304610192775726, 0.01937074586749077, 0.006456914823502302, 0.03874149173498154, 0.006456914823502302, 0.02582765929400921, 0.22461426258087158, 0.013212603516876698, 0.019818905740976334, 0.10570082813501358, 0.03633465990424156, 0.02312205545604229, 0.07266931980848312, 0.013212603516876698, 0.118913434445858, 0.013212603516876698, 0.059456717222929, 0.0033031508792191744, 0.026425207033753395, 0.0297283586114645, 0.03633465990424156, 0.02312205545604229, 0.009909452870488167, 0.013212603516876698, 0.0297283586114645, 0.0297283586114645, 0.013212603516876698, 0.026425207033753395, 0.0033031508792191744, 0.02312205545604229, 0.019818905740976334, 0.009909452870488167, 0.0033031508792191744, 0.17817433178424835, 0.01187828928232193, 0.19005262851715088, 0.22568748891353607, 0.08314802497625351, 0.07126973569393158, 0.03563486784696579, 0.13066117465496063, 0.03563486784696579, 0.033646468073129654, 0.06729293614625931, 0.3701111674308777, 0.26917174458503723, 0.06729293614625931, 0.16823235154151917, 0.19627489149570465, 0.19627489149570465, 0.1472061574459076, 0.0736030787229538, 0.02453436143696308, 0.1472061574459076, 0.04906872287392616, 0.12267180532217026, 0.02453436143696308, 0.03219030797481537, 0.004598615225404501, 0.004598615225404501, 0.1425570845603943, 0.01379584614187479, 0.03219030797481537, 0.045986153185367584, 0.10116954147815704, 0.4460656940937042, 0.018394460901618004, 0.01379584614187479, 0.07357784360647202, 0.009197230450809002, 0.045986153185367584, 0.09647577255964279, 0.024118943139910698, 0.07235682755708694, 0.07235682755708694, 0.19295154511928558, 0.024118943139910698, 0.19295154511928558, 0.2894273102283478, 0.024118943139910698, 0.1377352774143219, 0.04132058098912239, 0.04132058098912239, 0.02754705399274826, 0.38565877079963684, 0.05509410798549652, 0.20660291612148285, 0.08264116197824478, 0.01377352699637413, 0.07816701382398605, 0.013027835637331009, 0.026055671274662018, 0.03908350691199303, 0.2866123914718628, 0.03908350691199303, 0.4690020978450775, 0.013027835637331009, 0.4154134690761566, 0.09774434566497803, 0.07330825924873352, 0.01832706481218338, 0.012218043208122253, 0.0916353240609169, 0.006109021604061127, 0.03665412962436676, 0.048872172832489014, 0.030545108020305634, 0.04276315122842789, 0.012218043208122253, 0.012218043208122253, 0.006109021604061127, 0.012218043208122253, 0.01832706481218338, 0.012218043208122253, 0.03665412962436676, 0.38566067814826965, 0.11018876731395721, 0.08657688647508621, 0.023611878976225853, 0.023611878976225853, 0.047223757952451706, 0.015741251409053802, 0.05509438365697861, 0.05509438365697861, 0.039353132247924805, 0.047223757952451706, 0.007870625704526901, 0.015741251409053802, 0.031482502818107605, 0.007870625704526901, 0.039353132247924805, 0.019298603758215904, 0.057895809412002563, 0.03859720751643181, 0.13509021699428558, 0.11579161882400513, 0.5403608679771423, 0.03859720751643181, 0.03859720751643181, 0.019298603758215904, 0.06747455149888992, 0.06747455149888992, 0.1686863750219345, 0.03373727574944496, 0.06747455149888992, 0.47232183814048767, 0.06747455149888992, 0.11973775178194046, 0.11494824290275574, 0.11973775178194046, 0.0215527955442667, 0.49092477560043335, 0.023947549983859062, 0.03352656960487366, 0.01676328480243683, 0.011973774991929531, 0.0047895098105072975, 0.01915803924202919, 0.0215527955442667, 0.2221316546201706, 0.11328714340925217, 0.013327899388968945, 0.03554106503725052, 0.19769717752933502, 0.006663949694484472, 0.00888526625931263, 0.0022213165648281574, 0.0111065823584795, 0.3109843134880066, 0.03554106503725052, 0.006663949694484472, 0.006663949694484472, 0.02887711487710476, 0.1961863785982132, 0.1226164922118187, 0.0735698938369751, 0.02452329732477665, 0.0735698938369751, 0.3678494691848755, 0.1226164922118187, 0.2610723078250885, 0.018648022785782814, 0.07459209114313126, 0.5780887007713318, 0.018648022785782814, 0.018648022785782814, 0.03006834350526333, 0.020045561715960503, 0.09354595839977264, 0.3908884823322296, 0.16036449372768402, 0.0033409271854907274, 0.05679576098918915, 0.04677297919988632, 0.016704635694622993, 0.05679576098918915, 0.01336370874196291, 0.010022780857980251, 0.010022780857980251, 0.06681854277849197, 0.006681854370981455, 0.010022780857980251, 0.010022780857980251, 0.030885305255651474, 0.03860663250088692, 0.4439762532711029, 0.18917249143123627, 0.0038606631569564342, 0.06563127040863037, 0.04246729612350464, 0.06949193775653839, 0.011581989005208015, 0.0038606631569564342, 0.011581989005208015, 0.07335259765386581, 0.0077213263139128685, 0.011581989005208015, 0.11680170893669128, 0.05840085446834564, 0.07786780595779419, 0.07786780595779419, 0.2530703842639923, 0.038933902978897095, 0.11680170893669128, 0.23360341787338257, 0.2689700126647949, 0.08276000618934631, 0.10345000773668289, 0.04138000309467316, 0.22759002447128296, 0.12414000928401947, 0.02069000154733658, 0.12414000928401947, 0.19735850393772125, 0.03947170078754425, 0.21709436178207397, 0.11841510236263275, 0.11841510236263275, 0.157886803150177, 0.03947170078754425, 0.09867925196886063, 0.21943055093288422, 0.08228645473718643, 0.054857637733221054, 0.2468593716621399, 0.10971527546644211, 0.054857637733221054, 0.19200173020362854, 0.28420138359069824, 0.06090030074119568, 0.02030009962618351, 0.1015004962682724, 0.1015004962682724, 0.06090030074119568, 0.04060019925236702, 0.06090030074119568, 0.18270090222358704, 0.06090030074119568, 0.02030009962618351, 0.07687387615442276, 0.06406156718730927, 0.03843693807721138, 0.07687387615442276, 0.12812313437461853, 0.15374775230884552, 0.08968619257211685, 0.012812312692403793, 0.05124925076961517, 0.21780931949615479, 0.07687387615442276, 0.012812312692403793, 0.15950432419776917, 0.05316810682415962, 0.15950432419776917, 0.37217676639556885, 0.07975216209888458, 0.02658405341207981, 0.05316810682415962, 0.07975216209888458, 0.02658405341207981, 0.08583776652812958, 0.05301744490861893, 0.11360880732536316, 0.1464291363954544, 0.08836241066455841, 0.1969219446182251, 0.007573920767754316, 0.007573920767754316, 0.06311600655317307, 0.03282032161951065, 0.02777104265987873, 0.030295683071017265, 0.05049280449748039, 0.007573920767754316, 0.030295683071017265, 0.017672481015324593, 0.02777104265987873, 0.007573920767754316, 0.002524640178307891, 0.027690719813108444, 0.12460824102163315, 0.07614947855472565, 0.04153607785701752, 0.06922680139541626, 0.02076803892850876, 0.05538143962621689, 0.02076803892850876, 0.0484587587416172, 0.02076803892850876, 0.027690719813108444, 0.05538143962621689, 0.006922679953277111, 0.28382986783981323, 0.006922679953277111, 0.05538143962621689, 0.04153607785701752, 0.006922679953277111, 0.006922679953277111, 0.215270534157753, 0.31573012471199036, 0.22244621813297272, 0.007175684440881014, 0.028702737763524055, 0.03587842360138893, 0.04305410757660866, 0.05740547552704811, 0.007175684440881014, 0.007175684440881014, 0.05740547552704811, 0.03505612909793854, 0.21033677458763123, 0.21033677458763123, 0.21033677458763123, 0.03505612909793854, 0.14022451639175415, 0.10516838729381561, 0.03505612909793854, 0.18550479412078857, 0.013250342570245266, 0.03975102677941322, 0.5300136804580688, 0.11925307661294937, 0.013250342570245266, 0.053001370280981064, 0.013250342570245266, 0.013250342570245266, 0.013250342570245266, 0.041971612721681595, 0.2518296539783478, 0.1259148269891739, 0.041971612721681595, 0.08394322544336319, 0.16788645088672638, 0.1259148269891739, 0.041971612721681595, 0.5930852293968201, 0.24711884558200836, 0.037067826837301254, 0.09884753823280334, 0.024711884558200836, 0.0135815953835845, 0.0135815953835845, 0.13581596314907074, 0.1629791408777237, 0.17656074464321136, 0.08148957043886185, 0.06790798157453537, 0.027163190767169, 0.12223435938358307, 0.054326381534338, 0.12223435938358307, 0.0135815953835845, 0.5570091009140015, 0.061889901757240295, 0.04125993326306343, 0.04125993326306343, 0.1856697052717209, 0.08251986652612686, 0.020629966631531715, 0.015759238973259926, 0.64612877368927, 0.07879619300365448, 0.04727771505713463, 0.03151847794651985, 0.14183315634727478, 0.03151847794651985, 0.09274960309267044, 0.019526232033967972, 0.004881558008491993, 0.31730127334594727, 0.009763116016983986, 0.02440779097378254, 0.004881558008491993, 0.09763116389513016, 0.1659729778766632, 0.019526232033967972, 0.07810492813587189, 0.06834181398153305, 0.004881558008491993, 0.004881558008491993, 0.004881558008491993, 0.04393402114510536, 0.004881558008491993, 0.019526232033967972, 0.014644674025475979, 0.1830763816833496, 0.457690954208374, 0.1373072862625122, 0.0915381908416748, 0.1373072862625122, 0.006904236506670713, 0.14498896896839142, 0.027616946026682854, 0.06904236227273941, 0.06213812902569771, 0.10356354713439941, 0.08285083621740341, 0.06904236227273941, 0.05523389205336571, 0.041425418108701706, 0.027616946026682854, 0.027616946026682854, 0.013808473013341427, 0.020712709054350853, 0.04832965508103371, 0.034521181136369705, 0.11046778410673141, 0.034521181136369705, 0.006904236506670713, 0.06476683169603348, 0.06476683169603348, 0.12953366339206696, 0.4209844172000885, 0.06476683169603348, 0.19430050253868103, 0.03238341584801674, 0.09560085088014603, 0.057360511273145676, 0.13384118676185608, 0.17208153009414673, 0.09560085088014603, 0.19120170176029205, 0.019120169803500175, 0.21032187342643738, 0.019120169803500175, 0.019120169803500175, 0.056248318403959274, 0.2249932736158371, 0.11249663680791855, 0.028124159201979637, 0.4499865472316742, 0.028124159201979637, 0.028124159201979637, 0.24528291821479797, 0.030660364776849747, 0.030660364776849747, 0.24528291821479797, 0.18396218121051788, 0.06132072955369949, 0.06132072955369949, 0.06132072955369949, 0.06132072955369949, 0.030660364776849747, 0.03263109177350998, 0.1631554663181305, 0.3589420020580292, 0.13052436709403992, 0.22841764986515045, 0.03263109177350998, 0.051145169883966446, 0.07671775668859482, 0.025572584941983223, 0.025572584941983223, 0.10229033976793289, 0.5370242595672607, 0.025572584941983223, 0.15343551337718964, 0.020908137783408165, 0.04181627556681633, 0.10454069077968597, 0.1254488229751587, 0.020908137783408165, 0.020908137783408165, 0.10454069077968597, 0.020908137783408165, 0.4181627631187439, 0.06272441148757935, 0.04181627556681633, 0.020908137783408165, 0.03033321350812912, 0.03033321350812912, 0.09099964052438736, 0.03033321350812912, 0.12133285403251648, 0.5459978580474854, 0.06066642701625824, 0.03033321350812912, 0.09877695143222809, 0.09877695143222809, 0.049388475716114044, 0.09877695143222809, 0.09877695143222809, 0.14816541969776154, 0.024694237858057022, 0.19755390286445618, 0.049388475716114044, 0.09877695143222809, 0.024694237858057022, 0.14617639780044556, 0.04872546344995499, 0.04872546344995499, 0.04872546344995499, 0.48725464940071106, 0.17053912580013275, 0.024362731724977493, 0.3394218385219574, 0.08932153135538101, 0.07145722955465317, 0.10718584060668945, 0.035728614777326584, 0.07145722955465317, 0.05359292030334473, 0.08932153135538101, 0.017864307388663292, 0.035728614777326584, 0.05359292030334473, 0.05359292030334473, 0.2624759376049042, 0.14998625218868256, 0.07499312609434128, 0.11248968541622162, 0.07499312609434128, 0.07499312609434128, 0.07499312609434128, 0.14998625218868256, 0.3095737397670746, 0.19700147211551666, 0.05628613382577896, 0.1407153308391571, 0.11257226765155792, 0.02814306691288948, 0.05628613382577896, 0.05628613382577896, 0.08442919701337814, 0.28456658124923706, 0.28456658124923706, 0.28456658124923706, 0.03161850944161415, 0.0632370188832283, 0.21077486872673035, 0.026346858590841293, 0.3952028751373291, 0.026346858590841293, 0.07904057949781418, 0.18442800641059875, 0.026346858590841293, 0.026346858590841293, 0.10636571794748306, 0.1861400008201599, 0.026591429486870766, 0.026591429486870766, 0.1595485806465149, 0.21273143589496613, 0.1595485806465149, 0.026591429486870766, 0.07977429032325745, 0.10144926607608795, 0.4311594069004059, 0.025362316519021988, 0.050724633038043976, 0.07608695328235626, 0.2282608598470688, 0.050724633038043976, 0.006786625366657972, 0.05429300293326378, 0.05429300293326378, 0.11537263542413712, 0.14930576086044312, 0.006786625366657972, 0.02714650146663189, 0.04750638082623482, 0.013573250733315945, 0.04071975499391556, 0.02714650146663189, 0.02035987749695778, 0.19681213796138763, 0.09501276165246964, 0.006786625366657972, 0.1357325166463852, 0.006786625366657972, 0.007383398711681366, 0.05906718969345093, 0.014766797423362732, 0.10336758196353912, 0.15505138039588928, 0.007383398711681366, 0.007383398711681366, 0.05906718969345093, 0.014766797423362732, 0.044300392270088196, 0.029533594846725464, 0.022150196135044098, 0.22150196135044098, 0.10336758196353912, 0.007383398711681366, 0.14028458297252655, 0.007383398711681366, 0.02165643870830536, 0.7406501770019531, 0.012993862852454185, 0.05197545140981674, 0.08229446411132812, 0.004331287927925587, 0.07796318084001541, 0.008662575855851173, 0.08108218759298325, 0.24324655532836914, 0.08108218759298325, 0.04054109379649162, 0.12162327766418457, 0.04054109379649162, 0.04054109379649162, 0.04054109379649162, 0.1621643751859665, 0.08108218759298325, 0.7511047720909119, 0.07511048018932343, 0.03755524009466171, 0.11266572028398514, 0.32567790150642395, 0.013569911941885948, 0.06784956157207489, 0.06784956157207489, 0.32567790150642395, 0.027139823883771896, 0.08141947537660599, 0.06784956157207489, 0.29053670167922974, 0.07263417541980743, 0.03631708770990372, 0.2179025262594223, 0.10895126312971115, 0.10895126312971115, 0.03631708770990372, 0.07263417541980743, 0.5528109669685364, 0.24781180918216705, 0.07624978572130203, 0.019062446430325508, 0.057187341153621674, 0.057187341153621674, 0.11935589462518692, 0.05967794731259346, 0.1491948664188385, 0.08951691538095474, 0.05967794731259346, 0.11935589462518692, 0.11935589462518692, 0.08951691538095474, 0.1491948664188385, 0.3557768166065216, 0.009240956977009773, 0.013861434534192085, 0.004620478488504887, 0.2356443852186203, 0.018481913954019547, 0.02310239151120186, 0.15247578918933868, 0.03696382790803909, 0.013861434534192085, 0.009240956977009773, 0.06930717080831528, 0.02310239151120186, 0.02310239151120186, 0.018481913954019547, 0.7275288105010986, 0.20370806753635406, 0.02910115197300911, 0.030755257233977318, 0.061510514467954636, 0.3690630793571472, 0.12302102893590927, 0.24604205787181854, 0.0922657698392868, 0.061510514467954636, 0.10987303406000137, 0.15870550274848938, 0.09766492247581482, 0.024416230618953705, 0.15870550274848938, 0.15870550274848938, 0.03662434592843056, 0.012208115309476852, 0.04883246123790741, 0.03662434592843056, 0.024416230618953705, 0.12208115309476852, 0.012208115309476852, 0.107630155980587, 0.0807226151227951, 0.1883527636528015, 0.0807226151227951, 0.0807226151227951, 0.1614452302455902, 0.1883527636528015, 0.0538150779902935, 0.02690753899514675, 0.3145652413368225, 0.19259095191955566, 0.1283939778804779, 0.1283939778804779, 0.03851819038391113, 0.00641969870775938, 0.10913487523794174, 0.01283939741551876, 0.06419698894023895, 0.009770402684807777, 0.16609683632850647, 0.15632644295692444, 0.029311208054423332, 0.009770402684807777, 0.068392813205719, 0.09770402312278748, 0.014655604027211666, 0.04885201156139374, 0.014655604027211666, 0.08304841816425323, 0.004885201342403889, 0.05373721197247505, 0.004885201342403889, 0.029311208054423332, 0.058622416108846664, 0.0341964066028595, 0.014655604027211666, 0.06350761651992798, 0.019540805369615555, 0.019540805369615555, 0.2085445672273636, 0.08689357340335846, 0.0521361418068409, 0.1042722836136818, 0.0521361418068409, 0.22592328488826752, 0.06951485574245453, 0.13902971148490906, 0.034757427871227264, 0.034757427871227264, 0.1303960531949997, 0.20766779780387878, 0.08693070709705353, 0.03380638360977173, 0.0531243197619915, 0.01448845025151968, 0.0531243197619915, 0.01448845025151968, 0.02897690050303936, 0.038635868579149246, 0.019317934289574623, 0.02414741739630699, 0.03380638360977173, 0.01448845025151968, 0.01448845025151968, 0.009658967144787312, 0.019317934289574623, 0.043465353548526764, 0.08693070709705353, 0.019317934289574623, 0.02897690050303936, 0.019317934289574623, 0.3041619658470154, 0.12166478484869003, 0.047314081341028214, 0.054073236882686615, 0.027036618441343307, 0.047314081341028214, 0.006759154610335827, 0.027036618441343307, 0.03379577398300171, 0.054073236882686615, 0.020277464762330055, 0.020277464762330055, 0.07435069978237152, 0.09462816268205643, 0.04055492952466011, 0.013518309220671654, 0.14375492930412292, 0.5191150307655334, 0.2316051721572876, 0.007986385375261307, 0.02395915426313877, 0.02395915426313877, 0.015972770750522614, 0.03194554150104523, 0.9293707609176636, 0.03319181501865387, 0.04292939603328705, 0.032197047024965286, 0.10732349008321762, 0.6868703365325928, 0.010732349008321762, 0.021464698016643524, 0.021464698016643524, 0.04292939603328705, 0.010732349008321762, 0.010732349008321762, 0.010732349008321762, 0.008188050240278244, 0.053222328424453735, 0.3111459016799927, 0.04503427818417549, 0.3643682301044464, 0.02047012560069561, 0.02047012560069561, 0.028658175840973854, 0.028658175840973854, 0.028658175840973854, 0.053222328424453735, 0.012282075360417366, 0.004094025120139122, 0.012282075360417366, 0.07902868837118149, 0.015805738046765327, 0.16596025228500366, 0.04741721600294113, 0.5452979803085327, 0.04741721600294113, 0.07902868837118149, 0.023708608001470566, 0.06843636184930801, 0.11659528315067291, 0.24839864671230316, 0.08871380239725113, 0.04562424123287201, 0.0025346800684928894, 0.025346800684928894, 0.017742760479450226, 0.04562424123287201, 0.05322828143835068, 0.03295084089040756, 0.09124848246574402, 0.04562424123287201, 0.007604040205478668, 0.005069360136985779, 0.005069360136985779, 0.030416160821914673, 0.012673400342464447, 0.05069360136985779, 0.007604040205478668, 0.2304534614086151, 0.1047515720129013, 0.0628509446978569, 0.1466522067785263, 0.3771056830883026, 0.0419006310403347, 0.02095031552016735, 0.02095031552016735, 0.14352351427078247, 0.07828555256128311, 0.013047591783106327, 0.10438073426485062, 0.026095183566212654, 0.11742832511663437, 0.3261898159980774, 0.039142776280641556, 0.07828555256128311, 0.039142776280641556, 0.033497460186481476, 0.008374365046620369, 0.08374365419149399, 0.4019695520401001, 0.008374365046620369, 0.05862055718898773, 0.1339898407459259, 0.041871827095746994, 0.09211801737546921, 0.06699492037296295, 0.025123097002506256, 0.041871827095746994, 0.143416628241539, 0.0478055439889431, 0.0478055439889431, 0.3585415780544281, 0.0478055439889431, 0.02390277199447155, 0.0478055439889431, 0.0717083141207695, 0.1195138618350029, 0.02390277199447155, 0.02390277199447155, 0.12539172172546387, 0.03134793043136597, 0.06269586086273193, 0.2821313738822937, 0.06269586086273193, 0.03134793043136597, 0.03134793043136597, 0.0940437838435173, 0.15673965215682983, 0.03134793043136597, 0.03134793043136597, 0.25928279757499695, 0.07071349024772644, 0.23571163415908813, 0.023571163415908813, 0.07071349024772644, 0.1649981439113617, 0.04714232683181763, 0.023571163415908813, 0.023571163415908813, 0.04714232683181763, 0.21690382063388824, 0.1807531863451004, 0.21690382063388824, 0.10845191031694412, 0.1807531863451004, 0.03615063801407814, 0.2827141582965851, 0.12850643694400787, 0.10280514508485794, 0.17990900576114655, 0.025701286271214485, 0.17990900576114655, 0.0771038606762886, 0.07194691151380539, 0.017986727878451347, 0.39570799469947815, 0.10792036354541779, 0.07194691151380539, 0.035973455756902695, 0.05396018177270889, 0.017986727878451347, 0.017986727878451347, 0.07194691151380539, 0.035973455756902695, 0.08993364125490189, 0.035973455756902695, 0.165103018283844, 0.2063787579536438, 0.1031893789768219, 0.1444651335477829, 0.0206378772854805, 0.1857408881187439, 0.0206378772854805, 0.041275754570961, 0.1238272562623024, 0.14144371449947357, 0.3457513153553009, 0.03143193572759628, 0.17287565767765045, 0.20430758595466614, 0.047147903591394424, 0.01571596786379814, 0.01571596786379814, 0.023949390277266502, 0.23949390649795532, 0.1436963528394699, 0.21554452180862427, 0.09579756110906601, 0.16764573752880096, 0.023949390277266502, 0.07184817641973495, 0.32321715354919434, 0.4040214419364929, 0.04040214419364929, 0.08080428838729858, 0.12120643258094788, 0.04040214419364929, 0.031667184084653854, 0.15833592414855957, 0.31667184829711914, 0.09500155597925186, 0.09500155597925186, 0.22167029976844788, 0.031667184084653854, 0.031667184084653854, 0.20573854446411133, 0.16001886129379272, 0.11429918557405472, 0.04571967571973801, 0.11429918557405472, 0.06857950985431671, 0.06857950985431671, 0.06857950985431671, 0.16001886129379272, 0.022859837859869003, 0.27294862270355225, 0.13647431135177612, 0.27294862270355225, 0.13647431135177612, 0.03411857783794403, 0.03411857783794403, 0.10235573351383209, 0.019317489117383957, 0.038634978234767914, 0.07726995646953583, 0.07726995646953583, 0.1352224200963974, 0.05795246735215187, 0.019317489117383957, 0.05795246735215187, 0.038634978234767914, 0.05795246735215187, 0.07726995646953583, 0.28976231813430786, 0.05795246735215187, 0.14533960819244385, 0.4117955267429352, 0.04844653233885765, 0.04844653233885765, 0.024223266169428825, 0.2664559483528137, 0.2149561047554016, 0.27637213468551636, 0.09212404489517212, 0.061416029930114746, 0.12283205986022949, 0.18424808979034424, 0.030708014965057373, 0.3271169662475586, 0.07269266247749329, 0.5088486075401306, 0.07269266247749329, 0.08639850467443466, 0.06911880522966385, 0.017279701307415962, 0.017279701307415962, 0.10367820411920547, 0.060478951781988144, 0.02591955102980137, 0.16415715217590332, 0.09503835439682007, 0.034559402614831924, 0.05183910205960274, 0.034559402614831924, 0.008639850653707981, 0.02591955102980137, 0.034559402614831924, 0.008639850653707981, 0.04319925233721733, 0.034559402614831924, 0.09503835439682007, 0.042717043310403824, 0.07594141364097595, 0.06170239672064781, 0.023731691762804985, 0.14713647961616516, 0.18510718643665314, 0.06170239672064781, 0.028478030115365982, 0.06644873321056366, 0.0901804268360138, 0.0711950734257698, 0.04746338352560997, 0.037970706820487976, 0.004746338352560997, 0.009492676705121994, 0.018985353410243988, 0.004746338352560997, 0.018985353410243988, 0.1242230236530304, 0.1552787870168686, 0.0621115118265152, 0.0465836338698864, 0.0776393935084343, 0.0155278779566288, 0.0310557559132576, 0.1242230236530304, 0.3105575740337372, 0.0310557559132576, 0.0155278779566288, 0.0669061467051506, 0.2676245868206024, 0.0892081931233406, 0.20071843266487122, 0.0892081931233406, 0.0669061467051506, 0.0669061467051506, 0.1338122934103012, 0.7017375230789185, 0.005012411158531904, 0.005012411158531904, 0.04511169716715813, 0.010024822317063808, 0.010024822317063808, 0.02506205439567566, 0.11027304083108902, 0.015037233009934425, 0.03007446601986885, 0.02506205439567566, 0.005012411158531904, 0.7490518689155579, 0.03404781222343445, 0.04766693711280823, 0.08852431178092957, 0.00680956244468689, 0.01361912488937378, 0.04766693711280823, 0.00680956244468689, 0.14415089786052704, 0.07207544893026352, 0.11532071977853775, 0.11532071977853775, 0.5333583354949951, 0.014415089972317219, 0.30939918756484985, 0.015469959005713463, 0.10055473446846008, 0.2784592807292938, 0.16243457794189453, 0.08508477360010147, 0.007734979502856731, 0.015469959005713463, 0.007734979502856731, 0.007734979502856731, 0.007734979502856731, 0.378292441368103, 0.4005449414253235, 0.20027247071266174, 0.22928905487060547, 0.01834312453866005, 0.05502937361598015, 0.0366862490773201, 0.009171562269330025, 0.009171562269330025, 0.0366862490773201, 0.009171562269330025, 0.08254405856132507, 0.009171562269330025, 0.0366862490773201, 0.01834312453866005, 0.2201174944639206, 0.027514686807990074, 0.1100587472319603, 0.01834312453866005, 0.0366862490773201, 0.0366862490773201, 0.1975107192993164, 0.01975107192993164, 0.07900428771972656, 0.05925321206450462, 0.46415016055107117, 0.05925321206450462, 0.0493776798248291, 0.06912875175476074, 0.24010968208312988, 0.24010968208312988, 0.022867588326334953, 0.011433794163167477, 0.20580829679965973, 0.04573517665266991, 0.14863932132720947, 0.034301381558179855, 0.022867588326334953, 0.011433794163167477, 0.022867588326334953, 0.024815669283270836, 0.08933641016483307, 0.10422581434249878, 0.004963133949786425, 0.029778802767395973, 0.0794101431965828, 0.03474193811416626, 0.0198525357991457, 0.029778802767395973, 0.004963133949786425, 0.024815669283270836, 0.18363595008850098, 0.00992626789957285, 0.0198525357991457, 0.10918894410133362, 0.024815669283270836, 0.0794101431965828, 0.0397050715982914, 0.024815669283270836, 0.014889401383697987, 0.00992626789957285, 0.029778802767395973, 0.05827132984995842, 0.26804810762405396, 0.03496279940009117, 0.023308532312512398, 0.13985119760036469, 0.05827132984995842, 0.06992559880018234, 0.16315972805023193, 0.03496279940009117, 0.05827132984995842, 0.06992559880018234, 0.16979390382766724, 0.15673284232616425, 0.11754962801933289, 0.09142749011516571, 0.07836642116308212, 0.03918321058154106, 0.18285498023033142, 0.03918321058154106, 0.05224427953362465, 0.026122139766812325, 0.013061069883406162, 0.013061069883406162, 0.2520233690738678, 0.3920363485813141, 0.22402076423168182, 0.028002595528960228, 0.056005191057920456, 0.3067190945148468, 0.0340798981487751, 0.0851997509598732, 0.01703994907438755, 0.0511198490858078, 0.238559290766716, 0.1022396981716156, 0.0340798981487751, 0.0340798981487751, 0.0340798981487751, 0.0340798981487751, 0.3632814884185791, 0.13972364366054535, 0.02794472873210907, 0.2794472873210907, 0.11177891492843628, 0.02794472873210907, 0.1668262779712677, 0.06951095163822174, 0.5977941751480103, 0.027804380282759666, 0.12511970102787018, 0.2462613582611084, 0.06314393877983093, 0.006314393598586321, 0.12628787755966187, 0.21468938887119293, 0.006314393598586321, 0.04420075565576553, 0.06945832818746567, 0.0378863625228405, 0.012628787197172642, 0.012628787197172642, 0.05051514878869057, 0.031571969389915466, 0.0378863625228405, 0.012628787197172642, 0.01894318126142025, 0.012628787197172642, 0.08576685190200806, 0.027445390820503235, 0.034306738525629044, 0.03087606653571129, 0.03087606653571129, 0.10292021930217743, 0.1578110009431839, 0.027445390820503235, 0.027445390820503235, 0.04802943393588066, 0.034306738525629044, 0.017153369262814522, 0.05489078164100647, 0.10635089129209518, 0.03087606653571129, 0.013722695410251617, 0.0034306738525629044, 0.020584043115377426, 0.08576685190200806, 0.0034306738525629044, 0.017153369262814522, 0.027445390820503235, 0.0034306738525629044, 0.12336447834968567, 0.030841119587421417, 0.27757006883621216, 0.15420560538768768, 0.061682239174842834, 0.21588784456253052, 0.12336447834968567, 0.030333634465932846, 0.09100090712308884, 0.36400362849235535, 0.2730027139186859, 0.06066726893186569, 0.18200181424617767, 0.08106839656829834, 0.1540299504995346, 0.048641037195920944, 0.09728207439184189, 0.462089866399765, 0.016213679686188698, 0.06485471874475479, 0.024320518597960472, 0.016213679686188698, 0.008106839843094349, 0.008106839843094349, 0.22553345561027527, 0.09496145695447922, 0.023740364238619804, 0.04748072847723961, 0.08309127390384674, 0.059350911527872086, 0.04748072847723961, 0.03561054542660713, 0.11870182305574417, 0.09496145695447922, 0.14244218170642853, 0.011870182119309902, 0.07577995210886002, 0.09472493827342987, 0.11366993188858032, 0.4167897403240204, 0.03788997605443001, 0.018944988027215004, 0.03788997605443001, 0.03788997605443001, 0.07577995210886002, 0.03788997605443001, 0.018944988027215004, 0.12967996299266815, 0.038903988897800446, 0.1685839593410492, 0.15561595559120178, 0.06483998149633408, 0.012967996299266815, 0.14264796674251556, 0.02593599259853363, 0.05187198519706726, 0.012967996299266815, 0.11671196669340134, 0.06483998149633408, 0.26441848278045654, 0.44069746136665344, 0.04406974837183952, 0.13220924139022827, 0.08813949674367905, 0.05444718524813652, 0.06805898249149323, 0.02722359262406826, 0.08167077600955963, 0.02722359262406826, 0.19056513905525208, 0.12250616401433945, 0.02722359262406826, 0.06805898249149323, 0.09528256952762604, 0.01361179631203413, 0.12250616401433945, 0.040835388004779816, 0.02722359262406826, 0.01361179631203413, 0.09951533377170563, 0.1848141849040985, 0.04264942929148674, 0.35541191697120667, 0.028432952240109444, 0.028432952240109444, 0.07108238339424133, 0.04264942929148674, 0.05686590448021889, 0.07108238339424133, 0.24257981777191162, 0.08085993677377701, 0.20214985311031342, 0.46494466066360474, 0.11899489164352417, 0.039664965122938156, 0.019832482561469078, 0.02644330821931362, 0.4495362639427185, 0.28426557779312134, 0.033054135739803314, 0.01322165410965681, 0.2431318461894989, 0.011051447130739689, 0.10498874634504318, 0.1160401999950409, 0.0386800654232502, 0.04973151162266731, 0.28733763098716736, 0.04973151162266731, 0.0386800654232502, 0.011051447130739689, 0.044205788522958755, 0.43434691429138184, 0.030557069927453995, 0.05456619709730148, 0.004365295637398958, 0.008730591274797916, 0.10040179640054703, 0.074210025370121, 0.04583560302853584, 0.002182647818699479, 0.03928766027092934, 0.0371050126850605, 0.013095886446535587, 0.01964383013546467, 0.004365295637398958, 0.08730591088533401, 0.008730591274797916, 0.017461182549595833, 0.006547943223267794, 0.010913238860666752, 0.3096063733100891, 0.08845896273851395, 0.022114740684628487, 0.13268844783306122, 0.26537689566612244, 0.022114740684628487, 0.08845896273851395, 0.04422948136925697, 0.05913070961833, 0.05913070961833, 0.05913070961833, 0.7095685005187988, 0.11826141923666, 0.05920616537332535, 0.010448146611452103, 0.0034827154595404863, 0.02786172367632389, 0.0034827154595404863, 0.03134443983435631, 0.29254812002182007, 0.49802833795547485, 0.010448146611452103, 0.04179258644580841, 0.010448146611452103, 0.010448146611452103, 0.833046555519104, 0.015146301127970219, 0.030292602255940437, 0.030292602255940437, 0.015146301127970219, 0.015146301127970219, 0.030292602255940437, 0.6271953582763672, 0.06744036078453064, 0.0067440359853208065, 0.20906512439250946, 0.013488071970641613, 0.060696326196193695, 0.06947752833366394, 0.05210814252495766, 0.008684691041707993, 0.06079283356666565, 0.19106319546699524, 0.008684691041707993, 0.043423451483249664, 0.06079283356666565, 0.017369382083415985, 0.043423451483249664, 0.02605407126247883, 0.19974789023399353, 0.08684690296649933, 0.1302703619003296, 0.008684691041707993, 0.009489462710916996, 0.047447312623262405, 0.06642623990774155, 0.20876818895339966, 0.06642623990774155, 0.018978925421833992, 0.047447312623262405, 0.028468389064073563, 0.21825765073299408, 0.09489462524652481, 0.17081032693386078, 0.009489462710916996, 0.26624637842178345, 0.20919358730316162, 0.019017599523067474, 0.11410558968782425, 0.0760703980922699, 0.26624637842178345, 0.019017599523067474, 0.019017599523067474, 0.5604320168495178, 0.3411325216293335, 0.06091652438044548, 0.012183304876089096, 0.5066955089569092, 0.2384449541568756, 0.02980561926960945, 0.02980561926960945, 0.1788337230682373, 0.07962939143180847, 0.11944408714771271, 0.23888817429542542, 0.17916613817214966, 0.17916613817214966, 0.13935144245624542, 0.059722043573856354, 0.019907347857952118, 0.052221957594156265, 0.052221957594156265, 0.1305548995733261, 0.18277685344219208, 0.23499882221221924, 0.20888783037662506, 0.026110978797078133, 0.026110978797078133, 0.026110978797078133, 0.052221957594156265, 0.1506435126066208, 0.2510725259780884, 0.47703781723976135, 0.025107253342866898, 0.050214506685733795, 0.025107253342866898, 0.053261835128068924, 0.07989275455474854, 0.03994637727737427, 0.25299373269081116, 0.1464700549840927, 0.026630917564034462, 0.026630917564034462, 0.06657729297876358, 0.15978550910949707, 0.053261835128068924, 0.06657729297876358, 0.026630917564034462, 0.2077730894088745, 0.15582981705665588, 0.25971636176109314, 0.23374471068382263, 0.10388654470443726, 0.025971636176109314, 0.0987577736377716, 0.44440996646881104, 0.44440996646881104, 0.6462017893791199, 0.08616024255752563, 0.06462018191814423, 0.06462018191814423, 0.02154006063938141, 0.02154006063938141, 0.02154006063938141, 0.02154006063938141, 0.02154006063938141, 0.2016575187444687, 0.44364652037620544, 0.04033150151371956, 0.08066300302743912, 0.04033150151371956, 0.16132600605487823, 0.05415971204638481, 0.036106474697589874, 0.018053237348794937, 0.41522446274757385, 0.10831942409276962, 0.09026618301868439, 0.07221294939517975, 0.12637266516685486, 0.05415971204638481, 0.018053237348794937, 0.1978161633014679, 0.1978161633014679, 0.049454040825366974, 0.1978161633014679, 0.12363509833812714, 0.049454040825366974, 0.024727020412683487, 0.07418105751276016, 0.049454040825366974, 0.12272951006889343, 0.12272951006889343, 0.061364755034446716, 0.4295532703399658, 0.1534118801355362, 0.061364755034446716, 0.030682377517223358, 0.09512440115213394, 0.022382210940122604, 0.08952884376049042, 0.03916887193918228, 0.05595552921295166, 0.022382210940122604, 0.03916887193918228, 0.011191105470061302, 0.13429327309131622, 0.016786659136414528, 0.005595552735030651, 0.005595552735030651, 0.022382210940122604, 0.005595552735030651, 0.09512440115213394, 0.09512440115213394, 0.04476442188024521, 0.005595552735030651, 0.016786659136414528, 0.06714663654565811, 0.07274218648672104, 0.011191105470061302, 0.022382210940122604, 0.43640637397766113, 0.30805155634880066, 0.2310386747121811, 0.01835779659450054, 0.31208252906799316, 0.11014677584171295, 0.12850457429885864, 0.01835779659450054, 0.2753669321537018, 0.01835779659450054, 0.03671559318900108, 0.055073387920856476, 0.01835779659450054, 0.23940502107143402, 0.02176409400999546, 0.02176409400999546, 0.10882046818733215, 0.15234865248203278, 0.4135177731513977, 0.02176409400999546, 0.051691193133592606, 0.10338238626718521, 0.09045958518981934, 0.03876839578151703, 0.3876839578151703, 0.051691193133592606, 0.09045958518981934, 0.051691193133592606, 0.03876839578151703, 0.025845596566796303, 0.012922798283398151, 0.012922798283398151, 0.03876839578151703, 0.005731993354856968, 0.06591792404651642, 0.10747487097978592, 0.004298994783312082, 0.008597989566624165, 0.053020939230918884, 0.001432998338714242, 0.005731993354856968, 0.38834255933761597, 0.002865996677428484, 0.01576298102736473, 0.03295896202325821, 0.020061977207660675, 0.06018592789769173, 0.011463986709713936, 0.012896984815597534, 0.011463986709713936, 0.1690938025712967, 0.010030988603830338, 0.001432998338714242, 0.002865996677428484, 0.007164991460740566, 0.002865996677428484, 0.07927493751049042, 0.03603406250476837, 0.007206812500953674, 0.028827250003814697, 0.1369294375181198, 0.2810657024383545, 0.021620437502861023, 0.03603406250476837, 0.05044768750667572, 0.043240875005722046, 0.08648175001144409, 0.007206812500953674, 0.014413625001907349, 0.028827250003814697, 0.07206812500953674, 0.014413625001907349, 0.021620437502861023, 0.021620437502861023, 0.007206812500953674, 0.09259773790836334, 0.16835953295230865, 0.042089883238077164, 0.3788089454174042, 0.008417976088821888, 0.008417976088821888, 0.016835952177643776, 0.260957270860672, 0.7607530951499939, 0.17804859578609467, 0.03237247094511986, 0.002398380544036627, 0.009593522176146507, 0.7650834321975708, 0.052764374762773514, 0.007195142097771168, 0.02878056839108467, 0.07195141911506653, 0.04317085072398186, 0.01678866520524025, 0.11246617138385773, 0.01874436065554619, 0.1499548852443695, 0.01874436065554619, 0.4311203062534332, 0.056233085691928864, 0.168699249625206, 0.07112561911344528, 0.05334421619772911, 0.12446983903646469, 0.24893967807292938, 0.2311582714319229, 0.2311582714319229, 0.03556280955672264, 0.03595950827002525, 0.0467473603785038, 0.0035959507804363966, 0.014383803121745586, 0.017979754135012627, 0.007191901560872793, 0.2553125023841858, 0.025171654298901558, 0.07551496475934982, 0.050343308597803116, 0.021575704216957092, 0.03955545648932457, 0.0035959507804363966, 0.028767606243491173, 0.0467473603785038, 0.028767606243491173, 0.021575704216957092, 0.0035959507804363966, 0.1833934783935547, 0.0467473603785038, 0.03595950827002525, 0.03118654526770115, 0.0467798188328743, 0.1403394490480423, 0.03118654526770115, 0.0467798188328743, 0.0935596376657486, 0.0779663622379303, 0.03118654526770115, 0.0935596376657486, 0.0935596376657486, 0.0623730905354023, 0.1403394490480423, 0.0623730905354023, 0.0467798188328743, 0.0794539675116539, 0.12223687767982483, 0.024447375908493996, 0.006111843977123499, 0.04889475181698799, 0.1405724138021469, 0.10390134900808334, 0.04889475181698799, 0.030559219419956207, 0.09167765825986862, 0.06723028421401978, 0.024447375908493996, 0.012223687954246998, 0.030559219419956207, 0.018335532397031784, 0.018335532397031784, 0.018335532397031784, 0.07334212958812714, 0.03667106479406357, 0.1436970829963684, 0.08621825277805328, 0.05747883394360542, 0.2299153357744217, 0.02873941697180271, 0.3736124038696289, 0.02873941697180271, 0.02873941697180271, 0.07620976120233536, 0.03810488060116768, 0.03810488060116768, 0.30483904480934143, 0.07620976120233536, 0.28578659892082214, 0.03810488060116768, 0.13336707651615143, 0.18188495934009552, 0.036376990377902985, 0.10913097113370895, 0.10913097113370895, 0.2546389400959015, 0.2546389400959015, 0.036376990377902985, 0.0124207129701972, 0.32293856143951416, 0.07452428340911865, 0.0124207129701972, 0.0124207129701972, 0.12420713156461716, 0.24841426312923431, 0.0248414259403944, 0.0248414259403944, 0.12420713156461716, 0.19402162730693817, 0.033742889761924744, 0.025307169184088707, 0.0590500608086586, 0.10122867673635483, 0.033742889761924744, 0.07592150568962097, 0.04217861220240593, 0.008435722440481186, 0.0590500608086586, 0.13497155904769897, 0.1855859011411667, 0.008435722440481186, 0.008435722440481186, 0.008435722440481186, 0.11620527505874634, 0.14525659382343292, 0.029051318764686584, 0.14525659382343292, 0.348615825176239, 0.05810263752937317, 0.14525659382343292, 0.06816534698009491, 0.12496981024742126, 0.05301749333739281, 0.06437838822603226, 0.056804459542036057, 0.037869639694690704, 0.14011766016483307, 0.018934819847345352, 0.09088712930679321, 0.06059142202138901, 0.003786963876336813, 0.011360891163349152, 0.056804459542036057, 0.007573927752673626, 0.037869639694690704, 0.026508746668696404, 0.018934819847345352, 0.022721782326698303, 0.015147855505347252, 0.045443564653396606, 0.015147855505347252, 0.007573927752673626, 0.011360891163349152, 0.007573927752673626, 0.14323846995830536, 0.312520295381546, 0.1302167922258377, 0.19532518088817596, 0.06510839611291885, 0.1302167922258377, 0.07291308790445328, 0.012152181006968021, 0.1336739957332611, 0.08506526798009872, 0.024304362013936043, 0.1336739957332611, 0.46178287267684937, 0.06076090410351753, 0.2358071506023407, 0.17149610817432404, 0.15005908906459808, 0.15005908906459808, 0.021437013521790504, 0.21437013149261475, 0.04287402704358101, 0.9948102831840515, 0.1431191861629486, 0.061947111040353775, 0.04699435830116272, 0.05126657336950302, 0.059811003506183624, 0.057674895972013474, 0.15807193517684937, 0.17088857293128967, 0.05126657336950302, 0.029905501753091812, 0.036313824355602264, 0.006408321671187878, 0.014952750876545906, 0.002136107301339507, 0.02563328668475151, 0.004272214602679014, 0.012816643342375755, 0.012816643342375755, 0.02349717915058136, 0.006408321671187878, 0.012816643342375755, 0.004272214602679014, 0.002136107301339507, 0.002136107301339507, 0.06711304932832718, 0.09507682174444199, 0.10626232624053955, 0.2684521973133087, 0.04474203288555145, 0.04474203288555145, 0.011185508221387863, 0.055927541106939316, 0.011185508221387863, 0.03355652466416359, 0.0894840657711029, 0.06711304932832718, 0.0615202970802784, 0.011185508221387863, 0.016778262332081795, 0.011185508221387863, 0.06571731716394424, 0.013143463991582394, 0.052573855966329575, 0.1314346343278885, 0.10514771193265915, 0.013143463991582394, 0.1314346343278885, 0.2102954238653183, 0.15772156417369843, 0.09200424700975418, 0.013143463991582394, 0.05162562057375908, 0.017208540812134743, 0.08604270219802856, 0.10325124114751816, 0.06883416324853897, 0.12045978754758835, 0.4646306037902832, 0.06883416324853897, 0.1854543387889862, 0.061818111687898636, 0.06387871503829956, 0.04533328115940094, 0.035030264407396317, 0.05975750833749771, 0.02678784728050232, 0.11539380252361298, 0.028848450630903244, 0.06799992173910141, 0.061818111687898636, 0.020606037229299545, 0.030909055843949318, 0.035030264407396317, 0.043272677809000015, 0.016484828665852547, 0.0020606035832315683, 0.006181810982525349, 0.0020606035832315683, 0.030909055843949318, 0.01854543387889862, 0.0020606035832315683, 0.008242414332926273, 0.02266664057970047, 0.0020606035832315683, 0.004121207166463137, 0.5558964610099792, 0.2048039585351944, 0.02925770729780197, 0.02925770729780197, 0.05851541459560394, 0.11703082919120789, 0.6291617155075073, 0.19868265092372894, 0.03311377391219139, 0.13245509564876556, 0.08460942655801773, 0.080378957092762, 0.30882441997528076, 0.1269141435623169, 0.10153131186962128, 0.0042304713279008865, 0.03384377062320709, 0.042304713279008865, 0.06768754124641418, 0.02538282796740532, 0.042304713279008865, 0.029613299295306206, 0.021152356639504433, 0.008460942655801773, 0.021152356639504433, 0.4427746832370758, 0.057132214307785034, 0.028566107153892517, 0.057132214307785034, 0.014283053576946259, 0.11426442861557007, 0.07141526788473129, 0.042849160730838776, 0.07141526788473129, 0.09998137503862381, 0.2181892991065979, 0.08727572113275528, 0.04363786056637764, 0.14545953273773193, 0.04363786056637764, 0.10182167589664459, 0.07272976636886597, 0.029091905802488327, 0.014545952901244164, 0.014545952901244164, 0.20364335179328918, 0.08913545310497284, 0.11884726583957672, 0.02971181645989418, 0.20798271894454956, 0.1485590785741806, 0.1485590785741806, 0.02971181645989418, 0.08913545310497284, 0.02971181645989418, 0.05942363291978836, 0.3652198016643524, 0.20869703590869904, 0.017391419038176537, 0.02608712948858738, 0.37391552329063416, 0.1375885307788849, 0.055035416036844254, 0.027517708018422127, 0.2751770615577698, 0.19262395799160004, 0.1375885307788849, 0.11007083207368851, 0.1595824956893921, 0.1773138791322708, 0.39009055495262146, 0.05319416522979736, 0.01773138903081417, 0.1595824956893921, 0.01773138903081417, 0.01773138903081417, 0.05957372859120369, 0.11914745718240738, 0.029786864295601845, 0.029786864295601845, 0.14893431961536407, 0.14893431961536407, 0.14893431961536407, 0.05957372859120369, 0.08936058729887009, 0.17872117459774017, 0.5138121843338013, 0.19645759463310242, 0.1360090970993042, 0.10578485578298569, 0.03022424504160881, 0.21629038453102112, 0.07557133585214615, 0.041694529354572296, 0.03127089887857437, 0.04951225593686104, 0.21368446946144104, 0.005211816169321537, 0.0026059080846607685, 0.015635449439287186, 0.018241357058286667, 0.04951225593686104, 0.015635449439287186, 0.02345317415893078, 0.015635449439287186, 0.039088621735572815, 0.06254179775714874, 0.010423632338643074, 0.05732997879385948, 0.036482714116573334, 0.01302954088896513, 0.13784286379814148, 0.03180989250540733, 0.03180989250540733, 0.06361978501081467, 0.0954296737909317, 0.3499087989330292, 0.010603297501802444, 0.02120659500360489, 0.010603297501802444, 0.03180989250540733, 0.06361978501081467, 0.04241319000720978, 0.053016483783721924, 0.010603297501802444, 0.04241319000720978, 0.2521055340766907, 0.025210553780198097, 0.40336886048316956, 0.20168443024158478, 0.025210553780198097, 0.07563166320323944, 0.024515977129340172, 0.08825751394033432, 0.08825751394033432, 0.06864473223686218, 0.019612781703472137, 0.11277349293231964, 0.08825751394033432, 0.063741534948349, 0.07845112681388855, 0.10787029564380646, 0.019612781703472137, 0.024515977129340172, 0.019612781703472137, 0.09806390851736069, 0.014709585346281528, 0.04412875697016716, 0.019612781703472137, 0.009806390851736069, 0.07318419218063354, 0.009148024022579193, 0.02744407206773758, 0.08233221620321274, 0.05488814413547516, 0.1280723363161087, 0.32932886481285095, 0.10977628827095032, 0.11892431229352951, 0.018296048045158386, 0.03659209609031677, 0.009148024022579193, 0.30965593457221985, 0.028150539845228195, 0.028150539845228195, 0.11260215938091278, 0.36595702171325684, 0.028150539845228195, 0.08445162326097488, 0.028150539845228195, 0.1466437131166458, 0.11331558972597122, 0.033328115940093994, 0.013331246562302113, 0.1799718290567398, 0.08665309846401215, 0.006665623281151056, 0.033328115940093994, 0.05999060720205307, 0.019996870309114456, 0.13331246376037598, 0.15997496247291565, 0.006665623281151056, 0.12643824517726898, 0.04214607924222946, 0.04214607924222946, 0.08429215848445892, 0.08429215848445892, 0.16858431696891785, 0.12643824517726898, 0.04214607924222946, 0.16858431696891785, 0.05637286230921745, 0.07714181393384933, 0.08604279160499573, 0.020768949761986732, 0.008900978602468967, 0.014834964647889137, 0.011867971159517765, 0.03857090696692467, 0.07417482137680054, 0.10384474694728851, 0.05933985859155655, 0.13648167252540588, 0.020768949761986732, 0.04450489208102226, 0.0029669927898794413, 0.04450489208102226, 0.05043887719511986, 0.014834964647889137, 0.011867971159517765, 0.029669929295778275, 0.041537899523973465, 0.0029669927898794413, 0.0029669927898794413, 0.026702934876084328, 0.008900978602468967, 0.011867971159517765, 0.07023821771144867, 0.14047643542289734, 0.14047643542289734, 0.23412740230560303, 0.046825479716062546, 0.11706370115280151, 0.18730191886425018, 0.046825479716062546, 0.13136115670204163, 0.07881668955087662, 0.15763337910175323, 0.17076949775218964, 0.013136114925146103, 0.24958619475364685, 0.013136114925146103, 0.14449726045131683, 0.026272229850292206, 0.18831956386566162, 0.056095190346241, 0.06811559200286865, 0.04407479241490364, 0.03606119379401207, 0.008013598620891571, 0.056095190346241, 0.10818358510732651, 0.040067993104457855, 0.04407479241490364, 0.08013598620891571, 0.03606119379401207, 0.008013598620891571, 0.008013598620891571, 0.012020397931337357, 0.016027197241783142, 0.012020397931337357, 0.012020397931337357, 0.032054394483566284, 0.016027197241783142, 0.024040795862674713, 0.06010198965668678, 0.016027197241783142, 0.012020397931337357, 0.0040067993104457855, 0.04420100897550583, 0.05525125935673714, 0.05525125935673714, 0.011050252243876457, 0.07735176384449005, 0.5083115696907043, 0.08840201795101166, 0.03315075486898422, 0.06630150973796844, 0.04420100897550583, 0.13007035851478577, 0.03251758962869644, 0.09755276143550873, 0.2276231199502945, 0.19510552287101746, 0.03251758962869644, 0.19510552287101746, 0.06503517925739288, 0.04268410801887512, 0.008536821231245995, 0.01707364246249199, 0.01707364246249199, 0.06829456984996796, 0.10244185477495193, 0.6317247748374939, 0.0768313929438591, 0.025610463693737984, 0.18408732116222382, 0.18408732116222382, 0.06903274357318878, 0.09204366058111191, 0.046021830290555954, 0.06903274357318878, 0.36817464232444763, 0.1684865653514862, 0.21060821413993835, 0.0842432826757431, 0.37909477949142456, 0.0842432826757431, 0.15454480051994324, 0.11590860784053802, 0.4249982237815857, 0.07727240025997162, 0.07727240025997162, 0.07727240025997162, 0.03863620012998581, 0.08220840245485306, 0.05480560287833214, 0.06850700825452805, 0.013701400719583035, 0.1370140165090561, 0.013701400719583035, 0.12331260740756989, 0.04110420122742653, 0.013701400719583035, 0.16441680490970612, 0.08220840245485306, 0.06850700825452805, 0.1370140165090561, 0.2957203686237335, 0.17743220925331116, 0.20700424909591675, 0.029572036117315292, 0.17743220925331116, 0.059144072234630585, 0.1278655230998993, 0.051146212965250015, 0.23015795648097992, 0.025573106482625008, 0.10229242593050003, 0.025573106482625008, 0.025573106482625008, 0.1790117472410202, 0.1790117472410202, 0.025573106482625008, 0.03897644579410553, 0.15590578317642212, 0.23385867476463318, 0.03897644579410553, 0.15590578317642212, 0.03897644579410553, 0.03897644579410553, 0.23385867476463318, 0.03897644579410553, 0.21199281513690948, 0.18549370765686035, 0.13249550759792328, 0.07949730008840561, 0.34448832273483276, 0.026499101892113686, 0.005790533497929573, 0.10229942202568054, 0.0038603555876761675, 0.4825444519519806, 0.07141657918691635, 0.08492782711982727, 0.0038603555876761675, 0.009650888852775097, 0.2335515171289444, 0.1407209187746048, 0.0032725792843848467, 0.11126770079135895, 0.08508706092834473, 0.019635476171970367, 0.006545158568769693, 0.1276305913925171, 0.3272579312324524, 0.0589064285159111, 0.055633850395679474, 0.0589064285159111, 0.11382018774747849, 0.02845504693686962, 0.08536513894796371, 0.07113761454820633, 0.35568809509277344, 0.1991853266954422, 0.02845504693686962, 0.04268256947398186, 0.05691009387373924, 0.22515353560447693, 0.08313361555337906, 0.05888630822300911, 0.02424730360507965, 0.010391701944172382, 0.10045311599969864, 0.03463900461792946, 0.003463900415226817, 0.04156680777668953, 0.09006141126155853, 0.01731950230896473, 0.010391701944172382, 0.07620581239461899, 0.010391701944172382, 0.04156680777668953, 0.038102906197309494, 0.006927800830453634, 0.038102906197309494, 0.01731950230896473, 0.01731950230896473, 0.006927800830453634, 0.010391701944172382, 0.010391701944172382, 0.020783403888344765, 0.006927800830453634, 0.2366182506084442, 0.16901303827762604, 0.16901303827762604, 0.16901303827762604, 0.03380260616540909, 0.03380260616540909, 0.03380260616540909, 0.13521042466163635, 0.08406863361597061, 0.12610293924808502, 0.12610293924808502, 0.21017158031463623, 0.042034316807985306, 0.21017158031463623, 0.042034316807985306, 0.08406863361597061, 0.08406863361597061, 0.12158814072608948, 0.10421840846538544, 0.6774196624755859, 0.06947893649339676, 0.28497573733329773, 0.12953442335128784, 0.051813770085573196, 0.12953442335128784, 0.10362754017114639, 0.025906885042786598, 0.025906885042786598, 0.1554413139820099, 0.07772065699100494, 0.25826624035835266, 0.0922379419207573, 0.46118971705436707, 0.03689517825841904, 0.03689517825841904, 0.0922379419207573, 0.05547064542770386, 0.10169617831707001, 0.00924510695040226, 0.00924510695040226, 0.06471575051546097, 0.0924510732293129, 0.34206897020339966, 0.04622553661465645, 0.02773532271385193, 0.25886300206184387, 0.12083665281534195, 0.08631189167499542, 0.15536141395568848, 0.017262378707528114, 0.5178713798522949, 0.017262378707528114, 0.03452475741505623, 0.017262378707528114, 0.2648962736129761, 0.5297925472259521, 0.044149380177259445, 0.044149380177259445, 0.044149380177259445, 0.044149380177259445, 0.17461806535720825, 0.024945437908172607, 0.14967262744903564, 0.049890875816345215, 0.47396332025527954, 0.024945437908172607, 0.049890875816345215, 0.10883352905511856, 0.23473899066448212, 0.029875870794057846, 0.1301734298467636, 0.025607889518141747, 0.034143853932619095, 0.05975174158811569, 0.034143853932619095, 0.08749362081289291, 0.0021339908707886934, 0.05761775001883507, 0.04481380432844162, 0.006401972379535437, 0.04481380432844162, 0.03627784177660942, 0.023473897948861122, 0.0021339908707886934, 0.004267981741577387, 0.004267981741577387, 0.0021339908707886934, 0.029875870794057846, 0.5840534567832947, 0.2595793306827545, 0.032447416335344315, 0.06489483267068863, 0.3997341990470886, 0.1726851761341095, 0.0031978737097233534, 0.035176608711481094, 0.24943414330482483, 0.02878086268901825, 0.02878086268901825, 0.01598936878144741, 0.019187241792678833, 0.03197873756289482, 0.01598936878144741, 0.3701486885547638, 0.39192214608192444, 0.19596107304096222, 0.021773451939225197, 0.2822161316871643, 0.1567867398262024, 0.03135734796524048, 0.4390028715133667, 0.03135734796524048, 0.03135734796524048, 0.23144333064556122, 0.23144333064556122, 0.5014605522155762, 0.14861750602722168, 0.11146312952041626, 0.22292625904083252, 0.03715437650680542, 0.26008063554763794, 0.1857718825340271, 0.4994814097881317, 0.1469063013792038, 0.11017972230911255, 0.0073453146032989025, 0.02203594334423542, 0.014690629206597805, 0.02203594334423542, 0.02203594334423542, 0.03672657534480095, 0.0073453146032989025, 0.014690629206597805, 0.08814377337694168, 0.7572664618492126, 0.030699992552399635, 0.051166653633117676, 0.01023333054035902, 0.01023333054035902, 0.030699992552399635, 0.02046666108071804, 0.030699992552399635, 0.02046666108071804, 0.030699992552399635, 0.17637978494167328, 0.009283145889639854, 0.07426516711711884, 0.18566292524337769, 0.009283145889639854, 0.4455910325050354, 0.03713258355855942, 0.04641573131084442, 0.42846304178237915, 0.15580475330352783, 0.11685355752706528, 0.11685355752706528, 0.03895118832588196, 0.11685355752706528, 0.07296137511730194, 0.03648068755865097, 0.14592275023460388, 0.1276824027299881, 0.03648068755865097, 0.21888412535190582, 0.14592275023460388, 0.20064377784729004, 0.018240343779325485, 0.028702998533844948, 0.11071156710386276, 0.11071156710386276, 0.12301285564899445, 0.1435149908065796, 0.032803427428007126, 0.004100428428500891, 0.04100428521633148, 0.028702998533844948, 0.016401713714003563, 0.23782485723495483, 0.11481199413537979, 0.008200856857001781, 0.5429962277412415, 0.14479899406433105, 0.07239949703216553, 0.18099874258041382, 0.10306961089372635, 0.10650525987148285, 0.02404957450926304, 0.27485227584838867, 0.04122784361243248, 0.006871307268738747, 0.05840611085295677, 0.1820896416902542, 0.04809914901852608, 0.034356534481048584, 0.030920881778001785, 0.013742614537477493, 0.01030696090310812, 0.034356534481048584, 0.02404957450926304, 0.0034356536343693733, 0.02322498708963394, 0.4644997715950012, 0.007741662673652172, 0.007741662673652172, 0.08515828847885132, 0.21676655113697052, 0.02322498708963394, 0.08515828847885132, 0.06193330138921738, 0.007741662673652172, 0.015483325347304344, 0.43457913398742676, 0.16714581847190857, 0.06685832887887955, 0.15043124556541443, 0.05014374479651451, 0.033429164439439774, 0.033429164439439774, 0.05014374479651451, 0.09323595464229584, 0.10359551012516022, 0.07510673999786377, 0.049207866191864014, 0.049207866191864014, 0.049207866191864014, 0.11913483589887619, 0.15021347999572754, 0.02330898866057396, 0.018129214644432068, 0.03366854041814804, 0.0025898877065628767, 0.012949438765645027, 0.007769663352519274, 0.031078653410077095, 0.012949438765645027, 0.018129214644432068, 0.005179775413125753, 0.015539326705038548, 0.012949438765645027, 0.012949438765645027, 0.02330898866057396, 0.010359550826251507, 0.0025898877065628767, 0.04661797732114792, 0.007769663352519274, 0.005179775413125753, 0.26050493121147156, 0.07550866901874542, 0.03775433450937271, 0.04152977094054222, 0.03020346909761429, 0.022652601823210716, 0.067957803606987, 0.1019367054104805, 0.0339789018034935, 0.049080636352300644, 0.04530520364642143, 0.07928410917520523, 0.022652601823210716, 0.015101734548807144, 0.067957803606987, 0.015101734548807144, 0.011326300911605358, 0.003775433637201786, 0.011326300911605358, 0.007550867274403572, 0.021848494186997414, 0.19663645327091217, 0.06554548442363739, 0.13109096884727478, 0.06554548442363739, 0.08739397674798965, 0.13109096884727478, 0.04369698837399483, 0.2403334379196167, 0.07488901913166046, 0.07488901913166046, 0.03744450956583023, 0.2808338403701782, 0.08425015211105347, 0.07488901913166046, 0.04680563881993294, 0.056166764348745346, 0.028083382174372673, 0.09361127763986588, 0.009361127391457558, 0.09361127763986588, 0.03744450956583023, 0.25488948822021484, 0.15930593013763428, 0.031861186027526855, 0.06372237205505371, 0.06372237205505371, 0.09558355808258057, 0.09558355808258057, 0.15930593013763428, 0.031861186027526855, 0.12682491540908813, 0.046118155121803284, 0.03458861634135246, 0.3920043110847473, 0.046118155121803284, 0.023059077560901642, 0.011529538780450821, 0.046118155121803284, 0.06917723268270493, 0.023059077560901642, 0.023059077560901642, 0.011529538780450821, 0.046118155121803284, 0.03458861634135246, 0.03458861634135246, 0.011529538780450821, 0.056701287627220154, 0.08381929248571396, 0.091215118765831, 0.044374920427799225, 0.11340257525444031, 0.061631835997104645, 0.044374920427799225, 0.09368038922548294, 0.05423601344227791, 0.01725691370666027, 0.03697910159826279, 0.0295832809060812, 0.012326367199420929, 0.04684019461274147, 0.0295832809060812, 0.09614565968513489, 0.019722187891602516, 0.012326367199420929, 0.009861093945801258, 0.012326367199420929, 0.012326367199420929, 0.004930546972900629, 0.0073958202265203, 0.012326367199420929, 0.06317902356386185, 0.01579475589096546, 0.09476853907108307, 0.07897377759218216, 0.11056329309940338, 0.047384269535541534, 0.07897377759218216, 0.047384269535541534, 0.06317902356386185, 0.07897377759218216, 0.047384269535541534, 0.11056329309940338, 0.01579475589096546, 0.07897377759218216, 0.01579475589096546, 0.06317902356386185, 0.06823106855154037, 0.13646213710308075, 0.25586649775505066, 0.40938639640808105, 0.03411553427577019, 0.06823106855154037, 0.017057767137885094, 0.06588863581418991, 0.09098906815052032, 0.18197813630104065, 0.0407882034778595, 0.05647597461938858, 0.053338419646024704, 0.07216374576091766, 0.09098906815052032, 0.031375542283058167, 0.04706330969929695, 0.01882532425224781, 0.009412662126123905, 0.025100432336330414, 0.015687771141529083, 0.0031375540420413017, 0.10353928804397583, 0.009412662126123905, 0.05020086467266083, 0.0031375540420413017, 0.015687771141529083, 0.009412662126123905, 0.46164244413375854, 0.2186727374792099, 0.14578182995319366, 0.04859394207596779, 0.09718788415193558, 0.19755220413208008, 0.030135082080960274, 0.010045027360320091, 0.03683176636695862, 0.17411379516124725, 0.03348342329263687, 0.09375358372926712, 0.04352844879031181, 0.10714695602655411, 0.06027016416192055, 0.010045027360320091, 0.020090054720640182, 0.006696684751659632, 0.09375358372926712, 0.003348342375829816, 0.013393369503319263, 0.006696684751659632, 0.003348342375829816, 0.016741711646318436, 0.013393369503319263, 0.006696684751659632, 0.010045027360320091, 0.0884685292840004, 0.16155122220516205, 0.011539372615516186, 0.06538978219032288, 0.06538978219032288, 0.04615749046206474, 0.03461812064051628, 0.03846457600593567, 0.04615749046206474, 0.053850408643484116, 0.19616934657096863, 0.10770081728696823, 0.015385830774903297, 0.019232288002967834, 0.04615749046206474, 0.0038464576937258244, 0.20091897249221802, 0.040183793753385544, 0.027494175359606743, 0.006344809662550688, 0.08459746092557907, 0.012689619325101376, 0.0782526507973671, 0.14593061804771423, 0.11632151156663895, 0.029609112069010735, 0.029609112069010735, 0.016919491812586784, 0.006344809662550688, 0.004229872953146696, 0.016919491812586784, 0.016919491812586784, 0.012689619325101376, 0.008459745906293392, 0.010574682615697384, 0.02326430194079876, 0.02537923865020275, 0.019034428521990776, 0.012689619325101376, 0.006344809662550688, 0.004229872953146696, 0.029609112069010735, 0.012689619325101376, 0.004229872953146696, 0.0334000401198864, 0.0334000401198864, 0.0668000802397728, 0.05010005831718445, 0.5010005831718445, 0.0334000401198864, 0.15030017495155334, 0.08350010216236115, 0.0167000200599432, 0.01931382156908512, 0.5021593570709229, 0.4635317027568817, 0.010751067660748959, 0.06880683451890945, 0.027952775359153748, 0.08170811086893082, 0.11611153185367584, 0.08170811086893082, 0.006450640503317118, 0.012901281006634235, 0.055905550718307495, 0.017201708629727364, 0.06665661931037903, 0.04730469733476639, 0.01935192197561264, 0.07525747269392014, 0.05805576592683792, 0.049454908818006516, 0.05805576592683792, 0.030102988705039024, 0.015051494352519512, 0.008600854314863682, 0.04085405543446541, 0.008600854314863682, 0.004300427157431841, 0.0021502135787159204, 0.023652348667383194, 0.004300427157431841, 0.008600854314863682, 0.03211725875735283, 0.08029314875602722, 0.14452765882015228, 0.25693807005882263, 0.14452765882015228, 0.09635177254676819, 0.048175886273384094, 0.09635177254676819, 0.06423451751470566, 0.011462369002401829, 0.11462369561195374, 0.1490108072757721, 0.08023658394813538, 0.045849476009607315, 0.09169895201921463, 0.022924738004803658, 0.08023658394813538, 0.2980216145515442, 0.011462369002401829, 0.022924738004803658, 0.03438710793852806, 0.022924738004803658, 0.011462369002401829, 0.12457948178052902, 0.027684329077601433, 0.08305299282073975, 0.1384216547012329, 0.11073731631040573, 0.013842164538800716, 0.3460541367530823, 0.055368658155202866, 0.013842164538800716, 0.04152649641036987, 0.04152649641036987, 0.013842164538800716, 0.05896822363138199, 0.08108130842447281, 0.04422616586089134, 0.03685513883829117, 0.13267849385738373, 0.029484111815690994, 0.16216261684894562, 0.1695336401462555, 0.014742055907845497, 0.11793644726276398, 0.05896822363138199, 0.051597192883491516, 0.0073710279539227486, 0.02211308293044567, 0.0073710279539227486, 0.09239935874938965, 0.1847987174987793, 0.30799785256385803, 0.12319914251565933, 0.061599571257829666, 0.030799785628914833, 0.061599571257829666, 0.09239935874938965, 0.030799785628914833, 0.048143476247787476, 0.3851478099822998, 0.1925739049911499, 0.16850216686725616, 0.024071738123893738, 0.09628695249557495, 0.048143476247787476, 0.10338074713945389, 0.16540919244289398, 0.7029890418052673, 0.42156946659088135, 0.16394367814064026, 0.07026157528162003, 0.02342052571475506, 0.05855131521821022, 0.03513078764081001, 0.04684105142951012, 0.07026157528162003, 0.07026157528162003, 0.02342052571475506, 0.11486111581325531, 0.019143519923090935, 0.19143518805503845, 0.057430557906627655, 0.03828703984618187, 0.019143519923090935, 0.03828703984618187, 0.30629631876945496, 0.03828703984618187, 0.019143519923090935, 0.07657407969236374, 0.057430557906627655, 0.2157684862613678, 0.09247220307588577, 0.3698888123035431, 0.061648137867450714, 0.061648137867450714, 0.1541203409433365, 0.10715287923812866, 0.09375876933336258, 0.0803646594285965, 0.013394109904766083, 0.254488080739975, 0.05357643961906433, 0.026788219809532166, 0.013394109904766083, 0.34824684262275696, 0.005446172785013914, 0.18516987562179565, 0.07080025225877762, 0.44930925965309143, 0.024507777765393257, 0.019061606377363205, 0.002723086392506957, 0.027230864390730858, 0.002723086392506957, 0.013615432195365429, 0.005446172785013914, 0.054461728781461716, 0.021784691140055656, 0.010892345570027828, 0.07080025225877762, 0.002723086392506957, 0.002723086392506957, 0.02995395101606846, 0.015128759667277336, 0.8245173692703247, 0.02269313856959343, 0.060515038669109344, 0.02269313856959343, 0.015128759667277336, 0.030257519334554672, 0.10863491147756577, 0.06913130730390549, 0.3851601481437683, 0.07900720834732056, 0.01975180208683014, 0.02962770313024521, 0.00987590104341507, 0.06913130730390549, 0.04937950521707535, 0.01975180208683014, 0.00987590104341507, 0.11851081252098083, 0.01975180208683014, 0.00987590104341507, 0.11530768126249313, 0.0864807590842247, 0.05765384063124657, 0.028826920315623283, 0.4324038028717041, 0.0864807590842247, 0.14413459599018097, 0.03586532175540924, 0.09564086049795151, 0.2749674916267395, 0.047820430248975754, 0.15541639924049377, 0.047820430248975754, 0.03586532175540924, 0.047820430248975754, 0.22714704275131226, 0.20763571560382843, 0.14831122756004333, 0.059324488043785095, 0.08898673206567764, 0.08898673206567764, 0.3856091797351837, 0.01976661942899227, 0.0988330990076065, 0.11859972029924393, 0.07906647771596909, 0.13836634159088135, 0.13836634159088135, 0.07906647771596909, 0.197666198015213, 0.07906647771596909, 0.059299860149621964, 0.21751669049263, 0.04350333660840988, 0.5872950553894043, 0.13051001727581024, 0.02175166830420494, 0.022752130404114723, 0.21235321462154388, 0.015168086625635624, 0.08342447876930237, 0.030336173251271248, 0.16684895753860474, 0.10617660731077194, 0.09100852161645889, 0.007584043312817812, 0.045504260808229446, 0.045504260808229446, 0.10617660731077194, 0.015168086625635624, 0.030336173251271248, 0.007584043312817812, 0.007584043312817812, 0.11269233375787735, 0.08451925218105316, 0.028173083439469337, 0.14086541533470154, 0.14086541533470154, 0.028173083439469337, 0.056346166878938675, 0.028173083439469337, 0.14086541533470154, 0.2253846675157547, 0.07981433719396591, 0.08779577165842056, 0.15005095303058624, 0.14047323167324066, 0.031925734132528305, 0.09418091922998428, 0.07821805030107498, 0.04948488995432854, 0.05587003752589226, 0.0031925735529512167, 0.020751727744936943, 0.038310881704092026, 0.0015962867764756083, 0.020751727744936943, 0.028733162209391594, 0.009577720426023006, 0.009577720426023006, 0.009577720426023006, 0.0015962867764756083, 0.020751727744936943, 0.020751727744936943, 0.009577720426023006, 0.006385147105902433, 0.004788860213011503, 0.007981433533132076, 0.011174007318913937, 0.0031925735529512167, 0.0015962867764756083, 0.04945145174860954, 0.04945145174860954, 0.15659625828266144, 0.12362862378358841, 0.3049505949020386, 0.016483817249536514, 0.008241908624768257, 0.09066098928451538, 0.041209541261196136, 0.03296763449907303, 0.02472572587430477, 0.03296763449907303, 0.008241908624768257, 0.008241908624768257, 0.03296763449907303, 0.016483817249536514, 0.10542459040880203, 0.10542459040880203, 0.3765164017677307, 0.03012131154537201, 0.03012131154537201, 0.03012131154537201, 0.07530327886343002, 0.12048524618148804, 0.12048524618148804, 0.4782295525074005, 0.08695082366466522, 0.3043278753757477, 0.08695082366466522, 0.17414647340774536, 0.09578055888414383, 0.017414646223187447, 0.008707323111593723, 0.05224394053220749, 0.05659760162234306, 0.047890279442071915, 0.1828537881374359, 0.017414646223187447, 0.008707323111593723, 0.02176830917596817, 0.03047563135623932, 0.004353661555796862, 0.03482929244637489, 0.004353661555796862, 0.1697928011417389, 0.004353661555796862, 0.02176830917596817, 0.004353661555796862, 0.008707323111593723, 0.013060985133051872, 0.008707323111593723, 0.05223667249083519, 0.11492068320512772, 0.0835786759853363, 0.010447334498167038, 0.20894668996334076, 0.010447334498167038, 0.07313134521245956, 0.010447334498167038, 0.031342003494501114, 0.37610405683517456, 0.030684417113661766, 0.3988974094390869, 0.06136883422732353, 0.1841064989566803, 0.15342208743095398, 0.06136883422732353, 0.06136883422732353, 0.030684417113661766, 0.09709277749061584, 0.04854638874530792, 0.14563916623592377, 0.04854638874530792, 0.04854638874530792, 0.04854638874530792, 0.14563916623592377, 0.1941855549812317, 0.14563916623592377, 0.04854638874530792, 0.05778830125927925, 0.08668245375156403, 0.05778830125927925, 0.05778830125927925, 0.05778830125927925, 0.2600473463535309, 0.14447075128555298, 0.14447075128555298, 0.05778830125927925, 0.08668245375156403, 0.1968715637922287, 0.2756201922893524, 0.01968715712428093, 0.01968715712428093, 0.11812294274568558, 0.07874862849712372, 0.03937431424856186, 0.09843578189611435, 0.01968715712428093, 0.01968715712428093, 0.01968715712428093, 0.09843578189611435, 0.08907249569892883, 0.05938166379928589, 0.08907249569892883, 0.534434974193573, 0.029690831899642944, 0.029690831899642944, 0.029690831899642944, 0.05938166379928589, 0.05938166379928589, 0.5241947174072266, 0.38123252987861633, 0.04765406623482704, 0.2377087026834488, 0.39052143692970276, 0.050937578082084656, 0.03395838662981987, 0.10187515616416931, 0.16979192197322845, 0.012008195742964745, 0.2641803026199341, 0.10807375609874725, 0.06604507565498352, 0.02401639148592949, 0.060040976852178574, 0.030020488426089287, 0.04202868416905403, 0.006004097871482372, 0.02401639148592949, 0.036024585366249084, 0.06604507565498352, 0.012008195742964745, 0.030020488426089287, 0.018012292683124542, 0.06604507565498352, 0.08405736833810806, 0.030020488426089287, 0.012008195742964745, 0.0872461125254631, 0.021811528131365776, 0.19630374014377594, 0.06543458253145218, 0.19630374014377594, 0.06543458253145218, 0.0872461125254631, 0.06543458253145218, 0.13086916506290436, 0.04362305626273155, 0.08437840640544891, 0.10547300428152084, 0.04218920320272446, 0.04218920320272446, 0.1476622074842453, 0.06328380107879639, 0.04218920320272446, 0.4218920171260834, 0.02109460160136223, 0.16533072292804718, 0.22044095396995544, 0.01837008073925972, 0.03674016147851944, 0.05511023849248886, 0.03674016147851944, 0.07348032295703888, 0.03674016147851944, 0.22044095396995544, 0.03674016147851944, 0.0918503999710083, 0.18181449174880981, 0.06269465386867523, 0.025077860802412033, 0.06896411627531052, 0.08777251094579697, 0.16300609707832336, 0.012538930401206017, 0.0188083965331316, 0.012538930401206017, 0.012538930401206017, 0.16300609707832336, 0.0188083965331316, 0.0376167930662632, 0.012538930401206017, 0.0376167930662632, 0.006269465200603008, 0.012538930401206017, 0.04388625547289848, 0.006269465200603008, 0.30274108052253723, 0.09017819911241531, 0.01932389847934246, 0.04508909955620766, 0.025765199214220047, 0.025765199214220047, 0.13526730239391327, 0.01932389847934246, 0.2834171950817108, 0.006441299803555012, 0.006441299803555012, 0.032206498086452484, 0.006441299803555012, 0.09895998239517212, 0.3298666179180145, 0.032986659556627274, 0.032986659556627274, 0.16493330895900726, 0.19791996479034424, 0.032986659556627274, 0.06597331911325455, 0.13586454093456268, 0.021452296525239944, 0.021452296525239944, 0.007150765508413315, 0.0929599478840828, 0.05720612406730652, 0.02860306203365326, 0.007150765508413315, 0.17876914143562317, 0.3861413300037384, 0.01430153101682663, 0.01430153101682663, 0.007150765508413315, 0.007150765508413315, 0.02860306203365326, 0.1814924031496048, 0.108895443379879, 0.0725969597697258, 0.0725969597697258, 0.0362984798848629, 0.0725969597697258, 0.25408935546875, 0.0362984798848629, 0.1451939195394516, 0.0725969597697258, 0.03259943798184395, 0.09779831022024155, 0.1303977519273758, 0.0651988759636879, 0.2770951986312866, 0.04889915511012077, 0.1955966204404831, 0.03259943798184395, 0.09779831022024155, 0.08482919633388519, 0.0694057047367096, 0.030846981331706047, 0.11567617952823639, 0.053982216864824295, 0.16194665431976318, 0.0385587252676487, 0.046270471066236496, 0.030846981331706047, 0.015423490665853024, 0.131099671125412, 0.0385587252676487, 0.023135235533118248, 0.053982216864824295, 0.007711745332926512, 0.023135235533118248, 0.09254094213247299, 0.1560739278793335, 0.2731293737888336, 0.039018481969833374, 0.19509240984916687, 0.07803696393966675, 0.039018481969833374, 0.19509240984916687, 0.10473465919494629, 0.13205674290657043, 0.022768404334783554, 0.07741257548332214, 0.0500904880464077, 0.013661042787134647, 0.12294938415288925, 0.022768404334783554, 0.03642944619059563, 0.031875766813755035, 0.022768404334783554, 0.004553680773824453, 0.08651993423700333, 0.018214723095297813, 0.0500904880464077, 0.013661042787134647, 0.10928834229707718, 0.018214723095297813, 0.022768404334783554, 0.004553680773824453, 0.009107361547648907, 0.013661042787134647, 0.018214723095297813, 0.004553680773824453, 0.06258862465620041, 0.8345149755477905, 0.04172574728727341, 0.020862873643636703, 0.020862873643636703, 0.020862873643636703, 0.09232011437416077, 0.19782881438732147, 0.3560918867588043, 0.07913152873516083, 0.013188588432967663, 0.013188588432967663, 0.013188588432967663, 0.13188588619232178, 0.013188588432967663, 0.039565764367580414, 0.013188588432967663, 0.013188588432967663, 0.38595691323280334, 0.12865230441093445, 0.19297845661640167, 0.1715364158153534, 0.04288410395383835, 0.021442051976919174, 0.03868787735700607, 0.09671969711780548, 0.019343938678503036, 0.03868787735700607, 0.05803181976079941, 0.11606363952159882, 0.03868787735700607, 0.05803181976079941, 0.019343938678503036, 0.13540758192539215, 0.03868787735700607, 0.2127833366394043, 0.03868787735700607, 0.05803181976079941, 0.12051473557949066, 0.11047184467315674, 0.0903860554099083, 0.08034315705299377, 0.030128683894872665, 0.08034315705299377, 0.030128683894872665, 0.04017157852649689, 0.05021447315812111, 0.030128683894872665, 0.020085789263248444, 0.24102947115898132, 0.020085789263248444, 0.05021447315812111, 0.19773532450199127, 0.035951878875494, 0.19773532450199127, 0.035951878875494, 0.017975939437747, 0.305590957403183, 0.017975939437747, 0.071903757750988, 0.017975939437747, 0.035951878875494, 0.19835706055164337, 0.10402725636959076, 0.09873773157596588, 0.017631737515330315, 0.07757964730262756, 0.2732919454574585, 0.003526347689330578, 0.029092367738485336, 0.03526347503066063, 0.007934282533824444, 0.028210781514644623, 0.014986976981163025, 0.03526347503066063, 0.01939491182565689, 0.015868565067648888, 0.0026447607669979334, 0.001763173844665289, 0.018513325601816177, 0.0008815869223326445, 0.013223803602159023, 0.001763173844665289, 0.0008815869223326445, 0.3619093596935272, 0.15510401129722595, 0.02585066854953766, 0.3619093596935272, 0.02585066854953766, 0.02585066854953766, 0.4032542407512665, 0.18861891329288483, 0.11707381159067154, 0.07154510915279388, 0.03902460262179375, 0.0780492052435875, 0.05203280597925186, 0.013008201494812965, 0.03252050280570984, 0.06331632286310196, 0.08442176133394241, 0.08442176133394241, 0.10552719980478287, 0.14773808419704437, 0.12663264572620392, 0.06331632286310196, 0.16884352266788483, 0.12663264572620392, 0.021105440333485603, 0.08138232678174973, 0.008138232864439487, 0.13834995031356812, 0.05696762725710869, 0.008138232864439487, 0.21159404516220093, 0.1302117258310318, 0.07324409484863281, 0.016276465728878975, 0.13834995031356812, 0.03255293145775795, 0.016276465728878975, 0.008138232864439487, 0.03255293145775795, 0.008138232864439487, 0.016276465728878975, 0.024414697661995888, 0.07049228250980377, 0.008811535313725471, 0.026434607803821564, 0.07049228250980377, 0.04405767843127251, 0.026434607803821564, 0.008811535313725471, 0.08811535686254501, 0.10573843121528625, 0.11454996466636658, 0.008811535313725471, 0.026434607803821564, 0.08811535686254501, 0.08811535686254501, 0.05286921560764313, 0.05286921560764313, 0.11454996466636658, 0.20978593826293945, 0.20978593826293945, 0.1748216152191162, 0.06992864608764648, 0.03496432304382324, 0.10489296913146973, 0.13985729217529297, 0.03496432304382324, 0.25216877460479736, 0.03289157897233963, 0.06578315794467926, 0.17542175948619843, 0.010963859967887402, 0.021927719935774803, 0.26313263177871704, 0.021927719935774803, 0.10963859409093857, 0.03289157897233963, 0.3094877600669861, 0.018756834790110588, 0.004689208697527647, 0.018756834790110588, 0.09378417581319809, 0.08440575748682022, 0.028135251253843307, 0.004689208697527647, 0.05158129334449768, 0.014067625626921654, 0.08909496665000916, 0.037513669580221176, 0.046892087906599045, 0.056270502507686615, 0.023446043953299522, 0.018756834790110588, 0.028135251253843307, 0.028135251253843307, 0.046892087906599045, 0.168289914727211, 0.09616566449403763, 0.12020708620548248, 0.048082832247018814, 0.19233132898807526, 0.048082832247018814, 0.09616566449403763, 0.024041416123509407, 0.14424850046634674, 0.048082832247018814, 0.30616962909698486, 0.06560777127742767, 0.06560777127742767, 0.04373851791024208, 0.04373851791024208, 0.02186925895512104, 0.4155158996582031, 0.02186925895512104, 0.014348424971103668, 0.014348424971103668, 0.24392321705818176, 0.07174212485551834, 0.043045274913311005, 0.08609054982662201, 0.14348424971103668, 0.11478739976882935, 0.028696849942207336, 0.20087794959545135, 0.014348424971103668, 0.2082960158586502, 0.10696281492710114, 0.16325904428958893, 0.11822205781936646, 0.03940735384821892, 0.03377773240208626, 0.011259243823587894, 0.011259243823587894, 0.01688886620104313, 0.10133319348096848, 0.011259243823587894, 0.02814810909330845, 0.01688886620104313, 0.005629621911793947, 0.0844443291425705, 0.03377773240208626, 0.4429599940776825, 0.1165684163570404, 0.06994105130434036, 0.16319578886032104, 0.06994105130434036, 0.04662736877799034, 0.06994105130434036, 0.33316296339035034, 0.3807576894760132, 0.011898677796125412, 0.011898677796125412, 0.05949338898062706, 0.1903788447380066, 0.05946341156959534, 0.05946341156959534, 0.11892682313919067, 0.11892682313919067, 0.178390234708786, 0.178390234708786, 0.02973170578479767, 0.05946341156959534, 0.02973170578479767, 0.02973170578479767, 0.11892682313919067, 0.07310128957033157, 0.1608228236436844, 0.05848103016614914, 0.10234180092811584, 0.05848103016614914, 0.014620257541537285, 0.12670889496803284, 0.03411393240094185, 0.014620257541537285, 0.004873419180512428, 0.009746838361024857, 0.014620257541537285, 0.05360760912299156, 0.05360760912299156, 0.17056967318058014, 0.05360760912299156, 0.0361429862678051, 0.146293044090271, 0.061959408223629, 0.127360999584198, 0.0894969180226326, 0.0344218909740448, 0.0430273674428463, 0.0275375135242939, 0.0774492621421814, 0.0017210945952683687, 0.0378640815615654, 0.0275375135242939, 0.0740070715546608, 0.01548985205590725, 0.0327007994055748, 0.0086054727435112, 0.0447484590113163, 0.0499117448925972, 0.00516328401863575, 0.01376875676214695, 0.0344218909740448, 0.00516328401863575, 0.0034421891905367374, 0.1029120609164238, 0.1029120609164238, 0.1543680876493454, 0.02572801522910595, 0.02572801522910595, 0.2058241218328476, 0.0771840438246727, 0.02572801522910595, 0.1543680876493454, 0.02572801522910595, 0.02572801522910595, 0.02572801522910595, 0.11661256849765778, 0.04485099017620087, 0.013455296866595745, 0.08970198035240173, 0.02691059373319149, 0.022425495088100433, 0.05830628424882889, 0.049336086958646774, 0.0672764852643013, 0.09418707340955734, 0.08073177933692932, 0.022425495088100433, 0.11661256849765778, 0.02691059373319149, 0.022425495088100433, 0.049336086958646774, 0.008970197290182114, 0.022425495088100433, 0.035880789160728455, 0.022425495088100433, 0.008970197290182114, 0.11256898939609528, 0.04824385046958923, 0.20905669033527374, 0.01608128473162651, 0.09648770093917847, 0.1608128398656845, 0.09648770093917847, 0.04824385046958923, 0.01608128473162651, 0.01608128473162651, 0.01608128473162651, 0.08040641993284225, 0.08040641993284225, 0.022925961762666702, 0.015283973887562752, 0.29039549827575684, 0.19869166612625122, 0.08024086803197861, 0.003820993471890688, 0.007641986943781376, 0.034388940781354904, 0.07259887456893921, 0.045851923525333405, 0.045851923525333405, 0.038209933787584305, 0.026746954768896103, 0.019104966893792152, 0.011462980881333351, 0.015283973887562752, 0.045851923525333405, 0.015283973887562752, 0.011462980881333351, 0.046388715505599976, 0.27833229303359985, 0.0154629060998559, 0.0618516243994236, 0.0154629060998559, 0.0618516243994236, 0.34018391370773315, 0.0618516243994236, 0.07731452584266663, 0.0309258121997118, 0.09748303890228271, 0.1089516282081604, 0.03440577909350395, 0.05160866677761078, 0.03727292641997337, 0.15482600033283234, 0.18349748849868774, 0.09748303890228271, 0.03440577909350395, 0.08888159692287445, 0.011468593031167984, 0.002867148257791996, 0.002867148257791996, 0.011468593031167984, 0.005734296515583992, 0.008601444773375988, 0.020070036873221397, 0.008601444773375988, 0.020070036873221397, 0.017202889546751976, 0.05556279793381691, 0.04564087092876434, 0.04167209938168526, 0.005953156854957342, 0.02381262741982937, 0.06945350021123886, 0.02381262741982937, 0.15676647424697876, 0.24011066555976868, 0.03175017237663269, 0.009921927936375141, 0.021828241646289825, 0.015875086188316345, 0.015875086188316345, 0.009921927936375141, 0.04762525483965874, 0.03770332783460617, 0.021828241646289825, 0.027781398966908455, 0.019843855872750282, 0.003968771547079086, 0.03175017237663269, 0.005953156854957342, 0.021828241646289825, 0.007937543094158173, 0.005953156854957342, 0.001984385773539543, 0.06368230283260345, 0.05789300054311752, 0.12157530337572098, 0.05210370197892189, 0.05210370197892189, 0.10710205137729645, 0.12157530337572098, 0.040525101125240326, 0.040525101125240326, 0.040525101125240326, 0.07236625254154205, 0.01157859992235899, 0.03763044998049736, 0.034735798835754395, 0.01157859992235899, 0.020262550562620163, 0.020262550562620163, 0.026051850989460945, 0.020262550562620163, 0.017367899417877197, 0.008683949708938599, 0.01447325013577938, 0.0028946499805897474, 0.008683949708938599, 0.1078101173043251, 0.056600309908390045, 0.08894334733486176, 0.08085758239030838, 0.05390505865216255, 0.06468606740236282, 0.0727718248963356, 0.04042879119515419, 0.05929556116461754, 0.02156202308833599, 0.04042879119515419, 0.08355283737182617, 0.013476264663040638, 0.010781011544167995, 0.002695252886041999, 0.0377335399389267, 0.05120980367064476, 0.008085758425295353, 0.035038288682699203, 0.02156202308833599, 0.002695252886041999, 0.008085758425295353, 0.002695252886041999, 0.013476264663040638, 0.008085758425295353, 0.008085758425295353, 0.008085758425295353, 0.3288901448249817, 0.1827167570590973, 0.2558034658432007, 0.0730867013335228, 0.0365433506667614, 0.0365433506667614, 0.1096300482749939, 0.036423493176698685, 0.40065842866897583, 0.2913879454135895, 0.036423493176698685, 0.14569397270679474, 0.036423493176698685, 0.036423493176698685, 0.08852290362119675, 0.22130726277828217, 0.04426145181059837, 0.04426145181059837, 0.08852290362119675, 0.13278435170650482, 0.22130726277828217, 0.13278435170650482, 0.11429338157176971, 0.22858676314353943, 0.07619558274745941, 0.41907572746276855, 0.09524448215961456, 0.05714669078588486, 0.06798902153968811, 0.08093931525945663, 0.0518011599779129, 0.10036475211381912, 0.11007747054100037, 0.11007747054100037, 0.08093931525945663, 0.04532601684331894, 0.035613298416137695, 0.11007747054100037, 0.0032375724986195564, 0.0032375724986195564, 0.032375726848840714, 0.006475144997239113, 0.0032375724986195564, 0.06798902153968811, 0.016187863424420357, 0.00971271749585867, 0.032375726848840714, 0.01942543499171734, 0.00971271749585867, 0.006475144997239113, 0.0796293392777443, 0.11734849959611893, 0.04191017895936966, 0.029337124899029732, 0.07753383368253708, 0.058674249798059464, 0.010477544739842415, 0.016764072701334953, 0.002095509087666869, 0.03352814540266991, 0.09010688960552216, 0.004191018175333738, 0.21793293952941895, 0.004191018175333738, 0.18859580159187317, 0.02095508947968483, 0.002095509087666869, 0.22444523870944977, 0.37407541275024414, 0.11222261935472488, 0.22444523870944977, 0.03625001385807991, 0.054375018924474716, 0.09062503278255463, 0.2718751132488251, 0.09062503278255463, 0.10875003784894943, 0.054375018924474716, 0.09062503278255463, 0.16312505304813385, 0.018125006929039955, 0.018125006929039955, 0.20179329812526703, 0.011422262527048588, 0.0076148416846990585, 0.049496471881866455, 0.21321555972099304, 0.011422262527048588, 0.07995583862066269, 0.011422262527048588, 0.011422262527048588, 0.0038074208423495293, 0.03426678851246834, 0.015229683369398117, 0.05330388993024826, 0.0038074208423495293, 0.03426678851246834, 0.015229683369398117, 0.06472615152597427, 0.015229683369398117, 0.0076148416846990585, 0.11803004890680313, 0.011422262527048588, 0.01903710328042507, 0.04691138491034508, 0.054729949682950974, 0.015637129545211792, 0.16418984532356262, 0.03909282013773918, 0.11727846413850784, 0.031274259090423584, 0.015637129545211792, 0.10164133459329605, 0.08600420504808426, 0.03909282013773918, 0.015637129545211792, 0.2032826691865921, 0.04691138491034508, 0.015637129545211792, 0.07526379823684692, 0.10947461426258087, 0.03421081602573395, 0.047895144671201706, 0.027368653565645218, 0.19158057868480682, 0.07526379823684692, 0.047895144671201706, 0.03421081602573395, 0.041052982211112976, 0.0068421633914113045, 0.0068421633914113045, 0.047895144671201706, 0.047895144671201706, 0.054737307131290436, 0.027368653565645218, 0.013684326782822609, 0.013684326782822609, 0.0068421633914113045, 0.041052982211112976, 0.020526491105556488, 0.027368653565645218, 0.19234271347522736, 0.06945709139108658, 0.09082850813865662, 0.01869998686015606, 0.00801428034901619, 0.03472854569554329, 0.10952849686145782, 0.04007140174508095, 0.03739997372031212, 0.03472854569554329, 0.06411424279212952, 0.01068570651113987, 0.013357133604586124, 0.013357133604586124, 0.06411424279212952, 0.07212851941585541, 0.01068570651113987, 0.03739997372031212, 0.04808567836880684, 0.0026714266277849674, 0.00801428034901619, 0.0026714266277849674, 0.005342853255569935, 0.01068570651113987, 0.10195314139127731, 0.10195314139127731, 0.20390628278255463, 0.07646485418081284, 0.07646485418081284, 0.07646485418081284, 0.30585941672325134, 0.02548828534781933, 0.11504475772380829, 0.12942534685134888, 0.14380595088005066, 0.04314178228378296, 0.1006641611456871, 0.3163730800151825, 0.014380594715476036, 0.014380594715476036, 0.028761189430952072, 0.057522378861904144, 0.028761189430952072, 0.06637872755527496, 0.013275746256113052, 0.013275746256113052, 0.4779268503189087, 0.17258469760417938, 0.026551492512226105, 0.03982723876833916, 0.09293022006750107, 0.03982723876833916, 0.026551492512226105, 0.013275746256113052, 0.1511572301387787, 0.4156824052333832, 0.03778930753469467, 0.07557861506938934, 0.03778930753469467, 0.11336792260408401, 0.07557861506938934, 0.07557861506938934, 0.08823850005865097, 0.024706780910491943, 0.02647155150771141, 0.04588402062654495, 0.1411816030740738, 0.04941356182098389, 0.02823632024228573, 0.0811794251203537, 0.06706126034259796, 0.15000545978546143, 0.017647700384259224, 0.0052943103946745396, 0.008823850192129612, 0.007059080060571432, 0.021177241578698158, 0.015882929787039757, 0.007059080060571432, 0.06882603466510773, 0.044119250029325485, 0.030001090839505196, 0.01941247098147869, 0.017647700384259224, 0.015882929787039757, 0.003529540030285716, 0.008823850192129612, 0.003529540030285716, 0.003529540030285716, 0.003529540030285716, 0.05405660718679428, 0.010811321437358856, 0.010811321437358856, 0.043245285749435425, 0.16757549345493317, 0.08108491450548172, 0.02702830359339714, 0.037839625030756, 0.06486792862415314, 0.2540660500526428, 0.010811321437358856, 0.037839625030756, 0.010811321437358856, 0.016216982156038284, 0.04865094646811485, 0.03243396431207657, 0.010811321437358856, 0.010811321437358856, 0.04865094646811485, 0.010811321437358856, 0.0965375155210495, 0.021452780812978745, 0.193075031042099, 0.010726390406489372, 0.0965375155210495, 0.23598060011863708, 0.021452780812978745, 0.06435834616422653, 0.010726390406489372, 0.08581112325191498, 0.04290556162595749, 0.10726390779018402, 0.2904984951019287, 0.1716582030057907, 0.2904984951019287, 0.020540298894047737, 0.03081044740974903, 0.063088059425354, 0.004401492420583963, 0.08362835645675659, 0.011737313121557236, 0.007335820700973272, 0.0014671641401946545, 0.024941790848970413, 0.08895538747310638, 0.33914241194725037, 0.09451509267091751, 0.12231365591287613, 0.15011221170425415, 0.011119423434138298, 0.05003740265965462, 0.011119423434138298, 0.005559711717069149, 0.016679134219884872, 0.03891798108816147, 0.005559711717069149, 0.033358268439769745, 0.011119423434138298, 0.016679134219884872, 0.8644875884056091, 0.12191491574048996, 0.032834239304065704, 0.032834239304065704, 0.19700545072555542, 0.26267391443252563, 0.26267391443252563, 0.16417120397090912, 0.04898589849472046, 0.03265726566314697, 0.017961496487259865, 0.003265726612880826, 0.016328632831573486, 0.5796664953231812, 0.0342901274561882, 0.006531453225761652, 0.040821582078933716, 0.003265726612880826, 0.031024402007460594, 0.009797180071473122, 0.008164316415786743, 0.0342901274561882, 0.026125812903046608, 0.016328632831573486, 0.011430042795836926, 0.021227221935987473, 0.004898590035736561, 0.003265726612880826, 0.009797180071473122, 0.016328632831573486, 0.006531453225761652, 0.016328632831573486, 0.037653423845767975, 0.09413355588912964, 0.05648013576865196, 0.04706677794456482, 0.018826711922883987, 0.16002705693244934, 0.037653423845767975, 0.018826711922883987, 0.04706677794456482, 0.018826711922883987, 0.02824006788432598, 0.1317869871854782, 0.018826711922883987, 0.2165071815252304, 0.0658934935927391, 0.01350459735840559, 0.04388993978500366, 0.0033761493396013975, 0.006752298679202795, 0.7191197872161865, 0.020256895571947098, 0.0033761493396013975, 0.03713764250278473, 0.0033761493396013975, 0.0033761493396013975, 0.030385343357920647, 0.010128447785973549, 0.040513791143894196, 0.01350459735840559, 0.006752298679202795, 0.020256895571947098, 0.020256895571947098, 0.04272712394595146, 0.03418169915676117, 0.4272712469100952, 0.025636274367570877, 0.059817973524332047, 0.017090849578380585, 0.17090849578380585, 0.017090849578380585, 0.008545424789190292, 0.15381765365600586, 0.008545424789190292, 0.025636274367570877, 0.008545424789190292], \"Term\": [\"abc\", \"abc\", \"abc\", \"abc\", \"abc\", \"abc\", \"abc\", \"abc\", \"abc\", \"aboard\", \"aboard\", \"aboard\", \"aboard\", \"aboard\", \"aboard\", \"above\", \"above\", \"above\", \"above\", \"above\", \"above\", \"above\", \"above\", \"above\", \"above\", \"above\", \"access\", \"access\", \"access\", \"access\", \"access\", \"access\", \"access\", \"accommodation\", \"accommodation\", \"accommodation\", \"accommodation\", \"accommodation\", \"across\", \"across\", \"across\", \"across\", \"across\", \"across\", \"across\", \"across\", \"across\", \"across\", \"across\", \"across\", \"across\", \"across\", \"across\", \"across\", \"across\", \"across\", \"across\", \"across\", \"across\", \"across\", \"across\", \"across\", \"across\", \"across\", \"across\", \"action\", \"action\", \"action\", \"action\", \"action\", \"action\", \"action\", \"action\", \"action\", \"action\", \"action\", \"action\", \"action\", \"action\", \"activity\", \"activity\", \"activity\", \"activity\", \"activity\", \"activity\", \"activity\", \"activity\", \"actually\", \"actually\", \"actually\", \"actually\", \"actually\", \"actually\", \"actually\", \"actually\", \"actually\", \"addition\", \"addition\", \"addition\", \"addition\", \"addition\", \"addition\", \"addition\", \"additional\", \"additional\", \"additional\", \"additional\", \"additional\", \"additional\", \"additional\", \"additional\", \"additional\", \"additional\", \"additional\", \"advertisement\", \"advertisement\", \"advertisement\", \"advertisement\", \"advertisement\", \"advertisement\", \"advertisement\", \"advertisement\", \"advertisement\", \"advertisement\", \"advertisement\", \"advertisement\", \"advertisement\", \"advertisement\", \"advertisement\", \"advertisement\", \"advice\", \"advice\", \"advice\", \"advice\", \"advice\", \"advice\", \"advice\", \"advice\", \"advice\", \"advice\", \"advice\", \"advice\", \"advice\", \"advice\", \"advice\", \"advised\", \"advised\", \"advised\", \"advised\", \"advised\", \"advised\", \"advised\", \"advised\", \"advised\", \"advised\", \"advised\", \"advised\", \"aedt\", \"aedt\", \"aedt\", \"aedt\", \"aedt\", \"aedt\", \"aedt\", \"aedt\", \"aedt\", \"aedt\", \"aedt\", \"aedt\", \"aedt\", \"aedt\", \"aedt\", \"aedt\", \"aedt\", \"aedt\", \"aedt\", \"aedt_february\", \"aedt_february\", \"aedt_february\", \"aedt_february\", \"aedt_february\", \"aedt_february\", \"aedt_february\", \"aedt_february\", \"aedt_february\", \"aedt_february\", \"aedt_february\", \"affected\", \"affected\", \"affected\", \"affected\", \"affected\", \"affected\", \"affected\", \"affected\", \"affected\", \"affected\", \"affected\", \"affected\", \"affected\", \"affected\", \"affected\", \"affected\", \"affecting\", \"affecting\", \"affecting\", \"affecting\", \"affecting\", \"affecting\", \"age\", \"age\", \"age\", \"age\", \"age\", \"age\", \"age\", \"age\", \"aged\", \"aged\", \"aged\", \"aged\", \"aged\", \"aged\", \"aged\", \"aged\", \"aged\", \"agency\", \"agency\", \"agency\", \"agency\", \"agency\", \"agency\", \"agency\", \"agency\", \"agency\", \"ai\", \"ai\", \"ai\", \"ai\", \"ai\", \"air\", \"air\", \"air\", \"air\", \"air\", \"air\", \"air\", \"air\", \"air\", \"air\", \"air\", \"air\", \"air\", \"air_quality\", \"air_quality\", \"airline\", \"airline\", \"airline\", \"airline\", \"airline\", \"airline\", \"airline\", \"airport\", \"airport\", \"airport\", \"airport\", \"airport\", \"airport\", \"airport\", \"airport\", \"airport\", \"airport\", \"airport\", \"airport\", \"ait\", \"ait\", \"ait\", \"alert\", \"alert\", \"alert\", \"alert\", \"alert\", \"alert\", \"alert\", \"alert\", \"alert\", \"alert_level\", \"alert_level\", \"alert_level\", \"almost\", \"almost\", \"almost\", \"almost\", \"almost\", \"almost\", \"almost\", \"almost\", \"almost\", \"almost\", \"almost\", \"almost\", \"almost\", \"almost\", \"almost\", \"almost\", \"alone\", \"alone\", \"alone\", \"alone\", \"alone\", \"alone\", \"alone\", \"alone\", \"alone\", \"alone\", \"alone\", \"alone\", \"alone\", \"am\", \"am\", \"am\", \"am\", \"am\", \"am\", \"am\", \"am\", \"am\", \"am\", \"am\", \"american\", \"american\", \"american\", \"american\", \"american\", \"american\", \"american\", \"american\", \"american\", \"amount\", \"amount\", \"amount\", \"amount\", \"amount\", \"amount\", \"amount\", \"amount\", \"amount\", \"amp\", \"amp\", \"amp\", \"amp\", \"amp\", \"amp\", \"amp\", \"amp\", \"analysis\", \"analysis\", \"analysis\", \"analysis\", \"analysis\", \"analysis\", \"andrew\", \"andrew\", \"andrew\", \"andrew\", \"andrew\", \"andrew\", \"andrew\", \"andrew\", \"animal\", \"animal\", \"animal\", \"animal\", \"animal\", \"animal\", \"animal\", \"animal\", \"animal\", \"animal\", \"animal\", \"animal\", \"announced\", \"announced\", \"announced\", \"announced\", \"announced\", \"announced\", \"announced\", \"announced\", \"announced\", \"announced\", \"announced\", \"announced\", \"announced\", \"announced\", \"announced\", \"announced\", \"announced\", \"announcement\", \"announcement\", \"announcement\", \"announcement\", \"announcement\", \"announcement\", \"announcement\", \"announcement\", \"annual\", \"annual\", \"annual\", \"annual\", \"annual\", \"anyone_who\", \"anyone_who\", \"anyone_who\", \"anyone_who\", \"anyone_who\", \"anyone_who\", \"anyone_who\", \"appear\", \"appear\", \"appear\", \"appear\", \"appear\", \"appear\", \"appears\", \"appears\", \"appears\", \"appears\", \"appears\", \"appears\", \"appears\", \"appears\", \"appears\", \"appears\", \"approach\", \"approach\", \"approach\", \"approach\", \"approach\", \"approach\", \"approach\", \"approach\", \"approach\", \"april\", \"april\", \"april\", \"april\", \"april\", \"april\", \"april\", \"april\", \"april\", \"area\", \"area\", \"area\", \"area\", \"area\", \"area\", \"area\", \"area\", \"area\", \"area\", \"area\", \"area\", \"area\", \"area\", \"area\", \"area\", \"area\", \"around\", \"around\", \"around\", \"around\", \"around\", \"around\", \"around\", \"around\", \"around\", \"around\", \"around\", \"around\", \"around\", \"around\", \"around\", \"around\", \"around\", \"around\", \"around\", \"around\", \"around\", \"around\", \"around\", \"around\", \"arrival\", \"arrival\", \"arrival\", \"arrival\", \"arrival\", \"arrival\", \"arrival\", \"arrived\", \"arrived\", \"arrived\", \"arrived\", \"arrived\", \"arrived\", \"arrived\", \"arrived\", \"arrived\", \"arrived\", \"arrived\", \"arrived\", \"asia\", \"asia\", \"asia\", \"asia\", \"asia\", \"asia\", \"asia\", \"asia\", \"asia\", \"asian\", \"asian\", \"asian\", \"asian\", \"asian\", \"asian\", \"asian\", \"asian\", \"asian\", \"asian\", \"asian\", \"asian\", \"asian\", \"asking\", \"asking\", \"asking\", \"asking\", \"asking\", \"asking\", \"asking\", \"asking\", \"asking\", \"associated\", \"associated\", \"associated\", \"associated\", \"associated\", \"associated\", \"associated\", \"associated\", \"associated\", \"at_brisbane\", \"at_brisbane\", \"at_brisbane\", \"at_brisbane\", \"at_brisbane\", \"at_brisbane\", \"at_yokohama\", \"at_yokohama\", \"at_yokohama\", \"athe\", \"athe\", \"athe\", \"athe\", \"athe\", \"athe\", \"athe\", \"attention\", \"attention\", \"attention\", \"attention\", \"attention\", \"attention\", \"attention\", \"attention\", \"australia_february\", \"australia_february\", \"australia_february\", \"australia_february\", \"australia_february\", \"australia_february\", \"australia_february\", \"australia_february\", \"australia_february\", \"australiaas\", \"australiaas\", \"australiaas\", \"australiaas\", \"australiaas\", \"australiaas\", \"australiaas\", \"australian_citizen\", \"australian_citizen\", \"australian_citizen\", \"australian_citizen\", \"australian_citizen\", \"australian_citizen\", \"author\", \"author\", \"author\", \"author\", \"authority\", \"authority\", \"authority\", \"authority\", \"authority\", \"authority\", \"authority\", \"authority\", \"authority\", \"authority\", \"authority\", \"authority\", \"authority\", \"authority\", \"authority\", \"authority\", \"authority\", \"authority\", \"available\", \"available\", \"available\", \"available\", \"available\", \"available\", \"available\", \"available\", \"available\", \"available\", \"available\", \"available\", \"available\", \"average\", \"average\", \"average\", \"average\", \"average\", \"avoid\", \"avoid\", \"avoid\", \"avoid\", \"avoid\", \"avoid\", \"avoid\", \"avoid\", \"avoid\", \"avoid\", \"avoid\", \"avoid\", \"awe\", \"awe\", \"awe\", \"awe\", \"awe\", \"awe\", \"baby\", \"baby\", \"baby\", \"baby\", \"baby\", \"baby\", \"baby\", \"back\", \"back\", \"back\", \"back\", \"back\", \"back\", \"back\", \"back\", \"back\", \"back\", \"back\", \"back\", \"back\", \"back\", \"back\", \"back\", \"bad\", \"bad\", \"bad\", \"bad\", \"bad\", \"bad\", \"bad\", \"bad\", \"bad\", \"ban\", \"ban\", \"ban\", \"ban\", \"ban\", \"ban\", \"ban\", \"ban\", \"ban\", \"ban\", \"ban\", \"banned\", \"banned\", \"banned\", \"banned\", \"banned\", \"banned\", \"banned\", \"banned\", \"base\", \"base\", \"base\", \"base\", \"based\", \"based\", \"based\", \"based\", \"based\", \"based\", \"based\", \"based\", \"based\", \"based\", \"based\", \"based\", \"based\", \"based\", \"based\", \"based\", \"based\", \"based\", \"based\", \"based\", \"based_on\", \"based_on\", \"based_on\", \"based_on\", \"based_on\", \"based_on\", \"based_on\", \"based_on\", \"based_on\", \"based_on\", \"based_on\", \"based_on\", \"based_on\", \"based_on\", \"basis\", \"basis\", \"basis\", \"basis\", \"basis\", \"basis\", \"basis\", \"basis\", \"basis\", \"became\", \"became\", \"became\", \"became\", \"became\", \"became\", \"became\", \"became\", \"became\", \"became\", \"became\", \"because\", \"because\", \"because\", \"because\", \"because\", \"because\", \"because\", \"because\", \"because\", \"because\", \"because\", \"because\", \"because\", \"because\", \"because\", \"because\", \"because\", \"because\", \"because\", \"because\", \"because\", \"because\", \"because\", \"because\", \"because\", \"bed\", \"bed\", \"bed\", \"bed\", \"bed\", \"bed\", \"bed\", \"bed\", \"before\", \"before\", \"before\", \"before\", \"before\", \"before\", \"before\", \"before\", \"before\", \"before\", \"before\", \"before\", \"before\", \"before\", \"before\", \"before\", \"before\", \"before\", \"before\", \"before\", \"before\", \"begin\", \"begin\", \"begin\", \"begin\", \"begin\", \"begin\", \"begin\", \"begin\", \"beijing\", \"beijing\", \"beijing\", \"beijing\", \"beijing\", \"beijing\", \"beijing\", \"beijing\", \"beijing\", \"being_tested\", \"being_tested\", \"being_tested\", \"being_tested\", \"being_tested\", \"being_treated\", \"being_treated\", \"being_treated\", \"being_treated\", \"being_treated\", \"being_treated\", \"being_treated\", \"between\", \"between\", \"between\", \"between\", \"between\", \"between\", \"between\", \"between\", \"between\", \"between\", \"between\", \"between\", \"between\", \"between\", \"between\", \"between\", \"between\", \"between\", \"between\", \"big\", \"big\", \"big\", \"big\", \"big\", \"big\", \"big\", \"billion\", \"billion\", \"billion\", \"billion\", \"billion\", \"bit\", \"bit\", \"bit\", \"bit\", \"bit\", \"bit\", \"bit\", \"blaze\", \"board\", \"board\", \"board\", \"board\", \"board\", \"board\", \"board\", \"board\", \"board\", \"board\", \"body\", \"body\", \"body\", \"body\", \"body\", \"body\", \"body\", \"both\", \"both\", \"both\", \"both\", \"both\", \"both\", \"both\", \"both\", \"both\", \"both\", \"both\", \"both\", \"both\", \"both\", \"both\", \"both\", \"both\", \"both\", \"both\", \"box\", \"box\", \"box\", \"box\", \"box\", \"box\", \"box\", \"box\", \"box\", \"break\", \"break\", \"break\", \"break\", \"break\", \"break\", \"break\", \"breath\", \"breath\", \"breath\", \"breath\", \"breath\", \"breathe\", \"breathe\", \"breathe\", \"breathe\", \"breathe\", \"breathing\", \"breathing\", \"breathing\", \"breathing\", \"breathing\", \"brendan\", \"brendan\", \"brendan\", \"brendan\", \"brendan\", \"brendan\", \"brendan\", \"bringing\", \"bringing\", \"bringing\", \"bringing\", \"bringing\", \"bringing\", \"bringing\", \"bringing\", \"bringing\", \"bringing\", \"brisbane\", \"brisbane\", \"brisbane\", \"brisbane\", \"brisbane\", \"brisbane\", \"brisbane\", \"brisbane\", \"brisbane\", \"brisbane\", \"brisbane\", \"british\", \"british\", \"british\", \"british\", \"british\", \"british\", \"british\", \"bureau\", \"bureau\", \"bureau\", \"bushfire\", \"bushfire\", \"bushfire\", \"bushfire\", \"bushfire\", \"bushfire\", \"bushfires\", \"bushfires\", \"bushfires\", \"bushfires\", \"bushfires\", \"bushfires\", \"bushfires\", \"bushfires\", \"business\", \"business\", \"business\", \"business\", \"business\", \"business\", \"business\", \"business\", \"business\", \"business\", \"business\", \"business\", \"business\", \"business\", \"busy\", \"busy\", \"busy\", \"busy\", \"busy\", \"busy\", \"busy\", \"busy\", \"buy\", \"buy\", \"buy\", \"buy\", \"buy\", \"buy\", \"buy\", \"cabin\", \"cabin\", \"cabin\", \"cabin\", \"call\", \"call\", \"call\", \"call\", \"call\", \"call\", \"call\", \"call\", \"call\", \"call\", \"call\", \"call\", \"call\", \"calling\", \"calling\", \"calling\", \"calling\", \"calling\", \"calling\", \"calling\", \"calling\", \"calling\", \"calling\", \"campus\", \"campus\", \"campus\", \"campus\", \"campus\", \"canberra\", \"canberra\", \"canberra\", \"canberra\", \"canberra\", \"canberra\", \"canberra\", \"canberra\", \"canberra\", \"canberra\", \"cancelled\", \"cancelled\", \"cancelled\", \"cancelled\", \"cancelled\", \"cancelled\", \"cancelled\", \"car\", \"car\", \"car\", \"car\", \"care\", \"care\", \"care\", \"care\", \"care\", \"care\", \"care\", \"care\", \"care\", \"care\", \"care\", \"care\", \"care\", \"care\", \"care\", \"care\", \"care\", \"carry\", \"carry\", \"carry\", \"carry\", \"carry\", \"carry\", \"carry\", \"carry\", \"case\", \"case\", \"case\", \"case\", \"case\", \"case\", \"case\", \"case\", \"case\", \"case\", \"case\", \"case\", \"case\", \"case\", \"case\", \"case\", \"case\", \"case\", \"case\", \"case\", \"case\", \"case\", \"case\", \"case\", \"case\", \"catch\", \"catch\", \"catch\", \"catch\", \"catch\", \"catch\", \"catch\", \"catch\", \"caught\", \"caught\", \"caught\", \"caught\", \"caught\", \"caught\", \"caught\", \"caught\", \"caught\", \"caught\", \"caught\", \"cause\", \"cause\", \"cause\", \"cause\", \"cause\", \"cause\", \"cause\", \"cause\", \"cause\", \"cause\", \"cause\", \"cause\", \"cause\", \"cause\", \"caused\", \"caused\", \"caused\", \"caused\", \"caused\", \"caused\", \"caused\", \"caused\", \"caused\", \"caused\", \"caused_by\", \"caused_by\", \"caused_by\", \"caused_by\", \"caused_by\", \"caused_by\", \"cell\", \"cell\", \"cell\", \"cell\", \"cell\", \"cell\", \"cent\", \"cent\", \"cent\", \"cent\", \"cent\", \"cent\", \"cent\", \"cent\", \"cent\", \"cent\", \"cent\", \"cent\", \"cent\", \"cent\", \"central\", \"central\", \"central\", \"central\", \"central\", \"central\", \"central\", \"central\", \"central\", \"central\", \"central\", \"central\", \"central\", \"central\", \"centre\", \"centre\", \"centre\", \"centre\", \"centre\", \"centre\", \"centre\", \"centre\", \"centre\", \"centre\", \"centre\", \"centre\", \"centre\", \"centre\", \"centre\", \"centre\", \"centre\", \"centre\", \"centre\", \"certain\", \"certain\", \"certain\", \"certain\", \"certain\", \"chain\", \"chain\", \"chain\", \"chain\", \"chain\", \"chain\", \"challenge\", \"challenge\", \"challenge\", \"challenge\", \"challenge\", \"challenge\", \"challenge\", \"chance\", \"chance\", \"chance\", \"chance\", \"chance\", \"chance\", \"chance\", \"chance\", \"chance\", \"change\", \"change\", \"change\", \"change\", \"change\", \"change\", \"change\", \"change\", \"change\", \"change\", \"change\", \"change\", \"change\", \"change\", \"change\", \"chief\", \"chief\", \"chief\", \"chief\", \"chief\", \"chief\", \"chief\", \"chief\", \"chief\", \"chief\", \"chief\", \"chief\", \"chief\", \"chief\", \"chief\", \"chief\", \"chief\", \"chief\", \"chief_executive\", \"chief_executive\", \"chief_executive\", \"chief_executive\", \"chief_executive\", \"chief_executive\", \"chief_health\", \"chief_health\", \"chief_health\", \"chief_health\", \"chief_health\", \"chief_health\", \"chief_health\", \"chief_medical\", \"chief_medical\", \"chief_medical\", \"chief_medical\", \"chief_medical\", \"chief_medical\", \"chief_medical\", \"chief_medical\", \"chief_medical\", \"chief_medical\", \"child\", \"child\", \"child\", \"child\", \"child\", \"child\", \"child\", \"child\", \"child\", \"child\", \"child\", \"child\", \"child\", \"child\", \"child\", \"china\", \"china\", \"china\", \"china\", \"china\", \"china\", \"china\", \"china\", \"china\", \"china\", \"china\", \"china\", \"china\", \"china\", \"china\", \"china\", \"china\", \"china\", \"china\", \"china\", \"chinese\", \"chinese\", \"chinese\", \"chinese\", \"chinese\", \"chinese\", \"chinese\", \"chinese\", \"chinese\", \"chinese\", \"chinese\", \"chinese\", \"chinese\", \"chinese\", \"chinese\", \"chinese\", \"chinese\", \"chinese_authority\", \"chinese_authority\", \"chinese_authority\", \"chinese_authority\", \"chinese_authority\", \"chinese_student\", \"chinese_student\", \"chinese_student\", \"chinese_student\", \"chinese_student\", \"chinese_student\", \"christmas\", \"christmas\", \"christmas\", \"christmas\", \"christmas_island\", \"christmas_island\", \"christmas_island\", \"christmas_island\", \"circumstance\", \"circumstance\", \"circumstance\", \"circumstance\", \"circumstance\", \"circumstance\", \"circumstance\", \"circumstance\", \"city\", \"city\", \"city\", \"city\", \"city\", \"city\", \"city\", \"city\", \"city\", \"city\", \"city\", \"city\", \"city\", \"city\", \"city\", \"city\", \"city\", \"city\", \"city\", \"city\", \"city\", \"claim\", \"claim\", \"claim\", \"claim\", \"claim\", \"claim\", \"claim\", \"claim\", \"claim\", \"claim\", \"class\", \"class\", \"class\", \"class\", \"class\", \"class\", \"class\", \"class\", \"class\", \"class\", \"cleared\", \"cleared\", \"cleared\", \"cleared\", \"cleared\", \"cleared\", \"climate\", \"climate\", \"climate\", \"climate\", \"climate_change\", \"climate_change\", \"climate_change\", \"climate_change\", \"close\", \"close\", \"close\", \"close\", \"close\", \"close\", \"close\", \"close\", \"close\", \"close\", \"close\", \"close\", \"close\", \"close\", \"close\", \"close\", \"closed\", \"closed\", \"closed\", \"closed\", \"closed\", \"closed\", \"closed\", \"closed\", \"closed\", \"closed\", \"closed\", \"closed\", \"closed\", \"closed\", \"closing\", \"closing\", \"closing\", \"closing\", \"closing\", \"closing\", \"closing\", \"closing\", \"closing\", \"co\", \"co\", \"co\", \"co\", \"co\", \"co\", \"co\", \"co\", \"co\", \"co\", \"coast\", \"coast\", \"coast\", \"coast\", \"coast\", \"coast\", \"coast\", \"coast\", \"coast\", \"coast\", \"coast\", \"coast\", \"college\", \"college\", \"college\", \"college\", \"college\", \"college\", \"college\", \"comment\", \"comment\", \"comment\", \"comment\", \"comment\", \"comment\", \"comment\", \"comment\", \"comment\", \"comment\", \"comment\", \"comment\", \"comment\", \"comment\", \"common\", \"common\", \"common\", \"common\", \"common\", \"common\", \"common\", \"common\", \"common\", \"common\", \"common\", \"common\", \"common_cold\", \"common_cold\", \"common_cold\", \"communication\", \"communication\", \"communication\", \"communication\", \"communication\", \"communication\", \"communication\", \"communication\", \"community\", \"community\", \"community\", \"community\", \"community\", \"community\", \"community\", \"community\", \"community\", \"community\", \"community\", \"community\", \"community\", \"community\", \"community\", \"community\", \"community\", \"community\", \"community\", \"community\", \"company\", \"company\", \"company\", \"company\", \"company\", \"company\", \"company\", \"company\", \"company\", \"company\", \"compared\", \"compared\", \"compared\", \"compared\", \"compared\", \"compared\", \"compared\", \"compared\", \"compared\", \"compared\", \"compared\", \"completely\", \"completely\", \"completely\", \"completely\", \"completely\", \"completely\", \"completely\", \"completely\", \"completely\", \"completely\", \"concern\", \"concern\", \"concern\", \"concern\", \"concern\", \"concern\", \"concern\", \"concern\", \"concern\", \"concern\", \"concern\", \"concern\", \"concern\", \"concern\", \"concern\", \"concern\", \"concern\", \"concerned\", \"concerned\", \"concerned\", \"concerned\", \"concerned\", \"concerned\", \"concerned\", \"concerned\", \"concerned\", \"concerned\", \"concerned\", \"concerned\", \"condition\", \"condition\", \"condition\", \"condition\", \"condition\", \"condition\", \"condition\", \"condition\", \"condition\", \"condition\", \"condition\", \"condition\", \"condition\", \"condition\", \"condition\", \"condition\", \"confined\", \"confined\", \"confined\", \"confined\", \"confirmed\", \"confirmed\", \"confirmed\", \"confirmed\", \"confirmed\", \"confirmed\", \"confirmed\", \"confirmed\", \"confirmed\", \"confirmed\", \"confirmed\", \"confirmed\", \"confirmed\", \"confirmed\", \"confirmed\", \"confirmed\", \"confirmed\", \"confirmed\", \"confirmed\", \"confirmed\", \"confirmed_case\", \"confirmed_case\", \"confirmed_case\", \"confirmed_case\", \"confirmed_case\", \"confirmed_case\", \"confirmed_case\", \"confirmed_case\", \"confirmed_case\", \"confirmed_case\", \"confirmed_case\", \"confirmed_case\", \"confirmed_case\", \"considering\", \"considering\", \"considering\", \"considering\", \"considering\", \"considering\", \"considering\", \"considering\", \"contact\", \"contact\", \"contact\", \"contact\", \"contact\", \"contact\", \"contact\", \"contact\", \"contact\", \"contact\", \"contact\", \"contact\", \"contact\", \"contact\", \"contact\", \"contact\", \"contact_with\", \"contact_with\", \"contact_with\", \"contact_with\", \"contact_with\", \"contact_with\", \"contact_with\", \"contact_with\", \"contact_with\", \"contact_with\", \"contact_with\", \"contact_with\", \"contagious\", \"contagious\", \"contagious\", \"contagious\", \"contagious\", \"continue\", \"continue\", \"continue\", \"continue\", \"continue\", \"continue\", \"continue\", \"continue\", \"continue\", \"continue\", \"continue\", \"continue\", \"continue\", \"continue\", \"continue\", \"continue\", \"continue\", \"continue\", \"continues\", \"continues\", \"continues\", \"continues\", \"continues\", \"continues\", \"continues\", \"continues\", \"continues\", \"continues\", \"continuing\", \"continuing\", \"continuing\", \"continuing\", \"continuing\", \"contracting\", \"contracting\", \"contracting\", \"contracting\", \"contracting\", \"contracting\", \"contracting\", \"contracting\", \"contracting\", \"contracting\", \"contracting\", \"control\", \"control\", \"control\", \"control\", \"control\", \"control\", \"control\", \"control\", \"control\", \"control\", \"control\", \"conversation\", \"conversation\", \"conversation\", \"conversation\", \"conversation\", \"conversation\", \"conversation\", \"coronavirus_outbreak\", \"coronavirus_outbreak\", \"coronavirus_outbreak\", \"coronavirus_outbreak\", \"coronavirus_outbreak\", \"coronavirus_outbreak\", \"coronavirus_outbreak\", \"coronavirus_outbreak\", \"coronavirus_outbreak\", \"coronavirus_outbreak\", \"coronavirus_outbreak\", \"coronavirus_outbreak\", \"coronavirus_outbreak\", \"cost\", \"cost\", \"cost\", \"cost\", \"cost\", \"cost\", \"cost\", \"cough\", \"cough\", \"cough\", \"cough\", \"cough\", \"cough\", \"cough\", \"cough\", \"could\", \"could\", \"could\", \"could\", \"could\", \"could\", \"could\", \"could\", \"could\", \"could\", \"could\", \"could\", \"could\", \"could\", \"could\", \"could\", \"could\", \"could\", \"could\", \"could\", \"could\", \"could\", \"could\", \"could\", \"could\", \"could\", \"could\", \"council\", \"council\", \"council\", \"council\", \"council\", \"council\", \"council\", \"council\", \"council\", \"council\", \"country\", \"country\", \"country\", \"country\", \"country\", \"country\", \"country\", \"country\", \"country\", \"country\", \"country\", \"country\", \"country\", \"country\", \"country\", \"country\", \"country\", \"country\", \"country\", \"country\", \"country\", \"country\", \"country\", \"country\", \"country\", \"course\", \"course\", \"course\", \"course\", \"course\", \"course\", \"covid\", \"covid\", \"covid\", \"covid\", \"covid\", \"covid\", \"covid\", \"covid\", \"covid\", \"covid\", \"covid\", \"covid\", \"covid\", \"covid\", \"covid\", \"covid\", \"covid\", \"create\", \"create\", \"create\", \"create\", \"create\", \"create\", \"create\", \"created\", \"created\", \"created\", \"crew\", \"crew\", \"crew\", \"crew\", \"crew\", \"crew\", \"crew\", \"crew\", \"crew\", \"crisis\", \"crisis\", \"crisis\", \"crisis\", \"crisis\", \"crisis\", \"crisis\", \"crisis\", \"crisis\", \"crisis\", \"crisis\", \"crisis\", \"crisis\", \"crisis\", \"crisis\", \"cruise\", \"cruise\", \"cruise\", \"cruise\", \"cruise\", \"cruise\", \"cruise\", \"cruise\", \"cruise\", \"cruise\", \"cruise_ship\", \"cruise_ship\", \"cruise_ship\", \"cruise_ship\", \"cruise_ship\", \"cruise_ship\", \"cruise_ship\", \"cruise_ship\", \"cruise_ship\", \"cruise_ship\", \"customer\", \"customer\", \"customer\", \"customer\", \"customer\", \"customer\", \"customer\", \"cut\", \"cut\", \"cut\", \"cut\", \"cut\", \"cut\", \"cut\", \"cut\", \"cut\", \"cut\", \"cut\", \"daily\", \"daily\", \"daily\", \"daily\", \"daily\", \"daily\", \"daily\", \"daily\", \"daily\", \"daily\", \"daily\", \"daily\", \"daily\", \"daily\", \"daily\", \"daily\", \"daily\", \"daily\", \"daily\", \"daily_mail\", \"daily_mail\", \"daily_mail\", \"daily_mail\", \"daily_mail\", \"daily_mail\", \"daily_mail\", \"daily_mail\", \"daily_mail\", \"daily_mail\", \"daily_mail\", \"damage\", \"damage\", \"damage\", \"damage\", \"damage\", \"damage\", \"damage\", \"damage\", \"darwin\", \"darwin\", \"darwin\", \"darwin\", \"darwin\", \"darwin\", \"data\", \"data\", \"data\", \"data\", \"data\", \"data\", \"data\", \"data\", \"data\", \"data\", \"data\", \"date\", \"date\", \"date\", \"date\", \"date\", \"date\", \"date\", \"date\", \"date\", \"date\", \"date\", \"daughter\", \"daughter\", \"daughter\", \"daughter\", \"daughter\", \"david\", \"david\", \"david\", \"david\", \"david\", \"day_later\", \"day_later\", \"day_later\", \"day_later\", \"day_later\", \"dead\", \"dead\", \"dead\", \"dead\", \"dead\", \"dead\", \"dead\", \"dead\", \"dead\", \"dead\", \"dead\", \"deadly\", \"deadly\", \"deadly\", \"deadly\", \"deadly\", \"deadly\", \"deadly\", \"deadly\", \"deadly\", \"deadly\", \"deadly\", \"deadly\", \"deadly\", \"deadly\", \"deadly\", \"deadly\", \"deadly\", \"deadly\", \"deadly_virus\", \"deadly_virus\", \"deadly_virus\", \"deadly_virus\", \"deadly_virus\", \"deadly_virus\", \"deadly_virus\", \"deadly_virus\", \"deadly_virus\", \"death\", \"death\", \"death\", \"death\", \"death\", \"death\", \"death\", \"death\", \"death\", \"death\", \"death\", \"death\", \"death\", \"death\", \"death\", \"death\", \"death\", \"death\", \"death\", \"death\", \"death_toll\", \"death_toll\", \"death_toll\", \"death_toll\", \"death_toll\", \"death_toll\", \"death_toll\", \"death_toll\", \"death_toll\", \"death_toll\", \"death_toll\", \"decade\", \"decade\", \"decade\", \"decided\", \"decided\", \"decided\", \"decided\", \"decided\", \"decided\", \"decided\", \"decided\", \"decision\", \"decision\", \"decision\", \"decision\", \"decision\", \"decision\", \"decision\", \"decision\", \"decision\", \"decision\", \"decision\", \"decision\", \"decision\", \"declared\", \"declared\", \"declared\", \"declared\", \"declared\", \"declared\", \"declared\", \"declared\", \"declared\", \"declared\", \"declared\", \"degree\", \"degree\", \"degree\", \"degree\", \"degree\", \"degree\", \"degree\", \"degree\", \"degree\", \"delay\", \"delay\", \"delay\", \"delay\", \"delay\", \"delay\", \"delay\", \"delay\", \"delayed\", \"delayed\", \"delayed\", \"delayed\", \"delayed\", \"demand\", \"demand\", \"demand\", \"demand\", \"demand\", \"demand\", \"demand\", \"demand\", \"demand\", \"demand\", \"demand\", \"demand\", \"department\", \"department\", \"department\", \"department\", \"department\", \"department\", \"department\", \"department\", \"department\", \"department\", \"department\", \"department\", \"department\", \"department\", \"department\", \"department\", \"department\", \"deputy\", \"deputy\", \"deputy\", \"deputy\", \"deputy\", \"deputy\", \"deputy\", \"deputy\", \"desperate\", \"desperate\", \"desperate\", \"desperate\", \"desperate\", \"desperate\", \"destroyed\", \"destroyed\", \"detail\", \"detail\", \"detail\", \"detail\", \"detail\", \"detail\", \"detail\", \"detail\", \"detention\", \"detention\", \"diagnosed\", \"diagnosed\", \"diagnosed\", \"diagnosed\", \"diagnosed\", \"diagnosed\", \"diagnosed\", \"diagnosed\", \"diagnosed\", \"diagnosed\", \"diagnosed\", \"diagnosed\", \"diagnosed\", \"diagnosed_with\", \"diagnosed_with\", \"diagnosed_with\", \"diagnosed_with\", \"diagnosed_with\", \"diagnosed_with\", \"diagnosed_with\", \"diagnosed_with\", \"diagnosed_with\", \"diagnosed_with\", \"diagnosed_with\", \"diamond\", \"diamond\", \"diamond\", \"diamond\", \"diamond\", \"diamond\", \"diamond_princess\", \"diamond_princess\", \"diamond_princess\", \"diamond_princess\", \"diamond_princess\", \"diamond_princess\", \"did\", \"did\", \"did\", \"did\", \"did\", \"did\", \"did\", \"did\", \"did\", \"did\", \"did\", \"did\", \"did\", \"did\", \"did\", \"did\", \"die\", \"die\", \"die\", \"die\", \"die\", \"die\", \"die\", \"die\", \"died\", \"died\", \"died\", \"died\", \"died\", \"died\", \"died\", \"died\", \"died\", \"died\", \"died\", \"died\", \"died\", \"died\", \"died\", \"died\", \"died\", \"died\", \"different\", \"different\", \"different\", \"different\", \"different\", \"different\", \"different\", \"different\", \"different\", \"different\", \"different\", \"different\", \"different\", \"different\", \"different\", \"difficulty\", \"difficulty\", \"difficulty\", \"difficulty\", \"difficulty\", \"difficulty\", \"difficulty\", \"difficulty\", \"difficulty\", \"direct\", \"direct\", \"direct\", \"direct\", \"direct\", \"direct\", \"direct\", \"direct\", \"director\", \"director\", \"director\", \"director\", \"director\", \"director\", \"director\", \"director\", \"director\", \"director\", \"disaster\", \"disaster\", \"disaster\", \"discovered\", \"discovered\", \"discovered\", \"discovered\", \"discovered\", \"discovered\", \"discovered\", \"disease\", \"disease\", \"disease\", \"disease\", \"disease\", \"disease\", \"disease\", \"disease\", \"disease\", \"disease\", \"disease\", \"disease\", \"disease\", \"disease\", \"disease\", \"disease\", \"disease\", \"disease\", \"disease\", \"disease\", \"disease\", \"disease_control\", \"disease_control\", \"disease_control\", \"distancing\", \"distancing\", \"distancing\", \"distancing\", \"distancing\", \"distancing\", \"do\", \"do\", \"do\", \"do\", \"do\", \"do\", \"do\", \"do\", \"do\", \"do\", \"do\", \"do\", \"do\", \"do\", \"do\", \"do\", \"do\", \"do\", \"do\", \"do\", \"do\", \"do\", \"do\", \"do\", \"do\", \"docked\", \"docked\", \"doctor\", \"doctor\", \"doctor\", \"doctor\", \"doctor\", \"doctor\", \"doctor\", \"doctor\", \"doctor\", \"doctor\", \"doctor\", \"doctor\", \"doctor\", \"doctor\", \"doctor\", \"doctor\", \"doctor\", \"doesn\", \"doesn\", \"doesn\", \"doesn\", \"doesn\", \"doesn\", \"doesn\", \"doesn\", \"donat\", \"donat\", \"donat\", \"donat\", \"donat\", \"donat\", \"door\", \"door\", \"door\", \"door\", \"door\", \"door\", \"door\", \"door\", \"down\", \"down\", \"down\", \"down\", \"down\", \"down\", \"down\", \"down\", \"down\", \"down\", \"down\", \"down\", \"down\", \"down\", \"down\", \"down\", \"down\", \"down\", \"down\", \"down\", \"down\", \"down\", \"down\", \"down\", \"down\", \"down\", \"dr\", \"dr\", \"dr\", \"dr\", \"dr\", \"dr\", \"dr\", \"dr\", \"dr\", \"dr\", \"dr\", \"dr\", \"dr\", \"dr\", \"dr\", \"dr\", \"each\", \"each\", \"each\", \"each\", \"each\", \"each\", \"each\", \"each\", \"each\", \"each\", \"each\", \"each\", \"each\", \"each\", \"each\", \"each\", \"each\", \"each\", \"earlier\", \"earlier\", \"earlier\", \"earlier\", \"earlier\", \"earlier\", \"earlier\", \"earlier\", \"earlier\", \"earlier\", \"earlier\", \"earlier\", \"earlier\", \"earlier\", \"earlier\", \"earlier\", \"earlier\", \"earlier\", \"earlier\", \"earlier\", \"east\", \"east\", \"east\", \"east\", \"east\", \"east\", \"east\", \"east\", \"east\", \"east\", \"east\", \"eastern\", \"eastern\", \"eastern\", \"eastern\", \"eastern\", \"eastern\", \"eastern\", \"eastern\", \"eastern\", \"eastern\", \"eastern\", \"economic\", \"economic\", \"economic\", \"economic\", \"economic\", \"economic\", \"economic\", \"economy\", \"economy\", \"economy\", \"economy\", \"economy\", \"economy\", \"education\", \"education\", \"education\", \"education\", \"education\", \"education\", \"education\", \"education\", \"education\", \"education\", \"effective\", \"effective\", \"effective\", \"effective\", \"effective\", \"effective\", \"effective\", \"effective\", \"effective\", \"either\", \"either\", \"either\", \"either\", \"either\", \"either\", \"either\", \"either\", \"either\", \"elderly_or\", \"elderly_or\", \"elderly_or\", \"elderly_or\", \"email\", \"email\", \"email\", \"email\", \"email\", \"email\", \"email\", \"email\", \"email\", \"emergency\", \"emergency\", \"emergency\", \"emergency\", \"emergency\", \"emergency\", \"emergency\", \"emergency\", \"emergency\", \"emergency\", \"emergency\", \"emergency\", \"emergency\", \"emergency\", \"emergency\", \"emergency\", \"emergency\", \"emergency\", \"empty\", \"empty\", \"empty\", \"empty\", \"empty\", \"empty\", \"empty\", \"empty\", \"entering\", \"entering\", \"entering\", \"entering\", \"entering\", \"entering\", \"entire\", \"entire\", \"entire\", \"entire\", \"entire\", \"entire\", \"entire\", \"entire\", \"entire\", \"entry\", \"entry\", \"entry\", \"entry\", \"entry\", \"entry\", \"environment\", \"environment\", \"environment\", \"environment\", \"environment\", \"environment\", \"environment\", \"epicentre\", \"epicentre\", \"epicentre\", \"epicentre\", \"epicentre\", \"epicentre\", \"epicentre\", \"epicentre\", \"epicentre\", \"epicentre_of\", \"epicentre_of\", \"epicentre_of\", \"epicentre_of\", \"epicentre_of\", \"epicentre_of\", \"epicentre_of\", \"epicentre_of\", \"epidemic\", \"epidemic\", \"epidemic\", \"epidemic\", \"epidemic\", \"epidemic\", \"epidemic\", \"essential\", \"essential\", \"essential\", \"essential\", \"essential\", \"essential\", \"essential\", \"evacuate\", \"evacuate\", \"evacuate\", \"evacuate\", \"evacuate\", \"evacuate\", \"evacuated\", \"evacuated\", \"evacuated\", \"evacuated\", \"evacuated\", \"evacuated\", \"evacuated\", \"evacuated\", \"evacuated_from\", \"evacuated_from\", \"evacuated_from\", \"evacuated_from\", \"evacuated_from\", \"evacuation\", \"evacuation\", \"evacuation\", \"evacuation\", \"evacuation\", \"evacuation\", \"evacuation\", \"evacuee\", \"evacuee\", \"evacuee\", \"evacuee\", \"even\", \"even\", \"even\", \"even\", \"even\", \"even\", \"even\", \"even\", \"even\", \"even\", \"even\", \"even\", \"even\", \"even\", \"even\", \"even\", \"even\", \"even\", \"even\", \"even\", \"even\", \"event\", \"event\", \"event\", \"event\", \"event\", \"event\", \"event\", \"event\", \"eventually\", \"eventually\", \"eventually\", \"eventually\", \"eventually\", \"eventually\", \"eventually\", \"every_day\", \"every_day\", \"every_day\", \"every_day\", \"every_day\", \"everyone\", \"everyone\", \"everyone\", \"everyone\", \"everyone\", \"everyone\", \"everyone\", \"everyone\", \"everyone\", \"everyone\", \"evidence\", \"evidence\", \"evidence\", \"evidence\", \"evidence\", \"evidence\", \"evidence\", \"evidence\", \"evidence\", \"evidence\", \"evidence\", \"evidence\", \"exactly\", \"exactly\", \"exactly\", \"exactly\", \"exactly\", \"exactly\", \"example\", \"example\", \"example\", \"example\", \"example\", \"example\", \"example\", \"example\", \"executive\", \"executive\", \"executive\", \"executive\", \"executive\", \"executive\", \"executive\", \"executive\", \"existing\", \"existing\", \"existing\", \"existing\", \"existing\", \"existing\", \"existing\", \"existing\", \"expect\", \"expect\", \"expect\", \"expect\", \"expect\", \"expect\", \"expect\", \"expect\", \"experience\", \"experience\", \"experience\", \"experience\", \"experience\", \"experience\", \"experience\", \"experience\", \"experience\", \"experience\", \"experience\", \"experienced\", \"experienced\", \"experienced\", \"experienced\", \"experienced\", \"experienced\", \"experienced\", \"experienced\", \"experienced\", \"experienced\", \"experienced\", \"expert\", \"expert\", \"expert\", \"expert\", \"expert\", \"expert\", \"expert\", \"expert\", \"expert\", \"expert\", \"expert\", \"expert\", \"expert\", \"expert\", \"expert\", \"expert\", \"expert\", \"expert\", \"expert\", \"expert_say\", \"expert_say\", \"expert_say\", \"expert_say\", \"expert_say\", \"explained\", \"explained\", \"explained\", \"explained\", \"explained\", \"explained\", \"explained\", \"explained\", \"exposure\", \"exposure\", \"exposure\", \"exposure\", \"exposure\", \"exposure\", \"extended\", \"extended\", \"extended\", \"extended\", \"extended\", \"extended\", \"extended\", \"extended\", \"extended\", \"extra\", \"extra\", \"extra\", \"extra\", \"extra\", \"extra\", \"extra\", \"extra\", \"extra\", \"extra\", \"extra\", \"extra\", \"extreme\", \"extreme\", \"extreme\", \"extreme\", \"extreme\", \"extreme\", \"extreme\", \"extreme\", \"face\", \"face\", \"face\", \"face\", \"face\", \"face\", \"face\", \"face\", \"face\", \"face\", \"face\", \"face\", \"face\", \"face\", \"face\", \"face\", \"face\", \"face\", \"face\", \"face\", \"face\", \"face_mask\", \"face_mask\", \"face_mask\", \"face_mask\", \"face_mask\", \"face_mask\", \"face_mask\", \"face_mask\", \"face_mask\", \"face_mask\", \"face_mask\", \"face_mask\", \"face_mask\", \"facebook\", \"facebook\", \"facebook\", \"facebook\", \"facebook\", \"facebook\", \"facebook\", \"facebook\", \"facebook\", \"facebook\", \"facebook\", \"facility\", \"facility\", \"facility\", \"facility\", \"facility\", \"facility\", \"facility\", \"facility\", \"facility\", \"fact\", \"fact\", \"fact\", \"fact\", \"fact\", \"fact\", \"fact\", \"fact\", \"fact\", \"fact\", \"fact\", \"fact\", \"failure\", \"failure\", \"failure\", \"failure\", \"failure\", \"failure\", \"family\", \"family\", \"family\", \"family\", \"family\", \"family\", \"family\", \"family\", \"family\", \"family\", \"family\", \"family\", \"family\", \"family\", \"family\", \"family\", \"family\", \"family\", \"family\", \"family_member\", \"family_member\", \"family_member\", \"family_member\", \"fatality\", \"fatality\", \"fatality\", \"fatality\", \"fear\", \"fear\", \"fear\", \"fear\", \"fear\", \"fear\", \"fear\", \"fear\", \"fear\", \"fear\", \"fear\", \"fear\", \"fear\", \"fear\", \"fear\", \"fear\", \"fear\", \"fear\", \"february\", \"february\", \"february\", \"february\", \"february\", \"february\", \"february\", \"february\", \"february\", \"february\", \"february\", \"february\", \"february\", \"february\", \"february\", \"february\", \"february\", \"february\", \"february\", \"february\", \"february\", \"february\", \"february\", \"february_february\", \"february_february\", \"february_february\", \"february_february\", \"february_february\", \"february_february\", \"february_february\", \"february_february\", \"february_february\", \"february_february\", \"february_february\", \"february_queensland\", \"february_queensland\", \"february_queensland\", \"february_queensland\", \"february_queensland\", \"february_queensland\", \"february_queensland\", \"february_queensland\", \"february_queensland\", \"february_queensland\", \"february_updated\", \"february_updated\", \"february_updated\", \"february_updated\", \"february_updated\", \"february_updated\", \"february_updated\", \"february_updated\", \"february_updated\", \"february_updated\", \"february_updated\", \"february_western\", \"february_western\", \"february_western\", \"february_western\", \"february_western\", \"february_western\", \"february_western\", \"february_western\", \"february_western\", \"feel\", \"feel\", \"feel\", \"feel\", \"feel\", \"feel\", \"feel\", \"feel\", \"feel\", \"feeling\", \"feeling\", \"feeling\", \"feeling\", \"feeling\", \"feeling\", \"feeling\", \"feeling\", \"feeling\", \"feeling\", \"felt\", \"felt\", \"felt\", \"felt\", \"felt\", \"felt\", \"felt\", \"female\", \"female\", \"female\", \"female\", \"female\", \"female\", \"female\", \"female\", \"fever\", \"fever\", \"fever\", \"fever\", \"fever\", \"fever\", \"fever_cough\", \"fever_cough\", \"fever_cough\", \"fill\", \"fill\", \"fill\", \"fill\", \"fill\", \"fill\", \"final\", \"final\", \"final\", \"final\", \"final\", \"final\", \"final\", \"final\", \"final\", \"final\", \"financial\", \"financial\", \"financial\", \"financial\", \"financial\", \"financial\", \"financial\", \"financial\", \"financial\", \"find\", \"find\", \"find\", \"find\", \"find\", \"find\", \"find\", \"find\", \"find\", \"find\", \"find\", \"find\", \"find\", \"find\", \"finding\", \"finding\", \"finding\", \"finding\", \"finding\", \"finding\", \"finding\", \"finding\", \"finding\", \"finding\", \"finding\", \"finding\", \"fine\", \"fine\", \"fine\", \"fine\", \"fine\", \"fine\", \"fine\", \"fine\", \"fine\", \"fine\", \"fine\", \"fine\", \"fine\", \"fire\", \"fire\", \"fire\", \"fire\", \"fire\", \"fire\", \"fire\", \"first\", \"first\", \"first\", \"first\", \"first\", \"first\", \"first\", \"first\", \"first\", \"first\", \"first\", \"first\", \"first\", \"first\", \"first\", \"first\", \"first\", \"first\", \"first\", \"first\", \"first\", \"first\", \"first\", \"first\", \"first\", \"first\", \"flew\", \"flew\", \"flew\", \"flew\", \"flew\", \"flew\", \"flight\", \"flight\", \"flight\", \"flight\", \"flight\", \"flight\", \"flight\", \"flight\", \"flight\", \"flight\", \"flight\", \"flight\", \"flight\", \"flight\", \"flight\", \"flight\", \"flown\", \"flown\", \"flown\", \"flown\", \"flown\", \"flown\", \"flu\", \"flu\", \"flu\", \"flu\", \"flu\", \"flu\", \"flu\", \"flu\", \"flu\", \"flu_like\", \"flu_like\", \"flu_like\", \"flu_like\", \"flu_like\", \"flu_like\", \"fluid\", \"fluid\", \"fluid\", \"fly\", \"fly\", \"fly\", \"fly\", \"fly\", \"fly\", \"fly\", \"focus\", \"focus\", \"focus\", \"focus\", \"focus\", \"focus\", \"focus\", \"followed\", \"followed\", \"followed\", \"followed\", \"followed\", \"followed\", \"followed\", \"food\", \"food\", \"food\", \"food\", \"food\", \"food\", \"food\", \"food\", \"food\", \"food\", \"food\", \"food\", \"food\", \"footage\", \"footage\", \"footage\", \"footage\", \"footage\", \"footage\", \"footage\", \"forced\", \"forced\", \"forced\", \"forced\", \"forced\", \"forced\", \"forced\", \"forced\", \"forced\", \"forced\", \"forced\", \"forced\", \"forced\", \"forced\", \"foreign\", \"foreign\", \"foreign\", \"foreign\", \"foreign\", \"foreign\", \"foreign\", \"foreign\", \"foreign\", \"foreign\", \"foreign\", \"foreign\", \"foreign_affair\", \"foreign_affair\", \"foreign_affair\", \"foreign_affair\", \"foreign_traveller\", \"foreign_traveller\", \"foreign_traveller\", \"former\", \"former\", \"former\", \"former\", \"former\", \"former\", \"former\", \"former\", \"former\", \"found\", \"found\", \"found\", \"found\", \"found\", \"found\", \"found\", \"found\", \"found\", \"found\", \"found\", \"found\", \"found\", \"found\", \"found\", \"found\", \"four\", \"four\", \"four\", \"four\", \"four\", \"four\", \"four\", \"four\", \"four\", \"four\", \"four\", \"four\", \"four\", \"four\", \"four\", \"four\", \"four\", \"four\", \"four\", \"four\", \"four\", \"four\", \"four\", \"fourth\", \"fourth\", \"fourth\", \"fourth\", \"fourth\", \"fourth\", \"fourth\", \"fourth\", \"friday\", \"friday\", \"friday\", \"friday\", \"friday\", \"friday\", \"friday\", \"friday\", \"friday\", \"friday\", \"friday\", \"friday\", \"friday\", \"friday\", \"friday\", \"friday\", \"friend\", \"friend\", \"friend\", \"friend\", \"friend\", \"friend\", \"friend\", \"friend\", \"from_wuhan\", \"from_wuhan\", \"from_wuhan\", \"from_wuhan\", \"further\", \"further\", \"further\", \"further\", \"further\", \"further\", \"further\", \"further\", \"further\", \"further\", \"further\", \"further\", \"further\", \"further\", \"further\", \"further\", \"further\", \"further\", \"further\", \"further\", \"future\", \"future\", \"future\", \"future\", \"future\", \"future\", \"future\", \"future\", \"future\", \"future\", \"future\", \"future\", \"game\", \"game\", \"game\", \"game\", \"game\", \"gathering\", \"gathering\", \"gathering\", \"gathering\", \"gathering\", \"gathering\", \"gathering\", \"gathering\", \"gathering\", \"get\", \"get\", \"get\", \"get\", \"get\", \"get\", \"get\", \"get\", \"get\", \"get\", \"get\", \"get\", \"get\", \"get\", \"get\", \"get\", \"get\", \"get\", \"get\", \"get\", \"get\", \"getting\", \"getting\", \"getting\", \"getting\", \"getting\", \"getting\", \"getting\", \"getting\", \"getting\", \"getting\", \"getting\", \"getting\", \"getting\", \"global\", \"global\", \"global\", \"global\", \"global\", \"global\", \"global\", \"global\", \"global\", \"global\", \"global\", \"global\", \"global\", \"global\", \"global\", \"global\", \"global\", \"global\", \"global\", \"globally\", \"globally\", \"globally\", \"globally\", \"globally\", \"globally\", \"globally\", \"globally\", \"globally\", \"globally\", \"globally\", \"globally\", \"globally\", \"globally\", \"go\", \"go\", \"go\", \"go\", \"go\", \"go\", \"go\", \"go\", \"go\", \"go\", \"go\", \"go\", \"go\", \"go\", \"go\", \"go\", \"go\", \"go\", \"go\", \"go\", \"go\", \"go\", \"gold\", \"gold\", \"gold\", \"gold\", \"gold\", \"gold\", \"gold_coast\", \"gold_coast\", \"gold_coast\", \"gold_coast\", \"gone\", \"gone\", \"gone\", \"gone\", \"gone\", \"gone\", \"gone\", \"gone\", \"gone\", \"gone\", \"good\", \"good\", \"good\", \"good\", \"good\", \"good\", \"good\", \"good\", \"good\", \"good\", \"good\", \"good\", \"good\", \"good\", \"good\", \"good\", \"good\", \"good\", \"government\", \"government\", \"government\", \"government\", \"government\", \"government\", \"government\", \"government\", \"government\", \"government\", \"government\", \"government\", \"government\", \"government\", \"government\", \"government\", \"government\", \"government\", \"government\", \"government\", \"government\", \"government\", \"government\", \"government\", \"government\", \"government\", \"government\", \"gp\", \"gp\", \"gp\", \"gp\", \"gp\", \"gp\", \"gp\", \"greg\", \"greg\", \"greg\", \"greg\", \"greg\", \"greg\", \"greg\", \"greg\", \"greg_hunt\", \"greg_hunt\", \"greg_hunt\", \"greg_hunt\", \"greg_hunt\", \"greg_hunt\", \"ground\", \"ground\", \"ground\", \"ground\", \"ground\", \"ground\", \"ground\", \"ground\", \"ground\", \"ground\", \"group\", \"group\", \"group\", \"group\", \"group\", \"group\", \"group\", \"group\", \"group\", \"group\", \"group\", \"group\", \"group\", \"group\", \"group\", \"group\", \"group\", \"group\", \"group\", \"group\", \"group\", \"group\", \"group\", \"growth\", \"growth\", \"growth\", \"growth\", \"growth\", \"growth\", \"guest\", \"guest\", \"guest\", \"guest\", \"guest\", \"guest\", \"guest\", \"ha_killed\", \"ha_killed\", \"ha_killed\", \"ha_killed\", \"ha_killed\", \"ha_killed\", \"ha_killed\", \"ha_killed\", \"ha_killed\", \"ha_killed\", \"ha_killed\", \"ha_killed\", \"ha_killed\", \"ha_raised\", \"ha_raised\", \"ha_raised\", \"ha_raised\", \"ha_raised\", \"ha_raised\", \"hand\", \"hand\", \"hand\", \"hand\", \"hand\", \"hand\", \"hand\", \"hand\", \"hand\", \"hand\", \"hand\", \"hand\", \"hand\", \"have_died\", \"have_died\", \"have_died\", \"have_died\", \"have_died\", \"have_died\", \"have_died\", \"have_died\", \"have_died\", \"have_died\", \"have_died\", \"have_died\", \"have_died\", \"he_added\", \"he_added\", \"he_added\", \"he_added\", \"he_added\", \"he_added\", \"he_added\", \"he_said\", \"he_said\", \"he_said\", \"he_said\", \"he_said\", \"he_said\", \"he_said\", \"he_said\", \"he_said\", \"he_said\", \"he_said\", \"he_said\", \"he_said\", \"he_said\", \"he_said\", \"he_said\", \"he_said\", \"he_said\", \"he_said\", \"he_said\", \"he_told\", \"he_told\", \"he_told\", \"he_told\", \"he_told\", \"he_told\", \"he_told\", \"he_told\", \"he_told\", \"he_told\", \"he_told\", \"head\", \"head\", \"head\", \"head\", \"head\", \"head\", \"head\", \"head\", \"head\", \"head\", \"head\", \"head\", \"head\", \"heading\", \"heading\", \"heading\", \"heading\", \"heading\", \"heading\", \"heading\", \"heading\", \"health_minister\", \"health_minister\", \"health_minister\", \"health_minister\", \"health_minister\", \"health_minister\", \"health_minister\", \"health_minister\", \"health_minister\", \"heart\", \"heart\", \"heart\", \"heart\", \"heart\", \"heart\", \"heart\", \"heart\", \"heart\", \"heat\", \"heat\", \"heat\", \"heavy\", \"heavy\", \"heavy\", \"heavy\", \"heavy\", \"heavy\", \"heavy\", \"heavy\", \"help\", \"help\", \"help\", \"help\", \"help\", \"help\", \"help\", \"help\", \"help\", \"help\", \"help\", \"help\", \"help\", \"help\", \"help\", \"help\", \"help\", \"her\", \"her\", \"her\", \"her\", \"her\", \"her\", \"her\", \"her\", \"her\", \"her\", \"her\", \"her\", \"her\", \"her\", \"higher\", \"higher\", \"higher\", \"higher\", \"higher\", \"higher\", \"higher\", \"higher\", \"higher\", \"higher\", \"higher\", \"higher\", \"highest\", \"highest\", \"highest\", \"highest\", \"highest\", \"highest\", \"highest\", \"highest\", \"highest\", \"highest\", \"highest\", \"him\", \"him\", \"him\", \"him\", \"him\", \"him\", \"him\", \"him\", \"his\", \"his\", \"his\", \"his\", \"his\", \"his\", \"his\", \"his\", \"his\", \"his\", \"his\", \"his\", \"his\", \"his\", \"his\", \"his\", \"his\", \"his\", \"his_wife\", \"his_wife\", \"his_wife\", \"his_wife\", \"his_wife\", \"his_wife\", \"history\", \"history\", \"history\", \"history\", \"history\", \"history\", \"history\", \"history\", \"holding\", \"holding\", \"holding\", \"holding\", \"holding\", \"home\", \"home\", \"home\", \"home\", \"home\", \"home\", \"home\", \"home\", \"home\", \"home\", \"home\", \"home\", \"home\", \"home\", \"home\", \"home\", \"home\", \"home\", \"home\", \"home\", \"hong\", \"hong\", \"hong\", \"hong\", \"hong\", \"hong\", \"hong\", \"hong\", \"hong\", \"hong\", \"hong_kong\", \"hong_kong\", \"hong_kong\", \"hong_kong\", \"hong_kong\", \"hong_kong\", \"hong_kong\", \"hong_kong\", \"hong_kong\", \"hope\", \"hope\", \"hope\", \"hope\", \"hope\", \"hope\", \"hope\", \"hope\", \"hope\", \"hospital\", \"hospital\", \"hospital\", \"hospital\", \"hospital\", \"hospital\", \"hospital\", \"hospital\", \"hospital\", \"hospital\", \"hospital\", \"hospital\", \"hospital\", \"hospital\", \"hospital\", \"hospital\", \"hospital\", \"hospital\", \"hospital\", \"hospital\", \"hospital\", \"hospital\", \"hospital\", \"host\", \"host\", \"host\", \"host\", \"host\", \"host\", \"host\", \"host\", \"host\", \"hot\", \"hot\", \"hot\", \"hot\", \"hot\", \"hot\", \"hot\", \"hot\", \"hot\", \"hotel\", \"hotel\", \"hotel\", \"hotel\", \"hotel\", \"hotel\", \"hotel\", \"hotel\", \"hotel\", \"hotel\", \"how\", \"how\", \"how\", \"how\", \"how\", \"how\", \"how\", \"how\", \"how\", \"how\", \"how\", \"how\", \"how\", \"how\", \"how\", \"how\", \"how\", \"how\", \"how\", \"how\", \"how\", \"how\", \"how\", \"hubei\", \"hubei\", \"hubei\", \"hubei\", \"hubei\", \"hubei\", \"hubei\", \"hubei\", \"hubei\", \"hubei_province\", \"hubei_province\", \"hubei_province\", \"hubei_province\", \"hubei_province\", \"hubei_province\", \"hubei_province\", \"hubei_province\", \"human\", \"human\", \"human\", \"human\", \"human\", \"human\", \"human\", \"human\", \"human\", \"human\", \"human\", \"human\", \"human\", \"human\", \"human\", \"human\", \"human\", \"human\", \"hundred\", \"hundred\", \"hundred\", \"hundred\", \"hundred\", \"hundred\", \"hundred\", \"hundred\", \"hundred\", \"hundred\", \"hundred_of\", \"hundred_of\", \"hundred_of\", \"hundred_of\", \"hundred_of\", \"hundred_of\", \"hundred_of\", \"hundred_of\", \"hundred_of\", \"hundred_of\", \"hundred_of\", \"hunt\", \"hunt\", \"hunt\", \"hunt\", \"hunt\", \"hunt\", \"hunt\", \"hunt\", \"hunt\", \"idea\", \"idea\", \"idea\", \"idea\", \"idea\", \"idea\", \"idea\", \"idea\", \"idea\", \"identified\", \"identified\", \"identified\", \"identified\", \"identified\", \"identified\", \"identified\", \"identified\", \"identified\", \"if\", \"if\", \"if\", \"if\", \"if\", \"if\", \"if\", \"if\", \"if\", \"if\", \"if\", \"if\", \"if\", \"if\", \"if\", \"if\", \"if\", \"if\", \"if\", \"if\", \"if\", \"if\", \"if\", \"if\", \"if\", \"if\", \"if_you\", \"if_you\", \"if_you\", \"if_you\", \"if_you\", \"if_you\", \"if_you\", \"if_you\", \"if_you\", \"if_you\", \"ill\", \"ill\", \"ill\", \"ill\", \"ill\", \"ill\", \"ill\", \"ill\", \"ill\", \"ill\", \"illness\", \"illness\", \"illness\", \"illness\", \"illness\", \"illness\", \"illness\", \"illness\", \"illness\", \"illness\", \"illness\", \"illness\", \"illness\", \"image\", \"image\", \"image\", \"image\", \"image\", \"image\", \"image\", \"image\", \"image\", \"image\", \"image\", \"image\", \"image\", \"image\", \"image\", \"image\", \"immediately\", \"immediately\", \"immediately\", \"immediately\", \"immediately\", \"immediately\", \"immediately\", \"immediately\", \"immediately\", \"immune\", \"immune\", \"immune\", \"immune\", \"immune\", \"immune\", \"immune\", \"included\", \"included\", \"included\", \"included\", \"included\", \"included\", \"included\", \"included\", \"included\", \"included\", \"included\", \"included\", \"included\", \"includes\", \"includes\", \"includes\", \"includes\", \"includes\", \"includes\", \"includes\", \"includes\", \"includes\", \"includes\", \"includes\", \"includes\", \"includes\", \"includes\", \"including\", \"including\", \"including\", \"including\", \"including\", \"including\", \"including\", \"including\", \"including\", \"including\", \"including\", \"including\", \"including\", \"including\", \"including\", \"including\", \"including\", \"including\", \"including\", \"including\", \"including\", \"including\", \"including\", \"including_three\", \"including_three\", \"including_three\", \"including_three\", \"increase\", \"increase\", \"increase\", \"increase\", \"increase\", \"increase\", \"increase\", \"increase\", \"increase\", \"increase\", \"increase\", \"increase\", \"increase\", \"increased\", \"increased\", \"increased\", \"increased\", \"increased\", \"increased\", \"increased\", \"increased\", \"individual\", \"individual\", \"individual\", \"individual\", \"individual\", \"individual\", \"individual\", \"individual\", \"individual\", \"individual\", \"individual\", \"individual\", \"individual\", \"individual\", \"individual\", \"individual\", \"individual\", \"individual\", \"individual\", \"indonesia\", \"indonesia\", \"indonesia\", \"indonesia\", \"indonesia\", \"industry\", \"industry\", \"industry\", \"industry\", \"industry\", \"industry\", \"industry\", \"industry\", \"infected\", \"infected\", \"infected\", \"infected\", \"infected\", \"infected\", \"infected\", \"infected\", \"infected\", \"infected\", \"infected\", \"infected\", \"infected\", \"infected\", \"infected\", \"infected\", \"infected\", \"infected\", \"infected\", \"infection\", \"infection\", \"infection\", \"infection\", \"infection\", \"infection\", \"infection\", \"infection\", \"infection\", \"infection\", \"infection\", \"infection\", \"infection\", \"infection\", \"infection\", \"infection\", \"infectious_disease\", \"infectious_disease\", \"infectious_disease\", \"infectious_disease\", \"infectious_disease\", \"infectious_disease\", \"infectious_disease\", \"information\", \"information\", \"information\", \"information\", \"information\", \"information\", \"information\", \"information\", \"information\", \"information\", \"information\", \"information\", \"information\", \"information\", \"information\", \"information\", \"information\", \"information\", \"information\", \"institute\", \"institute\", \"institute\", \"institute\", \"institute\", \"institute\", \"institute\", \"institute\", \"institute\", \"institute\", \"institute\", \"intensive\", \"intensive\", \"intensive\", \"intensive\", \"intensive\", \"intensive\", \"intensive\", \"intensive\", \"intensive\", \"intensive\", \"intensive_care\", \"intensive_care\", \"intensive_care\", \"intensive_care\", \"intensive_care\", \"intensive_care\", \"intensive_care\", \"intensive_care\", \"intensive_care\", \"international\", \"international\", \"international\", \"international\", \"international\", \"international\", \"international\", \"international\", \"international\", \"international\", \"international\", \"international\", \"international\", \"international\", \"international\", \"international\", \"international\", \"international\", \"international\", \"international\", \"international_airport\", \"international_airport\", \"international_airport\", \"international_airport\", \"international_airport\", \"international_airport\", \"international_airport\", \"into\", \"into\", \"into\", \"into\", \"into\", \"into\", \"into\", \"into\", \"into\", \"into\", \"into\", \"into\", \"into\", \"into\", \"into\", \"into\", \"into\", \"into\", \"into\", \"into\", \"into\", \"into\", \"into\", \"into\", \"into\", \"into\", \"into\", \"into\", \"island\", \"island\", \"island\", \"island\", \"island\", \"island\", \"island\", \"island\", \"isolate\", \"isolate\", \"isolate\", \"isolate\", \"isolate\", \"isolate\", \"isolate\", \"isolate\", \"isolate\", \"isolate\", \"isolate\", \"isolated\", \"isolated\", \"isolated\", \"isolated\", \"isolated\", \"isolated\", \"isolated\", \"isolated\", \"isolated\", \"isolated\", \"isolated\", \"isolated\", \"isolation\", \"isolation\", \"isolation\", \"isolation\", \"isolation\", \"isolation\", \"isolation\", \"isolation\", \"isolation\", \"isolation\", \"isolation\", \"isolation\", \"isolation\", \"isolation\", \"isolation\", \"isolation\", \"isolation\", \"issue\", \"issue\", \"issue\", \"issue\", \"issue\", \"issue\", \"issue\", \"issue\", \"issue\", \"issue\", \"issue\", \"issue\", \"issue\", \"issue\", \"issue\", \"issue\", \"issue\", \"issue\", \"issue\", \"issue\", \"italy\", \"italy\", \"italy\", \"italy\", \"italy\", \"italy\", \"italy\", \"italy\", \"italy\", \"italy\", \"italy\", \"italy\", \"italy\", \"itas\", \"itas\", \"itas\", \"itas\", \"itas\", \"itas\", \"itas\", \"itas\", \"itas\", \"itas\", \"item\", \"item\", \"item\", \"item\", \"item\", \"item\", \"january_february\", \"january_february\", \"january_february\", \"january_february\", \"january_february\", \"january_february\", \"january_february\", \"january_february\", \"january_february\", \"january_january\", \"january_january\", \"january_january\", \"january_january\", \"january_january\", \"january_january\", \"january_january\", \"january_january\", \"january_january\", \"january_january\", \"january_january\", \"january_january\", \"january_january\", \"january_january\", \"january_victoria\", \"january_victoria\", \"january_victoria\", \"january_victoria\", \"january_victoria\", \"january_victoria\", \"january_victoria\", \"january_victoria\", \"january_victoria\", \"japan\", \"japan\", \"japan\", \"japan\", \"japan\", \"japan\", \"japan\", \"japan\", \"japan\", \"japan\", \"japan\", \"japan\", \"japan\", \"japan\", \"japan\", \"japan\", \"japan_advertisement\", \"japan_advertisement\", \"japan_advertisement\", \"japan_advertisement\", \"japan_advertisement\", \"japan_advertisement\", \"japanese\", \"japanese\", \"japanese\", \"japanese\", \"job\", \"job\", \"job\", \"job\", \"job\", \"job\", \"job\", \"job\", \"job\", \"job\", \"job\", \"job\", \"job\", \"journal\", \"journal\", \"journal\", \"journal\", \"journal\", \"journal\", \"journal\", \"journal\", \"just\", \"just\", \"just\", \"just\", \"just\", \"just\", \"just\", \"just\", \"just\", \"just\", \"just\", \"just\", \"just\", \"just\", \"just\", \"just\", \"just\", \"just\", \"just\", \"just\", \"just\", \"just\", \"just\", \"kept\", \"kept\", \"kept\", \"kept\", \"kept\", \"kept\", \"kept\", \"kept\", \"kept\", \"kill\", \"kill\", \"kill\", \"kill\", \"kill\", \"kill\", \"kill\", \"kill\", \"known\", \"known\", \"known\", \"known\", \"known\", \"known\", \"known\", \"known\", \"known\", \"known\", \"known\", \"known\", \"known\", \"known\", \"known\", \"kong\", \"kong\", \"kong\", \"kong\", \"kong\", \"kong\", \"kong\", \"kong\", \"kong\", \"korea\", \"korea\", \"korea\", \"korea\", \"korea\", \"korea\", \"korea\", \"korea\", \"korea\", \"korea\", \"landed\", \"landed\", \"landed\", \"landed\", \"landed\", \"landing\", \"landing\", \"landing\", \"landing\", \"larger\", \"larger\", \"larger\", \"larger\", \"larger\", \"larger\", \"larger\", \"larger\", \"larger\", \"last\", \"last\", \"last\", \"last\", \"last\", \"last\", \"last\", \"last\", \"last\", \"last\", \"last\", \"last\", \"last\", \"last\", \"last\", \"last\", \"last\", \"last\", \"last\", \"last\", \"last\", \"last\", \"last\", \"last\", \"last\", \"last\", \"last\", \"last_year\", \"last_year\", \"last_year\", \"last_year\", \"last_year\", \"last_year\", \"last_year\", \"last_year\", \"last_year\", \"last_year\", \"last_year\", \"latest\", \"latest\", \"latest\", \"latest\", \"latest\", \"latest\", \"latest\", \"latest\", \"latest\", \"latest\", \"latest\", \"law\", \"law\", \"law\", \"law\", \"law\", \"law\", \"law\", \"law\", \"lead\", \"lead\", \"lead\", \"lead\", \"lead\", \"lead\", \"lead\", \"lead\", \"lead\", \"lead\", \"lead\", \"lead\", \"lead\", \"lead\", \"lead\", \"lead\", \"leader\", \"leader\", \"leader\", \"leader\", \"leader\", \"leader\", \"leader\", \"leading\", \"leading\", \"leading\", \"leading\", \"leading\", \"leading\", \"leading\", \"leading\", \"leading\", \"leading\", \"learning\", \"learning\", \"learning\", \"learning\", \"learning\", \"learning\", \"learning\", \"learning\", \"learning\", \"least\", \"least\", \"least\", \"least\", \"least\", \"least\", \"least\", \"least\", \"least\", \"least\", \"least\", \"least\", \"least\", \"least\", \"least\", \"least\", \"least\", \"least\", \"least\", \"leave\", \"leave\", \"leave\", \"leave\", \"leave\", \"leave\", \"leave\", \"leave\", \"leave\", \"leave\", \"leave\", \"leave\", \"leave\", \"leave\", \"leave\", \"leave\", \"led\", \"led\", \"led\", \"led\", \"led\", \"led\", \"led\", \"led\", \"led\", \"left\", \"left\", \"left\", \"left\", \"left\", \"left\", \"left\", \"left\", \"left\", \"left\", \"left\", \"left\", \"left\", \"left\", \"left\", \"left\", \"left\", \"left\", \"left\", \"left\", \"left\", \"letter\", \"letter\", \"letter\", \"letter\", \"letter\", \"letter\", \"letter\", \"letter\", \"letter\", \"level\", \"level\", \"level\", \"level\", \"level\", \"level\", \"level\", \"level\", \"level\", \"level\", \"level\", \"level\", \"level\", \"level\", \"level\", \"level\", \"level\", \"level\", \"life\", \"life\", \"life\", \"life\", \"life\", \"life\", \"life\", \"life\", \"life\", \"life\", \"life\", \"life\", \"life\", \"life\", \"life\", \"life\", \"life\", \"light\", \"light\", \"light\", \"light\", \"light\", \"light\", \"light\", \"light\", \"light\", \"light\", \"like\", \"like\", \"like\", \"like\", \"like\", \"like\", \"like\", \"like\", \"like\", \"like\", \"like\", \"like\", \"like\", \"like\", \"like\", \"like\", \"like\", \"like\", \"like\", \"like\", \"like\", \"like\", \"like\", \"like\", \"like\", \"limit\", \"limit\", \"limit\", \"limit\", \"limit\", \"limit\", \"limit\", \"limit\", \"limited\", \"limited\", \"limited\", \"limited\", \"limited\", \"limited\", \"limited\", \"limited\", \"limited\", \"limited\", \"limited\", \"line\", \"line\", \"line\", \"line\", \"line\", \"line\", \"line\", \"line\", \"line\", \"line\", \"line\", \"link\", \"link\", \"link\", \"link\", \"link\", \"link\", \"list\", \"list\", \"list\", \"list\", \"list\", \"list\", \"list\", \"list\", \"list\", \"live\", \"live\", \"live\", \"live\", \"live\", \"live\", \"live\", \"live\", \"live\", \"live\", \"live\", \"ll\", \"ll\", \"ll\", \"ll\", \"ll\", \"ll\", \"ll\", \"ll\", \"ll\", \"local\", \"local\", \"local\", \"local\", \"local\", \"local\", \"local\", \"local\", \"local\", \"local\", \"local\", \"local\", \"local\", \"local\", \"location\", \"location\", \"location\", \"location\", \"location\", \"location\", \"location\", \"location\", \"location\", \"lockdown\", \"lockdown\", \"lockdown\", \"lockdown\", \"lockdown\", \"lockdown\", \"lockdown\", \"lockdown\", \"lockdown\", \"lockdown\", \"lockdown\", \"london\", \"london\", \"london\", \"london\", \"london\", \"london\", \"london\", \"long_term\", \"long_term\", \"long_term\", \"long_term\", \"long_term\", \"long_term\", \"low\", \"low\", \"low\", \"low\", \"low\", \"low\", \"low\", \"low\", \"low\", \"low\", \"low\", \"low\", \"low\", \"low\", \"low\", \"lung\", \"lung\", \"lung\", \"lung\", \"lung\", \"lung\", \"lung\", \"lung\", \"m\", \"m\", \"m\", \"m\", \"m\", \"m\", \"m\", \"m\", \"m\", \"m\", \"m\", \"m\", \"made\", \"made\", \"made\", \"made\", \"made\", \"made\", \"made\", \"made\", \"made\", \"made\", \"made\", \"made\", \"made\", \"made\", \"made\", \"made\", \"made\", \"made\", \"made\", \"made\", \"made\", \"made\", \"mail\", \"mail\", \"mail\", \"mail\", \"mail\", \"mail\", \"mail\", \"mail\", \"mail\", \"mail\", \"mail\", \"mail\", \"mail\", \"mail_australia\", \"mail_australia\", \"mail_australia\", \"mail_australia\", \"mail_australia\", \"mail_australia\", \"mail_australia\", \"mail_australia\", \"mail_australia\", \"main\", \"main\", \"main\", \"main\", \"main\", \"main\", \"main\", \"main\", \"main\", \"mainland\", \"mainland\", \"mainland\", \"mainland\", \"mainland\", \"mainland\", \"mainland\", \"mainland\", \"mainland\", \"mainland_china\", \"mainland_china\", \"mainland_china\", \"mainland_china\", \"mainland_china\", \"mainland_china\", \"mainland_china\", \"mainland_china\", \"mainland_china\", \"make\", \"make\", \"make\", \"make\", \"make\", \"make\", \"make\", \"make\", \"make\", \"make\", \"make\", \"make\", \"make\", \"make\", \"make\", \"make\", \"make\", \"make\", \"malaysia\", \"malaysia\", \"malaysia\", \"malaysia\", \"malaysia\", \"man\", \"man\", \"man\", \"man\", \"man\", \"man\", \"man\", \"man\", \"man\", \"man\", \"man\", \"man\", \"man\", \"man\", \"man\", \"man\", \"management\", \"management\", \"management\", \"management\", \"management\", \"management\", \"management\", \"management\", \"management\", \"management\", \"management\", \"many\", \"many\", \"many\", \"many\", \"many\", \"many\", \"many\", \"many\", \"many\", \"many\", \"many\", \"many\", \"many\", \"many\", \"many\", \"many\", \"many\", \"many\", \"many\", \"many\", \"many\", \"many\", \"many\", \"march\", \"march\", \"march\", \"march\", \"march\", \"march\", \"march\", \"march\", \"march\", \"march\", \"march\", \"march\", \"march\", \"march\", \"march\", \"march\", \"march\", \"march\", \"march\", \"market\", \"market\", \"market\", \"market\", \"market\", \"market\", \"market\", \"market\", \"market\", \"market\", \"market\", \"market\", \"market\", \"mask\", \"mask\", \"mask\", \"mask\", \"mask\", \"mask\", \"mask\", \"mask\", \"mask\", \"mask\", \"mask\", \"mask\", \"mask\", \"mask\", \"mask\", \"mask\", \"mask\", \"mask\", \"mask\", \"mask\", \"mass\", \"mass\", \"mass\", \"mass\", \"mass\", \"mass\", \"mass\", \"mass\", \"mass\", \"massive\", \"massive\", \"massive\", \"massive\", \"massive\", \"material\", \"material\", \"material\", \"material\", \"material\", \"material\", \"matter\", \"matter\", \"matter\", \"matter\", \"matter\", \"matter\", \"matter\", \"matter\", \"matter\", \"may\", \"may\", \"may\", \"may\", \"may\", \"may\", \"may\", \"may\", \"may\", \"may\", \"may\", \"may\", \"may\", \"may\", \"may\", \"may\", \"may\", \"may\", \"may\", \"may\", \"may\", \"may\", \"may\", \"me\", \"me\", \"me\", \"me\", \"me\", \"me\", \"me\", \"me\", \"mean\", \"mean\", \"mean\", \"mean\", \"mean\", \"mean\", \"mean\", \"mean\", \"mean\", \"mean\", \"mean\", \"mean\", \"mean\", \"mean\", \"mean\", \"measure\", \"measure\", \"measure\", \"measure\", \"measure\", \"measure\", \"measure\", \"measure\", \"measure\", \"measure\", \"measure\", \"measure\", \"measure\", \"measure\", \"measure\", \"measure\", \"medical\", \"medical\", \"medical\", \"medical\", \"medical\", \"medical\", \"medical\", \"medical\", \"medical\", \"medical\", \"medical\", \"medical\", \"medical\", \"medical\", \"medical\", \"medical\", \"medical\", \"medical\", \"medical\", \"medical\", \"medical\", \"medical\", \"medical_advice\", \"medical_advice\", \"medical_advice\", \"medical_advice\", \"medical_advice\", \"medical_advice\", \"medium\", \"medium\", \"medium\", \"medium\", \"medium\", \"medium\", \"medium\", \"medium\", \"medium\", \"medium\", \"medium\", \"medium\", \"medium\", \"medium\", \"medium\", \"medium\", \"melbourne\", \"melbourne\", \"melbourne\", \"melbourne\", \"melbourne\", \"melbourne\", \"melbourne\", \"melbourne\", \"melbourne\", \"melbourne\", \"melbourne\", \"melbourne\", \"melbourne\", \"melbourne\", \"melbourne\", \"melbourne\", \"melbourne\", \"melbourne\", \"melbourne\", \"men\", \"men\", \"men\", \"men\", \"men\", \"men\", \"men\", \"men\", \"men\", \"men\", \"metre\", \"metre\", \"metre\", \"metre\", \"metre\", \"metre\", \"metre\", \"mid\", \"mid\", \"mid\", \"mid\", \"mid\", \"mid\", \"mid\", \"might\", \"might\", \"might\", \"might\", \"might\", \"might\", \"might\", \"might\", \"might\", \"might\", \"might\", \"might\", \"might\", \"mild\", \"mild\", \"mild\", \"mild\", \"mile\", \"mile\", \"mile\", \"mile\", \"mile\", \"mile\", \"mile\", \"mile\", \"million\", \"million\", \"million\", \"million\", \"million\", \"million\", \"million\", \"million\", \"million\", \"million\", \"million\", \"million\", \"million\", \"million\", \"million\", \"million\", \"million\", \"minister\", \"minister\", \"minister\", \"minister\", \"minister\", \"minister\", \"minister\", \"minister\", \"minister\", \"minister\", \"minister\", \"minister\", \"minister\", \"minister\", \"minister\", \"minister\", \"minister\", \"minister\", \"minister\", \"minister\", \"minister\", \"minister\", \"ministry\", \"ministry\", \"ministry\", \"ministry\", \"ministry\", \"ministry\", \"mission\", \"mission\", \"mission\", \"mission\", \"mission\", \"mission\", \"mission\", \"monash\", \"monash\", \"monash\", \"monash\", \"monash\", \"monash\", \"monash\", \"monash\", \"monash\", \"monash\", \"monash\", \"monash\", \"monash\", \"monash\", \"monash\", \"monash\", \"monash\", \"monash\", \"monash\", \"monash_university\", \"monash_university\", \"monash_university\", \"monash_university\", \"monash_university\", \"monash_university\", \"monash_university\", \"monash_university\", \"monash_university\", \"money\", \"money\", \"money\", \"money\", \"money\", \"money\", \"money\", \"money\", \"monitor\", \"monitor\", \"monitor\", \"monitor\", \"monitor\", \"monitor\", \"monitoring\", \"monitoring\", \"monitoring\", \"monitoring\", \"monitoring\", \"monitoring\", \"monitoring\", \"month\", \"month\", \"month\", \"month\", \"month\", \"month\", \"month\", \"month\", \"month\", \"month\", \"month\", \"month\", \"month\", \"month\", \"month\", \"month\", \"month\", \"month\", \"month\", \"month\", \"morrison\", \"morrison\", \"morrison\", \"morrison\", \"morrison\", \"morrison\", \"morrison\", \"morrison\", \"morrison\", \"morrison\", \"morrison\", \"morrison\", \"morrison\", \"morrison\", \"morrison\", \"morrison\", \"most\", \"most\", \"most\", \"most\", \"most\", \"most\", \"most\", \"most\", \"most\", \"most\", \"most\", \"most\", \"most\", \"most\", \"most\", \"most\", \"most\", \"most\", \"most\", \"most\", \"most\", \"most\", \"mother\", \"mother\", \"mother\", \"mother\", \"mother\", \"moved\", \"moved\", \"moved\", \"moved\", \"moved\", \"moved\", \"moved\", \"moving\", \"moving\", \"moving\", \"moving\", \"moving\", \"moving\", \"moving\", \"moving\", \"mr\", \"mr\", \"mr\", \"mr\", \"mr\", \"mr\", \"mr\", \"mr\", \"mr\", \"mr\", \"mr\", \"mr\", \"mr\", \"mr\", \"mr\", \"mr\", \"mr\", \"mr\", \"mr_morrison\", \"mr_morrison\", \"mr_morrison\", \"mr_morrison\", \"mr_morrison\", \"mr_morrison\", \"mr_morrison\", \"mr_morrison\", \"mr_morrison\", \"mr_morrison\", \"mr_morrison\", \"mr_morrison\", \"much\", \"much\", \"much\", \"much\", \"much\", \"much\", \"much\", \"much\", \"much\", \"much\", \"much\", \"much\", \"much\", \"much\", \"much\", \"much\", \"multiple\", \"multiple\", \"multiple\", \"multiple\", \"multiple\", \"multiple\", \"multiple\", \"multiple\", \"multiple\", \"multiple\", \"multiple\", \"multiple\", \"murphy\", \"murphy\", \"murphy\", \"murphy\", \"murphy\", \"murphy\", \"murphy_said\", \"murphy_said\", \"murphy_said\", \"murphy_said\", \"murphy_said\", \"must\", \"must\", \"must\", \"must\", \"must\", \"must\", \"must\", \"must\", \"must\", \"must\", \"my\", \"my\", \"my\", \"my\", \"my\", \"my\", \"my\", \"my\", \"my\", \"my\", \"my\", \"my\", \"my\", \"my\", \"my\", \"name\", \"name\", \"name\", \"name\", \"name\", \"name\", \"named\", \"named\", \"named\", \"named\", \"named\", \"nation\", \"nation\", \"nation\", \"nation\", \"nation\", \"nation\", \"nation\", \"nation\", \"nation\", \"nation\", \"nation\", \"nation\", \"national\", \"national\", \"national\", \"national\", \"national\", \"national\", \"national\", \"national\", \"national\", \"national\", \"national\", \"national\", \"national\", \"national\", \"national\", \"national\", \"national\", \"national\", \"national\", \"national\", \"national\", \"national\", \"national\", \"national\", \"natural\", \"natural\", \"natural\", \"natural\", \"necessary\", \"necessary\", \"necessary\", \"necessary\", \"necessary\", \"necessary\", \"necessary\", \"necessary\", \"necessary\", \"need\", \"need\", \"need\", \"need\", \"need\", \"need\", \"need\", \"need\", \"need\", \"need\", \"need\", \"need\", \"need\", \"need\", \"need\", \"need\", \"need\", \"need\", \"need\", \"need\", \"need\", \"need\", \"need\", \"need\", \"network\", \"network\", \"network\", \"network\", \"network\", \"network\", \"network\", \"network\", \"new_zealand\", \"new_zealand\", \"new_zealand\", \"new_zealand\", \"new_zealand\", \"new_zealand\", \"new_zealand\", \"new_zealand\", \"new_zealand\", \"new_zealand\", \"new_zealand\", \"new_zealand\", \"new_zealand\", \"news\", \"news\", \"news\", \"news\", \"news\", \"news\", \"news\", \"news\", \"news\", \"news\", \"news\", \"news\", \"news\", \"news\", \"news\", \"news\", \"news\", \"nine\", \"nine\", \"nine\", \"nine\", \"nine\", \"nine\", \"nine\", \"nine\", \"nine\", \"nine\", \"nine\", \"nine\", \"nine\", \"nine\", \"nine\", \"no\", \"no\", \"no\", \"no\", \"no\", \"no\", \"no\", \"no\", \"no\", \"no\", \"no\", \"no\", \"no\", \"no\", \"no\", \"no\", \"no\", \"no\", \"no\", \"no\", \"no\", \"no\", \"no\", \"no\", \"no\", \"no\", \"no_need\", \"no_need\", \"no_need\", \"no_need\", \"no_need\", \"no_need\", \"no_need\", \"non\", \"non\", \"non\", \"non\", \"non\", \"non\", \"non\", \"non\", \"non\", \"non\", \"non\", \"non\", \"non\", \"none\", \"none\", \"none\", \"none\", \"none\", \"none\", \"none\", \"none\", \"none\", \"normal\", \"normal\", \"normal\", \"normal\", \"normal\", \"normal\", \"normal\", \"normal\", \"normal\", \"normal\", \"normal\", \"normal\", \"normal\", \"normally\", \"normally\", \"normally\", \"normally\", \"normally\", \"normally\", \"normally\", \"normally\", \"normally\", \"northern\", \"northern\", \"northern\", \"northern\", \"northern\", \"northern\", \"northern\", \"northern\", \"northern\", \"nose\", \"nose\", \"nose\", \"nose\", \"nose\", \"nose\", \"nose\", \"not_yet\", \"not_yet\", \"not_yet\", \"not_yet\", \"not_yet\", \"not_yet\", \"novel_coronavirus\", \"novel_coronavirus\", \"novel_coronavirus\", \"novel_coronavirus\", \"novel_coronavirus\", \"novel_coronavirus\", \"novel_coronavirus\", \"novel_coronavirus\", \"now\", \"now\", \"now\", \"now\", \"now\", \"now\", \"now\", \"now\", \"now\", \"now\", \"now\", \"now\", \"now\", \"now\", \"now\", \"now\", \"now\", \"now\", \"now\", \"now\", \"now\", \"now\", \"now\", \"nsw\", \"nsw\", \"nsw\", \"nsw\", \"nsw\", \"nsw\", \"nsw\", \"nsw\", \"nsw\", \"nsw\", \"nsw\", \"nsw\", \"nsw\", \"nsw\", \"nsw_health\", \"nsw_health\", \"nsw_health\", \"nsw_health\", \"nsw_health\", \"nsw_health\", \"nsw_health\", \"number\", \"number\", \"number\", \"number\", \"number\", \"number\", \"number\", \"number\", \"number\", \"number\", \"number\", \"number\", \"number\", \"number\", \"number\", \"number\", \"number\", \"number\", \"number\", \"number\", \"number\", \"number\", \"number\", \"number\", \"number\", \"number_of\", \"number_of\", \"number_of\", \"number_of\", \"number_of\", \"number_of\", \"number_of\", \"number_of\", \"number_of\", \"number_of\", \"number_of\", \"number_of\", \"number_of\", \"number_of\", \"number_of\", \"number_of\", \"number_of\", \"number_of\", \"number_of\", \"number_of\", \"off\", \"off\", \"off\", \"off\", \"off\", \"off\", \"off\", \"off\", \"off\", \"off\", \"off\", \"off\", \"off\", \"off\", \"off\", \"off\", \"off\", \"off\", \"off\", \"off\", \"off\", \"offer\", \"offer\", \"offer\", \"offer\", \"offer\", \"offer\", \"offer\", \"offer\", \"offering\", \"offering\", \"offering\", \"offering\", \"offering\", \"offering\", \"offering\", \"offering\", \"office\", \"office\", \"office\", \"office\", \"office\", \"office\", \"office\", \"office\", \"office\", \"office\", \"officer\", \"officer\", \"officer\", \"officer\", \"officer\", \"officer\", \"officer\", \"officer\", \"officer\", \"officer\", \"officer\", \"officer\", \"officer\", \"officer\", \"officer\", \"officer\", \"officer\", \"officer\", \"officer_brendan\", \"officer_brendan\", \"officer_brendan\", \"officer_brendan\", \"officer_brendan\", \"officer_brendan\", \"officer_dr\", \"officer_dr\", \"officer_dr\", \"officer_dr\", \"officer_dr\", \"officer_dr\", \"official\", \"official\", \"official\", \"official\", \"official\", \"official\", \"official\", \"official\", \"official\", \"official\", \"official\", \"official\", \"official\", \"official\", \"official\", \"official\", \"official\", \"official\", \"old\", \"old\", \"old\", \"old\", \"old\", \"old\", \"old\", \"old\", \"old\", \"old\", \"old\", \"old\", \"old\", \"old\", \"old\", \"old\", \"old\", \"old\", \"old\", \"old\", \"on_board\", \"on_board\", \"on_board\", \"on_board\", \"on_board\", \"on_board\", \"on_friday\", \"on_friday\", \"on_friday\", \"on_friday\", \"on_friday\", \"on_friday\", \"on_friday\", \"on_friday\", \"on_friday\", \"on_friday\", \"on_friday\", \"on_friday\", \"on_friday\", \"on_monday\", \"on_monday\", \"on_monday\", \"on_monday\", \"on_monday\", \"on_monday\", \"on_monday\", \"on_monday\", \"on_monday\", \"on_monday\", \"on_monday\", \"on_monday\", \"on_monday\", \"on_monday\", \"on_monday\", \"on_monday\", \"on_monday\", \"on_monday\", \"on_monday\", \"on_saturday\", \"on_saturday\", \"on_saturday\", \"on_saturday\", \"on_saturday\", \"on_saturday\", \"on_saturday\", \"on_saturday\", \"on_saturday\", \"on_saturday\", \"on_thursday\", \"on_thursday\", \"on_thursday\", \"on_thursday\", \"on_thursday\", \"on_thursday\", \"on_thursday\", \"on_thursday\", \"on_thursday\", \"on_thursday\", \"on_thursday\", \"on_thursday\", \"on_thursday\", \"on_thursday\", \"on_wednesday\", \"on_wednesday\", \"on_wednesday\", \"on_wednesday\", \"on_wednesday\", \"on_wednesday\", \"on_wednesday\", \"on_wednesday\", \"on_wednesday\", \"on_wednesday\", \"on_wednesday\", \"on_wednesday\", \"on_wednesday\", \"on_wednesday\", \"on_wednesday\", \"online\", \"online\", \"online\", \"online\", \"online\", \"online\", \"online\", \"online\", \"online\", \"online\", \"online\", \"online\", \"online\", \"only\", \"only\", \"only\", \"only\", \"only\", \"only\", \"only\", \"only\", \"only\", \"only\", \"only\", \"only\", \"only\", \"only\", \"only\", \"only\", \"only\", \"only\", \"only\", \"only\", \"only\", \"only\", \"only\", \"open\", \"open\", \"open\", \"open\", \"open\", \"open\", \"open\", \"open\", \"open\", \"open\", \"open\", \"open\", \"open\", \"organ\", \"organ\", \"organ\", \"organ\", \"organ\", \"organ\", \"originally\", \"originally\", \"originally\", \"originally\", \"originally\", \"originally\", \"originated\", \"originated\", \"originated\", \"originated\", \"originated\", \"originated\", \"originated\", \"originated\", \"originated\", \"other\", \"other\", \"other\", \"other\", \"other\", \"other\", \"other\", \"other\", \"other\", \"other\", \"other\", \"other\", \"other\", \"other\", \"other\", \"other\", \"other\", \"other\", \"other\", \"other\", \"other\", \"other\", \"other\", \"other\", \"other_country\", \"other_country\", \"other_country\", \"other_country\", \"other_country\", \"other_country\", \"our\", \"our\", \"our\", \"our\", \"our\", \"our\", \"our\", \"our\", \"our\", \"our\", \"our\", \"our\", \"our\", \"our\", \"our\", \"our\", \"our\", \"our\", \"our\", \"our\", \"our\", \"our\", \"our\", \"our\", \"our\", \"out\", \"out\", \"out\", \"out\", \"out\", \"out\", \"out\", \"out\", \"out\", \"out\", \"out\", \"out\", \"out\", \"out\", \"out\", \"out\", \"out\", \"out\", \"out\", \"out\", \"out\", \"out\", \"out\", \"out\", \"out\", \"out\", \"outbreak\", \"outbreak\", \"outbreak\", \"outbreak\", \"outbreak\", \"outbreak\", \"outbreak\", \"outbreak\", \"outbreak\", \"outbreak\", \"outbreak\", \"outbreak\", \"outbreak\", \"outbreak\", \"outbreak\", \"outbreak\", \"outbreak\", \"outbreak\", \"outbreak\", \"over\", \"over\", \"over\", \"over\", \"over\", \"over\", \"over\", \"over\", \"over\", \"over\", \"over\", \"over\", \"over\", \"over\", \"over\", \"over\", \"over\", \"over\", \"over\", \"over\", \"over\", \"over\", \"over\", \"over\", \"over\", \"over\", \"over\", \"own\", \"own\", \"own\", \"own\", \"own\", \"own\", \"own\", \"own\", \"own\", \"pacific\", \"pacific\", \"pacific\", \"pacific\", \"pacific\", \"pacific\", \"pair\", \"pair\", \"pair\", \"pair\", \"pair\", \"pair\", \"pair\", \"pair\", \"pair\", \"pandemic\", \"pandemic\", \"pandemic\", \"pandemic\", \"pandemic\", \"pandemic\", \"pandemic\", \"pandemic\", \"pandemic\", \"pandemic\", \"pandemic\", \"pandemic\", \"pandemic\", \"pandemic\", \"panic\", \"panic\", \"panic\", \"panic\", \"panic\", \"panic\", \"panic\", \"panic\", \"panic\", \"paper\", \"paper\", \"paper\", \"paper\", \"paper\", \"paper\", \"paper\", \"paper\", \"paper\", \"parent\", \"parent\", \"parent\", \"parent\", \"parent\", \"parent\", \"parent\", \"parent\", \"part\", \"part\", \"part\", \"part\", \"part\", \"part\", \"part\", \"part\", \"part\", \"part\", \"part\", \"part\", \"part\", \"part\", \"part\", \"part\", \"part\", \"part\", \"part_of\", \"part_of\", \"part_of\", \"part_of\", \"part_of\", \"part_of\", \"part_of\", \"part_of\", \"part_of\", \"part_of\", \"part_of\", \"part_of\", \"part_of\", \"part_of\", \"part_of\", \"part_of\", \"party\", \"party\", \"party\", \"party\", \"party\", \"party\", \"party\", \"party\", \"party\", \"pas\", \"pas\", \"pas\", \"pas\", \"pas\", \"pas\", \"pas\", \"passenger\", \"passenger\", \"passenger\", \"passenger\", \"passenger\", \"passenger\", \"passenger\", \"passenger\", \"passenger\", \"passenger\", \"passenger\", \"passenger\", \"patient\", \"patient\", \"patient\", \"patient\", \"patient\", \"patient\", \"patient\", \"patient\", \"patient\", \"patient\", \"patient\", \"patient\", \"patient\", \"patient\", \"pay\", \"pay\", \"pay\", \"pay\", \"pay\", \"pay\", \"pay\", \"peak\", \"peak\", \"peak\", \"peak\", \"peak\", \"peak\", \"per\", \"per\", \"per\", \"per\", \"per\", \"per\", \"per\", \"per\", \"per\", \"per\", \"per\", \"per\", \"per\", \"per\", \"per\", \"per\", \"per\", \"per_cent\", \"per_cent\", \"per_cent\", \"per_cent\", \"per_cent\", \"per_cent\", \"per_cent\", \"per_cent\", \"per_cent\", \"per_cent\", \"per_cent\", \"per_cent\", \"per_cent\", \"per_cent\", \"personal\", \"personal\", \"personal\", \"personal\", \"personal\", \"personal\", \"personal\", \"personal\", \"perth\", \"perth\", \"perth\", \"perth\", \"perth\", \"perth\", \"perth\", \"perth\", \"peter\", \"peter\", \"peter\", \"peter\", \"peter\", \"peter\", \"peter\", \"peter\", \"philippine\", \"philippine\", \"philippine\", \"philippine\", \"philippine\", \"philippine\", \"philippine\", \"phone\", \"phone\", \"phone\", \"phone\", \"phone\", \"phone\", \"phone\", \"phone\", \"phone\", \"phone\", \"phone\", \"photo\", \"photo\", \"photo\", \"photo\", \"photo\", \"photo\", \"photo\", \"photo\", \"photo\", \"photo\", \"photo\", \"photo\", \"picture\", \"picture\", \"picture\", \"picture\", \"picture\", \"picture\", \"picture\", \"picture\", \"picture\", \"pictured\", \"pictured\", \"pictured\", \"pictured\", \"pictured\", \"pictured\", \"pictured\", \"pictured\", \"pictured\", \"pictured\", \"pictured\", \"pictured\", \"pictured\", \"pictured\", \"pictured\", \"pictured\", \"pictured\", \"pictured\", \"pictured\", \"plan\", \"plan\", \"plan\", \"plan\", \"plan\", \"plan\", \"plan\", \"plan\", \"plan\", \"plan\", \"plan\", \"plan\", \"plan\", \"plan\", \"plan\", \"plan\", \"plan\", \"plan\", \"plan\", \"plane\", \"plane\", \"plane\", \"plane\", \"plane\", \"plane\", \"plane\", \"plane\", \"plane\", \"plane\", \"plane\", \"planning\", \"planning\", \"planning\", \"planning\", \"planning\", \"planning\", \"planning\", \"planning\", \"play\", \"play\", \"play\", \"play\", \"play\", \"play\", \"play\", \"play\", \"play\", \"play\", \"please\", \"please\", \"please\", \"please\", \"please\", \"please\", \"please\", \"please\", \"pneumonia\", \"pneumonia\", \"pneumonia\", \"pneumonia\", \"pneumonia\", \"police\", \"police\", \"police\", \"police\", \"police\", \"police\", \"police\", \"police\", \"police\", \"police\", \"police\", \"police\", \"policy\", \"policy\", \"policy\", \"policy\", \"policy\", \"policy\", \"policy\", \"port\", \"port\", \"port\", \"port\", \"port\", \"port\", \"port\", \"positive\", \"positive\", \"positive\", \"positive\", \"positive\", \"positive\", \"positive\", \"positive\", \"positive\", \"positive\", \"positive\", \"positive\", \"positive\", \"positive\", \"positive\", \"positive\", \"positive\", \"positive\", \"positive\", \"possibility\", \"possibility\", \"possibility\", \"possibility\", \"possibility\", \"possible\", \"possible\", \"possible\", \"possible\", \"possible\", \"possible\", \"possible\", \"possible\", \"possible\", \"possible\", \"possible\", \"possible\", \"possible\", \"possible\", \"possible\", \"possible\", \"possible\", \"possible\", \"possible\", \"possibly\", \"possibly\", \"possibly\", \"possibly\", \"possibly\", \"possibly\", \"possibly\", \"post\", \"post\", \"post\", \"post\", \"post\", \"post\", \"post\", \"post\", \"post\", \"post\", \"posted\", \"posted\", \"posted\", \"posted\", \"posted\", \"posted\", \"posted\", \"practice\", \"practice\", \"practice\", \"practice\", \"practice\", \"practice\", \"practice\", \"practice\", \"practice\", \"practice\", \"predicted\", \"predicted\", \"predicted\", \"predicted\", \"predicted\", \"predicted\", \"premier\", \"premier\", \"premier\", \"premier\", \"premier\", \"premier\", \"premier\", \"premier\", \"prepare\", \"prepare\", \"prepare\", \"prepare\", \"prepare\", \"prepare\", \"prepare\", \"prepare\", \"prepare\", \"prepare\", \"prepare\", \"prepare\", \"prepare_for\", \"prepare_for\", \"prepare_for\", \"prepare_for\", \"prepare_for\", \"prepare_for\", \"prepare_for\", \"prepare_for\", \"prepared\", \"prepared\", \"prepared\", \"prepared\", \"prepared\", \"prepared\", \"prepared\", \"prepared\", \"prepared\", \"prepared\", \"prepared\", \"present\", \"present\", \"present\", \"present\", \"present\", \"present\", \"present\", \"president\", \"president\", \"president\", \"president\", \"president\", \"president\", \"president\", \"president\", \"president\", \"president\", \"president\", \"president\", \"press\", \"press\", \"press\", \"press\", \"press\", \"press\", \"press\", \"press\", \"pressure\", \"pressure\", \"pressure\", \"pressure\", \"pressure\", \"pressure\", \"pressure\", \"pressure\", \"pressure\", \"pretty\", \"pretty\", \"pretty\", \"pretty\", \"pretty\", \"prevention\", \"prevention\", \"prevention\", \"prevention\", \"prevention\", \"prevention\", \"prevention\", \"prevention\", \"previous\", \"previous\", \"previous\", \"previous\", \"previous\", \"previous\", \"previous\", \"previous\", \"previous\", \"price\", \"price\", \"price\", \"price\", \"price\", \"price\", \"price\", \"prime\", \"prime\", \"prime\", \"prime\", \"prime\", \"prime\", \"prime\", \"prime\", \"prime\", \"prime\", \"prime\", \"prime\", \"prime\", \"prime\", \"prime\", \"prime\", \"prime\", \"prime_minister\", \"prime_minister\", \"prime_minister\", \"prime_minister\", \"prime_minister\", \"prime_minister\", \"prime_minister\", \"prime_minister\", \"prime_minister\", \"prime_minister\", \"prime_minister\", \"prime_minister\", \"prime_minister\", \"prime_minister\", \"prime_minister\", \"prime_minister\", \"prime_minister\", \"princess\", \"princess\", \"princess\", \"princess\", \"princess\", \"princess\", \"princess\", \"princess\", \"priority\", \"priority\", \"priority\", \"priority\", \"priority\", \"priority\", \"priority\", \"priority\", \"priority\", \"priority\", \"produced\", \"produced\", \"produced\", \"produced\", \"product\", \"product\", \"product\", \"product\", \"product\", \"product\", \"product\", \"product\", \"production\", \"production\", \"production\", \"production\", \"production\", \"production\", \"production\", \"production\", \"prof\", \"prof\", \"prof\", \"prof\", \"prof\", \"prof\", \"professional\", \"professional\", \"professional\", \"professional\", \"professional\", \"professional\", \"professional\", \"professional\", \"professional\", \"professor\", \"professor\", \"professor\", \"professor\", \"professor\", \"professor\", \"professor\", \"professor\", \"professor\", \"professor\", \"professor\", \"professor\", \"professor\", \"professor\", \"professor\", \"project\", \"project\", \"project\", \"property\", \"property\", \"property\", \"property\", \"property\", \"property\", \"property\", \"protect\", \"protect\", \"protect\", \"protect\", \"protect\", \"protect\", \"protect\", \"protect\", \"protect\", \"protect\", \"protect\", \"protect\", \"protect\", \"providing\", \"providing\", \"providing\", \"providing\", \"providing\", \"providing\", \"providing\", \"providing\", \"providing\", \"province\", \"province\", \"province\", \"province\", \"province\", \"province\", \"province\", \"province\", \"province\", \"public\", \"public\", \"public\", \"public\", \"public\", \"public\", \"public\", \"public\", \"public\", \"public\", \"public\", \"public\", \"public\", \"public\", \"public\", \"public\", \"public\", \"public\", \"public\", \"public\", \"public\", \"public_health\", \"public_health\", \"public_health\", \"public_health\", \"public_health\", \"public_health\", \"public_health\", \"public_health\", \"public_health\", \"public_health\", \"published\", \"published\", \"published\", \"published\", \"published\", \"published\", \"published\", \"published\", \"published\", \"published\", \"published\", \"published\", \"published\", \"published\", \"published\", \"published\", \"published\", \"published\", \"published\", \"published\", \"published\", \"published\", \"published_aedt\", \"published_aedt\", \"published_aedt\", \"published_aedt\", \"published_aedt\", \"published_aedt\", \"published_aedt\", \"published_aedt\", \"published_aedt\", \"published_aedt\", \"published_aedt\", \"published_aedt\", \"published_aedt\", \"published_aedt\", \"published_aedt\", \"published_aedt\", \"qantas\", \"qantas\", \"qantas\", \"qantas\", \"qantas\", \"qantas\", \"qantas\", \"qantas\", \"qantas_flight\", \"qantas_flight\", \"quality\", \"quality\", \"quality\", \"quality\", \"quality\", \"quality\", \"quality\", \"quality\", \"quality\", \"quality\", \"quality\", \"quarantine\", \"quarantine\", \"quarantine\", \"quarantine\", \"quarantine\", \"quarantine\", \"quarantine\", \"quarantine\", \"quarantine\", \"quarantine\", \"quarantine\", \"quarantine\", \"quarantine\", \"quarantine\", \"quarantined\", \"quarantined\", \"quarantined\", \"quarantined\", \"quarantined\", \"quarantined\", \"quarantined\", \"quarantined\", \"queensland\", \"queensland\", \"queensland\", \"queensland\", \"queensland\", \"queensland\", \"queensland\", \"queensland\", \"queensland\", \"queensland\", \"queensland\", \"queensland\", \"queensland\", \"queensland\", \"queensland\", \"queensland\", \"queensland\", \"queensland\", \"queensland\", \"queensland\", \"question\", \"question\", \"question\", \"question\", \"question\", \"question\", \"question\", \"question\", \"range\", \"range\", \"range\", \"range\", \"range\", \"range\", \"range\", \"range\", \"range\", \"range\", \"rate\", \"rate\", \"rate\", \"rate\", \"rate\", \"rate\", \"rate\", \"rate\", \"rate\", \"rate\", \"rate\", \"rate\", \"rather\", \"rather\", \"rather\", \"rather\", \"rather\", \"rather\", \"rather\", \"rather\", \"rather\", \"rather\", \"rather\", \"rather_than\", \"rather_than\", \"rather_than\", \"rather_than\", \"rather_than\", \"rather_than\", \"rather_than\", \"rather_than\", \"rather_than\", \"rather_than\", \"rather_than\", \"reach\", \"reach\", \"reach\", \"reach\", \"reach\", \"reach\", \"reach\", \"reach\", \"reach\", \"reach\", \"ready\", \"ready\", \"ready\", \"ready\", \"ready\", \"ready\", \"real\", \"real\", \"real\", \"real\", \"real\", \"real\", \"real\", \"reason\", \"reason\", \"reason\", \"reason\", \"reason\", \"reason\", \"reason\", \"reason\", \"reason\", \"reason\", \"reason\", \"reason\", \"reason\", \"recently\", \"recently\", \"recently\", \"recently\", \"recently\", \"recently\", \"recently\", \"recently\", \"recently\", \"recorded\", \"recorded\", \"recorded\", \"recorded\", \"recorded\", \"recorded\", \"recorded\", \"recorded\", \"recovered\", \"recovered\", \"recovered\", \"recovered\", \"recovered\", \"recovered\", \"recovered\", \"recovered\", \"recovering\", \"recovering\", \"recovering\", \"recovering\", \"recovering\", \"recovering\", \"red\", \"red\", \"red\", \"red\", \"red\", \"red\", \"red\", \"red\", \"reduce\", \"reduce\", \"reduce\", \"reduce\", \"reduce\", \"reduce\", \"reduce\", \"reduce\", \"reduce\", \"reduce\", \"reduced\", \"reduced\", \"reduced\", \"reduced\", \"reduced\", \"reduced\", \"reduced\", \"related\", \"related\", \"related\", \"related\", \"related\", \"related\", \"related\", \"related\", \"related\", \"related\", \"related\", \"related\", \"related\", \"relative\", \"relative\", \"relative\", \"relative\", \"relative\", \"relative\", \"remained\", \"remained\", \"remained\", \"remained\", \"remained\", \"remained\", \"remained\", \"remaining\", \"remaining\", \"remaining\", \"remaining\", \"report\", \"report\", \"report\", \"report\", \"report\", \"report\", \"report\", \"report\", \"report\", \"report\", \"report\", \"report\", \"report\", \"report\", \"report\", \"report\", \"report\", \"report\", \"report\", \"reported\", \"reported\", \"reported\", \"reported\", \"reported\", \"reported\", \"reported\", \"reported\", \"reported\", \"reported\", \"reported\", \"reported\", \"reported\", \"reported\", \"reported\", \"reported\", \"reported\", \"reported\", \"reporter\", \"reporter\", \"reporter\", \"reporter\", \"reporter\", \"reporter\", \"reporter\", \"reporter\", \"reporter\", \"reporter\", \"reporter\", \"reporting\", \"reporting\", \"reporting\", \"reporting\", \"reporting\", \"reporting\", \"reporting\", \"reporting\", \"research\", \"research\", \"research\", \"research\", \"research\", \"research\", \"research\", \"research\", \"research\", \"research\", \"research\", \"research\", \"researcher\", \"researcher\", \"researcher\", \"researcher\", \"researcher\", \"researcher\", \"researcher\", \"researcher\", \"resource\", \"resource\", \"resource\", \"resource\", \"resource\", \"resource\", \"respiratory\", \"respiratory\", \"respiratory\", \"respiratory\", \"respiratory\", \"respiratory\", \"respiratory\", \"respiratory\", \"respiratory\", \"respiratory\", \"respiratory\", \"respiratory_syndrome\", \"respiratory_syndrome\", \"respiratory_syndrome\", \"response\", \"response\", \"response\", \"response\", \"response\", \"response\", \"response\", \"response\", \"response\", \"response\", \"response\", \"response\", \"response\", \"response\", \"response\", \"response\", \"response\", \"response\", \"restaurant\", \"restaurant\", \"restaurant\", \"restaurant\", \"restaurant\", \"restaurant\", \"restaurant\", \"restaurant\", \"restriction\", \"restriction\", \"restriction\", \"restriction\", \"restriction\", \"restriction\", \"restriction\", \"restriction\", \"restriction\", \"restriction\", \"restriction\", \"result\", \"result\", \"result\", \"result\", \"result\", \"result\", \"result\", \"result\", \"result\", \"result\", \"result\", \"result\", \"result\", \"result\", \"result\", \"result\", \"result\", \"result\", \"result\", \"result\", \"result\", \"result\", \"return\", \"return\", \"return\", \"return\", \"return\", \"return\", \"return\", \"return\", \"return\", \"return\", \"return\", \"returned\", \"returned\", \"returned\", \"returned\", \"returned\", \"returned\", \"returned\", \"returned\", \"returned\", \"returned\", \"returned\", \"returned\", \"returned_from\", \"returned_from\", \"returned_from\", \"returned_from\", \"returned_from\", \"returning\", \"returning\", \"returning\", \"returning\", \"returning\", \"returning\", \"returning\", \"returning\", \"returning\", \"returning\", \"returning\", \"returning_from\", \"returning_from\", \"returning_from\", \"returning_from\", \"returning_from\", \"returning_from\", \"reuters\", \"reuters\", \"reuters\", \"reuters\", \"reuters\", \"right\", \"right\", \"right\", \"right\", \"right\", \"right\", \"right\", \"right\", \"right\", \"right\", \"right\", \"right\", \"right\", \"right\", \"right\", \"right\", \"right\", \"risk\", \"risk\", \"risk\", \"risk\", \"risk\", \"risk\", \"risk\", \"risk\", \"risk\", \"risk\", \"risk\", \"risk\", \"risk\", \"risk\", \"risk\", \"risk\", \"risk\", \"risk\", \"risk\", \"risk\", \"risk\", \"risk\", \"risk\", \"road\", \"road\", \"road\", \"road\", \"road\", \"road\", \"road\", \"role\", \"role\", \"role\", \"role\", \"role\", \"role\", \"room\", \"room\", \"room\", \"room\", \"room\", \"room\", \"room\", \"room\", \"room\", \"room\", \"room\", \"royal\", \"royal\", \"royal\", \"royal\", \"royal\", \"royal\", \"royal\", \"royal\", \"royal\", \"royal\", \"royal\", \"royal\", \"rule\", \"rule\", \"rule\", \"rule\", \"rule\", \"rule\", \"rule\", \"rule\", \"rule\", \"rule\", \"rule\", \"run\", \"run\", \"run\", \"run\", \"run\", \"run\", \"run\", \"run\", \"run\", \"run\", \"run\", \"run\", \"sa\", \"sa\", \"sa\", \"sa\", \"sa\", \"safe\", \"safe\", \"safe\", \"safe\", \"safe\", \"safe\", \"safe\", \"safe\", \"safe\", \"safe\", \"safe\", \"safe\", \"safe\", \"safe\", \"safe\", \"safety\", \"safety\", \"safety\", \"safety\", \"safety\", \"safety\", \"safety\", \"safety\", \"safety\", \"safety\", \"sample\", \"sample\", \"sample\", \"sample\", \"sars\", \"sars\", \"sars\", \"sars\", \"sars\", \"sars\", \"sars\", \"sars\", \"saturday\", \"saturday\", \"saturday\", \"saturday\", \"saturday\", \"saturday\", \"saturday\", \"saturday\", \"saturday\", \"saturday\", \"saturday\", \"say\", \"say\", \"say\", \"say\", \"say\", \"say\", \"say\", \"say\", \"say\", \"say\", \"say\", \"say\", \"say\", \"say\", \"say\", \"say\", \"say\", \"say\", \"say\", \"scale\", \"scale\", \"scale\", \"scale\", \"scale\", \"scale\", \"scale\", \"scale\", \"scenario\", \"scenario\", \"scenario\", \"scenario\", \"scenario\", \"school\", \"school\", \"school\", \"school\", \"school\", \"school\", \"school\", \"school\", \"school\", \"school\", \"school\", \"school\", \"science\", \"science\", \"science\", \"science\", \"science\", \"science\", \"science\", \"scientist\", \"scientist\", \"scientist\", \"scientist\", \"scientist\", \"scientist\", \"scott\", \"scott\", \"scott\", \"scott\", \"scott\", \"scott\", \"scott\", \"scott\", \"scott\", \"scott\", \"scott\", \"scott\", \"scott\", \"scott\", \"scott\", \"scott_morrison\", \"scott_morrison\", \"scott_morrison\", \"scott_morrison\", \"scott_morrison\", \"scott_morrison\", \"scott_morrison\", \"scott_morrison\", \"scott_morrison\", \"scott_morrison\", \"scott_morrison\", \"scott_morrison\", \"seafood\", \"seafood\", \"seafood\", \"seafood\", \"seafood\", \"seafood\", \"seafood\", \"seafood\", \"season\", \"season\", \"season\", \"season\", \"sector\", \"sector\", \"sector\", \"sector\", \"sector\", \"security\", \"security\", \"security\", \"security\", \"security\", \"security\", \"security\", \"security\", \"seeing\", \"seeing\", \"seeing\", \"seeing\", \"seeing\", \"seeing\", \"seeing\", \"seeing\", \"seeing\", \"seeing\", \"seem\", \"seem\", \"seem\", \"seem\", \"seem\", \"seem\", \"self\", \"self\", \"self\", \"self\", \"self\", \"self\", \"self\", \"self\", \"self\", \"self\", \"self\", \"self\", \"selling\", \"selling\", \"selling\", \"selling\", \"selling\", \"selling\", \"semester\", \"semester\", \"semester\", \"senior\", \"senior\", \"senior\", \"senior\", \"senior\", \"senior\", \"senior\", \"senior\", \"senior\", \"sense\", \"sense\", \"sense\", \"sense\", \"sense\", \"sense\", \"sent\", \"sent\", \"sent\", \"sent\", \"sent\", \"sent\", \"sent\", \"sent\", \"sent\", \"sent\", \"separate\", \"separate\", \"separate\", \"separate\", \"separate\", \"separate\", \"separate\", \"separate\", \"separate\", \"series\", \"series\", \"series\", \"series\", \"series\", \"series\", \"series\", \"service\", \"service\", \"service\", \"service\", \"service\", \"service\", \"service\", \"service\", \"service\", \"service\", \"service\", \"service\", \"service\", \"service\", \"service\", \"service\", \"service\", \"service\", \"service\", \"service\", \"service\", \"service\", \"service\", \"severe_acute\", \"severe_acute\", \"severe_acute\", \"shanghai\", \"shanghai\", \"shanghai\", \"shanghai\", \"shanghai\", \"shanghai\", \"shanghai\", \"shanghai\", \"shanghai\", \"shanghai\", \"share\", \"share\", \"share\", \"share\", \"share\", \"share\", \"share\", \"shared\", \"shared\", \"shared\", \"shared\", \"shared\", \"shared\", \"shared\", \"shared\", \"shared\", \"shared\", \"shared\", \"shared\", \"shared\", \"she\", \"she\", \"she\", \"she\", \"she\", \"she\", \"she\", \"she\", \"she\", \"she\", \"she\", \"she\", \"she\", \"she\", \"she\", \"she\", \"she\", \"she\", \"she\", \"she\", \"she\", \"she\", \"she\", \"she_said\", \"she_said\", \"she_said\", \"she_said\", \"she_said\", \"she_said\", \"she_said\", \"she_said\", \"she_said\", \"she_said\", \"she_said\", \"she_said\", \"she_said\", \"she_said\", \"she_said\", \"she_said\", \"she_said\", \"she_said\", \"she_said\", \"she_wa\", \"she_wa\", \"she_wa\", \"she_wa\", \"she_wa\", \"she_wa\", \"she_wa\", \"she_wa\", \"shelf\", \"shelf\", \"shelf\", \"ship\", \"ship\", \"ship\", \"ship\", \"ship\", \"ship\", \"ship\", \"ship\", \"ship\", \"shop\", \"shop\", \"shop\", \"shop\", \"shop\", \"shop\", \"shop\", \"shortage\", \"shortage\", \"shortage\", \"shortage\", \"shortage\", \"shortage\", \"shortage\", \"should\", \"should\", \"should\", \"should\", \"should\", \"should\", \"should\", \"should\", \"should\", \"should\", \"should\", \"should\", \"should\", \"should\", \"should\", \"should\", \"should\", \"should\", \"should\", \"should\", \"should\", \"should_be\", \"should_be\", \"should_be\", \"should_be\", \"should_be\", \"should_be\", \"should_be\", \"should_be\", \"should_be\", \"should_be\", \"should_be\", \"should_be\", \"should_be\", \"should_be\", \"show\", \"show\", \"show\", \"show\", \"show\", \"show\", \"show\", \"show\", \"show\", \"show\", \"show\", \"show\", \"show\", \"show\", \"show\", \"show\", \"show\", \"show\", \"show\", \"shown\", \"shown\", \"shown\", \"shown\", \"shown\", \"shown\", \"shown\", \"shown\", \"shut\", \"shut\", \"shut\", \"shut\", \"shut\", \"shut\", \"shut\", \"shut\", \"shut_down\", \"shut_down\", \"shut_down\", \"shut_down\", \"shut_down\", \"shut_down\", \"shut_down\", \"sick\", \"sick\", \"sick\", \"sick\", \"sick\", \"sick\", \"sick\", \"sick\", \"sick\", \"sick\", \"sign\", \"sign\", \"sign\", \"sign\", \"sign\", \"sign\", \"sign\", \"sign\", \"sign\", \"sign\", \"sign\", \"sign\", \"sign\", \"sign\", \"sign\", \"significantly\", \"significantly\", \"significantly\", \"significantly\", \"significantly\", \"significantly\", \"significantly\", \"since\", \"since\", \"since\", \"since\", \"since\", \"since\", \"since\", \"since\", \"since\", \"since\", \"since\", \"since\", \"since\", \"since\", \"since\", \"since\", \"since\", \"since\", \"since\", \"since\", \"since\", \"since\", \"since\", \"since\", \"singapore\", \"singapore\", \"singapore\", \"singapore\", \"singapore\", \"singapore\", \"site\", \"site\", \"site\", \"site\", \"site\", \"site\", \"site\", \"site\", \"slow\", \"slow\", \"slow\", \"slow\", \"slow\", \"slow\", \"slow\", \"smoke\", \"so\", \"so\", \"so\", \"so\", \"so\", \"so\", \"so\", \"so\", \"so\", \"so\", \"so\", \"so\", \"so\", \"so\", \"so\", \"so\", \"so\", \"so\", \"so\", \"so\", \"so\", \"so\", \"so\", \"so\", \"social\", \"social\", \"social\", \"social\", \"social\", \"social\", \"social\", \"social\", \"social\", \"social\", \"social\", \"social\", \"social\", \"social\", \"social\", \"social\", \"social_medium\", \"social_medium\", \"social_medium\", \"social_medium\", \"social_medium\", \"social_medium\", \"social_medium\", \"social_medium\", \"social_medium\", \"social_medium\", \"social_medium\", \"sold\", \"sold\", \"sold\", \"sold\", \"sold\", \"sold\", \"sold\", \"sold\", \"some\", \"some\", \"some\", \"some\", \"some\", \"some\", \"some\", \"some\", \"some\", \"some\", \"some\", \"some\", \"some\", \"some\", \"some\", \"some\", \"some\", \"some\", \"some\", \"some\", \"some\", \"some\", \"some\", \"some\", \"some\", \"some\", \"sore\", \"sore\", \"sore\", \"sore\", \"sore\", \"sore\", \"sore_throat\", \"sore_throat\", \"sore_throat\", \"sore_throat\", \"south_australia\", \"south_australia\", \"south_australia\", \"south_australia\", \"south_australia\", \"south_australia\", \"south_australia\", \"south_australia\", \"south_australia\", \"south_australia\", \"south_australia\", \"south_australia\", \"south_australia\", \"south_australia\", \"south_australia\", \"south_korea\", \"south_korea\", \"south_korea\", \"south_korea\", \"south_korea\", \"south_korea\", \"south_korea\", \"south_korea\", \"south_korea\", \"south_korea\", \"space\", \"space\", \"space\", \"space\", \"space\", \"space\", \"space\", \"space\", \"space\", \"space\", \"space\", \"specialist\", \"specialist\", \"specialist\", \"specialist\", \"specialist\", \"specialist\", \"specialist\", \"specialist\", \"specialist\", \"specialist\", \"specie\", \"specie\", \"specie\", \"specie\", \"specie\", \"specific\", \"specific\", \"specific\", \"specific\", \"specific\", \"specific\", \"specific\", \"spent\", \"spent\", \"spent\", \"spent\", \"spent\", \"spent\", \"spent\", \"spent\", \"spokeswoman\", \"spokeswoman\", \"spokeswoman\", \"spokeswoman\", \"spokeswoman\", \"spokeswoman\", \"spokeswoman\", \"spokeswoman\", \"spokeswoman\", \"spokeswoman\", \"sport\", \"sport\", \"sport\", \"sport\", \"sport\", \"spread\", \"spread\", \"spread\", \"spread\", \"spread\", \"spread\", \"spread\", \"spread\", \"spread\", \"spread\", \"spread\", \"spread\", \"spread\", \"spread\", \"spread\", \"spread\", \"spread\", \"spread\", \"spread\", \"spread\", \"spreading\", \"spreading\", \"spreading\", \"spreading\", \"spreading\", \"spreading\", \"spreading\", \"spreading\", \"spreading\", \"spreading\", \"spreading\", \"spreading\", \"spreading\", \"spreading\", \"spreading\", \"spring\", \"spring\", \"spring\", \"spring\", \"spring\", \"spring\", \"staff\", \"staff\", \"staff\", \"staff\", \"staff\", \"staff\", \"staff\", \"staff\", \"staff\", \"staff\", \"staff\", \"staff\", \"staff\", \"staff\", \"staff\", \"staff\", \"staff\", \"staff\", \"stage\", \"stage\", \"stage\", \"stage\", \"stage\", \"stage\", \"stage\", \"stage\", \"stage\", \"stage\", \"stage\", \"stage\", \"standard\", \"standard\", \"standard\", \"standard\", \"standard\", \"standard\", \"standard\", \"standard\", \"start\", \"start\", \"start\", \"start\", \"start\", \"start\", \"start\", \"start\", \"start\", \"start\", \"start\", \"start\", \"start\", \"starting\", \"starting\", \"starting\", \"starting\", \"starting\", \"starting\", \"starting\", \"starting\", \"starting\", \"state\", \"state\", \"state\", \"state\", \"state\", \"state\", \"state\", \"state\", \"state\", \"state\", \"state\", \"state\", \"state\", \"state\", \"state\", \"state\", \"state\", \"state\", \"state\", \"state\", \"state\", \"state\", \"state\", \"state\", \"state\", \"state\", \"staying\", \"staying\", \"staying\", \"staying\", \"staying\", \"staying\", \"staying\", \"staying\", \"step\", \"step\", \"step\", \"step\", \"step\", \"step\", \"step\", \"step\", \"step\", \"still\", \"still\", \"still\", \"still\", \"still\", \"still\", \"still\", \"still\", \"still\", \"still\", \"still\", \"still\", \"still\", \"still\", \"still\", \"still\", \"still\", \"still\", \"still\", \"still\", \"still\", \"still\", \"still\", \"still\", \"still\", \"stock\", \"stock\", \"stock\", \"stock\", \"stock\", \"stock\", \"stock\", \"stock\", \"stock\", \"stock\", \"stock_image\", \"stock_image\", \"stock_image\", \"stock_image\", \"stock_image\", \"stock_image\", \"stock_image\", \"stock_image\", \"store\", \"store\", \"store\", \"store\", \"store\", \"store\", \"store\", \"store\", \"store\", \"story\", \"story\", \"story\", \"story\", \"story\", \"story\", \"story\", \"strain\", \"strain\", \"strain\", \"strain\", \"strain\", \"stranded\", \"stranded\", \"stranded\", \"stranded\", \"stranded\", \"stranded\", \"stranded\", \"street\", \"street\", \"street\", \"street\", \"street\", \"street\", \"street\", \"street\", \"street\", \"street\", \"street\", \"street\", \"street\", \"stress\", \"stress\", \"stress\", \"stress\", \"stress\", \"stress\", \"strong\", \"strong\", \"strong\", \"strong\", \"strong\", \"strong\", \"strong\", \"strong\", \"strong\", \"strong\", \"struck\", \"struck\", \"struck\", \"struck\", \"struck\", \"struck\", \"struck\", \"struck\", \"struck\", \"stuck\", \"stuck\", \"stuck\", \"stuck\", \"stuck\", \"stuck\", \"student\", \"student\", \"student\", \"student\", \"student\", \"student\", \"student\", \"student\", \"student\", \"study\", \"study\", \"study\", \"study\", \"study\", \"study\", \"study\", \"study\", \"study\", \"study\", \"study\", \"suburb\", \"suburb\", \"suburb\", \"suburb\", \"suburb\", \"suburb\", \"suburb\", \"suburb\", \"suburb\", \"such\", \"such\", \"such\", \"such\", \"such\", \"such\", \"such\", \"such\", \"such\", \"such\", \"such\", \"such\", \"such\", \"such\", \"such\", \"such\", \"such\", \"such\", \"such\", \"such\", \"such\", \"such\", \"such\", \"such\", \"such\", \"suffering\", \"suffering\", \"suffering\", \"suffering\", \"suffering\", \"suffering\", \"suffering\", \"suffering\", \"suggesting\", \"suggesting\", \"suggesting\", \"suggesting\", \"suggesting\", \"suggesting\", \"suggesting\", \"suggesting\", \"suggesting\", \"summer\", \"summer\", \"summer\", \"summer\", \"sun\", \"sun\", \"sun\", \"sun\", \"sun\", \"sun\", \"sun\", \"sun\", \"sun\", \"supermarket\", \"supermarket\", \"supermarket\", \"supermarket\", \"supermarket\", \"supermarket\", \"supply\", \"supply\", \"supply\", \"supply\", \"supply\", \"supply\", \"supply\", \"supply\", \"supply\", \"supply\", \"sure\", \"sure\", \"sure\", \"sure\", \"sure\", \"sure\", \"sure\", \"sure\", \"surge\", \"surge\", \"surge\", \"surge\", \"surge\", \"surge\", \"survival\", \"survival\", \"survival\", \"survival\", \"survival\", \"survival\", \"survival\", \"sydney\", \"sydney\", \"sydney\", \"sydney\", \"sydney\", \"sydney\", \"sydney\", \"sydney\", \"sydney\", \"sydney\", \"sydney\", \"sydney\", \"sydney\", \"sydney\", \"sydney\", \"sydney\", \"sydney\", \"sydney\", \"sydney\", \"sydney\", \"sydney\", \"sydney_airport\", \"sydney_airport\", \"sydney_airport\", \"sydney_airport\", \"symptom\", \"symptom\", \"symptom\", \"symptom\", \"symptom\", \"symptom\", \"symptom\", \"symptom\", \"symptom\", \"symptom\", \"symptom\", \"syndrome\", \"syndrome\", \"syndrome\", \"syndrome\", \"taiwan\", \"taiwan\", \"taiwan\", \"taiwan\", \"taiwan\", \"taiwan\", \"talking\", \"talking\", \"talking\", \"tasmania\", \"tasmania\", \"tasmania\", \"tasmania\", \"tasmania\", \"tasmania\", \"team\", \"team\", \"team\", \"team\", \"team\", \"team\", \"team\", \"team\", \"team\", \"team\", \"team\", \"team\", \"technology\", \"technology\", \"technology\", \"technology\", \"technology\", \"technology\", \"technology\", \"technology\", \"technology\", \"technology\", \"temperature\", \"temperature\", \"temperature\", \"temperature\", \"temperature\", \"temperature\", \"temperature\", \"temperature\", \"temporary\", \"temporary\", \"temporary\", \"temporary\", \"temporary\", \"temporary\", \"territory\", \"territory\", \"territory\", \"territory\", \"territory\", \"territory\", \"territory\", \"territory\", \"territory\", \"test\", \"test\", \"test\", \"test\", \"test\", \"test\", \"test\", \"test\", \"test\", \"test\", \"test\", \"test\", \"test\", \"test_result\", \"test_result\", \"test_result\", \"test_result\", \"tested\", \"tested\", \"tested\", \"tested\", \"tested\", \"tested\", \"tested\", \"tested\", \"tested\", \"tested\", \"tested\", \"tested\", \"tested\", \"tested\", \"tested\", \"tested\", \"tested_positive\", \"tested_positive\", \"tested_positive\", \"tested_positive\", \"tested_positive\", \"tested_positive\", \"tested_positive\", \"tested_positive\", \"tested_positive\", \"tested_positive\", \"tested_positive\", \"thailand\", \"thailand\", \"thailand\", \"thailand\", \"thailand\", \"thailand\", \"thailand\", \"thailand\", \"them\", \"them\", \"them\", \"them\", \"them\", \"them\", \"them\", \"them\", \"them\", \"them\", \"them\", \"them\", \"them\", \"them\", \"them\", \"them\", \"them\", \"them\", \"them\", \"them\", \"them\", \"them\", \"them\", \"them\", \"them\", \"them\", \"them\", \"these\", \"these\", \"these\", \"these\", \"these\", \"these\", \"these\", \"these\", \"these\", \"these\", \"these\", \"these\", \"these\", \"these\", \"these\", \"these\", \"these\", \"these\", \"these\", \"these\", \"they_re\", \"they_re\", \"they_re\", \"they_re\", \"they_re\", \"they_re\", \"they_re\", \"they_re\", \"they_re\", \"thing\", \"thing\", \"thing\", \"thing\", \"thing\", \"thing\", \"thing\", \"thing\", \"thing\", \"thing\", \"thing\", \"thing\", \"thing\", \"thinking\", \"thinking\", \"thinking\", \"thinking\", \"thinking\", \"thinking\", \"thinking\", \"thinking\", \"thinking\", \"third\", \"third\", \"third\", \"third\", \"third\", \"third\", \"third\", \"third\", \"third\", \"third\", \"third\", \"third\", \"third\", \"third\", \"third\", \"third\", \"those\", \"those\", \"those\", \"those\", \"those\", \"those\", \"those\", \"those\", \"those\", \"those\", \"those\", \"those\", \"those\", \"those\", \"those\", \"those\", \"those\", \"those\", \"those\", \"those\", \"those\", \"those\", \"those\", \"those\", \"those_who\", \"those_who\", \"those_who\", \"those_who\", \"those_who\", \"those_who\", \"those_who\", \"those_who\", \"those_who\", \"those_who\", \"those_who\", \"those_who\", \"those_who\", \"those_who\", \"those_who\", \"those_who\", \"thought\", \"thought\", \"thought\", \"thought\", \"thought\", \"thought\", \"thought\", \"three\", \"three\", \"three\", \"three\", \"three\", \"three\", \"three\", \"three\", \"three\", \"three\", \"three\", \"three\", \"three\", \"three\", \"three\", \"three\", \"three\", \"three\", \"three\", \"three\", \"three\", \"throat\", \"throat\", \"throat\", \"throat\", \"throat\", \"through\", \"through\", \"through\", \"through\", \"through\", \"through\", \"through\", \"through\", \"through\", \"through\", \"through\", \"through\", \"through\", \"through\", \"through\", \"through\", \"through\", \"through\", \"through\", \"through\", \"through\", \"through\", \"thursday\", \"thursday\", \"thursday\", \"thursday\", \"thursday\", \"thursday\", \"thursday\", \"thursday\", \"thursday\", \"thursday\", \"thursday\", \"thursday\", \"thursday\", \"thursday\", \"thursday\", \"thursday\", \"time\", \"time\", \"time\", \"time\", \"time\", \"time\", \"time\", \"time\", \"time\", \"time\", \"time\", \"time\", \"time\", \"time\", \"time\", \"time\", \"time\", \"time\", \"time\", \"time\", \"time\", \"time\", \"time\", \"time\", \"time\", \"time\", \"time\", \"time\", \"toilet\", \"toilet\", \"toilet\", \"toilet\", \"toilet\", \"toilet\", \"toilet\", \"toilet\", \"toilet\", \"tokyo\", \"tokyo\", \"tokyo\", \"told\", \"told\", \"told\", \"told\", \"told\", \"told\", \"told\", \"told\", \"told\", \"told\", \"told\", \"told\", \"told\", \"told\", \"told\", \"told\", \"told\", \"told\", \"told\", \"told\", \"told\", \"told\", \"told\", \"told\", \"told\", \"told\", \"told\", \"told_daily\", \"told_daily\", \"told_daily\", \"told_daily\", \"told_daily\", \"told_daily\", \"told_daily\", \"told_daily\", \"told_daily\", \"toll\", \"toll\", \"toll\", \"toll\", \"toll\", \"toll\", \"toll\", \"toll\", \"toll\", \"toll\", \"toll\", \"toll\", \"toll\", \"toll\", \"took\", \"took\", \"took\", \"took\", \"took\", \"took\", \"took\", \"took\", \"took\", \"took\", \"took\", \"took\", \"total\", \"total\", \"total\", \"total\", \"total\", \"total\", \"total\", \"total\", \"total\", \"total\", \"total\", \"total\", \"total\", \"total\", \"total\", \"total_number\", \"total_number\", \"total_number\", \"total_number\", \"total_number\", \"total_number\", \"total_number\", \"total_number\", \"total_number\", \"tour\", \"tour\", \"tour\", \"tour\", \"tour\", \"tour\", \"tour\", \"tourism\", \"tourism\", \"tourism\", \"tourist\", \"tourist\", \"tourist\", \"tourist\", \"tourist\", \"tourist\", \"tourist\", \"tourist\", \"tourist\", \"tourist\", \"town\", \"town\", \"town\", \"town\", \"town\", \"town\", \"town\", \"town\", \"town\", \"town\", \"town\", \"town\", \"track\", \"track\", \"track\", \"track\", \"track\", \"track\", \"trade\", \"trade\", \"trade\", \"trade\", \"trade\", \"trade\", \"trade\", \"trade\", \"trade\", \"travel\", \"travel\", \"travel\", \"travel\", \"travel\", \"travel\", \"travel\", \"travel\", \"travel\", \"travel\", \"travel\", \"travel\", \"travel\", \"travel\", \"travel\", \"travel\", \"travel\", \"travel\", \"travel_ban\", \"travel_ban\", \"travel_ban\", \"travel_ban\", \"travel_ban\", \"travel_ban\", \"travel_ban\", \"traveller\", \"traveller\", \"traveller\", \"traveller\", \"traveller\", \"traveller\", \"traveller\", \"traveller\", \"traveller\", \"traveller\", \"traveller\", \"traveller\", \"traveller\", \"traveller\", \"treat\", \"treat\", \"treat\", \"treat\", \"treat\", \"treat\", \"treat\", \"treatment\", \"treatment\", \"treatment\", \"treatment\", \"treatment\", \"treatment\", \"treatment\", \"treatment\", \"treatment\", \"trigger\", \"trigger\", \"trigger\", \"trigger\", \"trigger\", \"trigger\", \"trip\", \"trip\", \"trip\", \"trip\", \"trip\", \"trip\", \"trip\", \"trip\", \"trip\", \"trip\", \"try\", \"try\", \"try\", \"try\", \"try\", \"tuesday\", \"tuesday\", \"tuesday\", \"tuesday\", \"tuesday\", \"tuesday\", \"tuesday\", \"tuesday\", \"tuesday\", \"tuesday\", \"tuesday\", \"tuesday\", \"tuesday\", \"tuesday\", \"tuesday\", \"tuesday\", \"twitter\", \"twitter\", \"twitter\", \"twitter\", \"twitter\", \"twitter\", \"twitter\", \"twitter\", \"twitter\", \"twitter\", \"two\", \"two\", \"two\", \"two\", \"two\", \"two\", \"two\", \"two\", \"two\", \"two\", \"two\", \"two\", \"two\", \"two\", \"two\", \"two\", \"two\", \"two\", \"two\", \"two\", \"two\", \"two\", \"two\", \"two\", \"two\", \"two\", \"two\", \"two\", \"two_week\", \"two_week\", \"two_week\", \"two_week\", \"two_week\", \"two_week\", \"two_week\", \"two_week\", \"two_week\", \"two_week\", \"two_week\", \"two_week\", \"two_week\", \"two_week\", \"two_week\", \"two_week\", \"type\", \"type\", \"type\", \"type\", \"type\", \"type\", \"type\", \"type\", \"type\", \"typical\", \"typical\", \"typical\", \"typical\", \"u\", \"u\", \"u\", \"u\", \"u\", \"u\", \"u\", \"u\", \"u\", \"u\", \"u\", \"u\", \"u\", \"u\", \"u\", \"u\", \"u\", \"u\", \"u\", \"u\", \"u\", \"u\", \"uk\", \"uk\", \"uk\", \"uk\", \"uk\", \"uk\", \"uk\", \"uk\", \"uk\", \"uk\", \"unable\", \"unable\", \"unable\", \"unable\", \"unable\", \"unable\", \"unable\", \"unable\", \"unclear\", \"unclear\", \"unclear\", \"unclear\", \"unclear\", \"unclear\", \"unclear\", \"unclear\", \"unclear\", \"unclear\", \"unit\", \"unit\", \"unit\", \"unit\", \"unit\", \"unit\", \"unit\", \"unit\", \"unit\", \"unit\", \"unless\", \"unless\", \"unless\", \"unless\", \"unless\", \"unless\", \"unless\", \"unless\", \"unless\", \"unless\", \"unless\", \"unless\", \"unprecedented\", \"unprecedented\", \"unprecedented\", \"unprecedented\", \"unprecedented\", \"unprecedented\", \"unprecedented\", \"unprecedented\", \"unprecedented\", \"untreated\", \"untreated\", \"untreated\", \"unwell\", \"unwell\", \"unwell\", \"unwell\", \"unwell\", \"unwell\", \"updated\", \"updated\", \"updated\", \"updated\", \"updated\", \"updated\", \"updated\", \"updated\", \"updated\", \"updated\", \"updated\", \"updated\", \"updated\", \"updated\", \"updated\", \"updated\", \"updated\", \"updated\", \"updated\", \"updated_aedt\", \"updated_aedt\", \"updated_aedt\", \"updated_aedt\", \"updated_aedt\", \"updated_aedt\", \"updated_aedt\", \"updated_aedt\", \"updated_aedt\", \"updated_aedt\", \"upon\", \"upon\", \"upon\", \"upon\", \"upon\", \"upon\", \"upon\", \"upon\", \"upon\", \"urged\", \"urged\", \"urged\", \"urged\", \"urged\", \"urged\", \"urged\", \"urged\", \"urged\", \"urged\", \"urged\", \"use\", \"use\", \"use\", \"use\", \"use\", \"use\", \"use\", \"use\", \"use\", \"use\", \"use\", \"use\", \"use\", \"use\", \"use\", \"use\", \"use\", \"use\", \"use\", \"used\", \"used\", \"used\", \"used\", \"used\", \"used\", \"used\", \"used\", \"used\", \"used\", \"used\", \"used\", \"used\", \"user\", \"user\", \"user\", \"user\", \"user\", \"user\", \"user\", \"user\", \"using\", \"using\", \"using\", \"using\", \"using\", \"using\", \"using\", \"using\", \"using\", \"using\", \"using\", \"using\", \"using\", \"using\", \"using\", \"usual\", \"usual\", \"usual\", \"usual\", \"usual\", \"usual\", \"usual\", \"usual\", \"usual\", \"usual\", \"usually\", \"usually\", \"usually\", \"usually\", \"usually\", \"usually\", \"usually\", \"usually\", \"usually\", \"ve\", \"ve\", \"ve\", \"ve\", \"ve\", \"ve\", \"ve\", \"ve\", \"ve\", \"ve\", \"ve\", \"ve\", \"ve\", \"ve\", \"ve\", \"ve\", \"ve\", \"ve_been\", \"ve_been\", \"ve_been\", \"ve_been\", \"ve_been\", \"ve_been\", \"ve_been\", \"very\", \"very\", \"very\", \"very\", \"very\", \"very\", \"very\", \"very\", \"very\", \"very\", \"very\", \"very\", \"very\", \"very\", \"very\", \"very\", \"very\", \"very\", \"very\", \"very\", \"very\", \"very\", \"very\", \"very\", \"vessel\", \"vessel\", \"vessel\", \"vessel\", \"vessel\", \"vessel\", \"via\", \"via\", \"via\", \"via\", \"via\", \"via\", \"via\", \"via\", \"via\", \"via\", \"via\", \"via\", \"victim\", \"victim\", \"victim\", \"victim\", \"victim\", \"victim\", \"victorian\", \"victorian\", \"victorian\", \"victorian\", \"victorian\", \"victorian\", \"victorian\", \"victorian\", \"victorian\", \"victorian\", \"victorian\", \"victorian\", \"victorian\", \"victorian\", \"video\", \"video\", \"video\", \"video\", \"video\", \"video\", \"video\", \"video\", \"video\", \"video\", \"video\", \"video\", \"video\", \"video\", \"view\", \"view\", \"view\", \"view\", \"view\", \"view\", \"view\", \"view\", \"view\", \"view\", \"virus\", \"virus\", \"virus\", \"virus\", \"virus\", \"virus\", \"virus\", \"virus\", \"virus\", \"virus\", \"virus\", \"virus\", \"virus\", \"virus\", \"virus\", \"virus\", \"virus\", \"virus\", \"virus\", \"virus\", \"virus\", \"virus\", \"visited\", \"visited\", \"visited\", \"visited\", \"visited\", \"visited\", \"wale_january\", \"wale_january\", \"wale_january\", \"wale_january\", \"wale_january\", \"wale_january\", \"wale_january\", \"wale_january\", \"wale_january\", \"walk\", \"walk\", \"walk\", \"walk\", \"walk\", \"walk\", \"walk\", \"walk\", \"walk\", \"walk\", \"want\", \"want\", \"want\", \"want\", \"want\", \"want\", \"want\", \"want\", \"want\", \"want\", \"want\", \"want\", \"want\", \"want\", \"want\", \"want\", \"want\", \"warned\", \"warned\", \"warned\", \"warned\", \"warned\", \"warned\", \"warned\", \"warned\", \"warned\", \"warned\", \"warned\", \"warned\", \"warned\", \"warned\", \"warned\", \"warned\", \"warned\", \"wasn\", \"wasn\", \"wasn\", \"wasn\", \"wasn\", \"wasn\", \"wasn\", \"wasn\", \"water\", \"water\", \"water\", \"water\", \"water\", \"water\", \"water\", \"water\", \"water\", \"water\", \"way\", \"way\", \"way\", \"way\", \"way\", \"way\", \"way\", \"way\", \"way\", \"way\", \"way\", \"way\", \"way\", \"way\", \"way\", \"way\", \"way\", \"way\", \"way\", \"we_don\", \"we_don\", \"we_don\", \"we_don\", \"we_don\", \"we_don\", \"we_don\", \"we_don\", \"we_don\", \"we_don\", \"we_need\", \"we_need\", \"we_need\", \"we_need\", \"we_need\", \"we_need\", \"we_need\", \"we_need\", \"wear\", \"wear\", \"wear\", \"wear\", \"wear\", \"wear\", \"wear\", \"wear\", \"wear\", \"wear\", \"wear\", \"wearing\", \"wearing\", \"wearing\", \"wearing\", \"wearing\", \"wearing\", \"wearing\", \"wearing\", \"wearing\", \"wearing\", \"wearing\", \"wearing\", \"wearing\", \"wearing\", \"wearing\", \"wearing\", \"wearing_protective\", \"wearing_protective\", \"wearing_protective\", \"wearing_protective\", \"wearing_protective\", \"wearing_protective\", \"wearing_protective\", \"weather\", \"weather\", \"weather\", \"weather\", \"weather\", \"weather\", \"website\", \"website\", \"website\", \"website\", \"website\", \"website\", \"website\", \"website\", \"website\", \"website\", \"website\", \"wednesday\", \"wednesday\", \"wednesday\", \"wednesday\", \"wednesday\", \"wednesday\", \"wednesday\", \"wednesday\", \"wednesday\", \"wednesday\", \"wednesday\", \"wednesday\", \"wednesday\", \"wednesday\", \"wednesday\", \"wednesday\", \"week\", \"week\", \"week\", \"week\", \"week\", \"week\", \"week\", \"week\", \"week\", \"week\", \"week\", \"week\", \"week\", \"week\", \"week\", \"week\", \"week\", \"week\", \"week\", \"week\", \"week\", \"week\", \"week\", \"weekend\", \"weekend\", \"weekend\", \"weekend\", \"weekend\", \"weekend\", \"weekend\", \"weekend\", \"weekend\", \"weekend\", \"weekend\", \"weekend\", \"well\", \"well\", \"well\", \"well\", \"well\", \"well\", \"well\", \"well\", \"well\", \"well\", \"well\", \"well\", \"well\", \"well\", \"well\", \"well\", \"well\", \"well\", \"well\", \"well\", \"well\", \"west\", \"west\", \"west\", \"west\", \"west\", \"west\", \"west\", \"west\", \"west\", \"west\", \"west\", \"west\", \"west\", \"western\", \"western\", \"western\", \"western\", \"western\", \"western\", \"western\", \"western\", \"western\", \"western\", \"western\", \"western\", \"western\", \"western\", \"western\", \"western\", \"western\", \"western\", \"western\", \"western_australia\", \"western_australia\", \"western_australia\", \"western_australia\", \"western_australia\", \"western_australia\", \"western_australia\", \"western_australia\", \"western_australia\", \"western_australia\", \"what\", \"what\", \"what\", \"what\", \"what\", \"what\", \"what\", \"what\", \"what\", \"what\", \"what\", \"what\", \"what\", \"what\", \"what\", \"what\", \"what\", \"what\", \"what\", \"what\", \"when\", \"when\", \"when\", \"when\", \"when\", \"when\", \"when\", \"when\", \"when\", \"when\", \"when\", \"when\", \"when\", \"when\", \"when\", \"when\", \"when\", \"when\", \"when\", \"when\", \"when\", \"when\", \"when\", \"when\", \"when\", \"when\", \"when\", \"where\", \"where\", \"where\", \"where\", \"where\", \"where\", \"where\", \"where\", \"where\", \"where\", \"where\", \"where\", \"where\", \"where\", \"where\", \"where\", \"where\", \"where\", \"where\", \"where\", \"where\", \"where\", \"where\", \"where\", \"while\", \"while\", \"while\", \"while\", \"while\", \"while\", \"while\", \"while\", \"while\", \"while\", \"while\", \"while\", \"while\", \"while\", \"while\", \"while\", \"while\", \"while\", \"while\", \"while\", \"while\", \"while\", \"while\", \"while\", \"while\", \"while\", \"while\", \"whole\", \"whole\", \"whole\", \"whole\", \"whole\", \"whole\", \"whole\", \"whom\", \"whom\", \"whom\", \"whom\", \"whom\", \"whom\", \"whom\", \"wide\", \"wide\", \"wide\", \"wide\", \"wide\", \"wide\", \"wide\", \"wide\", \"wife\", \"wife\", \"wife\", \"wife\", \"wife\", \"wife\", \"will_be\", \"will_be\", \"will_be\", \"will_be\", \"will_be\", \"will_be\", \"will_be\", \"will_be\", \"will_be\", \"will_be\", \"will_be\", \"will_be\", \"will_be\", \"will_be\", \"will_be\", \"will_be\", \"will_be\", \"will_be\", \"will_be\", \"will_be\", \"will_be\", \"will_be\", \"woman\", \"woman\", \"woman\", \"woman\", \"woman\", \"woman\", \"woman\", \"woman\", \"woman\", \"woman\", \"woman\", \"woman\", \"woman\", \"woman\", \"woman\", \"woman\", \"woman\", \"woman_aged\", \"woman_aged\", \"woman_aged\", \"woman_aged\", \"won\", \"won\", \"won\", \"won\", \"won\", \"won\", \"won\", \"won\", \"won\", \"won\", \"won\", \"work\", \"work\", \"work\", \"work\", \"work\", \"work\", \"work\", \"work\", \"work\", \"work\", \"work\", \"work\", \"work\", \"work\", \"work\", \"work\", \"work\", \"work\", \"work\", \"work\", \"work\", \"work\", \"worker\", \"worker\", \"worker\", \"worker\", \"worker\", \"worker\", \"worker\", \"worker\", \"worker\", \"worker\", \"worker\", \"worker\", \"worker\", \"worker\", \"worker\", \"working\", \"working\", \"working\", \"working\", \"working\", \"working\", \"working\", \"working\", \"working\", \"working\", \"working\", \"working\", \"working\", \"working\", \"working\", \"working\", \"working\", \"working\", \"working\", \"working\", \"working\", \"working\", \"world\", \"world\", \"world\", \"world\", \"world\", \"world\", \"world\", \"world\", \"world\", \"world\", \"world\", \"world\", \"world\", \"world\", \"world\", \"world\", \"world\", \"world\", \"world\", \"world\", \"world\", \"world\", \"world\", \"world\", \"worried\", \"worried\", \"worried\", \"worried\", \"worried\", \"worried\", \"worried\", \"worried\", \"worse\", \"worse\", \"worse\", \"worse\", \"worse\", \"worse\", \"worse\", \"worse\", \"worse\", \"worse\", \"worse\", \"worst\", \"worst\", \"worst\", \"worst\", \"worst\", \"worst\", \"worst\", \"worst\", \"worst\", \"worst\", \"worst\", \"worth\", \"worth\", \"worth\", \"worth\", \"worth\", \"worth\", \"worth\", \"worth\", \"would\", \"would\", \"would\", \"would\", \"would\", \"would\", \"would\", \"would\", \"would\", \"would\", \"would\", \"would\", \"would\", \"would\", \"would\", \"would\", \"would\", \"would\", \"would\", \"would\", \"would\", \"would\", \"would\", \"would\", \"would\", \"would\", \"would\", \"would\", \"would_be\", \"would_be\", \"would_be\", \"would_be\", \"would_be\", \"would_be\", \"would_be\", \"would_be\", \"would_be\", \"would_be\", \"would_be\", \"would_be\", \"would_be\", \"would_be\", \"would_be\", \"would_be\", \"would_be\", \"would_be\", \"would_be\", \"would_be\", \"wrote\", \"wrote\", \"wrote\", \"wrote\", \"wrote\", \"wrote\", \"wrote\", \"wrote\", \"wrote\", \"wrote\", \"wrote\", \"wrote\", \"wuhan\", \"wuhan\", \"wuhan\", \"wuhan\", \"wuhan\", \"wuhan\", \"wuhan\", \"wuhan\", \"wuhan\", \"wuhan\", \"wuhan\", \"wuhan\", \"year_old\", \"year_old\", \"year_old\", \"year_old\", \"year_old\", \"year_old\", \"year_old\", \"year_old\", \"year_old\", \"year_old\", \"year_old\", \"year_old\", \"year_old\", \"year_old\", \"year_old\", \"yokohama\", \"yokohama\", \"york\", \"york\", \"york\", \"york\", \"york\", \"york\", \"you\", \"you\", \"you\", \"you\", \"you\", \"you\", \"you\", \"you\", \"you\", \"you\", \"you\", \"you\", \"you\", \"you\", \"you\", \"you\", \"you\", \"you\", \"you\", \"you\", \"you\", \"you\", \"you\", \"you\", \"young\", \"young\", \"young\", \"young\", \"young\", \"young\", \"young\", \"young\", \"young\", \"young\", \"young\", \"young\", \"young\", \"young\", \"young\", \"your\", \"your\", \"your\", \"your\", \"your\", \"your\", \"your\", \"your\", \"your\", \"your\", \"your\", \"your\", \"your\", \"your\", \"your\", \"your\", \"your\", \"zealand\", \"zealand\", \"zealand\", \"zealand\", \"zealand\", \"zealand\", \"zealand\", \"zealand\", \"zealand\", \"zealand\", \"zealand\", \"zealand\", \"zealand\"]}, \"R\": 30, \"lambda.step\": 0.01, \"plot.opts\": {\"xlab\": \"PC1\", \"ylab\": \"PC2\"}, \"topic.order\": [22, 8, 18, 14, 27, 2, 1, 24, 9, 29, 28, 4, 11, 17, 23, 15, 26, 21, 13, 19, 5, 20, 3, 7, 16, 30, 12, 10, 25, 6]};\n",
       "\n",
       "function LDAvis_load_lib(url, callback){\n",
       "  var s = document.createElement('script');\n",
       "  s.src = url;\n",
       "  s.async = true;\n",
       "  s.onreadystatechange = s.onload = callback;\n",
       "  s.onerror = function(){console.warn(\"failed to load library \" + url);};\n",
       "  document.getElementsByTagName(\"head\")[0].appendChild(s);\n",
       "}\n",
       "\n",
       "if(typeof(LDAvis) !== \"undefined\"){\n",
       "   // already loaded: just create the visualization\n",
       "   !function(LDAvis){\n",
       "       new LDAvis(\"#\" + \"ldavis_el86251125030736729800095797\", ldavis_el86251125030736729800095797_data);\n",
       "   }(LDAvis);\n",
       "}else if(typeof define === \"function\" && define.amd){\n",
       "   // require.js is available: use it to load d3/LDAvis\n",
       "   require.config({paths: {d3: \"https://cdnjs.cloudflare.com/ajax/libs/d3/3.5.5/d3.min\"}});\n",
       "   require([\"d3\"], function(d3){\n",
       "      window.d3 = d3;\n",
       "      LDAvis_load_lib(\"https://cdn.rawgit.com/bmabey/pyLDAvis/files/ldavis.v1.0.0.js\", function(){\n",
       "        new LDAvis(\"#\" + \"ldavis_el86251125030736729800095797\", ldavis_el86251125030736729800095797_data);\n",
       "      });\n",
       "    });\n",
       "}else{\n",
       "    // require.js not available: dynamically load d3 & LDAvis\n",
       "    LDAvis_load_lib(\"https://cdnjs.cloudflare.com/ajax/libs/d3/3.5.5/d3.min.js\", function(){\n",
       "         LDAvis_load_lib(\"https://cdn.rawgit.com/bmabey/pyLDAvis/files/ldavis.v1.0.0.js\", function(){\n",
       "                 new LDAvis(\"#\" + \"ldavis_el86251125030736729800095797\", ldavis_el86251125030736729800095797_data);\n",
       "            })\n",
       "         });\n",
       "}\n",
       "</script>"
      ],
      "text/plain": [
       "<IPython.core.display.HTML object>"
      ]
     },
     "execution_count": 66,
     "metadata": {},
     "output_type": "execute_result"
    }
   ],
   "source": [
    "import pyLDAvis.gensim\n",
    "lda_display = pyLDAvis.gensim.prepare(model, corpus, dictionary, sort_topics=True)\n",
    "pyLDAvis.display(lda_display)"
   ]
  },
  {
   "cell_type": "code",
   "execution_count": null,
   "metadata": {},
   "outputs": [],
   "source": []
  }
 ],
 "metadata": {
  "accelerator": "GPU",
  "colab": {
   "collapsed_sections": [],
   "name": "code_30287804.ipynb",
   "provenance": []
  },
  "kernelspec": {
   "display_name": "Python 3",
   "language": "python",
   "name": "python3"
  },
  "language_info": {
   "codemirror_mode": {
    "name": "ipython",
    "version": 3
   },
   "file_extension": ".py",
   "mimetype": "text/x-python",
   "name": "python",
   "nbconvert_exporter": "python",
   "pygments_lexer": "ipython3",
   "version": "3.7.3"
  }
 },
 "nbformat": 4,
 "nbformat_minor": 1
}
